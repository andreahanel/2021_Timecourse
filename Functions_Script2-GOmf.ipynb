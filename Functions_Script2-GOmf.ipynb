{
 "cells": [
  {
   "cell_type": "code",
   "execution_count": 1,
   "id": "delayed-holmes",
   "metadata": {},
   "outputs": [
    {
     "name": "stderr",
     "output_type": "stream",
     "text": [
      "-- \u001b[1mAttaching packages\u001b[22m ------------------------------------------------------------------------ tidyverse 1.3.1 --\n",
      "\n",
      "\u001b[32mv\u001b[39m \u001b[34mggplot2\u001b[39m 3.3.3     \u001b[32mv\u001b[39m \u001b[34mpurrr  \u001b[39m 0.3.4\n",
      "\u001b[32mv\u001b[39m \u001b[34mtibble \u001b[39m 3.1.0     \u001b[32mv\u001b[39m \u001b[34mdplyr  \u001b[39m 1.0.5\n",
      "\u001b[32mv\u001b[39m \u001b[34mtidyr  \u001b[39m 1.1.3     \u001b[32mv\u001b[39m \u001b[34mstringr\u001b[39m 1.4.0\n",
      "\u001b[32mv\u001b[39m \u001b[34mreadr  \u001b[39m 1.4.0     \u001b[32mv\u001b[39m \u001b[34mforcats\u001b[39m 0.5.1\n",
      "\n",
      "-- \u001b[1mConflicts\u001b[22m --------------------------------------------------------------------------- tidyverse_conflicts() --\n",
      "\u001b[31mx\u001b[39m \u001b[34mdplyr\u001b[39m::\u001b[32mfilter()\u001b[39m masks \u001b[34mstats\u001b[39m::filter()\n",
      "\u001b[31mx\u001b[39m \u001b[34mdplyr\u001b[39m::\u001b[32mlag()\u001b[39m    masks \u001b[34mstats\u001b[39m::lag()\n",
      "\n",
      "\n",
      "Attaching package: 'reshape2'\n",
      "\n",
      "\n",
      "The following object is masked from 'package:tidyr':\n",
      "\n",
      "    smiths\n",
      "\n",
      "\n"
     ]
    }
   ],
   "source": [
    "library (tidyverse)\n",
    "library (openxlsx)\n",
    "library (statmod)\n",
    "library (reshape2)\n",
    "library (readr)"
   ]
  },
  {
   "cell_type": "code",
   "execution_count": 2,
   "id": "focal-chuck",
   "metadata": {},
   "outputs": [],
   "source": [
    "d <- read.delim(file = \"./data/Uniprot_raw_final.tsv\", sep = '\\t', header = TRUE)"
   ]
  },
  {
   "cell_type": "code",
   "execution_count": 3,
   "id": "elder-module",
   "metadata": {},
   "outputs": [],
   "source": [
    "GO_bp <- gsub(\"\\\\s*\\\\{[^\\\\}]+\\\\}\",\"\",as.character(d$Gene.ontology..biological.process))\n",
    "GO_cc <- gsub(\"\\\\s*\\\\{[^\\\\}]+\\\\}\",\"\",as.character(d$Gene.ontology..cellular.component))\n",
    "GO_mf <- gsub(\"\\\\s*\\\\{[^\\\\}]+\\\\}\",\"\",as.character(d$Gene.ontology..molecular.function))\n",
    "GO <- gsub(\"\\\\s*\\\\{[^\\\\}]+\\\\}\",\"\",as.character(d$Gene.ontology..GO))"
   ]
  },
  {
   "cell_type": "code",
   "execution_count": 4,
   "id": "protecting-pastor",
   "metadata": {},
   "outputs": [],
   "source": [
    "d$GO_bp <- gsub(\"\\\\[.*?\\\\]\",\"\",as.character(GO_bp))\n",
    "d$GO_cc <- gsub(\"\\\\[.*?\\\\]\",\"\",as.character(GO_cc))\n",
    "d$GO_mf <- gsub (\"\\\\[.*?\\\\]\",\"\",as.character(GO_mf))\n",
    "d$GO <- gsub (\"\\\\[.*?\\\\]\",\"\",as.character(GO))"
   ]
  },
  {
   "cell_type": "code",
   "execution_count": 5,
   "id": "through-aquatic",
   "metadata": {},
   "outputs": [],
   "source": [
    "protname <- gsub(\"\\\\s*\\\\([^\\\\)]+\\\\)\",\"\",as.character(d$Protein.names))\n",
    "protname <- gsub(\"\\\\[.*?\\\\]\",\"\",as.character(protname))"
   ]
  },
  {
   "cell_type": "code",
   "execution_count": 6,
   "id": "exceptional-frequency",
   "metadata": {},
   "outputs": [
    {
     "data": {
      "text/html": [
       "<style>\n",
       ".list-inline {list-style: none; margin:0; padding: 0}\n",
       ".list-inline>li {display: inline-block}\n",
       ".list-inline>li:not(:last-child)::after {content: \"\\00b7\"; padding: 0 .5ex}\n",
       "</style>\n",
       "<ol class=list-inline><li>'Pyrin'</li><li>'Retinoic acid receptor RXR-alpha'</li><li>'Allergin-1'</li><li>'Protein-glutamine gamma-glutamyltransferase 2)))))'</li><li>'Melanotransferrin'</li><li>'PML-RARA-regulated adapter molecule 1'</li></ol>\n"
      ],
      "text/latex": [
       "\\begin{enumerate*}\n",
       "\\item 'Pyrin'\n",
       "\\item 'Retinoic acid receptor RXR-alpha'\n",
       "\\item 'Allergin-1'\n",
       "\\item 'Protein-glutamine gamma-glutamyltransferase 2)))))'\n",
       "\\item 'Melanotransferrin'\n",
       "\\item 'PML-RARA-regulated adapter molecule 1'\n",
       "\\end{enumerate*}\n"
      ],
      "text/markdown": [
       "1. 'Pyrin'\n",
       "2. 'Retinoic acid receptor RXR-alpha'\n",
       "3. 'Allergin-1'\n",
       "4. 'Protein-glutamine gamma-glutamyltransferase 2)))))'\n",
       "5. 'Melanotransferrin'\n",
       "6. 'PML-RARA-regulated adapter molecule 1'\n",
       "\n",
       "\n"
      ],
      "text/plain": [
       "[1] \"Pyrin\"                                             \n",
       "[2] \"Retinoic acid receptor RXR-alpha\"                  \n",
       "[3] \"Allergin-1\"                                        \n",
       "[4] \"Protein-glutamine gamma-glutamyltransferase 2)))))\"\n",
       "[5] \"Melanotransferrin\"                                 \n",
       "[6] \"PML-RARA-regulated adapter molecule 1\"             "
      ]
     },
     "metadata": {},
     "output_type": "display_data"
    }
   ],
   "source": [
    "head (protname )"
   ]
  },
  {
   "cell_type": "code",
   "execution_count": 7,
   "id": "useful-reverse",
   "metadata": {},
   "outputs": [],
   "source": [
    "#head (d$GO)\n",
    "\n",
    "d$GO <- gsub(\"; \",\";\",as.character(d$GO))\n",
    "d$GO <- gsub(\" ;\",\";\",as.character(d$GO))\n",
    "\n",
    "d$GO_mf <- gsub(\"; \",\";\",as.character(d$GO_mf))\n",
    "d$GO_mf <- gsub(\" ;\",\";\",as.character(d$GO_mf))\n",
    "\n",
    "d$GO_bp <- gsub(\"; \",\";\",as.character(d$GO_bp))\n",
    "d$GO_bp  <- gsub(\" ;\",\";\",as.character(d$GO_bp))\n",
    "\n",
    "d$GO_mf = str_trim(d$GO_mf, side = c(\"both\"))\n",
    "d$GO_bp = str_trim(d$GO_bp, side = c(\"both\"))\n",
    "d$GO = str_trim(d$GO, side = c(\"both\"))\n",
    "\n",
    "#head (d$GO_mf)\n",
    "#head (d$GO_bp)"
   ]
  },
  {
   "cell_type": "code",
   "execution_count": 8,
   "id": "civilian-overhead",
   "metadata": {},
   "outputs": [
    {
     "data": {
      "text/html": [
       "<style>\n",
       ".list-inline {list-style: none; margin:0; padding: 0}\n",
       ".list-inline>li {display: inline-block}\n",
       ".list-inline>li:not(:last-child)::after {content: \"\\00b7\"; padding: 0 .5ex}\n",
       "</style>\n",
       "<ol class=list-inline><li>'MEFV'</li><li>'RXRA'</li><li>'MILR1'</li><li>'TGM2'</li><li>'MELTF'</li><li>'PRAM1'</li></ol>\n"
      ],
      "text/latex": [
       "\\begin{enumerate*}\n",
       "\\item 'MEFV'\n",
       "\\item 'RXRA'\n",
       "\\item 'MILR1'\n",
       "\\item 'TGM2'\n",
       "\\item 'MELTF'\n",
       "\\item 'PRAM1'\n",
       "\\end{enumerate*}\n"
      ],
      "text/markdown": [
       "1. 'MEFV'\n",
       "2. 'RXRA'\n",
       "3. 'MILR1'\n",
       "4. 'TGM2'\n",
       "5. 'MELTF'\n",
       "6. 'PRAM1'\n",
       "\n",
       "\n"
      ],
      "text/plain": [
       "[1] \"MEFV\"  \"RXRA\"  \"MILR1\" \"TGM2\"  \"MELTF\" \"PRAM1\""
      ]
     },
     "metadata": {},
     "output_type": "display_data"
    }
   ],
   "source": [
    "genes <- (d [ ,1])\n",
    "head (genes)"
   ]
  },
  {
   "cell_type": "markdown",
   "id": "domestic-pursuit",
   "metadata": {},
   "source": [
    "## Prepare list of all terms for manual inspection"
   ]
  },
  {
   "cell_type": "code",
   "execution_count": 9,
   "id": "effective-amber",
   "metadata": {},
   "outputs": [],
   "source": [
    "d_v1 = d %>%\n",
    " #group_by(A, B) %>%\n",
    " summarize(text = str_c(unique (GO_mf), collapse = \";\"))"
   ]
  },
  {
   "cell_type": "code",
   "execution_count": 10,
   "id": "cross-sculpture",
   "metadata": {},
   "outputs": [],
   "source": [
    "x=  (unlist(d_v1))\n",
    "x2 = (unique (x))\n",
    "x3 = data.frame(new_row = unlist(strsplit(as.character(x2), \";\")))\n",
    "x4 = x3 %>%\n",
    "distinct ()"
   ]
  },
  {
   "cell_type": "code",
   "execution_count": 11,
   "id": "solar-breeding",
   "metadata": {},
   "outputs": [
    {
     "data": {
      "text/html": [
       "<style>\n",
       ".list-inline {list-style: none; margin:0; padding: 0}\n",
       ".list-inline>li {display: inline-block}\n",
       ".list-inline>li:not(:last-child)::after {content: \"\\00b7\"; padding: 0 .5ex}\n",
       "</style>\n",
       "<ol class=list-inline><li>2477</li><li>1</li></ol>\n"
      ],
      "text/latex": [
       "\\begin{enumerate*}\n",
       "\\item 2477\n",
       "\\item 1\n",
       "\\end{enumerate*}\n"
      ],
      "text/markdown": [
       "1. 2477\n",
       "2. 1\n",
       "\n",
       "\n"
      ],
      "text/plain": [
       "[1] 2477    1"
      ]
     },
     "metadata": {},
     "output_type": "display_data"
    },
    {
     "data": {
      "text/html": [
       "<style>\n",
       ".list-inline {list-style: none; margin:0; padding: 0}\n",
       ".list-inline>li {display: inline-block}\n",
       ".list-inline>li:not(:last-child)::after {content: \"\\00b7\"; padding: 0 .5ex}\n",
       "</style>\n",
       "<ol class=list-inline><li>929</li><li>1</li></ol>\n"
      ],
      "text/latex": [
       "\\begin{enumerate*}\n",
       "\\item 929\n",
       "\\item 1\n",
       "\\end{enumerate*}\n"
      ],
      "text/markdown": [
       "1. 929\n",
       "2. 1\n",
       "\n",
       "\n"
      ],
      "text/plain": [
       "[1] 929   1"
      ]
     },
     "metadata": {},
     "output_type": "display_data"
    },
    {
     "data": {
      "text/html": [
       "<table class=\"dataframe\">\n",
       "<caption>A data.frame: 6 × 1</caption>\n",
       "<thead>\n",
       "\t<tr><th></th><th scope=col>new_row</th></tr>\n",
       "\t<tr><th></th><th scope=col>&lt;chr&gt;</th></tr>\n",
       "</thead>\n",
       "<tbody>\n",
       "\t<tr><th scope=row>1</th><td>actin binding                            </td></tr>\n",
       "\t<tr><th scope=row>2</th><td>identical protein binding                </td></tr>\n",
       "\t<tr><th scope=row>3</th><td>ubiquitin protein ligase activity        </td></tr>\n",
       "\t<tr><th scope=row>4</th><td>zinc ion binding                         </td></tr>\n",
       "\t<tr><th scope=row>5</th><td>DNA binding domain binding               </td></tr>\n",
       "\t<tr><th scope=row>6</th><td>DNA-binding transcription factor activity</td></tr>\n",
       "</tbody>\n",
       "</table>\n"
      ],
      "text/latex": [
       "A data.frame: 6 × 1\n",
       "\\begin{tabular}{r|l}\n",
       "  & new\\_row\\\\\n",
       "  & <chr>\\\\\n",
       "\\hline\n",
       "\t1 & actin binding                            \\\\\n",
       "\t2 & identical protein binding                \\\\\n",
       "\t3 & ubiquitin protein ligase activity        \\\\\n",
       "\t4 & zinc ion binding                         \\\\\n",
       "\t5 & DNA binding domain binding               \\\\\n",
       "\t6 & DNA-binding transcription factor activity\\\\\n",
       "\\end{tabular}\n"
      ],
      "text/markdown": [
       "\n",
       "A data.frame: 6 × 1\n",
       "\n",
       "| <!--/--> | new_row &lt;chr&gt; |\n",
       "|---|---|\n",
       "| 1 | actin binding                             |\n",
       "| 2 | identical protein binding                 |\n",
       "| 3 | ubiquitin protein ligase activity         |\n",
       "| 4 | zinc ion binding                          |\n",
       "| 5 | DNA binding domain binding                |\n",
       "| 6 | DNA-binding transcription factor activity |\n",
       "\n"
      ],
      "text/plain": [
       "  new_row                                  \n",
       "1 actin binding                            \n",
       "2 identical protein binding                \n",
       "3 ubiquitin protein ligase activity        \n",
       "4 zinc ion binding                         \n",
       "5 DNA binding domain binding               \n",
       "6 DNA-binding transcription factor activity"
      ]
     },
     "metadata": {},
     "output_type": "display_data"
    }
   ],
   "source": [
    "dim(x3)\n",
    "dim (x4)\n",
    "head (x4)"
   ]
  },
  {
   "cell_type": "code",
   "execution_count": 12,
   "id": "searching-watch",
   "metadata": {},
   "outputs": [],
   "source": [
    "#write.xlsx (x4, \"./GO_mf_allterms_v10.1.xlsx\", row.names = T)"
   ]
  },
  {
   "cell_type": "markdown",
   "id": "practical-hundred",
   "metadata": {},
   "source": [
    "### Matching of the prepared terms"
   ]
  },
  {
   "cell_type": "code",
   "execution_count": 13,
   "id": "finite-award",
   "metadata": {},
   "outputs": [],
   "source": [
    "dc <- d %>%\n",
    "select (., c(\"Gene.names...primary..\",\"GO\"))\n",
    "\n",
    "#head (dc)"
   ]
  },
  {
   "cell_type": "code",
   "execution_count": 14,
   "id": "printable-compound",
   "metadata": {},
   "outputs": [
    {
     "data": {
      "text/html": [
       "<table class=\"dataframe\">\n",
       "<caption>A tibble: 6 × 3</caption>\n",
       "<thead>\n",
       "\t<tr><th scope=col>Gene.names...primary..</th><th scope=col>GO</th><th scope=col>term</th></tr>\n",
       "\t<tr><th scope=col>&lt;chr&gt;</th><th scope=col>&lt;chr&gt;</th><th scope=col>&lt;chr&gt;</th></tr>\n",
       "</thead>\n",
       "<tbody>\n",
       "\t<tr><td>MEFV</td><td>autophagosome;cytoplasm;cytoplasmic vesicle;cytosol;lamellipodium;microtubule;microtubule associated complex;nucleoplasm;nucleus;ruffle;actin binding;identical protein binding;ubiquitin protein ligase activity;zinc ion binding;inflammatory response;innate immune response;negative regulation of cytokine production involved in inflammatory response;negative regulation of inflammatory response;negative regulation of interleukin-1 beta production;negative regulation of interleukin-12 production;negative regulation of macrophage inflammatory protein 1 alpha production;negative regulation of NLRP3 inflammasome complex assembly;positive regulation of autophagy;positive regulation of cysteine-type endopeptidase activity;protein ubiquitination;purinergic nucleotide receptor signaling pathway;pyroptosome complex assembly;regulation of gene expression;regulation of interleukin-1 beta production;response to interferon-gamma</td><td>autophagosome      </td></tr>\n",
       "\t<tr><td>MEFV</td><td>autophagosome;cytoplasm;cytoplasmic vesicle;cytosol;lamellipodium;microtubule;microtubule associated complex;nucleoplasm;nucleus;ruffle;actin binding;identical protein binding;ubiquitin protein ligase activity;zinc ion binding;inflammatory response;innate immune response;negative regulation of cytokine production involved in inflammatory response;negative regulation of inflammatory response;negative regulation of interleukin-1 beta production;negative regulation of interleukin-12 production;negative regulation of macrophage inflammatory protein 1 alpha production;negative regulation of NLRP3 inflammasome complex assembly;positive regulation of autophagy;positive regulation of cysteine-type endopeptidase activity;protein ubiquitination;purinergic nucleotide receptor signaling pathway;pyroptosome complex assembly;regulation of gene expression;regulation of interleukin-1 beta production;response to interferon-gamma</td><td>cytoplasm          </td></tr>\n",
       "\t<tr><td>MEFV</td><td>autophagosome;cytoplasm;cytoplasmic vesicle;cytosol;lamellipodium;microtubule;microtubule associated complex;nucleoplasm;nucleus;ruffle;actin binding;identical protein binding;ubiquitin protein ligase activity;zinc ion binding;inflammatory response;innate immune response;negative regulation of cytokine production involved in inflammatory response;negative regulation of inflammatory response;negative regulation of interleukin-1 beta production;negative regulation of interleukin-12 production;negative regulation of macrophage inflammatory protein 1 alpha production;negative regulation of NLRP3 inflammasome complex assembly;positive regulation of autophagy;positive regulation of cysteine-type endopeptidase activity;protein ubiquitination;purinergic nucleotide receptor signaling pathway;pyroptosome complex assembly;regulation of gene expression;regulation of interleukin-1 beta production;response to interferon-gamma</td><td>cytoplasmic vesicle</td></tr>\n",
       "\t<tr><td>MEFV</td><td>autophagosome;cytoplasm;cytoplasmic vesicle;cytosol;lamellipodium;microtubule;microtubule associated complex;nucleoplasm;nucleus;ruffle;actin binding;identical protein binding;ubiquitin protein ligase activity;zinc ion binding;inflammatory response;innate immune response;negative regulation of cytokine production involved in inflammatory response;negative regulation of inflammatory response;negative regulation of interleukin-1 beta production;negative regulation of interleukin-12 production;negative regulation of macrophage inflammatory protein 1 alpha production;negative regulation of NLRP3 inflammasome complex assembly;positive regulation of autophagy;positive regulation of cysteine-type endopeptidase activity;protein ubiquitination;purinergic nucleotide receptor signaling pathway;pyroptosome complex assembly;regulation of gene expression;regulation of interleukin-1 beta production;response to interferon-gamma</td><td>cytosol            </td></tr>\n",
       "\t<tr><td>MEFV</td><td>autophagosome;cytoplasm;cytoplasmic vesicle;cytosol;lamellipodium;microtubule;microtubule associated complex;nucleoplasm;nucleus;ruffle;actin binding;identical protein binding;ubiquitin protein ligase activity;zinc ion binding;inflammatory response;innate immune response;negative regulation of cytokine production involved in inflammatory response;negative regulation of inflammatory response;negative regulation of interleukin-1 beta production;negative regulation of interleukin-12 production;negative regulation of macrophage inflammatory protein 1 alpha production;negative regulation of NLRP3 inflammasome complex assembly;positive regulation of autophagy;positive regulation of cysteine-type endopeptidase activity;protein ubiquitination;purinergic nucleotide receptor signaling pathway;pyroptosome complex assembly;regulation of gene expression;regulation of interleukin-1 beta production;response to interferon-gamma</td><td>lamellipodium      </td></tr>\n",
       "\t<tr><td>MEFV</td><td>autophagosome;cytoplasm;cytoplasmic vesicle;cytosol;lamellipodium;microtubule;microtubule associated complex;nucleoplasm;nucleus;ruffle;actin binding;identical protein binding;ubiquitin protein ligase activity;zinc ion binding;inflammatory response;innate immune response;negative regulation of cytokine production involved in inflammatory response;negative regulation of inflammatory response;negative regulation of interleukin-1 beta production;negative regulation of interleukin-12 production;negative regulation of macrophage inflammatory protein 1 alpha production;negative regulation of NLRP3 inflammasome complex assembly;positive regulation of autophagy;positive regulation of cysteine-type endopeptidase activity;protein ubiquitination;purinergic nucleotide receptor signaling pathway;pyroptosome complex assembly;regulation of gene expression;regulation of interleukin-1 beta production;response to interferon-gamma</td><td>microtubule        </td></tr>\n",
       "</tbody>\n",
       "</table>\n"
      ],
      "text/latex": [
       "A tibble: 6 × 3\n",
       "\\begin{tabular}{lll}\n",
       " Gene.names...primary.. & GO & term\\\\\n",
       " <chr> & <chr> & <chr>\\\\\n",
       "\\hline\n",
       "\t MEFV & autophagosome;cytoplasm;cytoplasmic vesicle;cytosol;lamellipodium;microtubule;microtubule associated complex;nucleoplasm;nucleus;ruffle;actin binding;identical protein binding;ubiquitin protein ligase activity;zinc ion binding;inflammatory response;innate immune response;negative regulation of cytokine production involved in inflammatory response;negative regulation of inflammatory response;negative regulation of interleukin-1 beta production;negative regulation of interleukin-12 production;negative regulation of macrophage inflammatory protein 1 alpha production;negative regulation of NLRP3 inflammasome complex assembly;positive regulation of autophagy;positive regulation of cysteine-type endopeptidase activity;protein ubiquitination;purinergic nucleotide receptor signaling pathway;pyroptosome complex assembly;regulation of gene expression;regulation of interleukin-1 beta production;response to interferon-gamma & autophagosome      \\\\\n",
       "\t MEFV & autophagosome;cytoplasm;cytoplasmic vesicle;cytosol;lamellipodium;microtubule;microtubule associated complex;nucleoplasm;nucleus;ruffle;actin binding;identical protein binding;ubiquitin protein ligase activity;zinc ion binding;inflammatory response;innate immune response;negative regulation of cytokine production involved in inflammatory response;negative regulation of inflammatory response;negative regulation of interleukin-1 beta production;negative regulation of interleukin-12 production;negative regulation of macrophage inflammatory protein 1 alpha production;negative regulation of NLRP3 inflammasome complex assembly;positive regulation of autophagy;positive regulation of cysteine-type endopeptidase activity;protein ubiquitination;purinergic nucleotide receptor signaling pathway;pyroptosome complex assembly;regulation of gene expression;regulation of interleukin-1 beta production;response to interferon-gamma & cytoplasm          \\\\\n",
       "\t MEFV & autophagosome;cytoplasm;cytoplasmic vesicle;cytosol;lamellipodium;microtubule;microtubule associated complex;nucleoplasm;nucleus;ruffle;actin binding;identical protein binding;ubiquitin protein ligase activity;zinc ion binding;inflammatory response;innate immune response;negative regulation of cytokine production involved in inflammatory response;negative regulation of inflammatory response;negative regulation of interleukin-1 beta production;negative regulation of interleukin-12 production;negative regulation of macrophage inflammatory protein 1 alpha production;negative regulation of NLRP3 inflammasome complex assembly;positive regulation of autophagy;positive regulation of cysteine-type endopeptidase activity;protein ubiquitination;purinergic nucleotide receptor signaling pathway;pyroptosome complex assembly;regulation of gene expression;regulation of interleukin-1 beta production;response to interferon-gamma & cytoplasmic vesicle\\\\\n",
       "\t MEFV & autophagosome;cytoplasm;cytoplasmic vesicle;cytosol;lamellipodium;microtubule;microtubule associated complex;nucleoplasm;nucleus;ruffle;actin binding;identical protein binding;ubiquitin protein ligase activity;zinc ion binding;inflammatory response;innate immune response;negative regulation of cytokine production involved in inflammatory response;negative regulation of inflammatory response;negative regulation of interleukin-1 beta production;negative regulation of interleukin-12 production;negative regulation of macrophage inflammatory protein 1 alpha production;negative regulation of NLRP3 inflammasome complex assembly;positive regulation of autophagy;positive regulation of cysteine-type endopeptidase activity;protein ubiquitination;purinergic nucleotide receptor signaling pathway;pyroptosome complex assembly;regulation of gene expression;regulation of interleukin-1 beta production;response to interferon-gamma & cytosol            \\\\\n",
       "\t MEFV & autophagosome;cytoplasm;cytoplasmic vesicle;cytosol;lamellipodium;microtubule;microtubule associated complex;nucleoplasm;nucleus;ruffle;actin binding;identical protein binding;ubiquitin protein ligase activity;zinc ion binding;inflammatory response;innate immune response;negative regulation of cytokine production involved in inflammatory response;negative regulation of inflammatory response;negative regulation of interleukin-1 beta production;negative regulation of interleukin-12 production;negative regulation of macrophage inflammatory protein 1 alpha production;negative regulation of NLRP3 inflammasome complex assembly;positive regulation of autophagy;positive regulation of cysteine-type endopeptidase activity;protein ubiquitination;purinergic nucleotide receptor signaling pathway;pyroptosome complex assembly;regulation of gene expression;regulation of interleukin-1 beta production;response to interferon-gamma & lamellipodium      \\\\\n",
       "\t MEFV & autophagosome;cytoplasm;cytoplasmic vesicle;cytosol;lamellipodium;microtubule;microtubule associated complex;nucleoplasm;nucleus;ruffle;actin binding;identical protein binding;ubiquitin protein ligase activity;zinc ion binding;inflammatory response;innate immune response;negative regulation of cytokine production involved in inflammatory response;negative regulation of inflammatory response;negative regulation of interleukin-1 beta production;negative regulation of interleukin-12 production;negative regulation of macrophage inflammatory protein 1 alpha production;negative regulation of NLRP3 inflammasome complex assembly;positive regulation of autophagy;positive regulation of cysteine-type endopeptidase activity;protein ubiquitination;purinergic nucleotide receptor signaling pathway;pyroptosome complex assembly;regulation of gene expression;regulation of interleukin-1 beta production;response to interferon-gamma & microtubule        \\\\\n",
       "\\end{tabular}\n"
      ],
      "text/markdown": [
       "\n",
       "A tibble: 6 × 3\n",
       "\n",
       "| Gene.names...primary.. &lt;chr&gt; | GO &lt;chr&gt; | term &lt;chr&gt; |\n",
       "|---|---|---|\n",
       "| MEFV | autophagosome;cytoplasm;cytoplasmic vesicle;cytosol;lamellipodium;microtubule;microtubule associated complex;nucleoplasm;nucleus;ruffle;actin binding;identical protein binding;ubiquitin protein ligase activity;zinc ion binding;inflammatory response;innate immune response;negative regulation of cytokine production involved in inflammatory response;negative regulation of inflammatory response;negative regulation of interleukin-1 beta production;negative regulation of interleukin-12 production;negative regulation of macrophage inflammatory protein 1 alpha production;negative regulation of NLRP3 inflammasome complex assembly;positive regulation of autophagy;positive regulation of cysteine-type endopeptidase activity;protein ubiquitination;purinergic nucleotide receptor signaling pathway;pyroptosome complex assembly;regulation of gene expression;regulation of interleukin-1 beta production;response to interferon-gamma | autophagosome       |\n",
       "| MEFV | autophagosome;cytoplasm;cytoplasmic vesicle;cytosol;lamellipodium;microtubule;microtubule associated complex;nucleoplasm;nucleus;ruffle;actin binding;identical protein binding;ubiquitin protein ligase activity;zinc ion binding;inflammatory response;innate immune response;negative regulation of cytokine production involved in inflammatory response;negative regulation of inflammatory response;negative regulation of interleukin-1 beta production;negative regulation of interleukin-12 production;negative regulation of macrophage inflammatory protein 1 alpha production;negative regulation of NLRP3 inflammasome complex assembly;positive regulation of autophagy;positive regulation of cysteine-type endopeptidase activity;protein ubiquitination;purinergic nucleotide receptor signaling pathway;pyroptosome complex assembly;regulation of gene expression;regulation of interleukin-1 beta production;response to interferon-gamma | cytoplasm           |\n",
       "| MEFV | autophagosome;cytoplasm;cytoplasmic vesicle;cytosol;lamellipodium;microtubule;microtubule associated complex;nucleoplasm;nucleus;ruffle;actin binding;identical protein binding;ubiquitin protein ligase activity;zinc ion binding;inflammatory response;innate immune response;negative regulation of cytokine production involved in inflammatory response;negative regulation of inflammatory response;negative regulation of interleukin-1 beta production;negative regulation of interleukin-12 production;negative regulation of macrophage inflammatory protein 1 alpha production;negative regulation of NLRP3 inflammasome complex assembly;positive regulation of autophagy;positive regulation of cysteine-type endopeptidase activity;protein ubiquitination;purinergic nucleotide receptor signaling pathway;pyroptosome complex assembly;regulation of gene expression;regulation of interleukin-1 beta production;response to interferon-gamma | cytoplasmic vesicle |\n",
       "| MEFV | autophagosome;cytoplasm;cytoplasmic vesicle;cytosol;lamellipodium;microtubule;microtubule associated complex;nucleoplasm;nucleus;ruffle;actin binding;identical protein binding;ubiquitin protein ligase activity;zinc ion binding;inflammatory response;innate immune response;negative regulation of cytokine production involved in inflammatory response;negative regulation of inflammatory response;negative regulation of interleukin-1 beta production;negative regulation of interleukin-12 production;negative regulation of macrophage inflammatory protein 1 alpha production;negative regulation of NLRP3 inflammasome complex assembly;positive regulation of autophagy;positive regulation of cysteine-type endopeptidase activity;protein ubiquitination;purinergic nucleotide receptor signaling pathway;pyroptosome complex assembly;regulation of gene expression;regulation of interleukin-1 beta production;response to interferon-gamma | cytosol             |\n",
       "| MEFV | autophagosome;cytoplasm;cytoplasmic vesicle;cytosol;lamellipodium;microtubule;microtubule associated complex;nucleoplasm;nucleus;ruffle;actin binding;identical protein binding;ubiquitin protein ligase activity;zinc ion binding;inflammatory response;innate immune response;negative regulation of cytokine production involved in inflammatory response;negative regulation of inflammatory response;negative regulation of interleukin-1 beta production;negative regulation of interleukin-12 production;negative regulation of macrophage inflammatory protein 1 alpha production;negative regulation of NLRP3 inflammasome complex assembly;positive regulation of autophagy;positive regulation of cysteine-type endopeptidase activity;protein ubiquitination;purinergic nucleotide receptor signaling pathway;pyroptosome complex assembly;regulation of gene expression;regulation of interleukin-1 beta production;response to interferon-gamma | lamellipodium       |\n",
       "| MEFV | autophagosome;cytoplasm;cytoplasmic vesicle;cytosol;lamellipodium;microtubule;microtubule associated complex;nucleoplasm;nucleus;ruffle;actin binding;identical protein binding;ubiquitin protein ligase activity;zinc ion binding;inflammatory response;innate immune response;negative regulation of cytokine production involved in inflammatory response;negative regulation of inflammatory response;negative regulation of interleukin-1 beta production;negative regulation of interleukin-12 production;negative regulation of macrophage inflammatory protein 1 alpha production;negative regulation of NLRP3 inflammasome complex assembly;positive regulation of autophagy;positive regulation of cysteine-type endopeptidase activity;protein ubiquitination;purinergic nucleotide receptor signaling pathway;pyroptosome complex assembly;regulation of gene expression;regulation of interleukin-1 beta production;response to interferon-gamma | microtubule         |\n",
       "\n"
      ],
      "text/plain": [
       "  Gene.names...primary..\n",
       "1 MEFV                  \n",
       "2 MEFV                  \n",
       "3 MEFV                  \n",
       "4 MEFV                  \n",
       "5 MEFV                  \n",
       "6 MEFV                  \n",
       "  GO                                                                                                                                                                                                                                                                                                                                                                                                                                                                                                                                                                                                                                                                                                                                                                                                                                                                                                                                                           \n",
       "1 autophagosome;cytoplasm;cytoplasmic vesicle;cytosol;lamellipodium;microtubule;microtubule associated complex;nucleoplasm;nucleus;ruffle;actin binding;identical protein binding;ubiquitin protein ligase activity;zinc ion binding;inflammatory response;innate immune response;negative regulation of cytokine production involved in inflammatory response;negative regulation of inflammatory response;negative regulation of interleukin-1 beta production;negative regulation of interleukin-12 production;negative regulation of macrophage inflammatory protein 1 alpha production;negative regulation of NLRP3 inflammasome complex assembly;positive regulation of autophagy;positive regulation of cysteine-type endopeptidase activity;protein ubiquitination;purinergic nucleotide receptor signaling pathway;pyroptosome complex assembly;regulation of gene expression;regulation of interleukin-1 beta production;response to interferon-gamma\n",
       "2 autophagosome;cytoplasm;cytoplasmic vesicle;cytosol;lamellipodium;microtubule;microtubule associated complex;nucleoplasm;nucleus;ruffle;actin binding;identical protein binding;ubiquitin protein ligase activity;zinc ion binding;inflammatory response;innate immune response;negative regulation of cytokine production involved in inflammatory response;negative regulation of inflammatory response;negative regulation of interleukin-1 beta production;negative regulation of interleukin-12 production;negative regulation of macrophage inflammatory protein 1 alpha production;negative regulation of NLRP3 inflammasome complex assembly;positive regulation of autophagy;positive regulation of cysteine-type endopeptidase activity;protein ubiquitination;purinergic nucleotide receptor signaling pathway;pyroptosome complex assembly;regulation of gene expression;regulation of interleukin-1 beta production;response to interferon-gamma\n",
       "3 autophagosome;cytoplasm;cytoplasmic vesicle;cytosol;lamellipodium;microtubule;microtubule associated complex;nucleoplasm;nucleus;ruffle;actin binding;identical protein binding;ubiquitin protein ligase activity;zinc ion binding;inflammatory response;innate immune response;negative regulation of cytokine production involved in inflammatory response;negative regulation of inflammatory response;negative regulation of interleukin-1 beta production;negative regulation of interleukin-12 production;negative regulation of macrophage inflammatory protein 1 alpha production;negative regulation of NLRP3 inflammasome complex assembly;positive regulation of autophagy;positive regulation of cysteine-type endopeptidase activity;protein ubiquitination;purinergic nucleotide receptor signaling pathway;pyroptosome complex assembly;regulation of gene expression;regulation of interleukin-1 beta production;response to interferon-gamma\n",
       "4 autophagosome;cytoplasm;cytoplasmic vesicle;cytosol;lamellipodium;microtubule;microtubule associated complex;nucleoplasm;nucleus;ruffle;actin binding;identical protein binding;ubiquitin protein ligase activity;zinc ion binding;inflammatory response;innate immune response;negative regulation of cytokine production involved in inflammatory response;negative regulation of inflammatory response;negative regulation of interleukin-1 beta production;negative regulation of interleukin-12 production;negative regulation of macrophage inflammatory protein 1 alpha production;negative regulation of NLRP3 inflammasome complex assembly;positive regulation of autophagy;positive regulation of cysteine-type endopeptidase activity;protein ubiquitination;purinergic nucleotide receptor signaling pathway;pyroptosome complex assembly;regulation of gene expression;regulation of interleukin-1 beta production;response to interferon-gamma\n",
       "5 autophagosome;cytoplasm;cytoplasmic vesicle;cytosol;lamellipodium;microtubule;microtubule associated complex;nucleoplasm;nucleus;ruffle;actin binding;identical protein binding;ubiquitin protein ligase activity;zinc ion binding;inflammatory response;innate immune response;negative regulation of cytokine production involved in inflammatory response;negative regulation of inflammatory response;negative regulation of interleukin-1 beta production;negative regulation of interleukin-12 production;negative regulation of macrophage inflammatory protein 1 alpha production;negative regulation of NLRP3 inflammasome complex assembly;positive regulation of autophagy;positive regulation of cysteine-type endopeptidase activity;protein ubiquitination;purinergic nucleotide receptor signaling pathway;pyroptosome complex assembly;regulation of gene expression;regulation of interleukin-1 beta production;response to interferon-gamma\n",
       "6 autophagosome;cytoplasm;cytoplasmic vesicle;cytosol;lamellipodium;microtubule;microtubule associated complex;nucleoplasm;nucleus;ruffle;actin binding;identical protein binding;ubiquitin protein ligase activity;zinc ion binding;inflammatory response;innate immune response;negative regulation of cytokine production involved in inflammatory response;negative regulation of inflammatory response;negative regulation of interleukin-1 beta production;negative regulation of interleukin-12 production;negative regulation of macrophage inflammatory protein 1 alpha production;negative regulation of NLRP3 inflammasome complex assembly;positive regulation of autophagy;positive regulation of cysteine-type endopeptidase activity;protein ubiquitination;purinergic nucleotide receptor signaling pathway;pyroptosome complex assembly;regulation of gene expression;regulation of interleukin-1 beta production;response to interferon-gamma\n",
       "  term               \n",
       "1 autophagosome      \n",
       "2 cytoplasm          \n",
       "3 cytoplasmic vesicle\n",
       "4 cytosol            \n",
       "5 lamellipodium      \n",
       "6 microtubule        "
      ]
     },
     "metadata": {},
     "output_type": "display_data"
    }
   ],
   "source": [
    "dc_v1 = dc %>% \n",
    "    mutate(term = strsplit(as.character(GO), \";\")) %>% \n",
    "    unnest(term)\n",
    "\n",
    "head (dc_v1)"
   ]
  },
  {
   "cell_type": "markdown",
   "id": "finite-roulette",
   "metadata": {},
   "source": [
    "#### This is my manually prepared list of terms"
   ]
  },
  {
   "cell_type": "code",
   "execution_count": 15,
   "id": "operating-wholesale",
   "metadata": {},
   "outputs": [],
   "source": [
    "terms_GO <-read.delim (\"./data/GO-mf_solution.txt\")\n",
    "\n",
    "terms_GO$term <- terms_GO$new_row"
   ]
  },
  {
   "cell_type": "code",
   "execution_count": 16,
   "id": "primary-commonwealth",
   "metadata": {},
   "outputs": [
    {
     "data": {
      "text/html": [
       "<table class=\"dataframe\">\n",
       "<caption>A data.frame: 6 × 6</caption>\n",
       "<thead>\n",
       "\t<tr><th></th><th scope=col>X</th><th scope=col>new_row</th><th scope=col>search.term</th><th scope=col>biochemistry</th><th scope=col>biochemistry_2</th><th scope=col>term</th></tr>\n",
       "\t<tr><th></th><th scope=col>&lt;int&gt;</th><th scope=col>&lt;chr&gt;</th><th scope=col>&lt;chr&gt;</th><th scope=col>&lt;chr&gt;</th><th scope=col>&lt;chr&gt;</th><th scope=col>&lt;chr&gt;</th></tr>\n",
       "</thead>\n",
       "<tbody>\n",
       "\t<tr><th scope=row>1</th><td> 47</td><td>ubiquitin ligase-substrate adaptor activity</td><td>                </td><td>adaptor</td><td>adaptor    </td><td>ubiquitin ligase-substrate adaptor activity</td></tr>\n",
       "\t<tr><th scope=row>2</th><td>294</td><td>protein-membrane adaptor activity          </td><td>                </td><td>adaptor</td><td>adaptor    </td><td>protein-membrane adaptor activity          </td></tr>\n",
       "\t<tr><th scope=row>3</th><td>442</td><td>protein-macromolecule adaptor activity     </td><td>                </td><td>adaptor</td><td>adaptor    </td><td>protein-macromolecule adaptor activity     </td></tr>\n",
       "\t<tr><th scope=row>4</th><td>195</td><td>molecular adaptor activity                 </td><td>                </td><td>adaptor</td><td>adaptor    </td><td>molecular adaptor activity                 </td></tr>\n",
       "\t<tr><th scope=row>5</th><td>193</td><td>antioxidant activity                       </td><td>                </td><td>       </td><td>antioxidant</td><td>antioxidant activity                       </td></tr>\n",
       "\t<tr><th scope=row>6</th><td>531</td><td>water channel activity                     </td><td>channel activity</td><td>channel</td><td>channel    </td><td>water channel activity                     </td></tr>\n",
       "</tbody>\n",
       "</table>\n"
      ],
      "text/latex": [
       "A data.frame: 6 × 6\n",
       "\\begin{tabular}{r|llllll}\n",
       "  & X & new\\_row & search.term & biochemistry & biochemistry\\_2 & term\\\\\n",
       "  & <int> & <chr> & <chr> & <chr> & <chr> & <chr>\\\\\n",
       "\\hline\n",
       "\t1 &  47 & ubiquitin ligase-substrate adaptor activity &                  & adaptor & adaptor     & ubiquitin ligase-substrate adaptor activity\\\\\n",
       "\t2 & 294 & protein-membrane adaptor activity           &                  & adaptor & adaptor     & protein-membrane adaptor activity          \\\\\n",
       "\t3 & 442 & protein-macromolecule adaptor activity      &                  & adaptor & adaptor     & protein-macromolecule adaptor activity     \\\\\n",
       "\t4 & 195 & molecular adaptor activity                  &                  & adaptor & adaptor     & molecular adaptor activity                 \\\\\n",
       "\t5 & 193 & antioxidant activity                        &                  &         & antioxidant & antioxidant activity                       \\\\\n",
       "\t6 & 531 & water channel activity                      & channel activity & channel & channel     & water channel activity                     \\\\\n",
       "\\end{tabular}\n"
      ],
      "text/markdown": [
       "\n",
       "A data.frame: 6 × 6\n",
       "\n",
       "| <!--/--> | X &lt;int&gt; | new_row &lt;chr&gt; | search.term &lt;chr&gt; | biochemistry &lt;chr&gt; | biochemistry_2 &lt;chr&gt; | term &lt;chr&gt; |\n",
       "|---|---|---|---|---|---|---|\n",
       "| 1 |  47 | ubiquitin ligase-substrate adaptor activity | <!----> | adaptor | adaptor     | ubiquitin ligase-substrate adaptor activity |\n",
       "| 2 | 294 | protein-membrane adaptor activity           | <!----> | adaptor | adaptor     | protein-membrane adaptor activity           |\n",
       "| 3 | 442 | protein-macromolecule adaptor activity      | <!----> | adaptor | adaptor     | protein-macromolecule adaptor activity      |\n",
       "| 4 | 195 | molecular adaptor activity                  | <!----> | adaptor | adaptor     | molecular adaptor activity                  |\n",
       "| 5 | 193 | antioxidant activity                        | <!----> | <!----> | antioxidant | antioxidant activity                        |\n",
       "| 6 | 531 | water channel activity                      | channel activity | channel | channel     | water channel activity                      |\n",
       "\n"
      ],
      "text/plain": [
       "  X   new_row                                     search.term      biochemistry\n",
       "1  47 ubiquitin ligase-substrate adaptor activity                  adaptor     \n",
       "2 294 protein-membrane adaptor activity                            adaptor     \n",
       "3 442 protein-macromolecule adaptor activity                       adaptor     \n",
       "4 195 molecular adaptor activity                                   adaptor     \n",
       "5 193 antioxidant activity                                                     \n",
       "6 531 water channel activity                      channel activity channel     \n",
       "  biochemistry_2 term                                       \n",
       "1 adaptor        ubiquitin ligase-substrate adaptor activity\n",
       "2 adaptor        protein-membrane adaptor activity          \n",
       "3 adaptor        protein-macromolecule adaptor activity     \n",
       "4 adaptor        molecular adaptor activity                 \n",
       "5 antioxidant    antioxidant activity                       \n",
       "6 channel        water channel activity                     "
      ]
     },
     "metadata": {},
     "output_type": "display_data"
    }
   ],
   "source": [
    "head (terms_GO)"
   ]
  },
  {
   "cell_type": "code",
   "execution_count": 17,
   "id": "close-uncertainty",
   "metadata": {},
   "outputs": [
    {
     "data": {
      "text/html": [
       "<table class=\"dataframe\">\n",
       "<caption>A tibble: 3 × 5</caption>\n",
       "<thead>\n",
       "\t<tr><th scope=col>Gene.names...primary..</th><th scope=col>GO</th><th scope=col>term</th><th scope=col>category</th><th scope=col>category_2</th></tr>\n",
       "\t<tr><th scope=col>&lt;chr&gt;</th><th scope=col>&lt;chr&gt;</th><th scope=col>&lt;chr&gt;</th><th scope=col>&lt;chr&gt;</th><th scope=col>&lt;chr&gt;</th></tr>\n",
       "</thead>\n",
       "<tbody>\n",
       "\t<tr><td>MEFV</td><td>autophagosome;cytoplasm;cytoplasmic vesicle;cytosol;lamellipodium;microtubule;microtubule associated complex;nucleoplasm;nucleus;ruffle;actin binding;identical protein binding;ubiquitin protein ligase activity;zinc ion binding;inflammatory response;innate immune response;negative regulation of cytokine production involved in inflammatory response;negative regulation of inflammatory response;negative regulation of interleukin-1 beta production;negative regulation of interleukin-12 production;negative regulation of macrophage inflammatory protein 1 alpha production;negative regulation of NLRP3 inflammasome complex assembly;positive regulation of autophagy;positive regulation of cysteine-type endopeptidase activity;protein ubiquitination;purinergic nucleotide receptor signaling pathway;pyroptosome complex assembly;regulation of gene expression;regulation of interleukin-1 beta production;response to interferon-gamma</td><td>autophagosome      </td><td>NA</td><td>NA</td></tr>\n",
       "\t<tr><td>MEFV</td><td>autophagosome;cytoplasm;cytoplasmic vesicle;cytosol;lamellipodium;microtubule;microtubule associated complex;nucleoplasm;nucleus;ruffle;actin binding;identical protein binding;ubiquitin protein ligase activity;zinc ion binding;inflammatory response;innate immune response;negative regulation of cytokine production involved in inflammatory response;negative regulation of inflammatory response;negative regulation of interleukin-1 beta production;negative regulation of interleukin-12 production;negative regulation of macrophage inflammatory protein 1 alpha production;negative regulation of NLRP3 inflammasome complex assembly;positive regulation of autophagy;positive regulation of cysteine-type endopeptidase activity;protein ubiquitination;purinergic nucleotide receptor signaling pathway;pyroptosome complex assembly;regulation of gene expression;regulation of interleukin-1 beta production;response to interferon-gamma</td><td>cytoplasm          </td><td>NA</td><td>NA</td></tr>\n",
       "\t<tr><td>MEFV</td><td>autophagosome;cytoplasm;cytoplasmic vesicle;cytosol;lamellipodium;microtubule;microtubule associated complex;nucleoplasm;nucleus;ruffle;actin binding;identical protein binding;ubiquitin protein ligase activity;zinc ion binding;inflammatory response;innate immune response;negative regulation of cytokine production involved in inflammatory response;negative regulation of inflammatory response;negative regulation of interleukin-1 beta production;negative regulation of interleukin-12 production;negative regulation of macrophage inflammatory protein 1 alpha production;negative regulation of NLRP3 inflammasome complex assembly;positive regulation of autophagy;positive regulation of cysteine-type endopeptidase activity;protein ubiquitination;purinergic nucleotide receptor signaling pathway;pyroptosome complex assembly;regulation of gene expression;regulation of interleukin-1 beta production;response to interferon-gamma</td><td>cytoplasmic vesicle</td><td>NA</td><td>NA</td></tr>\n",
       "</tbody>\n",
       "</table>\n"
      ],
      "text/latex": [
       "A tibble: 3 × 5\n",
       "\\begin{tabular}{lllll}\n",
       " Gene.names...primary.. & GO & term & category & category\\_2\\\\\n",
       " <chr> & <chr> & <chr> & <chr> & <chr>\\\\\n",
       "\\hline\n",
       "\t MEFV & autophagosome;cytoplasm;cytoplasmic vesicle;cytosol;lamellipodium;microtubule;microtubule associated complex;nucleoplasm;nucleus;ruffle;actin binding;identical protein binding;ubiquitin protein ligase activity;zinc ion binding;inflammatory response;innate immune response;negative regulation of cytokine production involved in inflammatory response;negative regulation of inflammatory response;negative regulation of interleukin-1 beta production;negative regulation of interleukin-12 production;negative regulation of macrophage inflammatory protein 1 alpha production;negative regulation of NLRP3 inflammasome complex assembly;positive regulation of autophagy;positive regulation of cysteine-type endopeptidase activity;protein ubiquitination;purinergic nucleotide receptor signaling pathway;pyroptosome complex assembly;regulation of gene expression;regulation of interleukin-1 beta production;response to interferon-gamma & autophagosome       & NA & NA\\\\\n",
       "\t MEFV & autophagosome;cytoplasm;cytoplasmic vesicle;cytosol;lamellipodium;microtubule;microtubule associated complex;nucleoplasm;nucleus;ruffle;actin binding;identical protein binding;ubiquitin protein ligase activity;zinc ion binding;inflammatory response;innate immune response;negative regulation of cytokine production involved in inflammatory response;negative regulation of inflammatory response;negative regulation of interleukin-1 beta production;negative regulation of interleukin-12 production;negative regulation of macrophage inflammatory protein 1 alpha production;negative regulation of NLRP3 inflammasome complex assembly;positive regulation of autophagy;positive regulation of cysteine-type endopeptidase activity;protein ubiquitination;purinergic nucleotide receptor signaling pathway;pyroptosome complex assembly;regulation of gene expression;regulation of interleukin-1 beta production;response to interferon-gamma & cytoplasm           & NA & NA\\\\\n",
       "\t MEFV & autophagosome;cytoplasm;cytoplasmic vesicle;cytosol;lamellipodium;microtubule;microtubule associated complex;nucleoplasm;nucleus;ruffle;actin binding;identical protein binding;ubiquitin protein ligase activity;zinc ion binding;inflammatory response;innate immune response;negative regulation of cytokine production involved in inflammatory response;negative regulation of inflammatory response;negative regulation of interleukin-1 beta production;negative regulation of interleukin-12 production;negative regulation of macrophage inflammatory protein 1 alpha production;negative regulation of NLRP3 inflammasome complex assembly;positive regulation of autophagy;positive regulation of cysteine-type endopeptidase activity;protein ubiquitination;purinergic nucleotide receptor signaling pathway;pyroptosome complex assembly;regulation of gene expression;regulation of interleukin-1 beta production;response to interferon-gamma & cytoplasmic vesicle & NA & NA\\\\\n",
       "\\end{tabular}\n"
      ],
      "text/markdown": [
       "\n",
       "A tibble: 3 × 5\n",
       "\n",
       "| Gene.names...primary.. &lt;chr&gt; | GO &lt;chr&gt; | term &lt;chr&gt; | category &lt;chr&gt; | category_2 &lt;chr&gt; |\n",
       "|---|---|---|---|---|\n",
       "| MEFV | autophagosome;cytoplasm;cytoplasmic vesicle;cytosol;lamellipodium;microtubule;microtubule associated complex;nucleoplasm;nucleus;ruffle;actin binding;identical protein binding;ubiquitin protein ligase activity;zinc ion binding;inflammatory response;innate immune response;negative regulation of cytokine production involved in inflammatory response;negative regulation of inflammatory response;negative regulation of interleukin-1 beta production;negative regulation of interleukin-12 production;negative regulation of macrophage inflammatory protein 1 alpha production;negative regulation of NLRP3 inflammasome complex assembly;positive regulation of autophagy;positive regulation of cysteine-type endopeptidase activity;protein ubiquitination;purinergic nucleotide receptor signaling pathway;pyroptosome complex assembly;regulation of gene expression;regulation of interleukin-1 beta production;response to interferon-gamma | autophagosome       | NA | NA |\n",
       "| MEFV | autophagosome;cytoplasm;cytoplasmic vesicle;cytosol;lamellipodium;microtubule;microtubule associated complex;nucleoplasm;nucleus;ruffle;actin binding;identical protein binding;ubiquitin protein ligase activity;zinc ion binding;inflammatory response;innate immune response;negative regulation of cytokine production involved in inflammatory response;negative regulation of inflammatory response;negative regulation of interleukin-1 beta production;negative regulation of interleukin-12 production;negative regulation of macrophage inflammatory protein 1 alpha production;negative regulation of NLRP3 inflammasome complex assembly;positive regulation of autophagy;positive regulation of cysteine-type endopeptidase activity;protein ubiquitination;purinergic nucleotide receptor signaling pathway;pyroptosome complex assembly;regulation of gene expression;regulation of interleukin-1 beta production;response to interferon-gamma | cytoplasm           | NA | NA |\n",
       "| MEFV | autophagosome;cytoplasm;cytoplasmic vesicle;cytosol;lamellipodium;microtubule;microtubule associated complex;nucleoplasm;nucleus;ruffle;actin binding;identical protein binding;ubiquitin protein ligase activity;zinc ion binding;inflammatory response;innate immune response;negative regulation of cytokine production involved in inflammatory response;negative regulation of inflammatory response;negative regulation of interleukin-1 beta production;negative regulation of interleukin-12 production;negative regulation of macrophage inflammatory protein 1 alpha production;negative regulation of NLRP3 inflammasome complex assembly;positive regulation of autophagy;positive regulation of cysteine-type endopeptidase activity;protein ubiquitination;purinergic nucleotide receptor signaling pathway;pyroptosome complex assembly;regulation of gene expression;regulation of interleukin-1 beta production;response to interferon-gamma | cytoplasmic vesicle | NA | NA |\n",
       "\n"
      ],
      "text/plain": [
       "  Gene.names...primary..\n",
       "1 MEFV                  \n",
       "2 MEFV                  \n",
       "3 MEFV                  \n",
       "  GO                                                                                                                                                                                                                                                                                                                                                                                                                                                                                                                                                                                                                                                                                                                                                                                                                                                                                                                                                           \n",
       "1 autophagosome;cytoplasm;cytoplasmic vesicle;cytosol;lamellipodium;microtubule;microtubule associated complex;nucleoplasm;nucleus;ruffle;actin binding;identical protein binding;ubiquitin protein ligase activity;zinc ion binding;inflammatory response;innate immune response;negative regulation of cytokine production involved in inflammatory response;negative regulation of inflammatory response;negative regulation of interleukin-1 beta production;negative regulation of interleukin-12 production;negative regulation of macrophage inflammatory protein 1 alpha production;negative regulation of NLRP3 inflammasome complex assembly;positive regulation of autophagy;positive regulation of cysteine-type endopeptidase activity;protein ubiquitination;purinergic nucleotide receptor signaling pathway;pyroptosome complex assembly;regulation of gene expression;regulation of interleukin-1 beta production;response to interferon-gamma\n",
       "2 autophagosome;cytoplasm;cytoplasmic vesicle;cytosol;lamellipodium;microtubule;microtubule associated complex;nucleoplasm;nucleus;ruffle;actin binding;identical protein binding;ubiquitin protein ligase activity;zinc ion binding;inflammatory response;innate immune response;negative regulation of cytokine production involved in inflammatory response;negative regulation of inflammatory response;negative regulation of interleukin-1 beta production;negative regulation of interleukin-12 production;negative regulation of macrophage inflammatory protein 1 alpha production;negative regulation of NLRP3 inflammasome complex assembly;positive regulation of autophagy;positive regulation of cysteine-type endopeptidase activity;protein ubiquitination;purinergic nucleotide receptor signaling pathway;pyroptosome complex assembly;regulation of gene expression;regulation of interleukin-1 beta production;response to interferon-gamma\n",
       "3 autophagosome;cytoplasm;cytoplasmic vesicle;cytosol;lamellipodium;microtubule;microtubule associated complex;nucleoplasm;nucleus;ruffle;actin binding;identical protein binding;ubiquitin protein ligase activity;zinc ion binding;inflammatory response;innate immune response;negative regulation of cytokine production involved in inflammatory response;negative regulation of inflammatory response;negative regulation of interleukin-1 beta production;negative regulation of interleukin-12 production;negative regulation of macrophage inflammatory protein 1 alpha production;negative regulation of NLRP3 inflammasome complex assembly;positive regulation of autophagy;positive regulation of cysteine-type endopeptidase activity;protein ubiquitination;purinergic nucleotide receptor signaling pathway;pyroptosome complex assembly;regulation of gene expression;regulation of interleukin-1 beta production;response to interferon-gamma\n",
       "  term                category category_2\n",
       "1 autophagosome       NA       NA        \n",
       "2 cytoplasm           NA       NA        \n",
       "3 cytoplasmic vesicle NA       NA        "
      ]
     },
     "metadata": {},
     "output_type": "display_data"
    }
   ],
   "source": [
    "dc_v1$category <- terms_GO$biochemistry[match(dc_v1$term, terms_GO$term)]\n",
    "dc_v1$category_2 <- terms_GO$biochemistry_2[match(dc_v1$term, terms_GO$term)]\n",
    "dc_v1$category <- gsub(\"NA\",\"\",as.character(dc_v1$category))\n",
    "head (dc_v1, n =3)"
   ]
  },
  {
   "cell_type": "code",
   "execution_count": 18,
   "id": "accepting-crawford",
   "metadata": {},
   "outputs": [
    {
     "data": {
      "text/html": [
       "<style>\n",
       ".list-inline {list-style: none; margin:0; padding: 0}\n",
       ".list-inline>li {display: inline-block}\n",
       ".list-inline>li:not(:last-child)::after {content: \"\\00b7\"; padding: 0 .5ex}\n",
       "</style>\n",
       "<ol class=list-inline><li>14061</li><li>5</li></ol>\n"
      ],
      "text/latex": [
       "\\begin{enumerate*}\n",
       "\\item 14061\n",
       "\\item 5\n",
       "\\end{enumerate*}\n"
      ],
      "text/markdown": [
       "1. 14061\n",
       "2. 5\n",
       "\n",
       "\n"
      ],
      "text/plain": [
       "[1] 14061     5"
      ]
     },
     "metadata": {},
     "output_type": "display_data"
    }
   ],
   "source": [
    "dim (dc_v1)"
   ]
  },
  {
   "cell_type": "code",
   "execution_count": 19,
   "id": "alpha-maximum",
   "metadata": {},
   "outputs": [
    {
     "data": {
      "text/html": [
       "<style>\n",
       ".list-inline {list-style: none; margin:0; padding: 0}\n",
       ".list-inline>li {display: inline-block}\n",
       ".list-inline>li:not(:last-child)::after {content: \"\\00b7\"; padding: 0 .5ex}\n",
       "</style>\n",
       "<ol class=list-inline><li>654</li><li>2</li></ol>\n"
      ],
      "text/latex": [
       "\\begin{enumerate*}\n",
       "\\item 654\n",
       "\\item 2\n",
       "\\end{enumerate*}\n"
      ],
      "text/markdown": [
       "1. 654\n",
       "2. 2\n",
       "\n",
       "\n"
      ],
      "text/plain": [
       "[1] 654   2"
      ]
     },
     "metadata": {},
     "output_type": "display_data"
    },
    {
     "data": {
      "text/html": [
       "<style>\n",
       ".list-inline {list-style: none; margin:0; padding: 0}\n",
       ".list-inline>li {display: inline-block}\n",
       ".list-inline>li:not(:last-child)::after {content: \"\\00b7\"; padding: 0 .5ex}\n",
       "</style>\n",
       "<ol class=list-inline><li>654</li><li>2</li></ol>\n"
      ],
      "text/latex": [
       "\\begin{enumerate*}\n",
       "\\item 654\n",
       "\\item 2\n",
       "\\end{enumerate*}\n"
      ],
      "text/markdown": [
       "1. 654\n",
       "2. 2\n",
       "\n",
       "\n"
      ],
      "text/plain": [
       "[1] 654   2"
      ]
     },
     "metadata": {},
     "output_type": "display_data"
    }
   ],
   "source": [
    "dc_test = dc_v1 %>%\n",
    "group_by (Gene.names...primary..) %>% \n",
    " summarize(summary = paste(unique (na.omit(category)), collapse = \", \"))\n",
    "\n",
    "dim (dc_test)\n",
    "\n",
    "dc_test_2 = dc_v1 %>%\n",
    "group_by (Gene.names...primary..) %>% \n",
    " summarize(summary_2 = paste(unique (na.omit(category_2)), collapse = \", \"))\n",
    "\n",
    "dim (dc_test_2)\n",
    "\n",
    "dc_test$sum2 <- dc_test_2$summary_2"
   ]
  },
  {
   "cell_type": "code",
   "execution_count": 20,
   "id": "excellent-expression",
   "metadata": {},
   "outputs": [
    {
     "data": {
      "text/html": [
       "<table class=\"dataframe\">\n",
       "<caption>A tibble: 6 × 3</caption>\n",
       "<thead>\n",
       "\t<tr><th scope=col>Gene.names...primary..</th><th scope=col>summary</th><th scope=col>sum2</th></tr>\n",
       "\t<tr><th scope=col>&lt;chr&gt;</th><th scope=col>&lt;chr&gt;</th><th scope=col>&lt;chr&gt;</th></tr>\n",
       "</thead>\n",
       "<tbody>\n",
       "\t<tr><td>AATK </td><td>, enzyme             </td><td>, enzyme             </td></tr>\n",
       "\t<tr><td>ABCB4</td><td>, transporter        </td><td>, transporter        </td></tr>\n",
       "\t<tr><td>ABCC3</td><td>transporter, , enzyme</td><td>transporter, , enzyme</td></tr>\n",
       "\t<tr><td>ACP3 </td><td>enzyme,              </td><td>enzyme,              </td></tr>\n",
       "\t<tr><td>ACSL1</td><td>enzyme,              </td><td>enzyme,              </td></tr>\n",
       "\t<tr><td>ACSM3</td><td>, enzyme             </td><td>, enzyme             </td></tr>\n",
       "</tbody>\n",
       "</table>\n"
      ],
      "text/latex": [
       "A tibble: 6 × 3\n",
       "\\begin{tabular}{lll}\n",
       " Gene.names...primary.. & summary & sum2\\\\\n",
       " <chr> & <chr> & <chr>\\\\\n",
       "\\hline\n",
       "\t AATK  & , enzyme              & , enzyme             \\\\\n",
       "\t ABCB4 & , transporter         & , transporter        \\\\\n",
       "\t ABCC3 & transporter, , enzyme & transporter, , enzyme\\\\\n",
       "\t ACP3  & enzyme,               & enzyme,              \\\\\n",
       "\t ACSL1 & enzyme,               & enzyme,              \\\\\n",
       "\t ACSM3 & , enzyme              & , enzyme             \\\\\n",
       "\\end{tabular}\n"
      ],
      "text/markdown": [
       "\n",
       "A tibble: 6 × 3\n",
       "\n",
       "| Gene.names...primary.. &lt;chr&gt; | summary &lt;chr&gt; | sum2 &lt;chr&gt; |\n",
       "|---|---|---|\n",
       "| AATK  | , enzyme              | , enzyme              |\n",
       "| ABCB4 | , transporter         | , transporter         |\n",
       "| ABCC3 | transporter, , enzyme | transporter, , enzyme |\n",
       "| ACP3  | enzyme,               | enzyme,               |\n",
       "| ACSL1 | enzyme,               | enzyme,               |\n",
       "| ACSM3 | , enzyme              | , enzyme              |\n",
       "\n"
      ],
      "text/plain": [
       "  Gene.names...primary.. summary               sum2                 \n",
       "1 AATK                   , enzyme              , enzyme             \n",
       "2 ABCB4                  , transporter         , transporter        \n",
       "3 ABCC3                  transporter, , enzyme transporter, , enzyme\n",
       "4 ACP3                   enzyme,               enzyme,              \n",
       "5 ACSL1                  enzyme,               enzyme,              \n",
       "6 ACSM3                  , enzyme              , enzyme             "
      ]
     },
     "metadata": {},
     "output_type": "display_data"
    }
   ],
   "source": [
    "dc_test$summary = str_trim(dc_test$summary, side = c(\"both\"))\n",
    "head (dc_test)"
   ]
  },
  {
   "cell_type": "code",
   "execution_count": 21,
   "id": "dynamic-intervention",
   "metadata": {},
   "outputs": [
    {
     "data": {
      "text/html": [
       "<table class=\"dataframe\">\n",
       "<caption>A tibble: 6 × 3</caption>\n",
       "<thead>\n",
       "\t<tr><th scope=col>Gene.names...primary..</th><th scope=col>summary</th><th scope=col>sum2</th></tr>\n",
       "\t<tr><th scope=col>&lt;chr&gt;</th><th scope=col>&lt;chr&gt;</th><th scope=col>&lt;chr&gt;</th></tr>\n",
       "</thead>\n",
       "<tbody>\n",
       "\t<tr><td>AATK </td><td>enzyme              </td><td>enzyme              </td></tr>\n",
       "\t<tr><td>ABCB4</td><td>transporter         </td><td>transporter         </td></tr>\n",
       "\t<tr><td>ABCC3</td><td>transporter,  enzyme</td><td>transporter,  enzyme</td></tr>\n",
       "\t<tr><td>ACP3 </td><td>enzyme              </td><td>enzyme,             </td></tr>\n",
       "\t<tr><td>ACSL1</td><td>enzyme              </td><td>enzyme,             </td></tr>\n",
       "\t<tr><td>ACSM3</td><td>enzyme              </td><td>enzyme              </td></tr>\n",
       "</tbody>\n",
       "</table>\n"
      ],
      "text/latex": [
       "A tibble: 6 × 3\n",
       "\\begin{tabular}{lll}\n",
       " Gene.names...primary.. & summary & sum2\\\\\n",
       " <chr> & <chr> & <chr>\\\\\n",
       "\\hline\n",
       "\t AATK  & enzyme               & enzyme              \\\\\n",
       "\t ABCB4 & transporter          & transporter         \\\\\n",
       "\t ABCC3 & transporter,  enzyme & transporter,  enzyme\\\\\n",
       "\t ACP3  & enzyme               & enzyme,             \\\\\n",
       "\t ACSL1 & enzyme               & enzyme,             \\\\\n",
       "\t ACSM3 & enzyme               & enzyme              \\\\\n",
       "\\end{tabular}\n"
      ],
      "text/markdown": [
       "\n",
       "A tibble: 6 × 3\n",
       "\n",
       "| Gene.names...primary.. &lt;chr&gt; | summary &lt;chr&gt; | sum2 &lt;chr&gt; |\n",
       "|---|---|---|\n",
       "| AATK  | enzyme               | enzyme               |\n",
       "| ABCB4 | transporter          | transporter          |\n",
       "| ABCC3 | transporter,  enzyme | transporter,  enzyme |\n",
       "| ACP3  | enzyme               | enzyme,              |\n",
       "| ACSL1 | enzyme               | enzyme,              |\n",
       "| ACSM3 | enzyme               | enzyme               |\n",
       "\n"
      ],
      "text/plain": [
       "  Gene.names...primary.. summary              sum2                \n",
       "1 AATK                   enzyme               enzyme              \n",
       "2 ABCB4                  transporter          transporter         \n",
       "3 ABCC3                  transporter,  enzyme transporter,  enzyme\n",
       "4 ACP3                   enzyme               enzyme,             \n",
       "5 ACSL1                  enzyme               enzyme,             \n",
       "6 ACSM3                  enzyme               enzyme              "
      ]
     },
     "metadata": {},
     "output_type": "display_data"
    }
   ],
   "source": [
    "dc_test$summary <- str_replace_all(dc_test$summary, \"^, \", \"\")\n",
    "dc_test$summary <- str_replace_all(dc_test$summary, \",$\", \"\")\n",
    "dc_test$summary <- str_replace_all(dc_test$summary, \", ,\", \", \") \n",
    "\n",
    "dc_test$sum2 <- str_replace_all(dc_test$sum2, \"^, \", \"\")\n",
    "dc_test$sum2 <- str_replace_all(dc_test$sum2, \",$\", \"\")\n",
    "dc_test$sum2 <- str_replace_all(dc_test$sum2, \", ,\", \", \") \n",
    "\n",
    "head (dc_test)"
   ]
  },
  {
   "cell_type": "code",
   "execution_count": 22,
   "id": "geographic-morris",
   "metadata": {},
   "outputs": [],
   "source": [
    "x <- read.table (\"./data/f_time2020_inlog_FC15_FC2_evidence-threshold.tsv\", sep = '\\t', header = T, row.names =1)"
   ]
  },
  {
   "cell_type": "code",
   "execution_count": 23,
   "id": "respective-partition",
   "metadata": {},
   "outputs": [
    {
     "data": {
      "text/html": [
       "<table class=\"dataframe\">\n",
       "<caption>A data.frame: 6 × 64</caption>\n",
       "<thead>\n",
       "\t<tr><th></th><th scope=col>Genesymbol</th><th scope=col>EtOH_04h_R1</th><th scope=col>EtOH_04h_R2</th><th scope=col>EtOH_04h_R3</th><th scope=col>EtOH_08h_R1</th><th scope=col>EtOH_08h_R2</th><th scope=col>EtOH_08h_R3</th><th scope=col>EtOH_24h_R1</th><th scope=col>EtOH_24h_R2</th><th scope=col>EtOH_24h_R3</th><th scope=col>⋯</th><th scope=col>ensembl_gene_id</th><th scope=col>entrezgene_id</th><th scope=col>external_gene_name</th><th scope=col>description</th><th scope=col>chromosome_name</th><th scope=col>start_position</th><th scope=col>end_position</th><th scope=col>percentage_gene_gc_content</th><th scope=col>gene_biotype</th><th scope=col>strand</th></tr>\n",
       "\t<tr><th></th><th scope=col>&lt;chr&gt;</th><th scope=col>&lt;dbl&gt;</th><th scope=col>&lt;dbl&gt;</th><th scope=col>&lt;dbl&gt;</th><th scope=col>&lt;dbl&gt;</th><th scope=col>&lt;dbl&gt;</th><th scope=col>&lt;dbl&gt;</th><th scope=col>&lt;dbl&gt;</th><th scope=col>&lt;dbl&gt;</th><th scope=col>&lt;dbl&gt;</th><th scope=col>⋯</th><th scope=col>&lt;chr&gt;</th><th scope=col>&lt;int&gt;</th><th scope=col>&lt;chr&gt;</th><th scope=col>&lt;chr&gt;</th><th scope=col>&lt;chr&gt;</th><th scope=col>&lt;int&gt;</th><th scope=col>&lt;int&gt;</th><th scope=col>&lt;dbl&gt;</th><th scope=col>&lt;chr&gt;</th><th scope=col>&lt;int&gt;</th></tr>\n",
       "</thead>\n",
       "<tbody>\n",
       "\t<tr><th scope=row>1</th><td>A1BG  </td><td> 0.6699661</td><td> 1.5716342</td><td> 1.3436590</td><td>1.96288982</td><td> 1.224317</td><td> 1.85505743</td><td>2.9635154</td><td>2.8044871</td><td> 2.2197667</td><td>⋯</td><td>ENSG00000121410</td><td>    1</td><td>A1BG  </td><td>alpha-1-B glycoprotein                         </td><td>19</td><td> 58345178</td><td> 58353492</td><td>55.80</td><td>protein coding</td><td>-1</td></tr>\n",
       "\t<tr><th scope=row>2</th><td>A2M   </td><td>-0.1493280</td><td>-0.5732038</td><td> 0.5753295</td><td>0.02594746</td><td>-1.177576</td><td>-0.04192958</td><td>0.3870933</td><td>0.8929844</td><td>-0.3338175</td><td>⋯</td><td>ENSG00000175899</td><td>    2</td><td>A2M   </td><td>alpha-2-macroglobulin                          </td><td>12</td><td>  9067664</td><td>  9116229</td><td>37.18</td><td>protein coding</td><td>-1</td></tr>\n",
       "\t<tr><th scope=row>3</th><td>A4GALT</td><td> 1.0360548</td><td> 0.1791040</td><td>-0.5061997</td><td>1.81327202</td><td> 1.441122</td><td> 1.49762235</td><td>0.7995740</td><td>1.2555664</td><td> 1.1367142</td><td>⋯</td><td>ENSG00000128274</td><td>53947</td><td>A4GALT</td><td>alpha 1,4-galactosyltransferase (P blood group)</td><td>22</td><td> 42692121</td><td> 42721298</td><td>52.39</td><td>protein coding</td><td>-1</td></tr>\n",
       "\t<tr><th scope=row>4</th><td>AAAS  </td><td> 4.6847524</td><td> 4.7243974</td><td> 5.0412317</td><td>5.25087279</td><td> 4.960263</td><td> 5.15534332</td><td>5.2016303</td><td>5.3925019</td><td> 5.2358878</td><td>⋯</td><td>ENSG00000094914</td><td> 8086</td><td>AAAS  </td><td>aladin WD repeat nucleoporin                   </td><td>12</td><td> 53307456</td><td> 53324864</td><td>49.39</td><td>protein coding</td><td>-1</td></tr>\n",
       "\t<tr><th scope=row>5</th><td>AACS  </td><td> 4.6052624</td><td> 4.5081055</td><td> 4.4018076</td><td>4.37823558</td><td> 4.189747</td><td> 4.20453034</td><td>4.6912469</td><td>4.9885575</td><td> 4.3303553</td><td>⋯</td><td>ENSG00000081760</td><td>65985</td><td>AACS  </td><td>acetoacetyl-CoA synthetase                     </td><td>12</td><td>125065434</td><td>125143333</td><td>51.20</td><td>protein coding</td><td> 1</td></tr>\n",
       "\t<tr><th scope=row>6</th><td>AAGAB </td><td> 5.3934778</td><td> 5.4642630</td><td> 5.2739382</td><td>5.42861575</td><td> 5.434778</td><td> 5.48011690</td><td>5.3105383</td><td>5.3367685</td><td> 5.1670164</td><td>⋯</td><td>ENSG00000103591</td><td>79719</td><td>AAGAB </td><td>alpha and gamma adaptin binding protein        </td><td>15</td><td> 67200667</td><td> 67255195</td><td>39.47</td><td>protein coding</td><td>-1</td></tr>\n",
       "</tbody>\n",
       "</table>\n"
      ],
      "text/latex": [
       "A data.frame: 6 × 64\n",
       "\\begin{tabular}{r|lllllllllllllllllllll}\n",
       "  & Genesymbol & EtOH\\_04h\\_R1 & EtOH\\_04h\\_R2 & EtOH\\_04h\\_R3 & EtOH\\_08h\\_R1 & EtOH\\_08h\\_R2 & EtOH\\_08h\\_R3 & EtOH\\_24h\\_R1 & EtOH\\_24h\\_R2 & EtOH\\_24h\\_R3 & ⋯ & ensembl\\_gene\\_id & entrezgene\\_id & external\\_gene\\_name & description & chromosome\\_name & start\\_position & end\\_position & percentage\\_gene\\_gc\\_content & gene\\_biotype & strand\\\\\n",
       "  & <chr> & <dbl> & <dbl> & <dbl> & <dbl> & <dbl> & <dbl> & <dbl> & <dbl> & <dbl> & ⋯ & <chr> & <int> & <chr> & <chr> & <chr> & <int> & <int> & <dbl> & <chr> & <int>\\\\\n",
       "\\hline\n",
       "\t1 & A1BG   &  0.6699661 &  1.5716342 &  1.3436590 & 1.96288982 &  1.224317 &  1.85505743 & 2.9635154 & 2.8044871 &  2.2197667 & ⋯ & ENSG00000121410 &     1 & A1BG   & alpha-1-B glycoprotein                          & 19 &  58345178 &  58353492 & 55.80 & protein coding & -1\\\\\n",
       "\t2 & A2M    & -0.1493280 & -0.5732038 &  0.5753295 & 0.02594746 & -1.177576 & -0.04192958 & 0.3870933 & 0.8929844 & -0.3338175 & ⋯ & ENSG00000175899 &     2 & A2M    & alpha-2-macroglobulin                           & 12 &   9067664 &   9116229 & 37.18 & protein coding & -1\\\\\n",
       "\t3 & A4GALT &  1.0360548 &  0.1791040 & -0.5061997 & 1.81327202 &  1.441122 &  1.49762235 & 0.7995740 & 1.2555664 &  1.1367142 & ⋯ & ENSG00000128274 & 53947 & A4GALT & alpha 1,4-galactosyltransferase (P blood group) & 22 &  42692121 &  42721298 & 52.39 & protein coding & -1\\\\\n",
       "\t4 & AAAS   &  4.6847524 &  4.7243974 &  5.0412317 & 5.25087279 &  4.960263 &  5.15534332 & 5.2016303 & 5.3925019 &  5.2358878 & ⋯ & ENSG00000094914 &  8086 & AAAS   & aladin WD repeat nucleoporin                    & 12 &  53307456 &  53324864 & 49.39 & protein coding & -1\\\\\n",
       "\t5 & AACS   &  4.6052624 &  4.5081055 &  4.4018076 & 4.37823558 &  4.189747 &  4.20453034 & 4.6912469 & 4.9885575 &  4.3303553 & ⋯ & ENSG00000081760 & 65985 & AACS   & acetoacetyl-CoA synthetase                      & 12 & 125065434 & 125143333 & 51.20 & protein coding &  1\\\\\n",
       "\t6 & AAGAB  &  5.3934778 &  5.4642630 &  5.2739382 & 5.42861575 &  5.434778 &  5.48011690 & 5.3105383 & 5.3367685 &  5.1670164 & ⋯ & ENSG00000103591 & 79719 & AAGAB  & alpha and gamma adaptin binding protein         & 15 &  67200667 &  67255195 & 39.47 & protein coding & -1\\\\\n",
       "\\end{tabular}\n"
      ],
      "text/markdown": [
       "\n",
       "A data.frame: 6 × 64\n",
       "\n",
       "| <!--/--> | Genesymbol &lt;chr&gt; | EtOH_04h_R1 &lt;dbl&gt; | EtOH_04h_R2 &lt;dbl&gt; | EtOH_04h_R3 &lt;dbl&gt; | EtOH_08h_R1 &lt;dbl&gt; | EtOH_08h_R2 &lt;dbl&gt; | EtOH_08h_R3 &lt;dbl&gt; | EtOH_24h_R1 &lt;dbl&gt; | EtOH_24h_R2 &lt;dbl&gt; | EtOH_24h_R3 &lt;dbl&gt; | ⋯ ⋯ | ensembl_gene_id &lt;chr&gt; | entrezgene_id &lt;int&gt; | external_gene_name &lt;chr&gt; | description &lt;chr&gt; | chromosome_name &lt;chr&gt; | start_position &lt;int&gt; | end_position &lt;int&gt; | percentage_gene_gc_content &lt;dbl&gt; | gene_biotype &lt;chr&gt; | strand &lt;int&gt; |\n",
       "|---|---|---|---|---|---|---|---|---|---|---|---|---|---|---|---|---|---|---|---|---|---|\n",
       "| 1 | A1BG   |  0.6699661 |  1.5716342 |  1.3436590 | 1.96288982 |  1.224317 |  1.85505743 | 2.9635154 | 2.8044871 |  2.2197667 | ⋯ | ENSG00000121410 |     1 | A1BG   | alpha-1-B glycoprotein                          | 19 |  58345178 |  58353492 | 55.80 | protein coding | -1 |\n",
       "| 2 | A2M    | -0.1493280 | -0.5732038 |  0.5753295 | 0.02594746 | -1.177576 | -0.04192958 | 0.3870933 | 0.8929844 | -0.3338175 | ⋯ | ENSG00000175899 |     2 | A2M    | alpha-2-macroglobulin                           | 12 |   9067664 |   9116229 | 37.18 | protein coding | -1 |\n",
       "| 3 | A4GALT |  1.0360548 |  0.1791040 | -0.5061997 | 1.81327202 |  1.441122 |  1.49762235 | 0.7995740 | 1.2555664 |  1.1367142 | ⋯ | ENSG00000128274 | 53947 | A4GALT | alpha 1,4-galactosyltransferase (P blood group) | 22 |  42692121 |  42721298 | 52.39 | protein coding | -1 |\n",
       "| 4 | AAAS   |  4.6847524 |  4.7243974 |  5.0412317 | 5.25087279 |  4.960263 |  5.15534332 | 5.2016303 | 5.3925019 |  5.2358878 | ⋯ | ENSG00000094914 |  8086 | AAAS   | aladin WD repeat nucleoporin                    | 12 |  53307456 |  53324864 | 49.39 | protein coding | -1 |\n",
       "| 5 | AACS   |  4.6052624 |  4.5081055 |  4.4018076 | 4.37823558 |  4.189747 |  4.20453034 | 4.6912469 | 4.9885575 |  4.3303553 | ⋯ | ENSG00000081760 | 65985 | AACS   | acetoacetyl-CoA synthetase                      | 12 | 125065434 | 125143333 | 51.20 | protein coding |  1 |\n",
       "| 6 | AAGAB  |  5.3934778 |  5.4642630 |  5.2739382 | 5.42861575 |  5.434778 |  5.48011690 | 5.3105383 | 5.3367685 |  5.1670164 | ⋯ | ENSG00000103591 | 79719 | AAGAB  | alpha and gamma adaptin binding protein         | 15 |  67200667 |  67255195 | 39.47 | protein coding | -1 |\n",
       "\n"
      ],
      "text/plain": [
       "  Genesymbol EtOH_04h_R1 EtOH_04h_R2 EtOH_04h_R3 EtOH_08h_R1 EtOH_08h_R2\n",
       "1 A1BG        0.6699661   1.5716342   1.3436590  1.96288982   1.224317  \n",
       "2 A2M        -0.1493280  -0.5732038   0.5753295  0.02594746  -1.177576  \n",
       "3 A4GALT      1.0360548   0.1791040  -0.5061997  1.81327202   1.441122  \n",
       "4 AAAS        4.6847524   4.7243974   5.0412317  5.25087279   4.960263  \n",
       "5 AACS        4.6052624   4.5081055   4.4018076  4.37823558   4.189747  \n",
       "6 AAGAB       5.3934778   5.4642630   5.2739382  5.42861575   5.434778  \n",
       "  EtOH_08h_R3 EtOH_24h_R1 EtOH_24h_R2 EtOH_24h_R3 <U+22EF>   ensembl_gene_id\n",
       "1  1.85505743 2.9635154   2.8044871    2.2197667  <U+22EF> ENSG00000121410\n",
       "2 -0.04192958 0.3870933   0.8929844   -0.3338175  <U+22EF> ENSG00000175899\n",
       "3  1.49762235 0.7995740   1.2555664    1.1367142  <U+22EF> ENSG00000128274\n",
       "4  5.15534332 5.2016303   5.3925019    5.2358878  <U+22EF> ENSG00000094914\n",
       "5  4.20453034 4.6912469   4.9885575    4.3303553  <U+22EF> ENSG00000081760\n",
       "6  5.48011690 5.3105383   5.3367685    5.1670164  <U+22EF> ENSG00000103591\n",
       "  entrezgene_id external_gene_name\n",
       "1     1         A1BG              \n",
       "2     2         A2M               \n",
       "3 53947         A4GALT            \n",
       "4  8086         AAAS              \n",
       "5 65985         AACS              \n",
       "6 79719         AAGAB             \n",
       "  description                                     chromosome_name\n",
       "1 alpha-1-B glycoprotein                          19             \n",
       "2 alpha-2-macroglobulin                           12             \n",
       "3 alpha 1,4-galactosyltransferase (P blood group) 22             \n",
       "4 aladin WD repeat nucleoporin                    12             \n",
       "5 acetoacetyl-CoA synthetase                      12             \n",
       "6 alpha and gamma adaptin binding protein         15             \n",
       "  start_position end_position percentage_gene_gc_content gene_biotype   strand\n",
       "1  58345178       58353492    55.80                      protein coding -1    \n",
       "2   9067664        9116229    37.18                      protein coding -1    \n",
       "3  42692121       42721298    52.39                      protein coding -1    \n",
       "4  53307456       53324864    49.39                      protein coding -1    \n",
       "5 125065434      125143333    51.20                      protein coding  1    \n",
       "6  67200667       67255195    39.47                      protein coding -1    "
      ]
     },
     "metadata": {},
     "output_type": "display_data"
    }
   ],
   "source": [
    "#head (x)\n",
    "x = x %>%\n",
    "rownames_to_column (\"Genesymbol\")\n",
    "\n",
    "head (x)"
   ]
  },
  {
   "cell_type": "code",
   "execution_count": 24,
   "id": "sized-contact",
   "metadata": {},
   "outputs": [],
   "source": [
    "x2 = x %>%\n",
    "select (c(Genesymbol, description, howmany))"
   ]
  },
  {
   "cell_type": "code",
   "execution_count": 25,
   "id": "mediterranean-swiss",
   "metadata": {},
   "outputs": [
    {
     "data": {
      "text/html": [
       "<table class=\"dataframe\">\n",
       "<caption>A data.frame: 6 × 3</caption>\n",
       "<thead>\n",
       "\t<tr><th></th><th scope=col>Genesymbol</th><th scope=col>description</th><th scope=col>howmany</th></tr>\n",
       "\t<tr><th></th><th scope=col>&lt;chr&gt;</th><th scope=col>&lt;chr&gt;</th><th scope=col>&lt;int&gt;</th></tr>\n",
       "</thead>\n",
       "<tbody>\n",
       "\t<tr><th scope=row>1</th><td>A1BG  </td><td>alpha-1-B glycoprotein                         </td><td>0</td></tr>\n",
       "\t<tr><th scope=row>2</th><td>A2M   </td><td>alpha-2-macroglobulin                          </td><td>0</td></tr>\n",
       "\t<tr><th scope=row>3</th><td>A4GALT</td><td>alpha 1,4-galactosyltransferase (P blood group)</td><td>0</td></tr>\n",
       "\t<tr><th scope=row>4</th><td>AAAS  </td><td>aladin WD repeat nucleoporin                   </td><td>0</td></tr>\n",
       "\t<tr><th scope=row>5</th><td>AACS  </td><td>acetoacetyl-CoA synthetase                     </td><td>0</td></tr>\n",
       "\t<tr><th scope=row>6</th><td>AAGAB </td><td>alpha and gamma adaptin binding protein        </td><td>0</td></tr>\n",
       "</tbody>\n",
       "</table>\n"
      ],
      "text/latex": [
       "A data.frame: 6 × 3\n",
       "\\begin{tabular}{r|lll}\n",
       "  & Genesymbol & description & howmany\\\\\n",
       "  & <chr> & <chr> & <int>\\\\\n",
       "\\hline\n",
       "\t1 & A1BG   & alpha-1-B glycoprotein                          & 0\\\\\n",
       "\t2 & A2M    & alpha-2-macroglobulin                           & 0\\\\\n",
       "\t3 & A4GALT & alpha 1,4-galactosyltransferase (P blood group) & 0\\\\\n",
       "\t4 & AAAS   & aladin WD repeat nucleoporin                    & 0\\\\\n",
       "\t5 & AACS   & acetoacetyl-CoA synthetase                      & 0\\\\\n",
       "\t6 & AAGAB  & alpha and gamma adaptin binding protein         & 0\\\\\n",
       "\\end{tabular}\n"
      ],
      "text/markdown": [
       "\n",
       "A data.frame: 6 × 3\n",
       "\n",
       "| <!--/--> | Genesymbol &lt;chr&gt; | description &lt;chr&gt; | howmany &lt;int&gt; |\n",
       "|---|---|---|---|\n",
       "| 1 | A1BG   | alpha-1-B glycoprotein                          | 0 |\n",
       "| 2 | A2M    | alpha-2-macroglobulin                           | 0 |\n",
       "| 3 | A4GALT | alpha 1,4-galactosyltransferase (P blood group) | 0 |\n",
       "| 4 | AAAS   | aladin WD repeat nucleoporin                    | 0 |\n",
       "| 5 | AACS   | acetoacetyl-CoA synthetase                      | 0 |\n",
       "| 6 | AAGAB  | alpha and gamma adaptin binding protein         | 0 |\n",
       "\n"
      ],
      "text/plain": [
       "  Genesymbol description                                     howmany\n",
       "1 A1BG       alpha-1-B glycoprotein                          0      \n",
       "2 A2M        alpha-2-macroglobulin                           0      \n",
       "3 A4GALT     alpha 1,4-galactosyltransferase (P blood group) 0      \n",
       "4 AAAS       aladin WD repeat nucleoporin                    0      \n",
       "5 AACS       acetoacetyl-CoA synthetase                      0      \n",
       "6 AAGAB      alpha and gamma adaptin binding protein         0      "
      ]
     },
     "metadata": {},
     "output_type": "display_data"
    }
   ],
   "source": [
    "head (x2)"
   ]
  },
  {
   "cell_type": "code",
   "execution_count": 26,
   "id": "tracked-infrastructure",
   "metadata": {},
   "outputs": [],
   "source": [
    "dc_test = dc_test %>%\n",
    "rename (Genesymbol = Gene.names...primary..)"
   ]
  },
  {
   "cell_type": "code",
   "execution_count": 27,
   "id": "swiss-happiness",
   "metadata": {},
   "outputs": [
    {
     "data": {
      "text/html": [
       "<table class=\"dataframe\">\n",
       "<caption>A tibble: 6 × 3</caption>\n",
       "<thead>\n",
       "\t<tr><th scope=col>Genesymbol</th><th scope=col>summary</th><th scope=col>sum2</th></tr>\n",
       "\t<tr><th scope=col>&lt;chr&gt;</th><th scope=col>&lt;chr&gt;</th><th scope=col>&lt;chr&gt;</th></tr>\n",
       "</thead>\n",
       "<tbody>\n",
       "\t<tr><td>AATK </td><td>enzyme              </td><td>enzyme              </td></tr>\n",
       "\t<tr><td>ABCB4</td><td>transporter         </td><td>transporter         </td></tr>\n",
       "\t<tr><td>ABCC3</td><td>transporter,  enzyme</td><td>transporter,  enzyme</td></tr>\n",
       "\t<tr><td>ACP3 </td><td>enzyme              </td><td>enzyme,             </td></tr>\n",
       "\t<tr><td>ACSL1</td><td>enzyme              </td><td>enzyme,             </td></tr>\n",
       "\t<tr><td>ACSM3</td><td>enzyme              </td><td>enzyme              </td></tr>\n",
       "</tbody>\n",
       "</table>\n"
      ],
      "text/latex": [
       "A tibble: 6 × 3\n",
       "\\begin{tabular}{lll}\n",
       " Genesymbol & summary & sum2\\\\\n",
       " <chr> & <chr> & <chr>\\\\\n",
       "\\hline\n",
       "\t AATK  & enzyme               & enzyme              \\\\\n",
       "\t ABCB4 & transporter          & transporter         \\\\\n",
       "\t ABCC3 & transporter,  enzyme & transporter,  enzyme\\\\\n",
       "\t ACP3  & enzyme               & enzyme,             \\\\\n",
       "\t ACSL1 & enzyme               & enzyme,             \\\\\n",
       "\t ACSM3 & enzyme               & enzyme              \\\\\n",
       "\\end{tabular}\n"
      ],
      "text/markdown": [
       "\n",
       "A tibble: 6 × 3\n",
       "\n",
       "| Genesymbol &lt;chr&gt; | summary &lt;chr&gt; | sum2 &lt;chr&gt; |\n",
       "|---|---|---|\n",
       "| AATK  | enzyme               | enzyme               |\n",
       "| ABCB4 | transporter          | transporter          |\n",
       "| ABCC3 | transporter,  enzyme | transporter,  enzyme |\n",
       "| ACP3  | enzyme               | enzyme,              |\n",
       "| ACSL1 | enzyme               | enzyme,              |\n",
       "| ACSM3 | enzyme               | enzyme               |\n",
       "\n"
      ],
      "text/plain": [
       "  Genesymbol summary              sum2                \n",
       "1 AATK       enzyme               enzyme              \n",
       "2 ABCB4      transporter          transporter         \n",
       "3 ABCC3      transporter,  enzyme transporter,  enzyme\n",
       "4 ACP3       enzyme               enzyme,             \n",
       "5 ACSL1      enzyme               enzyme,             \n",
       "6 ACSM3      enzyme               enzyme              "
      ]
     },
     "metadata": {},
     "output_type": "display_data"
    }
   ],
   "source": [
    "head (dc_test)"
   ]
  },
  {
   "cell_type": "code",
   "execution_count": 28,
   "id": "spiritual-senate",
   "metadata": {},
   "outputs": [],
   "source": [
    "mrg <- merge (x2, dc_test, by = \"Genesymbol\", all.x = T)"
   ]
  },
  {
   "cell_type": "markdown",
   "id": "ecological-capacity",
   "metadata": {},
   "source": [
    "I will use it in Script 3:"
   ]
  },
  {
   "cell_type": "code",
   "execution_count": 29,
   "id": "tracked-bidding",
   "metadata": {},
   "outputs": [],
   "source": [
    "write.table (mrg, \"./data/GO_mf_final.tsv\", sep = \"\\t\")"
   ]
  },
  {
   "cell_type": "code",
   "execution_count": 30,
   "id": "weighted-theme",
   "metadata": {},
   "outputs": [],
   "source": [
    "# test\n",
    "x = read.table (\"./data/GO_mf_final.tsv\", sep = \"\\t\")"
   ]
  },
  {
   "cell_type": "code",
   "execution_count": 31,
   "id": "artistic-emphasis",
   "metadata": {},
   "outputs": [
    {
     "data": {
      "text/html": [
       "<table class=\"dataframe\">\n",
       "<caption>A data.frame: 6 × 5</caption>\n",
       "<thead>\n",
       "\t<tr><th></th><th scope=col>Genesymbol</th><th scope=col>description</th><th scope=col>howmany</th><th scope=col>summary</th><th scope=col>sum2</th></tr>\n",
       "\t<tr><th></th><th scope=col>&lt;chr&gt;</th><th scope=col>&lt;chr&gt;</th><th scope=col>&lt;int&gt;</th><th scope=col>&lt;chr&gt;</th><th scope=col>&lt;chr&gt;</th></tr>\n",
       "</thead>\n",
       "<tbody>\n",
       "\t<tr><th scope=row>159</th><td>ACVR1B </td><td>activin A receptor type 1B                      </td><td>4</td><td>receptor, enzyme</td><td>receptor, enzyme</td></tr>\n",
       "\t<tr><th scope=row>2069</th><td>CLMN   </td><td>calmin                                          </td><td>4</td><td>                </td><td>                </td></tr>\n",
       "\t<tr><th scope=row>2489</th><td>CYP24A1</td><td>cytochrome P450 family 24 subfamily A member 1  </td><td>4</td><td>enzyme          </td><td>enzyme,         </td></tr>\n",
       "\t<tr><th scope=row>3202</th><td>ENTPD7 </td><td>ectonucleoside triphosphate diphosphohydrolase 7</td><td>4</td><td>enzyme          </td><td>enzyme,         </td></tr>\n",
       "\t<tr><th scope=row>3795</th><td>G0S2   </td><td>G0/G1 switch 2                                  </td><td>4</td><td>                </td><td>                </td></tr>\n",
       "\t<tr><th scope=row>4373</th><td>HBEGF  </td><td>heparin binding EGF like growth factor          </td><td>4</td><td>growth factor   </td><td>growth factor   </td></tr>\n",
       "</tbody>\n",
       "</table>\n"
      ],
      "text/latex": [
       "A data.frame: 6 × 5\n",
       "\\begin{tabular}{r|lllll}\n",
       "  & Genesymbol & description & howmany & summary & sum2\\\\\n",
       "  & <chr> & <chr> & <int> & <chr> & <chr>\\\\\n",
       "\\hline\n",
       "\t159 & ACVR1B  & activin A receptor type 1B                       & 4 & receptor, enzyme & receptor, enzyme\\\\\n",
       "\t2069 & CLMN    & calmin                                           & 4 &                  &                 \\\\\n",
       "\t2489 & CYP24A1 & cytochrome P450 family 24 subfamily A member 1   & 4 & enzyme           & enzyme,         \\\\\n",
       "\t3202 & ENTPD7  & ectonucleoside triphosphate diphosphohydrolase 7 & 4 & enzyme           & enzyme,         \\\\\n",
       "\t3795 & G0S2    & G0/G1 switch 2                                   & 4 &                  &                 \\\\\n",
       "\t4373 & HBEGF   & heparin binding EGF like growth factor           & 4 & growth factor    & growth factor   \\\\\n",
       "\\end{tabular}\n"
      ],
      "text/markdown": [
       "\n",
       "A data.frame: 6 × 5\n",
       "\n",
       "| <!--/--> | Genesymbol &lt;chr&gt; | description &lt;chr&gt; | howmany &lt;int&gt; | summary &lt;chr&gt; | sum2 &lt;chr&gt; |\n",
       "|---|---|---|---|---|---|\n",
       "| 159 | ACVR1B  | activin A receptor type 1B                       | 4 | receptor, enzyme | receptor, enzyme |\n",
       "| 2069 | CLMN    | calmin                                           | 4 | <!----> | <!----> |\n",
       "| 2489 | CYP24A1 | cytochrome P450 family 24 subfamily A member 1   | 4 | enzyme           | enzyme,          |\n",
       "| 3202 | ENTPD7  | ectonucleoside triphosphate diphosphohydrolase 7 | 4 | enzyme           | enzyme,          |\n",
       "| 3795 | G0S2    | G0/G1 switch 2                                   | 4 | <!----> | <!----> |\n",
       "| 4373 | HBEGF   | heparin binding EGF like growth factor           | 4 | growth factor    | growth factor    |\n",
       "\n"
      ],
      "text/plain": [
       "     Genesymbol description                                      howmany\n",
       "159  ACVR1B     activin A receptor type 1B                       4      \n",
       "2069 CLMN       calmin                                           4      \n",
       "2489 CYP24A1    cytochrome P450 family 24 subfamily A member 1   4      \n",
       "3202 ENTPD7     ectonucleoside triphosphate diphosphohydrolase 7 4      \n",
       "3795 G0S2       G0/G1 switch 2                                   4      \n",
       "4373 HBEGF      heparin binding EGF like growth factor           4      \n",
       "     summary          sum2            \n",
       "159  receptor, enzyme receptor, enzyme\n",
       "2069                                  \n",
       "2489 enzyme           enzyme,         \n",
       "3202 enzyme           enzyme,         \n",
       "3795                                  \n",
       "4373 growth factor    growth factor   "
      ]
     },
     "metadata": {},
     "output_type": "display_data"
    }
   ],
   "source": [
    "x%>%\n",
    "arrange (., -howmany) %>%\n",
    "head()"
   ]
  },
  {
   "cell_type": "markdown",
   "id": "global-customs",
   "metadata": {},
   "source": [
    "> Finalize via Script 3"
   ]
  },
  {
   "cell_type": "code",
   "execution_count": 32,
   "id": "structural-prime",
   "metadata": {},
   "outputs": [
    {
     "data": {
      "text/plain": [
       "R version 4.0.5 (2021-03-31)\n",
       "Platform: x86_64-conda-linux-gnu (64-bit)\n",
       "Running under: CentOS Linux 7 (Core)\n",
       "\n",
       "Matrix products: default\n",
       "BLAS/LAPACK: /home/users/andreha/miniconda3/envs/Mamba-21/lib/libopenblasp-r0.3.12.so\n",
       "\n",
       "locale:\n",
       " [1] LC_CTYPE=C                 LC_NUMERIC=C              \n",
       " [3] LC_TIME=en_US.UTF-8        LC_COLLATE=en_US.UTF-8    \n",
       " [5] LC_MONETARY=en_US.UTF-8    LC_MESSAGES=en_US.UTF-8   \n",
       " [7] LC_PAPER=en_US.UTF-8       LC_NAME=C                 \n",
       " [9] LC_ADDRESS=C               LC_TELEPHONE=C            \n",
       "[11] LC_MEASUREMENT=en_US.UTF-8 LC_IDENTIFICATION=C       \n",
       "\n",
       "attached base packages:\n",
       "[1] stats     graphics  grDevices utils     datasets  methods   base     \n",
       "\n",
       "other attached packages:\n",
       " [1] reshape2_1.4.4  statmod_1.4.35  openxlsx_4.2.3  forcats_0.5.1  \n",
       " [5] stringr_1.4.0   dplyr_1.0.5     purrr_0.3.4     readr_1.4.0    \n",
       " [9] tidyr_1.1.3     tibble_3.1.0    ggplot2_3.3.3   tidyverse_1.3.1\n",
       "\n",
       "loaded via a namespace (and not attached):\n",
       " [1] pbdZMQ_0.3-5      tidyselect_1.1.0  repr_1.1.3        haven_2.3.1      \n",
       " [5] colorspace_2.0-0  vctrs_0.3.6       generics_0.1.0    htmltools_0.5.1.1\n",
       " [9] base64enc_0.1-3   utf8_1.1.4        rlang_0.4.10      pillar_1.6.0     \n",
       "[13] glue_1.4.2        withr_2.4.1       DBI_1.1.1         dbplyr_2.1.1     \n",
       "[17] modelr_0.1.8      readxl_1.3.1      uuid_0.1-4        plyr_1.8.6       \n",
       "[21] lifecycle_1.0.0   munsell_0.5.0     gtable_0.3.0      cellranger_1.1.0 \n",
       "[25] zip_2.1.1         rvest_1.0.0       evaluate_0.14     ps_1.5.0         \n",
       "[29] fansi_0.4.2       broom_0.7.6       IRdisplay_1.0     Rcpp_1.0.6       \n",
       "[33] backports_1.2.1   scales_1.1.1      IRkernel_1.1.1    jsonlite_1.7.2   \n",
       "[37] fs_1.5.0          hms_1.0.0         digest_0.6.27     stringi_1.5.3    \n",
       "[41] grid_4.0.5        cli_2.4.0         tools_4.0.5       magrittr_2.0.1   \n",
       "[45] crayon_1.4.1      pkgconfig_2.0.3   ellipsis_0.3.1    xml2_1.3.2       \n",
       "[49] reprex_2.0.0      lubridate_1.7.10  assertthat_0.2.1  httr_1.4.2       \n",
       "[53] rstudioapi_0.13   R6_2.5.0          compiler_4.0.5   "
      ]
     },
     "metadata": {},
     "output_type": "display_data"
    }
   ],
   "source": [
    "sessionInfo()"
   ]
  },
  {
   "cell_type": "code",
   "execution_count": null,
   "id": "advised-excellence",
   "metadata": {},
   "outputs": [],
   "source": []
  }
 ],
 "metadata": {
  "kernelspec": {
   "display_name": "R",
   "language": "R",
   "name": "ir"
  },
  "language_info": {
   "codemirror_mode": "r",
   "file_extension": ".r",
   "mimetype": "text/x-r-source",
   "name": "R",
   "pygments_lexer": "r",
   "version": "4.0.5"
  }
 },
 "nbformat": 4,
 "nbformat_minor": 5
}
