{
 "cells": [
  {
   "cell_type": "markdown",
   "id": "everyday-provider",
   "metadata": {},
   "source": [
    "### Enrichment tests related to Fig. 1 & Fig. 2\n",
    "Distinction between stimulating and stabilizing effects of 1,25(OH)2D3:  \n",
    "\n",
    "Tests whether k-means clusters 1 & 2 (direct targets) and 3 & 4 (indirect targets) are significantly enriched for primary / secondary target genes, up/down -regulated genes"
   ]
  },
  {
   "cell_type": "code",
   "execution_count": 1,
   "id": "active-geography",
   "metadata": {},
   "outputs": [
    {
     "name": "stderr",
     "output_type": "stream",
     "text": [
      "\n",
      "Attaching package: 'rstatix'\n",
      "\n",
      "\n",
      "The following object is masked from 'package:stats':\n",
      "\n",
      "    filter\n",
      "\n",
      "\n",
      "-- \u001b[1mAttaching packages\u001b[22m ------------------------------------------------------------------------ tidyverse 1.3.1 --\n",
      "\n",
      "\u001b[32mv\u001b[39m \u001b[34mggplot2\u001b[39m 3.3.3     \u001b[32mv\u001b[39m \u001b[34mpurrr  \u001b[39m 0.3.4\n",
      "\u001b[32mv\u001b[39m \u001b[34mtibble \u001b[39m 3.1.0     \u001b[32mv\u001b[39m \u001b[34mdplyr  \u001b[39m 1.0.5\n",
      "\u001b[32mv\u001b[39m \u001b[34mtidyr  \u001b[39m 1.1.3     \u001b[32mv\u001b[39m \u001b[34mstringr\u001b[39m 1.4.0\n",
      "\u001b[32mv\u001b[39m \u001b[34mreadr  \u001b[39m 1.4.0     \u001b[32mv\u001b[39m \u001b[34mforcats\u001b[39m 0.5.1\n",
      "\n",
      "-- \u001b[1mConflicts\u001b[22m --------------------------------------------------------------------------- tidyverse_conflicts() --\n",
      "\u001b[31mx\u001b[39m \u001b[34mdplyr\u001b[39m::\u001b[32mfilter()\u001b[39m masks \u001b[34mrstatix\u001b[39m::filter(), \u001b[34mstats\u001b[39m::filter()\n",
      "\u001b[31mx\u001b[39m \u001b[34mdplyr\u001b[39m::\u001b[32mlag()\u001b[39m    masks \u001b[34mstats\u001b[39m::lag()\n",
      "\n",
      "\n",
      "Attaching package: 'gplots'\n",
      "\n",
      "\n",
      "The following object is masked from 'package:stats':\n",
      "\n",
      "    lowess\n",
      "\n",
      "\n"
     ]
    }
   ],
   "source": [
    "library (rstatix)\n",
    "library (tidyverse)\n",
    "library (gplots)"
   ]
  },
  {
   "cell_type": "code",
   "execution_count": 2,
   "id": "different-manitoba",
   "metadata": {},
   "outputs": [],
   "source": [
    "fig <- function(width, heigth){\n",
    "options(repr.plot.width = width, repr.plot.height = heigth) }"
   ]
  },
  {
   "cell_type": "code",
   "execution_count": 3,
   "id": "close-laundry",
   "metadata": {},
   "outputs": [],
   "source": [
    "x = read.table (\"./data/f_time2020_inlog_FC15_FC2_evidence-threshold_KM.tsv\", header =T, row.names = 1)"
   ]
  },
  {
   "cell_type": "code",
   "execution_count": 4,
   "id": "charitable-singing",
   "metadata": {},
   "outputs": [],
   "source": [
    "#str (x)"
   ]
  },
  {
   "cell_type": "code",
   "execution_count": 5,
   "id": "disturbed-marking",
   "metadata": {},
   "outputs": [
    {
     "data": {
      "text/html": [
       "'Primary targets: 179'"
      ],
      "text/latex": [
       "'Primary targets: 179'"
      ],
      "text/markdown": [
       "'Primary targets: 179'"
      ],
      "text/plain": [
       "[1] \"Primary targets: 179\""
      ]
     },
     "metadata": {},
     "output_type": "display_data"
    },
    {
     "data": {
      "text/html": [
       "'Primary &amp; direct: 105'"
      ],
      "text/latex": [
       "'Primary \\& direct: 105'"
      ],
      "text/markdown": [
       "'Primary &amp; direct: 105'"
      ],
      "text/plain": [
       "[1] \"Primary & direct: 105\""
      ]
     },
     "metadata": {},
     "output_type": "display_data"
    }
   ],
   "source": [
    "primary = x %>%\n",
    "filter (., Target_04h == \"yes\" | Target_08h == \"yes\")\n",
    "\n",
    "sprintf(\"Primary targets: %s\", nrow (primary))\n",
    "\n",
    "primary_dir = primary %>%\n",
    "filter (., cluster == 1 | cluster == 2)\n",
    "\n",
    "sprintf(\"Primary & direct: %s\", nrow (primary_dir))\n",
    "\n",
    "#dim (primary)"
   ]
  },
  {
   "cell_type": "code",
   "execution_count": 6,
   "id": "cleared-offer",
   "metadata": {},
   "outputs": [
    {
     "data": {
      "text/html": [
       "'Secondary targets: 483'"
      ],
      "text/latex": [
       "'Secondary targets: 483'"
      ],
      "text/markdown": [
       "'Secondary targets: 483'"
      ],
      "text/plain": [
       "[1] \"Secondary targets: 483\""
      ]
     },
     "metadata": {},
     "output_type": "display_data"
    },
    {
     "data": {
      "text/html": [
       "'Secondary &amp; direct: 188'"
      ],
      "text/latex": [
       "'Secondary \\& direct: 188'"
      ],
      "text/markdown": [
       "'Secondary &amp; direct: 188'"
      ],
      "text/plain": [
       "[1] \"Secondary & direct: 188\""
      ]
     },
     "metadata": {},
     "output_type": "display_data"
    }
   ],
   "source": [
    "secondary = x %>%\n",
    "filter (., howmany > 0) %>%\n",
    "filter (., Target_08h != \"yes\")\n",
    "\n",
    "sprintf(\"Secondary targets: %s\", nrow (secondary))\n",
    "\n",
    "secondary_dir = secondary %>%\n",
    "filter (., cluster == 1 | cluster == 2)\n",
    "\n",
    "sprintf(\"Secondary & direct: %s\", nrow (secondary_dir))\n",
    "\n",
    "#dim (primary)"
   ]
  },
  {
   "cell_type": "code",
   "execution_count": 7,
   "id": "central-jefferson",
   "metadata": {},
   "outputs": [
    {
     "data": {
      "text/html": [
       "<table class=\"dataframe\">\n",
       "<caption>A matrix: 3 × 2 of type chr</caption>\n",
       "<tbody>\n",
       "\t<tr><th scope=row>class</th><td>primary</td><td>secondary</td></tr>\n",
       "\t<tr><th scope=row>direct</th><td>105    </td><td>188      </td></tr>\n",
       "\t<tr><th scope=row>indirect</th><td> 74    </td><td>295      </td></tr>\n",
       "</tbody>\n",
       "</table>\n"
      ],
      "text/latex": [
       "A matrix: 3 × 2 of type chr\n",
       "\\begin{tabular}{r|ll}\n",
       "\tclass & primary & secondary\\\\\n",
       "\tdirect & 105     & 188      \\\\\n",
       "\tindirect &  74     & 295      \\\\\n",
       "\\end{tabular}\n"
      ],
      "text/markdown": [
       "\n",
       "A matrix: 3 × 2 of type chr\n",
       "\n",
       "| class | primary | secondary |\n",
       "| direct | 105     | 188       |\n",
       "| indirect |  74     | 295       |\n",
       "\n"
      ],
      "text/plain": [
       "         [,1]    [,2]     \n",
       "class    primary secondary\n",
       "direct   105     188      \n",
       "indirect  74     295      "
      ]
     },
     "metadata": {},
     "output_type": "display_data"
    }
   ],
   "source": [
    "class <- c(\"primary\", \"secondary\")\n",
    "direct <- c(105,188)\n",
    "indirect <- c(74,295)\n",
    "\n",
    "dt = as_tibble (list(\n",
    "  class = class,\n",
    "  direct=direct,\n",
    "  indirect=indirect\n",
    "))\n",
    "\n",
    "d2 = (t(dt))\n",
    "\n",
    "d2"
   ]
  },
  {
   "cell_type": "code",
   "execution_count": 8,
   "id": "heavy-visibility",
   "metadata": {},
   "outputs": [
    {
     "data": {
      "text/html": [
       "<table class=\"dataframe\">\n",
       "<caption>A tibble: 4 × 3</caption>\n",
       "<thead>\n",
       "\t<tr><th scope=col>class</th><th scope=col>group</th><th scope=col>value</th></tr>\n",
       "\t<tr><th scope=col>&lt;chr&gt;</th><th scope=col>&lt;chr&gt;</th><th scope=col>&lt;dbl&gt;</th></tr>\n",
       "</thead>\n",
       "<tbody>\n",
       "\t<tr><td>primary  </td><td>direct  </td><td>105</td></tr>\n",
       "\t<tr><td>primary  </td><td>indirect</td><td> 74</td></tr>\n",
       "\t<tr><td>secondary</td><td>direct  </td><td>188</td></tr>\n",
       "\t<tr><td>secondary</td><td>indirect</td><td>295</td></tr>\n",
       "</tbody>\n",
       "</table>\n"
      ],
      "text/latex": [
       "A tibble: 4 × 3\n",
       "\\begin{tabular}{lll}\n",
       " class & group & value\\\\\n",
       " <chr> & <chr> & <dbl>\\\\\n",
       "\\hline\n",
       "\t primary   & direct   & 105\\\\\n",
       "\t primary   & indirect &  74\\\\\n",
       "\t secondary & direct   & 188\\\\\n",
       "\t secondary & indirect & 295\\\\\n",
       "\\end{tabular}\n"
      ],
      "text/markdown": [
       "\n",
       "A tibble: 4 × 3\n",
       "\n",
       "| class &lt;chr&gt; | group &lt;chr&gt; | value &lt;dbl&gt; |\n",
       "|---|---|---|\n",
       "| primary   | direct   | 105 |\n",
       "| primary   | indirect |  74 |\n",
       "| secondary | direct   | 188 |\n",
       "| secondary | indirect | 295 |\n",
       "\n"
      ],
      "text/plain": [
       "  class     group    value\n",
       "1 primary   direct   105  \n",
       "2 primary   indirect  74  \n",
       "3 secondary direct   188  \n",
       "4 secondary indirect 295  "
      ]
     },
     "metadata": {},
     "output_type": "display_data"
    },
    {
     "data": {
      "image/png": "[encoded data removed]",
      "text/plain": [
       "plot without title"
      ]
     },
     "metadata": {
      "image/png": {
       "height": 360,
       "width": 300
      }
     },
     "output_type": "display_data"
    }
   ],
   "source": [
    "fig (5,6)\n",
    "\n",
    "dt %>% \n",
    "  pivot_longer(., c(\"direct\", \"indirect\"), names_to = \"group\") -> d1\n",
    "\n",
    "#contingency table\n",
    "head (d1)\n",
    "\n",
    "ggplot(data = d1, aes(x=class, y=value , fill=group)) +\n",
    "  geom_bar(stat=\"identity\", position = position_dodge())"
   ]
  },
  {
   "cell_type": "code",
   "execution_count": 9,
   "id": "generous-israeli",
   "metadata": {},
   "outputs": [],
   "source": [
    "dt = as_tibble (list(\n",
    "  class = class,\n",
    "  direct=direct,\n",
    "  indirect=indirect\n",
    "))\n",
    "\n",
    "dt = dt %>%\n",
    "  column_to_rownames(\"class\")"
   ]
  },
  {
   "cell_type": "code",
   "execution_count": 10,
   "id": "cross-phenomenon",
   "metadata": {},
   "outputs": [
    {
     "data": {
      "text/html": [
       "<table class=\"dataframe\">\n",
       "<caption>A rstatix_test: 1 × 8</caption>\n",
       "<thead>\n",
       "\t<tr><th></th><th scope=col>n</th><th scope=col>estimate</th><th scope=col>p</th><th scope=col>conf.low</th><th scope=col>conf.high</th><th scope=col>method</th><th scope=col>alternative</th><th scope=col>p.signif</th></tr>\n",
       "\t<tr><th></th><th scope=col>&lt;dbl&gt;</th><th scope=col>&lt;dbl&gt;</th><th scope=col>&lt;dbl&gt;</th><th scope=col>&lt;dbl&gt;</th><th scope=col>&lt;dbl&gt;</th><th scope=col>&lt;chr&gt;</th><th scope=col>&lt;chr&gt;</th><th scope=col>&lt;chr&gt;</th></tr>\n",
       "</thead>\n",
       "<tbody>\n",
       "\t<tr><th scope=row>1</th><td>662</td><td>2.223731</td><td>6.61e-06</td><td>1.54723</td><td>3.208298</td><td>Fisher's Exact test</td><td>two.sided</td><td>****</td></tr>\n",
       "</tbody>\n",
       "</table>\n"
      ],
      "text/latex": [
       "A rstatix\\_test: 1 × 8\n",
       "\\begin{tabular}{r|llllllll}\n",
       "  & n & estimate & p & conf.low & conf.high & method & alternative & p.signif\\\\\n",
       "  & <dbl> & <dbl> & <dbl> & <dbl> & <dbl> & <chr> & <chr> & <chr>\\\\\n",
       "\\hline\n",
       "\t1 & 662 & 2.223731 & 6.61e-06 & 1.54723 & 3.208298 & Fisher's Exact test & two.sided & ****\\\\\n",
       "\\end{tabular}\n"
      ],
      "text/markdown": [
       "\n",
       "A rstatix_test: 1 × 8\n",
       "\n",
       "| <!--/--> | n &lt;dbl&gt; | estimate &lt;dbl&gt; | p &lt;dbl&gt; | conf.low &lt;dbl&gt; | conf.high &lt;dbl&gt; | method &lt;chr&gt; | alternative &lt;chr&gt; | p.signif &lt;chr&gt; |\n",
       "|---|---|---|---|---|---|---|---|---|\n",
       "| 1 | 662 | 2.223731 | 6.61e-06 | 1.54723 | 3.208298 | Fisher's Exact test | two.sided | **** |\n",
       "\n"
      ],
      "text/plain": [
       "  n   estimate p        conf.low conf.high method              alternative\n",
       "1 662 2.223731 6.61e-06 1.54723  3.208298  Fisher's Exact test two.sided  \n",
       "  p.signif\n",
       "1 ****    "
      ]
     },
     "metadata": {},
     "output_type": "display_data"
    },
    {
     "data": {
      "text/html": [
       "<table class=\"dataframe\">\n",
       "<caption>A rstatix_test: 2 × 5</caption>\n",
       "<thead>\n",
       "\t<tr><th></th><th scope=col>group</th><th scope=col>n</th><th scope=col>p</th><th scope=col>p.adj</th><th scope=col>p.adj.signif</th></tr>\n",
       "\t<tr><th></th><th scope=col>&lt;chr&gt;</th><th scope=col>&lt;dbl&gt;</th><th scope=col>&lt;dbl&gt;</th><th scope=col>&lt;dbl&gt;</th><th scope=col>&lt;chr&gt;</th></tr>\n",
       "</thead>\n",
       "<tbody>\n",
       "\t<tr><th scope=row>1</th><td>primary  </td><td>662</td><td>6.61e-06</td><td>6.61e-06</td><td>****</td></tr>\n",
       "\t<tr><th scope=row>2</th><td>secondary</td><td>662</td><td>6.61e-06</td><td>6.61e-06</td><td>****</td></tr>\n",
       "</tbody>\n",
       "</table>\n"
      ],
      "text/latex": [
       "A rstatix\\_test: 2 × 5\n",
       "\\begin{tabular}{r|lllll}\n",
       "  & group & n & p & p.adj & p.adj.signif\\\\\n",
       "  & <chr> & <dbl> & <dbl> & <dbl> & <chr>\\\\\n",
       "\\hline\n",
       "\t1 & primary   & 662 & 6.61e-06 & 6.61e-06 & ****\\\\\n",
       "\t2 & secondary & 662 & 6.61e-06 & 6.61e-06 & ****\\\\\n",
       "\\end{tabular}\n"
      ],
      "text/markdown": [
       "\n",
       "A rstatix_test: 2 × 5\n",
       "\n",
       "| <!--/--> | group &lt;chr&gt; | n &lt;dbl&gt; | p &lt;dbl&gt; | p.adj &lt;dbl&gt; | p.adj.signif &lt;chr&gt; |\n",
       "|---|---|---|---|---|---|\n",
       "| 1 | primary   | 662 | 6.61e-06 | 6.61e-06 | **** |\n",
       "| 2 | secondary | 662 | 6.61e-06 | 6.61e-06 | **** |\n",
       "\n"
      ],
      "text/plain": [
       "  group     n   p        p.adj    p.adj.signif\n",
       "1 primary   662 6.61e-06 6.61e-06 ****        \n",
       "2 secondary 662 6.61e-06 6.61e-06 ****        "
      ]
     },
     "metadata": {},
     "output_type": "display_data"
    }
   ],
   "source": [
    "fisher_test(dt, detailed = TRUE)\n",
    "row_wise_fisher_test(dt, p.adjust.method = \"BH\")"
   ]
  },
  {
   "cell_type": "markdown",
   "id": "executive-april",
   "metadata": {},
   "source": [
    "> OR = 2.2  \n",
    "> Primary vitamin D responding genes are 2.2-times more often found to be direct targets."
   ]
  },
  {
   "cell_type": "markdown",
   "id": "senior-mapping",
   "metadata": {},
   "source": [
    "#### Is there a relationship between up/down-regulated and direct/indirect effect?"
   ]
  },
  {
   "cell_type": "code",
   "execution_count": 11,
   "id": "ahead-sailing",
   "metadata": {},
   "outputs": [
    {
     "data": {
      "text/html": [
       "<table class=\"dataframe\">\n",
       "<caption>A tibble: 2 × 3</caption>\n",
       "<thead>\n",
       "\t<tr><th scope=col>class</th><th scope=col>indirect</th><th scope=col>direct</th></tr>\n",
       "\t<tr><th scope=col>&lt;chr&gt;</th><th scope=col>&lt;dbl&gt;</th><th scope=col>&lt;dbl&gt;</th></tr>\n",
       "</thead>\n",
       "<tbody>\n",
       "\t<tr><td>down</td><td>280</td><td>148</td></tr>\n",
       "\t<tr><td>up  </td><td> 89</td><td>145</td></tr>\n",
       "</tbody>\n",
       "</table>\n"
      ],
      "text/latex": [
       "A tibble: 2 × 3\n",
       "\\begin{tabular}{lll}\n",
       " class & indirect & direct\\\\\n",
       " <chr> & <dbl> & <dbl>\\\\\n",
       "\\hline\n",
       "\t down & 280 & 148\\\\\n",
       "\t up   &  89 & 145\\\\\n",
       "\\end{tabular}\n"
      ],
      "text/markdown": [
       "\n",
       "A tibble: 2 × 3\n",
       "\n",
       "| class &lt;chr&gt; | indirect &lt;dbl&gt; | direct &lt;dbl&gt; |\n",
       "|---|---|---|\n",
       "| down | 280 | 148 |\n",
       "| up   |  89 | 145 |\n",
       "\n"
      ],
      "text/plain": [
       "  class indirect direct\n",
       "1 down  280      148   \n",
       "2 up     89      145   "
      ]
     },
     "metadata": {},
     "output_type": "display_data"
    },
    {
     "data": {
      "text/html": [
       "<table class=\"dataframe\">\n",
       "<caption>A tibble: 4 × 3</caption>\n",
       "<thead>\n",
       "\t<tr><th scope=col>class</th><th scope=col>group</th><th scope=col>value</th></tr>\n",
       "\t<tr><th scope=col>&lt;chr&gt;</th><th scope=col>&lt;chr&gt;</th><th scope=col>&lt;dbl&gt;</th></tr>\n",
       "</thead>\n",
       "<tbody>\n",
       "\t<tr><td>down</td><td>direct  </td><td>148</td></tr>\n",
       "\t<tr><td>down</td><td>indirect</td><td>280</td></tr>\n",
       "\t<tr><td>up  </td><td>direct  </td><td>145</td></tr>\n",
       "\t<tr><td>up  </td><td>indirect</td><td> 89</td></tr>\n",
       "</tbody>\n",
       "</table>\n"
      ],
      "text/latex": [
       "A tibble: 4 × 3\n",
       "\\begin{tabular}{lll}\n",
       " class & group & value\\\\\n",
       " <chr> & <chr> & <dbl>\\\\\n",
       "\\hline\n",
       "\t down & direct   & 148\\\\\n",
       "\t down & indirect & 280\\\\\n",
       "\t up   & direct   & 145\\\\\n",
       "\t up   & indirect &  89\\\\\n",
       "\\end{tabular}\n"
      ],
      "text/markdown": [
       "\n",
       "A tibble: 4 × 3\n",
       "\n",
       "| class &lt;chr&gt; | group &lt;chr&gt; | value &lt;dbl&gt; |\n",
       "|---|---|---|\n",
       "| down | direct   | 148 |\n",
       "| down | indirect | 280 |\n",
       "| up   | direct   | 145 |\n",
       "| up   | indirect |  89 |\n",
       "\n"
      ],
      "text/plain": [
       "  class group    value\n",
       "1 down  direct   148  \n",
       "2 down  indirect 280  \n",
       "3 up    direct   145  \n",
       "4 up    indirect  89  "
      ]
     },
     "metadata": {},
     "output_type": "display_data"
    },
    {
     "data": {
      "image/png": "[encoded data removed]",
      "text/plain": [
       "plot without title"
      ]
     },
     "metadata": {
      "image/png": {
       "height": 360,
       "width": 300
      }
     },
     "output_type": "display_data"
    }
   ],
   "source": [
    "class <- c(\"down\", \"up\")\n",
    "indirect <- c(280,89)\n",
    "direct <- c(148,145)\n",
    "\n",
    "dt = as_tibble (list(\n",
    "  class = class,\n",
    "  indirect=indirect,\n",
    "  direct=direct\n",
    "))\n",
    "\n",
    "dt\n",
    "\n",
    "fig (5,6)\n",
    "\n",
    "dt %>% \n",
    "  pivot_longer(., c(\"direct\", \"indirect\"), names_to = \"group\") -> d1\n",
    "\n",
    "#contingency table\n",
    "head (d1)\n",
    "\n",
    "ggplot(data = d1, aes(x=class, y=value , fill=group)) +\n",
    "  geom_bar(stat=\"identity\", position = position_dodge())"
   ]
  },
  {
   "cell_type": "code",
   "execution_count": 12,
   "id": "prompt-racing",
   "metadata": {},
   "outputs": [
    {
     "data": {
      "text/plain": [
       "         down  up\n",
       "indirect  280  89\n",
       "direct    148 145"
      ]
     },
     "metadata": {},
     "output_type": "display_data"
    },
    {
     "data": {
      "text/html": [
       "<table class=\"dataframe\">\n",
       "<caption>A rstatix_test: 1 × 8</caption>\n",
       "<thead>\n",
       "\t<tr><th></th><th scope=col>n</th><th scope=col>estimate</th><th scope=col>p</th><th scope=col>conf.low</th><th scope=col>conf.high</th><th scope=col>method</th><th scope=col>alternative</th><th scope=col>p.signif</th></tr>\n",
       "\t<tr><th></th><th scope=col>&lt;dbl&gt;</th><th scope=col>&lt;dbl&gt;</th><th scope=col>&lt;dbl&gt;</th><th scope=col>&lt;dbl&gt;</th><th scope=col>&lt;dbl&gt;</th><th scope=col>&lt;chr&gt;</th><th scope=col>&lt;chr&gt;</th><th scope=col>&lt;chr&gt;</th></tr>\n",
       "</thead>\n",
       "<tbody>\n",
       "\t<tr><th scope=row>1</th><td>662</td><td>3.076744</td><td>1.41e-11</td><td>2.185094</td><td>4.351175</td><td>Fisher's Exact test</td><td>two.sided</td><td>****</td></tr>\n",
       "</tbody>\n",
       "</table>\n"
      ],
      "text/latex": [
       "A rstatix\\_test: 1 × 8\n",
       "\\begin{tabular}{r|llllllll}\n",
       "  & n & estimate & p & conf.low & conf.high & method & alternative & p.signif\\\\\n",
       "  & <dbl> & <dbl> & <dbl> & <dbl> & <dbl> & <chr> & <chr> & <chr>\\\\\n",
       "\\hline\n",
       "\t1 & 662 & 3.076744 & 1.41e-11 & 2.185094 & 4.351175 & Fisher's Exact test & two.sided & ****\\\\\n",
       "\\end{tabular}\n"
      ],
      "text/markdown": [
       "\n",
       "A rstatix_test: 1 × 8\n",
       "\n",
       "| <!--/--> | n &lt;dbl&gt; | estimate &lt;dbl&gt; | p &lt;dbl&gt; | conf.low &lt;dbl&gt; | conf.high &lt;dbl&gt; | method &lt;chr&gt; | alternative &lt;chr&gt; | p.signif &lt;chr&gt; |\n",
       "|---|---|---|---|---|---|---|---|---|\n",
       "| 1 | 662 | 3.076744 | 1.41e-11 | 2.185094 | 4.351175 | Fisher's Exact test | two.sided | **** |\n",
       "\n"
      ],
      "text/plain": [
       "  n   estimate p        conf.low conf.high method              alternative\n",
       "1 662 3.076744 1.41e-11 2.185094 4.351175  Fisher's Exact test two.sided  \n",
       "  p.signif\n",
       "1 ****    "
      ]
     },
     "metadata": {},
     "output_type": "display_data"
    },
    {
     "data": {
      "text/html": [
       "<table class=\"dataframe\">\n",
       "<caption>A rstatix_test: 2 × 5</caption>\n",
       "<thead>\n",
       "\t<tr><th></th><th scope=col>group</th><th scope=col>n</th><th scope=col>p</th><th scope=col>p.adj</th><th scope=col>p.adj.signif</th></tr>\n",
       "\t<tr><th></th><th scope=col>&lt;chr&gt;</th><th scope=col>&lt;dbl&gt;</th><th scope=col>&lt;dbl&gt;</th><th scope=col>&lt;dbl&gt;</th><th scope=col>&lt;chr&gt;</th></tr>\n",
       "</thead>\n",
       "<tbody>\n",
       "\t<tr><th scope=row>1</th><td>indirect</td><td>662</td><td>1.41e-11</td><td>1.41e-11</td><td>****</td></tr>\n",
       "\t<tr><th scope=row>2</th><td>direct  </td><td>662</td><td>1.41e-11</td><td>1.41e-11</td><td>****</td></tr>\n",
       "</tbody>\n",
       "</table>\n"
      ],
      "text/latex": [
       "A rstatix\\_test: 2 × 5\n",
       "\\begin{tabular}{r|lllll}\n",
       "  & group & n & p & p.adj & p.adj.signif\\\\\n",
       "  & <chr> & <dbl> & <dbl> & <dbl> & <chr>\\\\\n",
       "\\hline\n",
       "\t1 & indirect & 662 & 1.41e-11 & 1.41e-11 & ****\\\\\n",
       "\t2 & direct   & 662 & 1.41e-11 & 1.41e-11 & ****\\\\\n",
       "\\end{tabular}\n"
      ],
      "text/markdown": [
       "\n",
       "A rstatix_test: 2 × 5\n",
       "\n",
       "| <!--/--> | group &lt;chr&gt; | n &lt;dbl&gt; | p &lt;dbl&gt; | p.adj &lt;dbl&gt; | p.adj.signif &lt;chr&gt; |\n",
       "|---|---|---|---|---|---|\n",
       "| 1 | indirect | 662 | 1.41e-11 | 1.41e-11 | **** |\n",
       "| 2 | direct   | 662 | 1.41e-11 | 1.41e-11 | **** |\n",
       "\n"
      ],
      "text/plain": [
       "  group    n   p        p.adj    p.adj.signif\n",
       "1 indirect 662 1.41e-11 1.41e-11 ****        \n",
       "2 direct   662 1.41e-11 1.41e-11 ****        "
      ]
     },
     "metadata": {},
     "output_type": "display_data"
    }
   ],
   "source": [
    "class <- c(\"down\", \"up\")\n",
    "indirect <- c(280,89)\n",
    "direct <- c(148,145)\n",
    "\n",
    "dt = as_tibble (list(\n",
    "  class = class,\n",
    "  indirect=indirect,\n",
    "  direct=direct\n",
    "))\n",
    "\n",
    "#dt\n",
    "\n",
    "dt = dt %>%\n",
    "  column_to_rownames(\"class\")\n",
    "\n",
    "#correct form\n",
    "d2 = as.table(t(dt))\n",
    "\n",
    "d2\n",
    "\n",
    "\n",
    "fisher_test(d2, detailed = TRUE)\n",
    "row_wise_fisher_test(d2, p.adjust.method = \"BH\")"
   ]
  },
  {
   "cell_type": "markdown",
   "id": "integral-stevens",
   "metadata": {},
   "source": [
    "> OR = 3.07  \n",
    "> Down-regulated genes are nearly 3.1-times more likely indirect vitamin D targets than up-regulated genes"
   ]
  },
  {
   "cell_type": "code",
   "execution_count": 13,
   "id": "allied-spyware",
   "metadata": {},
   "outputs": [],
   "source": [
    "############# enrichment of persistent under direct?\n",
    "\n",
    "persistent_dir = 42+77+39+68\n",
    "persistent_indir = 35+140+16+53\n",
    "\n",
    "trans_dir = 2+15+21\n",
    "trans_indir = 12+77+2+2"
   ]
  },
  {
   "cell_type": "code",
   "execution_count": 14,
   "id": "coordinated-holmes",
   "metadata": {},
   "outputs": [
    {
     "data": {
      "text/html": [
       "<table class=\"dataframe\">\n",
       "<caption>A tibble: 2 × 3</caption>\n",
       "<thead>\n",
       "\t<tr><th scope=col>class</th><th scope=col>direct</th><th scope=col>indirect</th></tr>\n",
       "\t<tr><th scope=col>&lt;chr&gt;</th><th scope=col>&lt;dbl&gt;</th><th scope=col>&lt;dbl&gt;</th></tr>\n",
       "</thead>\n",
       "<tbody>\n",
       "\t<tr><td>pers </td><td>226</td><td>244</td></tr>\n",
       "\t<tr><td>trans</td><td> 38</td><td> 93</td></tr>\n",
       "</tbody>\n",
       "</table>\n"
      ],
      "text/latex": [
       "A tibble: 2 × 3\n",
       "\\begin{tabular}{lll}\n",
       " class & direct & indirect\\\\\n",
       " <chr> & <dbl> & <dbl>\\\\\n",
       "\\hline\n",
       "\t pers  & 226 & 244\\\\\n",
       "\t trans &  38 &  93\\\\\n",
       "\\end{tabular}\n"
      ],
      "text/markdown": [
       "\n",
       "A tibble: 2 × 3\n",
       "\n",
       "| class &lt;chr&gt; | direct &lt;dbl&gt; | indirect &lt;dbl&gt; |\n",
       "|---|---|---|\n",
       "| pers  | 226 | 244 |\n",
       "| trans |  38 |  93 |\n",
       "\n"
      ],
      "text/plain": [
       "  class direct indirect\n",
       "1 pers  226    244     \n",
       "2 trans  38     93     "
      ]
     },
     "metadata": {},
     "output_type": "display_data"
    },
    {
     "data": {
      "text/html": [
       "<table class=\"dataframe\">\n",
       "<caption>A rstatix_test: 1 × 8</caption>\n",
       "<thead>\n",
       "\t<tr><th></th><th scope=col>n</th><th scope=col>estimate</th><th scope=col>p</th><th scope=col>conf.low</th><th scope=col>conf.high</th><th scope=col>method</th><th scope=col>alternative</th><th scope=col>p.signif</th></tr>\n",
       "\t<tr><th></th><th scope=col>&lt;dbl&gt;</th><th scope=col>&lt;dbl&gt;</th><th scope=col>&lt;dbl&gt;</th><th scope=col>&lt;dbl&gt;</th><th scope=col>&lt;dbl&gt;</th><th scope=col>&lt;chr&gt;</th><th scope=col>&lt;chr&gt;</th><th scope=col>&lt;chr&gt;</th></tr>\n",
       "</thead>\n",
       "<tbody>\n",
       "\t<tr><th scope=row>1</th><td>601</td><td>2.263841</td><td>9.73e-05</td><td>1.467269</td><td>3.544111</td><td>Fisher's Exact test</td><td>two.sided</td><td>****</td></tr>\n",
       "</tbody>\n",
       "</table>\n"
      ],
      "text/latex": [
       "A rstatix\\_test: 1 × 8\n",
       "\\begin{tabular}{r|llllllll}\n",
       "  & n & estimate & p & conf.low & conf.high & method & alternative & p.signif\\\\\n",
       "  & <dbl> & <dbl> & <dbl> & <dbl> & <dbl> & <chr> & <chr> & <chr>\\\\\n",
       "\\hline\n",
       "\t1 & 601 & 2.263841 & 9.73e-05 & 1.467269 & 3.544111 & Fisher's Exact test & two.sided & ****\\\\\n",
       "\\end{tabular}\n"
      ],
      "text/markdown": [
       "\n",
       "A rstatix_test: 1 × 8\n",
       "\n",
       "| <!--/--> | n &lt;dbl&gt; | estimate &lt;dbl&gt; | p &lt;dbl&gt; | conf.low &lt;dbl&gt; | conf.high &lt;dbl&gt; | method &lt;chr&gt; | alternative &lt;chr&gt; | p.signif &lt;chr&gt; |\n",
       "|---|---|---|---|---|---|---|---|---|\n",
       "| 1 | 601 | 2.263841 | 9.73e-05 | 1.467269 | 3.544111 | Fisher's Exact test | two.sided | **** |\n",
       "\n"
      ],
      "text/plain": [
       "  n   estimate p        conf.low conf.high method              alternative\n",
       "1 601 2.263841 9.73e-05 1.467269 3.544111  Fisher's Exact test two.sided  \n",
       "  p.signif\n",
       "1 ****    "
      ]
     },
     "metadata": {},
     "output_type": "display_data"
    },
    {
     "data": {
      "text/html": [
       "<table class=\"dataframe\">\n",
       "<caption>A rstatix_test: 2 × 5</caption>\n",
       "<thead>\n",
       "\t<tr><th></th><th scope=col>group</th><th scope=col>n</th><th scope=col>p</th><th scope=col>p.adj</th><th scope=col>p.adj.signif</th></tr>\n",
       "\t<tr><th></th><th scope=col>&lt;chr&gt;</th><th scope=col>&lt;dbl&gt;</th><th scope=col>&lt;dbl&gt;</th><th scope=col>&lt;dbl&gt;</th><th scope=col>&lt;chr&gt;</th></tr>\n",
       "</thead>\n",
       "<tbody>\n",
       "\t<tr><th scope=row>1</th><td>pers </td><td>601</td><td>9.73e-05</td><td>9.73e-05</td><td>****</td></tr>\n",
       "\t<tr><th scope=row>2</th><td>trans</td><td>601</td><td>9.73e-05</td><td>9.73e-05</td><td>****</td></tr>\n",
       "</tbody>\n",
       "</table>\n"
      ],
      "text/latex": [
       "A rstatix\\_test: 2 × 5\n",
       "\\begin{tabular}{r|lllll}\n",
       "  & group & n & p & p.adj & p.adj.signif\\\\\n",
       "  & <chr> & <dbl> & <dbl> & <dbl> & <chr>\\\\\n",
       "\\hline\n",
       "\t1 & pers  & 601 & 9.73e-05 & 9.73e-05 & ****\\\\\n",
       "\t2 & trans & 601 & 9.73e-05 & 9.73e-05 & ****\\\\\n",
       "\\end{tabular}\n"
      ],
      "text/markdown": [
       "\n",
       "A rstatix_test: 2 × 5\n",
       "\n",
       "| <!--/--> | group &lt;chr&gt; | n &lt;dbl&gt; | p &lt;dbl&gt; | p.adj &lt;dbl&gt; | p.adj.signif &lt;chr&gt; |\n",
       "|---|---|---|---|---|---|\n",
       "| 1 | pers  | 601 | 9.73e-05 | 9.73e-05 | **** |\n",
       "| 2 | trans | 601 | 9.73e-05 | 9.73e-05 | **** |\n",
       "\n"
      ],
      "text/plain": [
       "  group n   p        p.adj    p.adj.signif\n",
       "1 pers  601 9.73e-05 9.73e-05 ****        \n",
       "2 trans 601 9.73e-05 9.73e-05 ****        "
      ]
     },
     "metadata": {},
     "output_type": "display_data"
    }
   ],
   "source": [
    "class <- c(\"pers\", \"trans\")\n",
    "direct <- c(persistent_dir,trans_dir)\n",
    "indirect <- c(persistent_indir,trans_indir)\n",
    "\n",
    "dt = as_tibble (list(\n",
    "  class = class,\n",
    "  direct=direct,\n",
    "  indirect=indirect\n",
    "))\n",
    "\n",
    "dt\n",
    "\n",
    "dt = dt %>%\n",
    "  column_to_rownames(\"class\")\n",
    "\n",
    "fisher_test(dt, detailed = TRUE)\n",
    "row_wise_fisher_test(dt, p.adjust.method = \"BH\")"
   ]
  },
  {
   "cell_type": "markdown",
   "id": "different-coating",
   "metadata": {},
   "source": [
    "> OR = 2.26  \n",
    "> There are significantly more persistently up/down target genes within the cluster of direct targets than indirect"
   ]
  },
  {
   "cell_type": "code",
   "execution_count": 15,
   "id": "exact-valuable",
   "metadata": {},
   "outputs": [
    {
     "data": {
      "text/html": [
       "29"
      ],
      "text/latex": [
       "29"
      ],
      "text/markdown": [
       "29"
      ],
      "text/plain": [
       "[1] 29"
      ]
     },
     "metadata": {},
     "output_type": "display_data"
    },
    {
     "data": {
      "text/html": [
       "36"
      ],
      "text/latex": [
       "36"
      ],
      "text/markdown": [
       "36"
      ],
      "text/plain": [
       "[1] 36"
      ]
     },
     "metadata": {},
     "output_type": "display_data"
    },
    {
     "data": {
      "text/html": [
       "<table class=\"dataframe\">\n",
       "<caption>A data.frame: 2 × 1</caption>\n",
       "<thead>\n",
       "\t<tr><th></th><th scope=col>discmix</th></tr>\n",
       "\t<tr><th></th><th scope=col>&lt;dbl&gt;</th></tr>\n",
       "</thead>\n",
       "<tbody>\n",
       "\t<tr><th scope=row>dir</th><td>29</td></tr>\n",
       "\t<tr><th scope=row>indir</th><td>36</td></tr>\n",
       "</tbody>\n",
       "</table>\n"
      ],
      "text/latex": [
       "A data.frame: 2 × 1\n",
       "\\begin{tabular}{r|l}\n",
       "  & discmix\\\\\n",
       "  & <dbl>\\\\\n",
       "\\hline\n",
       "\tdir & 29\\\\\n",
       "\tindir & 36\\\\\n",
       "\\end{tabular}\n"
      ],
      "text/markdown": [
       "\n",
       "A data.frame: 2 × 1\n",
       "\n",
       "| <!--/--> | discmix &lt;dbl&gt; |\n",
       "|---|---|\n",
       "| dir | 29 |\n",
       "| indir | 36 |\n",
       "\n"
      ],
      "text/plain": [
       "      discmix\n",
       "dir   29     \n",
       "indir 36     "
      ]
     },
     "metadata": {},
     "output_type": "display_data"
    },
    {
     "data": {
      "text/plain": [
       "\n",
       "\tChi-squared test for given probabilities\n",
       "\n",
       "data:  dt\n",
       "X-squared = 0.75385, df = 1, p-value = 0.3853\n"
      ]
     },
     "metadata": {},
     "output_type": "display_data"
    }
   ],
   "source": [
    "#question: targets with discontinous FC and mixed FC, are they enriched?\n",
    "\n",
    "discmix_dir = 7+1+8+8+1+4\n",
    "discmix_dir\n",
    "discmix_indir = 3+11+2+2+6+2+10\n",
    "discmix_indir \n",
    "\n",
    "\n",
    "class <- c(\"dir\", \"indir\")\n",
    "discmix <- c(discmix_dir, discmix_indir)\n",
    "\n",
    "\n",
    "dt = as_tibble (list(\n",
    "  discmix=discmix,\n",
    "  class = class\n",
    "))\n",
    "\n",
    "dt = dt %>%\n",
    "  column_to_rownames(\"class\")\n",
    "\n",
    "dt\n",
    "\n",
    "chisq.test(dt)"
   ]
  },
  {
   "cell_type": "markdown",
   "id": "resistant-disposal",
   "metadata": {},
   "source": [
    "> no enrichment"
   ]
  },
  {
   "cell_type": "code",
   "execution_count": 16,
   "id": "charming-circle",
   "metadata": {},
   "outputs": [
    {
     "data": {
      "text/plain": [
       "R version 4.0.5 (2021-03-31)\n",
       "Platform: x86_64-conda-linux-gnu (64-bit)\n",
       "Running under: CentOS Linux 7 (Core)\n",
       "\n",
       "Matrix products: default\n",
       "BLAS/LAPACK: /home/users/andreha/miniconda3/envs/Mamba-21/lib/libopenblasp-r0.3.12.so\n",
       "\n",
       "locale:\n",
       " [1] LC_CTYPE=C                 LC_NUMERIC=C              \n",
       " [3] LC_TIME=en_US.UTF-8        LC_COLLATE=en_US.UTF-8    \n",
       " [5] LC_MONETARY=en_US.UTF-8    LC_MESSAGES=en_US.UTF-8   \n",
       " [7] LC_PAPER=en_US.UTF-8       LC_NAME=C                 \n",
       " [9] LC_ADDRESS=C               LC_TELEPHONE=C            \n",
       "[11] LC_MEASUREMENT=en_US.UTF-8 LC_IDENTIFICATION=C       \n",
       "\n",
       "attached base packages:\n",
       "[1] stats     graphics  grDevices utils     datasets  methods   base     \n",
       "\n",
       "other attached packages:\n",
       " [1] gplots_3.1.1    forcats_0.5.1   stringr_1.4.0   dplyr_1.0.5    \n",
       " [5] purrr_0.3.4     readr_1.4.0     tidyr_1.1.3     tibble_3.1.0   \n",
       " [9] ggplot2_3.3.3   tidyverse_1.3.1 rstatix_0.7.0  \n",
       "\n",
       "loaded via a namespace (and not attached):\n",
       " [1] httr_1.4.2         jsonlite_1.7.2     carData_3.0-4      modelr_0.1.8      \n",
       " [5] gtools_3.8.2       assertthat_0.2.1   cellranger_1.1.0   pillar_1.6.0      \n",
       " [9] backports_1.2.1    glue_1.4.2         uuid_0.1-4         digest_0.6.27     \n",
       "[13] rvest_1.0.0        colorspace_2.0-0   htmltools_0.5.1.1  pkgconfig_2.0.3   \n",
       "[17] broom_0.7.6        haven_2.3.1        scales_1.1.1       openxlsx_4.2.3    \n",
       "[21] rio_0.5.26         generics_0.1.0     farver_2.0.3       car_3.0-11        \n",
       "[25] ellipsis_0.3.1     withr_2.4.1        repr_1.1.3         cli_2.4.0         \n",
       "[29] magrittr_2.0.1     crayon_1.4.1       readxl_1.3.1       evaluate_0.14     \n",
       "[33] ps_1.5.0           fs_1.5.0           fansi_0.4.2        xml2_1.3.2        \n",
       "[37] foreign_0.8-81     Cairo_1.5-12.2     tools_4.0.5        data.table_1.14.0 \n",
       "[41] hms_1.0.0          lifecycle_1.0.0    munsell_0.5.0      reprex_2.0.0      \n",
       "[45] zip_2.1.1          compiler_4.0.5     caTools_1.18.2     rlang_0.4.10      \n",
       "[49] grid_4.0.5         pbdZMQ_0.3-5       IRkernel_1.1.1     rstudioapi_0.13   \n",
       "[53] bitops_1.0-6       base64enc_0.1-3    labeling_0.4.2     gtable_0.3.0      \n",
       "[57] abind_1.4-5        DBI_1.1.1          curl_4.3           R6_2.5.0          \n",
       "[61] lubridate_1.7.10   utf8_1.1.4         KernSmooth_2.23-18 stringi_1.5.3     \n",
       "[65] IRdisplay_1.0      Rcpp_1.0.6         vctrs_0.3.6        dbplyr_2.1.1      \n",
       "[69] tidyselect_1.1.0  "
      ]
     },
     "metadata": {},
     "output_type": "display_data"
    }
   ],
   "source": [
    "sessionInfo()"
   ]
  },
  {
   "cell_type": "code",
   "execution_count": null,
   "id": "alpine-cocktail",
   "metadata": {},
   "outputs": [],
   "source": []
  }
 ],
 "metadata": {
  "kernelspec": {
   "display_name": "R",
   "language": "R",
   "name": "ir"
  },
  "language_info": {
   "codemirror_mode": "r",
   "file_extension": ".r",
   "mimetype": "text/x-r-source",
   "name": "R",
   "pygments_lexer": "r",
   "version": "4.0.5"
  }
 },
 "nbformat": 4,
 "nbformat_minor": 5
}
