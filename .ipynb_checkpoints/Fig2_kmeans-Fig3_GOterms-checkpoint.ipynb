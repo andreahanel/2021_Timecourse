{
 "cells": [
  {
   "cell_type": "markdown",
   "id": "aging-disco",
   "metadata": {},
   "source": [
    "### Fig. 2: k-means clustering of vitamin D target genes\n",
    "Code based on: \n",
    "\n",
    "*Grant, R.A., Morales-Nebreda, L., Markov, N.S. et al. Circuits between infected macrophages and T cells in SARS-CoV-2 pneumonia. Nature 590, 635–641 (2021).* https://doi.org/10.1038/s41586-020-03148-w\n",
    "+ https://github.com/NUPulmonary/utils/blob/master/R/k_means_figure.R  \n",
    "\n",
    "\n",
    "### Fig. 3: Biological processes affected by vitamin D (GO term enrichment)\n",
    "Note: tested topGO both on entrez_id & ensembl_id, and ensembl gives more mappings"
   ]
  },
  {
   "cell_type": "code",
   "execution_count": 2,
   "id": "fatal-prevention",
   "metadata": {},
   "outputs": [],
   "source": [
    "library (pheatmap)\n",
    "library (topGO)\n",
    "library (GO.db)\n",
    "library (RColorBrewer)\n",
    "library (tidyverse)\n",
    "library (openxlsx) \n",
    "library (readr)"
   ]
  },
  {
   "cell_type": "code",
   "execution_count": 3,
   "id": "developing-huntington",
   "metadata": {},
   "outputs": [
    {
     "data": {
      "text/plain": [
       "[1] '4.0.5'"
      ]
     },
     "metadata": {},
     "output_type": "display_data"
    }
   ],
   "source": [
    "packageVersion(\"stats\")"
   ]
  },
  {
   "cell_type": "code",
   "execution_count": 4,
   "id": "enormous-agriculture",
   "metadata": {},
   "outputs": [],
   "source": [
    "fig <- function(width, heigth){\n",
    "options(repr.plot.width = width, repr.plot.height = heigth) }"
   ]
  },
  {
   "cell_type": "code",
   "execution_count": 5,
   "id": "alleged-reliance",
   "metadata": {},
   "outputs": [
    {
     "data": {
      "text/html": [
       "662"
      ],
      "text/latex": [
       "662"
      ],
      "text/markdown": [
       "662"
      ],
      "text/plain": [
       "[1] 662"
      ]
     },
     "metadata": {},
     "output_type": "display_data"
    }
   ],
   "source": [
    "d <- read.table(file = \"./data/f_time2020_inlog_FC15_FC2_evidence-threshold.tsv\", sep = '\\t', header = TRUE)#, row.names = 1)\n",
    "\n",
    "newfishes = d %>%\n",
    "  filter(., howmany > 0)\n",
    "newfishes <- rownames(newfishes)#[1:50]\n",
    "length (newfishes)\n",
    "\n",
    "vector = newfishes"
   ]
  },
  {
   "cell_type": "code",
   "execution_count": 6,
   "id": "funded-reporter",
   "metadata": {},
   "outputs": [],
   "source": [
    "de  = d %>%\n",
    "  filter(., howmany > 0)"
   ]
  },
  {
   "cell_type": "code",
   "execution_count": 7,
   "id": "bright-container",
   "metadata": {},
   "outputs": [
    {
     "data": {
      "text/html": [
       "<table class=\"dataframe\">\n",
       "<caption>A data.frame: 6 × 25</caption>\n",
       "<thead>\n",
       "\t<tr><th></th><th scope=col>ensembl_gene_id</th><th scope=col>EtOH_04h_R1</th><th scope=col>EtOH_04h_R2</th><th scope=col>EtOH_04h_R3</th><th scope=col>EtOH_08h_R1</th><th scope=col>EtOH_08h_R2</th><th scope=col>EtOH_08h_R3</th><th scope=col>EtOH_24h_R1</th><th scope=col>EtOH_24h_R2</th><th scope=col>EtOH_24h_R3</th><th scope=col>⋯</th><th scope=col>V125D3_04h_R3</th><th scope=col>V125D3_08h_R1</th><th scope=col>V125D3_08h_R2</th><th scope=col>V125D3_08h_R3</th><th scope=col>V125D3_24h_R1</th><th scope=col>V125D3_24h_R2</th><th scope=col>V125D3_24h_R3</th><th scope=col>V125D3_48h_R1</th><th scope=col>V125D3_48h_R2</th><th scope=col>V125D3_48h_R3</th></tr>\n",
       "\t<tr><th></th><th scope=col>&lt;chr&gt;</th><th scope=col>&lt;dbl&gt;</th><th scope=col>&lt;dbl&gt;</th><th scope=col>&lt;dbl&gt;</th><th scope=col>&lt;dbl&gt;</th><th scope=col>&lt;dbl&gt;</th><th scope=col>&lt;dbl&gt;</th><th scope=col>&lt;dbl&gt;</th><th scope=col>&lt;dbl&gt;</th><th scope=col>&lt;dbl&gt;</th><th scope=col>⋯</th><th scope=col>&lt;dbl&gt;</th><th scope=col>&lt;dbl&gt;</th><th scope=col>&lt;dbl&gt;</th><th scope=col>&lt;dbl&gt;</th><th scope=col>&lt;dbl&gt;</th><th scope=col>&lt;dbl&gt;</th><th scope=col>&lt;dbl&gt;</th><th scope=col>&lt;dbl&gt;</th><th scope=col>&lt;dbl&gt;</th><th scope=col>&lt;dbl&gt;</th></tr>\n",
       "</thead>\n",
       "<tbody>\n",
       "\t<tr><th scope=row>1</th><td>ENSG00000181409</td><td>6.308512</td><td>6.174149</td><td>6.275464</td><td>7.2993268</td><td>7.158837</td><td>7.290703</td><td>7.302395</td><td>7.587520</td><td>6.579774</td><td>⋯</td><td>6.063545</td><td>6.753814</td><td> 6.230278</td><td>6.106394</td><td>3.972551</td><td>4.434003</td><td>4.261600</td><td>5.227933</td><td>5.139312</td><td>4.812282</td></tr>\n",
       "\t<tr><th scope=row>2</th><td>ENSG00000005471</td><td>1.677871</td><td>2.266830</td><td>2.128230</td><td>2.2223389</td><td>2.860321</td><td>1.956909</td><td>2.116888</td><td>1.858245</td><td>2.422465</td><td>⋯</td><td>2.366952</td><td>2.416787</td><td> 3.384680</td><td>2.977033</td><td>3.300151</td><td>3.609420</td><td>3.546634</td><td>3.729212</td><td>3.813554</td><td>3.863058</td></tr>\n",
       "\t<tr><th scope=row>3</th><td>ENSG00000108846</td><td>4.086347</td><td>4.304841</td><td>4.632636</td><td>5.7655136</td><td>5.895931</td><td>6.167767</td><td>7.793814</td><td>7.922259</td><td>7.605357</td><td>⋯</td><td>4.109119</td><td>4.381922</td><td> 4.250691</td><td>4.052367</td><td>5.448520</td><td>5.803110</td><td>5.310886</td><td>6.294626</td><td>6.135420</td><td>6.211230</td></tr>\n",
       "\t<tr><th scope=row>4</th><td>ENSG00000014257</td><td>2.517837</td><td>2.043539</td><td>3.378147</td><td>0.4876762</td><td>1.224317</td><td>1.198185</td><td>4.367433</td><td>4.449083</td><td>4.451137</td><td>⋯</td><td>2.477321</td><td>1.661314</td><td> 1.525363</td><td>1.010174</td><td>2.000690</td><td>2.533301</td><td>2.371869</td><td>3.256766</td><td>3.251096</td><td>3.286001</td></tr>\n",
       "\t<tr><th scope=row>5</th><td>ENSG00000151726</td><td>8.893043</td><td>8.621289</td><td>8.726359</td><td>9.4590313</td><td>9.434381</td><td>9.756982</td><td>6.535733</td><td>6.387940</td><td>6.768268</td><td>⋯</td><td>9.336250</td><td>9.690436</td><td>10.095287</td><td>9.975423</td><td>7.608920</td><td>7.811099</td><td>7.544168</td><td>8.971077</td><td>8.639885</td><td>8.909880</td></tr>\n",
       "\t<tr><th scope=row>6</th><td>ENSG00000005187</td><td>3.430629</td><td>3.198996</td><td>4.082949</td><td>3.8151024</td><td>3.735923</td><td>3.626494</td><td>2.668449</td><td>2.566793</td><td>3.630833</td><td>⋯</td><td>3.418885</td><td>3.633928</td><td> 3.984635</td><td>3.866971</td><td>4.707284</td><td>4.476203</td><td>4.800121</td><td>4.035236</td><td>4.177544</td><td>3.586344</td></tr>\n",
       "</tbody>\n",
       "</table>\n"
      ],
      "text/latex": [
       "A data.frame: 6 × 25\n",
       "\\begin{tabular}{r|lllllllllllllllllllll}\n",
       "  & ensembl\\_gene\\_id & EtOH\\_04h\\_R1 & EtOH\\_04h\\_R2 & EtOH\\_04h\\_R3 & EtOH\\_08h\\_R1 & EtOH\\_08h\\_R2 & EtOH\\_08h\\_R3 & EtOH\\_24h\\_R1 & EtOH\\_24h\\_R2 & EtOH\\_24h\\_R3 & ⋯ & V125D3\\_04h\\_R3 & V125D3\\_08h\\_R1 & V125D3\\_08h\\_R2 & V125D3\\_08h\\_R3 & V125D3\\_24h\\_R1 & V125D3\\_24h\\_R2 & V125D3\\_24h\\_R3 & V125D3\\_48h\\_R1 & V125D3\\_48h\\_R2 & V125D3\\_48h\\_R3\\\\\n",
       "  & <chr> & <dbl> & <dbl> & <dbl> & <dbl> & <dbl> & <dbl> & <dbl> & <dbl> & <dbl> & ⋯ & <dbl> & <dbl> & <dbl> & <dbl> & <dbl> & <dbl> & <dbl> & <dbl> & <dbl> & <dbl>\\\\\n",
       "\\hline\n",
       "\t1 & ENSG00000181409 & 6.308512 & 6.174149 & 6.275464 & 7.2993268 & 7.158837 & 7.290703 & 7.302395 & 7.587520 & 6.579774 & ⋯ & 6.063545 & 6.753814 &  6.230278 & 6.106394 & 3.972551 & 4.434003 & 4.261600 & 5.227933 & 5.139312 & 4.812282\\\\\n",
       "\t2 & ENSG00000005471 & 1.677871 & 2.266830 & 2.128230 & 2.2223389 & 2.860321 & 1.956909 & 2.116888 & 1.858245 & 2.422465 & ⋯ & 2.366952 & 2.416787 &  3.384680 & 2.977033 & 3.300151 & 3.609420 & 3.546634 & 3.729212 & 3.813554 & 3.863058\\\\\n",
       "\t3 & ENSG00000108846 & 4.086347 & 4.304841 & 4.632636 & 5.7655136 & 5.895931 & 6.167767 & 7.793814 & 7.922259 & 7.605357 & ⋯ & 4.109119 & 4.381922 &  4.250691 & 4.052367 & 5.448520 & 5.803110 & 5.310886 & 6.294626 & 6.135420 & 6.211230\\\\\n",
       "\t4 & ENSG00000014257 & 2.517837 & 2.043539 & 3.378147 & 0.4876762 & 1.224317 & 1.198185 & 4.367433 & 4.449083 & 4.451137 & ⋯ & 2.477321 & 1.661314 &  1.525363 & 1.010174 & 2.000690 & 2.533301 & 2.371869 & 3.256766 & 3.251096 & 3.286001\\\\\n",
       "\t5 & ENSG00000151726 & 8.893043 & 8.621289 & 8.726359 & 9.4590313 & 9.434381 & 9.756982 & 6.535733 & 6.387940 & 6.768268 & ⋯ & 9.336250 & 9.690436 & 10.095287 & 9.975423 & 7.608920 & 7.811099 & 7.544168 & 8.971077 & 8.639885 & 8.909880\\\\\n",
       "\t6 & ENSG00000005187 & 3.430629 & 3.198996 & 4.082949 & 3.8151024 & 3.735923 & 3.626494 & 2.668449 & 2.566793 & 3.630833 & ⋯ & 3.418885 & 3.633928 &  3.984635 & 3.866971 & 4.707284 & 4.476203 & 4.800121 & 4.035236 & 4.177544 & 3.586344\\\\\n",
       "\\end{tabular}\n"
      ],
      "text/markdown": [
       "\n",
       "A data.frame: 6 × 25\n",
       "\n",
       "| <!--/--> | ensembl_gene_id &lt;chr&gt; | EtOH_04h_R1 &lt;dbl&gt; | EtOH_04h_R2 &lt;dbl&gt; | EtOH_04h_R3 &lt;dbl&gt; | EtOH_08h_R1 &lt;dbl&gt; | EtOH_08h_R2 &lt;dbl&gt; | EtOH_08h_R3 &lt;dbl&gt; | EtOH_24h_R1 &lt;dbl&gt; | EtOH_24h_R2 &lt;dbl&gt; | EtOH_24h_R3 &lt;dbl&gt; | ⋯ ⋯ | V125D3_04h_R3 &lt;dbl&gt; | V125D3_08h_R1 &lt;dbl&gt; | V125D3_08h_R2 &lt;dbl&gt; | V125D3_08h_R3 &lt;dbl&gt; | V125D3_24h_R1 &lt;dbl&gt; | V125D3_24h_R2 &lt;dbl&gt; | V125D3_24h_R3 &lt;dbl&gt; | V125D3_48h_R1 &lt;dbl&gt; | V125D3_48h_R2 &lt;dbl&gt; | V125D3_48h_R3 &lt;dbl&gt; |\n",
       "|---|---|---|---|---|---|---|---|---|---|---|---|---|---|---|---|---|---|---|---|---|---|\n",
       "| 1 | ENSG00000181409 | 6.308512 | 6.174149 | 6.275464 | 7.2993268 | 7.158837 | 7.290703 | 7.302395 | 7.587520 | 6.579774 | ⋯ | 6.063545 | 6.753814 |  6.230278 | 6.106394 | 3.972551 | 4.434003 | 4.261600 | 5.227933 | 5.139312 | 4.812282 |\n",
       "| 2 | ENSG00000005471 | 1.677871 | 2.266830 | 2.128230 | 2.2223389 | 2.860321 | 1.956909 | 2.116888 | 1.858245 | 2.422465 | ⋯ | 2.366952 | 2.416787 |  3.384680 | 2.977033 | 3.300151 | 3.609420 | 3.546634 | 3.729212 | 3.813554 | 3.863058 |\n",
       "| 3 | ENSG00000108846 | 4.086347 | 4.304841 | 4.632636 | 5.7655136 | 5.895931 | 6.167767 | 7.793814 | 7.922259 | 7.605357 | ⋯ | 4.109119 | 4.381922 |  4.250691 | 4.052367 | 5.448520 | 5.803110 | 5.310886 | 6.294626 | 6.135420 | 6.211230 |\n",
       "| 4 | ENSG00000014257 | 2.517837 | 2.043539 | 3.378147 | 0.4876762 | 1.224317 | 1.198185 | 4.367433 | 4.449083 | 4.451137 | ⋯ | 2.477321 | 1.661314 |  1.525363 | 1.010174 | 2.000690 | 2.533301 | 2.371869 | 3.256766 | 3.251096 | 3.286001 |\n",
       "| 5 | ENSG00000151726 | 8.893043 | 8.621289 | 8.726359 | 9.4590313 | 9.434381 | 9.756982 | 6.535733 | 6.387940 | 6.768268 | ⋯ | 9.336250 | 9.690436 | 10.095287 | 9.975423 | 7.608920 | 7.811099 | 7.544168 | 8.971077 | 8.639885 | 8.909880 |\n",
       "| 6 | ENSG00000005187 | 3.430629 | 3.198996 | 4.082949 | 3.8151024 | 3.735923 | 3.626494 | 2.668449 | 2.566793 | 3.630833 | ⋯ | 3.418885 | 3.633928 |  3.984635 | 3.866971 | 4.707284 | 4.476203 | 4.800121 | 4.035236 | 4.177544 | 3.586344 |\n",
       "\n"
      ],
      "text/plain": [
       "  ensembl_gene_id EtOH_04h_R1 EtOH_04h_R2 EtOH_04h_R3 EtOH_08h_R1 EtOH_08h_R2\n",
       "1 ENSG00000181409 6.308512    6.174149    6.275464    7.2993268   7.158837   \n",
       "2 ENSG00000005471 1.677871    2.266830    2.128230    2.2223389   2.860321   \n",
       "3 ENSG00000108846 4.086347    4.304841    4.632636    5.7655136   5.895931   \n",
       "4 ENSG00000014257 2.517837    2.043539    3.378147    0.4876762   1.224317   \n",
       "5 ENSG00000151726 8.893043    8.621289    8.726359    9.4590313   9.434381   \n",
       "6 ENSG00000005187 3.430629    3.198996    4.082949    3.8151024   3.735923   \n",
       "  EtOH_08h_R3 EtOH_24h_R1 EtOH_24h_R2 EtOH_24h_R3 <U+22EF>   V125D3_04h_R3\n",
       "1 7.290703    7.302395    7.587520    6.579774    <U+22EF> 6.063545     \n",
       "2 1.956909    2.116888    1.858245    2.422465    <U+22EF> 2.366952     \n",
       "3 6.167767    7.793814    7.922259    7.605357    <U+22EF> 4.109119     \n",
       "4 1.198185    4.367433    4.449083    4.451137    <U+22EF> 2.477321     \n",
       "5 9.756982    6.535733    6.387940    6.768268    <U+22EF> 9.336250     \n",
       "6 3.626494    2.668449    2.566793    3.630833    <U+22EF> 3.418885     \n",
       "  V125D3_08h_R1 V125D3_08h_R2 V125D3_08h_R3 V125D3_24h_R1 V125D3_24h_R2\n",
       "1 6.753814       6.230278     6.106394      3.972551      4.434003     \n",
       "2 2.416787       3.384680     2.977033      3.300151      3.609420     \n",
       "3 4.381922       4.250691     4.052367      5.448520      5.803110     \n",
       "4 1.661314       1.525363     1.010174      2.000690      2.533301     \n",
       "5 9.690436      10.095287     9.975423      7.608920      7.811099     \n",
       "6 3.633928       3.984635     3.866971      4.707284      4.476203     \n",
       "  V125D3_24h_R3 V125D3_48h_R1 V125D3_48h_R2 V125D3_48h_R3\n",
       "1 4.261600      5.227933      5.139312      4.812282     \n",
       "2 3.546634      3.729212      3.813554      3.863058     \n",
       "3 5.310886      6.294626      6.135420      6.211230     \n",
       "4 2.371869      3.256766      3.251096      3.286001     \n",
       "5 7.544168      8.971077      8.639885      8.909880     \n",
       "6 4.800121      4.035236      4.177544      3.586344     "
      ]
     },
     "metadata": {},
     "output_type": "display_data"
    }
   ],
   "source": [
    "CCcols_Ind = as.vector (c(\n",
    "    \"ensembl_gene_id\",\n",
    "  \"EtOH_04h_R1\",\n",
    "  \"EtOH_04h_R2\",\n",
    "  \"EtOH_04h_R3\",\n",
    "  \n",
    "  \"EtOH_08h_R1\",\n",
    "  \"EtOH_08h_R2\",\n",
    "  \"EtOH_08h_R3\",\n",
    "  \n",
    "  \"EtOH_24h_R1\",\n",
    "  \"EtOH_24h_R2\",\n",
    "  \"EtOH_24h_R3\",\n",
    "  \n",
    "  \"EtOH_48h_R1\",\n",
    "  \"EtOH_48h_R2\",\n",
    "  \"EtOH_48h_R3\",\n",
    "  \n",
    "  \"V125D3_04h_R1\",\n",
    "  \"V125D3_04h_R2\",\n",
    "  \"V125D3_04h_R3\",\n",
    "  \n",
    "  \"V125D3_08h_R1\",\n",
    "  \"V125D3_08h_R2\",\n",
    "  \"V125D3_08h_R3\",\n",
    "  \n",
    "  \"V125D3_24h_R1\",\n",
    "  \"V125D3_24h_R2\",\n",
    "  \"V125D3_24h_R3\",\n",
    "  \n",
    "  \"V125D3_48h_R1\",\n",
    "  \"V125D3_48h_R2\",\n",
    "  \"V125D3_48h_R3\"#\n",
    "))\n",
    "\n",
    "df_Ind = de [, CCcols_Ind]# %>%\n",
    "# rownames_to_column (\"Genes\")\n",
    "\n",
    "logcpm= df_Ind [vector,]\n",
    "head(logcpm)"
   ]
  },
  {
   "cell_type": "code",
   "execution_count": 8,
   "id": "promotional-twelve",
   "metadata": {},
   "outputs": [],
   "source": [
    "logcpm = logcpm %>%\n",
    "column_to_rownames (\"ensembl_gene_id\")"
   ]
  },
  {
   "cell_type": "markdown",
   "id": "grave-lawyer",
   "metadata": {},
   "source": [
    "Standardization (z-score) on logCPM expression matrix:"
   ]
  },
  {
   "cell_type": "code",
   "execution_count": 9,
   "id": "fifteen-sword",
   "metadata": {},
   "outputs": [],
   "source": [
    "counts_mat = t(scale(t(logcpm)))"
   ]
  },
  {
   "cell_type": "code",
   "execution_count": 10,
   "id": "composed-chemistry",
   "metadata": {},
   "outputs": [
    {
     "data": {
      "text/html": [
       "<style>\n",
       ".list-inline {list-style: none; margin:0; padding: 0}\n",
       ".list-inline>li {display: inline-block}\n",
       ".list-inline>li:not(:last-child)::after {content: \"\\00b7\"; padding: 0 .5ex}\n",
       "</style>\n",
       "<ol class=list-inline><li>662</li><li>24</li></ol>\n"
      ],
      "text/latex": [
       "\\begin{enumerate*}\n",
       "\\item 662\n",
       "\\item 24\n",
       "\\end{enumerate*}\n"
      ],
      "text/markdown": [
       "1. 662\n",
       "2. 24\n",
       "\n",
       "\n"
      ],
      "text/plain": [
       "[1] 662  24"
      ]
     },
     "metadata": {},
     "output_type": "display_data"
    }
   ],
   "source": [
    "dim (counts_mat)"
   ]
  },
  {
   "cell_type": "code",
   "execution_count": 11,
   "id": "recreational-forth",
   "metadata": {},
   "outputs": [
    {
     "data": {
      "text/html": [
       "<table class=\"dataframe\">\n",
       "<caption>A matrix: 6 × 24 of type dbl</caption>\n",
       "<thead>\n",
       "\t<tr><th></th><th scope=col>EtOH_04h_R1</th><th scope=col>EtOH_04h_R2</th><th scope=col>EtOH_04h_R3</th><th scope=col>EtOH_08h_R1</th><th scope=col>EtOH_08h_R2</th><th scope=col>EtOH_08h_R3</th><th scope=col>EtOH_24h_R1</th><th scope=col>EtOH_24h_R2</th><th scope=col>EtOH_24h_R3</th><th scope=col>EtOH_48h_R1</th><th scope=col>⋯</th><th scope=col>V125D3_04h_R3</th><th scope=col>V125D3_08h_R1</th><th scope=col>V125D3_08h_R2</th><th scope=col>V125D3_08h_R3</th><th scope=col>V125D3_24h_R1</th><th scope=col>V125D3_24h_R2</th><th scope=col>V125D3_24h_R3</th><th scope=col>V125D3_48h_R1</th><th scope=col>V125D3_48h_R2</th><th scope=col>V125D3_48h_R3</th></tr>\n",
       "</thead>\n",
       "<tbody>\n",
       "\t<tr><th scope=row>ENSG00000181409</th><td> 0.3119553</td><td> 0.1789330</td><td> 0.2792366</td><td> 1.2928839</td><td> 1.1537961</td><td> 1.284345769</td><td> 1.2959220</td><td> 1.578201</td><td> 0.58051103</td><td>-0.3375390</td><td>⋯</td><td> 0.06943176</td><td> 0.75281388</td><td> 0.2345013</td><td> 0.1118536</td><td>-2.0006986</td><td>-1.54385112</td><td>-1.7145333</td><td>-0.7578420</td><td>-0.8455795</td><td>-1.16934651</td></tr>\n",
       "\t<tr><th scope=row>ENSG00000005471</th><td>-1.2746550</td><td>-0.4712124</td><td>-0.6602860</td><td>-0.5319056</td><td> 0.3384136</td><td>-0.893998796</td><td>-0.6757586</td><td>-1.028593</td><td>-0.25889854</td><td>-1.2312619</td><td>⋯</td><td>-0.33462796</td><td>-0.26664419</td><td> 1.0537308</td><td> 0.4976290</td><td> 0.9384187</td><td> 1.36031596</td><td> 1.2746650</td><td> 1.5237330</td><td> 1.6387904</td><td> 1.70632248</td></tr>\n",
       "\t<tr><th scope=row>ENSG00000108846</th><td>-1.2189218</td><td>-1.0450623</td><td>-0.7842306</td><td> 0.1172182</td><td> 0.2209938</td><td> 0.437297626</td><td> 1.7311696</td><td> 1.833376</td><td> 1.58121146</td><td> 1.0079876</td><td>⋯</td><td>-1.20080172</td><td>-0.98372822</td><td>-1.0881511</td><td>-1.2459602</td><td>-0.1350188</td><td> 0.14713447</td><td>-0.2445364</td><td> 0.5382414</td><td> 0.4115585</td><td> 0.47188231</td></tr>\n",
       "\t<tr><th scope=row>ENSG00000014257</th><td>-0.1085431</td><td>-0.5201225</td><td> 0.6380056</td><td>-1.8702489</td><td>-1.2310166</td><td>-1.253692989</td><td> 1.4964746</td><td> 1.567328</td><td> 1.56911011</td><td> 0.7918881</td><td>⋯</td><td>-0.14370147</td><td>-0.85180517</td><td>-0.9697785</td><td>-1.4168427</td><td>-0.5573062</td><td>-0.09512414</td><td>-0.2352087</td><td> 0.5326748</td><td> 0.5277551</td><td> 0.55804456</td></tr>\n",
       "\t<tr><th scope=row>ENSG00000151726</th><td> 0.4184377</td><td> 0.2210155</td><td> 0.2973467</td><td> 0.8296134</td><td> 0.8117056</td><td> 1.046066545</td><td>-1.2940857</td><td>-1.401453</td><td>-1.12515473</td><td>-1.7170932</td><td>⋯</td><td> 0.74041588</td><td> 0.99772267</td><td> 1.2918367</td><td> 1.2047586</td><td>-0.5144431</td><td>-0.36756556</td><td>-0.5614842</td><td> 0.4751276</td><td> 0.2345250</td><td> 0.43066923</td></tr>\n",
       "\t<tr><th scope=row>ENSG00000005187</th><td>-0.3228740</td><td>-0.7088924</td><td> 0.7642212</td><td> 0.3178526</td><td> 0.1858998</td><td> 0.003536243</td><td>-1.5930526</td><td>-1.762463</td><td> 0.01076724</td><td>-0.2639597</td><td>⋯</td><td>-0.34244548</td><td> 0.01592502</td><td> 0.6003802</td><td> 0.4042918</td><td> 1.8046791</td><td> 1.41958140</td><td> 1.9593928</td><td> 0.6847065</td><td> 0.9218633</td><td>-0.06337514</td></tr>\n",
       "</tbody>\n",
       "</table>\n"
      ],
      "text/latex": [
       "A matrix: 6 × 24 of type dbl\n",
       "\\begin{tabular}{r|lllllllllllllllllllll}\n",
       "  & EtOH\\_04h\\_R1 & EtOH\\_04h\\_R2 & EtOH\\_04h\\_R3 & EtOH\\_08h\\_R1 & EtOH\\_08h\\_R2 & EtOH\\_08h\\_R3 & EtOH\\_24h\\_R1 & EtOH\\_24h\\_R2 & EtOH\\_24h\\_R3 & EtOH\\_48h\\_R1 & ⋯ & V125D3\\_04h\\_R3 & V125D3\\_08h\\_R1 & V125D3\\_08h\\_R2 & V125D3\\_08h\\_R3 & V125D3\\_24h\\_R1 & V125D3\\_24h\\_R2 & V125D3\\_24h\\_R3 & V125D3\\_48h\\_R1 & V125D3\\_48h\\_R2 & V125D3\\_48h\\_R3\\\\\n",
       "\\hline\n",
       "\tENSG00000181409 &  0.3119553 &  0.1789330 &  0.2792366 &  1.2928839 &  1.1537961 &  1.284345769 &  1.2959220 &  1.578201 &  0.58051103 & -0.3375390 & ⋯ &  0.06943176 &  0.75281388 &  0.2345013 &  0.1118536 & -2.0006986 & -1.54385112 & -1.7145333 & -0.7578420 & -0.8455795 & -1.16934651\\\\\n",
       "\tENSG00000005471 & -1.2746550 & -0.4712124 & -0.6602860 & -0.5319056 &  0.3384136 & -0.893998796 & -0.6757586 & -1.028593 & -0.25889854 & -1.2312619 & ⋯ & -0.33462796 & -0.26664419 &  1.0537308 &  0.4976290 &  0.9384187 &  1.36031596 &  1.2746650 &  1.5237330 &  1.6387904 &  1.70632248\\\\\n",
       "\tENSG00000108846 & -1.2189218 & -1.0450623 & -0.7842306 &  0.1172182 &  0.2209938 &  0.437297626 &  1.7311696 &  1.833376 &  1.58121146 &  1.0079876 & ⋯ & -1.20080172 & -0.98372822 & -1.0881511 & -1.2459602 & -0.1350188 &  0.14713447 & -0.2445364 &  0.5382414 &  0.4115585 &  0.47188231\\\\\n",
       "\tENSG00000014257 & -0.1085431 & -0.5201225 &  0.6380056 & -1.8702489 & -1.2310166 & -1.253692989 &  1.4964746 &  1.567328 &  1.56911011 &  0.7918881 & ⋯ & -0.14370147 & -0.85180517 & -0.9697785 & -1.4168427 & -0.5573062 & -0.09512414 & -0.2352087 &  0.5326748 &  0.5277551 &  0.55804456\\\\\n",
       "\tENSG00000151726 &  0.4184377 &  0.2210155 &  0.2973467 &  0.8296134 &  0.8117056 &  1.046066545 & -1.2940857 & -1.401453 & -1.12515473 & -1.7170932 & ⋯ &  0.74041588 &  0.99772267 &  1.2918367 &  1.2047586 & -0.5144431 & -0.36756556 & -0.5614842 &  0.4751276 &  0.2345250 &  0.43066923\\\\\n",
       "\tENSG00000005187 & -0.3228740 & -0.7088924 &  0.7642212 &  0.3178526 &  0.1858998 &  0.003536243 & -1.5930526 & -1.762463 &  0.01076724 & -0.2639597 & ⋯ & -0.34244548 &  0.01592502 &  0.6003802 &  0.4042918 &  1.8046791 &  1.41958140 &  1.9593928 &  0.6847065 &  0.9218633 & -0.06337514\\\\\n",
       "\\end{tabular}\n"
      ],
      "text/markdown": [
       "\n",
       "A matrix: 6 × 24 of type dbl\n",
       "\n",
       "| <!--/--> | EtOH_04h_R1 | EtOH_04h_R2 | EtOH_04h_R3 | EtOH_08h_R1 | EtOH_08h_R2 | EtOH_08h_R3 | EtOH_24h_R1 | EtOH_24h_R2 | EtOH_24h_R3 | EtOH_48h_R1 | ⋯ | V125D3_04h_R3 | V125D3_08h_R1 | V125D3_08h_R2 | V125D3_08h_R3 | V125D3_24h_R1 | V125D3_24h_R2 | V125D3_24h_R3 | V125D3_48h_R1 | V125D3_48h_R2 | V125D3_48h_R3 |\n",
       "|---|---|---|---|---|---|---|---|---|---|---|---|---|---|---|---|---|---|---|---|---|---|\n",
       "| ENSG00000181409 |  0.3119553 |  0.1789330 |  0.2792366 |  1.2928839 |  1.1537961 |  1.284345769 |  1.2959220 |  1.578201 |  0.58051103 | -0.3375390 | ⋯ |  0.06943176 |  0.75281388 |  0.2345013 |  0.1118536 | -2.0006986 | -1.54385112 | -1.7145333 | -0.7578420 | -0.8455795 | -1.16934651 |\n",
       "| ENSG00000005471 | -1.2746550 | -0.4712124 | -0.6602860 | -0.5319056 |  0.3384136 | -0.893998796 | -0.6757586 | -1.028593 | -0.25889854 | -1.2312619 | ⋯ | -0.33462796 | -0.26664419 |  1.0537308 |  0.4976290 |  0.9384187 |  1.36031596 |  1.2746650 |  1.5237330 |  1.6387904 |  1.70632248 |\n",
       "| ENSG00000108846 | -1.2189218 | -1.0450623 | -0.7842306 |  0.1172182 |  0.2209938 |  0.437297626 |  1.7311696 |  1.833376 |  1.58121146 |  1.0079876 | ⋯ | -1.20080172 | -0.98372822 | -1.0881511 | -1.2459602 | -0.1350188 |  0.14713447 | -0.2445364 |  0.5382414 |  0.4115585 |  0.47188231 |\n",
       "| ENSG00000014257 | -0.1085431 | -0.5201225 |  0.6380056 | -1.8702489 | -1.2310166 | -1.253692989 |  1.4964746 |  1.567328 |  1.56911011 |  0.7918881 | ⋯ | -0.14370147 | -0.85180517 | -0.9697785 | -1.4168427 | -0.5573062 | -0.09512414 | -0.2352087 |  0.5326748 |  0.5277551 |  0.55804456 |\n",
       "| ENSG00000151726 |  0.4184377 |  0.2210155 |  0.2973467 |  0.8296134 |  0.8117056 |  1.046066545 | -1.2940857 | -1.401453 | -1.12515473 | -1.7170932 | ⋯ |  0.74041588 |  0.99772267 |  1.2918367 |  1.2047586 | -0.5144431 | -0.36756556 | -0.5614842 |  0.4751276 |  0.2345250 |  0.43066923 |\n",
       "| ENSG00000005187 | -0.3228740 | -0.7088924 |  0.7642212 |  0.3178526 |  0.1858998 |  0.003536243 | -1.5930526 | -1.762463 |  0.01076724 | -0.2639597 | ⋯ | -0.34244548 |  0.01592502 |  0.6003802 |  0.4042918 |  1.8046791 |  1.41958140 |  1.9593928 |  0.6847065 |  0.9218633 | -0.06337514 |\n",
       "\n"
      ],
      "text/plain": [
       "                EtOH_04h_R1 EtOH_04h_R2 EtOH_04h_R3 EtOH_08h_R1 EtOH_08h_R2\n",
       "ENSG00000181409  0.3119553   0.1789330   0.2792366   1.2928839   1.1537961 \n",
       "ENSG00000005471 -1.2746550  -0.4712124  -0.6602860  -0.5319056   0.3384136 \n",
       "ENSG00000108846 -1.2189218  -1.0450623  -0.7842306   0.1172182   0.2209938 \n",
       "ENSG00000014257 -0.1085431  -0.5201225   0.6380056  -1.8702489  -1.2310166 \n",
       "ENSG00000151726  0.4184377   0.2210155   0.2973467   0.8296134   0.8117056 \n",
       "ENSG00000005187 -0.3228740  -0.7088924   0.7642212   0.3178526   0.1858998 \n",
       "                EtOH_08h_R3  EtOH_24h_R1 EtOH_24h_R2 EtOH_24h_R3 EtOH_48h_R1\n",
       "ENSG00000181409  1.284345769  1.2959220   1.578201    0.58051103 -0.3375390 \n",
       "ENSG00000005471 -0.893998796 -0.6757586  -1.028593   -0.25889854 -1.2312619 \n",
       "ENSG00000108846  0.437297626  1.7311696   1.833376    1.58121146  1.0079876 \n",
       "ENSG00000014257 -1.253692989  1.4964746   1.567328    1.56911011  0.7918881 \n",
       "ENSG00000151726  1.046066545 -1.2940857  -1.401453   -1.12515473 -1.7170932 \n",
       "ENSG00000005187  0.003536243 -1.5930526  -1.762463    0.01076724 -0.2639597 \n",
       "                <U+22EF>   V125D3_04h_R3 V125D3_08h_R1 V125D3_08h_R2\n",
       "ENSG00000181409 <U+22EF>  0.06943176    0.75281388    0.2345013   \n",
       "ENSG00000005471 <U+22EF> -0.33462796   -0.26664419    1.0537308   \n",
       "ENSG00000108846 <U+22EF> -1.20080172   -0.98372822   -1.0881511   \n",
       "ENSG00000014257 <U+22EF> -0.14370147   -0.85180517   -0.9697785   \n",
       "ENSG00000151726 <U+22EF>  0.74041588    0.99772267    1.2918367   \n",
       "ENSG00000005187 <U+22EF> -0.34244548    0.01592502    0.6003802   \n",
       "                V125D3_08h_R3 V125D3_24h_R1 V125D3_24h_R2 V125D3_24h_R3\n",
       "ENSG00000181409  0.1118536    -2.0006986    -1.54385112   -1.7145333   \n",
       "ENSG00000005471  0.4976290     0.9384187     1.36031596    1.2746650   \n",
       "ENSG00000108846 -1.2459602    -0.1350188     0.14713447   -0.2445364   \n",
       "ENSG00000014257 -1.4168427    -0.5573062    -0.09512414   -0.2352087   \n",
       "ENSG00000151726  1.2047586    -0.5144431    -0.36756556   -0.5614842   \n",
       "ENSG00000005187  0.4042918     1.8046791     1.41958140    1.9593928   \n",
       "                V125D3_48h_R1 V125D3_48h_R2 V125D3_48h_R3\n",
       "ENSG00000181409 -0.7578420    -0.8455795    -1.16934651  \n",
       "ENSG00000005471  1.5237330     1.6387904     1.70632248  \n",
       "ENSG00000108846  0.5382414     0.4115585     0.47188231  \n",
       "ENSG00000014257  0.5326748     0.5277551     0.55804456  \n",
       "ENSG00000151726  0.4751276     0.2345250     0.43066923  \n",
       "ENSG00000005187  0.6847065     0.9218633    -0.06337514  "
      ]
     },
     "metadata": {},
     "output_type": "display_data"
    }
   ],
   "source": [
    "head (counts_mat)"
   ]
  },
  {
   "cell_type": "code",
   "execution_count": 12,
   "id": "described-canyon",
   "metadata": {},
   "outputs": [],
   "source": [
    "library(parallel)\n",
    "\n",
    "random_seed <- 12345\n",
    "max_k <- 50\n",
    "\n",
    "#run kmeans for all values of k, and find sums of squared differences within each cluster for each k\n",
    "sums_of_squares = mclapply(1:max_k, function(k){\n",
    "  set.seed(random_seed)\n",
    "  kmeans_result = kmeans(x = counts_mat, \n",
    "                         centers = k, \n",
    "                         iter.max = 1000,\n",
    "                         nstart = 25)\n",
    "  return(kmeans_result$tot.withinss)}, mc.cores = 1) #n of cores\n",
    "sums_of_squares = unlist(sums_of_squares)\n",
    "ss_df = data.frame(k = 1:max_k, total_within_ss = sums_of_squares)\n",
    "\n",
    "plot = ggplot(ss_df, aes(x = k, y = total_within_ss)) +\n",
    "  geom_point() +\n",
    "  xlab(\"Clusters (k)\") +\n",
    "  ylab(\"Total within-cluster sum-of-squares\")"
   ]
  },
  {
   "cell_type": "code",
   "execution_count": 13,
   "id": "demonstrated-roulette",
   "metadata": {},
   "outputs": [
    {
     "data": {
      "image/png": "[encoded data removed]",
      "text/plain": [
       "plot without title"
      ]
     },
     "metadata": {
      "image/png": {
       "height": 300,
       "width": 480
      }
     },
     "output_type": "display_data"
    }
   ],
   "source": [
    "fig (8,5)\n",
    "plot"
   ]
  },
  {
   "cell_type": "code",
   "execution_count": 14,
   "id": "inner-plastic",
   "metadata": {},
   "outputs": [
    {
     "data": {
      "text/html": [
       "<table class=\"dataframe\">\n",
       "<caption>A data.frame: 6 × 2</caption>\n",
       "<thead>\n",
       "\t<tr><th></th><th scope=col>gene</th><th scope=col>cluster</th></tr>\n",
       "\t<tr><th></th><th scope=col>&lt;chr&gt;</th><th scope=col>&lt;int&gt;</th></tr>\n",
       "</thead>\n",
       "<tbody>\n",
       "\t<tr><th scope=row>1</th><td>ENSG00000181409</td><td>2</td></tr>\n",
       "\t<tr><th scope=row>2</th><td>ENSG00000005471</td><td>1</td></tr>\n",
       "\t<tr><th scope=row>3</th><td>ENSG00000108846</td><td>3</td></tr>\n",
       "\t<tr><th scope=row>4</th><td>ENSG00000014257</td><td>3</td></tr>\n",
       "\t<tr><th scope=row>5</th><td>ENSG00000151726</td><td>4</td></tr>\n",
       "\t<tr><th scope=row>6</th><td>ENSG00000005187</td><td>4</td></tr>\n",
       "</tbody>\n",
       "</table>\n"
      ],
      "text/latex": [
       "A data.frame: 6 × 2\n",
       "\\begin{tabular}{r|ll}\n",
       "  & gene & cluster\\\\\n",
       "  & <chr> & <int>\\\\\n",
       "\\hline\n",
       "\t1 & ENSG00000181409 & 2\\\\\n",
       "\t2 & ENSG00000005471 & 1\\\\\n",
       "\t3 & ENSG00000108846 & 3\\\\\n",
       "\t4 & ENSG00000014257 & 3\\\\\n",
       "\t5 & ENSG00000151726 & 4\\\\\n",
       "\t6 & ENSG00000005187 & 4\\\\\n",
       "\\end{tabular}\n"
      ],
      "text/markdown": [
       "\n",
       "A data.frame: 6 × 2\n",
       "\n",
       "| <!--/--> | gene &lt;chr&gt; | cluster &lt;int&gt; |\n",
       "|---|---|---|\n",
       "| 1 | ENSG00000181409 | 2 |\n",
       "| 2 | ENSG00000005471 | 1 |\n",
       "| 3 | ENSG00000108846 | 3 |\n",
       "| 4 | ENSG00000014257 | 3 |\n",
       "| 5 | ENSG00000151726 | 4 |\n",
       "| 6 | ENSG00000005187 | 4 |\n",
       "\n"
      ],
      "text/plain": [
       "  gene            cluster\n",
       "1 ENSG00000181409 2      \n",
       "2 ENSG00000005471 1      \n",
       "3 ENSG00000108846 3      \n",
       "4 ENSG00000014257 3      \n",
       "5 ENSG00000151726 4      \n",
       "6 ENSG00000005187 4      "
      ]
     },
     "metadata": {},
     "output_type": "display_data"
    }
   ],
   "source": [
    "set.seed(random_seed)\n",
    "kmeans_results = as.data.frame(kmeans(x = counts_mat, \n",
    "                                      centers = 4, \n",
    "                                      iter.max = 1000, \n",
    "                                      nstart = 25)$cluster) \n",
    "\n",
    "kmeans_results = rownames_to_column(kmeans_results, var = \"gene\") \n",
    "\n",
    "colnames(kmeans_results)[2] = \"cluster\" \n",
    "\n",
    "head (kmeans_results)"
   ]
  },
  {
   "cell_type": "code",
   "execution_count": 15,
   "id": "bottom-prospect",
   "metadata": {},
   "outputs": [
    {
     "data": {
      "text/html": [
       "662"
      ],
      "text/latex": [
       "662"
      ],
      "text/markdown": [
       "662"
      ],
      "text/plain": [
       "[1] 662"
      ]
     },
     "metadata": {},
     "output_type": "display_data"
    }
   ],
   "source": [
    "all_genes <- as.vector (kmeans_results$gene)\n",
    "length (all_genes)"
   ]
  },
  {
   "cell_type": "code",
   "execution_count": 16,
   "id": "hydraulic-transcript",
   "metadata": {},
   "outputs": [],
   "source": [
    "#order genes by cluster assignment\n",
    "\n",
    "kmeans_results = kmeans_results[order(kmeans_results$cluster), ] \n",
    "counts_mat = counts_mat[kmeans_results$gene, ]\n",
    "\n",
    "#generate gaps for each cluster\n",
    "gaps = c()\n",
    "for(i in 2:nrow(kmeans_results))\n",
    "{\n",
    "  prev = kmeans_results$cluster[i - 1]\n",
    "  cur = kmeans_results$cluster[i]\n",
    "  if(cur != prev)\n",
    "  {\n",
    "    gaps = append(gaps, (i - 1))\n",
    "  }\n",
    "}"
   ]
  },
  {
   "cell_type": "code",
   "execution_count": 17,
   "id": "damaged-sheffield",
   "metadata": {},
   "outputs": [
    {
     "data": {
      "image/png": "[encoded data removed]",
      "text/plain": [
       "plot without title"
      ]
     },
     "metadata": {
      "image/png": {
       "height": 420,
       "width": 240
      }
     },
     "output_type": "display_data"
    }
   ],
   "source": [
    "fig (4,7)\n",
    "\n",
    "plot = pheatmap(counts_mat, \n",
    "                cluster_rows = F,\n",
    "                cluster_cols = F,\n",
    "                clustering_method = \"ward.D2\",\n",
    "                gaps_row = gaps,\n",
    "                show_colnames = T,\n",
    "              #  annotation_col = md,\n",
    "             #   labels_row = cluster_annos,\n",
    "              annotation_names_row = F,\n",
    "              \n",
    "                fontsize_row = 1,\n",
    "                annotation_names_col = F,\n",
    "           #  fontsize_column = 4,\n",
    "                color = colorRampPalette(rev(brewer.pal(n = 7, \n",
    "                                                        name = \"RdBu\")))(100))"
   ]
  },
  {
   "cell_type": "code",
   "execution_count": 19,
   "id": "amended-literacy",
   "metadata": {},
   "outputs": [],
   "source": [
    "kmeans_results_v2 = kmeans_results %>%\n",
    "rename (., ensembl_gene_id = gene)"
   ]
  },
  {
   "cell_type": "code",
   "execution_count": 20,
   "id": "duplicate-monthly",
   "metadata": {},
   "outputs": [],
   "source": [
    "mrg = merge (d, kmeans_results_v2, by = \"ensembl_gene_id\")"
   ]
  },
  {
   "cell_type": "code",
   "execution_count": 22,
   "id": "instructional-reverse",
   "metadata": {},
   "outputs": [
    {
     "data": {
      "text/html": [
       "<table class=\"dataframe\">\n",
       "<caption>A data.frame: 6 × 65</caption>\n",
       "<thead>\n",
       "\t<tr><th></th><th scope=col>ensembl_gene_id</th><th scope=col>hgnc_symbol</th><th scope=col>EtOH_04h_R1</th><th scope=col>EtOH_04h_R2</th><th scope=col>EtOH_04h_R3</th><th scope=col>EtOH_08h_R1</th><th scope=col>EtOH_08h_R2</th><th scope=col>EtOH_08h_R3</th><th scope=col>EtOH_24h_R1</th><th scope=col>EtOH_24h_R2</th><th scope=col>⋯</th><th scope=col>entrezgene_id</th><th scope=col>external_gene_name</th><th scope=col>description</th><th scope=col>chromosome_name</th><th scope=col>start_position</th><th scope=col>end_position</th><th scope=col>percentage_gene_gc_content</th><th scope=col>gene_biotype</th><th scope=col>strand</th><th scope=col>cluster</th></tr>\n",
       "\t<tr><th></th><th scope=col>&lt;chr&gt;</th><th scope=col>&lt;chr&gt;</th><th scope=col>&lt;dbl&gt;</th><th scope=col>&lt;dbl&gt;</th><th scope=col>&lt;dbl&gt;</th><th scope=col>&lt;dbl&gt;</th><th scope=col>&lt;dbl&gt;</th><th scope=col>&lt;dbl&gt;</th><th scope=col>&lt;dbl&gt;</th><th scope=col>&lt;dbl&gt;</th><th scope=col>⋯</th><th scope=col>&lt;int&gt;</th><th scope=col>&lt;chr&gt;</th><th scope=col>&lt;chr&gt;</th><th scope=col>&lt;chr&gt;</th><th scope=col>&lt;int&gt;</th><th scope=col>&lt;int&gt;</th><th scope=col>&lt;dbl&gt;</th><th scope=col>&lt;chr&gt;</th><th scope=col>&lt;int&gt;</th><th scope=col>&lt;int&gt;</th></tr>\n",
       "</thead>\n",
       "<tbody>\n",
       "\t<tr><th scope=row>1</th><td>ENSG00000001084</td><td>GCLC    </td><td>6.405557</td><td>6.326648</td><td>6.285189</td><td>7.748987</td><td>7.8433492</td><td>7.856297</td><td>6.473851</td><td>6.4794299</td><td>⋯</td><td> 2729</td><td>GCLC    </td><td>glutamate-cysteine ligase catalytic subunit     </td><td>6</td><td> 53497341</td><td> 53616970</td><td>40.16</td><td>protein coding</td><td>-1</td><td>2</td></tr>\n",
       "\t<tr><th scope=row>2</th><td>ENSG00000002549</td><td>LAP3    </td><td>5.226432</td><td>5.322183</td><td>5.283674</td><td>4.851039</td><td>5.0119985</td><td>5.176611</td><td>5.641810</td><td>5.6066271</td><td>⋯</td><td>51056</td><td>LAP3    </td><td>leucine aminopeptidase 3                        </td><td>4</td><td> 17577198</td><td> 17607972</td><td>44.16</td><td>protein coding</td><td> 1</td><td>3</td></tr>\n",
       "\t<tr><th scope=row>3</th><td>ENSG00000002587</td><td>HS3ST1  </td><td>1.454164</td><td>1.455430</td><td>1.842322</td><td>1.352924</td><td>0.2628364</td><td>1.021393</td><td>3.866042</td><td>3.6402640</td><td>⋯</td><td> 9957</td><td>HS3ST1  </td><td>heparan sulfate-glucosamine 3-sulfotransferase 1</td><td>4</td><td> 11393150</td><td> 11429564</td><td>43.92</td><td>protein coding</td><td>-1</td><td>3</td></tr>\n",
       "\t<tr><th scope=row>4</th><td>ENSG00000002933</td><td>TMEM176A</td><td>3.197559</td><td>2.733978</td><td>3.673014</td><td>2.915859</td><td>3.1337694</td><td>2.973015</td><td>5.392107</td><td>5.6066271</td><td>⋯</td><td>55365</td><td>TMEM176A</td><td>transmembrane protein 176A                      </td><td>7</td><td>150800403</td><td>150805118</td><td>57.55</td><td>protein coding</td><td> 1</td><td>3</td></tr>\n",
       "\t<tr><th scope=row>5</th><td>ENSG00000003436</td><td>TFPI    </td><td>2.962609</td><td>2.876362</td><td>2.438222</td><td>3.734147</td><td>3.7763749</td><td>3.773324</td><td>1.119966</td><td>0.4075362</td><td>⋯</td><td> 7035</td><td>TFPI    </td><td>tissue factor pathway inhibitor                 </td><td>2</td><td>187464230</td><td>187565760</td><td>36.60</td><td>protein coding</td><td>-1</td><td>4</td></tr>\n",
       "\t<tr><th scope=row>6</th><td>ENSG00000004399</td><td>PLXND1  </td><td>7.409611</td><td>7.518182</td><td>7.522219</td><td>7.677716</td><td>7.6418939</td><td>7.618631</td><td>9.259504</td><td>9.3432672</td><td>⋯</td><td>23129</td><td>PLXND1  </td><td>plexin D1                                       </td><td>3</td><td>129555214</td><td>129606676</td><td>58.30</td><td>protein coding</td><td>-1</td><td>3</td></tr>\n",
       "</tbody>\n",
       "</table>\n"
      ],
      "text/latex": [
       "A data.frame: 6 × 65\n",
       "\\begin{tabular}{r|lllllllllllllllllllll}\n",
       "  & ensembl\\_gene\\_id & hgnc\\_symbol & EtOH\\_04h\\_R1 & EtOH\\_04h\\_R2 & EtOH\\_04h\\_R3 & EtOH\\_08h\\_R1 & EtOH\\_08h\\_R2 & EtOH\\_08h\\_R3 & EtOH\\_24h\\_R1 & EtOH\\_24h\\_R2 & ⋯ & entrezgene\\_id & external\\_gene\\_name & description & chromosome\\_name & start\\_position & end\\_position & percentage\\_gene\\_gc\\_content & gene\\_biotype & strand & cluster\\\\\n",
       "  & <chr> & <chr> & <dbl> & <dbl> & <dbl> & <dbl> & <dbl> & <dbl> & <dbl> & <dbl> & ⋯ & <int> & <chr> & <chr> & <chr> & <int> & <int> & <dbl> & <chr> & <int> & <int>\\\\\n",
       "\\hline\n",
       "\t1 & ENSG00000001084 & GCLC     & 6.405557 & 6.326648 & 6.285189 & 7.748987 & 7.8433492 & 7.856297 & 6.473851 & 6.4794299 & ⋯ &  2729 & GCLC     & glutamate-cysteine ligase catalytic subunit      & 6 &  53497341 &  53616970 & 40.16 & protein coding & -1 & 2\\\\\n",
       "\t2 & ENSG00000002549 & LAP3     & 5.226432 & 5.322183 & 5.283674 & 4.851039 & 5.0119985 & 5.176611 & 5.641810 & 5.6066271 & ⋯ & 51056 & LAP3     & leucine aminopeptidase 3                         & 4 &  17577198 &  17607972 & 44.16 & protein coding &  1 & 3\\\\\n",
       "\t3 & ENSG00000002587 & HS3ST1   & 1.454164 & 1.455430 & 1.842322 & 1.352924 & 0.2628364 & 1.021393 & 3.866042 & 3.6402640 & ⋯ &  9957 & HS3ST1   & heparan sulfate-glucosamine 3-sulfotransferase 1 & 4 &  11393150 &  11429564 & 43.92 & protein coding & -1 & 3\\\\\n",
       "\t4 & ENSG00000002933 & TMEM176A & 3.197559 & 2.733978 & 3.673014 & 2.915859 & 3.1337694 & 2.973015 & 5.392107 & 5.6066271 & ⋯ & 55365 & TMEM176A & transmembrane protein 176A                       & 7 & 150800403 & 150805118 & 57.55 & protein coding &  1 & 3\\\\\n",
       "\t5 & ENSG00000003436 & TFPI     & 2.962609 & 2.876362 & 2.438222 & 3.734147 & 3.7763749 & 3.773324 & 1.119966 & 0.4075362 & ⋯ &  7035 & TFPI     & tissue factor pathway inhibitor                  & 2 & 187464230 & 187565760 & 36.60 & protein coding & -1 & 4\\\\\n",
       "\t6 & ENSG00000004399 & PLXND1   & 7.409611 & 7.518182 & 7.522219 & 7.677716 & 7.6418939 & 7.618631 & 9.259504 & 9.3432672 & ⋯ & 23129 & PLXND1   & plexin D1                                        & 3 & 129555214 & 129606676 & 58.30 & protein coding & -1 & 3\\\\\n",
       "\\end{tabular}\n"
      ],
      "text/markdown": [
       "\n",
       "A data.frame: 6 × 65\n",
       "\n",
       "| <!--/--> | ensembl_gene_id &lt;chr&gt; | hgnc_symbol &lt;chr&gt; | EtOH_04h_R1 &lt;dbl&gt; | EtOH_04h_R2 &lt;dbl&gt; | EtOH_04h_R3 &lt;dbl&gt; | EtOH_08h_R1 &lt;dbl&gt; | EtOH_08h_R2 &lt;dbl&gt; | EtOH_08h_R3 &lt;dbl&gt; | EtOH_24h_R1 &lt;dbl&gt; | EtOH_24h_R2 &lt;dbl&gt; | ⋯ ⋯ | entrezgene_id &lt;int&gt; | external_gene_name &lt;chr&gt; | description &lt;chr&gt; | chromosome_name &lt;chr&gt; | start_position &lt;int&gt; | end_position &lt;int&gt; | percentage_gene_gc_content &lt;dbl&gt; | gene_biotype &lt;chr&gt; | strand &lt;int&gt; | cluster &lt;int&gt; |\n",
       "|---|---|---|---|---|---|---|---|---|---|---|---|---|---|---|---|---|---|---|---|---|---|\n",
       "| 1 | ENSG00000001084 | GCLC     | 6.405557 | 6.326648 | 6.285189 | 7.748987 | 7.8433492 | 7.856297 | 6.473851 | 6.4794299 | ⋯ |  2729 | GCLC     | glutamate-cysteine ligase catalytic subunit      | 6 |  53497341 |  53616970 | 40.16 | protein coding | -1 | 2 |\n",
       "| 2 | ENSG00000002549 | LAP3     | 5.226432 | 5.322183 | 5.283674 | 4.851039 | 5.0119985 | 5.176611 | 5.641810 | 5.6066271 | ⋯ | 51056 | LAP3     | leucine aminopeptidase 3                         | 4 |  17577198 |  17607972 | 44.16 | protein coding |  1 | 3 |\n",
       "| 3 | ENSG00000002587 | HS3ST1   | 1.454164 | 1.455430 | 1.842322 | 1.352924 | 0.2628364 | 1.021393 | 3.866042 | 3.6402640 | ⋯ |  9957 | HS3ST1   | heparan sulfate-glucosamine 3-sulfotransferase 1 | 4 |  11393150 |  11429564 | 43.92 | protein coding | -1 | 3 |\n",
       "| 4 | ENSG00000002933 | TMEM176A | 3.197559 | 2.733978 | 3.673014 | 2.915859 | 3.1337694 | 2.973015 | 5.392107 | 5.6066271 | ⋯ | 55365 | TMEM176A | transmembrane protein 176A                       | 7 | 150800403 | 150805118 | 57.55 | protein coding |  1 | 3 |\n",
       "| 5 | ENSG00000003436 | TFPI     | 2.962609 | 2.876362 | 2.438222 | 3.734147 | 3.7763749 | 3.773324 | 1.119966 | 0.4075362 | ⋯ |  7035 | TFPI     | tissue factor pathway inhibitor                  | 2 | 187464230 | 187565760 | 36.60 | protein coding | -1 | 4 |\n",
       "| 6 | ENSG00000004399 | PLXND1   | 7.409611 | 7.518182 | 7.522219 | 7.677716 | 7.6418939 | 7.618631 | 9.259504 | 9.3432672 | ⋯ | 23129 | PLXND1   | plexin D1                                        | 3 | 129555214 | 129606676 | 58.30 | protein coding | -1 | 3 |\n",
       "\n"
      ],
      "text/plain": [
       "  ensembl_gene_id hgnc_symbol EtOH_04h_R1 EtOH_04h_R2 EtOH_04h_R3 EtOH_08h_R1\n",
       "1 ENSG00000001084 GCLC        6.405557    6.326648    6.285189    7.748987   \n",
       "2 ENSG00000002549 LAP3        5.226432    5.322183    5.283674    4.851039   \n",
       "3 ENSG00000002587 HS3ST1      1.454164    1.455430    1.842322    1.352924   \n",
       "4 ENSG00000002933 TMEM176A    3.197559    2.733978    3.673014    2.915859   \n",
       "5 ENSG00000003436 TFPI        2.962609    2.876362    2.438222    3.734147   \n",
       "6 ENSG00000004399 PLXND1      7.409611    7.518182    7.522219    7.677716   \n",
       "  EtOH_08h_R2 EtOH_08h_R3 EtOH_24h_R1 EtOH_24h_R2 <U+22EF>   entrezgene_id\n",
       "1 7.8433492   7.856297    6.473851    6.4794299   <U+22EF>  2729        \n",
       "2 5.0119985   5.176611    5.641810    5.6066271   <U+22EF> 51056        \n",
       "3 0.2628364   1.021393    3.866042    3.6402640   <U+22EF>  9957        \n",
       "4 3.1337694   2.973015    5.392107    5.6066271   <U+22EF> 55365        \n",
       "5 3.7763749   3.773324    1.119966    0.4075362   <U+22EF>  7035        \n",
       "6 7.6418939   7.618631    9.259504    9.3432672   <U+22EF> 23129        \n",
       "  external_gene_name description                                     \n",
       "1 GCLC               glutamate-cysteine ligase catalytic subunit     \n",
       "2 LAP3               leucine aminopeptidase 3                        \n",
       "3 HS3ST1             heparan sulfate-glucosamine 3-sulfotransferase 1\n",
       "4 TMEM176A           transmembrane protein 176A                      \n",
       "5 TFPI               tissue factor pathway inhibitor                 \n",
       "6 PLXND1             plexin D1                                       \n",
       "  chromosome_name start_position end_position percentage_gene_gc_content\n",
       "1 6                53497341       53616970    40.16                     \n",
       "2 4                17577198       17607972    44.16                     \n",
       "3 4                11393150       11429564    43.92                     \n",
       "4 7               150800403      150805118    57.55                     \n",
       "5 2               187464230      187565760    36.60                     \n",
       "6 3               129555214      129606676    58.30                     \n",
       "  gene_biotype   strand cluster\n",
       "1 protein coding -1     2      \n",
       "2 protein coding  1     3      \n",
       "3 protein coding -1     3      \n",
       "4 protein coding  1     3      \n",
       "5 protein coding -1     4      \n",
       "6 protein coding -1     3      "
      ]
     },
     "metadata": {},
     "output_type": "display_data"
    }
   ],
   "source": [
    "head (mrg)"
   ]
  },
  {
   "cell_type": "code",
   "execution_count": 24,
   "id": "trying-median",
   "metadata": {},
   "outputs": [],
   "source": [
    "write.table(mrg, \"./data/f_time2020_inlog_FC15_FC2_evidence-threshold_KM.tsv\", sep = '\\t', row.names =F)"
   ]
  },
  {
   "cell_type": "code",
   "execution_count": 25,
   "id": "occupational-publisher",
   "metadata": {},
   "outputs": [],
   "source": [
    "write.xlsx (kmeans_results, \"./data/kmeans_results.xlsx\")"
   ]
  },
  {
   "cell_type": "markdown",
   "id": "choice-disclosure",
   "metadata": {},
   "source": [
    "## Gene ontology via topGO"
   ]
  },
  {
   "cell_type": "markdown",
   "id": "public-figure",
   "metadata": {},
   "source": [
    "Help from https://jdblischak.github.io/nw/analysis/mouse/go.html"
   ]
  },
  {
   "cell_type": "markdown",
   "id": "piano-supervision",
   "metadata": {},
   "source": [
    "Define \"universe\" as all genes tested for differential expression (=all 12.305 expressed)"
   ]
  },
  {
   "cell_type": "code",
   "execution_count": 18,
   "id": "comfortable-costa",
   "metadata": {},
   "outputs": [],
   "source": [
    "universe = d$ensembl_gene_id"
   ]
  },
  {
   "cell_type": "markdown",
   "id": "stuffed-album",
   "metadata": {},
   "source": [
    "### Test all 662 DEGs "
   ]
  },
  {
   "cell_type": "code",
   "execution_count": 19,
   "id": "laden-indicator",
   "metadata": {},
   "outputs": [
    {
     "data": {
      "text/html": [
       "662"
      ],
      "text/latex": [
       "662"
      ],
      "text/markdown": [
       "662"
      ],
      "text/plain": [
       "[1] 662"
      ]
     },
     "metadata": {},
     "output_type": "display_data"
    },
    {
     "data": {
      "text/html": [
       "12305"
      ],
      "text/latex": [
       "12305"
      ],
      "text/markdown": [
       "12305"
      ],
      "text/plain": [
       "[1] 12305"
      ]
     },
     "metadata": {},
     "output_type": "display_data"
    }
   ],
   "source": [
    "expressed = as.numeric(universe %in% all_genes)\n",
    "names(expressed) = universe\n",
    "\n",
    "length (all_genes)\n",
    "length (expressed)"
   ]
  },
  {
   "cell_type": "code",
   "execution_count": 20,
   "id": "sufficient-nudist",
   "metadata": {},
   "outputs": [
    {
     "name": "stderr",
     "output_type": "stream",
     "text": [
      "\n",
      "Building most specific GOs .....\n",
      "\n",
      "Loading required package: org.Hs.eg.db\n",
      "\n",
      "\n",
      "\n",
      "\t( 10686 GO terms found. )\n",
      "\n",
      "\n",
      "Build GO DAG topology ..........\n",
      "\n",
      "\t( 14567 GO terms and 33790 relations. )\n",
      "\n",
      "\n",
      "Annotating nodes ...............\n",
      "\n",
      "\t( 11241 genes annotated to the GO terms. )\n",
      "\n"
     ]
    }
   ],
   "source": [
    "go_data = new(\"topGOdata\", \n",
    "              ontology = \"BP\", \n",
    "              allGenes = expressed,\n",
    "              nodeSize = 10,\n",
    "              geneSel = function(x){\n",
    "                return(x == 1)},\n",
    "              annot = annFUN.org, \n",
    "              mapping = \"org.Hs.eg.db\", \n",
    "              ID = \"ensembl\")"
   ]
  },
  {
   "cell_type": "code",
   "execution_count": 21,
   "id": "supreme-promotion",
   "metadata": {},
   "outputs": [
    {
     "name": "stderr",
     "output_type": "stream",
     "text": [
      "\n",
      "\t\t\t -- Weight01 Algorithm -- \n",
      "\n",
      "\t\t the algorithm is scoring 4769 nontrivial nodes\n",
      "\t\t parameters: \n",
      "\t\t\t test statistic: fisher\n",
      "\n",
      "\n",
      "\t Level 19:\t1 nodes to be scored\t(0 eliminated genes)\n",
      "\n",
      "\n",
      "\t Level 18:\t1 nodes to be scored\t(0 eliminated genes)\n",
      "\n",
      "\n",
      "\t Level 17:\t9 nodes to be scored\t(12 eliminated genes)\n",
      "\n",
      "\n",
      "\t Level 16:\t17 nodes to be scored\t(16 eliminated genes)\n",
      "\n",
      "\n",
      "\t Level 15:\t33 nodes to be scored\t(97 eliminated genes)\n",
      "\n",
      "\n",
      "\t Level 14:\t71 nodes to be scored\t(226 eliminated genes)\n",
      "\n",
      "\n",
      "\t Level 13:\t103 nodes to be scored\t(570 eliminated genes)\n",
      "\n",
      "\n",
      "\t Level 12:\t175 nodes to be scored\t(1553 eliminated genes)\n",
      "\n",
      "\n",
      "\t Level 11:\t307 nodes to be scored\t(3184 eliminated genes)\n",
      "\n",
      "\n",
      "\t Level 10:\t516 nodes to be scored\t(4750 eliminated genes)\n",
      "\n",
      "\n",
      "\t Level 9:\t685 nodes to be scored\t(6161 eliminated genes)\n",
      "\n",
      "\n",
      "\t Level 8:\t742 nodes to be scored\t(7811 eliminated genes)\n",
      "\n",
      "\n",
      "\t Level 7:\t747 nodes to be scored\t(9169 eliminated genes)\n",
      "\n",
      "\n",
      "\t Level 6:\t634 nodes to be scored\t(10167 eliminated genes)\n",
      "\n",
      "\n",
      "\t Level 5:\t402 nodes to be scored\t(10615 eliminated genes)\n",
      "\n",
      "\n",
      "\t Level 4:\t210 nodes to be scored\t(10899 eliminated genes)\n",
      "\n",
      "\n",
      "\t Level 3:\t95 nodes to be scored\t(11015 eliminated genes)\n",
      "\n",
      "\n",
      "\t Level 2:\t20 nodes to be scored\t(11070 eliminated genes)\n",
      "\n",
      "\n",
      "\t Level 1:\t1 nodes to be scored\t(11129 eliminated genes)\n",
      "\n"
     ]
    },
    {
     "data": {
      "text/html": [
       "<table class=\"dataframe\">\n",
       "<caption>A data.frame: 6 × 6</caption>\n",
       "<thead>\n",
       "\t<tr><th></th><th scope=col>GO.ID</th><th scope=col>Term</th><th scope=col>Annotated</th><th scope=col>Significant</th><th scope=col>Expected</th><th scope=col>weightFisher</th></tr>\n",
       "\t<tr><th></th><th scope=col>&lt;chr&gt;</th><th scope=col>&lt;chr&gt;</th><th scope=col>&lt;int&gt;</th><th scope=col>&lt;int&gt;</th><th scope=col>&lt;dbl&gt;</th><th scope=col>&lt;chr&gt;</th></tr>\n",
       "</thead>\n",
       "<tbody>\n",
       "\t<tr><th scope=row>1</th><td>GO:0043312</td><td>neutrophil degranulation           </td><td>425</td><td>72</td><td>23.74</td><td>8.2e-18</td></tr>\n",
       "\t<tr><th scope=row>2</th><td>GO:0006954</td><td>inflammatory response              </td><td>506</td><td>96</td><td>28.27</td><td>2.7e-14</td></tr>\n",
       "\t<tr><th scope=row>3</th><td>GO:0030198</td><td>extracellular matrix organization  </td><td>206</td><td>47</td><td>11.51</td><td>1.6e-10</td></tr>\n",
       "\t<tr><th scope=row>4</th><td>GO:0019221</td><td>cytokine-mediated signaling pathway</td><td>598</td><td>85</td><td>33.41</td><td>2.8e-10</td></tr>\n",
       "\t<tr><th scope=row>5</th><td>GO:0045766</td><td>positive regulation of angiogenesis</td><td>107</td><td>25</td><td> 5.98</td><td>5.0e-10</td></tr>\n",
       "\t<tr><th scope=row>6</th><td>GO:0002250</td><td>adaptive immune response           </td><td>337</td><td>55</td><td>18.83</td><td>5.0e-09</td></tr>\n",
       "</tbody>\n",
       "</table>\n"
      ],
      "text/latex": [
       "A data.frame: 6 × 6\n",
       "\\begin{tabular}{r|llllll}\n",
       "  & GO.ID & Term & Annotated & Significant & Expected & weightFisher\\\\\n",
       "  & <chr> & <chr> & <int> & <int> & <dbl> & <chr>\\\\\n",
       "\\hline\n",
       "\t1 & GO:0043312 & neutrophil degranulation            & 425 & 72 & 23.74 & 8.2e-18\\\\\n",
       "\t2 & GO:0006954 & inflammatory response               & 506 & 96 & 28.27 & 2.7e-14\\\\\n",
       "\t3 & GO:0030198 & extracellular matrix organization   & 206 & 47 & 11.51 & 1.6e-10\\\\\n",
       "\t4 & GO:0019221 & cytokine-mediated signaling pathway & 598 & 85 & 33.41 & 2.8e-10\\\\\n",
       "\t5 & GO:0045766 & positive regulation of angiogenesis & 107 & 25 &  5.98 & 5.0e-10\\\\\n",
       "\t6 & GO:0002250 & adaptive immune response            & 337 & 55 & 18.83 & 5.0e-09\\\\\n",
       "\\end{tabular}\n"
      ],
      "text/markdown": [
       "\n",
       "A data.frame: 6 × 6\n",
       "\n",
       "| <!--/--> | GO.ID &lt;chr&gt; | Term &lt;chr&gt; | Annotated &lt;int&gt; | Significant &lt;int&gt; | Expected &lt;dbl&gt; | weightFisher &lt;chr&gt; |\n",
       "|---|---|---|---|---|---|---|\n",
       "| 1 | GO:0043312 | neutrophil degranulation            | 425 | 72 | 23.74 | 8.2e-18 |\n",
       "| 2 | GO:0006954 | inflammatory response               | 506 | 96 | 28.27 | 2.7e-14 |\n",
       "| 3 | GO:0030198 | extracellular matrix organization   | 206 | 47 | 11.51 | 1.6e-10 |\n",
       "| 4 | GO:0019221 | cytokine-mediated signaling pathway | 598 | 85 | 33.41 | 2.8e-10 |\n",
       "| 5 | GO:0045766 | positive regulation of angiogenesis | 107 | 25 |  5.98 | 5.0e-10 |\n",
       "| 6 | GO:0002250 | adaptive immune response            | 337 | 55 | 18.83 | 5.0e-09 |\n",
       "\n"
      ],
      "text/plain": [
       "  GO.ID      Term                                Annotated Significant Expected\n",
       "1 GO:0043312 neutrophil degranulation            425       72          23.74   \n",
       "2 GO:0006954 inflammatory response               506       96          28.27   \n",
       "3 GO:0030198 extracellular matrix organization   206       47          11.51   \n",
       "4 GO:0019221 cytokine-mediated signaling pathway 598       85          33.41   \n",
       "5 GO:0045766 positive regulation of angiogenesis 107       25           5.98   \n",
       "6 GO:0002250 adaptive immune response            337       55          18.83   \n",
       "  weightFisher\n",
       "1 8.2e-18     \n",
       "2 2.7e-14     \n",
       "3 1.6e-10     \n",
       "4 2.8e-10     \n",
       "5 5.0e-10     \n",
       "6 5.0e-09     "
      ]
     },
     "metadata": {},
     "output_type": "display_data"
    }
   ],
   "source": [
    "go_test<- runTest(go_data, algorithm = \"weight01\", statistic = \"fisher\")\n",
    "go_table <- GenTable(go_data, weightFisher = go_test,\n",
    "                     orderBy = \"weightFisher\", ranksOf = \"weightFisher\",\n",
    "                     topNodes = sum(score(go_test) < .01))\n",
    "#head(go_table)\n",
    "\n",
    "go_tableSave <- as.data.frame (go_table)\n",
    "head (go_tableSave)"
   ]
  },
  {
   "cell_type": "markdown",
   "id": "maritime-essex",
   "metadata": {},
   "source": [
    "### %IN% ALL 662 GENES"
   ]
  },
  {
   "cell_type": "code",
   "execution_count": 22,
   "id": "destroyed-necessity",
   "metadata": {},
   "outputs": [],
   "source": [
    "go_table$genes <- sapply(go_table$GO.ID, function(x)\n",
    "    {\n",
    "      genes<-genesInTerm(go_data, x) \n",
    "      genes[[1]][genes[[1]] %in% all_genes]   \n",
    "    })"
   ]
  },
  {
   "cell_type": "code",
   "execution_count": 23,
   "id": "italian-referral",
   "metadata": {},
   "outputs": [
    {
     "data": {
      "text/html": [
       "'GO:0043312'"
      ],
      "text/latex": [
       "'GO:0043312'"
      ],
      "text/markdown": [
       "'GO:0043312'"
      ],
      "text/plain": [
       "[1] \"GO:0043312\""
      ]
     },
     "metadata": {},
     "output_type": "display_data"
    },
    {
     "data": {
      "text/html": [
       "'GO:0006954'"
      ],
      "text/latex": [
       "'GO:0006954'"
      ],
      "text/markdown": [
       "'GO:0006954'"
      ],
      "text/plain": [
       "[1] \"GO:0006954\""
      ]
     },
     "metadata": {},
     "output_type": "display_data"
    },
    {
     "data": {
      "text/html": [
       "'GO:0030198'"
      ],
      "text/latex": [
       "'GO:0030198'"
      ],
      "text/markdown": [
       "'GO:0030198'"
      ],
      "text/plain": [
       "[1] \"GO:0030198\""
      ]
     },
     "metadata": {},
     "output_type": "display_data"
    },
    {
     "data": {
      "text/html": [
       "'GO:0019221'"
      ],
      "text/latex": [
       "'GO:0019221'"
      ],
      "text/markdown": [
       "'GO:0019221'"
      ],
      "text/plain": [
       "[1] \"GO:0019221\""
      ]
     },
     "metadata": {},
     "output_type": "display_data"
    },
    {
     "data": {
      "text/html": [
       "'GO:0045766'"
      ],
      "text/latex": [
       "'GO:0045766'"
      ],
      "text/markdown": [
       "'GO:0045766'"
      ],
      "text/plain": [
       "[1] \"GO:0045766\""
      ]
     },
     "metadata": {},
     "output_type": "display_data"
    }
   ],
   "source": [
    "go_table[1,1]\n",
    "go_table[2,1]\n",
    "go_table[3,1]\n",
    "go_table[4,1]\n",
    "go_table[5,1]"
   ]
  },
  {
   "cell_type": "code",
   "execution_count": 24,
   "id": "distinct-illness",
   "metadata": {},
   "outputs": [],
   "source": [
    "first = go_table$genes$\"GO:0043312\"\n",
    "second = go_table$genes$'GO:0006954'\n",
    "third = go_table$genes$'GO:0030198'\n",
    "forth = go_table$genes$'GO:0019221'\n",
    "fifth = go_table$genes$'GO:0045766'"
   ]
  },
  {
   "cell_type": "code",
   "execution_count": 25,
   "id": "forward-netscape",
   "metadata": {},
   "outputs": [
    {
     "data": {
      "text/html": [
       "<table class=\"dataframe\">\n",
       "<caption>A rowwise_df: 6 × 9</caption>\n",
       "<thead>\n",
       "\t<tr><th scope=col>hgnc_symbol</th><th scope=col>Regulation_v2</th><th scope=col>Target_08h</th><th scope=col>logFC_04h</th><th scope=col>logFC_08h</th><th scope=col>logFC_24h</th><th scope=col>logFC_48h</th><th scope=col>ensembl_gene_id</th><th scope=col>max_val</th></tr>\n",
       "\t<tr><th scope=col>&lt;chr&gt;</th><th scope=col>&lt;chr&gt;</th><th scope=col>&lt;chr&gt;</th><th scope=col>&lt;dbl&gt;</th><th scope=col>&lt;dbl&gt;</th><th scope=col>&lt;dbl&gt;</th><th scope=col>&lt;dbl&gt;</th><th scope=col>&lt;chr&gt;</th><th scope=col>&lt;dbl&gt;</th></tr>\n",
       "</thead>\n",
       "<tbody>\n",
       "\t<tr><td>AATK </td><td>down</td><td>no </td><td>-0.09222228</td><td>-0.8838365</td><td>-3.018222</td><td>-0.4410968</td><td>ENSG00000181409</td><td>0.6624667</td></tr>\n",
       "\t<tr><td>ABCB4</td><td>up  </td><td>no </td><td> 0.35189621</td><td> 0.7407174</td><td> 1.483169</td><td> 2.0965998</td><td>ENSG00000005471</td><td>1.1119432</td></tr>\n",
       "\t<tr><td>ABCC3</td><td>down</td><td>yes</td><td>-0.13937232</td><td>-1.7538720</td><td>-2.258022</td><td>-0.5120360</td><td>ENSG00000108846</td><td>1.1329540</td></tr>\n",
       "\t<tr><td>ACP3 </td><td>down</td><td>no </td><td>-0.41876223</td><td> 0.5533432</td><td>-2.185136</td><td>-0.6078889</td><td>ENSG00000014257</td><td>0.5806160</td></tr>\n",
       "\t<tr><td>ACSL1</td><td>up  </td><td>no </td><td> 0.52133582</td><td> 0.3735064</td><td> 1.101518</td><td> 2.8593126</td><td>ENSG00000151726</td><td>0.8114270</td></tr>\n",
       "\t<tr><td>ACSM3</td><td>up  </td><td>no </td><td>-0.39989225</td><td> 0.1259446</td><td> 1.802114</td><td> 0.8492911</td><td>ENSG00000005187</td><td>0.6245917</td></tr>\n",
       "</tbody>\n",
       "</table>\n"
      ],
      "text/latex": [
       "A rowwise\\_df: 6 × 9\n",
       "\\begin{tabular}{lllllllll}\n",
       " hgnc\\_symbol & Regulation\\_v2 & Target\\_08h & logFC\\_04h & logFC\\_08h & logFC\\_24h & logFC\\_48h & ensembl\\_gene\\_id & max\\_val\\\\\n",
       " <chr> & <chr> & <chr> & <dbl> & <dbl> & <dbl> & <dbl> & <chr> & <dbl>\\\\\n",
       "\\hline\n",
       "\t AATK  & down & no  & -0.09222228 & -0.8838365 & -3.018222 & -0.4410968 & ENSG00000181409 & 0.6624667\\\\\n",
       "\t ABCB4 & up   & no  &  0.35189621 &  0.7407174 &  1.483169 &  2.0965998 & ENSG00000005471 & 1.1119432\\\\\n",
       "\t ABCC3 & down & yes & -0.13937232 & -1.7538720 & -2.258022 & -0.5120360 & ENSG00000108846 & 1.1329540\\\\\n",
       "\t ACP3  & down & no  & -0.41876223 &  0.5533432 & -2.185136 & -0.6078889 & ENSG00000014257 & 0.5806160\\\\\n",
       "\t ACSL1 & up   & no  &  0.52133582 &  0.3735064 &  1.101518 &  2.8593126 & ENSG00000151726 & 0.8114270\\\\\n",
       "\t ACSM3 & up   & no  & -0.39989225 &  0.1259446 &  1.802114 &  0.8492911 & ENSG00000005187 & 0.6245917\\\\\n",
       "\\end{tabular}\n"
      ],
      "text/markdown": [
       "\n",
       "A rowwise_df: 6 × 9\n",
       "\n",
       "| hgnc_symbol &lt;chr&gt; | Regulation_v2 &lt;chr&gt; | Target_08h &lt;chr&gt; | logFC_04h &lt;dbl&gt; | logFC_08h &lt;dbl&gt; | logFC_24h &lt;dbl&gt; | logFC_48h &lt;dbl&gt; | ensembl_gene_id &lt;chr&gt; | max_val &lt;dbl&gt; |\n",
       "|---|---|---|---|---|---|---|---|---|\n",
       "| AATK  | down | no  | -0.09222228 | -0.8838365 | -3.018222 | -0.4410968 | ENSG00000181409 | 0.6624667 |\n",
       "| ABCB4 | up   | no  |  0.35189621 |  0.7407174 |  1.483169 |  2.0965998 | ENSG00000005471 | 1.1119432 |\n",
       "| ABCC3 | down | yes | -0.13937232 | -1.7538720 | -2.258022 | -0.5120360 | ENSG00000108846 | 1.1329540 |\n",
       "| ACP3  | down | no  | -0.41876223 |  0.5533432 | -2.185136 | -0.6078889 | ENSG00000014257 | 0.5806160 |\n",
       "| ACSL1 | up   | no  |  0.52133582 |  0.3735064 |  1.101518 |  2.8593126 | ENSG00000151726 | 0.8114270 |\n",
       "| ACSM3 | up   | no  | -0.39989225 |  0.1259446 |  1.802114 |  0.8492911 | ENSG00000005187 | 0.6245917 |\n",
       "\n"
      ],
      "text/plain": [
       "  hgnc_symbol Regulation_v2 Target_08h logFC_04h   logFC_08h  logFC_24h\n",
       "1 AATK        down          no         -0.09222228 -0.8838365 -3.018222\n",
       "2 ABCB4       up            no          0.35189621  0.7407174  1.483169\n",
       "3 ABCC3       down          yes        -0.13937232 -1.7538720 -2.258022\n",
       "4 ACP3        down          no         -0.41876223  0.5533432 -2.185136\n",
       "5 ACSL1       up            no          0.52133582  0.3735064  1.101518\n",
       "6 ACSM3       up            no         -0.39989225  0.1259446  1.802114\n",
       "  logFC_48h  ensembl_gene_id max_val  \n",
       "1 -0.4410968 ENSG00000181409 0.6624667\n",
       "2  2.0965998 ENSG00000005471 1.1119432\n",
       "3 -0.5120360 ENSG00000108846 1.1329540\n",
       "4 -0.6078889 ENSG00000014257 0.5806160\n",
       "5  2.8593126 ENSG00000151726 0.8114270\n",
       "6  0.8492911 ENSG00000005187 0.6245917"
      ]
     },
     "metadata": {},
     "output_type": "display_data"
    }
   ],
   "source": [
    "de2 = de %>%\n",
    "select (c(\"hgnc_symbol\", \"regulation_overall\",\"Target_08h\",\"logFC_04h\", \"logFC_08h\", \"logFC_24h\", \"logFC_48h\", \"ensembl_gene_id\")) %>%\n",
    "rename ( Regulation_v2 = regulation_overall)%>%\n",
    "rowwise() %>%\n",
    "mutate(max_val = median(abs(c_across(logFC_04h:logFC_48h)))) #later sort genes based on desc median \n",
    "\n",
    "head (de2)"
   ]
  },
  {
   "cell_type": "code",
   "execution_count": 26,
   "id": "metropolitan-canvas",
   "metadata": {},
   "outputs": [
    {
     "data": {
      "text/html": [
       "'CAMP mixed, CRISPLD2 up, SLC11A1 up, FCN1 down, MMP9 down, OLR1 up, FPR1 down, CD93 up, FPR2 down, CDA up, ALOX5 up, TRPM2 down, S100A9 down, CD14 up, CXCL1 up, CFP down, CLEC12A up, PTX3 down, S100A12 down, JUP down, GSN down, SIGLEC14 down, CHI3L1 mixed, ANPEP down, MNDA mixed, MGST1 mixed, LILRB2 down, FUCA1 up, CD36 down, ADGRE3 down, ADGRG3 up, ITGAM up, ATP8B4 down, CST3 down, PRKCD down, QPCT up, FGL2 down, PTAFR down, PPBP up, PADI2 down, MMP25 down, IMPDH1 down, HPSE up, GLA down, TYROBP down, CD300A down, ACP3 down, CTSH down, CLEC5A mixed, HSPA1A down, ATG7 down, HSPA1B down, CYFIP1 down, ITGAX down, RAB31 down, ANXA2 down, S100A8 down, PLD1 up, MAN2B1 down, PLAUR up, FCAR up, FTH1 down, CXCR1 down, ATP6V0A1 down, PRAM1 down, LILRB3 down, ALDH3B1 down, ITGB2 down, SIRPB1 down, GAA down, GRN down, NFAM1 down'"
      ],
      "text/latex": [
       "'CAMP mixed, CRISPLD2 up, SLC11A1 up, FCN1 down, MMP9 down, OLR1 up, FPR1 down, CD93 up, FPR2 down, CDA up, ALOX5 up, TRPM2 down, S100A9 down, CD14 up, CXCL1 up, CFP down, CLEC12A up, PTX3 down, S100A12 down, JUP down, GSN down, SIGLEC14 down, CHI3L1 mixed, ANPEP down, MNDA mixed, MGST1 mixed, LILRB2 down, FUCA1 up, CD36 down, ADGRE3 down, ADGRG3 up, ITGAM up, ATP8B4 down, CST3 down, PRKCD down, QPCT up, FGL2 down, PTAFR down, PPBP up, PADI2 down, MMP25 down, IMPDH1 down, HPSE up, GLA down, TYROBP down, CD300A down, ACP3 down, CTSH down, CLEC5A mixed, HSPA1A down, ATG7 down, HSPA1B down, CYFIP1 down, ITGAX down, RAB31 down, ANXA2 down, S100A8 down, PLD1 up, MAN2B1 down, PLAUR up, FCAR up, FTH1 down, CXCR1 down, ATP6V0A1 down, PRAM1 down, LILRB3 down, ALDH3B1 down, ITGB2 down, SIRPB1 down, GAA down, GRN down, NFAM1 down'"
      ],
      "text/markdown": [
       "'CAMP mixed, CRISPLD2 up, SLC11A1 up, FCN1 down, MMP9 down, OLR1 up, FPR1 down, CD93 up, FPR2 down, CDA up, ALOX5 up, TRPM2 down, S100A9 down, CD14 up, CXCL1 up, CFP down, CLEC12A up, PTX3 down, S100A12 down, JUP down, GSN down, SIGLEC14 down, CHI3L1 mixed, ANPEP down, MNDA mixed, MGST1 mixed, LILRB2 down, FUCA1 up, CD36 down, ADGRE3 down, ADGRG3 up, ITGAM up, ATP8B4 down, CST3 down, PRKCD down, QPCT up, FGL2 down, PTAFR down, PPBP up, PADI2 down, MMP25 down, IMPDH1 down, HPSE up, GLA down, TYROBP down, CD300A down, ACP3 down, CTSH down, CLEC5A mixed, HSPA1A down, ATG7 down, HSPA1B down, CYFIP1 down, ITGAX down, RAB31 down, ANXA2 down, S100A8 down, PLD1 up, MAN2B1 down, PLAUR up, FCAR up, FTH1 down, CXCR1 down, ATP6V0A1 down, PRAM1 down, LILRB3 down, ALDH3B1 down, ITGB2 down, SIRPB1 down, GAA down, GRN down, NFAM1 down'"
      ],
      "text/plain": [
       "[1] \"CAMP mixed, CRISPLD2 up, SLC11A1 up, FCN1 down, MMP9 down, OLR1 up, FPR1 down, CD93 up, FPR2 down, CDA up, ALOX5 up, TRPM2 down, S100A9 down, CD14 up, CXCL1 up, CFP down, CLEC12A up, PTX3 down, S100A12 down, JUP down, GSN down, SIGLEC14 down, CHI3L1 mixed, ANPEP down, MNDA mixed, MGST1 mixed, LILRB2 down, FUCA1 up, CD36 down, ADGRE3 down, ADGRG3 up, ITGAM up, ATP8B4 down, CST3 down, PRKCD down, QPCT up, FGL2 down, PTAFR down, PPBP up, PADI2 down, MMP25 down, IMPDH1 down, HPSE up, GLA down, TYROBP down, CD300A down, ACP3 down, CTSH down, CLEC5A mixed, HSPA1A down, ATG7 down, HSPA1B down, CYFIP1 down, ITGAX down, RAB31 down, ANXA2 down, S100A8 down, PLD1 up, MAN2B1 down, PLAUR up, FCAR up, FTH1 down, CXCR1 down, ATP6V0A1 down, PRAM1 down, LILRB3 down, ALDH3B1 down, ITGB2 down, SIRPB1 down, GAA down, GRN down, NFAM1 down\""
      ]
     },
     "metadata": {},
     "output_type": "display_data"
    },
    {
     "data": {
      "text/html": [
       "'CAMP mixed, CRISPLD2 up, FCN1 down, MMP9 down, SLC11A1 up'"
      ],
      "text/latex": [
       "'CAMP mixed, CRISPLD2 up, FCN1 down, MMP9 down, SLC11A1 up'"
      ],
      "text/markdown": [
       "'CAMP mixed, CRISPLD2 up, FCN1 down, MMP9 down, SLC11A1 up'"
      ],
      "text/plain": [
       "[1] \"CAMP mixed, CRISPLD2 up, FCN1 down, MMP9 down, SLC11A1 up\""
      ]
     },
     "metadata": {},
     "output_type": "display_data"
    },
    {
     "data": {
      "text/html": [
       "'CXCL9 down, FN1 up, CXCL10 down, OSM up, SLC11A1 up, CCL24 down, TREM1 up, CXCL5 up, CASP5 down, STAB1 down, THBS1 down, MMP9 down, OLR1 up, LPL up, FPR1 down, FFAR2 up, TNFRSF4 down, FPR2 down, ALOX5 up, PTGIR down, PLA2G4C down, ADORA3 down, SLAMF8 down, CSF1 up, SIGLEC1 down, MEFV down, ADM down, TPST1 up, S100A9 down, BMP6 up, IL1B up, CD14 up, CXCL1 up, IL18 down, FPR3 down, PTX3 down, SPP1 mixed, S100A12 down, ADA down, LILRA5 down, NOD2 up, TLR8 down, HLA-DRB1 down, MAPK13 up, TGM2 up, PLA2G7 down, SERPINE1 mixed, CHI3L1 mixed, IL1RN up, THEMIS2 up, NCR3 mixed, CCL22 up, CD36 down, IL1R2 mixed, CNR1 up, LOXL3 down, TIMP1 down, ITGAM up, KLF4 down, LRP1 up, PRKCD down, SERPINF1 down, NLRP12 mixed, PTAFR down, PPBP up, CCR2 down, MMP25 down, DAGLA down, CXCL8 up, CXCR4 up, AIF1 down, NLRP3 mixed, LACC1 down, CEBPB up, TLR7 down, IFNGR1 down, TYROBP down, CD163 down, CEBPA down, CCRL2 mixed, CIITA down, LDLR down, PTGS1 down, S100A8 down, ADGRE2 down, HCK down, C5AR2 mixed, ICAM1 down, P2RX7 down, IL17RC down, SPHK1 up, CSF1R down, FCGR2B down, ITGB2 down, GRN down, NFAM1 down'"
      ],
      "text/latex": [
       "'CXCL9 down, FN1 up, CXCL10 down, OSM up, SLC11A1 up, CCL24 down, TREM1 up, CXCL5 up, CASP5 down, STAB1 down, THBS1 down, MMP9 down, OLR1 up, LPL up, FPR1 down, FFAR2 up, TNFRSF4 down, FPR2 down, ALOX5 up, PTGIR down, PLA2G4C down, ADORA3 down, SLAMF8 down, CSF1 up, SIGLEC1 down, MEFV down, ADM down, TPST1 up, S100A9 down, BMP6 up, IL1B up, CD14 up, CXCL1 up, IL18 down, FPR3 down, PTX3 down, SPP1 mixed, S100A12 down, ADA down, LILRA5 down, NOD2 up, TLR8 down, HLA-DRB1 down, MAPK13 up, TGM2 up, PLA2G7 down, SERPINE1 mixed, CHI3L1 mixed, IL1RN up, THEMIS2 up, NCR3 mixed, CCL22 up, CD36 down, IL1R2 mixed, CNR1 up, LOXL3 down, TIMP1 down, ITGAM up, KLF4 down, LRP1 up, PRKCD down, SERPINF1 down, NLRP12 mixed, PTAFR down, PPBP up, CCR2 down, MMP25 down, DAGLA down, CXCL8 up, CXCR4 up, AIF1 down, NLRP3 mixed, LACC1 down, CEBPB up, TLR7 down, IFNGR1 down, TYROBP down, CD163 down, CEBPA down, CCRL2 mixed, CIITA down, LDLR down, PTGS1 down, S100A8 down, ADGRE2 down, HCK down, C5AR2 mixed, ICAM1 down, P2RX7 down, IL17RC down, SPHK1 up, CSF1R down, FCGR2B down, ITGB2 down, GRN down, NFAM1 down'"
      ],
      "text/markdown": [
       "'CXCL9 down, FN1 up, CXCL10 down, OSM up, SLC11A1 up, CCL24 down, TREM1 up, CXCL5 up, CASP5 down, STAB1 down, THBS1 down, MMP9 down, OLR1 up, LPL up, FPR1 down, FFAR2 up, TNFRSF4 down, FPR2 down, ALOX5 up, PTGIR down, PLA2G4C down, ADORA3 down, SLAMF8 down, CSF1 up, SIGLEC1 down, MEFV down, ADM down, TPST1 up, S100A9 down, BMP6 up, IL1B up, CD14 up, CXCL1 up, IL18 down, FPR3 down, PTX3 down, SPP1 mixed, S100A12 down, ADA down, LILRA5 down, NOD2 up, TLR8 down, HLA-DRB1 down, MAPK13 up, TGM2 up, PLA2G7 down, SERPINE1 mixed, CHI3L1 mixed, IL1RN up, THEMIS2 up, NCR3 mixed, CCL22 up, CD36 down, IL1R2 mixed, CNR1 up, LOXL3 down, TIMP1 down, ITGAM up, KLF4 down, LRP1 up, PRKCD down, SERPINF1 down, NLRP12 mixed, PTAFR down, PPBP up, CCR2 down, MMP25 down, DAGLA down, CXCL8 up, CXCR4 up, AIF1 down, NLRP3 mixed, LACC1 down, CEBPB up, TLR7 down, IFNGR1 down, TYROBP down, CD163 down, CEBPA down, CCRL2 mixed, CIITA down, LDLR down, PTGS1 down, S100A8 down, ADGRE2 down, HCK down, C5AR2 mixed, ICAM1 down, P2RX7 down, IL17RC down, SPHK1 up, CSF1R down, FCGR2B down, ITGB2 down, GRN down, NFAM1 down'"
      ],
      "text/plain": [
       "[1] \"CXCL9 down, FN1 up, CXCL10 down, OSM up, SLC11A1 up, CCL24 down, TREM1 up, CXCL5 up, CASP5 down, STAB1 down, THBS1 down, MMP9 down, OLR1 up, LPL up, FPR1 down, FFAR2 up, TNFRSF4 down, FPR2 down, ALOX5 up, PTGIR down, PLA2G4C down, ADORA3 down, SLAMF8 down, CSF1 up, SIGLEC1 down, MEFV down, ADM down, TPST1 up, S100A9 down, BMP6 up, IL1B up, CD14 up, CXCL1 up, IL18 down, FPR3 down, PTX3 down, SPP1 mixed, S100A12 down, ADA down, LILRA5 down, NOD2 up, TLR8 down, HLA-DRB1 down, MAPK13 up, TGM2 up, PLA2G7 down, SERPINE1 mixed, CHI3L1 mixed, IL1RN up, THEMIS2 up, NCR3 mixed, CCL22 up, CD36 down, IL1R2 mixed, CNR1 up, LOXL3 down, TIMP1 down, ITGAM up, KLF4 down, LRP1 up, PRKCD down, SERPINF1 down, NLRP12 mixed, PTAFR down, PPBP up, CCR2 down, MMP25 down, DAGLA down, CXCL8 up, CXCR4 up, AIF1 down, NLRP3 mixed, LACC1 down, CEBPB up, TLR7 down, IFNGR1 down, TYROBP down, CD163 down, CEBPA down, CCRL2 mixed, CIITA down, LDLR down, PTGS1 down, S100A8 down, ADGRE2 down, HCK down, C5AR2 mixed, ICAM1 down, P2RX7 down, IL17RC down, SPHK1 up, CSF1R down, FCGR2B down, ITGB2 down, GRN down, NFAM1 down\""
      ]
     },
     "metadata": {},
     "output_type": "display_data"
    },
    {
     "data": {
      "text/html": [
       "'CXCL10 down, CXCL9 down, FN1 up, OSM up, SLC11A1 up'"
      ],
      "text/latex": [
       "'CXCL10 down, CXCL9 down, FN1 up, OSM up, SLC11A1 up'"
      ],
      "text/markdown": [
       "'CXCL10 down, CXCL9 down, FN1 up, OSM up, SLC11A1 up'"
      ],
      "text/plain": [
       "[1] \"CXCL10 down, CXCL9 down, FN1 up, OSM up, SLC11A1 up\""
      ]
     },
     "metadata": {},
     "output_type": "display_data"
    },
    {
     "data": {
      "text/html": [
       "'FN1 up, ITGA11 down, ITGB8 up, CRISPLD2 up, PDPN up, NID1 down, HTRA1 up, THBS1 down, LAMB3 up, FSCN1 down, MMP9 down, COL7A1 up, TGFBI down, AGRN down, PTX3 down, SPP1 mixed, CTSL up, PAPLN up, SERPINE1 mixed, MYO1E down, LAMC1 up, RGCC up, SULF2 up, DPP4 up, LOXL3 down, TIMP1 down, ITGAM up, LRP1 up, MELTF mixed, CST3 down, LAMB2 mixed, MMP25 down, MMP19 up, TMEM38B up, FBN2 down, ITGAE up, PHLDB1 down, ITGAX down, ADAMTSL4 down, ITGB5 down, ANXA2 down, MMP14 down, SLC39A8 up, ICAM1 down, SH3PXD2B up, VCAN up, ITGB2 down'"
      ],
      "text/latex": [
       "'FN1 up, ITGA11 down, ITGB8 up, CRISPLD2 up, PDPN up, NID1 down, HTRA1 up, THBS1 down, LAMB3 up, FSCN1 down, MMP9 down, COL7A1 up, TGFBI down, AGRN down, PTX3 down, SPP1 mixed, CTSL up, PAPLN up, SERPINE1 mixed, MYO1E down, LAMC1 up, RGCC up, SULF2 up, DPP4 up, LOXL3 down, TIMP1 down, ITGAM up, LRP1 up, MELTF mixed, CST3 down, LAMB2 mixed, MMP25 down, MMP19 up, TMEM38B up, FBN2 down, ITGAE up, PHLDB1 down, ITGAX down, ADAMTSL4 down, ITGB5 down, ANXA2 down, MMP14 down, SLC39A8 up, ICAM1 down, SH3PXD2B up, VCAN up, ITGB2 down'"
      ],
      "text/markdown": [
       "'FN1 up, ITGA11 down, ITGB8 up, CRISPLD2 up, PDPN up, NID1 down, HTRA1 up, THBS1 down, LAMB3 up, FSCN1 down, MMP9 down, COL7A1 up, TGFBI down, AGRN down, PTX3 down, SPP1 mixed, CTSL up, PAPLN up, SERPINE1 mixed, MYO1E down, LAMC1 up, RGCC up, SULF2 up, DPP4 up, LOXL3 down, TIMP1 down, ITGAM up, LRP1 up, MELTF mixed, CST3 down, LAMB2 mixed, MMP25 down, MMP19 up, TMEM38B up, FBN2 down, ITGAE up, PHLDB1 down, ITGAX down, ADAMTSL4 down, ITGB5 down, ANXA2 down, MMP14 down, SLC39A8 up, ICAM1 down, SH3PXD2B up, VCAN up, ITGB2 down'"
      ],
      "text/plain": [
       "[1] \"FN1 up, ITGA11 down, ITGB8 up, CRISPLD2 up, PDPN up, NID1 down, HTRA1 up, THBS1 down, LAMB3 up, FSCN1 down, MMP9 down, COL7A1 up, TGFBI down, AGRN down, PTX3 down, SPP1 mixed, CTSL up, PAPLN up, SERPINE1 mixed, MYO1E down, LAMC1 up, RGCC up, SULF2 up, DPP4 up, LOXL3 down, TIMP1 down, ITGAM up, LRP1 up, MELTF mixed, CST3 down, LAMB2 mixed, MMP25 down, MMP19 up, TMEM38B up, FBN2 down, ITGAE up, PHLDB1 down, ITGAX down, ADAMTSL4 down, ITGB5 down, ANXA2 down, MMP14 down, SLC39A8 up, ICAM1 down, SH3PXD2B up, VCAN up, ITGB2 down\""
      ]
     },
     "metadata": {},
     "output_type": "display_data"
    },
    {
     "data": {
      "text/html": [
       "'CRISPLD2 up, FN1 up, ITGA11 down, ITGB8 up, PDPN up'"
      ],
      "text/latex": [
       "'CRISPLD2 up, FN1 up, ITGA11 down, ITGB8 up, PDPN up'"
      ],
      "text/markdown": [
       "'CRISPLD2 up, FN1 up, ITGA11 down, ITGB8 up, PDPN up'"
      ],
      "text/plain": [
       "[1] \"CRISPLD2 up, FN1 up, ITGA11 down, ITGB8 up, PDPN up\""
      ]
     },
     "metadata": {},
     "output_type": "display_data"
    },
    {
     "data": {
      "text/html": [
       "'CXCL9 down, FN1 up, CXCL10 down, OSM up, CCL24 down, CXCL5 up, FSCN1 down, MMP9 down, FPR1 down, TNFRSF4 down, ALOX5 up, CSF1 up, RHOU down, IL1B up, CXCL1 up, CRLF2 down, IL18 down, IL18BP down, CD300LF up, SERPINB2 up, NOD2 up, HLA-DRB1 down, IL13RA1 down, HLA-DRB5 down, HLA-DRA down, TNFSF15 mixed, TEC down, GPR35 down, EREG mixed, IL1RN up, CCL22 up, F13A1 down, CSF2RA down, CD36 down, CD4 down, IL1R2 mixed, TIMP1 down, ITGAM up, ACSL1 up, PRKCD down, HLA-DQB2 down, PTAFR down, PPBP up, PADI2 down, STAT1 down, CCR2 down, FCGR1A down, CXCL8 up, TNFRSF18 down, CXCR4 up, BCL2 up, IFNGR1 down, CEBPA down, HLA-DPA1 down, TNFRSF8 down, CCRL2 mixed, CD74 down, HSPA1A down, HLA-DQA1 down, CIITA down, IRF5 up, HSPA1B down, CSF2RB down, ITGAX down, CDKN1A down, HLA-DPB1 down, LTBR down, ANXA2 down, TNFSF13 down, HCK down, ICAM1 down, CSF3R up, HLA-DQB1 down, CXCR1 down, TALDO1 down, GBP1 down, IL9R up, IL17RC down, SPHK1 up, CSF1R down, IFITM3 down, SPI1 down, CX3CR1 down, VEGFA down, ITGB2 down'"
      ],
      "text/latex": [
       "'CXCL9 down, FN1 up, CXCL10 down, OSM up, CCL24 down, CXCL5 up, FSCN1 down, MMP9 down, FPR1 down, TNFRSF4 down, ALOX5 up, CSF1 up, RHOU down, IL1B up, CXCL1 up, CRLF2 down, IL18 down, IL18BP down, CD300LF up, SERPINB2 up, NOD2 up, HLA-DRB1 down, IL13RA1 down, HLA-DRB5 down, HLA-DRA down, TNFSF15 mixed, TEC down, GPR35 down, EREG mixed, IL1RN up, CCL22 up, F13A1 down, CSF2RA down, CD36 down, CD4 down, IL1R2 mixed, TIMP1 down, ITGAM up, ACSL1 up, PRKCD down, HLA-DQB2 down, PTAFR down, PPBP up, PADI2 down, STAT1 down, CCR2 down, FCGR1A down, CXCL8 up, TNFRSF18 down, CXCR4 up, BCL2 up, IFNGR1 down, CEBPA down, HLA-DPA1 down, TNFRSF8 down, CCRL2 mixed, CD74 down, HSPA1A down, HLA-DQA1 down, CIITA down, IRF5 up, HSPA1B down, CSF2RB down, ITGAX down, CDKN1A down, HLA-DPB1 down, LTBR down, ANXA2 down, TNFSF13 down, HCK down, ICAM1 down, CSF3R up, HLA-DQB1 down, CXCR1 down, TALDO1 down, GBP1 down, IL9R up, IL17RC down, SPHK1 up, CSF1R down, IFITM3 down, SPI1 down, CX3CR1 down, VEGFA down, ITGB2 down'"
      ],
      "text/markdown": [
       "'CXCL9 down, FN1 up, CXCL10 down, OSM up, CCL24 down, CXCL5 up, FSCN1 down, MMP9 down, FPR1 down, TNFRSF4 down, ALOX5 up, CSF1 up, RHOU down, IL1B up, CXCL1 up, CRLF2 down, IL18 down, IL18BP down, CD300LF up, SERPINB2 up, NOD2 up, HLA-DRB1 down, IL13RA1 down, HLA-DRB5 down, HLA-DRA down, TNFSF15 mixed, TEC down, GPR35 down, EREG mixed, IL1RN up, CCL22 up, F13A1 down, CSF2RA down, CD36 down, CD4 down, IL1R2 mixed, TIMP1 down, ITGAM up, ACSL1 up, PRKCD down, HLA-DQB2 down, PTAFR down, PPBP up, PADI2 down, STAT1 down, CCR2 down, FCGR1A down, CXCL8 up, TNFRSF18 down, CXCR4 up, BCL2 up, IFNGR1 down, CEBPA down, HLA-DPA1 down, TNFRSF8 down, CCRL2 mixed, CD74 down, HSPA1A down, HLA-DQA1 down, CIITA down, IRF5 up, HSPA1B down, CSF2RB down, ITGAX down, CDKN1A down, HLA-DPB1 down, LTBR down, ANXA2 down, TNFSF13 down, HCK down, ICAM1 down, CSF3R up, HLA-DQB1 down, CXCR1 down, TALDO1 down, GBP1 down, IL9R up, IL17RC down, SPHK1 up, CSF1R down, IFITM3 down, SPI1 down, CX3CR1 down, VEGFA down, ITGB2 down'"
      ],
      "text/plain": [
       "[1] \"CXCL9 down, FN1 up, CXCL10 down, OSM up, CCL24 down, CXCL5 up, FSCN1 down, MMP9 down, FPR1 down, TNFRSF4 down, ALOX5 up, CSF1 up, RHOU down, IL1B up, CXCL1 up, CRLF2 down, IL18 down, IL18BP down, CD300LF up, SERPINB2 up, NOD2 up, HLA-DRB1 down, IL13RA1 down, HLA-DRB5 down, HLA-DRA down, TNFSF15 mixed, TEC down, GPR35 down, EREG mixed, IL1RN up, CCL22 up, F13A1 down, CSF2RA down, CD36 down, CD4 down, IL1R2 mixed, TIMP1 down, ITGAM up, ACSL1 up, PRKCD down, HLA-DQB2 down, PTAFR down, PPBP up, PADI2 down, STAT1 down, CCR2 down, FCGR1A down, CXCL8 up, TNFRSF18 down, CXCR4 up, BCL2 up, IFNGR1 down, CEBPA down, HLA-DPA1 down, TNFRSF8 down, CCRL2 mixed, CD74 down, HSPA1A down, HLA-DQA1 down, CIITA down, IRF5 up, HSPA1B down, CSF2RB down, ITGAX down, CDKN1A down, HLA-DPB1 down, LTBR down, ANXA2 down, TNFSF13 down, HCK down, ICAM1 down, CSF3R up, HLA-DQB1 down, CXCR1 down, TALDO1 down, GBP1 down, IL9R up, IL17RC down, SPHK1 up, CSF1R down, IFITM3 down, SPI1 down, CX3CR1 down, VEGFA down, ITGB2 down\""
      ]
     },
     "metadata": {},
     "output_type": "display_data"
    },
    {
     "data": {
      "text/html": [
       "'CCL24 down, CXCL10 down, CXCL9 down, FN1 up, OSM up'"
      ],
      "text/latex": [
       "'CCL24 down, CXCL10 down, CXCL9 down, FN1 up, OSM up'"
      ],
      "text/markdown": [
       "'CCL24 down, CXCL10 down, CXCL9 down, FN1 up, OSM up'"
      ],
      "text/plain": [
       "[1] \"CCL24 down, CXCL10 down, CXCL9 down, FN1 up, OSM up\""
      ]
     },
     "metadata": {},
     "output_type": "display_data"
    },
    {
     "data": {
      "text/html": [
       "'ITGB8 up, ACVRL1 up, CCL24 down, THBS1 down, SASH1 down, ADM down, HK2 up, IL1B up, JUP down, SERPINE1 mixed, CHI3L1 mixed, KLF4 down, CXCL8 up, CXCR4 up, NRP1 up, CTSH down, HSPB1 down, ITGAX down, RRAS down, SPHK1 up, CX3CR1 down, VEGFA down, ITGB2 down, GRN down, RAPGEF3 up'"
      ],
      "text/latex": [
       "'ITGB8 up, ACVRL1 up, CCL24 down, THBS1 down, SASH1 down, ADM down, HK2 up, IL1B up, JUP down, SERPINE1 mixed, CHI3L1 mixed, KLF4 down, CXCL8 up, CXCR4 up, NRP1 up, CTSH down, HSPB1 down, ITGAX down, RRAS down, SPHK1 up, CX3CR1 down, VEGFA down, ITGB2 down, GRN down, RAPGEF3 up'"
      ],
      "text/markdown": [
       "'ITGB8 up, ACVRL1 up, CCL24 down, THBS1 down, SASH1 down, ADM down, HK2 up, IL1B up, JUP down, SERPINE1 mixed, CHI3L1 mixed, KLF4 down, CXCL8 up, CXCR4 up, NRP1 up, CTSH down, HSPB1 down, ITGAX down, RRAS down, SPHK1 up, CX3CR1 down, VEGFA down, ITGB2 down, GRN down, RAPGEF3 up'"
      ],
      "text/plain": [
       "[1] \"ITGB8 up, ACVRL1 up, CCL24 down, THBS1 down, SASH1 down, ADM down, HK2 up, IL1B up, JUP down, SERPINE1 mixed, CHI3L1 mixed, KLF4 down, CXCL8 up, CXCR4 up, NRP1 up, CTSH down, HSPB1 down, ITGAX down, RRAS down, SPHK1 up, CX3CR1 down, VEGFA down, ITGB2 down, GRN down, RAPGEF3 up\""
      ]
     },
     "metadata": {},
     "output_type": "display_data"
    },
    {
     "data": {
      "text/html": [
       "'ACVRL1 up, CCL24 down, ITGB8 up, SASH1 down, THBS1 down'"
      ],
      "text/latex": [
       "'ACVRL1 up, CCL24 down, ITGB8 up, SASH1 down, THBS1 down'"
      ],
      "text/markdown": [
       "'ACVRL1 up, CCL24 down, ITGB8 up, SASH1 down, THBS1 down'"
      ],
      "text/plain": [
       "[1] \"ACVRL1 up, CCL24 down, ITGB8 up, SASH1 down, THBS1 down\""
      ]
     },
     "metadata": {},
     "output_type": "display_data"
    }
   ],
   "source": [
    "#add yes-no col\n",
    "first1 <- as_tibble (first)\n",
    "\n",
    "first1 = first1 %>%\n",
    "rename (ensembl_gene_id = value) %>%\n",
    "add_column (is_first = \"Yes\")\n",
    "\n",
    "#column_to_rownames (\"hgnc_symbol\")\n",
    "\n",
    "mrg_prim1 <- merge (de2, first1, by = \"ensembl_gene_id\", all.x = T)\n",
    "#head (mrg_prim1)\n",
    "\n",
    "\n",
    "pr1 <- mrg_prim1 %>%\n",
    "filter (., is_first == \"Yes\") %>%\n",
    "arrange (., -max_val)\n",
    "\n",
    "#pr1_genes <- paste(pr1$hgnc_symbol[1:5], (pr1$Regulation_v2[1:5]))\n",
    "pr1_genes <- paste(pr1$hgnc_symbol, (pr1$Regulation_v2))\n",
    "pr1_genes <- toString (pr1_genes)\n",
    "pr1_genes\n",
    "\n",
    "pr1_genes_5L <- paste(pr1$hgnc_symbol[1:5],(pr1$Regulation_v2[1:5]))\n",
    "pr1_genes_5 = pr1_genes_5L %>%\n",
    "sort(.) %>%\n",
    "toString()\n",
    "\n",
    "pr1_genes_5\n",
    "\n",
    "#add yes-no col\n",
    "second1 <- as_tibble (second)\n",
    "\n",
    "second1 = second1 %>%\n",
    "rename (ensembl_gene_id = value) %>%\n",
    "add_column (is_second = \"Yes\")\n",
    "\n",
    "#column_to_rownames (\"hgnc_symbol\")\n",
    "\n",
    "mrg_prim2 <- merge (de2, second1, by = \"ensembl_gene_id\", all.x = T)\n",
    "#head (mrg_prim2)\n",
    "\n",
    "\n",
    "pr2 <- mrg_prim2 %>%\n",
    "filter (., is_second == \"Yes\") %>%\n",
    "arrange (., -max_val)\n",
    "\n",
    "#pr2_genes <- paste(pr2$hgnc_symbol[1:5], (pr2$Regulation_v2[1:5]))\n",
    "pr2_genes <- paste(pr2$hgnc_symbol, (pr2$Regulation_v2))\n",
    "pr2_genes <- toString (pr2_genes)\n",
    "pr2_genes\n",
    "\n",
    "pr2_genes_5L <- paste(pr2$hgnc_symbol[1:5],(pr2$Regulation_v2[1:5]))\n",
    "pr2_genes_5 = pr2_genes_5L %>%\n",
    "sort(.) %>%\n",
    "toString()\n",
    "\n",
    "pr2_genes_5\n",
    "\n",
    "######\n",
    "#add yes-no col\n",
    "third1 <- as_tibble (third)\n",
    "\n",
    "third1 = third1 %>%\n",
    "rename (ensembl_gene_id = value) %>%\n",
    "add_column (is_third = \"Yes\")\n",
    "\n",
    "#column_to_rownames (\"hgnc_symbol\")\n",
    "\n",
    "mrg_prim3 <- merge (de2, third1, by = \"ensembl_gene_id\", all.x = T)\n",
    "#head (mrg_prim3)\n",
    "\n",
    "\n",
    "pr3 <- mrg_prim3 %>%\n",
    "filter (., is_third == \"Yes\") %>%\n",
    "arrange (., -max_val)\n",
    "\n",
    "#pr3_genes <- paste(pr3$hgnc_symbol[1:5], (pr3$Regulation_v2[1:5]))\n",
    "pr3_genes <- paste(pr3$hgnc_symbol, (pr3$Regulation_v2))\n",
    "pr3_genes <- toString (pr3_genes)\n",
    "pr3_genes\n",
    "\n",
    "pr3_genes_5L <- paste(pr3$hgnc_symbol[1:5],(pr3$Regulation_v2[1:5]))\n",
    "pr3_genes_5 = pr3_genes_5L %>%\n",
    "sort(.) %>%\n",
    "toString()\n",
    "\n",
    "pr3_genes_5\n",
    "\n",
    "######\n",
    "\n",
    "#add yes-no col\n",
    "forth1 <- as_tibble (forth)\n",
    "\n",
    "forth1 = forth1 %>%\n",
    "rename (ensembl_gene_id = value) %>%\n",
    "add_column (is_forth = \"Yes\")\n",
    "\n",
    "#column_to_rownames (\"hgnc_symbol\")\n",
    "\n",
    "mrg_prim4 <- merge (de2, forth1, by = \"ensembl_gene_id\", all.x = T)\n",
    "#head (mrg_prim4)\n",
    "\n",
    "\n",
    "pr4 <- mrg_prim4 %>%\n",
    "filter (., is_forth == \"Yes\") %>%\n",
    "arrange (., -max_val)\n",
    "\n",
    "#pr4_genes <- paste(pr4$hgnc_symbol[1:5], (pr4$Regulation_v2[1:5]))\n",
    "pr4_genes <- paste(pr4$hgnc_symbol, (pr4$Regulation_v2))\n",
    "pr4_genes <- toString (pr4_genes)\n",
    "pr4_genes\n",
    "\n",
    "pr4_genes_5L <- paste(pr4$hgnc_symbol[1:5],(pr4$Regulation_v2[1:5]))\n",
    "pr4_genes_5 = pr4_genes_5L %>%\n",
    "sort(.) %>%\n",
    "toString()\n",
    "\n",
    "pr4_genes_5\n",
    "\n",
    "#####\n",
    "\n",
    "#add yes-no col\n",
    "fifth1 <- as_tibble (fifth)\n",
    "\n",
    "fifth1 = fifth1 %>%\n",
    "rename (ensembl_gene_id = value) %>%\n",
    "add_column (is_fifth = \"Yes\")\n",
    "\n",
    "#column_to_rownames (\"hgnc_symbol\")\n",
    "\n",
    "mrg_prim5 <- merge (de2, fifth1, by = \"ensembl_gene_id\", all.x = T)\n",
    "#head (mrg_prim5)\n",
    "\n",
    "\n",
    "pr5 <- mrg_prim5 %>%\n",
    "filter (., is_fifth == \"Yes\") %>%\n",
    "arrange (., -max_val)\n",
    "\n",
    "#pr5_genes <- paste(pr5$hgnc_symbol[1:5], (pr5$Regulation_v2[1:5]))\n",
    "pr5_genes <- paste(pr5$hgnc_symbol, (pr5$Regulation_v2))\n",
    "pr5_genes <- toString (pr5_genes)\n",
    "pr5_genes\n",
    "\n",
    "pr5_genes_5L <- paste(pr5$hgnc_symbol[1:5],(pr5$Regulation_v2[1:5]))\n",
    "pr5_genes_5 = pr5_genes_5L %>%\n",
    "sort(.) %>%\n",
    "toString()\n",
    "\n",
    "pr5_genes_5"
   ]
  },
  {
   "cell_type": "code",
   "execution_count": 27,
   "id": "graduate-defensive",
   "metadata": {},
   "outputs": [
    {
     "data": {
      "text/html": [
       "'ITGB8 up, ACVRL1 up, CCL24 down, THBS1 down, SASH1 down, ADM down, HK2 up, IL1B up, JUP down, SERPINE1 mixed, CHI3L1 mixed, KLF4 down, CXCL8 up, CXCR4 up, NRP1 up, CTSH down, HSPB1 down, ITGAX down, RRAS down, SPHK1 up, CX3CR1 down, VEGFA down, ITGB2 down, GRN down, RAPGEF3 up'"
      ],
      "text/latex": [
       "'ITGB8 up, ACVRL1 up, CCL24 down, THBS1 down, SASH1 down, ADM down, HK2 up, IL1B up, JUP down, SERPINE1 mixed, CHI3L1 mixed, KLF4 down, CXCL8 up, CXCR4 up, NRP1 up, CTSH down, HSPB1 down, ITGAX down, RRAS down, SPHK1 up, CX3CR1 down, VEGFA down, ITGB2 down, GRN down, RAPGEF3 up'"
      ],
      "text/markdown": [
       "'ITGB8 up, ACVRL1 up, CCL24 down, THBS1 down, SASH1 down, ADM down, HK2 up, IL1B up, JUP down, SERPINE1 mixed, CHI3L1 mixed, KLF4 down, CXCL8 up, CXCR4 up, NRP1 up, CTSH down, HSPB1 down, ITGAX down, RRAS down, SPHK1 up, CX3CR1 down, VEGFA down, ITGB2 down, GRN down, RAPGEF3 up'"
      ],
      "text/plain": [
       "[1] \"ITGB8 up, ACVRL1 up, CCL24 down, THBS1 down, SASH1 down, ADM down, HK2 up, IL1B up, JUP down, SERPINE1 mixed, CHI3L1 mixed, KLF4 down, CXCL8 up, CXCR4 up, NRP1 up, CTSH down, HSPB1 down, ITGAX down, RRAS down, SPHK1 up, CX3CR1 down, VEGFA down, ITGB2 down, GRN down, RAPGEF3 up\""
      ]
     },
     "metadata": {},
     "output_type": "display_data"
    }
   ],
   "source": [
    "pr5_genes"
   ]
  },
  {
   "cell_type": "code",
   "execution_count": 28,
   "id": "happy-jenny",
   "metadata": {},
   "outputs": [],
   "source": [
    "pr1_genes_up = str_count (pr1_genes, pattern = \"up\")\n",
    "pr2_genes_up = str_count (pr2_genes, pattern = \"up\")\n",
    "pr3_genes_up = str_count (pr3_genes, pattern = \"up\")\n",
    "pr4_genes_up = str_count (pr4_genes, pattern = \"up\")\n",
    "pr5_genes_up = str_count (pr5_genes, pattern = \"up\")"
   ]
  },
  {
   "cell_type": "code",
   "execution_count": 29,
   "id": "laughing-knitting",
   "metadata": {},
   "outputs": [],
   "source": [
    "pr1_genes_down = str_count (pr1_genes, pattern = \"down\")\n",
    "pr2_genes_down =str_count (pr2_genes, pattern = \"down\")\n",
    "pr3_genes_down =str_count (pr3_genes, pattern = \"down\")\n",
    "pr4_genes_down =str_count (pr4_genes, pattern = \"down\")\n",
    "pr5_genes_down =str_count (pr5_genes, pattern = \"down\")"
   ]
  },
  {
   "cell_type": "code",
   "execution_count": 30,
   "id": "color-afghanistan",
   "metadata": {},
   "outputs": [],
   "source": [
    "pr1_genes_mixed = str_count (pr1_genes, pattern = \"mixed\")\n",
    "pr2_genes_mixed  = str_count (pr2_genes, pattern = \"mixed\")\n",
    "pr3_genes_mixed  = str_count (pr3_genes, pattern = \"mixed\")\n",
    "pr4_genes_mixed  = str_count (pr4_genes, pattern = \"mixed\")\n",
    "pr5_genes_mixed  = str_count (pr5_genes, pattern = \"mixed\")"
   ]
  },
  {
   "cell_type": "code",
   "execution_count": 31,
   "id": "chinese-quest",
   "metadata": {},
   "outputs": [
    {
     "data": {
      "text/html": [
       "'GO:0043312'"
      ],
      "text/latex": [
       "'GO:0043312'"
      ],
      "text/markdown": [
       "'GO:0043312'"
      ],
      "text/plain": [
       "[1] \"GO:0043312\""
      ]
     },
     "metadata": {},
     "output_type": "display_data"
    },
    {
     "data": {
      "text/html": [
       "'GO:0006954'"
      ],
      "text/latex": [
       "'GO:0006954'"
      ],
      "text/markdown": [
       "'GO:0006954'"
      ],
      "text/plain": [
       "[1] \"GO:0006954\""
      ]
     },
     "metadata": {},
     "output_type": "display_data"
    },
    {
     "data": {
      "text/html": [
       "'GO:0030198'"
      ],
      "text/latex": [
       "'GO:0030198'"
      ],
      "text/markdown": [
       "'GO:0030198'"
      ],
      "text/plain": [
       "[1] \"GO:0030198\""
      ]
     },
     "metadata": {},
     "output_type": "display_data"
    },
    {
     "data": {
      "text/html": [
       "'GO:0019221'"
      ],
      "text/latex": [
       "'GO:0019221'"
      ],
      "text/markdown": [
       "'GO:0019221'"
      ],
      "text/plain": [
       "[1] \"GO:0019221\""
      ]
     },
     "metadata": {},
     "output_type": "display_data"
    },
    {
     "data": {
      "text/html": [
       "'GO:0045766'"
      ],
      "text/latex": [
       "'GO:0045766'"
      ],
      "text/markdown": [
       "'GO:0045766'"
      ],
      "text/plain": [
       "[1] \"GO:0045766\""
      ]
     },
     "metadata": {},
     "output_type": "display_data"
    }
   ],
   "source": [
    "go_table[1,1]\n",
    "go_table[2,1]\n",
    "go_table[3,1]\n",
    "go_table[4,1]\n",
    "go_table[5,1]"
   ]
  },
  {
   "cell_type": "code",
   "execution_count": 32,
   "id": "sustained-humanitarian",
   "metadata": {},
   "outputs": [],
   "source": [
    "gofinal_ALL = go_tableSave %>%\n",
    "mutate(.,\n",
    "       genes_selection = case_when(\n",
    "         GO.ID == \"GO:0043312\" ~ paste0(pr1_genes_5),\n",
    "         GO.ID == \"GO:0006954\" ~ paste0(pr2_genes_5),\n",
    "         GO.ID == \"GO:0030198\" ~ paste0(pr3_genes_5),\n",
    "         GO.ID == \"GO:0019221\" ~ paste0(pr4_genes_5),\n",
    "         GO.ID == \"GO:0045766\" ~ paste0(pr5_genes_5)))\n",
    "     #  TRUE ~ NA))\n",
    "\n",
    "gofinal_ALL = gofinal_ALL %>%\n",
    "mutate(.,\n",
    "       genes_all = case_when(\n",
    "         GO.ID == \"GO:0043312\" ~ paste0(pr1_genes),\n",
    "         GO.ID == \"GO:0006954\" ~ paste0(pr2_genes),\n",
    "         GO.ID == \"GO:0030198\" ~ paste0(pr3_genes),\n",
    "         GO.ID == \"GO:0019221\" ~ paste0(pr4_genes),\n",
    "         GO.ID == \"GO:0045766\" ~ paste0(pr5_genes)))\n",
    "\n",
    "\n",
    "gofinal_ALL = gofinal_ALL %>%\n",
    "mutate(.,\n",
    "       genes_up = case_when(\n",
    "         GO.ID == \"GO:0043312\" ~ paste0(pr1_genes_up),\n",
    "         GO.ID == \"GO:0006954\" ~ paste0(pr2_genes_up),\n",
    "         GO.ID == \"GO:0030198\" ~ paste0(pr3_genes_up),\n",
    "         GO.ID == \"GO:0019221\" ~ paste0(pr4_genes_up),\n",
    "         GO.ID == \"GO:0045766\" ~ paste0(pr5_genes_up)))\n",
    "\n",
    "gofinal_ALL = gofinal_ALL %>%\n",
    "mutate(.,\n",
    "       genes_down = case_when(\n",
    "         GO.ID == \"GO:0043312\" ~ paste0(pr1_genes_down),\n",
    "         GO.ID == \"GO:0006954\" ~ paste0(pr2_genes_down),\n",
    "         GO.ID == \"GO:0030198\" ~ paste0(pr3_genes_down),\n",
    "         GO.ID == \"GO:0019221\" ~ paste0(pr4_genes_down),\n",
    "         GO.ID == \"GO:0045766\" ~ paste0(pr5_genes_down)))\n",
    "\n",
    "gofinal_ALL = gofinal_ALL %>%\n",
    "mutate(.,\n",
    "       genes_mixed = case_when(\n",
    "         GO.ID == \"GO:0043312\" ~ paste0(pr1_genes_mixed),\n",
    "         GO.ID == \"GO:0006954\" ~ paste0(pr2_genes_mixed),\n",
    "         GO.ID == \"GO:0030198\" ~ paste0(pr3_genes_mixed),\n",
    "         GO.ID == \"GO:0019221\" ~ paste0(pr4_genes_mixed),\n",
    "         GO.ID == \"GO:0045766\" ~ paste0(pr5_genes_mixed)))"
   ]
  },
  {
   "cell_type": "code",
   "execution_count": 33,
   "id": "continuing-american",
   "metadata": {},
   "outputs": [
    {
     "data": {
      "text/html": [
       "<table class=\"dataframe\">\n",
       "<caption>A data.frame: 6 × 11</caption>\n",
       "<thead>\n",
       "\t<tr><th></th><th scope=col>GO.ID</th><th scope=col>Term</th><th scope=col>Annotated</th><th scope=col>Significant</th><th scope=col>Expected</th><th scope=col>weightFisher</th><th scope=col>genes_selection</th><th scope=col>genes_all</th><th scope=col>genes_up</th><th scope=col>genes_down</th><th scope=col>genes_mixed</th></tr>\n",
       "\t<tr><th></th><th scope=col>&lt;chr&gt;</th><th scope=col>&lt;chr&gt;</th><th scope=col>&lt;int&gt;</th><th scope=col>&lt;int&gt;</th><th scope=col>&lt;dbl&gt;</th><th scope=col>&lt;chr&gt;</th><th scope=col>&lt;chr&gt;</th><th scope=col>&lt;chr&gt;</th><th scope=col>&lt;chr&gt;</th><th scope=col>&lt;chr&gt;</th><th scope=col>&lt;chr&gt;</th></tr>\n",
       "</thead>\n",
       "<tbody>\n",
       "\t<tr><th scope=row>1</th><td>GO:0043312</td><td>neutrophil degranulation           </td><td>425</td><td>72</td><td>23.74</td><td>8.2e-18</td><td>CAMP mixed, CRISPLD2 up, FCN1 down, MMP9 down, SLC11A1 up</td><td>CAMP mixed, CRISPLD2 up, SLC11A1 up, FCN1 down, MMP9 down, OLR1 up, FPR1 down, CD93 up, FPR2 down, CDA up, ALOX5 up, TRPM2 down, S100A9 down, CD14 up, CXCL1 up, CFP down, CLEC12A up, PTX3 down, S100A12 down, JUP down, GSN down, SIGLEC14 down, CHI3L1 mixed, ANPEP down, MNDA mixed, MGST1 mixed, LILRB2 down, FUCA1 up, CD36 down, ADGRE3 down, ADGRG3 up, ITGAM up, ATP8B4 down, CST3 down, PRKCD down, QPCT up, FGL2 down, PTAFR down, PPBP up, PADI2 down, MMP25 down, IMPDH1 down, HPSE up, GLA down, TYROBP down, CD300A down, ACP3 down, CTSH down, CLEC5A mixed, HSPA1A down, ATG7 down, HSPA1B down, CYFIP1 down, ITGAX down, RAB31 down, ANXA2 down, S100A8 down, PLD1 up, MAN2B1 down, PLAUR up, FCAR up, FTH1 down, CXCR1 down, ATP6V0A1 down, PRAM1 down, LILRB3 down, ALDH3B1 down, ITGB2 down, SIRPB1 down, GAA down, GRN down, NFAM1 down                                                                                                                                                                                                                                                                            </td><td>18</td><td>49</td><td>5 </td></tr>\n",
       "\t<tr><th scope=row>2</th><td>GO:0006954</td><td>inflammatory response              </td><td>506</td><td>96</td><td>28.27</td><td>2.7e-14</td><td>CXCL10 down, CXCL9 down, FN1 up, OSM up, SLC11A1 up      </td><td>CXCL9 down, FN1 up, CXCL10 down, OSM up, SLC11A1 up, CCL24 down, TREM1 up, CXCL5 up, CASP5 down, STAB1 down, THBS1 down, MMP9 down, OLR1 up, LPL up, FPR1 down, FFAR2 up, TNFRSF4 down, FPR2 down, ALOX5 up, PTGIR down, PLA2G4C down, ADORA3 down, SLAMF8 down, CSF1 up, SIGLEC1 down, MEFV down, ADM down, TPST1 up, S100A9 down, BMP6 up, IL1B up, CD14 up, CXCL1 up, IL18 down, FPR3 down, PTX3 down, SPP1 mixed, S100A12 down, ADA down, LILRA5 down, NOD2 up, TLR8 down, HLA-DRB1 down, MAPK13 up, TGM2 up, PLA2G7 down, SERPINE1 mixed, CHI3L1 mixed, IL1RN up, THEMIS2 up, NCR3 mixed, CCL22 up, CD36 down, IL1R2 mixed, CNR1 up, LOXL3 down, TIMP1 down, ITGAM up, KLF4 down, LRP1 up, PRKCD down, SERPINF1 down, NLRP12 mixed, PTAFR down, PPBP up, CCR2 down, MMP25 down, DAGLA down, CXCL8 up, CXCR4 up, AIF1 down, NLRP3 mixed, LACC1 down, CEBPB up, TLR7 down, IFNGR1 down, TYROBP down, CD163 down, CEBPA down, CCRL2 mixed, CIITA down, LDLR down, PTGS1 down, S100A8 down, ADGRE2 down, HCK down, C5AR2 mixed, ICAM1 down, P2RX7 down, IL17RC down, SPHK1 up, CSF1R down, FCGR2B down, ITGB2 down, GRN down, NFAM1 down</td><td>29</td><td>58</td><td>9 </td></tr>\n",
       "\t<tr><th scope=row>3</th><td>GO:0030198</td><td>extracellular matrix organization  </td><td>206</td><td>47</td><td>11.51</td><td>1.6e-10</td><td>CRISPLD2 up, FN1 up, ITGA11 down, ITGB8 up, PDPN up      </td><td>FN1 up, ITGA11 down, ITGB8 up, CRISPLD2 up, PDPN up, NID1 down, HTRA1 up, THBS1 down, LAMB3 up, FSCN1 down, MMP9 down, COL7A1 up, TGFBI down, AGRN down, PTX3 down, SPP1 mixed, CTSL up, PAPLN up, SERPINE1 mixed, MYO1E down, LAMC1 up, RGCC up, SULF2 up, DPP4 up, LOXL3 down, TIMP1 down, ITGAM up, LRP1 up, MELTF mixed, CST3 down, LAMB2 mixed, MMP25 down, MMP19 up, TMEM38B up, FBN2 down, ITGAE up, PHLDB1 down, ITGAX down, ADAMTSL4 down, ITGB5 down, ANXA2 down, MMP14 down, SLC39A8 up, ICAM1 down, SH3PXD2B up, VCAN up, ITGB2 down                                                                                                                                                                                                                                                                                                                                                                                                                                                                                                                                                                                         </td><td>21</td><td>22</td><td>4 </td></tr>\n",
       "\t<tr><th scope=row>4</th><td>GO:0019221</td><td>cytokine-mediated signaling pathway</td><td>598</td><td>85</td><td>33.41</td><td>2.8e-10</td><td>CCL24 down, CXCL10 down, CXCL9 down, FN1 up, OSM up      </td><td>CXCL9 down, FN1 up, CXCL10 down, OSM up, CCL24 down, CXCL5 up, FSCN1 down, MMP9 down, FPR1 down, TNFRSF4 down, ALOX5 up, CSF1 up, RHOU down, IL1B up, CXCL1 up, CRLF2 down, IL18 down, IL18BP down, CD300LF up, SERPINB2 up, NOD2 up, HLA-DRB1 down, IL13RA1 down, HLA-DRB5 down, HLA-DRA down, TNFSF15 mixed, TEC down, GPR35 down, EREG mixed, IL1RN up, CCL22 up, F13A1 down, CSF2RA down, CD36 down, CD4 down, IL1R2 mixed, TIMP1 down, ITGAM up, ACSL1 up, PRKCD down, HLA-DQB2 down, PTAFR down, PPBP up, PADI2 down, STAT1 down, CCR2 down, FCGR1A down, CXCL8 up, TNFRSF18 down, CXCR4 up, BCL2 up, IFNGR1 down, CEBPA down, HLA-DPA1 down, TNFRSF8 down, CCRL2 mixed, CD74 down, HSPA1A down, HLA-DQA1 down, CIITA down, IRF5 up, HSPA1B down, CSF2RB down, ITGAX down, CDKN1A down, HLA-DPB1 down, LTBR down, ANXA2 down, TNFSF13 down, HCK down, ICAM1 down, CSF3R up, HLA-DQB1 down, CXCR1 down, TALDO1 down, GBP1 down, IL9R up, IL17RC down, SPHK1 up, CSF1R down, IFITM3 down, SPI1 down, CX3CR1 down, VEGFA down, ITGB2 down                                                                                             </td><td>22</td><td>59</td><td>4 </td></tr>\n",
       "\t<tr><th scope=row>5</th><td>GO:0045766</td><td>positive regulation of angiogenesis</td><td>107</td><td>25</td><td> 5.98</td><td>5.0e-10</td><td>ACVRL1 up, CCL24 down, ITGB8 up, SASH1 down, THBS1 down  </td><td>ITGB8 up, ACVRL1 up, CCL24 down, THBS1 down, SASH1 down, ADM down, HK2 up, IL1B up, JUP down, SERPINE1 mixed, CHI3L1 mixed, KLF4 down, CXCL8 up, CXCR4 up, NRP1 up, CTSH down, HSPB1 down, ITGAX down, RRAS down, SPHK1 up, CX3CR1 down, VEGFA down, ITGB2 down, GRN down, RAPGEF3 up                                                                                                                                                                                                                                                                                                                                                                                                                                                                                                                                                                                                                                                                                                                                                                                                                                                    </td><td>9 </td><td>14</td><td>2 </td></tr>\n",
       "\t<tr><th scope=row>6</th><td>GO:0002250</td><td>adaptive immune response           </td><td>337</td><td>55</td><td>18.83</td><td>5.0e-09</td><td>NA                                                       </td><td>NA                                                                                                                                                                                                                                                                                                                                                                                                                                                                                                                                                                                                                                                                                                                                                                                                                                                                                                                                                                                                                                                                                                                                       </td><td>NA</td><td>NA</td><td>NA</td></tr>\n",
       "</tbody>\n",
       "</table>\n"
      ],
      "text/latex": [
       "A data.frame: 6 × 11\n",
       "\\begin{tabular}{r|lllllllllll}\n",
       "  & GO.ID & Term & Annotated & Significant & Expected & weightFisher & genes\\_selection & genes\\_all & genes\\_up & genes\\_down & genes\\_mixed\\\\\n",
       "  & <chr> & <chr> & <int> & <int> & <dbl> & <chr> & <chr> & <chr> & <chr> & <chr> & <chr>\\\\\n",
       "\\hline\n",
       "\t1 & GO:0043312 & neutrophil degranulation            & 425 & 72 & 23.74 & 8.2e-18 & CAMP mixed, CRISPLD2 up, FCN1 down, MMP9 down, SLC11A1 up & CAMP mixed, CRISPLD2 up, SLC11A1 up, FCN1 down, MMP9 down, OLR1 up, FPR1 down, CD93 up, FPR2 down, CDA up, ALOX5 up, TRPM2 down, S100A9 down, CD14 up, CXCL1 up, CFP down, CLEC12A up, PTX3 down, S100A12 down, JUP down, GSN down, SIGLEC14 down, CHI3L1 mixed, ANPEP down, MNDA mixed, MGST1 mixed, LILRB2 down, FUCA1 up, CD36 down, ADGRE3 down, ADGRG3 up, ITGAM up, ATP8B4 down, CST3 down, PRKCD down, QPCT up, FGL2 down, PTAFR down, PPBP up, PADI2 down, MMP25 down, IMPDH1 down, HPSE up, GLA down, TYROBP down, CD300A down, ACP3 down, CTSH down, CLEC5A mixed, HSPA1A down, ATG7 down, HSPA1B down, CYFIP1 down, ITGAX down, RAB31 down, ANXA2 down, S100A8 down, PLD1 up, MAN2B1 down, PLAUR up, FCAR up, FTH1 down, CXCR1 down, ATP6V0A1 down, PRAM1 down, LILRB3 down, ALDH3B1 down, ITGB2 down, SIRPB1 down, GAA down, GRN down, NFAM1 down                                                                                                                                                                                                                                                                             & 18 & 49 & 5 \\\\\n",
       "\t2 & GO:0006954 & inflammatory response               & 506 & 96 & 28.27 & 2.7e-14 & CXCL10 down, CXCL9 down, FN1 up, OSM up, SLC11A1 up       & CXCL9 down, FN1 up, CXCL10 down, OSM up, SLC11A1 up, CCL24 down, TREM1 up, CXCL5 up, CASP5 down, STAB1 down, THBS1 down, MMP9 down, OLR1 up, LPL up, FPR1 down, FFAR2 up, TNFRSF4 down, FPR2 down, ALOX5 up, PTGIR down, PLA2G4C down, ADORA3 down, SLAMF8 down, CSF1 up, SIGLEC1 down, MEFV down, ADM down, TPST1 up, S100A9 down, BMP6 up, IL1B up, CD14 up, CXCL1 up, IL18 down, FPR3 down, PTX3 down, SPP1 mixed, S100A12 down, ADA down, LILRA5 down, NOD2 up, TLR8 down, HLA-DRB1 down, MAPK13 up, TGM2 up, PLA2G7 down, SERPINE1 mixed, CHI3L1 mixed, IL1RN up, THEMIS2 up, NCR3 mixed, CCL22 up, CD36 down, IL1R2 mixed, CNR1 up, LOXL3 down, TIMP1 down, ITGAM up, KLF4 down, LRP1 up, PRKCD down, SERPINF1 down, NLRP12 mixed, PTAFR down, PPBP up, CCR2 down, MMP25 down, DAGLA down, CXCL8 up, CXCR4 up, AIF1 down, NLRP3 mixed, LACC1 down, CEBPB up, TLR7 down, IFNGR1 down, TYROBP down, CD163 down, CEBPA down, CCRL2 mixed, CIITA down, LDLR down, PTGS1 down, S100A8 down, ADGRE2 down, HCK down, C5AR2 mixed, ICAM1 down, P2RX7 down, IL17RC down, SPHK1 up, CSF1R down, FCGR2B down, ITGB2 down, GRN down, NFAM1 down & 29 & 58 & 9 \\\\\n",
       "\t3 & GO:0030198 & extracellular matrix organization   & 206 & 47 & 11.51 & 1.6e-10 & CRISPLD2 up, FN1 up, ITGA11 down, ITGB8 up, PDPN up       & FN1 up, ITGA11 down, ITGB8 up, CRISPLD2 up, PDPN up, NID1 down, HTRA1 up, THBS1 down, LAMB3 up, FSCN1 down, MMP9 down, COL7A1 up, TGFBI down, AGRN down, PTX3 down, SPP1 mixed, CTSL up, PAPLN up, SERPINE1 mixed, MYO1E down, LAMC1 up, RGCC up, SULF2 up, DPP4 up, LOXL3 down, TIMP1 down, ITGAM up, LRP1 up, MELTF mixed, CST3 down, LAMB2 mixed, MMP25 down, MMP19 up, TMEM38B up, FBN2 down, ITGAE up, PHLDB1 down, ITGAX down, ADAMTSL4 down, ITGB5 down, ANXA2 down, MMP14 down, SLC39A8 up, ICAM1 down, SH3PXD2B up, VCAN up, ITGB2 down                                                                                                                                                                                                                                                                                                                                                                                                                                                                                                                                                                                          & 21 & 22 & 4 \\\\\n",
       "\t4 & GO:0019221 & cytokine-mediated signaling pathway & 598 & 85 & 33.41 & 2.8e-10 & CCL24 down, CXCL10 down, CXCL9 down, FN1 up, OSM up       & CXCL9 down, FN1 up, CXCL10 down, OSM up, CCL24 down, CXCL5 up, FSCN1 down, MMP9 down, FPR1 down, TNFRSF4 down, ALOX5 up, CSF1 up, RHOU down, IL1B up, CXCL1 up, CRLF2 down, IL18 down, IL18BP down, CD300LF up, SERPINB2 up, NOD2 up, HLA-DRB1 down, IL13RA1 down, HLA-DRB5 down, HLA-DRA down, TNFSF15 mixed, TEC down, GPR35 down, EREG mixed, IL1RN up, CCL22 up, F13A1 down, CSF2RA down, CD36 down, CD4 down, IL1R2 mixed, TIMP1 down, ITGAM up, ACSL1 up, PRKCD down, HLA-DQB2 down, PTAFR down, PPBP up, PADI2 down, STAT1 down, CCR2 down, FCGR1A down, CXCL8 up, TNFRSF18 down, CXCR4 up, BCL2 up, IFNGR1 down, CEBPA down, HLA-DPA1 down, TNFRSF8 down, CCRL2 mixed, CD74 down, HSPA1A down, HLA-DQA1 down, CIITA down, IRF5 up, HSPA1B down, CSF2RB down, ITGAX down, CDKN1A down, HLA-DPB1 down, LTBR down, ANXA2 down, TNFSF13 down, HCK down, ICAM1 down, CSF3R up, HLA-DQB1 down, CXCR1 down, TALDO1 down, GBP1 down, IL9R up, IL17RC down, SPHK1 up, CSF1R down, IFITM3 down, SPI1 down, CX3CR1 down, VEGFA down, ITGB2 down                                                                                              & 22 & 59 & 4 \\\\\n",
       "\t5 & GO:0045766 & positive regulation of angiogenesis & 107 & 25 &  5.98 & 5.0e-10 & ACVRL1 up, CCL24 down, ITGB8 up, SASH1 down, THBS1 down   & ITGB8 up, ACVRL1 up, CCL24 down, THBS1 down, SASH1 down, ADM down, HK2 up, IL1B up, JUP down, SERPINE1 mixed, CHI3L1 mixed, KLF4 down, CXCL8 up, CXCR4 up, NRP1 up, CTSH down, HSPB1 down, ITGAX down, RRAS down, SPHK1 up, CX3CR1 down, VEGFA down, ITGB2 down, GRN down, RAPGEF3 up                                                                                                                                                                                                                                                                                                                                                                                                                                                                                                                                                                                                                                                                                                                                                                                                                                                     & 9  & 14 & 2 \\\\\n",
       "\t6 & GO:0002250 & adaptive immune response            & 337 & 55 & 18.83 & 5.0e-09 & NA                                                        & NA                                                                                                                                                                                                                                                                                                                                                                                                                                                                                                                                                                                                                                                                                                                                                                                                                                                                                                                                                                                                                                                                                                                                        & NA & NA & NA\\\\\n",
       "\\end{tabular}\n"
      ],
      "text/markdown": [
       "\n",
       "A data.frame: 6 × 11\n",
       "\n",
       "| <!--/--> | GO.ID &lt;chr&gt; | Term &lt;chr&gt; | Annotated &lt;int&gt; | Significant &lt;int&gt; | Expected &lt;dbl&gt; | weightFisher &lt;chr&gt; | genes_selection &lt;chr&gt; | genes_all &lt;chr&gt; | genes_up &lt;chr&gt; | genes_down &lt;chr&gt; | genes_mixed &lt;chr&gt; |\n",
       "|---|---|---|---|---|---|---|---|---|---|---|---|\n",
       "| 1 | GO:0043312 | neutrophil degranulation            | 425 | 72 | 23.74 | 8.2e-18 | CAMP mixed, CRISPLD2 up, FCN1 down, MMP9 down, SLC11A1 up | CAMP mixed, CRISPLD2 up, SLC11A1 up, FCN1 down, MMP9 down, OLR1 up, FPR1 down, CD93 up, FPR2 down, CDA up, ALOX5 up, TRPM2 down, S100A9 down, CD14 up, CXCL1 up, CFP down, CLEC12A up, PTX3 down, S100A12 down, JUP down, GSN down, SIGLEC14 down, CHI3L1 mixed, ANPEP down, MNDA mixed, MGST1 mixed, LILRB2 down, FUCA1 up, CD36 down, ADGRE3 down, ADGRG3 up, ITGAM up, ATP8B4 down, CST3 down, PRKCD down, QPCT up, FGL2 down, PTAFR down, PPBP up, PADI2 down, MMP25 down, IMPDH1 down, HPSE up, GLA down, TYROBP down, CD300A down, ACP3 down, CTSH down, CLEC5A mixed, HSPA1A down, ATG7 down, HSPA1B down, CYFIP1 down, ITGAX down, RAB31 down, ANXA2 down, S100A8 down, PLD1 up, MAN2B1 down, PLAUR up, FCAR up, FTH1 down, CXCR1 down, ATP6V0A1 down, PRAM1 down, LILRB3 down, ALDH3B1 down, ITGB2 down, SIRPB1 down, GAA down, GRN down, NFAM1 down                                                                                                                                                                                                                                                                             | 18 | 49 | 5  |\n",
       "| 2 | GO:0006954 | inflammatory response               | 506 | 96 | 28.27 | 2.7e-14 | CXCL10 down, CXCL9 down, FN1 up, OSM up, SLC11A1 up       | CXCL9 down, FN1 up, CXCL10 down, OSM up, SLC11A1 up, CCL24 down, TREM1 up, CXCL5 up, CASP5 down, STAB1 down, THBS1 down, MMP9 down, OLR1 up, LPL up, FPR1 down, FFAR2 up, TNFRSF4 down, FPR2 down, ALOX5 up, PTGIR down, PLA2G4C down, ADORA3 down, SLAMF8 down, CSF1 up, SIGLEC1 down, MEFV down, ADM down, TPST1 up, S100A9 down, BMP6 up, IL1B up, CD14 up, CXCL1 up, IL18 down, FPR3 down, PTX3 down, SPP1 mixed, S100A12 down, ADA down, LILRA5 down, NOD2 up, TLR8 down, HLA-DRB1 down, MAPK13 up, TGM2 up, PLA2G7 down, SERPINE1 mixed, CHI3L1 mixed, IL1RN up, THEMIS2 up, NCR3 mixed, CCL22 up, CD36 down, IL1R2 mixed, CNR1 up, LOXL3 down, TIMP1 down, ITGAM up, KLF4 down, LRP1 up, PRKCD down, SERPINF1 down, NLRP12 mixed, PTAFR down, PPBP up, CCR2 down, MMP25 down, DAGLA down, CXCL8 up, CXCR4 up, AIF1 down, NLRP3 mixed, LACC1 down, CEBPB up, TLR7 down, IFNGR1 down, TYROBP down, CD163 down, CEBPA down, CCRL2 mixed, CIITA down, LDLR down, PTGS1 down, S100A8 down, ADGRE2 down, HCK down, C5AR2 mixed, ICAM1 down, P2RX7 down, IL17RC down, SPHK1 up, CSF1R down, FCGR2B down, ITGB2 down, GRN down, NFAM1 down | 29 | 58 | 9  |\n",
       "| 3 | GO:0030198 | extracellular matrix organization   | 206 | 47 | 11.51 | 1.6e-10 | CRISPLD2 up, FN1 up, ITGA11 down, ITGB8 up, PDPN up       | FN1 up, ITGA11 down, ITGB8 up, CRISPLD2 up, PDPN up, NID1 down, HTRA1 up, THBS1 down, LAMB3 up, FSCN1 down, MMP9 down, COL7A1 up, TGFBI down, AGRN down, PTX3 down, SPP1 mixed, CTSL up, PAPLN up, SERPINE1 mixed, MYO1E down, LAMC1 up, RGCC up, SULF2 up, DPP4 up, LOXL3 down, TIMP1 down, ITGAM up, LRP1 up, MELTF mixed, CST3 down, LAMB2 mixed, MMP25 down, MMP19 up, TMEM38B up, FBN2 down, ITGAE up, PHLDB1 down, ITGAX down, ADAMTSL4 down, ITGB5 down, ANXA2 down, MMP14 down, SLC39A8 up, ICAM1 down, SH3PXD2B up, VCAN up, ITGB2 down                                                                                                                                                                                                                                                                                                                                                                                                                                                                                                                                                                                          | 21 | 22 | 4  |\n",
       "| 4 | GO:0019221 | cytokine-mediated signaling pathway | 598 | 85 | 33.41 | 2.8e-10 | CCL24 down, CXCL10 down, CXCL9 down, FN1 up, OSM up       | CXCL9 down, FN1 up, CXCL10 down, OSM up, CCL24 down, CXCL5 up, FSCN1 down, MMP9 down, FPR1 down, TNFRSF4 down, ALOX5 up, CSF1 up, RHOU down, IL1B up, CXCL1 up, CRLF2 down, IL18 down, IL18BP down, CD300LF up, SERPINB2 up, NOD2 up, HLA-DRB1 down, IL13RA1 down, HLA-DRB5 down, HLA-DRA down, TNFSF15 mixed, TEC down, GPR35 down, EREG mixed, IL1RN up, CCL22 up, F13A1 down, CSF2RA down, CD36 down, CD4 down, IL1R2 mixed, TIMP1 down, ITGAM up, ACSL1 up, PRKCD down, HLA-DQB2 down, PTAFR down, PPBP up, PADI2 down, STAT1 down, CCR2 down, FCGR1A down, CXCL8 up, TNFRSF18 down, CXCR4 up, BCL2 up, IFNGR1 down, CEBPA down, HLA-DPA1 down, TNFRSF8 down, CCRL2 mixed, CD74 down, HSPA1A down, HLA-DQA1 down, CIITA down, IRF5 up, HSPA1B down, CSF2RB down, ITGAX down, CDKN1A down, HLA-DPB1 down, LTBR down, ANXA2 down, TNFSF13 down, HCK down, ICAM1 down, CSF3R up, HLA-DQB1 down, CXCR1 down, TALDO1 down, GBP1 down, IL9R up, IL17RC down, SPHK1 up, CSF1R down, IFITM3 down, SPI1 down, CX3CR1 down, VEGFA down, ITGB2 down                                                                                              | 22 | 59 | 4  |\n",
       "| 5 | GO:0045766 | positive regulation of angiogenesis | 107 | 25 |  5.98 | 5.0e-10 | ACVRL1 up, CCL24 down, ITGB8 up, SASH1 down, THBS1 down   | ITGB8 up, ACVRL1 up, CCL24 down, THBS1 down, SASH1 down, ADM down, HK2 up, IL1B up, JUP down, SERPINE1 mixed, CHI3L1 mixed, KLF4 down, CXCL8 up, CXCR4 up, NRP1 up, CTSH down, HSPB1 down, ITGAX down, RRAS down, SPHK1 up, CX3CR1 down, VEGFA down, ITGB2 down, GRN down, RAPGEF3 up                                                                                                                                                                                                                                                                                                                                                                                                                                                                                                                                                                                                                                                                                                                                                                                                                                                     | 9  | 14 | 2  |\n",
       "| 6 | GO:0002250 | adaptive immune response            | 337 | 55 | 18.83 | 5.0e-09 | NA                                                        | NA                                                                                                                                                                                                                                                                                                                                                                                                                                                                                                                                                                                                                                                                                                                                                                                                                                                                                                                                                                                                                                                                                                                                        | NA | NA | NA |\n",
       "\n"
      ],
      "text/plain": [
       "  GO.ID      Term                                Annotated Significant Expected\n",
       "1 GO:0043312 neutrophil degranulation            425       72          23.74   \n",
       "2 GO:0006954 inflammatory response               506       96          28.27   \n",
       "3 GO:0030198 extracellular matrix organization   206       47          11.51   \n",
       "4 GO:0019221 cytokine-mediated signaling pathway 598       85          33.41   \n",
       "5 GO:0045766 positive regulation of angiogenesis 107       25           5.98   \n",
       "6 GO:0002250 adaptive immune response            337       55          18.83   \n",
       "  weightFisher genes_selection                                          \n",
       "1 8.2e-18      CAMP mixed, CRISPLD2 up, FCN1 down, MMP9 down, SLC11A1 up\n",
       "2 2.7e-14      CXCL10 down, CXCL9 down, FN1 up, OSM up, SLC11A1 up      \n",
       "3 1.6e-10      CRISPLD2 up, FN1 up, ITGA11 down, ITGB8 up, PDPN up      \n",
       "4 2.8e-10      CCL24 down, CXCL10 down, CXCL9 down, FN1 up, OSM up      \n",
       "5 5.0e-10      ACVRL1 up, CCL24 down, ITGB8 up, SASH1 down, THBS1 down  \n",
       "6 5.0e-09      NA                                                       \n",
       "  genes_all                                                                                                                                                                                                                                                                                                                                                                                                                                                                                                                                                                                                                                                                                                                                                                                                                                                                                                                                                                                                                                                                                                                                \n",
       "1 CAMP mixed, CRISPLD2 up, SLC11A1 up, FCN1 down, MMP9 down, OLR1 up, FPR1 down, CD93 up, FPR2 down, CDA up, ALOX5 up, TRPM2 down, S100A9 down, CD14 up, CXCL1 up, CFP down, CLEC12A up, PTX3 down, S100A12 down, JUP down, GSN down, SIGLEC14 down, CHI3L1 mixed, ANPEP down, MNDA mixed, MGST1 mixed, LILRB2 down, FUCA1 up, CD36 down, ADGRE3 down, ADGRG3 up, ITGAM up, ATP8B4 down, CST3 down, PRKCD down, QPCT up, FGL2 down, PTAFR down, PPBP up, PADI2 down, MMP25 down, IMPDH1 down, HPSE up, GLA down, TYROBP down, CD300A down, ACP3 down, CTSH down, CLEC5A mixed, HSPA1A down, ATG7 down, HSPA1B down, CYFIP1 down, ITGAX down, RAB31 down, ANXA2 down, S100A8 down, PLD1 up, MAN2B1 down, PLAUR up, FCAR up, FTH1 down, CXCR1 down, ATP6V0A1 down, PRAM1 down, LILRB3 down, ALDH3B1 down, ITGB2 down, SIRPB1 down, GAA down, GRN down, NFAM1 down                                                                                                                                                                                                                                                                            \n",
       "2 CXCL9 down, FN1 up, CXCL10 down, OSM up, SLC11A1 up, CCL24 down, TREM1 up, CXCL5 up, CASP5 down, STAB1 down, THBS1 down, MMP9 down, OLR1 up, LPL up, FPR1 down, FFAR2 up, TNFRSF4 down, FPR2 down, ALOX5 up, PTGIR down, PLA2G4C down, ADORA3 down, SLAMF8 down, CSF1 up, SIGLEC1 down, MEFV down, ADM down, TPST1 up, S100A9 down, BMP6 up, IL1B up, CD14 up, CXCL1 up, IL18 down, FPR3 down, PTX3 down, SPP1 mixed, S100A12 down, ADA down, LILRA5 down, NOD2 up, TLR8 down, HLA-DRB1 down, MAPK13 up, TGM2 up, PLA2G7 down, SERPINE1 mixed, CHI3L1 mixed, IL1RN up, THEMIS2 up, NCR3 mixed, CCL22 up, CD36 down, IL1R2 mixed, CNR1 up, LOXL3 down, TIMP1 down, ITGAM up, KLF4 down, LRP1 up, PRKCD down, SERPINF1 down, NLRP12 mixed, PTAFR down, PPBP up, CCR2 down, MMP25 down, DAGLA down, CXCL8 up, CXCR4 up, AIF1 down, NLRP3 mixed, LACC1 down, CEBPB up, TLR7 down, IFNGR1 down, TYROBP down, CD163 down, CEBPA down, CCRL2 mixed, CIITA down, LDLR down, PTGS1 down, S100A8 down, ADGRE2 down, HCK down, C5AR2 mixed, ICAM1 down, P2RX7 down, IL17RC down, SPHK1 up, CSF1R down, FCGR2B down, ITGB2 down, GRN down, NFAM1 down\n",
       "3 FN1 up, ITGA11 down, ITGB8 up, CRISPLD2 up, PDPN up, NID1 down, HTRA1 up, THBS1 down, LAMB3 up, FSCN1 down, MMP9 down, COL7A1 up, TGFBI down, AGRN down, PTX3 down, SPP1 mixed, CTSL up, PAPLN up, SERPINE1 mixed, MYO1E down, LAMC1 up, RGCC up, SULF2 up, DPP4 up, LOXL3 down, TIMP1 down, ITGAM up, LRP1 up, MELTF mixed, CST3 down, LAMB2 mixed, MMP25 down, MMP19 up, TMEM38B up, FBN2 down, ITGAE up, PHLDB1 down, ITGAX down, ADAMTSL4 down, ITGB5 down, ANXA2 down, MMP14 down, SLC39A8 up, ICAM1 down, SH3PXD2B up, VCAN up, ITGB2 down                                                                                                                                                                                                                                                                                                                                                                                                                                                                                                                                                                                         \n",
       "4 CXCL9 down, FN1 up, CXCL10 down, OSM up, CCL24 down, CXCL5 up, FSCN1 down, MMP9 down, FPR1 down, TNFRSF4 down, ALOX5 up, CSF1 up, RHOU down, IL1B up, CXCL1 up, CRLF2 down, IL18 down, IL18BP down, CD300LF up, SERPINB2 up, NOD2 up, HLA-DRB1 down, IL13RA1 down, HLA-DRB5 down, HLA-DRA down, TNFSF15 mixed, TEC down, GPR35 down, EREG mixed, IL1RN up, CCL22 up, F13A1 down, CSF2RA down, CD36 down, CD4 down, IL1R2 mixed, TIMP1 down, ITGAM up, ACSL1 up, PRKCD down, HLA-DQB2 down, PTAFR down, PPBP up, PADI2 down, STAT1 down, CCR2 down, FCGR1A down, CXCL8 up, TNFRSF18 down, CXCR4 up, BCL2 up, IFNGR1 down, CEBPA down, HLA-DPA1 down, TNFRSF8 down, CCRL2 mixed, CD74 down, HSPA1A down, HLA-DQA1 down, CIITA down, IRF5 up, HSPA1B down, CSF2RB down, ITGAX down, CDKN1A down, HLA-DPB1 down, LTBR down, ANXA2 down, TNFSF13 down, HCK down, ICAM1 down, CSF3R up, HLA-DQB1 down, CXCR1 down, TALDO1 down, GBP1 down, IL9R up, IL17RC down, SPHK1 up, CSF1R down, IFITM3 down, SPI1 down, CX3CR1 down, VEGFA down, ITGB2 down                                                                                             \n",
       "5 ITGB8 up, ACVRL1 up, CCL24 down, THBS1 down, SASH1 down, ADM down, HK2 up, IL1B up, JUP down, SERPINE1 mixed, CHI3L1 mixed, KLF4 down, CXCL8 up, CXCR4 up, NRP1 up, CTSH down, HSPB1 down, ITGAX down, RRAS down, SPHK1 up, CX3CR1 down, VEGFA down, ITGB2 down, GRN down, RAPGEF3 up                                                                                                                                                                                                                                                                                                                                                                                                                                                                                                                                                                                                                                                                                                                                                                                                                                                    \n",
       "6 NA                                                                                                                                                                                                                                                                                                                                                                                                                                                                                                                                                                                                                                                                                                                                                                                                                                                                                                                                                                                                                                                                                                                                       \n",
       "  genes_up genes_down genes_mixed\n",
       "1 18       49         5          \n",
       "2 29       58         9          \n",
       "3 21       22         4          \n",
       "4 22       59         4          \n",
       "5 9        14         2          \n",
       "6 NA       NA         NA         "
      ]
     },
     "metadata": {},
     "output_type": "display_data"
    }
   ],
   "source": [
    "head (gofinal_ALL)"
   ]
  },
  {
   "cell_type": "code",
   "execution_count": 34,
   "id": "disciplinary-seller",
   "metadata": {},
   "outputs": [
    {
     "name": "stderr",
     "output_type": "stream",
     "text": [
      "Warning message in stri_count_regex(string, pattern, opts_regex = opts(pattern)):\n",
      "\"argument is not an atomic vector; coercing\"\n"
     ]
    }
   ],
   "source": [
    "gofinal_ALL_test = gofinal_ALL %>%\n",
    "rowwise () %>%\n",
    "str_count (., pattern = \"up\")\n"
   ]
  },
  {
   "cell_type": "code",
   "execution_count": 35,
   "id": "forty-crystal",
   "metadata": {},
   "outputs": [],
   "source": [
    "write.xlsx (gofinal_ALL, \"./data/gofinal_ALL.xlsx\")"
   ]
  },
  {
   "cell_type": "code",
   "execution_count": 36,
   "id": "second-gazette",
   "metadata": {
    "tags": []
   },
   "outputs": [
    {
     "name": "stderr",
     "output_type": "stream",
     "text": [
      "Loading required package: grid\n",
      "\n",
      "\n",
      "Attaching package: 'grid'\n",
      "\n",
      "\n",
      "The following object is masked from 'package:topGO':\n",
      "\n",
      "    depth\n",
      "\n",
      "\n",
      "========================================\n",
      "ComplexHeatmap version 2.6.2\n",
      "Bioconductor page: http://bioconductor.org/packages/ComplexHeatmap/\n",
      "Github page: https://github.com/jokergoo/ComplexHeatmap\n",
      "Documentation: http://jokergoo.github.io/ComplexHeatmap-reference\n",
      "\n",
      "If you use it in published research, please cite:\n",
      "Gu, Z. Complex heatmaps reveal patterns and correlations in multidimensional \n",
      "  genomic data. Bioinformatics 2016.\n",
      "\n",
      "This message can be suppressed by:\n",
      "  suppressPackageStartupMessages(library(ComplexHeatmap))\n",
      "========================================\n",
      "! pheatmap() has been masked by ComplexHeatmap::pheatmap(). 90% of the arguments\n",
      "   in the original pheatmap() are identically supported in the new function. You \n",
      "   can still use the original function by explicitly calling pheatmap::pheatmap().\n",
      "\n",
      "\n",
      "\n",
      "Attaching package: 'ComplexHeatmap'\n",
      "\n",
      "\n",
      "The following object is masked from 'package:pheatmap':\n",
      "\n",
      "    pheatmap\n",
      "\n",
      "\n"
     ]
    },
    {
     "data": {
      "text/html": [
       "<style>\n",
       ".list-inline {list-style: none; margin:0; padding: 0}\n",
       ".list-inline>li {display: inline-block}\n",
       ".list-inline>li:not(:last-child)::after {content: \"\\00b7\"; padding: 0 .5ex}\n",
       "</style>\n",
       "<ol class=list-inline><li>'11111'</li><li>'11110'</li><li>'11101'</li><li>'11011'</li><li>'10111'</li><li>'01111'</li><li>'11100'</li><li>'11010'</li><li>'11001'</li><li>'10110'</li><li>'10101'</li><li>'10011'</li><li>'01110'</li><li>'01101'</li><li>'01011'</li><li>'00111'</li><li>'11000'</li><li>'10100'</li><li>'10010'</li><li>'10001'</li><li>'01100'</li><li>'01010'</li><li>'01001'</li><li>'00110'</li><li>'00101'</li><li>'00011'</li><li>'10000'</li><li>'01000'</li><li>'00100'</li><li>'00010'</li><li>'00001'</li></ol>\n"
      ],
      "text/latex": [
       "\\begin{enumerate*}\n",
       "\\item '11111'\n",
       "\\item '11110'\n",
       "\\item '11101'\n",
       "\\item '11011'\n",
       "\\item '10111'\n",
       "\\item '01111'\n",
       "\\item '11100'\n",
       "\\item '11010'\n",
       "\\item '11001'\n",
       "\\item '10110'\n",
       "\\item '10101'\n",
       "\\item '10011'\n",
       "\\item '01110'\n",
       "\\item '01101'\n",
       "\\item '01011'\n",
       "\\item '00111'\n",
       "\\item '11000'\n",
       "\\item '10100'\n",
       "\\item '10010'\n",
       "\\item '10001'\n",
       "\\item '01100'\n",
       "\\item '01010'\n",
       "\\item '01001'\n",
       "\\item '00110'\n",
       "\\item '00101'\n",
       "\\item '00011'\n",
       "\\item '10000'\n",
       "\\item '01000'\n",
       "\\item '00100'\n",
       "\\item '00010'\n",
       "\\item '00001'\n",
       "\\end{enumerate*}\n"
      ],
      "text/markdown": [
       "1. '11111'\n",
       "2. '11110'\n",
       "3. '11101'\n",
       "4. '11011'\n",
       "5. '10111'\n",
       "6. '01111'\n",
       "7. '11100'\n",
       "8. '11010'\n",
       "9. '11001'\n",
       "10. '10110'\n",
       "11. '10101'\n",
       "12. '10011'\n",
       "13. '01110'\n",
       "14. '01101'\n",
       "15. '01011'\n",
       "16. '00111'\n",
       "17. '11000'\n",
       "18. '10100'\n",
       "19. '10010'\n",
       "20. '10001'\n",
       "21. '01100'\n",
       "22. '01010'\n",
       "23. '01001'\n",
       "24. '00110'\n",
       "25. '00101'\n",
       "26. '00011'\n",
       "27. '10000'\n",
       "28. '01000'\n",
       "29. '00100'\n",
       "30. '00010'\n",
       "31. '00001'\n",
       "\n",
       "\n"
      ],
      "text/plain": [
       " [1] \"11111\" \"11110\" \"11101\" \"11011\" \"10111\" \"01111\" \"11100\" \"11010\" \"11001\"\n",
       "[10] \"10110\" \"10101\" \"10011\" \"01110\" \"01101\" \"01011\" \"00111\" \"11000\" \"10100\"\n",
       "[19] \"10010\" \"10001\" \"01100\" \"01010\" \"01001\" \"00110\" \"00101\" \"00011\" \"10000\"\n",
       "[28] \"01000\" \"00100\" \"00010\" \"00001\""
      ]
     },
     "metadata": {},
     "output_type": "display_data"
    },
    {
     "data": {
      "text/html": [
       "16"
      ],
      "text/latex": [
       "16"
      ],
      "text/markdown": [
       "16"
      ],
      "text/plain": [
       "[1] 16"
      ]
     },
     "metadata": {},
     "output_type": "display_data"
    },
    {
     "data": {
      "text/html": [
       "<style>\n",
       ".list-inline {list-style: none; margin:0; padding: 0}\n",
       ".list-inline>li {display: inline-block}\n",
       ".list-inline>li:not(:last-child)::after {content: \"\\00b7\"; padding: 0 .5ex}\n",
       "</style>\n",
       "<ol class=list-inline><li>'ACVRL1 up'</li><li>'CAMP mixed'</li><li>'CCL24 down'</li><li>'CRISPLD2 up'</li><li>'CXCL10 down'</li><li>'CXCL9 down'</li><li>'FCN1 down'</li><li>'FN1 up'</li><li>'ITGA11 down'</li><li>'ITGB8 up'</li><li>'MMP9 down'</li><li>'OSM up'</li><li>'PDPN up'</li><li>'SASH1 down'</li><li>'SLC11A1 up'</li><li>'THBS1 down'</li></ol>\n"
      ],
      "text/latex": [
       "\\begin{enumerate*}\n",
       "\\item 'ACVRL1 up'\n",
       "\\item 'CAMP mixed'\n",
       "\\item 'CCL24 down'\n",
       "\\item 'CRISPLD2 up'\n",
       "\\item 'CXCL10 down'\n",
       "\\item 'CXCL9 down'\n",
       "\\item 'FCN1 down'\n",
       "\\item 'FN1 up'\n",
       "\\item 'ITGA11 down'\n",
       "\\item 'ITGB8 up'\n",
       "\\item 'MMP9 down'\n",
       "\\item 'OSM up'\n",
       "\\item 'PDPN up'\n",
       "\\item 'SASH1 down'\n",
       "\\item 'SLC11A1 up'\n",
       "\\item 'THBS1 down'\n",
       "\\end{enumerate*}\n"
      ],
      "text/markdown": [
       "1. 'ACVRL1 up'\n",
       "2. 'CAMP mixed'\n",
       "3. 'CCL24 down'\n",
       "4. 'CRISPLD2 up'\n",
       "5. 'CXCL10 down'\n",
       "6. 'CXCL9 down'\n",
       "7. 'FCN1 down'\n",
       "8. 'FN1 up'\n",
       "9. 'ITGA11 down'\n",
       "10. 'ITGB8 up'\n",
       "11. 'MMP9 down'\n",
       "12. 'OSM up'\n",
       "13. 'PDPN up'\n",
       "14. 'SASH1 down'\n",
       "15. 'SLC11A1 up'\n",
       "16. 'THBS1 down'\n",
       "\n",
       "\n"
      ],
      "text/plain": [
       " [1] \"ACVRL1 up\"   \"CAMP mixed\"  \"CCL24 down\"  \"CRISPLD2 up\" \"CXCL10 down\"\n",
       " [6] \"CXCL9 down\"  \"FCN1 down\"   \"FN1 up\"      \"ITGA11 down\" \"ITGB8 up\"   \n",
       "[11] \"MMP9 down\"   \"OSM up\"      \"PDPN up\"     \"SASH1 down\"  \"SLC11A1 up\" \n",
       "[16] \"THBS1 down\" "
      ]
     },
     "metadata": {},
     "output_type": "display_data"
    }
   ],
   "source": [
    "xall = list (p1 = pr1_genes_5L,\n",
    "      p2 = pr2_genes_5L,\n",
    "      p3 = pr3_genes_5L,\n",
    "      p4 = pr4_genes_5L,\n",
    "      p5 = pr5_genes_5L)\n",
    "\n",
    "\n",
    "library (ComplexHeatmap)\n",
    "\n",
    "m = make_comb_mat(xall, mode = \"union\")\n",
    "comb_name(m)\n",
    "xall = extract_comb(m, \"11111\")\n",
    "length (xall)\n",
    "\n",
    "xall\n",
    "\n",
    "#xall <- as.data.frame (xall)\n",
    "\n",
    "#write.table (xall, \"./data/topgenes_xall.txt\", row.names = F)"
   ]
  },
  {
   "cell_type": "markdown",
   "id": "electronic-blackberry",
   "metadata": {},
   "source": [
    "# Cluster 1 & 2"
   ]
  },
  {
   "cell_type": "code",
   "execution_count": 37,
   "id": "desperate-sherman",
   "metadata": {},
   "outputs": [],
   "source": [
    "universe = d$ensembl_gene_id"
   ]
  },
  {
   "cell_type": "code",
   "execution_count": 38,
   "id": "infinite-retreat",
   "metadata": {},
   "outputs": [],
   "source": [
    "cluster12_genes = kmeans_results[kmeans_results$cluster == 1 | kmeans_results$cluster ==2, \"gene\"]\n",
    "expressed = as.numeric(universe %in% cluster12_genes)\n",
    "names(expressed) = universe"
   ]
  },
  {
   "cell_type": "code",
   "execution_count": 39,
   "id": "forced-recruitment",
   "metadata": {},
   "outputs": [
    {
     "data": {
      "text/html": [
       "293"
      ],
      "text/latex": [
       "293"
      ],
      "text/markdown": [
       "293"
      ],
      "text/plain": [
       "[1] 293"
      ]
     },
     "metadata": {},
     "output_type": "display_data"
    }
   ],
   "source": [
    "length (cluster12_genes)"
   ]
  },
  {
   "cell_type": "code",
   "execution_count": 40,
   "id": "potential-average",
   "metadata": {},
   "outputs": [
    {
     "data": {
      "text/html": [
       "<style>\n",
       ".list-inline {list-style: none; margin:0; padding: 0}\n",
       ".list-inline>li {display: inline-block}\n",
       ".list-inline>li:not(:last-child)::after {content: \"\\00b7\"; padding: 0 .5ex}\n",
       "</style>\n",
       "<ol class=list-inline><li>'ENSG00000005471'</li><li>'ENSG00000135503'</li><li>'ENSG00000139567'</li><li>'ENSG00000187134'</li><li>'ENSG00000012779'</li><li>'ENSG00000113108'</li></ol>\n"
      ],
      "text/latex": [
       "\\begin{enumerate*}\n",
       "\\item 'ENSG00000005471'\n",
       "\\item 'ENSG00000135503'\n",
       "\\item 'ENSG00000139567'\n",
       "\\item 'ENSG00000187134'\n",
       "\\item 'ENSG00000012779'\n",
       "\\item 'ENSG00000113108'\n",
       "\\end{enumerate*}\n"
      ],
      "text/markdown": [
       "1. 'ENSG00000005471'\n",
       "2. 'ENSG00000135503'\n",
       "3. 'ENSG00000139567'\n",
       "4. 'ENSG00000187134'\n",
       "5. 'ENSG00000012779'\n",
       "6. 'ENSG00000113108'\n",
       "\n",
       "\n"
      ],
      "text/plain": [
       "[1] \"ENSG00000005471\" \"ENSG00000135503\" \"ENSG00000139567\" \"ENSG00000187134\"\n",
       "[5] \"ENSG00000012779\" \"ENSG00000113108\""
      ]
     },
     "metadata": {},
     "output_type": "display_data"
    }
   ],
   "source": [
    "head (cluster12_genes)"
   ]
  },
  {
   "cell_type": "code",
   "execution_count": 41,
   "id": "modern-telephone",
   "metadata": {},
   "outputs": [
    {
     "data": {
      "text/html": [
       "12305"
      ],
      "text/latex": [
       "12305"
      ],
      "text/markdown": [
       "12305"
      ],
      "text/plain": [
       "[1] 12305"
      ]
     },
     "metadata": {},
     "output_type": "display_data"
    }
   ],
   "source": [
    "length (expressed)"
   ]
  },
  {
   "cell_type": "code",
   "execution_count": 42,
   "id": "first-stuff",
   "metadata": {},
   "outputs": [
    {
     "data": {
      "text/html": [
       "<style>\n",
       ".dl-inline {width: auto; margin:0; padding: 0}\n",
       ".dl-inline>dt, .dl-inline>dd {float: none; width: auto; display: inline-block}\n",
       ".dl-inline>dt::after {content: \":\\0020\"; padding-right: .5ex}\n",
       ".dl-inline>dt:not(:first-of-type) {padding-left: .5ex}\n",
       "</style><dl class=dl-inline><dt>ENSG00000121410</dt><dd>0</dd><dt>ENSG00000175899</dt><dd>0</dd><dt>ENSG00000128274</dt><dd>0</dd><dt>ENSG00000094914</dt><dd>0</dd><dt>ENSG00000081760</dt><dd>0</dd><dt>ENSG00000103591</dt><dd>0</dd></dl>\n"
      ],
      "text/latex": [
       "\\begin{description*}\n",
       "\\item[ENSG00000121410] 0\n",
       "\\item[ENSG00000175899] 0\n",
       "\\item[ENSG00000128274] 0\n",
       "\\item[ENSG00000094914] 0\n",
       "\\item[ENSG00000081760] 0\n",
       "\\item[ENSG00000103591] 0\n",
       "\\end{description*}\n"
      ],
      "text/markdown": [
       "ENSG00000121410\n",
       ":   0ENSG00000175899\n",
       ":   0ENSG00000128274\n",
       ":   0ENSG00000094914\n",
       ":   0ENSG00000081760\n",
       ":   0ENSG00000103591\n",
       ":   0\n",
       "\n"
      ],
      "text/plain": [
       "ENSG00000121410 ENSG00000175899 ENSG00000128274 ENSG00000094914 ENSG00000081760 \n",
       "              0               0               0               0               0 \n",
       "ENSG00000103591 \n",
       "              0 "
      ]
     },
     "metadata": {},
     "output_type": "display_data"
    }
   ],
   "source": [
    "head (expressed)"
   ]
  },
  {
   "cell_type": "code",
   "execution_count": 43,
   "id": "perceived-nutrition",
   "metadata": {},
   "outputs": [
    {
     "name": "stderr",
     "output_type": "stream",
     "text": [
      "\n",
      "Building most specific GOs .....\n",
      "\n",
      "\t( 10686 GO terms found. )\n",
      "\n",
      "\n",
      "Build GO DAG topology ..........\n",
      "\n",
      "\t( 14567 GO terms and 33790 relations. )\n",
      "\n",
      "\n",
      "Annotating nodes ...............\n",
      "\n",
      "\t( 11241 genes annotated to the GO terms. )\n",
      "\n"
     ]
    }
   ],
   "source": [
    "go_data = new(\"topGOdata\", \n",
    "              ontology = \"BP\", \n",
    "              allGenes = expressed,\n",
    "              nodeSize = 10,\n",
    "              geneSel = function(x){\n",
    "                return(x == 1)},\n",
    "              annot = annFUN.org, \n",
    "              mapping = \"org.Hs.eg.db\", \n",
    "              ID = \"ensembl\")"
   ]
  },
  {
   "cell_type": "code",
   "execution_count": 44,
   "id": "passing-citizenship",
   "metadata": {},
   "outputs": [
    {
     "name": "stderr",
     "output_type": "stream",
     "text": [
      "\n",
      "\t\t\t -- Weight01 Algorithm -- \n",
      "\n",
      "\t\t the algorithm is scoring 3911 nontrivial nodes\n",
      "\t\t parameters: \n",
      "\t\t\t test statistic: fisher\n",
      "\n",
      "\n",
      "\t Level 19:\t1 nodes to be scored\t(0 eliminated genes)\n",
      "\n",
      "\n",
      "\t Level 18:\t1 nodes to be scored\t(0 eliminated genes)\n",
      "\n",
      "\n",
      "\t Level 17:\t7 nodes to be scored\t(12 eliminated genes)\n",
      "\n",
      "\n",
      "\t Level 16:\t12 nodes to be scored\t(16 eliminated genes)\n",
      "\n",
      "\n",
      "\t Level 15:\t20 nodes to be scored\t(80 eliminated genes)\n",
      "\n",
      "\n",
      "\t Level 14:\t46 nodes to be scored\t(188 eliminated genes)\n",
      "\n",
      "\n",
      "\t Level 13:\t82 nodes to be scored\t(400 eliminated genes)\n",
      "\n",
      "\n",
      "\t Level 12:\t135 nodes to be scored\t(1177 eliminated genes)\n",
      "\n",
      "\n",
      "\t Level 11:\t225 nodes to be scored\t(2844 eliminated genes)\n",
      "\n",
      "\n",
      "\t Level 10:\t391 nodes to be scored\t(4346 eliminated genes)\n",
      "\n",
      "\n",
      "\t Level 9:\t549 nodes to be scored\t(5684 eliminated genes)\n",
      "\n",
      "\n",
      "\t Level 8:\t615 nodes to be scored\t(7370 eliminated genes)\n",
      "\n",
      "\n",
      "\t Level 7:\t621 nodes to be scored\t(8730 eliminated genes)\n",
      "\n",
      "\n",
      "\t Level 6:\t547 nodes to be scored\t(9871 eliminated genes)\n",
      "\n",
      "\n",
      "\t Level 5:\t359 nodes to be scored\t(10541 eliminated genes)\n",
      "\n",
      "\n",
      "\t Level 4:\t191 nodes to be scored\t(10873 eliminated genes)\n",
      "\n",
      "\n",
      "\t Level 3:\t89 nodes to be scored\t(11010 eliminated genes)\n",
      "\n",
      "\n",
      "\t Level 2:\t19 nodes to be scored\t(11070 eliminated genes)\n",
      "\n",
      "\n",
      "\t Level 1:\t1 nodes to be scored\t(11128 eliminated genes)\n",
      "\n"
     ]
    },
    {
     "data": {
      "text/html": [
       "<table class=\"dataframe\">\n",
       "<caption>A data.frame: 6 × 6</caption>\n",
       "<thead>\n",
       "\t<tr><th></th><th scope=col>GO.ID</th><th scope=col>Term</th><th scope=col>Annotated</th><th scope=col>Significant</th><th scope=col>Expected</th><th scope=col>weightFisher</th></tr>\n",
       "\t<tr><th></th><th scope=col>&lt;chr&gt;</th><th scope=col>&lt;chr&gt;</th><th scope=col>&lt;int&gt;</th><th scope=col>&lt;int&gt;</th><th scope=col>&lt;dbl&gt;</th><th scope=col>&lt;chr&gt;</th></tr>\n",
       "</thead>\n",
       "<tbody>\n",
       "\t<tr><th scope=row>1</th><td>GO:0002250</td><td>adaptive immune response                   </td><td>337</td><td>26</td><td> 8.33</td><td>4.7e-07</td></tr>\n",
       "\t<tr><th scope=row>2</th><td>GO:0060333</td><td>interferon-gamma-mediated signaling path...</td><td> 78</td><td>11</td><td> 1.93</td><td>3.1e-06</td></tr>\n",
       "\t<tr><th scope=row>3</th><td>GO:0030198</td><td>extracellular matrix organization          </td><td>206</td><td>25</td><td> 5.09</td><td>1.1e-05</td></tr>\n",
       "\t<tr><th scope=row>4</th><td>GO:0043312</td><td>neutrophil degranulation                   </td><td>425</td><td>26</td><td>10.51</td><td>1.9e-05</td></tr>\n",
       "\t<tr><th scope=row>5</th><td>GO:0006954</td><td>inflammatory response                      </td><td>506</td><td>43</td><td>12.51</td><td>2.0e-05</td></tr>\n",
       "\t<tr><th scope=row>6</th><td>GO:0019221</td><td>cytokine-mediated signaling pathway        </td><td>598</td><td>43</td><td>14.79</td><td>3.1e-05</td></tr>\n",
       "</tbody>\n",
       "</table>\n"
      ],
      "text/latex": [
       "A data.frame: 6 × 6\n",
       "\\begin{tabular}{r|llllll}\n",
       "  & GO.ID & Term & Annotated & Significant & Expected & weightFisher\\\\\n",
       "  & <chr> & <chr> & <int> & <int> & <dbl> & <chr>\\\\\n",
       "\\hline\n",
       "\t1 & GO:0002250 & adaptive immune response                    & 337 & 26 &  8.33 & 4.7e-07\\\\\n",
       "\t2 & GO:0060333 & interferon-gamma-mediated signaling path... &  78 & 11 &  1.93 & 3.1e-06\\\\\n",
       "\t3 & GO:0030198 & extracellular matrix organization           & 206 & 25 &  5.09 & 1.1e-05\\\\\n",
       "\t4 & GO:0043312 & neutrophil degranulation                    & 425 & 26 & 10.51 & 1.9e-05\\\\\n",
       "\t5 & GO:0006954 & inflammatory response                       & 506 & 43 & 12.51 & 2.0e-05\\\\\n",
       "\t6 & GO:0019221 & cytokine-mediated signaling pathway         & 598 & 43 & 14.79 & 3.1e-05\\\\\n",
       "\\end{tabular}\n"
      ],
      "text/markdown": [
       "\n",
       "A data.frame: 6 × 6\n",
       "\n",
       "| <!--/--> | GO.ID &lt;chr&gt; | Term &lt;chr&gt; | Annotated &lt;int&gt; | Significant &lt;int&gt; | Expected &lt;dbl&gt; | weightFisher &lt;chr&gt; |\n",
       "|---|---|---|---|---|---|---|\n",
       "| 1 | GO:0002250 | adaptive immune response                    | 337 | 26 |  8.33 | 4.7e-07 |\n",
       "| 2 | GO:0060333 | interferon-gamma-mediated signaling path... |  78 | 11 |  1.93 | 3.1e-06 |\n",
       "| 3 | GO:0030198 | extracellular matrix organization           | 206 | 25 |  5.09 | 1.1e-05 |\n",
       "| 4 | GO:0043312 | neutrophil degranulation                    | 425 | 26 | 10.51 | 1.9e-05 |\n",
       "| 5 | GO:0006954 | inflammatory response                       | 506 | 43 | 12.51 | 2.0e-05 |\n",
       "| 6 | GO:0019221 | cytokine-mediated signaling pathway         | 598 | 43 | 14.79 | 3.1e-05 |\n",
       "\n"
      ],
      "text/plain": [
       "  GO.ID      Term                                        Annotated Significant\n",
       "1 GO:0002250 adaptive immune response                    337       26         \n",
       "2 GO:0060333 interferon-gamma-mediated signaling path...  78       11         \n",
       "3 GO:0030198 extracellular matrix organization           206       25         \n",
       "4 GO:0043312 neutrophil degranulation                    425       26         \n",
       "5 GO:0006954 inflammatory response                       506       43         \n",
       "6 GO:0019221 cytokine-mediated signaling pathway         598       43         \n",
       "  Expected weightFisher\n",
       "1  8.33    4.7e-07     \n",
       "2  1.93    3.1e-06     \n",
       "3  5.09    1.1e-05     \n",
       "4 10.51    1.9e-05     \n",
       "5 12.51    2.0e-05     \n",
       "6 14.79    3.1e-05     "
      ]
     },
     "metadata": {},
     "output_type": "display_data"
    }
   ],
   "source": [
    "#run topGO\n",
    "go_test<- runTest(go_data, algorithm = \"weight01\", statistic = \"fisher\")\n",
    "go_table <- GenTable(go_data, weightFisher = go_test,\n",
    "                     orderBy = \"weightFisher\", ranksOf = \"weightFisher\",\n",
    "                     topNodes = sum(score(go_test) < .01))\n",
    "#head(go_table)\n",
    "\n",
    "go_tableSave <- as.data.frame (go_table)\n",
    "head (go_tableSave)"
   ]
  },
  {
   "cell_type": "markdown",
   "id": "ignored-necklace",
   "metadata": {},
   "source": [
    "### In Cluster 1 & 2"
   ]
  },
  {
   "cell_type": "code",
   "execution_count": 45,
   "id": "absent-silicon",
   "metadata": {},
   "outputs": [],
   "source": [
    "go_table$genes <- sapply(go_table$GO.ID, function(x)\n",
    "    {\n",
    "      genes<-genesInTerm(go_data, x) \n",
    "      genes[[1]][genes[[1]] %in% cluster12_genes]   # IN CLUSTER 1 2\n",
    "    })"
   ]
  },
  {
   "cell_type": "code",
   "execution_count": 46,
   "id": "starting-parallel",
   "metadata": {},
   "outputs": [
    {
     "data": {
      "text/html": [
       "<dl>\n",
       "\t<dt>$`GO:0002250`</dt>\n",
       "\t\t<dd><style>\n",
       ".list-inline {list-style: none; margin:0; padding: 0}\n",
       ".list-inline>li {display: inline-block}\n",
       ".list-inline>li:not(:last-child)::after {content: \"\\00b7\"; padding: 0 .5ex}\n",
       "</style>\n",
       "<ol class=list-inline><li>'ENSG00000018280'</li><li>'ENSG00000019582'</li><li>'ENSG00000028277'</li><li>'ENSG00000089041'</li><li>'ENSG00000090339'</li><li>'ENSG00000101384'</li><li>'ENSG00000104974'</li><li>'ENSG00000116514'</li><li>'ENSG00000135047'</li><li>'ENSG00000136630'</li><li>'ENSG00000146072'</li><li>'ENSG00000150782'</li><li>'ENSG00000160223'</li><li>'ENSG00000162711'</li><li>'ENSG00000163508'</li><li>'ENSG00000174837'</li><li>'ENSG00000179344'</li><li>'ENSG00000186818'</li><li>'ENSG00000196126'</li><li>'ENSG00000196735'</li><li>'ENSG00000196839'</li><li>'ENSG00000198502'</li><li>'ENSG00000204287'</li><li>'ENSG00000223865'</li><li>'ENSG00000231389'</li><li>'ENSG00000232629'</li></ol>\n",
       "</dd>\n",
       "\t<dt>$`GO:0060333`</dt>\n",
       "\t\t<dd><style>\n",
       ".list-inline {list-style: none; margin:0; padding: 0}\n",
       ".list-inline>li {display: inline-block}\n",
       ".list-inline>li:not(:last-child)::after {content: \"\\00b7\"; padding: 0 .5ex}\n",
       "</style>\n",
       "<ol class=list-inline><li>'ENSG00000090339'</li><li>'ENSG00000117228'</li><li>'ENSG00000128604'</li><li>'ENSG00000179344'</li><li>'ENSG00000196126'</li><li>'ENSG00000196735'</li><li>'ENSG00000198502'</li><li>'ENSG00000204287'</li><li>'ENSG00000223865'</li><li>'ENSG00000231389'</li><li>'ENSG00000232629'</li></ol>\n",
       "</dd>\n",
       "\t<dt>$`GO:0030198`</dt>\n",
       "\t\t<dd><style>\n",
       ".list-inline {list-style: none; margin:0; padding: 0}\n",
       ".list-inline>li {display: inline-block}\n",
       ".list-inline>li:not(:last-child)::after {content: \"\\00b7\"; padding: 0 .5ex}\n",
       "</style>\n",
       "<ol class=list-inline><li>'ENSG00000008516'</li><li>'ENSG00000019144'</li><li>'ENSG00000075618'</li><li>'ENSG00000083457'</li><li>'ENSG00000090339'</li><li>'ENSG00000095209'</li><li>'ENSG00000100767'</li><li>'ENSG00000102265'</li><li>'ENSG00000103196'</li><li>'ENSG00000115414'</li><li>'ENSG00000116962'</li><li>'ENSG00000123342'</li><li>'ENSG00000123384'</li><li>'ENSG00000135047'</li><li>'ENSG00000135862'</li><li>'ENSG00000137801'</li><li>'ENSG00000138829'</li><li>'ENSG00000140678'</li><li>'ENSG00000162493'</li><li>'ENSG00000163661'</li><li>'ENSG00000166033'</li><li>'ENSG00000169896'</li><li>'ENSG00000174705'</li><li>'ENSG00000196562'</li><li>'ENSG00000197635'</li></ol>\n",
       "</dd>\n",
       "\t<dt>$`GO:0043312`</dt>\n",
       "\t\t<dd><style>\n",
       ".list-inline {list-style: none; margin:0; padding: 0}\n",
       ".list-inline>li {display: inline-block}\n",
       ".list-inline>li:not(:last-child)::after {content: \"\\00b7\"; padding: 0 .5ex}\n",
       "</style>\n",
       "<ol class=list-inline><li>'ENSG00000008516'</li><li>'ENSG00000012779'</li><li>'ENSG00000018280'</li><li>'ENSG00000075651'</li><li>'ENSG00000102393'</li><li>'ENSG00000103196'</li><li>'ENSG00000115828'</li><li>'ENSG00000117115'</li><li>'ENSG00000125810'</li><li>'ENSG00000126759'</li><li>'ENSG00000131355'</li><li>'ENSG00000140678'</li><li>'ENSG00000143546'</li><li>'ENSG00000158825'</li><li>'ENSG00000163220'</li><li>'ENSG00000163221'</li><li>'ENSG00000163464'</li><li>'ENSG00000163661'</li><li>'ENSG00000164047'</li><li>'ENSG00000167851'</li><li>'ENSG00000169896'</li><li>'ENSG00000170458'</li><li>'ENSG00000171049'</li><li>'ENSG00000171051'</li><li>'ENSG00000173083'</li><li>'ENSG00000179163'</li></ol>\n",
       "</dd>\n",
       "\t<dt>$`GO:0006954`</dt>\n",
       "\t\t<dd><style>\n",
       ".list-inline {list-style: none; margin:0; padding: 0}\n",
       ".list-inline>li {display: inline-block}\n",
       ".list-inline>li:not(:last-child)::after {content: \"\\00b7\"; padding: 0 .5ex}\n",
       "</style>\n",
       "<ol class=list-inline><li>'ENSG00000008516'</li><li>'ENSG00000012779'</li><li>'ENSG00000018280'</li><li>'ENSG00000089041'</li><li>'ENSG00000090339'</li><li>'ENSG00000099985'</li><li>'ENSG00000102265'</li><li>'ENSG00000102962'</li><li>'ENSG00000103313'</li><li>'ENSG00000106178'</li><li>'ENSG00000115414'</li><li>'ENSG00000115590'</li><li>'ENSG00000118432'</li><li>'ENSG00000123384'</li><li>'ENSG00000127507'</li><li>'ENSG00000130775'</li><li>'ENSG00000132386'</li><li>'ENSG00000134780'</li><li>'ENSG00000136826'</li><li>'ENSG00000137757'</li><li>'ENSG00000137801'</li><li>'ENSG00000142405'</li><li>'ENSG00000143546'</li><li>'ENSG00000148926'</li><li>'ENSG00000150782'</li><li>'ENSG00000156711'</li><li>'ENSG00000160013'</li><li>'ENSG00000162711'</li><li>'ENSG00000163220'</li><li>'ENSG00000163221'</li><li>'ENSG00000163661'</li><li>'ENSG00000167207'</li><li>'ENSG00000169896'</li><li>'ENSG00000169902'</li><li>'ENSG00000170458'</li><li>'ENSG00000171049'</li><li>'ENSG00000171051'</li><li>'ENSG00000184371'</li><li>'ENSG00000186827'</li><li>'ENSG00000187116'</li><li>'ENSG00000196126'</li><li>'ENSG00000196839'</li><li>'ENSG00000204475'</li></ol>\n",
       "</dd>\n",
       "\t<dt>$`GO:0019221`</dt>\n",
       "\t\t<dd><style>\n",
       ".list-inline {list-style: none; margin:0; padding: 0}\n",
       ".list-inline>li {display: inline-block}\n",
       ".list-inline>li:not(:last-child)::after {content: \"\\00b7\"; padding: 0 .5ex}\n",
       "</style>\n",
       "<ol class=list-inline><li>'ENSG00000012779'</li><li>'ENSG00000019582'</li><li>'ENSG00000075618'</li><li>'ENSG00000090339'</li><li>'ENSG00000099985'</li><li>'ENSG00000102265'</li><li>'ENSG00000102962'</li><li>'ENSG00000106178'</li><li>'ENSG00000112715'</li><li>'ENSG00000115414'</li><li>'ENSG00000115590'</li><li>'ENSG00000116574'</li><li>'ENSG00000117115'</li><li>'ENSG00000117228'</li><li>'ENSG00000119535'</li><li>'ENSG00000120949'</li><li>'ENSG00000124491'</li><li>'ENSG00000124762'</li><li>'ENSG00000128604'</li><li>'ENSG00000140678'</li><li>'ENSG00000142089'</li><li>'ENSG00000150782'</li><li>'ENSG00000163464'</li><li>'ENSG00000167207'</li><li>'ENSG00000168329'</li><li>'ENSG00000169896'</li><li>'ENSG00000171051'</li><li>'ENSG00000178623'</li><li>'ENSG00000179344'</li><li>'ENSG00000181634'</li><li>'ENSG00000184371'</li><li>'ENSG00000186074'</li><li>'ENSG00000186827'</li><li>'ENSG00000186891'</li><li>'ENSG00000196126'</li><li>'ENSG00000196735'</li><li>'ENSG00000198223'</li><li>'ENSG00000198502'</li><li>'ENSG00000204287'</li><li>'ENSG00000205755'</li><li>'ENSG00000223865'</li><li>'ENSG00000231389'</li><li>'ENSG00000232629'</li></ol>\n",
       "</dd>\n",
       "</dl>\n"
      ],
      "text/latex": [
       "\\begin{description}\n",
       "\\item[\\$`GO:0002250`] \\begin{enumerate*}\n",
       "\\item 'ENSG00000018280'\n",
       "\\item 'ENSG00000019582'\n",
       "\\item 'ENSG00000028277'\n",
       "\\item 'ENSG00000089041'\n",
       "\\item 'ENSG00000090339'\n",
       "\\item 'ENSG00000101384'\n",
       "\\item 'ENSG00000104974'\n",
       "\\item 'ENSG00000116514'\n",
       "\\item 'ENSG00000135047'\n",
       "\\item 'ENSG00000136630'\n",
       "\\item 'ENSG00000146072'\n",
       "\\item 'ENSG00000150782'\n",
       "\\item 'ENSG00000160223'\n",
       "\\item 'ENSG00000162711'\n",
       "\\item 'ENSG00000163508'\n",
       "\\item 'ENSG00000174837'\n",
       "\\item 'ENSG00000179344'\n",
       "\\item 'ENSG00000186818'\n",
       "\\item 'ENSG00000196126'\n",
       "\\item 'ENSG00000196735'\n",
       "\\item 'ENSG00000196839'\n",
       "\\item 'ENSG00000198502'\n",
       "\\item 'ENSG00000204287'\n",
       "\\item 'ENSG00000223865'\n",
       "\\item 'ENSG00000231389'\n",
       "\\item 'ENSG00000232629'\n",
       "\\end{enumerate*}\n",
       "\n",
       "\\item[\\$`GO:0060333`] \\begin{enumerate*}\n",
       "\\item 'ENSG00000090339'\n",
       "\\item 'ENSG00000117228'\n",
       "\\item 'ENSG00000128604'\n",
       "\\item 'ENSG00000179344'\n",
       "\\item 'ENSG00000196126'\n",
       "\\item 'ENSG00000196735'\n",
       "\\item 'ENSG00000198502'\n",
       "\\item 'ENSG00000204287'\n",
       "\\item 'ENSG00000223865'\n",
       "\\item 'ENSG00000231389'\n",
       "\\item 'ENSG00000232629'\n",
       "\\end{enumerate*}\n",
       "\n",
       "\\item[\\$`GO:0030198`] \\begin{enumerate*}\n",
       "\\item 'ENSG00000008516'\n",
       "\\item 'ENSG00000019144'\n",
       "\\item 'ENSG00000075618'\n",
       "\\item 'ENSG00000083457'\n",
       "\\item 'ENSG00000090339'\n",
       "\\item 'ENSG00000095209'\n",
       "\\item 'ENSG00000100767'\n",
       "\\item 'ENSG00000102265'\n",
       "\\item 'ENSG00000103196'\n",
       "\\item 'ENSG00000115414'\n",
       "\\item 'ENSG00000116962'\n",
       "\\item 'ENSG00000123342'\n",
       "\\item 'ENSG00000123384'\n",
       "\\item 'ENSG00000135047'\n",
       "\\item 'ENSG00000135862'\n",
       "\\item 'ENSG00000137801'\n",
       "\\item 'ENSG00000138829'\n",
       "\\item 'ENSG00000140678'\n",
       "\\item 'ENSG00000162493'\n",
       "\\item 'ENSG00000163661'\n",
       "\\item 'ENSG00000166033'\n",
       "\\item 'ENSG00000169896'\n",
       "\\item 'ENSG00000174705'\n",
       "\\item 'ENSG00000196562'\n",
       "\\item 'ENSG00000197635'\n",
       "\\end{enumerate*}\n",
       "\n",
       "\\item[\\$`GO:0043312`] \\begin{enumerate*}\n",
       "\\item 'ENSG00000008516'\n",
       "\\item 'ENSG00000012779'\n",
       "\\item 'ENSG00000018280'\n",
       "\\item 'ENSG00000075651'\n",
       "\\item 'ENSG00000102393'\n",
       "\\item 'ENSG00000103196'\n",
       "\\item 'ENSG00000115828'\n",
       "\\item 'ENSG00000117115'\n",
       "\\item 'ENSG00000125810'\n",
       "\\item 'ENSG00000126759'\n",
       "\\item 'ENSG00000131355'\n",
       "\\item 'ENSG00000140678'\n",
       "\\item 'ENSG00000143546'\n",
       "\\item 'ENSG00000158825'\n",
       "\\item 'ENSG00000163220'\n",
       "\\item 'ENSG00000163221'\n",
       "\\item 'ENSG00000163464'\n",
       "\\item 'ENSG00000163661'\n",
       "\\item 'ENSG00000164047'\n",
       "\\item 'ENSG00000167851'\n",
       "\\item 'ENSG00000169896'\n",
       "\\item 'ENSG00000170458'\n",
       "\\item 'ENSG00000171049'\n",
       "\\item 'ENSG00000171051'\n",
       "\\item 'ENSG00000173083'\n",
       "\\item 'ENSG00000179163'\n",
       "\\end{enumerate*}\n",
       "\n",
       "\\item[\\$`GO:0006954`] \\begin{enumerate*}\n",
       "\\item 'ENSG00000008516'\n",
       "\\item 'ENSG00000012779'\n",
       "\\item 'ENSG00000018280'\n",
       "\\item 'ENSG00000089041'\n",
       "\\item 'ENSG00000090339'\n",
       "\\item 'ENSG00000099985'\n",
       "\\item 'ENSG00000102265'\n",
       "\\item 'ENSG00000102962'\n",
       "\\item 'ENSG00000103313'\n",
       "\\item 'ENSG00000106178'\n",
       "\\item 'ENSG00000115414'\n",
       "\\item 'ENSG00000115590'\n",
       "\\item 'ENSG00000118432'\n",
       "\\item 'ENSG00000123384'\n",
       "\\item 'ENSG00000127507'\n",
       "\\item 'ENSG00000130775'\n",
       "\\item 'ENSG00000132386'\n",
       "\\item 'ENSG00000134780'\n",
       "\\item 'ENSG00000136826'\n",
       "\\item 'ENSG00000137757'\n",
       "\\item 'ENSG00000137801'\n",
       "\\item 'ENSG00000142405'\n",
       "\\item 'ENSG00000143546'\n",
       "\\item 'ENSG00000148926'\n",
       "\\item 'ENSG00000150782'\n",
       "\\item 'ENSG00000156711'\n",
       "\\item 'ENSG00000160013'\n",
       "\\item 'ENSG00000162711'\n",
       "\\item 'ENSG00000163220'\n",
       "\\item 'ENSG00000163221'\n",
       "\\item 'ENSG00000163661'\n",
       "\\item 'ENSG00000167207'\n",
       "\\item 'ENSG00000169896'\n",
       "\\item 'ENSG00000169902'\n",
       "\\item 'ENSG00000170458'\n",
       "\\item 'ENSG00000171049'\n",
       "\\item 'ENSG00000171051'\n",
       "\\item 'ENSG00000184371'\n",
       "\\item 'ENSG00000186827'\n",
       "\\item 'ENSG00000187116'\n",
       "\\item 'ENSG00000196126'\n",
       "\\item 'ENSG00000196839'\n",
       "\\item 'ENSG00000204475'\n",
       "\\end{enumerate*}\n",
       "\n",
       "\\item[\\$`GO:0019221`] \\begin{enumerate*}\n",
       "\\item 'ENSG00000012779'\n",
       "\\item 'ENSG00000019582'\n",
       "\\item 'ENSG00000075618'\n",
       "\\item 'ENSG00000090339'\n",
       "\\item 'ENSG00000099985'\n",
       "\\item 'ENSG00000102265'\n",
       "\\item 'ENSG00000102962'\n",
       "\\item 'ENSG00000106178'\n",
       "\\item 'ENSG00000112715'\n",
       "\\item 'ENSG00000115414'\n",
       "\\item 'ENSG00000115590'\n",
       "\\item 'ENSG00000116574'\n",
       "\\item 'ENSG00000117115'\n",
       "\\item 'ENSG00000117228'\n",
       "\\item 'ENSG00000119535'\n",
       "\\item 'ENSG00000120949'\n",
       "\\item 'ENSG00000124491'\n",
       "\\item 'ENSG00000124762'\n",
       "\\item 'ENSG00000128604'\n",
       "\\item 'ENSG00000140678'\n",
       "\\item 'ENSG00000142089'\n",
       "\\item 'ENSG00000150782'\n",
       "\\item 'ENSG00000163464'\n",
       "\\item 'ENSG00000167207'\n",
       "\\item 'ENSG00000168329'\n",
       "\\item 'ENSG00000169896'\n",
       "\\item 'ENSG00000171051'\n",
       "\\item 'ENSG00000178623'\n",
       "\\item 'ENSG00000179344'\n",
       "\\item 'ENSG00000181634'\n",
       "\\item 'ENSG00000184371'\n",
       "\\item 'ENSG00000186074'\n",
       "\\item 'ENSG00000186827'\n",
       "\\item 'ENSG00000186891'\n",
       "\\item 'ENSG00000196126'\n",
       "\\item 'ENSG00000196735'\n",
       "\\item 'ENSG00000198223'\n",
       "\\item 'ENSG00000198502'\n",
       "\\item 'ENSG00000204287'\n",
       "\\item 'ENSG00000205755'\n",
       "\\item 'ENSG00000223865'\n",
       "\\item 'ENSG00000231389'\n",
       "\\item 'ENSG00000232629'\n",
       "\\end{enumerate*}\n",
       "\n",
       "\\end{description}\n"
      ],
      "text/markdown": [
       "$`GO:0002250`\n",
       ":   1. 'ENSG00000018280'\n",
       "2. 'ENSG00000019582'\n",
       "3. 'ENSG00000028277'\n",
       "4. 'ENSG00000089041'\n",
       "5. 'ENSG00000090339'\n",
       "6. 'ENSG00000101384'\n",
       "7. 'ENSG00000104974'\n",
       "8. 'ENSG00000116514'\n",
       "9. 'ENSG00000135047'\n",
       "10. 'ENSG00000136630'\n",
       "11. 'ENSG00000146072'\n",
       "12. 'ENSG00000150782'\n",
       "13. 'ENSG00000160223'\n",
       "14. 'ENSG00000162711'\n",
       "15. 'ENSG00000163508'\n",
       "16. 'ENSG00000174837'\n",
       "17. 'ENSG00000179344'\n",
       "18. 'ENSG00000186818'\n",
       "19. 'ENSG00000196126'\n",
       "20. 'ENSG00000196735'\n",
       "21. 'ENSG00000196839'\n",
       "22. 'ENSG00000198502'\n",
       "23. 'ENSG00000204287'\n",
       "24. 'ENSG00000223865'\n",
       "25. 'ENSG00000231389'\n",
       "26. 'ENSG00000232629'\n",
       "\n",
       "\n",
       "\n",
       "$`GO:0060333`\n",
       ":   1. 'ENSG00000090339'\n",
       "2. 'ENSG00000117228'\n",
       "3. 'ENSG00000128604'\n",
       "4. 'ENSG00000179344'\n",
       "5. 'ENSG00000196126'\n",
       "6. 'ENSG00000196735'\n",
       "7. 'ENSG00000198502'\n",
       "8. 'ENSG00000204287'\n",
       "9. 'ENSG00000223865'\n",
       "10. 'ENSG00000231389'\n",
       "11. 'ENSG00000232629'\n",
       "\n",
       "\n",
       "\n",
       "$`GO:0030198`\n",
       ":   1. 'ENSG00000008516'\n",
       "2. 'ENSG00000019144'\n",
       "3. 'ENSG00000075618'\n",
       "4. 'ENSG00000083457'\n",
       "5. 'ENSG00000090339'\n",
       "6. 'ENSG00000095209'\n",
       "7. 'ENSG00000100767'\n",
       "8. 'ENSG00000102265'\n",
       "9. 'ENSG00000103196'\n",
       "10. 'ENSG00000115414'\n",
       "11. 'ENSG00000116962'\n",
       "12. 'ENSG00000123342'\n",
       "13. 'ENSG00000123384'\n",
       "14. 'ENSG00000135047'\n",
       "15. 'ENSG00000135862'\n",
       "16. 'ENSG00000137801'\n",
       "17. 'ENSG00000138829'\n",
       "18. 'ENSG00000140678'\n",
       "19. 'ENSG00000162493'\n",
       "20. 'ENSG00000163661'\n",
       "21. 'ENSG00000166033'\n",
       "22. 'ENSG00000169896'\n",
       "23. 'ENSG00000174705'\n",
       "24. 'ENSG00000196562'\n",
       "25. 'ENSG00000197635'\n",
       "\n",
       "\n",
       "\n",
       "$`GO:0043312`\n",
       ":   1. 'ENSG00000008516'\n",
       "2. 'ENSG00000012779'\n",
       "3. 'ENSG00000018280'\n",
       "4. 'ENSG00000075651'\n",
       "5. 'ENSG00000102393'\n",
       "6. 'ENSG00000103196'\n",
       "7. 'ENSG00000115828'\n",
       "8. 'ENSG00000117115'\n",
       "9. 'ENSG00000125810'\n",
       "10. 'ENSG00000126759'\n",
       "11. 'ENSG00000131355'\n",
       "12. 'ENSG00000140678'\n",
       "13. 'ENSG00000143546'\n",
       "14. 'ENSG00000158825'\n",
       "15. 'ENSG00000163220'\n",
       "16. 'ENSG00000163221'\n",
       "17. 'ENSG00000163464'\n",
       "18. 'ENSG00000163661'\n",
       "19. 'ENSG00000164047'\n",
       "20. 'ENSG00000167851'\n",
       "21. 'ENSG00000169896'\n",
       "22. 'ENSG00000170458'\n",
       "23. 'ENSG00000171049'\n",
       "24. 'ENSG00000171051'\n",
       "25. 'ENSG00000173083'\n",
       "26. 'ENSG00000179163'\n",
       "\n",
       "\n",
       "\n",
       "$`GO:0006954`\n",
       ":   1. 'ENSG00000008516'\n",
       "2. 'ENSG00000012779'\n",
       "3. 'ENSG00000018280'\n",
       "4. 'ENSG00000089041'\n",
       "5. 'ENSG00000090339'\n",
       "6. 'ENSG00000099985'\n",
       "7. 'ENSG00000102265'\n",
       "8. 'ENSG00000102962'\n",
       "9. 'ENSG00000103313'\n",
       "10. 'ENSG00000106178'\n",
       "11. 'ENSG00000115414'\n",
       "12. 'ENSG00000115590'\n",
       "13. 'ENSG00000118432'\n",
       "14. 'ENSG00000123384'\n",
       "15. 'ENSG00000127507'\n",
       "16. 'ENSG00000130775'\n",
       "17. 'ENSG00000132386'\n",
       "18. 'ENSG00000134780'\n",
       "19. 'ENSG00000136826'\n",
       "20. 'ENSG00000137757'\n",
       "21. 'ENSG00000137801'\n",
       "22. 'ENSG00000142405'\n",
       "23. 'ENSG00000143546'\n",
       "24. 'ENSG00000148926'\n",
       "25. 'ENSG00000150782'\n",
       "26. 'ENSG00000156711'\n",
       "27. 'ENSG00000160013'\n",
       "28. 'ENSG00000162711'\n",
       "29. 'ENSG00000163220'\n",
       "30. 'ENSG00000163221'\n",
       "31. 'ENSG00000163661'\n",
       "32. 'ENSG00000167207'\n",
       "33. 'ENSG00000169896'\n",
       "34. 'ENSG00000169902'\n",
       "35. 'ENSG00000170458'\n",
       "36. 'ENSG00000171049'\n",
       "37. 'ENSG00000171051'\n",
       "38. 'ENSG00000184371'\n",
       "39. 'ENSG00000186827'\n",
       "40. 'ENSG00000187116'\n",
       "41. 'ENSG00000196126'\n",
       "42. 'ENSG00000196839'\n",
       "43. 'ENSG00000204475'\n",
       "\n",
       "\n",
       "\n",
       "$`GO:0019221`\n",
       ":   1. 'ENSG00000012779'\n",
       "2. 'ENSG00000019582'\n",
       "3. 'ENSG00000075618'\n",
       "4. 'ENSG00000090339'\n",
       "5. 'ENSG00000099985'\n",
       "6. 'ENSG00000102265'\n",
       "7. 'ENSG00000102962'\n",
       "8. 'ENSG00000106178'\n",
       "9. 'ENSG00000112715'\n",
       "10. 'ENSG00000115414'\n",
       "11. 'ENSG00000115590'\n",
       "12. 'ENSG00000116574'\n",
       "13. 'ENSG00000117115'\n",
       "14. 'ENSG00000117228'\n",
       "15. 'ENSG00000119535'\n",
       "16. 'ENSG00000120949'\n",
       "17. 'ENSG00000124491'\n",
       "18. 'ENSG00000124762'\n",
       "19. 'ENSG00000128604'\n",
       "20. 'ENSG00000140678'\n",
       "21. 'ENSG00000142089'\n",
       "22. 'ENSG00000150782'\n",
       "23. 'ENSG00000163464'\n",
       "24. 'ENSG00000167207'\n",
       "25. 'ENSG00000168329'\n",
       "26. 'ENSG00000169896'\n",
       "27. 'ENSG00000171051'\n",
       "28. 'ENSG00000178623'\n",
       "29. 'ENSG00000179344'\n",
       "30. 'ENSG00000181634'\n",
       "31. 'ENSG00000184371'\n",
       "32. 'ENSG00000186074'\n",
       "33. 'ENSG00000186827'\n",
       "34. 'ENSG00000186891'\n",
       "35. 'ENSG00000196126'\n",
       "36. 'ENSG00000196735'\n",
       "37. 'ENSG00000198223'\n",
       "38. 'ENSG00000198502'\n",
       "39. 'ENSG00000204287'\n",
       "40. 'ENSG00000205755'\n",
       "41. 'ENSG00000223865'\n",
       "42. 'ENSG00000231389'\n",
       "43. 'ENSG00000232629'\n",
       "\n",
       "\n",
       "\n",
       "\n",
       "\n"
      ],
      "text/plain": [
       "$`GO:0002250`\n",
       " [1] \"ENSG00000018280\" \"ENSG00000019582\" \"ENSG00000028277\" \"ENSG00000089041\"\n",
       " [5] \"ENSG00000090339\" \"ENSG00000101384\" \"ENSG00000104974\" \"ENSG00000116514\"\n",
       " [9] \"ENSG00000135047\" \"ENSG00000136630\" \"ENSG00000146072\" \"ENSG00000150782\"\n",
       "[13] \"ENSG00000160223\" \"ENSG00000162711\" \"ENSG00000163508\" \"ENSG00000174837\"\n",
       "[17] \"ENSG00000179344\" \"ENSG00000186818\" \"ENSG00000196126\" \"ENSG00000196735\"\n",
       "[21] \"ENSG00000196839\" \"ENSG00000198502\" \"ENSG00000204287\" \"ENSG00000223865\"\n",
       "[25] \"ENSG00000231389\" \"ENSG00000232629\"\n",
       "\n",
       "$`GO:0060333`\n",
       " [1] \"ENSG00000090339\" \"ENSG00000117228\" \"ENSG00000128604\" \"ENSG00000179344\"\n",
       " [5] \"ENSG00000196126\" \"ENSG00000196735\" \"ENSG00000198502\" \"ENSG00000204287\"\n",
       " [9] \"ENSG00000223865\" \"ENSG00000231389\" \"ENSG00000232629\"\n",
       "\n",
       "$`GO:0030198`\n",
       " [1] \"ENSG00000008516\" \"ENSG00000019144\" \"ENSG00000075618\" \"ENSG00000083457\"\n",
       " [5] \"ENSG00000090339\" \"ENSG00000095209\" \"ENSG00000100767\" \"ENSG00000102265\"\n",
       " [9] \"ENSG00000103196\" \"ENSG00000115414\" \"ENSG00000116962\" \"ENSG00000123342\"\n",
       "[13] \"ENSG00000123384\" \"ENSG00000135047\" \"ENSG00000135862\" \"ENSG00000137801\"\n",
       "[17] \"ENSG00000138829\" \"ENSG00000140678\" \"ENSG00000162493\" \"ENSG00000163661\"\n",
       "[21] \"ENSG00000166033\" \"ENSG00000169896\" \"ENSG00000174705\" \"ENSG00000196562\"\n",
       "[25] \"ENSG00000197635\"\n",
       "\n",
       "$`GO:0043312`\n",
       " [1] \"ENSG00000008516\" \"ENSG00000012779\" \"ENSG00000018280\" \"ENSG00000075651\"\n",
       " [5] \"ENSG00000102393\" \"ENSG00000103196\" \"ENSG00000115828\" \"ENSG00000117115\"\n",
       " [9] \"ENSG00000125810\" \"ENSG00000126759\" \"ENSG00000131355\" \"ENSG00000140678\"\n",
       "[13] \"ENSG00000143546\" \"ENSG00000158825\" \"ENSG00000163220\" \"ENSG00000163221\"\n",
       "[17] \"ENSG00000163464\" \"ENSG00000163661\" \"ENSG00000164047\" \"ENSG00000167851\"\n",
       "[21] \"ENSG00000169896\" \"ENSG00000170458\" \"ENSG00000171049\" \"ENSG00000171051\"\n",
       "[25] \"ENSG00000173083\" \"ENSG00000179163\"\n",
       "\n",
       "$`GO:0006954`\n",
       " [1] \"ENSG00000008516\" \"ENSG00000012779\" \"ENSG00000018280\" \"ENSG00000089041\"\n",
       " [5] \"ENSG00000090339\" \"ENSG00000099985\" \"ENSG00000102265\" \"ENSG00000102962\"\n",
       " [9] \"ENSG00000103313\" \"ENSG00000106178\" \"ENSG00000115414\" \"ENSG00000115590\"\n",
       "[13] \"ENSG00000118432\" \"ENSG00000123384\" \"ENSG00000127507\" \"ENSG00000130775\"\n",
       "[17] \"ENSG00000132386\" \"ENSG00000134780\" \"ENSG00000136826\" \"ENSG00000137757\"\n",
       "[21] \"ENSG00000137801\" \"ENSG00000142405\" \"ENSG00000143546\" \"ENSG00000148926\"\n",
       "[25] \"ENSG00000150782\" \"ENSG00000156711\" \"ENSG00000160013\" \"ENSG00000162711\"\n",
       "[29] \"ENSG00000163220\" \"ENSG00000163221\" \"ENSG00000163661\" \"ENSG00000167207\"\n",
       "[33] \"ENSG00000169896\" \"ENSG00000169902\" \"ENSG00000170458\" \"ENSG00000171049\"\n",
       "[37] \"ENSG00000171051\" \"ENSG00000184371\" \"ENSG00000186827\" \"ENSG00000187116\"\n",
       "[41] \"ENSG00000196126\" \"ENSG00000196839\" \"ENSG00000204475\"\n",
       "\n",
       "$`GO:0019221`\n",
       " [1] \"ENSG00000012779\" \"ENSG00000019582\" \"ENSG00000075618\" \"ENSG00000090339\"\n",
       " [5] \"ENSG00000099985\" \"ENSG00000102265\" \"ENSG00000102962\" \"ENSG00000106178\"\n",
       " [9] \"ENSG00000112715\" \"ENSG00000115414\" \"ENSG00000115590\" \"ENSG00000116574\"\n",
       "[13] \"ENSG00000117115\" \"ENSG00000117228\" \"ENSG00000119535\" \"ENSG00000120949\"\n",
       "[17] \"ENSG00000124491\" \"ENSG00000124762\" \"ENSG00000128604\" \"ENSG00000140678\"\n",
       "[21] \"ENSG00000142089\" \"ENSG00000150782\" \"ENSG00000163464\" \"ENSG00000167207\"\n",
       "[25] \"ENSG00000168329\" \"ENSG00000169896\" \"ENSG00000171051\" \"ENSG00000178623\"\n",
       "[29] \"ENSG00000179344\" \"ENSG00000181634\" \"ENSG00000184371\" \"ENSG00000186074\"\n",
       "[33] \"ENSG00000186827\" \"ENSG00000186891\" \"ENSG00000196126\" \"ENSG00000196735\"\n",
       "[37] \"ENSG00000198223\" \"ENSG00000198502\" \"ENSG00000204287\" \"ENSG00000205755\"\n",
       "[41] \"ENSG00000223865\" \"ENSG00000231389\" \"ENSG00000232629\"\n"
      ]
     },
     "metadata": {},
     "output_type": "display_data"
    }
   ],
   "source": [
    "head (go_table$genes)"
   ]
  },
  {
   "cell_type": "code",
   "execution_count": 47,
   "id": "coral-algeria",
   "metadata": {},
   "outputs": [
    {
     "data": {
      "text/html": [
       "'GO:0002250'"
      ],
      "text/latex": [
       "'GO:0002250'"
      ],
      "text/markdown": [
       "'GO:0002250'"
      ],
      "text/plain": [
       "[1] \"GO:0002250\""
      ]
     },
     "metadata": {},
     "output_type": "display_data"
    }
   ],
   "source": [
    "go_table[1,1]"
   ]
  },
  {
   "cell_type": "code",
   "execution_count": 48,
   "id": "expressed-comment",
   "metadata": {},
   "outputs": [
    {
     "data": {
      "text/html": [
       "<style>\n",
       ".list-inline {list-style: none; margin:0; padding: 0}\n",
       ".list-inline>li {display: inline-block}\n",
       ".list-inline>li:not(:last-child)::after {content: \"\\00b7\"; padding: 0 .5ex}\n",
       "</style>\n",
       "<ol class=list-inline><li>'ENSG00000018280'</li><li>'ENSG00000019582'</li><li>'ENSG00000028277'</li><li>'ENSG00000089041'</li><li>'ENSG00000090339'</li><li>'ENSG00000101384'</li><li>'ENSG00000104974'</li><li>'ENSG00000116514'</li><li>'ENSG00000135047'</li><li>'ENSG00000136630'</li><li>'ENSG00000146072'</li><li>'ENSG00000150782'</li><li>'ENSG00000160223'</li><li>'ENSG00000162711'</li><li>'ENSG00000163508'</li><li>'ENSG00000174837'</li><li>'ENSG00000179344'</li><li>'ENSG00000186818'</li><li>'ENSG00000196126'</li><li>'ENSG00000196735'</li><li>'ENSG00000196839'</li><li>'ENSG00000198502'</li><li>'ENSG00000204287'</li><li>'ENSG00000223865'</li><li>'ENSG00000231389'</li><li>'ENSG00000232629'</li></ol>\n"
      ],
      "text/latex": [
       "\\begin{enumerate*}\n",
       "\\item 'ENSG00000018280'\n",
       "\\item 'ENSG00000019582'\n",
       "\\item 'ENSG00000028277'\n",
       "\\item 'ENSG00000089041'\n",
       "\\item 'ENSG00000090339'\n",
       "\\item 'ENSG00000101384'\n",
       "\\item 'ENSG00000104974'\n",
       "\\item 'ENSG00000116514'\n",
       "\\item 'ENSG00000135047'\n",
       "\\item 'ENSG00000136630'\n",
       "\\item 'ENSG00000146072'\n",
       "\\item 'ENSG00000150782'\n",
       "\\item 'ENSG00000160223'\n",
       "\\item 'ENSG00000162711'\n",
       "\\item 'ENSG00000163508'\n",
       "\\item 'ENSG00000174837'\n",
       "\\item 'ENSG00000179344'\n",
       "\\item 'ENSG00000186818'\n",
       "\\item 'ENSG00000196126'\n",
       "\\item 'ENSG00000196735'\n",
       "\\item 'ENSG00000196839'\n",
       "\\item 'ENSG00000198502'\n",
       "\\item 'ENSG00000204287'\n",
       "\\item 'ENSG00000223865'\n",
       "\\item 'ENSG00000231389'\n",
       "\\item 'ENSG00000232629'\n",
       "\\end{enumerate*}\n"
      ],
      "text/markdown": [
       "1. 'ENSG00000018280'\n",
       "2. 'ENSG00000019582'\n",
       "3. 'ENSG00000028277'\n",
       "4. 'ENSG00000089041'\n",
       "5. 'ENSG00000090339'\n",
       "6. 'ENSG00000101384'\n",
       "7. 'ENSG00000104974'\n",
       "8. 'ENSG00000116514'\n",
       "9. 'ENSG00000135047'\n",
       "10. 'ENSG00000136630'\n",
       "11. 'ENSG00000146072'\n",
       "12. 'ENSG00000150782'\n",
       "13. 'ENSG00000160223'\n",
       "14. 'ENSG00000162711'\n",
       "15. 'ENSG00000163508'\n",
       "16. 'ENSG00000174837'\n",
       "17. 'ENSG00000179344'\n",
       "18. 'ENSG00000186818'\n",
       "19. 'ENSG00000196126'\n",
       "20. 'ENSG00000196735'\n",
       "21. 'ENSG00000196839'\n",
       "22. 'ENSG00000198502'\n",
       "23. 'ENSG00000204287'\n",
       "24. 'ENSG00000223865'\n",
       "25. 'ENSG00000231389'\n",
       "26. 'ENSG00000232629'\n",
       "\n",
       "\n"
      ],
      "text/plain": [
       " [1] \"ENSG00000018280\" \"ENSG00000019582\" \"ENSG00000028277\" \"ENSG00000089041\"\n",
       " [5] \"ENSG00000090339\" \"ENSG00000101384\" \"ENSG00000104974\" \"ENSG00000116514\"\n",
       " [9] \"ENSG00000135047\" \"ENSG00000136630\" \"ENSG00000146072\" \"ENSG00000150782\"\n",
       "[13] \"ENSG00000160223\" \"ENSG00000162711\" \"ENSG00000163508\" \"ENSG00000174837\"\n",
       "[17] \"ENSG00000179344\" \"ENSG00000186818\" \"ENSG00000196126\" \"ENSG00000196735\"\n",
       "[21] \"ENSG00000196839\" \"ENSG00000198502\" \"ENSG00000204287\" \"ENSG00000223865\"\n",
       "[25] \"ENSG00000231389\" \"ENSG00000232629\""
      ]
     },
     "metadata": {},
     "output_type": "display_data"
    }
   ],
   "source": [
    "first = go_table$genes$\"GO:0002250\"\n",
    "first"
   ]
  },
  {
   "cell_type": "code",
   "execution_count": 49,
   "id": "confident-catalog",
   "metadata": {},
   "outputs": [
    {
     "data": {
      "text/html": [
       "'GO:0060333'"
      ],
      "text/latex": [
       "'GO:0060333'"
      ],
      "text/markdown": [
       "'GO:0060333'"
      ],
      "text/plain": [
       "[1] \"GO:0060333\""
      ]
     },
     "metadata": {},
     "output_type": "display_data"
    }
   ],
   "source": [
    "go_table[2,1]"
   ]
  },
  {
   "cell_type": "code",
   "execution_count": 50,
   "id": "plain-andrews",
   "metadata": {},
   "outputs": [
    {
     "data": {
      "text/html": [
       "<style>\n",
       ".list-inline {list-style: none; margin:0; padding: 0}\n",
       ".list-inline>li {display: inline-block}\n",
       ".list-inline>li:not(:last-child)::after {content: \"\\00b7\"; padding: 0 .5ex}\n",
       "</style>\n",
       "<ol class=list-inline><li>'ENSG00000090339'</li><li>'ENSG00000117228'</li><li>'ENSG00000128604'</li><li>'ENSG00000179344'</li><li>'ENSG00000196126'</li><li>'ENSG00000196735'</li><li>'ENSG00000198502'</li><li>'ENSG00000204287'</li><li>'ENSG00000223865'</li><li>'ENSG00000231389'</li><li>'ENSG00000232629'</li></ol>\n"
      ],
      "text/latex": [
       "\\begin{enumerate*}\n",
       "\\item 'ENSG00000090339'\n",
       "\\item 'ENSG00000117228'\n",
       "\\item 'ENSG00000128604'\n",
       "\\item 'ENSG00000179344'\n",
       "\\item 'ENSG00000196126'\n",
       "\\item 'ENSG00000196735'\n",
       "\\item 'ENSG00000198502'\n",
       "\\item 'ENSG00000204287'\n",
       "\\item 'ENSG00000223865'\n",
       "\\item 'ENSG00000231389'\n",
       "\\item 'ENSG00000232629'\n",
       "\\end{enumerate*}\n"
      ],
      "text/markdown": [
       "1. 'ENSG00000090339'\n",
       "2. 'ENSG00000117228'\n",
       "3. 'ENSG00000128604'\n",
       "4. 'ENSG00000179344'\n",
       "5. 'ENSG00000196126'\n",
       "6. 'ENSG00000196735'\n",
       "7. 'ENSG00000198502'\n",
       "8. 'ENSG00000204287'\n",
       "9. 'ENSG00000223865'\n",
       "10. 'ENSG00000231389'\n",
       "11. 'ENSG00000232629'\n",
       "\n",
       "\n"
      ],
      "text/plain": [
       " [1] \"ENSG00000090339\" \"ENSG00000117228\" \"ENSG00000128604\" \"ENSG00000179344\"\n",
       " [5] \"ENSG00000196126\" \"ENSG00000196735\" \"ENSG00000198502\" \"ENSG00000204287\"\n",
       " [9] \"ENSG00000223865\" \"ENSG00000231389\" \"ENSG00000232629\""
      ]
     },
     "metadata": {},
     "output_type": "display_data"
    }
   ],
   "source": [
    "second = go_table$genes$'GO:0060333'\n",
    "second"
   ]
  },
  {
   "cell_type": "code",
   "execution_count": 51,
   "id": "voluntary-george",
   "metadata": {},
   "outputs": [
    {
     "data": {
      "text/html": [
       "'GO:0030198'"
      ],
      "text/latex": [
       "'GO:0030198'"
      ],
      "text/markdown": [
       "'GO:0030198'"
      ],
      "text/plain": [
       "[1] \"GO:0030198\""
      ]
     },
     "metadata": {},
     "output_type": "display_data"
    }
   ],
   "source": [
    "go_table[3,1]"
   ]
  },
  {
   "cell_type": "code",
   "execution_count": 52,
   "id": "worst-nowhere",
   "metadata": {},
   "outputs": [
    {
     "data": {
      "text/html": [
       "<style>\n",
       ".list-inline {list-style: none; margin:0; padding: 0}\n",
       ".list-inline>li {display: inline-block}\n",
       ".list-inline>li:not(:last-child)::after {content: \"\\00b7\"; padding: 0 .5ex}\n",
       "</style>\n",
       "<ol class=list-inline><li>'ENSG00000008516'</li><li>'ENSG00000019144'</li><li>'ENSG00000075618'</li><li>'ENSG00000083457'</li><li>'ENSG00000090339'</li><li>'ENSG00000095209'</li><li>'ENSG00000100767'</li><li>'ENSG00000102265'</li><li>'ENSG00000103196'</li><li>'ENSG00000115414'</li><li>'ENSG00000116962'</li><li>'ENSG00000123342'</li><li>'ENSG00000123384'</li><li>'ENSG00000135047'</li><li>'ENSG00000135862'</li><li>'ENSG00000137801'</li><li>'ENSG00000138829'</li><li>'ENSG00000140678'</li><li>'ENSG00000162493'</li><li>'ENSG00000163661'</li><li>'ENSG00000166033'</li><li>'ENSG00000169896'</li><li>'ENSG00000174705'</li><li>'ENSG00000196562'</li><li>'ENSG00000197635'</li></ol>\n"
      ],
      "text/latex": [
       "\\begin{enumerate*}\n",
       "\\item 'ENSG00000008516'\n",
       "\\item 'ENSG00000019144'\n",
       "\\item 'ENSG00000075618'\n",
       "\\item 'ENSG00000083457'\n",
       "\\item 'ENSG00000090339'\n",
       "\\item 'ENSG00000095209'\n",
       "\\item 'ENSG00000100767'\n",
       "\\item 'ENSG00000102265'\n",
       "\\item 'ENSG00000103196'\n",
       "\\item 'ENSG00000115414'\n",
       "\\item 'ENSG00000116962'\n",
       "\\item 'ENSG00000123342'\n",
       "\\item 'ENSG00000123384'\n",
       "\\item 'ENSG00000135047'\n",
       "\\item 'ENSG00000135862'\n",
       "\\item 'ENSG00000137801'\n",
       "\\item 'ENSG00000138829'\n",
       "\\item 'ENSG00000140678'\n",
       "\\item 'ENSG00000162493'\n",
       "\\item 'ENSG00000163661'\n",
       "\\item 'ENSG00000166033'\n",
       "\\item 'ENSG00000169896'\n",
       "\\item 'ENSG00000174705'\n",
       "\\item 'ENSG00000196562'\n",
       "\\item 'ENSG00000197635'\n",
       "\\end{enumerate*}\n"
      ],
      "text/markdown": [
       "1. 'ENSG00000008516'\n",
       "2. 'ENSG00000019144'\n",
       "3. 'ENSG00000075618'\n",
       "4. 'ENSG00000083457'\n",
       "5. 'ENSG00000090339'\n",
       "6. 'ENSG00000095209'\n",
       "7. 'ENSG00000100767'\n",
       "8. 'ENSG00000102265'\n",
       "9. 'ENSG00000103196'\n",
       "10. 'ENSG00000115414'\n",
       "11. 'ENSG00000116962'\n",
       "12. 'ENSG00000123342'\n",
       "13. 'ENSG00000123384'\n",
       "14. 'ENSG00000135047'\n",
       "15. 'ENSG00000135862'\n",
       "16. 'ENSG00000137801'\n",
       "17. 'ENSG00000138829'\n",
       "18. 'ENSG00000140678'\n",
       "19. 'ENSG00000162493'\n",
       "20. 'ENSG00000163661'\n",
       "21. 'ENSG00000166033'\n",
       "22. 'ENSG00000169896'\n",
       "23. 'ENSG00000174705'\n",
       "24. 'ENSG00000196562'\n",
       "25. 'ENSG00000197635'\n",
       "\n",
       "\n"
      ],
      "text/plain": [
       " [1] \"ENSG00000008516\" \"ENSG00000019144\" \"ENSG00000075618\" \"ENSG00000083457\"\n",
       " [5] \"ENSG00000090339\" \"ENSG00000095209\" \"ENSG00000100767\" \"ENSG00000102265\"\n",
       " [9] \"ENSG00000103196\" \"ENSG00000115414\" \"ENSG00000116962\" \"ENSG00000123342\"\n",
       "[13] \"ENSG00000123384\" \"ENSG00000135047\" \"ENSG00000135862\" \"ENSG00000137801\"\n",
       "[17] \"ENSG00000138829\" \"ENSG00000140678\" \"ENSG00000162493\" \"ENSG00000163661\"\n",
       "[21] \"ENSG00000166033\" \"ENSG00000169896\" \"ENSG00000174705\" \"ENSG00000196562\"\n",
       "[25] \"ENSG00000197635\""
      ]
     },
     "metadata": {},
     "output_type": "display_data"
    }
   ],
   "source": [
    "third = go_table$genes$'GO:0030198'\n",
    "third"
   ]
  },
  {
   "cell_type": "code",
   "execution_count": 53,
   "id": "tribal-norfolk",
   "metadata": {},
   "outputs": [
    {
     "data": {
      "text/html": [
       "'GO:0043312'"
      ],
      "text/latex": [
       "'GO:0043312'"
      ],
      "text/markdown": [
       "'GO:0043312'"
      ],
      "text/plain": [
       "[1] \"GO:0043312\""
      ]
     },
     "metadata": {},
     "output_type": "display_data"
    }
   ],
   "source": [
    "go_table[4,1]"
   ]
  },
  {
   "cell_type": "code",
   "execution_count": 54,
   "id": "ranking-green",
   "metadata": {},
   "outputs": [
    {
     "data": {
      "text/html": [
       "<style>\n",
       ".list-inline {list-style: none; margin:0; padding: 0}\n",
       ".list-inline>li {display: inline-block}\n",
       ".list-inline>li:not(:last-child)::after {content: \"\\00b7\"; padding: 0 .5ex}\n",
       "</style>\n",
       "<ol class=list-inline><li>'ENSG00000008516'</li><li>'ENSG00000012779'</li><li>'ENSG00000018280'</li><li>'ENSG00000075651'</li><li>'ENSG00000102393'</li><li>'ENSG00000103196'</li><li>'ENSG00000115828'</li><li>'ENSG00000117115'</li><li>'ENSG00000125810'</li><li>'ENSG00000126759'</li><li>'ENSG00000131355'</li><li>'ENSG00000140678'</li><li>'ENSG00000143546'</li><li>'ENSG00000158825'</li><li>'ENSG00000163220'</li><li>'ENSG00000163221'</li><li>'ENSG00000163464'</li><li>'ENSG00000163661'</li><li>'ENSG00000164047'</li><li>'ENSG00000167851'</li><li>'ENSG00000169896'</li><li>'ENSG00000170458'</li><li>'ENSG00000171049'</li><li>'ENSG00000171051'</li><li>'ENSG00000173083'</li><li>'ENSG00000179163'</li></ol>\n"
      ],
      "text/latex": [
       "\\begin{enumerate*}\n",
       "\\item 'ENSG00000008516'\n",
       "\\item 'ENSG00000012779'\n",
       "\\item 'ENSG00000018280'\n",
       "\\item 'ENSG00000075651'\n",
       "\\item 'ENSG00000102393'\n",
       "\\item 'ENSG00000103196'\n",
       "\\item 'ENSG00000115828'\n",
       "\\item 'ENSG00000117115'\n",
       "\\item 'ENSG00000125810'\n",
       "\\item 'ENSG00000126759'\n",
       "\\item 'ENSG00000131355'\n",
       "\\item 'ENSG00000140678'\n",
       "\\item 'ENSG00000143546'\n",
       "\\item 'ENSG00000158825'\n",
       "\\item 'ENSG00000163220'\n",
       "\\item 'ENSG00000163221'\n",
       "\\item 'ENSG00000163464'\n",
       "\\item 'ENSG00000163661'\n",
       "\\item 'ENSG00000164047'\n",
       "\\item 'ENSG00000167851'\n",
       "\\item 'ENSG00000169896'\n",
       "\\item 'ENSG00000170458'\n",
       "\\item 'ENSG00000171049'\n",
       "\\item 'ENSG00000171051'\n",
       "\\item 'ENSG00000173083'\n",
       "\\item 'ENSG00000179163'\n",
       "\\end{enumerate*}\n"
      ],
      "text/markdown": [
       "1. 'ENSG00000008516'\n",
       "2. 'ENSG00000012779'\n",
       "3. 'ENSG00000018280'\n",
       "4. 'ENSG00000075651'\n",
       "5. 'ENSG00000102393'\n",
       "6. 'ENSG00000103196'\n",
       "7. 'ENSG00000115828'\n",
       "8. 'ENSG00000117115'\n",
       "9. 'ENSG00000125810'\n",
       "10. 'ENSG00000126759'\n",
       "11. 'ENSG00000131355'\n",
       "12. 'ENSG00000140678'\n",
       "13. 'ENSG00000143546'\n",
       "14. 'ENSG00000158825'\n",
       "15. 'ENSG00000163220'\n",
       "16. 'ENSG00000163221'\n",
       "17. 'ENSG00000163464'\n",
       "18. 'ENSG00000163661'\n",
       "19. 'ENSG00000164047'\n",
       "20. 'ENSG00000167851'\n",
       "21. 'ENSG00000169896'\n",
       "22. 'ENSG00000170458'\n",
       "23. 'ENSG00000171049'\n",
       "24. 'ENSG00000171051'\n",
       "25. 'ENSG00000173083'\n",
       "26. 'ENSG00000179163'\n",
       "\n",
       "\n"
      ],
      "text/plain": [
       " [1] \"ENSG00000008516\" \"ENSG00000012779\" \"ENSG00000018280\" \"ENSG00000075651\"\n",
       " [5] \"ENSG00000102393\" \"ENSG00000103196\" \"ENSG00000115828\" \"ENSG00000117115\"\n",
       " [9] \"ENSG00000125810\" \"ENSG00000126759\" \"ENSG00000131355\" \"ENSG00000140678\"\n",
       "[13] \"ENSG00000143546\" \"ENSG00000158825\" \"ENSG00000163220\" \"ENSG00000163221\"\n",
       "[17] \"ENSG00000163464\" \"ENSG00000163661\" \"ENSG00000164047\" \"ENSG00000167851\"\n",
       "[21] \"ENSG00000169896\" \"ENSG00000170458\" \"ENSG00000171049\" \"ENSG00000171051\"\n",
       "[25] \"ENSG00000173083\" \"ENSG00000179163\""
      ]
     },
     "metadata": {},
     "output_type": "display_data"
    }
   ],
   "source": [
    "forth = go_table$genes$'GO:0043312'\n",
    "forth"
   ]
  },
  {
   "cell_type": "code",
   "execution_count": 55,
   "id": "external-clause",
   "metadata": {},
   "outputs": [
    {
     "data": {
      "text/html": [
       "'GO:0006954'"
      ],
      "text/latex": [
       "'GO:0006954'"
      ],
      "text/markdown": [
       "'GO:0006954'"
      ],
      "text/plain": [
       "[1] \"GO:0006954\""
      ]
     },
     "metadata": {},
     "output_type": "display_data"
    }
   ],
   "source": [
    "go_table[5,1]"
   ]
  },
  {
   "cell_type": "code",
   "execution_count": 56,
   "id": "future-despite",
   "metadata": {},
   "outputs": [
    {
     "data": {
      "text/html": [
       "<style>\n",
       ".list-inline {list-style: none; margin:0; padding: 0}\n",
       ".list-inline>li {display: inline-block}\n",
       ".list-inline>li:not(:last-child)::after {content: \"\\00b7\"; padding: 0 .5ex}\n",
       "</style>\n",
       "<ol class=list-inline><li>'ENSG00000008516'</li><li>'ENSG00000012779'</li><li>'ENSG00000018280'</li><li>'ENSG00000089041'</li><li>'ENSG00000090339'</li><li>'ENSG00000099985'</li><li>'ENSG00000102265'</li><li>'ENSG00000102962'</li><li>'ENSG00000103313'</li><li>'ENSG00000106178'</li><li>'ENSG00000115414'</li><li>'ENSG00000115590'</li><li>'ENSG00000118432'</li><li>'ENSG00000123384'</li><li>'ENSG00000127507'</li><li>'ENSG00000130775'</li><li>'ENSG00000132386'</li><li>'ENSG00000134780'</li><li>'ENSG00000136826'</li><li>'ENSG00000137757'</li><li>'ENSG00000137801'</li><li>'ENSG00000142405'</li><li>'ENSG00000143546'</li><li>'ENSG00000148926'</li><li>'ENSG00000150782'</li><li>'ENSG00000156711'</li><li>'ENSG00000160013'</li><li>'ENSG00000162711'</li><li>'ENSG00000163220'</li><li>'ENSG00000163221'</li><li>'ENSG00000163661'</li><li>'ENSG00000167207'</li><li>'ENSG00000169896'</li><li>'ENSG00000169902'</li><li>'ENSG00000170458'</li><li>'ENSG00000171049'</li><li>'ENSG00000171051'</li><li>'ENSG00000184371'</li><li>'ENSG00000186827'</li><li>'ENSG00000187116'</li><li>'ENSG00000196126'</li><li>'ENSG00000196839'</li><li>'ENSG00000204475'</li></ol>\n"
      ],
      "text/latex": [
       "\\begin{enumerate*}\n",
       "\\item 'ENSG00000008516'\n",
       "\\item 'ENSG00000012779'\n",
       "\\item 'ENSG00000018280'\n",
       "\\item 'ENSG00000089041'\n",
       "\\item 'ENSG00000090339'\n",
       "\\item 'ENSG00000099985'\n",
       "\\item 'ENSG00000102265'\n",
       "\\item 'ENSG00000102962'\n",
       "\\item 'ENSG00000103313'\n",
       "\\item 'ENSG00000106178'\n",
       "\\item 'ENSG00000115414'\n",
       "\\item 'ENSG00000115590'\n",
       "\\item 'ENSG00000118432'\n",
       "\\item 'ENSG00000123384'\n",
       "\\item 'ENSG00000127507'\n",
       "\\item 'ENSG00000130775'\n",
       "\\item 'ENSG00000132386'\n",
       "\\item 'ENSG00000134780'\n",
       "\\item 'ENSG00000136826'\n",
       "\\item 'ENSG00000137757'\n",
       "\\item 'ENSG00000137801'\n",
       "\\item 'ENSG00000142405'\n",
       "\\item 'ENSG00000143546'\n",
       "\\item 'ENSG00000148926'\n",
       "\\item 'ENSG00000150782'\n",
       "\\item 'ENSG00000156711'\n",
       "\\item 'ENSG00000160013'\n",
       "\\item 'ENSG00000162711'\n",
       "\\item 'ENSG00000163220'\n",
       "\\item 'ENSG00000163221'\n",
       "\\item 'ENSG00000163661'\n",
       "\\item 'ENSG00000167207'\n",
       "\\item 'ENSG00000169896'\n",
       "\\item 'ENSG00000169902'\n",
       "\\item 'ENSG00000170458'\n",
       "\\item 'ENSG00000171049'\n",
       "\\item 'ENSG00000171051'\n",
       "\\item 'ENSG00000184371'\n",
       "\\item 'ENSG00000186827'\n",
       "\\item 'ENSG00000187116'\n",
       "\\item 'ENSG00000196126'\n",
       "\\item 'ENSG00000196839'\n",
       "\\item 'ENSG00000204475'\n",
       "\\end{enumerate*}\n"
      ],
      "text/markdown": [
       "1. 'ENSG00000008516'\n",
       "2. 'ENSG00000012779'\n",
       "3. 'ENSG00000018280'\n",
       "4. 'ENSG00000089041'\n",
       "5. 'ENSG00000090339'\n",
       "6. 'ENSG00000099985'\n",
       "7. 'ENSG00000102265'\n",
       "8. 'ENSG00000102962'\n",
       "9. 'ENSG00000103313'\n",
       "10. 'ENSG00000106178'\n",
       "11. 'ENSG00000115414'\n",
       "12. 'ENSG00000115590'\n",
       "13. 'ENSG00000118432'\n",
       "14. 'ENSG00000123384'\n",
       "15. 'ENSG00000127507'\n",
       "16. 'ENSG00000130775'\n",
       "17. 'ENSG00000132386'\n",
       "18. 'ENSG00000134780'\n",
       "19. 'ENSG00000136826'\n",
       "20. 'ENSG00000137757'\n",
       "21. 'ENSG00000137801'\n",
       "22. 'ENSG00000142405'\n",
       "23. 'ENSG00000143546'\n",
       "24. 'ENSG00000148926'\n",
       "25. 'ENSG00000150782'\n",
       "26. 'ENSG00000156711'\n",
       "27. 'ENSG00000160013'\n",
       "28. 'ENSG00000162711'\n",
       "29. 'ENSG00000163220'\n",
       "30. 'ENSG00000163221'\n",
       "31. 'ENSG00000163661'\n",
       "32. 'ENSG00000167207'\n",
       "33. 'ENSG00000169896'\n",
       "34. 'ENSG00000169902'\n",
       "35. 'ENSG00000170458'\n",
       "36. 'ENSG00000171049'\n",
       "37. 'ENSG00000171051'\n",
       "38. 'ENSG00000184371'\n",
       "39. 'ENSG00000186827'\n",
       "40. 'ENSG00000187116'\n",
       "41. 'ENSG00000196126'\n",
       "42. 'ENSG00000196839'\n",
       "43. 'ENSG00000204475'\n",
       "\n",
       "\n"
      ],
      "text/plain": [
       " [1] \"ENSG00000008516\" \"ENSG00000012779\" \"ENSG00000018280\" \"ENSG00000089041\"\n",
       " [5] \"ENSG00000090339\" \"ENSG00000099985\" \"ENSG00000102265\" \"ENSG00000102962\"\n",
       " [9] \"ENSG00000103313\" \"ENSG00000106178\" \"ENSG00000115414\" \"ENSG00000115590\"\n",
       "[13] \"ENSG00000118432\" \"ENSG00000123384\" \"ENSG00000127507\" \"ENSG00000130775\"\n",
       "[17] \"ENSG00000132386\" \"ENSG00000134780\" \"ENSG00000136826\" \"ENSG00000137757\"\n",
       "[21] \"ENSG00000137801\" \"ENSG00000142405\" \"ENSG00000143546\" \"ENSG00000148926\"\n",
       "[25] \"ENSG00000150782\" \"ENSG00000156711\" \"ENSG00000160013\" \"ENSG00000162711\"\n",
       "[29] \"ENSG00000163220\" \"ENSG00000163221\" \"ENSG00000163661\" \"ENSG00000167207\"\n",
       "[33] \"ENSG00000169896\" \"ENSG00000169902\" \"ENSG00000170458\" \"ENSG00000171049\"\n",
       "[37] \"ENSG00000171051\" \"ENSG00000184371\" \"ENSG00000186827\" \"ENSG00000187116\"\n",
       "[41] \"ENSG00000196126\" \"ENSG00000196839\" \"ENSG00000204475\""
      ]
     },
     "metadata": {},
     "output_type": "display_data"
    }
   ],
   "source": [
    "fifth = go_table$genes$'GO:0006954'\n",
    "fifth"
   ]
  },
  {
   "cell_type": "code",
   "execution_count": 57,
   "id": "adaptive-proof",
   "metadata": {},
   "outputs": [
    {
     "data": {
      "text/html": [
       "<style>\n",
       ".list-inline {list-style: none; margin:0; padding: 0}\n",
       ".list-inline>li {display: inline-block}\n",
       ".list-inline>li:not(:last-child)::after {content: \"\\00b7\"; padding: 0 .5ex}\n",
       "</style>\n",
       "<ol class=list-inline><li>'ENSG00000018280'</li><li>'ENSG00000019582'</li><li>'ENSG00000028277'</li><li>'ENSG00000089041'</li><li>'ENSG00000090339'</li><li>'ENSG00000101384'</li><li>'ENSG00000104974'</li><li>'ENSG00000116514'</li><li>'ENSG00000135047'</li><li>'ENSG00000136630'</li><li>'ENSG00000146072'</li><li>'ENSG00000150782'</li><li>'ENSG00000160223'</li><li>'ENSG00000162711'</li><li>'ENSG00000163508'</li><li>'ENSG00000174837'</li><li>'ENSG00000179344'</li><li>'ENSG00000186818'</li><li>'ENSG00000196126'</li><li>'ENSG00000196735'</li><li>'ENSG00000196839'</li><li>'ENSG00000198502'</li><li>'ENSG00000204287'</li><li>'ENSG00000223865'</li><li>'ENSG00000231389'</li><li>'ENSG00000232629'</li></ol>\n"
      ],
      "text/latex": [
       "\\begin{enumerate*}\n",
       "\\item 'ENSG00000018280'\n",
       "\\item 'ENSG00000019582'\n",
       "\\item 'ENSG00000028277'\n",
       "\\item 'ENSG00000089041'\n",
       "\\item 'ENSG00000090339'\n",
       "\\item 'ENSG00000101384'\n",
       "\\item 'ENSG00000104974'\n",
       "\\item 'ENSG00000116514'\n",
       "\\item 'ENSG00000135047'\n",
       "\\item 'ENSG00000136630'\n",
       "\\item 'ENSG00000146072'\n",
       "\\item 'ENSG00000150782'\n",
       "\\item 'ENSG00000160223'\n",
       "\\item 'ENSG00000162711'\n",
       "\\item 'ENSG00000163508'\n",
       "\\item 'ENSG00000174837'\n",
       "\\item 'ENSG00000179344'\n",
       "\\item 'ENSG00000186818'\n",
       "\\item 'ENSG00000196126'\n",
       "\\item 'ENSG00000196735'\n",
       "\\item 'ENSG00000196839'\n",
       "\\item 'ENSG00000198502'\n",
       "\\item 'ENSG00000204287'\n",
       "\\item 'ENSG00000223865'\n",
       "\\item 'ENSG00000231389'\n",
       "\\item 'ENSG00000232629'\n",
       "\\end{enumerate*}\n"
      ],
      "text/markdown": [
       "1. 'ENSG00000018280'\n",
       "2. 'ENSG00000019582'\n",
       "3. 'ENSG00000028277'\n",
       "4. 'ENSG00000089041'\n",
       "5. 'ENSG00000090339'\n",
       "6. 'ENSG00000101384'\n",
       "7. 'ENSG00000104974'\n",
       "8. 'ENSG00000116514'\n",
       "9. 'ENSG00000135047'\n",
       "10. 'ENSG00000136630'\n",
       "11. 'ENSG00000146072'\n",
       "12. 'ENSG00000150782'\n",
       "13. 'ENSG00000160223'\n",
       "14. 'ENSG00000162711'\n",
       "15. 'ENSG00000163508'\n",
       "16. 'ENSG00000174837'\n",
       "17. 'ENSG00000179344'\n",
       "18. 'ENSG00000186818'\n",
       "19. 'ENSG00000196126'\n",
       "20. 'ENSG00000196735'\n",
       "21. 'ENSG00000196839'\n",
       "22. 'ENSG00000198502'\n",
       "23. 'ENSG00000204287'\n",
       "24. 'ENSG00000223865'\n",
       "25. 'ENSG00000231389'\n",
       "26. 'ENSG00000232629'\n",
       "\n",
       "\n"
      ],
      "text/plain": [
       " [1] \"ENSG00000018280\" \"ENSG00000019582\" \"ENSG00000028277\" \"ENSG00000089041\"\n",
       " [5] \"ENSG00000090339\" \"ENSG00000101384\" \"ENSG00000104974\" \"ENSG00000116514\"\n",
       " [9] \"ENSG00000135047\" \"ENSG00000136630\" \"ENSG00000146072\" \"ENSG00000150782\"\n",
       "[13] \"ENSG00000160223\" \"ENSG00000162711\" \"ENSG00000163508\" \"ENSG00000174837\"\n",
       "[17] \"ENSG00000179344\" \"ENSG00000186818\" \"ENSG00000196126\" \"ENSG00000196735\"\n",
       "[21] \"ENSG00000196839\" \"ENSG00000198502\" \"ENSG00000204287\" \"ENSG00000223865\"\n",
       "[25] \"ENSG00000231389\" \"ENSG00000232629\""
      ]
     },
     "metadata": {},
     "output_type": "display_data"
    }
   ],
   "source": [
    "first"
   ]
  },
  {
   "cell_type": "code",
   "execution_count": 58,
   "id": "timely-andrews",
   "metadata": {},
   "outputs": [
    {
     "data": {
      "text/html": [
       "'SLC11A1 up, TNFRSF21 up, LILRB4 up, ADGRE1 down, IL18 down, CTSL up, ADA down, HLA-DRB1 down, HLA-DRB5 down, HLA-DRA down, JAG1 up, POU2F2 down, HLX down, HLA-DQB2 down, ICOSLG down, RNF19B down, NLRP3 mixed, EOMES up, HLA-DPA1 down, CD74 down, HLA-DQA1 down, HLA-DPB1 down, LILRA1 up, ICAM1 down, HLA-DQB1 down, P2RX7 down'"
      ],
      "text/latex": [
       "'SLC11A1 up, TNFRSF21 up, LILRB4 up, ADGRE1 down, IL18 down, CTSL up, ADA down, HLA-DRB1 down, HLA-DRB5 down, HLA-DRA down, JAG1 up, POU2F2 down, HLX down, HLA-DQB2 down, ICOSLG down, RNF19B down, NLRP3 mixed, EOMES up, HLA-DPA1 down, CD74 down, HLA-DQA1 down, HLA-DPB1 down, LILRA1 up, ICAM1 down, HLA-DQB1 down, P2RX7 down'"
      ],
      "text/markdown": [
       "'SLC11A1 up, TNFRSF21 up, LILRB4 up, ADGRE1 down, IL18 down, CTSL up, ADA down, HLA-DRB1 down, HLA-DRB5 down, HLA-DRA down, JAG1 up, POU2F2 down, HLX down, HLA-DQB2 down, ICOSLG down, RNF19B down, NLRP3 mixed, EOMES up, HLA-DPA1 down, CD74 down, HLA-DQA1 down, HLA-DPB1 down, LILRA1 up, ICAM1 down, HLA-DQB1 down, P2RX7 down'"
      ],
      "text/plain": [
       "[1] \"SLC11A1 up, TNFRSF21 up, LILRB4 up, ADGRE1 down, IL18 down, CTSL up, ADA down, HLA-DRB1 down, HLA-DRB5 down, HLA-DRA down, JAG1 up, POU2F2 down, HLX down, HLA-DQB2 down, ICOSLG down, RNF19B down, NLRP3 mixed, EOMES up, HLA-DPA1 down, CD74 down, HLA-DQA1 down, HLA-DPB1 down, LILRA1 up, ICAM1 down, HLA-DQB1 down, P2RX7 down\""
      ]
     },
     "metadata": {},
     "output_type": "display_data"
    },
    {
     "data": {
      "text/html": [
       "'ADGRE1 down, IL18 down, LILRB4 up, SLC11A1 up, TNFRSF21 up'"
      ],
      "text/latex": [
       "'ADGRE1 down, IL18 down, LILRB4 up, SLC11A1 up, TNFRSF21 up'"
      ],
      "text/markdown": [
       "'ADGRE1 down, IL18 down, LILRB4 up, SLC11A1 up, TNFRSF21 up'"
      ],
      "text/plain": [
       "[1] \"ADGRE1 down, IL18 down, LILRB4 up, SLC11A1 up, TNFRSF21 up\""
      ]
     },
     "metadata": {},
     "output_type": "display_data"
    }
   ],
   "source": [
    "#add yes-no col\n",
    "first1 <- as_tibble (first)\n",
    "\n",
    "first1 = first1 %>%\n",
    "rename (ensembl_gene_id = value) %>%\n",
    "add_column (is_first = \"Yes\")\n",
    "\n",
    "#column_to_rownames (\"hgnc_symbol\")\n",
    "\n",
    "mrg_prim1 <- merge (de2, first1, by = \"ensembl_gene_id\", all.x = T)\n",
    "#head (mrg_prim1)\n",
    "\n",
    "\n",
    "pr1 <- mrg_prim1 %>%\n",
    "filter (., is_first == \"Yes\") %>%\n",
    "arrange (., -max_val)\n",
    "\n",
    "#pr1_genes <- paste(pr1$hgnc_symbol[1:5], (pr1$Regulation_v2[1:5]))\n",
    "pr1_genes <- paste(pr1$hgnc_symbol, (pr1$Regulation_v2))\n",
    "pr1_genes <- toString (pr1_genes)\n",
    "pr1_genes\n",
    "\n",
    "\n",
    "pr1_genes_5L <- paste(pr1$hgnc_symbol[1:5],(pr1$Regulation_v2[1:5]))\n",
    "\n",
    "pr1_genes_5 = pr1_genes_5L %>%\n",
    "sort(.) %>%\n",
    "toString()\n",
    "\n",
    "pr1_genes_5\n",
    "\n",
    "#pr1_genes_5 <- paste(pr1$hgnc_symbol[1:5],(pr1$Regulation_v2[1:5]))"
   ]
  },
  {
   "cell_type": "code",
   "execution_count": 59,
   "id": "hydraulic-seating",
   "metadata": {},
   "outputs": [
    {
     "data": {
      "text/html": [
       "<style>\n",
       ".list-inline {list-style: none; margin:0; padding: 0}\n",
       ".list-inline>li {display: inline-block}\n",
       ".list-inline>li:not(:last-child)::after {content: \"\\00b7\"; padding: 0 .5ex}\n",
       "</style>\n",
       "<ol class=list-inline><li>'SLC11A1 up'</li><li>'TNFRSF21 up'</li><li>'LILRB4 up'</li><li>'ADGRE1 down'</li><li>'IL18 down'</li></ol>\n"
      ],
      "text/latex": [
       "\\begin{enumerate*}\n",
       "\\item 'SLC11A1 up'\n",
       "\\item 'TNFRSF21 up'\n",
       "\\item 'LILRB4 up'\n",
       "\\item 'ADGRE1 down'\n",
       "\\item 'IL18 down'\n",
       "\\end{enumerate*}\n"
      ],
      "text/markdown": [
       "1. 'SLC11A1 up'\n",
       "2. 'TNFRSF21 up'\n",
       "3. 'LILRB4 up'\n",
       "4. 'ADGRE1 down'\n",
       "5. 'IL18 down'\n",
       "\n",
       "\n"
      ],
      "text/plain": [
       "[1] \"SLC11A1 up\"  \"TNFRSF21 up\" \"LILRB4 up\"   \"ADGRE1 down\" \"IL18 down\"  "
      ]
     },
     "metadata": {},
     "output_type": "display_data"
    }
   ],
   "source": [
    "pr1_genes_5L"
   ]
  },
  {
   "cell_type": "code",
   "execution_count": 60,
   "id": "developed-bacteria",
   "metadata": {},
   "outputs": [
    {
     "data": {
      "text/html": [
       "<style>\n",
       ".list-inline {list-style: none; margin:0; padding: 0}\n",
       ".list-inline>li {display: inline-block}\n",
       ".list-inline>li:not(:last-child)::after {content: \"\\00b7\"; padding: 0 .5ex}\n",
       "</style>\n",
       "<ol class=list-inline><li>'SLC11A1'</li><li>'TNFRSF21'</li><li>'LILRB4'</li><li>'ADGRE1'</li><li>'IL18'</li><li>'CTSL'</li><li>'ADA'</li><li>'HLA-DRB1'</li><li>'HLA-DRB5'</li><li>'HLA-DRA'</li><li>'JAG1'</li><li>'POU2F2'</li><li>'HLX'</li><li>'HLA-DQB2'</li><li>'ICOSLG'</li><li>'RNF19B'</li><li>'NLRP3'</li><li>'EOMES'</li><li>'HLA-DPA1'</li><li>'CD74'</li><li>'HLA-DQA1'</li><li>'HLA-DPB1'</li><li>'LILRA1'</li><li>'ICAM1'</li><li>'HLA-DQB1'</li><li>'P2RX7'</li></ol>\n"
      ],
      "text/latex": [
       "\\begin{enumerate*}\n",
       "\\item 'SLC11A1'\n",
       "\\item 'TNFRSF21'\n",
       "\\item 'LILRB4'\n",
       "\\item 'ADGRE1'\n",
       "\\item 'IL18'\n",
       "\\item 'CTSL'\n",
       "\\item 'ADA'\n",
       "\\item 'HLA-DRB1'\n",
       "\\item 'HLA-DRB5'\n",
       "\\item 'HLA-DRA'\n",
       "\\item 'JAG1'\n",
       "\\item 'POU2F2'\n",
       "\\item 'HLX'\n",
       "\\item 'HLA-DQB2'\n",
       "\\item 'ICOSLG'\n",
       "\\item 'RNF19B'\n",
       "\\item 'NLRP3'\n",
       "\\item 'EOMES'\n",
       "\\item 'HLA-DPA1'\n",
       "\\item 'CD74'\n",
       "\\item 'HLA-DQA1'\n",
       "\\item 'HLA-DPB1'\n",
       "\\item 'LILRA1'\n",
       "\\item 'ICAM1'\n",
       "\\item 'HLA-DQB1'\n",
       "\\item 'P2RX7'\n",
       "\\end{enumerate*}\n"
      ],
      "text/markdown": [
       "1. 'SLC11A1'\n",
       "2. 'TNFRSF21'\n",
       "3. 'LILRB4'\n",
       "4. 'ADGRE1'\n",
       "5. 'IL18'\n",
       "6. 'CTSL'\n",
       "7. 'ADA'\n",
       "8. 'HLA-DRB1'\n",
       "9. 'HLA-DRB5'\n",
       "10. 'HLA-DRA'\n",
       "11. 'JAG1'\n",
       "12. 'POU2F2'\n",
       "13. 'HLX'\n",
       "14. 'HLA-DQB2'\n",
       "15. 'ICOSLG'\n",
       "16. 'RNF19B'\n",
       "17. 'NLRP3'\n",
       "18. 'EOMES'\n",
       "19. 'HLA-DPA1'\n",
       "20. 'CD74'\n",
       "21. 'HLA-DQA1'\n",
       "22. 'HLA-DPB1'\n",
       "23. 'LILRA1'\n",
       "24. 'ICAM1'\n",
       "25. 'HLA-DQB1'\n",
       "26. 'P2RX7'\n",
       "\n",
       "\n"
      ],
      "text/plain": [
       " [1] \"SLC11A1\"  \"TNFRSF21\" \"LILRB4\"   \"ADGRE1\"   \"IL18\"     \"CTSL\"    \n",
       " [7] \"ADA\"      \"HLA-DRB1\" \"HLA-DRB5\" \"HLA-DRA\"  \"JAG1\"     \"POU2F2\"  \n",
       "[13] \"HLX\"      \"HLA-DQB2\" \"ICOSLG\"   \"RNF19B\"   \"NLRP3\"    \"EOMES\"   \n",
       "[19] \"HLA-DPA1\" \"CD74\"     \"HLA-DQA1\" \"HLA-DPB1\" \"LILRA1\"   \"ICAM1\"   \n",
       "[25] \"HLA-DQB1\" \"P2RX7\"   "
      ]
     },
     "metadata": {},
     "output_type": "display_data"
    }
   ],
   "source": [
    "pr1_genes_symbol = pr1$hgnc_symbol\n",
    "pr1_genes_symbol"
   ]
  },
  {
   "cell_type": "code",
   "execution_count": 61,
   "id": "desirable-gibraltar",
   "metadata": {},
   "outputs": [],
   "source": [
    "#write.table (pr1_genes_5L, \"pr1_genes_5L.txt\", row.names =F)"
   ]
  },
  {
   "cell_type": "code",
   "execution_count": 62,
   "id": "confidential-bradley",
   "metadata": {},
   "outputs": [
    {
     "data": {
      "text/html": [
       "'HLA-DRB1 down, HLA-DRB5 down, HLA-DRA down, HLA-DQB2 down, HLA-DPA1 down, HLA-DQA1 down, IRF5 up, HLA-DPB1 down, ICAM1 down, HLA-DQB1 down, GBP1 down'"
      ],
      "text/latex": [
       "'HLA-DRB1 down, HLA-DRB5 down, HLA-DRA down, HLA-DQB2 down, HLA-DPA1 down, HLA-DQA1 down, IRF5 up, HLA-DPB1 down, ICAM1 down, HLA-DQB1 down, GBP1 down'"
      ],
      "text/markdown": [
       "'HLA-DRB1 down, HLA-DRB5 down, HLA-DRA down, HLA-DQB2 down, HLA-DPA1 down, HLA-DQA1 down, IRF5 up, HLA-DPB1 down, ICAM1 down, HLA-DQB1 down, GBP1 down'"
      ],
      "text/plain": [
       "[1] \"HLA-DRB1 down, HLA-DRB5 down, HLA-DRA down, HLA-DQB2 down, HLA-DPA1 down, HLA-DQA1 down, IRF5 up, HLA-DPB1 down, ICAM1 down, HLA-DQB1 down, GBP1 down\""
      ]
     },
     "metadata": {},
     "output_type": "display_data"
    },
    {
     "data": {
      "text/html": [
       "'HLA-DPA1 down, HLA-DQB2 down, HLA-DRA down, HLA-DRB1 down, HLA-DRB5 down'"
      ],
      "text/latex": [
       "'HLA-DPA1 down, HLA-DQB2 down, HLA-DRA down, HLA-DRB1 down, HLA-DRB5 down'"
      ],
      "text/markdown": [
       "'HLA-DPA1 down, HLA-DQB2 down, HLA-DRA down, HLA-DRB1 down, HLA-DRB5 down'"
      ],
      "text/plain": [
       "[1] \"HLA-DPA1 down, HLA-DQB2 down, HLA-DRA down, HLA-DRB1 down, HLA-DRB5 down\""
      ]
     },
     "metadata": {},
     "output_type": "display_data"
    }
   ],
   "source": [
    "#add yes-no col\n",
    "second1 <- as_tibble (second)\n",
    "\n",
    "second1 = second1 %>%\n",
    "rename (ensembl_gene_id = value) %>%\n",
    "add_column (is_second = \"Yes\")\n",
    "\n",
    "#column_to_rownames (\"hgnc_symbol\")\n",
    "\n",
    "mrg_prim2 <- merge (de2, second1, by = \"ensembl_gene_id\", all.x = T)\n",
    "#head (mrg_prim2)\n",
    "\n",
    "\n",
    "pr2 <- mrg_prim2 %>%\n",
    "filter (., is_second == \"Yes\") %>%\n",
    "arrange (., -max_val)\n",
    "\n",
    "#pr2_genes <- paste(pr2$hgnc_symbol[1:5], (pr2$Regulation_v2[1:5]))\n",
    "pr2_genes <- paste(pr2$hgnc_symbol, (pr2$Regulation_v2))\n",
    "pr2_genes <- toString (pr2_genes)\n",
    "pr2_genes\n",
    "\n",
    "pr2_genes_5L <- paste(pr2$hgnc_symbol[1:5],(pr2$Regulation_v2[1:5]))\n",
    "pr2_genes_5 = pr2_genes_5L %>%\n",
    "sort(.) %>%\n",
    "toString()\n",
    "\n",
    "pr2_genes_5"
   ]
  },
  {
   "cell_type": "code",
   "execution_count": 63,
   "id": "northern-variety",
   "metadata": {},
   "outputs": [
    {
     "data": {
      "text/html": [
       "'FN1 up, CRISPLD2 up, PDPN up, NID1 down, HTRA1 up, THBS1 down, FSCN1 down, PTX3 down, CTSL up, PAPLN up, LAMC1 up, SULF2 up, DPP4 up, TIMP1 down, ITGAM up, LRP1 up, MMP25 down, MMP19 up, TMEM38B up, FBN2 down, ITGAE up, PHLDB1 down, ITGAX down, ICAM1 down, SH3PXD2B up'"
      ],
      "text/latex": [
       "'FN1 up, CRISPLD2 up, PDPN up, NID1 down, HTRA1 up, THBS1 down, FSCN1 down, PTX3 down, CTSL up, PAPLN up, LAMC1 up, SULF2 up, DPP4 up, TIMP1 down, ITGAM up, LRP1 up, MMP25 down, MMP19 up, TMEM38B up, FBN2 down, ITGAE up, PHLDB1 down, ITGAX down, ICAM1 down, SH3PXD2B up'"
      ],
      "text/markdown": [
       "'FN1 up, CRISPLD2 up, PDPN up, NID1 down, HTRA1 up, THBS1 down, FSCN1 down, PTX3 down, CTSL up, PAPLN up, LAMC1 up, SULF2 up, DPP4 up, TIMP1 down, ITGAM up, LRP1 up, MMP25 down, MMP19 up, TMEM38B up, FBN2 down, ITGAE up, PHLDB1 down, ITGAX down, ICAM1 down, SH3PXD2B up'"
      ],
      "text/plain": [
       "[1] \"FN1 up, CRISPLD2 up, PDPN up, NID1 down, HTRA1 up, THBS1 down, FSCN1 down, PTX3 down, CTSL up, PAPLN up, LAMC1 up, SULF2 up, DPP4 up, TIMP1 down, ITGAM up, LRP1 up, MMP25 down, MMP19 up, TMEM38B up, FBN2 down, ITGAE up, PHLDB1 down, ITGAX down, ICAM1 down, SH3PXD2B up\""
      ]
     },
     "metadata": {},
     "output_type": "display_data"
    },
    {
     "data": {
      "text/html": [
       "'CRISPLD2 up, FN1 up, HTRA1 up, NID1 down, PDPN up'"
      ],
      "text/latex": [
       "'CRISPLD2 up, FN1 up, HTRA1 up, NID1 down, PDPN up'"
      ],
      "text/markdown": [
       "'CRISPLD2 up, FN1 up, HTRA1 up, NID1 down, PDPN up'"
      ],
      "text/plain": [
       "[1] \"CRISPLD2 up, FN1 up, HTRA1 up, NID1 down, PDPN up\""
      ]
     },
     "metadata": {},
     "output_type": "display_data"
    }
   ],
   "source": [
    "#add yes-no col\n",
    "third1 <- as_tibble (third)\n",
    "\n",
    "third1 = third1 %>%\n",
    "rename (ensembl_gene_id = value) %>%\n",
    "add_column (is_third = \"Yes\")\n",
    "\n",
    "#column_to_rownames (\"hgnc_symbol\")\n",
    "\n",
    "mrg_prim3 <- merge (de2, third1, by = \"ensembl_gene_id\", all.x = T)\n",
    "#head (mrg_prim3)\n",
    "\n",
    "\n",
    "pr3 <- mrg_prim3 %>%\n",
    "filter (., is_third == \"Yes\") %>%\n",
    "arrange (., -max_val)\n",
    "\n",
    "#pr3_genes <- paste(pr3$hgnc_symbol[1:5], (pr3$Regulation_v2[1:5]))\n",
    "pr3_genes <- paste(pr3$hgnc_symbol, (pr3$Regulation_v2))\n",
    "pr3_genes <- toString (pr3_genes)\n",
    "pr3_genes\n",
    "\n",
    "pr3_genes_5L <- paste(pr3$hgnc_symbol[1:5],(pr3$Regulation_v2[1:5]))\n",
    "pr3_genes_5 = pr3_genes_5L %>%\n",
    "sort(.) %>%\n",
    "toString()\n",
    "\n",
    "pr3_genes_5"
   ]
  },
  {
   "cell_type": "code",
   "execution_count": 64,
   "id": "expanded-truth",
   "metadata": {},
   "outputs": [
    {
     "data": {
      "text/html": [
       "'CAMP mixed, CRISPLD2 up, SLC11A1 up, FPR1 down, CD93 up, FPR2 down, CDA up, ALOX5 up, S100A9 down, CD14 up, CFP down, PTX3 down, S100A12 down, FUCA1 up, ADGRE3 down, ITGAM up, QPCT up, PADI2 down, MMP25 down, HPSE up, GLA down, CD300A down, ITGAX down, S100A8 down, PLD1 up, CXCR1 down'"
      ],
      "text/latex": [
       "'CAMP mixed, CRISPLD2 up, SLC11A1 up, FPR1 down, CD93 up, FPR2 down, CDA up, ALOX5 up, S100A9 down, CD14 up, CFP down, PTX3 down, S100A12 down, FUCA1 up, ADGRE3 down, ITGAM up, QPCT up, PADI2 down, MMP25 down, HPSE up, GLA down, CD300A down, ITGAX down, S100A8 down, PLD1 up, CXCR1 down'"
      ],
      "text/markdown": [
       "'CAMP mixed, CRISPLD2 up, SLC11A1 up, FPR1 down, CD93 up, FPR2 down, CDA up, ALOX5 up, S100A9 down, CD14 up, CFP down, PTX3 down, S100A12 down, FUCA1 up, ADGRE3 down, ITGAM up, QPCT up, PADI2 down, MMP25 down, HPSE up, GLA down, CD300A down, ITGAX down, S100A8 down, PLD1 up, CXCR1 down'"
      ],
      "text/plain": [
       "[1] \"CAMP mixed, CRISPLD2 up, SLC11A1 up, FPR1 down, CD93 up, FPR2 down, CDA up, ALOX5 up, S100A9 down, CD14 up, CFP down, PTX3 down, S100A12 down, FUCA1 up, ADGRE3 down, ITGAM up, QPCT up, PADI2 down, MMP25 down, HPSE up, GLA down, CD300A down, ITGAX down, S100A8 down, PLD1 up, CXCR1 down\""
      ]
     },
     "metadata": {},
     "output_type": "display_data"
    },
    {
     "data": {
      "text/html": [
       "'CAMP mixed, CD93 up, CRISPLD2 up, FPR1 down, SLC11A1 up'"
      ],
      "text/latex": [
       "'CAMP mixed, CD93 up, CRISPLD2 up, FPR1 down, SLC11A1 up'"
      ],
      "text/markdown": [
       "'CAMP mixed, CD93 up, CRISPLD2 up, FPR1 down, SLC11A1 up'"
      ],
      "text/plain": [
       "[1] \"CAMP mixed, CD93 up, CRISPLD2 up, FPR1 down, SLC11A1 up\""
      ]
     },
     "metadata": {},
     "output_type": "display_data"
    }
   ],
   "source": [
    "#add yes-no col\n",
    "forth1 <- as_tibble (forth)\n",
    "\n",
    "forth1 = forth1 %>%\n",
    "rename (ensembl_gene_id = value) %>%\n",
    "add_column (is_forth = \"Yes\")\n",
    "\n",
    "#column_to_rownames (\"hgnc_symbol\")\n",
    "\n",
    "mrg_prim4 <- merge (de2, forth1, by = \"ensembl_gene_id\", all.x = T)\n",
    "#head (mrg_prim4)\n",
    "\n",
    "\n",
    "pr4 <- mrg_prim4 %>%\n",
    "filter (., is_forth == \"Yes\") %>%\n",
    "arrange (., -max_val)\n",
    "\n",
    "#pr4_genes <- paste(pr4$hgnc_symbol[1:5], (pr4$Regulation_v2[1:5]))\n",
    "pr4_genes <- paste(pr4$hgnc_symbol, (pr4$Regulation_v2))\n",
    "pr4_genes <- toString (pr4_genes)\n",
    "pr4_genes\n",
    "\n",
    "pr4_genes_5L <- paste(pr4$hgnc_symbol[1:5],(pr4$Regulation_v2[1:5]))\n",
    "pr4_genes_5 = pr4_genes_5L %>%\n",
    "sort(.) %>%\n",
    "toString()\n",
    "\n",
    "pr4_genes_5"
   ]
  },
  {
   "cell_type": "code",
   "execution_count": 65,
   "id": "sweet-baghdad",
   "metadata": {},
   "outputs": [
    {
     "data": {
      "text/html": [
       "'FN1 up, OSM up, SLC11A1 up, CCL24 down, CASP5 down, THBS1 down, FPR1 down, TNFRSF4 down, FPR2 down, ALOX5 up, PTGIR down, CSF1 up, MEFV down, ADM down, TPST1 up, S100A9 down, CD14 up, IL18 down, PTX3 down, S100A12 down, ADA down, LILRA5 down, NOD2 up, HLA-DRB1 down, MAPK13 up, THEMIS2 up, NCR3 mixed, CCL22 up, IL1R2 mixed, CNR1 up, TIMP1 down, ITGAM up, KLF4 down, LRP1 up, SERPINF1 down, NLRP12 mixed, MMP25 down, DAGLA down, NLRP3 mixed, S100A8 down, ADGRE2 down, ICAM1 down, P2RX7 down'"
      ],
      "text/latex": [
       "'FN1 up, OSM up, SLC11A1 up, CCL24 down, CASP5 down, THBS1 down, FPR1 down, TNFRSF4 down, FPR2 down, ALOX5 up, PTGIR down, CSF1 up, MEFV down, ADM down, TPST1 up, S100A9 down, CD14 up, IL18 down, PTX3 down, S100A12 down, ADA down, LILRA5 down, NOD2 up, HLA-DRB1 down, MAPK13 up, THEMIS2 up, NCR3 mixed, CCL22 up, IL1R2 mixed, CNR1 up, TIMP1 down, ITGAM up, KLF4 down, LRP1 up, SERPINF1 down, NLRP12 mixed, MMP25 down, DAGLA down, NLRP3 mixed, S100A8 down, ADGRE2 down, ICAM1 down, P2RX7 down'"
      ],
      "text/markdown": [
       "'FN1 up, OSM up, SLC11A1 up, CCL24 down, CASP5 down, THBS1 down, FPR1 down, TNFRSF4 down, FPR2 down, ALOX5 up, PTGIR down, CSF1 up, MEFV down, ADM down, TPST1 up, S100A9 down, CD14 up, IL18 down, PTX3 down, S100A12 down, ADA down, LILRA5 down, NOD2 up, HLA-DRB1 down, MAPK13 up, THEMIS2 up, NCR3 mixed, CCL22 up, IL1R2 mixed, CNR1 up, TIMP1 down, ITGAM up, KLF4 down, LRP1 up, SERPINF1 down, NLRP12 mixed, MMP25 down, DAGLA down, NLRP3 mixed, S100A8 down, ADGRE2 down, ICAM1 down, P2RX7 down'"
      ],
      "text/plain": [
       "[1] \"FN1 up, OSM up, SLC11A1 up, CCL24 down, CASP5 down, THBS1 down, FPR1 down, TNFRSF4 down, FPR2 down, ALOX5 up, PTGIR down, CSF1 up, MEFV down, ADM down, TPST1 up, S100A9 down, CD14 up, IL18 down, PTX3 down, S100A12 down, ADA down, LILRA5 down, NOD2 up, HLA-DRB1 down, MAPK13 up, THEMIS2 up, NCR3 mixed, CCL22 up, IL1R2 mixed, CNR1 up, TIMP1 down, ITGAM up, KLF4 down, LRP1 up, SERPINF1 down, NLRP12 mixed, MMP25 down, DAGLA down, NLRP3 mixed, S100A8 down, ADGRE2 down, ICAM1 down, P2RX7 down\""
      ]
     },
     "metadata": {},
     "output_type": "display_data"
    },
    {
     "data": {
      "text/html": [
       "'CASP5 down, CCL24 down, FN1 up, OSM up, SLC11A1 up'"
      ],
      "text/latex": [
       "'CASP5 down, CCL24 down, FN1 up, OSM up, SLC11A1 up'"
      ],
      "text/markdown": [
       "'CASP5 down, CCL24 down, FN1 up, OSM up, SLC11A1 up'"
      ],
      "text/plain": [
       "[1] \"CASP5 down, CCL24 down, FN1 up, OSM up, SLC11A1 up\""
      ]
     },
     "metadata": {},
     "output_type": "display_data"
    }
   ],
   "source": [
    "#add yes-no col\n",
    "fifth1 <- as_tibble (fifth)\n",
    "\n",
    "fifth1 = fifth1 %>%\n",
    "rename (ensembl_gene_id = value) %>%\n",
    "add_column (is_fifth = \"Yes\")\n",
    "\n",
    "#column_to_rownames (\"hgnc_symbol\")\n",
    "\n",
    "mrg_prim5 <- merge (de2, fifth1, by = \"ensembl_gene_id\", all.x = T)\n",
    "#head (mrg_prim5)\n",
    "\n",
    "\n",
    "pr5 <- mrg_prim5 %>%\n",
    "filter (., is_fifth == \"Yes\") %>%\n",
    "arrange (., -max_val)\n",
    "\n",
    "#pr5_genes <- paste(pr5$hgnc_symbol[1:5], (pr5$Regulation_v2[1:5]))\n",
    "pr5_genes <- paste(pr5$hgnc_symbol, (pr5$Regulation_v2))\n",
    "pr5_genes <- toString (pr5_genes)\n",
    "pr5_genes\n",
    "\n",
    "pr5_genes_5L <- paste(pr5$hgnc_symbol[1:5],(pr5$Regulation_v2[1:5]))\n",
    "pr5_genes_5 = pr5_genes_5L %>%\n",
    "sort(.) %>%\n",
    "toString()\n",
    "\n",
    "pr5_genes_5"
   ]
  },
  {
   "cell_type": "code",
   "execution_count": 66,
   "id": "cleared-moldova",
   "metadata": {},
   "outputs": [
    {
     "data": {
      "text/html": [
       "<table class=\"dataframe\">\n",
       "<caption>A data.frame: 6 × 6</caption>\n",
       "<thead>\n",
       "\t<tr><th></th><th scope=col>GO.ID</th><th scope=col>Term</th><th scope=col>Annotated</th><th scope=col>Significant</th><th scope=col>Expected</th><th scope=col>weightFisher</th></tr>\n",
       "\t<tr><th></th><th scope=col>&lt;chr&gt;</th><th scope=col>&lt;chr&gt;</th><th scope=col>&lt;int&gt;</th><th scope=col>&lt;int&gt;</th><th scope=col>&lt;dbl&gt;</th><th scope=col>&lt;chr&gt;</th></tr>\n",
       "</thead>\n",
       "<tbody>\n",
       "\t<tr><th scope=row>1</th><td>GO:0002250</td><td>adaptive immune response                   </td><td>337</td><td>26</td><td> 8.33</td><td>4.7e-07</td></tr>\n",
       "\t<tr><th scope=row>2</th><td>GO:0060333</td><td>interferon-gamma-mediated signaling path...</td><td> 78</td><td>11</td><td> 1.93</td><td>3.1e-06</td></tr>\n",
       "\t<tr><th scope=row>3</th><td>GO:0030198</td><td>extracellular matrix organization          </td><td>206</td><td>25</td><td> 5.09</td><td>1.1e-05</td></tr>\n",
       "\t<tr><th scope=row>4</th><td>GO:0043312</td><td>neutrophil degranulation                   </td><td>425</td><td>26</td><td>10.51</td><td>1.9e-05</td></tr>\n",
       "\t<tr><th scope=row>5</th><td>GO:0006954</td><td>inflammatory response                      </td><td>506</td><td>43</td><td>12.51</td><td>2.0e-05</td></tr>\n",
       "\t<tr><th scope=row>6</th><td>GO:0019221</td><td>cytokine-mediated signaling pathway        </td><td>598</td><td>43</td><td>14.79</td><td>3.1e-05</td></tr>\n",
       "</tbody>\n",
       "</table>\n"
      ],
      "text/latex": [
       "A data.frame: 6 × 6\n",
       "\\begin{tabular}{r|llllll}\n",
       "  & GO.ID & Term & Annotated & Significant & Expected & weightFisher\\\\\n",
       "  & <chr> & <chr> & <int> & <int> & <dbl> & <chr>\\\\\n",
       "\\hline\n",
       "\t1 & GO:0002250 & adaptive immune response                    & 337 & 26 &  8.33 & 4.7e-07\\\\\n",
       "\t2 & GO:0060333 & interferon-gamma-mediated signaling path... &  78 & 11 &  1.93 & 3.1e-06\\\\\n",
       "\t3 & GO:0030198 & extracellular matrix organization           & 206 & 25 &  5.09 & 1.1e-05\\\\\n",
       "\t4 & GO:0043312 & neutrophil degranulation                    & 425 & 26 & 10.51 & 1.9e-05\\\\\n",
       "\t5 & GO:0006954 & inflammatory response                       & 506 & 43 & 12.51 & 2.0e-05\\\\\n",
       "\t6 & GO:0019221 & cytokine-mediated signaling pathway         & 598 & 43 & 14.79 & 3.1e-05\\\\\n",
       "\\end{tabular}\n"
      ],
      "text/markdown": [
       "\n",
       "A data.frame: 6 × 6\n",
       "\n",
       "| <!--/--> | GO.ID &lt;chr&gt; | Term &lt;chr&gt; | Annotated &lt;int&gt; | Significant &lt;int&gt; | Expected &lt;dbl&gt; | weightFisher &lt;chr&gt; |\n",
       "|---|---|---|---|---|---|---|\n",
       "| 1 | GO:0002250 | adaptive immune response                    | 337 | 26 |  8.33 | 4.7e-07 |\n",
       "| 2 | GO:0060333 | interferon-gamma-mediated signaling path... |  78 | 11 |  1.93 | 3.1e-06 |\n",
       "| 3 | GO:0030198 | extracellular matrix organization           | 206 | 25 |  5.09 | 1.1e-05 |\n",
       "| 4 | GO:0043312 | neutrophil degranulation                    | 425 | 26 | 10.51 | 1.9e-05 |\n",
       "| 5 | GO:0006954 | inflammatory response                       | 506 | 43 | 12.51 | 2.0e-05 |\n",
       "| 6 | GO:0019221 | cytokine-mediated signaling pathway         | 598 | 43 | 14.79 | 3.1e-05 |\n",
       "\n"
      ],
      "text/plain": [
       "  GO.ID      Term                                        Annotated Significant\n",
       "1 GO:0002250 adaptive immune response                    337       26         \n",
       "2 GO:0060333 interferon-gamma-mediated signaling path...  78       11         \n",
       "3 GO:0030198 extracellular matrix organization           206       25         \n",
       "4 GO:0043312 neutrophil degranulation                    425       26         \n",
       "5 GO:0006954 inflammatory response                       506       43         \n",
       "6 GO:0019221 cytokine-mediated signaling pathway         598       43         \n",
       "  Expected weightFisher\n",
       "1  8.33    4.7e-07     \n",
       "2  1.93    3.1e-06     \n",
       "3  5.09    1.1e-05     \n",
       "4 10.51    1.9e-05     \n",
       "5 12.51    2.0e-05     \n",
       "6 14.79    3.1e-05     "
      ]
     },
     "metadata": {},
     "output_type": "display_data"
    }
   ],
   "source": [
    "head(go_tableSave)"
   ]
  },
  {
   "cell_type": "code",
   "execution_count": 67,
   "id": "balanced-senate",
   "metadata": {},
   "outputs": [],
   "source": [
    "pr1_genes_symbol = pr1$hgnc_symbol\n",
    "#pr1_genes_symbol\n",
    "\n",
    "pr2_genes_symbol = pr2$hgnc_symbol\n",
    "#pr2_genes_symbol\n",
    "pr3_genes_symbol = pr3$hgnc_symbol\n",
    "pr4_genes_symbol = pr4$hgnc_symbol\n",
    "pr5_genes_symbol = pr5$hgnc_symbol"
   ]
  },
  {
   "cell_type": "code",
   "execution_count": 68,
   "id": "international-concern",
   "metadata": {},
   "outputs": [],
   "source": [
    "dirlist = list (\n",
    "pr1_genes_symbol,\n",
    "pr2_genes_symbol,\n",
    "pr3_genes_symbol,\n",
    "pr4_genes_symbol, \n",
    "pr5_genes_symbol\n",
    ")"
   ]
  },
  {
   "cell_type": "code",
   "execution_count": 69,
   "id": "ranging-pearl",
   "metadata": {},
   "outputs": [
    {
     "data": {
      "text/html": [
       "<ol>\n",
       "\t<li><style>\n",
       ".list-inline {list-style: none; margin:0; padding: 0}\n",
       ".list-inline>li {display: inline-block}\n",
       ".list-inline>li:not(:last-child)::after {content: \"\\00b7\"; padding: 0 .5ex}\n",
       "</style>\n",
       "<ol class=list-inline><li>'SLC11A1'</li><li>'TNFRSF21'</li><li>'LILRB4'</li><li>'ADGRE1'</li><li>'IL18'</li><li>'CTSL'</li><li>'ADA'</li><li>'HLA-DRB1'</li><li>'HLA-DRB5'</li><li>'HLA-DRA'</li><li>'JAG1'</li><li>'POU2F2'</li><li>'HLX'</li><li>'HLA-DQB2'</li><li>'ICOSLG'</li><li>'RNF19B'</li><li>'NLRP3'</li><li>'EOMES'</li><li>'HLA-DPA1'</li><li>'CD74'</li><li>'HLA-DQA1'</li><li>'HLA-DPB1'</li><li>'LILRA1'</li><li>'ICAM1'</li><li>'HLA-DQB1'</li><li>'P2RX7'</li></ol>\n",
       "</li>\n",
       "\t<li><style>\n",
       ".list-inline {list-style: none; margin:0; padding: 0}\n",
       ".list-inline>li {display: inline-block}\n",
       ".list-inline>li:not(:last-child)::after {content: \"\\00b7\"; padding: 0 .5ex}\n",
       "</style>\n",
       "<ol class=list-inline><li>'HLA-DRB1'</li><li>'HLA-DRB5'</li><li>'HLA-DRA'</li><li>'HLA-DQB2'</li><li>'HLA-DPA1'</li><li>'HLA-DQA1'</li><li>'IRF5'</li><li>'HLA-DPB1'</li><li>'ICAM1'</li><li>'HLA-DQB1'</li><li>'GBP1'</li></ol>\n",
       "</li>\n",
       "\t<li><style>\n",
       ".list-inline {list-style: none; margin:0; padding: 0}\n",
       ".list-inline>li {display: inline-block}\n",
       ".list-inline>li:not(:last-child)::after {content: \"\\00b7\"; padding: 0 .5ex}\n",
       "</style>\n",
       "<ol class=list-inline><li>'FN1'</li><li>'CRISPLD2'</li><li>'PDPN'</li><li>'NID1'</li><li>'HTRA1'</li><li>'THBS1'</li><li>'FSCN1'</li><li>'PTX3'</li><li>'CTSL'</li><li>'PAPLN'</li><li>'LAMC1'</li><li>'SULF2'</li><li>'DPP4'</li><li>'TIMP1'</li><li>'ITGAM'</li><li>'LRP1'</li><li>'MMP25'</li><li>'MMP19'</li><li>'TMEM38B'</li><li>'FBN2'</li><li>'ITGAE'</li><li>'PHLDB1'</li><li>'ITGAX'</li><li>'ICAM1'</li><li>'SH3PXD2B'</li></ol>\n",
       "</li>\n",
       "\t<li><style>\n",
       ".list-inline {list-style: none; margin:0; padding: 0}\n",
       ".list-inline>li {display: inline-block}\n",
       ".list-inline>li:not(:last-child)::after {content: \"\\00b7\"; padding: 0 .5ex}\n",
       "</style>\n",
       "<ol class=list-inline><li>'CAMP'</li><li>'CRISPLD2'</li><li>'SLC11A1'</li><li>'FPR1'</li><li>'CD93'</li><li>'FPR2'</li><li>'CDA'</li><li>'ALOX5'</li><li>'S100A9'</li><li>'CD14'</li><li>'CFP'</li><li>'PTX3'</li><li>'S100A12'</li><li>'FUCA1'</li><li>'ADGRE3'</li><li>'ITGAM'</li><li>'QPCT'</li><li>'PADI2'</li><li>'MMP25'</li><li>'HPSE'</li><li>'GLA'</li><li>'CD300A'</li><li>'ITGAX'</li><li>'S100A8'</li><li>'PLD1'</li><li>'CXCR1'</li></ol>\n",
       "</li>\n",
       "\t<li><style>\n",
       ".list-inline {list-style: none; margin:0; padding: 0}\n",
       ".list-inline>li {display: inline-block}\n",
       ".list-inline>li:not(:last-child)::after {content: \"\\00b7\"; padding: 0 .5ex}\n",
       "</style>\n",
       "<ol class=list-inline><li>'FN1'</li><li>'OSM'</li><li>'SLC11A1'</li><li>'CCL24'</li><li>'CASP5'</li><li>'THBS1'</li><li>'FPR1'</li><li>'TNFRSF4'</li><li>'FPR2'</li><li>'ALOX5'</li><li>'PTGIR'</li><li>'CSF1'</li><li>'MEFV'</li><li>'ADM'</li><li>'TPST1'</li><li>'S100A9'</li><li>'CD14'</li><li>'IL18'</li><li>'PTX3'</li><li>'S100A12'</li><li>'ADA'</li><li>'LILRA5'</li><li>'NOD2'</li><li>'HLA-DRB1'</li><li>'MAPK13'</li><li>'THEMIS2'</li><li>'NCR3'</li><li>'CCL22'</li><li>'IL1R2'</li><li>'CNR1'</li><li>'TIMP1'</li><li>'ITGAM'</li><li>'KLF4'</li><li>'LRP1'</li><li>'SERPINF1'</li><li>'NLRP12'</li><li>'MMP25'</li><li>'DAGLA'</li><li>'NLRP3'</li><li>'S100A8'</li><li>'ADGRE2'</li><li>'ICAM1'</li><li>'P2RX7'</li></ol>\n",
       "</li>\n",
       "</ol>\n"
      ],
      "text/latex": [
       "\\begin{enumerate}\n",
       "\\item \\begin{enumerate*}\n",
       "\\item 'SLC11A1'\n",
       "\\item 'TNFRSF21'\n",
       "\\item 'LILRB4'\n",
       "\\item 'ADGRE1'\n",
       "\\item 'IL18'\n",
       "\\item 'CTSL'\n",
       "\\item 'ADA'\n",
       "\\item 'HLA-DRB1'\n",
       "\\item 'HLA-DRB5'\n",
       "\\item 'HLA-DRA'\n",
       "\\item 'JAG1'\n",
       "\\item 'POU2F2'\n",
       "\\item 'HLX'\n",
       "\\item 'HLA-DQB2'\n",
       "\\item 'ICOSLG'\n",
       "\\item 'RNF19B'\n",
       "\\item 'NLRP3'\n",
       "\\item 'EOMES'\n",
       "\\item 'HLA-DPA1'\n",
       "\\item 'CD74'\n",
       "\\item 'HLA-DQA1'\n",
       "\\item 'HLA-DPB1'\n",
       "\\item 'LILRA1'\n",
       "\\item 'ICAM1'\n",
       "\\item 'HLA-DQB1'\n",
       "\\item 'P2RX7'\n",
       "\\end{enumerate*}\n",
       "\n",
       "\\item \\begin{enumerate*}\n",
       "\\item 'HLA-DRB1'\n",
       "\\item 'HLA-DRB5'\n",
       "\\item 'HLA-DRA'\n",
       "\\item 'HLA-DQB2'\n",
       "\\item 'HLA-DPA1'\n",
       "\\item 'HLA-DQA1'\n",
       "\\item 'IRF5'\n",
       "\\item 'HLA-DPB1'\n",
       "\\item 'ICAM1'\n",
       "\\item 'HLA-DQB1'\n",
       "\\item 'GBP1'\n",
       "\\end{enumerate*}\n",
       "\n",
       "\\item \\begin{enumerate*}\n",
       "\\item 'FN1'\n",
       "\\item 'CRISPLD2'\n",
       "\\item 'PDPN'\n",
       "\\item 'NID1'\n",
       "\\item 'HTRA1'\n",
       "\\item 'THBS1'\n",
       "\\item 'FSCN1'\n",
       "\\item 'PTX3'\n",
       "\\item 'CTSL'\n",
       "\\item 'PAPLN'\n",
       "\\item 'LAMC1'\n",
       "\\item 'SULF2'\n",
       "\\item 'DPP4'\n",
       "\\item 'TIMP1'\n",
       "\\item 'ITGAM'\n",
       "\\item 'LRP1'\n",
       "\\item 'MMP25'\n",
       "\\item 'MMP19'\n",
       "\\item 'TMEM38B'\n",
       "\\item 'FBN2'\n",
       "\\item 'ITGAE'\n",
       "\\item 'PHLDB1'\n",
       "\\item 'ITGAX'\n",
       "\\item 'ICAM1'\n",
       "\\item 'SH3PXD2B'\n",
       "\\end{enumerate*}\n",
       "\n",
       "\\item \\begin{enumerate*}\n",
       "\\item 'CAMP'\n",
       "\\item 'CRISPLD2'\n",
       "\\item 'SLC11A1'\n",
       "\\item 'FPR1'\n",
       "\\item 'CD93'\n",
       "\\item 'FPR2'\n",
       "\\item 'CDA'\n",
       "\\item 'ALOX5'\n",
       "\\item 'S100A9'\n",
       "\\item 'CD14'\n",
       "\\item 'CFP'\n",
       "\\item 'PTX3'\n",
       "\\item 'S100A12'\n",
       "\\item 'FUCA1'\n",
       "\\item 'ADGRE3'\n",
       "\\item 'ITGAM'\n",
       "\\item 'QPCT'\n",
       "\\item 'PADI2'\n",
       "\\item 'MMP25'\n",
       "\\item 'HPSE'\n",
       "\\item 'GLA'\n",
       "\\item 'CD300A'\n",
       "\\item 'ITGAX'\n",
       "\\item 'S100A8'\n",
       "\\item 'PLD1'\n",
       "\\item 'CXCR1'\n",
       "\\end{enumerate*}\n",
       "\n",
       "\\item \\begin{enumerate*}\n",
       "\\item 'FN1'\n",
       "\\item 'OSM'\n",
       "\\item 'SLC11A1'\n",
       "\\item 'CCL24'\n",
       "\\item 'CASP5'\n",
       "\\item 'THBS1'\n",
       "\\item 'FPR1'\n",
       "\\item 'TNFRSF4'\n",
       "\\item 'FPR2'\n",
       "\\item 'ALOX5'\n",
       "\\item 'PTGIR'\n",
       "\\item 'CSF1'\n",
       "\\item 'MEFV'\n",
       "\\item 'ADM'\n",
       "\\item 'TPST1'\n",
       "\\item 'S100A9'\n",
       "\\item 'CD14'\n",
       "\\item 'IL18'\n",
       "\\item 'PTX3'\n",
       "\\item 'S100A12'\n",
       "\\item 'ADA'\n",
       "\\item 'LILRA5'\n",
       "\\item 'NOD2'\n",
       "\\item 'HLA-DRB1'\n",
       "\\item 'MAPK13'\n",
       "\\item 'THEMIS2'\n",
       "\\item 'NCR3'\n",
       "\\item 'CCL22'\n",
       "\\item 'IL1R2'\n",
       "\\item 'CNR1'\n",
       "\\item 'TIMP1'\n",
       "\\item 'ITGAM'\n",
       "\\item 'KLF4'\n",
       "\\item 'LRP1'\n",
       "\\item 'SERPINF1'\n",
       "\\item 'NLRP12'\n",
       "\\item 'MMP25'\n",
       "\\item 'DAGLA'\n",
       "\\item 'NLRP3'\n",
       "\\item 'S100A8'\n",
       "\\item 'ADGRE2'\n",
       "\\item 'ICAM1'\n",
       "\\item 'P2RX7'\n",
       "\\end{enumerate*}\n",
       "\n",
       "\\end{enumerate}\n"
      ],
      "text/markdown": [
       "1. 1. 'SLC11A1'\n",
       "2. 'TNFRSF21'\n",
       "3. 'LILRB4'\n",
       "4. 'ADGRE1'\n",
       "5. 'IL18'\n",
       "6. 'CTSL'\n",
       "7. 'ADA'\n",
       "8. 'HLA-DRB1'\n",
       "9. 'HLA-DRB5'\n",
       "10. 'HLA-DRA'\n",
       "11. 'JAG1'\n",
       "12. 'POU2F2'\n",
       "13. 'HLX'\n",
       "14. 'HLA-DQB2'\n",
       "15. 'ICOSLG'\n",
       "16. 'RNF19B'\n",
       "17. 'NLRP3'\n",
       "18. 'EOMES'\n",
       "19. 'HLA-DPA1'\n",
       "20. 'CD74'\n",
       "21. 'HLA-DQA1'\n",
       "22. 'HLA-DPB1'\n",
       "23. 'LILRA1'\n",
       "24. 'ICAM1'\n",
       "25. 'HLA-DQB1'\n",
       "26. 'P2RX7'\n",
       "\n",
       "\n",
       "\n",
       "2. 1. 'HLA-DRB1'\n",
       "2. 'HLA-DRB5'\n",
       "3. 'HLA-DRA'\n",
       "4. 'HLA-DQB2'\n",
       "5. 'HLA-DPA1'\n",
       "6. 'HLA-DQA1'\n",
       "7. 'IRF5'\n",
       "8. 'HLA-DPB1'\n",
       "9. 'ICAM1'\n",
       "10. 'HLA-DQB1'\n",
       "11. 'GBP1'\n",
       "\n",
       "\n",
       "\n",
       "3. 1. 'FN1'\n",
       "2. 'CRISPLD2'\n",
       "3. 'PDPN'\n",
       "4. 'NID1'\n",
       "5. 'HTRA1'\n",
       "6. 'THBS1'\n",
       "7. 'FSCN1'\n",
       "8. 'PTX3'\n",
       "9. 'CTSL'\n",
       "10. 'PAPLN'\n",
       "11. 'LAMC1'\n",
       "12. 'SULF2'\n",
       "13. 'DPP4'\n",
       "14. 'TIMP1'\n",
       "15. 'ITGAM'\n",
       "16. 'LRP1'\n",
       "17. 'MMP25'\n",
       "18. 'MMP19'\n",
       "19. 'TMEM38B'\n",
       "20. 'FBN2'\n",
       "21. 'ITGAE'\n",
       "22. 'PHLDB1'\n",
       "23. 'ITGAX'\n",
       "24. 'ICAM1'\n",
       "25. 'SH3PXD2B'\n",
       "\n",
       "\n",
       "\n",
       "4. 1. 'CAMP'\n",
       "2. 'CRISPLD2'\n",
       "3. 'SLC11A1'\n",
       "4. 'FPR1'\n",
       "5. 'CD93'\n",
       "6. 'FPR2'\n",
       "7. 'CDA'\n",
       "8. 'ALOX5'\n",
       "9. 'S100A9'\n",
       "10. 'CD14'\n",
       "11. 'CFP'\n",
       "12. 'PTX3'\n",
       "13. 'S100A12'\n",
       "14. 'FUCA1'\n",
       "15. 'ADGRE3'\n",
       "16. 'ITGAM'\n",
       "17. 'QPCT'\n",
       "18. 'PADI2'\n",
       "19. 'MMP25'\n",
       "20. 'HPSE'\n",
       "21. 'GLA'\n",
       "22. 'CD300A'\n",
       "23. 'ITGAX'\n",
       "24. 'S100A8'\n",
       "25. 'PLD1'\n",
       "26. 'CXCR1'\n",
       "\n",
       "\n",
       "\n",
       "5. 1. 'FN1'\n",
       "2. 'OSM'\n",
       "3. 'SLC11A1'\n",
       "4. 'CCL24'\n",
       "5. 'CASP5'\n",
       "6. 'THBS1'\n",
       "7. 'FPR1'\n",
       "8. 'TNFRSF4'\n",
       "9. 'FPR2'\n",
       "10. 'ALOX5'\n",
       "11. 'PTGIR'\n",
       "12. 'CSF1'\n",
       "13. 'MEFV'\n",
       "14. 'ADM'\n",
       "15. 'TPST1'\n",
       "16. 'S100A9'\n",
       "17. 'CD14'\n",
       "18. 'IL18'\n",
       "19. 'PTX3'\n",
       "20. 'S100A12'\n",
       "21. 'ADA'\n",
       "22. 'LILRA5'\n",
       "23. 'NOD2'\n",
       "24. 'HLA-DRB1'\n",
       "25. 'MAPK13'\n",
       "26. 'THEMIS2'\n",
       "27. 'NCR3'\n",
       "28. 'CCL22'\n",
       "29. 'IL1R2'\n",
       "30. 'CNR1'\n",
       "31. 'TIMP1'\n",
       "32. 'ITGAM'\n",
       "33. 'KLF4'\n",
       "34. 'LRP1'\n",
       "35. 'SERPINF1'\n",
       "36. 'NLRP12'\n",
       "37. 'MMP25'\n",
       "38. 'DAGLA'\n",
       "39. 'NLRP3'\n",
       "40. 'S100A8'\n",
       "41. 'ADGRE2'\n",
       "42. 'ICAM1'\n",
       "43. 'P2RX7'\n",
       "\n",
       "\n",
       "\n",
       "\n",
       "\n"
      ],
      "text/plain": [
       "[[1]]\n",
       " [1] \"SLC11A1\"  \"TNFRSF21\" \"LILRB4\"   \"ADGRE1\"   \"IL18\"     \"CTSL\"    \n",
       " [7] \"ADA\"      \"HLA-DRB1\" \"HLA-DRB5\" \"HLA-DRA\"  \"JAG1\"     \"POU2F2\"  \n",
       "[13] \"HLX\"      \"HLA-DQB2\" \"ICOSLG\"   \"RNF19B\"   \"NLRP3\"    \"EOMES\"   \n",
       "[19] \"HLA-DPA1\" \"CD74\"     \"HLA-DQA1\" \"HLA-DPB1\" \"LILRA1\"   \"ICAM1\"   \n",
       "[25] \"HLA-DQB1\" \"P2RX7\"   \n",
       "\n",
       "[[2]]\n",
       " [1] \"HLA-DRB1\" \"HLA-DRB5\" \"HLA-DRA\"  \"HLA-DQB2\" \"HLA-DPA1\" \"HLA-DQA1\"\n",
       " [7] \"IRF5\"     \"HLA-DPB1\" \"ICAM1\"    \"HLA-DQB1\" \"GBP1\"    \n",
       "\n",
       "[[3]]\n",
       " [1] \"FN1\"      \"CRISPLD2\" \"PDPN\"     \"NID1\"     \"HTRA1\"    \"THBS1\"   \n",
       " [7] \"FSCN1\"    \"PTX3\"     \"CTSL\"     \"PAPLN\"    \"LAMC1\"    \"SULF2\"   \n",
       "[13] \"DPP4\"     \"TIMP1\"    \"ITGAM\"    \"LRP1\"     \"MMP25\"    \"MMP19\"   \n",
       "[19] \"TMEM38B\"  \"FBN2\"     \"ITGAE\"    \"PHLDB1\"   \"ITGAX\"    \"ICAM1\"   \n",
       "[25] \"SH3PXD2B\"\n",
       "\n",
       "[[4]]\n",
       " [1] \"CAMP\"     \"CRISPLD2\" \"SLC11A1\"  \"FPR1\"     \"CD93\"     \"FPR2\"    \n",
       " [7] \"CDA\"      \"ALOX5\"    \"S100A9\"   \"CD14\"     \"CFP\"      \"PTX3\"    \n",
       "[13] \"S100A12\"  \"FUCA1\"    \"ADGRE3\"   \"ITGAM\"    \"QPCT\"     \"PADI2\"   \n",
       "[19] \"MMP25\"    \"HPSE\"     \"GLA\"      \"CD300A\"   \"ITGAX\"    \"S100A8\"  \n",
       "[25] \"PLD1\"     \"CXCR1\"   \n",
       "\n",
       "[[5]]\n",
       " [1] \"FN1\"      \"OSM\"      \"SLC11A1\"  \"CCL24\"    \"CASP5\"    \"THBS1\"   \n",
       " [7] \"FPR1\"     \"TNFRSF4\"  \"FPR2\"     \"ALOX5\"    \"PTGIR\"    \"CSF1\"    \n",
       "[13] \"MEFV\"     \"ADM\"      \"TPST1\"    \"S100A9\"   \"CD14\"     \"IL18\"    \n",
       "[19] \"PTX3\"     \"S100A12\"  \"ADA\"      \"LILRA5\"   \"NOD2\"     \"HLA-DRB1\"\n",
       "[25] \"MAPK13\"   \"THEMIS2\"  \"NCR3\"     \"CCL22\"    \"IL1R2\"    \"CNR1\"    \n",
       "[31] \"TIMP1\"    \"ITGAM\"    \"KLF4\"     \"LRP1\"     \"SERPINF1\" \"NLRP12\"  \n",
       "[37] \"MMP25\"    \"DAGLA\"    \"NLRP3\"    \"S100A8\"   \"ADGRE2\"   \"ICAM1\"   \n",
       "[43] \"P2RX7\"   \n"
      ]
     },
     "metadata": {},
     "output_type": "display_data"
    }
   ],
   "source": [
    "dirlist"
   ]
  },
  {
   "cell_type": "code",
   "execution_count": 70,
   "id": "intelligent-heath",
   "metadata": {},
   "outputs": [],
   "source": [
    "saveRDS(dirlist, file = \"gofinal_C12.Rds\")"
   ]
  },
  {
   "cell_type": "code",
   "execution_count": 72,
   "id": "flexible-finder",
   "metadata": {},
   "outputs": [],
   "source": [
    "#test\n",
    "read.all <- readRDS(\"gofinal_C12.Rds\")"
   ]
  },
  {
   "cell_type": "code",
   "execution_count": 73,
   "id": "strange-patio",
   "metadata": {},
   "outputs": [
    {
     "data": {
      "text/html": [
       "<ol>\n",
       "\t<li><style>\n",
       ".list-inline {list-style: none; margin:0; padding: 0}\n",
       ".list-inline>li {display: inline-block}\n",
       ".list-inline>li:not(:last-child)::after {content: \"\\00b7\"; padding: 0 .5ex}\n",
       "</style>\n",
       "<ol class=list-inline><li>'SLC11A1'</li><li>'TNFRSF21'</li><li>'LILRB4'</li><li>'ADGRE1'</li><li>'IL18'</li><li>'CTSL'</li><li>'ADA'</li><li>'HLA-DRB1'</li><li>'HLA-DRB5'</li><li>'HLA-DRA'</li><li>'JAG1'</li><li>'POU2F2'</li><li>'HLX'</li><li>'HLA-DQB2'</li><li>'ICOSLG'</li><li>'RNF19B'</li><li>'NLRP3'</li><li>'EOMES'</li><li>'HLA-DPA1'</li><li>'CD74'</li><li>'HLA-DQA1'</li><li>'HLA-DPB1'</li><li>'LILRA1'</li><li>'ICAM1'</li><li>'HLA-DQB1'</li><li>'P2RX7'</li></ol>\n",
       "</li>\n",
       "\t<li><style>\n",
       ".list-inline {list-style: none; margin:0; padding: 0}\n",
       ".list-inline>li {display: inline-block}\n",
       ".list-inline>li:not(:last-child)::after {content: \"\\00b7\"; padding: 0 .5ex}\n",
       "</style>\n",
       "<ol class=list-inline><li>'HLA-DRB1'</li><li>'HLA-DRB5'</li><li>'HLA-DRA'</li><li>'HLA-DQB2'</li><li>'HLA-DPA1'</li><li>'HLA-DQA1'</li><li>'IRF5'</li><li>'HLA-DPB1'</li><li>'ICAM1'</li><li>'HLA-DQB1'</li><li>'GBP1'</li></ol>\n",
       "</li>\n",
       "\t<li><style>\n",
       ".list-inline {list-style: none; margin:0; padding: 0}\n",
       ".list-inline>li {display: inline-block}\n",
       ".list-inline>li:not(:last-child)::after {content: \"\\00b7\"; padding: 0 .5ex}\n",
       "</style>\n",
       "<ol class=list-inline><li>'FN1'</li><li>'CRISPLD2'</li><li>'PDPN'</li><li>'NID1'</li><li>'HTRA1'</li><li>'THBS1'</li><li>'FSCN1'</li><li>'PTX3'</li><li>'CTSL'</li><li>'PAPLN'</li><li>'LAMC1'</li><li>'SULF2'</li><li>'DPP4'</li><li>'TIMP1'</li><li>'ITGAM'</li><li>'LRP1'</li><li>'MMP25'</li><li>'MMP19'</li><li>'TMEM38B'</li><li>'FBN2'</li><li>'ITGAE'</li><li>'PHLDB1'</li><li>'ITGAX'</li><li>'ICAM1'</li><li>'SH3PXD2B'</li></ol>\n",
       "</li>\n",
       "\t<li><style>\n",
       ".list-inline {list-style: none; margin:0; padding: 0}\n",
       ".list-inline>li {display: inline-block}\n",
       ".list-inline>li:not(:last-child)::after {content: \"\\00b7\"; padding: 0 .5ex}\n",
       "</style>\n",
       "<ol class=list-inline><li>'CAMP'</li><li>'CRISPLD2'</li><li>'SLC11A1'</li><li>'FPR1'</li><li>'CD93'</li><li>'FPR2'</li><li>'CDA'</li><li>'ALOX5'</li><li>'S100A9'</li><li>'CD14'</li><li>'CFP'</li><li>'PTX3'</li><li>'S100A12'</li><li>'FUCA1'</li><li>'ADGRE3'</li><li>'ITGAM'</li><li>'QPCT'</li><li>'PADI2'</li><li>'MMP25'</li><li>'HPSE'</li><li>'GLA'</li><li>'CD300A'</li><li>'ITGAX'</li><li>'S100A8'</li><li>'PLD1'</li><li>'CXCR1'</li></ol>\n",
       "</li>\n",
       "\t<li><style>\n",
       ".list-inline {list-style: none; margin:0; padding: 0}\n",
       ".list-inline>li {display: inline-block}\n",
       ".list-inline>li:not(:last-child)::after {content: \"\\00b7\"; padding: 0 .5ex}\n",
       "</style>\n",
       "<ol class=list-inline><li>'FN1'</li><li>'OSM'</li><li>'SLC11A1'</li><li>'CCL24'</li><li>'CASP5'</li><li>'THBS1'</li><li>'FPR1'</li><li>'TNFRSF4'</li><li>'FPR2'</li><li>'ALOX5'</li><li>'PTGIR'</li><li>'CSF1'</li><li>'MEFV'</li><li>'ADM'</li><li>'TPST1'</li><li>'S100A9'</li><li>'CD14'</li><li>'IL18'</li><li>'PTX3'</li><li>'S100A12'</li><li>'ADA'</li><li>'LILRA5'</li><li>'NOD2'</li><li>'HLA-DRB1'</li><li>'MAPK13'</li><li>'THEMIS2'</li><li>'NCR3'</li><li>'CCL22'</li><li>'IL1R2'</li><li>'CNR1'</li><li>'TIMP1'</li><li>'ITGAM'</li><li>'KLF4'</li><li>'LRP1'</li><li>'SERPINF1'</li><li>'NLRP12'</li><li>'MMP25'</li><li>'DAGLA'</li><li>'NLRP3'</li><li>'S100A8'</li><li>'ADGRE2'</li><li>'ICAM1'</li><li>'P2RX7'</li></ol>\n",
       "</li>\n",
       "</ol>\n"
      ],
      "text/latex": [
       "\\begin{enumerate}\n",
       "\\item \\begin{enumerate*}\n",
       "\\item 'SLC11A1'\n",
       "\\item 'TNFRSF21'\n",
       "\\item 'LILRB4'\n",
       "\\item 'ADGRE1'\n",
       "\\item 'IL18'\n",
       "\\item 'CTSL'\n",
       "\\item 'ADA'\n",
       "\\item 'HLA-DRB1'\n",
       "\\item 'HLA-DRB5'\n",
       "\\item 'HLA-DRA'\n",
       "\\item 'JAG1'\n",
       "\\item 'POU2F2'\n",
       "\\item 'HLX'\n",
       "\\item 'HLA-DQB2'\n",
       "\\item 'ICOSLG'\n",
       "\\item 'RNF19B'\n",
       "\\item 'NLRP3'\n",
       "\\item 'EOMES'\n",
       "\\item 'HLA-DPA1'\n",
       "\\item 'CD74'\n",
       "\\item 'HLA-DQA1'\n",
       "\\item 'HLA-DPB1'\n",
       "\\item 'LILRA1'\n",
       "\\item 'ICAM1'\n",
       "\\item 'HLA-DQB1'\n",
       "\\item 'P2RX7'\n",
       "\\end{enumerate*}\n",
       "\n",
       "\\item \\begin{enumerate*}\n",
       "\\item 'HLA-DRB1'\n",
       "\\item 'HLA-DRB5'\n",
       "\\item 'HLA-DRA'\n",
       "\\item 'HLA-DQB2'\n",
       "\\item 'HLA-DPA1'\n",
       "\\item 'HLA-DQA1'\n",
       "\\item 'IRF5'\n",
       "\\item 'HLA-DPB1'\n",
       "\\item 'ICAM1'\n",
       "\\item 'HLA-DQB1'\n",
       "\\item 'GBP1'\n",
       "\\end{enumerate*}\n",
       "\n",
       "\\item \\begin{enumerate*}\n",
       "\\item 'FN1'\n",
       "\\item 'CRISPLD2'\n",
       "\\item 'PDPN'\n",
       "\\item 'NID1'\n",
       "\\item 'HTRA1'\n",
       "\\item 'THBS1'\n",
       "\\item 'FSCN1'\n",
       "\\item 'PTX3'\n",
       "\\item 'CTSL'\n",
       "\\item 'PAPLN'\n",
       "\\item 'LAMC1'\n",
       "\\item 'SULF2'\n",
       "\\item 'DPP4'\n",
       "\\item 'TIMP1'\n",
       "\\item 'ITGAM'\n",
       "\\item 'LRP1'\n",
       "\\item 'MMP25'\n",
       "\\item 'MMP19'\n",
       "\\item 'TMEM38B'\n",
       "\\item 'FBN2'\n",
       "\\item 'ITGAE'\n",
       "\\item 'PHLDB1'\n",
       "\\item 'ITGAX'\n",
       "\\item 'ICAM1'\n",
       "\\item 'SH3PXD2B'\n",
       "\\end{enumerate*}\n",
       "\n",
       "\\item \\begin{enumerate*}\n",
       "\\item 'CAMP'\n",
       "\\item 'CRISPLD2'\n",
       "\\item 'SLC11A1'\n",
       "\\item 'FPR1'\n",
       "\\item 'CD93'\n",
       "\\item 'FPR2'\n",
       "\\item 'CDA'\n",
       "\\item 'ALOX5'\n",
       "\\item 'S100A9'\n",
       "\\item 'CD14'\n",
       "\\item 'CFP'\n",
       "\\item 'PTX3'\n",
       "\\item 'S100A12'\n",
       "\\item 'FUCA1'\n",
       "\\item 'ADGRE3'\n",
       "\\item 'ITGAM'\n",
       "\\item 'QPCT'\n",
       "\\item 'PADI2'\n",
       "\\item 'MMP25'\n",
       "\\item 'HPSE'\n",
       "\\item 'GLA'\n",
       "\\item 'CD300A'\n",
       "\\item 'ITGAX'\n",
       "\\item 'S100A8'\n",
       "\\item 'PLD1'\n",
       "\\item 'CXCR1'\n",
       "\\end{enumerate*}\n",
       "\n",
       "\\item \\begin{enumerate*}\n",
       "\\item 'FN1'\n",
       "\\item 'OSM'\n",
       "\\item 'SLC11A1'\n",
       "\\item 'CCL24'\n",
       "\\item 'CASP5'\n",
       "\\item 'THBS1'\n",
       "\\item 'FPR1'\n",
       "\\item 'TNFRSF4'\n",
       "\\item 'FPR2'\n",
       "\\item 'ALOX5'\n",
       "\\item 'PTGIR'\n",
       "\\item 'CSF1'\n",
       "\\item 'MEFV'\n",
       "\\item 'ADM'\n",
       "\\item 'TPST1'\n",
       "\\item 'S100A9'\n",
       "\\item 'CD14'\n",
       "\\item 'IL18'\n",
       "\\item 'PTX3'\n",
       "\\item 'S100A12'\n",
       "\\item 'ADA'\n",
       "\\item 'LILRA5'\n",
       "\\item 'NOD2'\n",
       "\\item 'HLA-DRB1'\n",
       "\\item 'MAPK13'\n",
       "\\item 'THEMIS2'\n",
       "\\item 'NCR3'\n",
       "\\item 'CCL22'\n",
       "\\item 'IL1R2'\n",
       "\\item 'CNR1'\n",
       "\\item 'TIMP1'\n",
       "\\item 'ITGAM'\n",
       "\\item 'KLF4'\n",
       "\\item 'LRP1'\n",
       "\\item 'SERPINF1'\n",
       "\\item 'NLRP12'\n",
       "\\item 'MMP25'\n",
       "\\item 'DAGLA'\n",
       "\\item 'NLRP3'\n",
       "\\item 'S100A8'\n",
       "\\item 'ADGRE2'\n",
       "\\item 'ICAM1'\n",
       "\\item 'P2RX7'\n",
       "\\end{enumerate*}\n",
       "\n",
       "\\end{enumerate}\n"
      ],
      "text/markdown": [
       "1. 1. 'SLC11A1'\n",
       "2. 'TNFRSF21'\n",
       "3. 'LILRB4'\n",
       "4. 'ADGRE1'\n",
       "5. 'IL18'\n",
       "6. 'CTSL'\n",
       "7. 'ADA'\n",
       "8. 'HLA-DRB1'\n",
       "9. 'HLA-DRB5'\n",
       "10. 'HLA-DRA'\n",
       "11. 'JAG1'\n",
       "12. 'POU2F2'\n",
       "13. 'HLX'\n",
       "14. 'HLA-DQB2'\n",
       "15. 'ICOSLG'\n",
       "16. 'RNF19B'\n",
       "17. 'NLRP3'\n",
       "18. 'EOMES'\n",
       "19. 'HLA-DPA1'\n",
       "20. 'CD74'\n",
       "21. 'HLA-DQA1'\n",
       "22. 'HLA-DPB1'\n",
       "23. 'LILRA1'\n",
       "24. 'ICAM1'\n",
       "25. 'HLA-DQB1'\n",
       "26. 'P2RX7'\n",
       "\n",
       "\n",
       "\n",
       "2. 1. 'HLA-DRB1'\n",
       "2. 'HLA-DRB5'\n",
       "3. 'HLA-DRA'\n",
       "4. 'HLA-DQB2'\n",
       "5. 'HLA-DPA1'\n",
       "6. 'HLA-DQA1'\n",
       "7. 'IRF5'\n",
       "8. 'HLA-DPB1'\n",
       "9. 'ICAM1'\n",
       "10. 'HLA-DQB1'\n",
       "11. 'GBP1'\n",
       "\n",
       "\n",
       "\n",
       "3. 1. 'FN1'\n",
       "2. 'CRISPLD2'\n",
       "3. 'PDPN'\n",
       "4. 'NID1'\n",
       "5. 'HTRA1'\n",
       "6. 'THBS1'\n",
       "7. 'FSCN1'\n",
       "8. 'PTX3'\n",
       "9. 'CTSL'\n",
       "10. 'PAPLN'\n",
       "11. 'LAMC1'\n",
       "12. 'SULF2'\n",
       "13. 'DPP4'\n",
       "14. 'TIMP1'\n",
       "15. 'ITGAM'\n",
       "16. 'LRP1'\n",
       "17. 'MMP25'\n",
       "18. 'MMP19'\n",
       "19. 'TMEM38B'\n",
       "20. 'FBN2'\n",
       "21. 'ITGAE'\n",
       "22. 'PHLDB1'\n",
       "23. 'ITGAX'\n",
       "24. 'ICAM1'\n",
       "25. 'SH3PXD2B'\n",
       "\n",
       "\n",
       "\n",
       "4. 1. 'CAMP'\n",
       "2. 'CRISPLD2'\n",
       "3. 'SLC11A1'\n",
       "4. 'FPR1'\n",
       "5. 'CD93'\n",
       "6. 'FPR2'\n",
       "7. 'CDA'\n",
       "8. 'ALOX5'\n",
       "9. 'S100A9'\n",
       "10. 'CD14'\n",
       "11. 'CFP'\n",
       "12. 'PTX3'\n",
       "13. 'S100A12'\n",
       "14. 'FUCA1'\n",
       "15. 'ADGRE3'\n",
       "16. 'ITGAM'\n",
       "17. 'QPCT'\n",
       "18. 'PADI2'\n",
       "19. 'MMP25'\n",
       "20. 'HPSE'\n",
       "21. 'GLA'\n",
       "22. 'CD300A'\n",
       "23. 'ITGAX'\n",
       "24. 'S100A8'\n",
       "25. 'PLD1'\n",
       "26. 'CXCR1'\n",
       "\n",
       "\n",
       "\n",
       "5. 1. 'FN1'\n",
       "2. 'OSM'\n",
       "3. 'SLC11A1'\n",
       "4. 'CCL24'\n",
       "5. 'CASP5'\n",
       "6. 'THBS1'\n",
       "7. 'FPR1'\n",
       "8. 'TNFRSF4'\n",
       "9. 'FPR2'\n",
       "10. 'ALOX5'\n",
       "11. 'PTGIR'\n",
       "12. 'CSF1'\n",
       "13. 'MEFV'\n",
       "14. 'ADM'\n",
       "15. 'TPST1'\n",
       "16. 'S100A9'\n",
       "17. 'CD14'\n",
       "18. 'IL18'\n",
       "19. 'PTX3'\n",
       "20. 'S100A12'\n",
       "21. 'ADA'\n",
       "22. 'LILRA5'\n",
       "23. 'NOD2'\n",
       "24. 'HLA-DRB1'\n",
       "25. 'MAPK13'\n",
       "26. 'THEMIS2'\n",
       "27. 'NCR3'\n",
       "28. 'CCL22'\n",
       "29. 'IL1R2'\n",
       "30. 'CNR1'\n",
       "31. 'TIMP1'\n",
       "32. 'ITGAM'\n",
       "33. 'KLF4'\n",
       "34. 'LRP1'\n",
       "35. 'SERPINF1'\n",
       "36. 'NLRP12'\n",
       "37. 'MMP25'\n",
       "38. 'DAGLA'\n",
       "39. 'NLRP3'\n",
       "40. 'S100A8'\n",
       "41. 'ADGRE2'\n",
       "42. 'ICAM1'\n",
       "43. 'P2RX7'\n",
       "\n",
       "\n",
       "\n",
       "\n",
       "\n"
      ],
      "text/plain": [
       "[[1]]\n",
       " [1] \"SLC11A1\"  \"TNFRSF21\" \"LILRB4\"   \"ADGRE1\"   \"IL18\"     \"CTSL\"    \n",
       " [7] \"ADA\"      \"HLA-DRB1\" \"HLA-DRB5\" \"HLA-DRA\"  \"JAG1\"     \"POU2F2\"  \n",
       "[13] \"HLX\"      \"HLA-DQB2\" \"ICOSLG\"   \"RNF19B\"   \"NLRP3\"    \"EOMES\"   \n",
       "[19] \"HLA-DPA1\" \"CD74\"     \"HLA-DQA1\" \"HLA-DPB1\" \"LILRA1\"   \"ICAM1\"   \n",
       "[25] \"HLA-DQB1\" \"P2RX7\"   \n",
       "\n",
       "[[2]]\n",
       " [1] \"HLA-DRB1\" \"HLA-DRB5\" \"HLA-DRA\"  \"HLA-DQB2\" \"HLA-DPA1\" \"HLA-DQA1\"\n",
       " [7] \"IRF5\"     \"HLA-DPB1\" \"ICAM1\"    \"HLA-DQB1\" \"GBP1\"    \n",
       "\n",
       "[[3]]\n",
       " [1] \"FN1\"      \"CRISPLD2\" \"PDPN\"     \"NID1\"     \"HTRA1\"    \"THBS1\"   \n",
       " [7] \"FSCN1\"    \"PTX3\"     \"CTSL\"     \"PAPLN\"    \"LAMC1\"    \"SULF2\"   \n",
       "[13] \"DPP4\"     \"TIMP1\"    \"ITGAM\"    \"LRP1\"     \"MMP25\"    \"MMP19\"   \n",
       "[19] \"TMEM38B\"  \"FBN2\"     \"ITGAE\"    \"PHLDB1\"   \"ITGAX\"    \"ICAM1\"   \n",
       "[25] \"SH3PXD2B\"\n",
       "\n",
       "[[4]]\n",
       " [1] \"CAMP\"     \"CRISPLD2\" \"SLC11A1\"  \"FPR1\"     \"CD93\"     \"FPR2\"    \n",
       " [7] \"CDA\"      \"ALOX5\"    \"S100A9\"   \"CD14\"     \"CFP\"      \"PTX3\"    \n",
       "[13] \"S100A12\"  \"FUCA1\"    \"ADGRE3\"   \"ITGAM\"    \"QPCT\"     \"PADI2\"   \n",
       "[19] \"MMP25\"    \"HPSE\"     \"GLA\"      \"CD300A\"   \"ITGAX\"    \"S100A8\"  \n",
       "[25] \"PLD1\"     \"CXCR1\"   \n",
       "\n",
       "[[5]]\n",
       " [1] \"FN1\"      \"OSM\"      \"SLC11A1\"  \"CCL24\"    \"CASP5\"    \"THBS1\"   \n",
       " [7] \"FPR1\"     \"TNFRSF4\"  \"FPR2\"     \"ALOX5\"    \"PTGIR\"    \"CSF1\"    \n",
       "[13] \"MEFV\"     \"ADM\"      \"TPST1\"    \"S100A9\"   \"CD14\"     \"IL18\"    \n",
       "[19] \"PTX3\"     \"S100A12\"  \"ADA\"      \"LILRA5\"   \"NOD2\"     \"HLA-DRB1\"\n",
       "[25] \"MAPK13\"   \"THEMIS2\"  \"NCR3\"     \"CCL22\"    \"IL1R2\"    \"CNR1\"    \n",
       "[31] \"TIMP1\"    \"ITGAM\"    \"KLF4\"     \"LRP1\"     \"SERPINF1\" \"NLRP12\"  \n",
       "[37] \"MMP25\"    \"DAGLA\"    \"NLRP3\"    \"S100A8\"   \"ADGRE2\"   \"ICAM1\"   \n",
       "[43] \"P2RX7\"   \n"
      ]
     },
     "metadata": {},
     "output_type": "display_data"
    }
   ],
   "source": [
    "read.all"
   ]
  },
  {
   "cell_type": "code",
   "execution_count": 73,
   "id": "freelance-cuisine",
   "metadata": {},
   "outputs": [],
   "source": [
    "pr1_genes_up = str_count (pr1_genes, pattern = \"up\")\n",
    "pr2_genes_up = str_count (pr2_genes, pattern = \"up\")\n",
    "pr3_genes_up = str_count (pr3_genes, pattern = \"up\")\n",
    "pr4_genes_up = str_count (pr4_genes, pattern = \"up\")\n",
    "pr5_genes_up = str_count (pr5_genes, pattern = \"up\")\n",
    "\n",
    "pr1_genes_down = str_count (pr1_genes, pattern = \"down\")\n",
    "pr2_genes_down =str_count (pr2_genes, pattern = \"down\")\n",
    "pr3_genes_down =str_count (pr3_genes, pattern = \"down\")\n",
    "pr4_genes_down =str_count (pr4_genes, pattern = \"down\")\n",
    "pr5_genes_down =str_count (pr5_genes, pattern = \"down\")\n",
    "\n",
    "pr1_genes_mixed = str_count (pr1_genes, pattern = \"mixed\")\n",
    "pr2_genes_mixed  = str_count (pr2_genes, pattern = \"mixed\")\n",
    "pr3_genes_mixed  = str_count (pr3_genes, pattern = \"mixed\")\n",
    "pr4_genes_mixed  = str_count (pr4_genes, pattern = \"mixed\")\n",
    "pr5_genes_mixed  = str_count (pr5_genes, pattern = \"mixed\")"
   ]
  },
  {
   "cell_type": "code",
   "execution_count": 74,
   "id": "aging-setup",
   "metadata": {},
   "outputs": [],
   "source": [
    "gofinal_C12 = go_tableSave %>%\n",
    "mutate(.,\n",
    "       genes_selection = case_when(\n",
    "         GO.ID == \"GO:0002250\" ~ paste0(pr1_genes_5),\n",
    "         GO.ID == \"GO:0060333\" ~ paste0(pr2_genes_5),\n",
    "         GO.ID == \"GO:0030198\" ~ paste0(pr3_genes_5),\n",
    "         GO.ID == \"GO:0043312\" ~ paste0(pr4_genes_5),\n",
    "         GO.ID == \"GO:0006954\" ~ paste0(pr5_genes_5)))\n",
    "     #  TRUE ~ NA))\n",
    "\n",
    "gofinal_C12 = gofinal_C12 %>%\n",
    "mutate(.,\n",
    "       genes_all = case_when(\n",
    "         GO.ID == \"GO:0002250\" ~ paste0(pr1_genes),\n",
    "         GO.ID == \"GO:0060333\" ~ paste0(pr2_genes),\n",
    "         GO.ID == \"GO:0030198\" ~ paste0(pr3_genes),\n",
    "         GO.ID == \"GO:0043312\" ~ paste0(pr4_genes),\n",
    "         GO.ID == \"GO:0006954\" ~ paste0(pr5_genes)))\n",
    "\n",
    "\n",
    "######\n",
    "\n",
    "gofinal_C12 = gofinal_C12  %>%\n",
    "mutate(.,\n",
    "       genes_up = case_when(\n",
    "          GO.ID == \"GO:0002250\"  ~ paste0(pr1_genes_up),\n",
    "          GO.ID == \"GO:0060333\" ~ paste0(pr2_genes_up),\n",
    "          GO.ID == \"GO:0030198\" ~ paste0(pr3_genes_up),\n",
    "          GO.ID == \"GO:0043312\" ~ paste0(pr4_genes_up),\n",
    "          GO.ID == \"GO:0006954\"~ paste0(pr5_genes_up)))\n",
    "\n",
    "gofinal_C12 = gofinal_C12  %>%\n",
    "mutate(.,\n",
    "       genes_down = case_when(\n",
    "          GO.ID == \"GO:0002250\"  ~ paste0(pr1_genes_down),\n",
    "          GO.ID == \"GO:0060333\" ~ paste0(pr2_genes_down),\n",
    "          GO.ID == \"GO:0030198\" ~ paste0(pr3_genes_down),\n",
    "          GO.ID == \"GO:0043312\" ~ paste0(pr4_genes_down),\n",
    "          GO.ID == \"GO:0006954\" ~ paste0(pr5_genes_down)))\n",
    "\n",
    "gofinal_C12 = gofinal_C12  %>%\n",
    "mutate(.,\n",
    "       genes_mixed = case_when(\n",
    "          GO.ID == \"GO:0002250\"  ~ paste0(pr1_genes_mixed),\n",
    "          GO.ID == \"GO:0060333\" ~ paste0(pr2_genes_mixed),\n",
    "          GO.ID == \"GO:0030198\" ~ paste0(pr3_genes_mixed),\n",
    "          GO.ID == \"GO:0043312\" ~ paste0(pr4_genes_mixed),\n",
    "          GO.ID == \"GO:0006954\" ~ paste0(pr5_genes_mixed)))\n",
    "#"
   ]
  },
  {
   "cell_type": "code",
   "execution_count": 75,
   "id": "unsigned-butterfly",
   "metadata": {},
   "outputs": [
    {
     "data": {
      "text/html": [
       "<table class=\"dataframe\">\n",
       "<caption>A data.frame: 6 × 11</caption>\n",
       "<thead>\n",
       "\t<tr><th></th><th scope=col>GO.ID</th><th scope=col>Term</th><th scope=col>Annotated</th><th scope=col>Significant</th><th scope=col>Expected</th><th scope=col>weightFisher</th><th scope=col>genes_selection</th><th scope=col>genes_all</th><th scope=col>genes_up</th><th scope=col>genes_down</th><th scope=col>genes_mixed</th></tr>\n",
       "\t<tr><th></th><th scope=col>&lt;chr&gt;</th><th scope=col>&lt;chr&gt;</th><th scope=col>&lt;int&gt;</th><th scope=col>&lt;int&gt;</th><th scope=col>&lt;dbl&gt;</th><th scope=col>&lt;chr&gt;</th><th scope=col>&lt;chr&gt;</th><th scope=col>&lt;chr&gt;</th><th scope=col>&lt;chr&gt;</th><th scope=col>&lt;chr&gt;</th><th scope=col>&lt;chr&gt;</th></tr>\n",
       "</thead>\n",
       "<tbody>\n",
       "\t<tr><th scope=row>1</th><td>GO:0002250</td><td>adaptive immune response                   </td><td>337</td><td>26</td><td> 8.33</td><td>4.7e-07</td><td>ADGRE1 down, IL18 down, LILRB4 up, SLC11A1 up, TNFRSF21 up              </td><td>SLC11A1 up, TNFRSF21 up, LILRB4 up, ADGRE1 down, IL18 down, CTSL up, ADA down, HLA-DRB1 down, HLA-DRB5 down, HLA-DRA down, JAG1 up, POU2F2 down, HLX down, HLA-DQB2 down, ICOSLG down, RNF19B down, NLRP3 mixed, EOMES up, HLA-DPA1 down, CD74 down, HLA-DQA1 down, HLA-DPB1 down, LILRA1 up, ICAM1 down, HLA-DQB1 down, P2RX7 down                                                                                                                                                                       </td><td>7 </td><td>18</td><td>1 </td></tr>\n",
       "\t<tr><th scope=row>2</th><td>GO:0060333</td><td>interferon-gamma-mediated signaling path...</td><td> 78</td><td>11</td><td> 1.93</td><td>3.1e-06</td><td>HLA-DPA1 down, HLA-DQB2 down, HLA-DRA down, HLA-DRB1 down, HLA-DRB5 down</td><td>HLA-DRB1 down, HLA-DRB5 down, HLA-DRA down, HLA-DQB2 down, HLA-DPA1 down, HLA-DQA1 down, IRF5 up, HLA-DPB1 down, ICAM1 down, HLA-DQB1 down, GBP1 down                                                                                                                                                                                                                                                                                                                                                     </td><td>1 </td><td>10</td><td>0 </td></tr>\n",
       "\t<tr><th scope=row>3</th><td>GO:0030198</td><td>extracellular matrix organization          </td><td>206</td><td>25</td><td> 5.09</td><td>1.1e-05</td><td>CRISPLD2 up, FN1 up, HTRA1 up, NID1 down, PDPN up                       </td><td>FN1 up, CRISPLD2 up, PDPN up, NID1 down, HTRA1 up, THBS1 down, FSCN1 down, PTX3 down, CTSL up, PAPLN up, LAMC1 up, SULF2 up, DPP4 up, TIMP1 down, ITGAM up, LRP1 up, MMP25 down, MMP19 up, TMEM38B up, FBN2 down, ITGAE up, PHLDB1 down, ITGAX down, ICAM1 down, SH3PXD2B up                                                                                                                                                                                                                              </td><td>15</td><td>10</td><td>0 </td></tr>\n",
       "\t<tr><th scope=row>4</th><td>GO:0043312</td><td>neutrophil degranulation                   </td><td>425</td><td>26</td><td>10.51</td><td>1.9e-05</td><td>CAMP mixed, CD93 up, CRISPLD2 up, FPR1 down, SLC11A1 up                 </td><td>CAMP mixed, CRISPLD2 up, SLC11A1 up, FPR1 down, CD93 up, FPR2 down, CDA up, ALOX5 up, S100A9 down, CD14 up, CFP down, PTX3 down, S100A12 down, FUCA1 up, ADGRE3 down, ITGAM up, QPCT up, PADI2 down, MMP25 down, HPSE up, GLA down, CD300A down, ITGAX down, S100A8 down, PLD1 up, CXCR1 down                                                                                                                                                                                                             </td><td>11</td><td>14</td><td>1 </td></tr>\n",
       "\t<tr><th scope=row>5</th><td>GO:0006954</td><td>inflammatory response                      </td><td>506</td><td>43</td><td>12.51</td><td>2.0e-05</td><td>CASP5 down, CCL24 down, FN1 up, OSM up, SLC11A1 up                      </td><td>FN1 up, OSM up, SLC11A1 up, CCL24 down, CASP5 down, THBS1 down, FPR1 down, TNFRSF4 down, FPR2 down, ALOX5 up, PTGIR down, CSF1 up, MEFV down, ADM down, TPST1 up, S100A9 down, CD14 up, IL18 down, PTX3 down, S100A12 down, ADA down, LILRA5 down, NOD2 up, HLA-DRB1 down, MAPK13 up, THEMIS2 up, NCR3 mixed, CCL22 up, IL1R2 mixed, CNR1 up, TIMP1 down, ITGAM up, KLF4 down, LRP1 up, SERPINF1 down, NLRP12 mixed, MMP25 down, DAGLA down, NLRP3 mixed, S100A8 down, ADGRE2 down, ICAM1 down, P2RX7 down</td><td>14</td><td>25</td><td>4 </td></tr>\n",
       "\t<tr><th scope=row>6</th><td>GO:0019221</td><td>cytokine-mediated signaling pathway        </td><td>598</td><td>43</td><td>14.79</td><td>3.1e-05</td><td>NA                                                                      </td><td>NA                                                                                                                                                                                                                                                                                                                                                                                                                                                                                                        </td><td>NA</td><td>NA</td><td>NA</td></tr>\n",
       "</tbody>\n",
       "</table>\n"
      ],
      "text/latex": [
       "A data.frame: 6 × 11\n",
       "\\begin{tabular}{r|lllllllllll}\n",
       "  & GO.ID & Term & Annotated & Significant & Expected & weightFisher & genes\\_selection & genes\\_all & genes\\_up & genes\\_down & genes\\_mixed\\\\\n",
       "  & <chr> & <chr> & <int> & <int> & <dbl> & <chr> & <chr> & <chr> & <chr> & <chr> & <chr>\\\\\n",
       "\\hline\n",
       "\t1 & GO:0002250 & adaptive immune response                    & 337 & 26 &  8.33 & 4.7e-07 & ADGRE1 down, IL18 down, LILRB4 up, SLC11A1 up, TNFRSF21 up               & SLC11A1 up, TNFRSF21 up, LILRB4 up, ADGRE1 down, IL18 down, CTSL up, ADA down, HLA-DRB1 down, HLA-DRB5 down, HLA-DRA down, JAG1 up, POU2F2 down, HLX down, HLA-DQB2 down, ICOSLG down, RNF19B down, NLRP3 mixed, EOMES up, HLA-DPA1 down, CD74 down, HLA-DQA1 down, HLA-DPB1 down, LILRA1 up, ICAM1 down, HLA-DQB1 down, P2RX7 down                                                                                                                                                                        & 7  & 18 & 1 \\\\\n",
       "\t2 & GO:0060333 & interferon-gamma-mediated signaling path... &  78 & 11 &  1.93 & 3.1e-06 & HLA-DPA1 down, HLA-DQB2 down, HLA-DRA down, HLA-DRB1 down, HLA-DRB5 down & HLA-DRB1 down, HLA-DRB5 down, HLA-DRA down, HLA-DQB2 down, HLA-DPA1 down, HLA-DQA1 down, IRF5 up, HLA-DPB1 down, ICAM1 down, HLA-DQB1 down, GBP1 down                                                                                                                                                                                                                                                                                                                                                      & 1  & 10 & 0 \\\\\n",
       "\t3 & GO:0030198 & extracellular matrix organization           & 206 & 25 &  5.09 & 1.1e-05 & CRISPLD2 up, FN1 up, HTRA1 up, NID1 down, PDPN up                        & FN1 up, CRISPLD2 up, PDPN up, NID1 down, HTRA1 up, THBS1 down, FSCN1 down, PTX3 down, CTSL up, PAPLN up, LAMC1 up, SULF2 up, DPP4 up, TIMP1 down, ITGAM up, LRP1 up, MMP25 down, MMP19 up, TMEM38B up, FBN2 down, ITGAE up, PHLDB1 down, ITGAX down, ICAM1 down, SH3PXD2B up                                                                                                                                                                                                                               & 15 & 10 & 0 \\\\\n",
       "\t4 & GO:0043312 & neutrophil degranulation                    & 425 & 26 & 10.51 & 1.9e-05 & CAMP mixed, CD93 up, CRISPLD2 up, FPR1 down, SLC11A1 up                  & CAMP mixed, CRISPLD2 up, SLC11A1 up, FPR1 down, CD93 up, FPR2 down, CDA up, ALOX5 up, S100A9 down, CD14 up, CFP down, PTX3 down, S100A12 down, FUCA1 up, ADGRE3 down, ITGAM up, QPCT up, PADI2 down, MMP25 down, HPSE up, GLA down, CD300A down, ITGAX down, S100A8 down, PLD1 up, CXCR1 down                                                                                                                                                                                                              & 11 & 14 & 1 \\\\\n",
       "\t5 & GO:0006954 & inflammatory response                       & 506 & 43 & 12.51 & 2.0e-05 & CASP5 down, CCL24 down, FN1 up, OSM up, SLC11A1 up                       & FN1 up, OSM up, SLC11A1 up, CCL24 down, CASP5 down, THBS1 down, FPR1 down, TNFRSF4 down, FPR2 down, ALOX5 up, PTGIR down, CSF1 up, MEFV down, ADM down, TPST1 up, S100A9 down, CD14 up, IL18 down, PTX3 down, S100A12 down, ADA down, LILRA5 down, NOD2 up, HLA-DRB1 down, MAPK13 up, THEMIS2 up, NCR3 mixed, CCL22 up, IL1R2 mixed, CNR1 up, TIMP1 down, ITGAM up, KLF4 down, LRP1 up, SERPINF1 down, NLRP12 mixed, MMP25 down, DAGLA down, NLRP3 mixed, S100A8 down, ADGRE2 down, ICAM1 down, P2RX7 down & 14 & 25 & 4 \\\\\n",
       "\t6 & GO:0019221 & cytokine-mediated signaling pathway         & 598 & 43 & 14.79 & 3.1e-05 & NA                                                                       & NA                                                                                                                                                                                                                                                                                                                                                                                                                                                                                                         & NA & NA & NA\\\\\n",
       "\\end{tabular}\n"
      ],
      "text/markdown": [
       "\n",
       "A data.frame: 6 × 11\n",
       "\n",
       "| <!--/--> | GO.ID &lt;chr&gt; | Term &lt;chr&gt; | Annotated &lt;int&gt; | Significant &lt;int&gt; | Expected &lt;dbl&gt; | weightFisher &lt;chr&gt; | genes_selection &lt;chr&gt; | genes_all &lt;chr&gt; | genes_up &lt;chr&gt; | genes_down &lt;chr&gt; | genes_mixed &lt;chr&gt; |\n",
       "|---|---|---|---|---|---|---|---|---|---|---|---|\n",
       "| 1 | GO:0002250 | adaptive immune response                    | 337 | 26 |  8.33 | 4.7e-07 | ADGRE1 down, IL18 down, LILRB4 up, SLC11A1 up, TNFRSF21 up               | SLC11A1 up, TNFRSF21 up, LILRB4 up, ADGRE1 down, IL18 down, CTSL up, ADA down, HLA-DRB1 down, HLA-DRB5 down, HLA-DRA down, JAG1 up, POU2F2 down, HLX down, HLA-DQB2 down, ICOSLG down, RNF19B down, NLRP3 mixed, EOMES up, HLA-DPA1 down, CD74 down, HLA-DQA1 down, HLA-DPB1 down, LILRA1 up, ICAM1 down, HLA-DQB1 down, P2RX7 down                                                                                                                                                                        | 7  | 18 | 1  |\n",
       "| 2 | GO:0060333 | interferon-gamma-mediated signaling path... |  78 | 11 |  1.93 | 3.1e-06 | HLA-DPA1 down, HLA-DQB2 down, HLA-DRA down, HLA-DRB1 down, HLA-DRB5 down | HLA-DRB1 down, HLA-DRB5 down, HLA-DRA down, HLA-DQB2 down, HLA-DPA1 down, HLA-DQA1 down, IRF5 up, HLA-DPB1 down, ICAM1 down, HLA-DQB1 down, GBP1 down                                                                                                                                                                                                                                                                                                                                                      | 1  | 10 | 0  |\n",
       "| 3 | GO:0030198 | extracellular matrix organization           | 206 | 25 |  5.09 | 1.1e-05 | CRISPLD2 up, FN1 up, HTRA1 up, NID1 down, PDPN up                        | FN1 up, CRISPLD2 up, PDPN up, NID1 down, HTRA1 up, THBS1 down, FSCN1 down, PTX3 down, CTSL up, PAPLN up, LAMC1 up, SULF2 up, DPP4 up, TIMP1 down, ITGAM up, LRP1 up, MMP25 down, MMP19 up, TMEM38B up, FBN2 down, ITGAE up, PHLDB1 down, ITGAX down, ICAM1 down, SH3PXD2B up                                                                                                                                                                                                                               | 15 | 10 | 0  |\n",
       "| 4 | GO:0043312 | neutrophil degranulation                    | 425 | 26 | 10.51 | 1.9e-05 | CAMP mixed, CD93 up, CRISPLD2 up, FPR1 down, SLC11A1 up                  | CAMP mixed, CRISPLD2 up, SLC11A1 up, FPR1 down, CD93 up, FPR2 down, CDA up, ALOX5 up, S100A9 down, CD14 up, CFP down, PTX3 down, S100A12 down, FUCA1 up, ADGRE3 down, ITGAM up, QPCT up, PADI2 down, MMP25 down, HPSE up, GLA down, CD300A down, ITGAX down, S100A8 down, PLD1 up, CXCR1 down                                                                                                                                                                                                              | 11 | 14 | 1  |\n",
       "| 5 | GO:0006954 | inflammatory response                       | 506 | 43 | 12.51 | 2.0e-05 | CASP5 down, CCL24 down, FN1 up, OSM up, SLC11A1 up                       | FN1 up, OSM up, SLC11A1 up, CCL24 down, CASP5 down, THBS1 down, FPR1 down, TNFRSF4 down, FPR2 down, ALOX5 up, PTGIR down, CSF1 up, MEFV down, ADM down, TPST1 up, S100A9 down, CD14 up, IL18 down, PTX3 down, S100A12 down, ADA down, LILRA5 down, NOD2 up, HLA-DRB1 down, MAPK13 up, THEMIS2 up, NCR3 mixed, CCL22 up, IL1R2 mixed, CNR1 up, TIMP1 down, ITGAM up, KLF4 down, LRP1 up, SERPINF1 down, NLRP12 mixed, MMP25 down, DAGLA down, NLRP3 mixed, S100A8 down, ADGRE2 down, ICAM1 down, P2RX7 down | 14 | 25 | 4  |\n",
       "| 6 | GO:0019221 | cytokine-mediated signaling pathway         | 598 | 43 | 14.79 | 3.1e-05 | NA                                                                       | NA                                                                                                                                                                                                                                                                                                                                                                                                                                                                                                         | NA | NA | NA |\n",
       "\n"
      ],
      "text/plain": [
       "  GO.ID      Term                                        Annotated Significant\n",
       "1 GO:0002250 adaptive immune response                    337       26         \n",
       "2 GO:0060333 interferon-gamma-mediated signaling path...  78       11         \n",
       "3 GO:0030198 extracellular matrix organization           206       25         \n",
       "4 GO:0043312 neutrophil degranulation                    425       26         \n",
       "5 GO:0006954 inflammatory response                       506       43         \n",
       "6 GO:0019221 cytokine-mediated signaling pathway         598       43         \n",
       "  Expected weightFisher\n",
       "1  8.33    4.7e-07     \n",
       "2  1.93    3.1e-06     \n",
       "3  5.09    1.1e-05     \n",
       "4 10.51    1.9e-05     \n",
       "5 12.51    2.0e-05     \n",
       "6 14.79    3.1e-05     \n",
       "  genes_selection                                                         \n",
       "1 ADGRE1 down, IL18 down, LILRB4 up, SLC11A1 up, TNFRSF21 up              \n",
       "2 HLA-DPA1 down, HLA-DQB2 down, HLA-DRA down, HLA-DRB1 down, HLA-DRB5 down\n",
       "3 CRISPLD2 up, FN1 up, HTRA1 up, NID1 down, PDPN up                       \n",
       "4 CAMP mixed, CD93 up, CRISPLD2 up, FPR1 down, SLC11A1 up                 \n",
       "5 CASP5 down, CCL24 down, FN1 up, OSM up, SLC11A1 up                      \n",
       "6 NA                                                                      \n",
       "  genes_all                                                                                                                                                                                                                                                                                                                                                                                                                                                                                                 \n",
       "1 SLC11A1 up, TNFRSF21 up, LILRB4 up, ADGRE1 down, IL18 down, CTSL up, ADA down, HLA-DRB1 down, HLA-DRB5 down, HLA-DRA down, JAG1 up, POU2F2 down, HLX down, HLA-DQB2 down, ICOSLG down, RNF19B down, NLRP3 mixed, EOMES up, HLA-DPA1 down, CD74 down, HLA-DQA1 down, HLA-DPB1 down, LILRA1 up, ICAM1 down, HLA-DQB1 down, P2RX7 down                                                                                                                                                                       \n",
       "2 HLA-DRB1 down, HLA-DRB5 down, HLA-DRA down, HLA-DQB2 down, HLA-DPA1 down, HLA-DQA1 down, IRF5 up, HLA-DPB1 down, ICAM1 down, HLA-DQB1 down, GBP1 down                                                                                                                                                                                                                                                                                                                                                     \n",
       "3 FN1 up, CRISPLD2 up, PDPN up, NID1 down, HTRA1 up, THBS1 down, FSCN1 down, PTX3 down, CTSL up, PAPLN up, LAMC1 up, SULF2 up, DPP4 up, TIMP1 down, ITGAM up, LRP1 up, MMP25 down, MMP19 up, TMEM38B up, FBN2 down, ITGAE up, PHLDB1 down, ITGAX down, ICAM1 down, SH3PXD2B up                                                                                                                                                                                                                              \n",
       "4 CAMP mixed, CRISPLD2 up, SLC11A1 up, FPR1 down, CD93 up, FPR2 down, CDA up, ALOX5 up, S100A9 down, CD14 up, CFP down, PTX3 down, S100A12 down, FUCA1 up, ADGRE3 down, ITGAM up, QPCT up, PADI2 down, MMP25 down, HPSE up, GLA down, CD300A down, ITGAX down, S100A8 down, PLD1 up, CXCR1 down                                                                                                                                                                                                             \n",
       "5 FN1 up, OSM up, SLC11A1 up, CCL24 down, CASP5 down, THBS1 down, FPR1 down, TNFRSF4 down, FPR2 down, ALOX5 up, PTGIR down, CSF1 up, MEFV down, ADM down, TPST1 up, S100A9 down, CD14 up, IL18 down, PTX3 down, S100A12 down, ADA down, LILRA5 down, NOD2 up, HLA-DRB1 down, MAPK13 up, THEMIS2 up, NCR3 mixed, CCL22 up, IL1R2 mixed, CNR1 up, TIMP1 down, ITGAM up, KLF4 down, LRP1 up, SERPINF1 down, NLRP12 mixed, MMP25 down, DAGLA down, NLRP3 mixed, S100A8 down, ADGRE2 down, ICAM1 down, P2RX7 down\n",
       "6 NA                                                                                                                                                                                                                                                                                                                                                                                                                                                                                                        \n",
       "  genes_up genes_down genes_mixed\n",
       "1 7        18         1          \n",
       "2 1        10         0          \n",
       "3 15       10         0          \n",
       "4 11       14         1          \n",
       "5 14       25         4          \n",
       "6 NA       NA         NA         "
      ]
     },
     "metadata": {},
     "output_type": "display_data"
    }
   ],
   "source": [
    "head (gofinal_C12)"
   ]
  },
  {
   "cell_type": "code",
   "execution_count": 76,
   "id": "demanding-profession",
   "metadata": {},
   "outputs": [],
   "source": [
    "write.xlsx (gofinal_C12, \"./data/gofinal_C12.xlsx\", row.names = F)"
   ]
  },
  {
   "cell_type": "code",
   "execution_count": 77,
   "id": "enabling-pastor",
   "metadata": {},
   "outputs": [
    {
     "data": {
      "text/html": [
       "<style>\n",
       ".list-inline {list-style: none; margin:0; padding: 0}\n",
       ".list-inline>li {display: inline-block}\n",
       ".list-inline>li:not(:last-child)::after {content: \"\\00b7\"; padding: 0 .5ex}\n",
       "</style>\n",
       "<ol class=list-inline><li>'11111'</li><li>'11110'</li><li>'11101'</li><li>'11011'</li><li>'10111'</li><li>'01111'</li><li>'11100'</li><li>'11010'</li><li>'11001'</li><li>'10110'</li><li>'10101'</li><li>'10011'</li><li>'01110'</li><li>'01101'</li><li>'01011'</li><li>'00111'</li><li>'11000'</li><li>'10100'</li><li>'10010'</li><li>'10001'</li><li>'01100'</li><li>'01010'</li><li>'01001'</li><li>'00110'</li><li>'00101'</li><li>'00011'</li><li>'10000'</li><li>'01000'</li><li>'00100'</li><li>'00010'</li><li>'00001'</li></ol>\n"
      ],
      "text/latex": [
       "\\begin{enumerate*}\n",
       "\\item '11111'\n",
       "\\item '11110'\n",
       "\\item '11101'\n",
       "\\item '11011'\n",
       "\\item '10111'\n",
       "\\item '01111'\n",
       "\\item '11100'\n",
       "\\item '11010'\n",
       "\\item '11001'\n",
       "\\item '10110'\n",
       "\\item '10101'\n",
       "\\item '10011'\n",
       "\\item '01110'\n",
       "\\item '01101'\n",
       "\\item '01011'\n",
       "\\item '00111'\n",
       "\\item '11000'\n",
       "\\item '10100'\n",
       "\\item '10010'\n",
       "\\item '10001'\n",
       "\\item '01100'\n",
       "\\item '01010'\n",
       "\\item '01001'\n",
       "\\item '00110'\n",
       "\\item '00101'\n",
       "\\item '00011'\n",
       "\\item '10000'\n",
       "\\item '01000'\n",
       "\\item '00100'\n",
       "\\item '00010'\n",
       "\\item '00001'\n",
       "\\end{enumerate*}\n"
      ],
      "text/markdown": [
       "1. '11111'\n",
       "2. '11110'\n",
       "3. '11101'\n",
       "4. '11011'\n",
       "5. '10111'\n",
       "6. '01111'\n",
       "7. '11100'\n",
       "8. '11010'\n",
       "9. '11001'\n",
       "10. '10110'\n",
       "11. '10101'\n",
       "12. '10011'\n",
       "13. '01110'\n",
       "14. '01101'\n",
       "15. '01011'\n",
       "16. '00111'\n",
       "17. '11000'\n",
       "18. '10100'\n",
       "19. '10010'\n",
       "20. '10001'\n",
       "21. '01100'\n",
       "22. '01010'\n",
       "23. '01001'\n",
       "24. '00110'\n",
       "25. '00101'\n",
       "26. '00011'\n",
       "27. '10000'\n",
       "28. '01000'\n",
       "29. '00100'\n",
       "30. '00010'\n",
       "31. '00001'\n",
       "\n",
       "\n"
      ],
      "text/plain": [
       " [1] \"11111\" \"11110\" \"11101\" \"11011\" \"10111\" \"01111\" \"11100\" \"11010\" \"11001\"\n",
       "[10] \"10110\" \"10101\" \"10011\" \"01110\" \"01101\" \"01011\" \"00111\" \"11000\" \"10100\"\n",
       "[19] \"10010\" \"10001\" \"01100\" \"01010\" \"01001\" \"00110\" \"00101\" \"00011\" \"10000\"\n",
       "[28] \"01000\" \"00100\" \"00010\" \"00001\""
      ]
     },
     "metadata": {},
     "output_type": "display_data"
    },
    {
     "data": {
      "text/html": [
       "21"
      ],
      "text/latex": [
       "21"
      ],
      "text/markdown": [
       "21"
      ],
      "text/plain": [
       "[1] 21"
      ]
     },
     "metadata": {},
     "output_type": "display_data"
    },
    {
     "data": {
      "text/html": [
       "<style>\n",
       ".list-inline {list-style: none; margin:0; padding: 0}\n",
       ".list-inline>li {display: inline-block}\n",
       ".list-inline>li:not(:last-child)::after {content: \"\\00b7\"; padding: 0 .5ex}\n",
       "</style>\n",
       "<ol class=list-inline><li>'ADGRE1 down'</li><li>'CAMP mixed'</li><li>'CASP5 down'</li><li>'CCL24 down'</li><li>'CD93 up'</li><li>'CRISPLD2 up'</li><li>'FN1 up'</li><li>'FPR1 down'</li><li>'HLA-DPA1 down'</li><li>'HLA-DQB2 down'</li><li>'HLA-DRA down'</li><li>'HLA-DRB1 down'</li><li>'HLA-DRB5 down'</li><li>'HTRA1 up'</li><li>'IL18 down'</li><li>'LILRB4 up'</li><li>'NID1 down'</li><li>'OSM up'</li><li>'PDPN up'</li><li>'SLC11A1 up'</li><li>'TNFRSF21 up'</li></ol>\n"
      ],
      "text/latex": [
       "\\begin{enumerate*}\n",
       "\\item 'ADGRE1 down'\n",
       "\\item 'CAMP mixed'\n",
       "\\item 'CASP5 down'\n",
       "\\item 'CCL24 down'\n",
       "\\item 'CD93 up'\n",
       "\\item 'CRISPLD2 up'\n",
       "\\item 'FN1 up'\n",
       "\\item 'FPR1 down'\n",
       "\\item 'HLA-DPA1 down'\n",
       "\\item 'HLA-DQB2 down'\n",
       "\\item 'HLA-DRA down'\n",
       "\\item 'HLA-DRB1 down'\n",
       "\\item 'HLA-DRB5 down'\n",
       "\\item 'HTRA1 up'\n",
       "\\item 'IL18 down'\n",
       "\\item 'LILRB4 up'\n",
       "\\item 'NID1 down'\n",
       "\\item 'OSM up'\n",
       "\\item 'PDPN up'\n",
       "\\item 'SLC11A1 up'\n",
       "\\item 'TNFRSF21 up'\n",
       "\\end{enumerate*}\n"
      ],
      "text/markdown": [
       "1. 'ADGRE1 down'\n",
       "2. 'CAMP mixed'\n",
       "3. 'CASP5 down'\n",
       "4. 'CCL24 down'\n",
       "5. 'CD93 up'\n",
       "6. 'CRISPLD2 up'\n",
       "7. 'FN1 up'\n",
       "8. 'FPR1 down'\n",
       "9. 'HLA-DPA1 down'\n",
       "10. 'HLA-DQB2 down'\n",
       "11. 'HLA-DRA down'\n",
       "12. 'HLA-DRB1 down'\n",
       "13. 'HLA-DRB5 down'\n",
       "14. 'HTRA1 up'\n",
       "15. 'IL18 down'\n",
       "16. 'LILRB4 up'\n",
       "17. 'NID1 down'\n",
       "18. 'OSM up'\n",
       "19. 'PDPN up'\n",
       "20. 'SLC11A1 up'\n",
       "21. 'TNFRSF21 up'\n",
       "\n",
       "\n"
      ],
      "text/plain": [
       " [1] \"ADGRE1 down\"   \"CAMP mixed\"    \"CASP5 down\"    \"CCL24 down\"   \n",
       " [5] \"CD93 up\"       \"CRISPLD2 up\"   \"FN1 up\"        \"FPR1 down\"    \n",
       " [9] \"HLA-DPA1 down\" \"HLA-DQB2 down\" \"HLA-DRA down\"  \"HLA-DRB1 down\"\n",
       "[13] \"HLA-DRB5 down\" \"HTRA1 up\"      \"IL18 down\"     \"LILRB4 up\"    \n",
       "[17] \"NID1 down\"     \"OSM up\"        \"PDPN up\"       \"SLC11A1 up\"   \n",
       "[21] \"TNFRSF21 up\"  "
      ]
     },
     "metadata": {},
     "output_type": "display_data"
    }
   ],
   "source": [
    "x12 = list (p1 = pr1_genes_5L,\n",
    "      p2 = pr2_genes_5L,\n",
    "      p3 = pr3_genes_5L,\n",
    "      p4 = pr4_genes_5L,\n",
    "      p5 = pr5_genes_5L)\n",
    "#x12\n",
    "\n",
    "m = make_comb_mat(x12, mode = \"union\")\n",
    "comb_name(m)\n",
    "x12 = extract_comb(m, \"11111\")\n",
    "length (x12)\n",
    "\n",
    "x12"
   ]
  },
  {
   "cell_type": "code",
   "execution_count": 78,
   "id": "chicken-tanzania",
   "metadata": {},
   "outputs": [],
   "source": [
    "#x12 <- as.data.frame (x12)"
   ]
  },
  {
   "cell_type": "code",
   "execution_count": 79,
   "id": "involved-cincinnati",
   "metadata": {},
   "outputs": [],
   "source": [
    "#write.table (x12, \"./data/topgenes_x12.txt\", row.names = F)"
   ]
  },
  {
   "cell_type": "markdown",
   "id": "attempted-increase",
   "metadata": {},
   "source": [
    "## cluster 3 and 4"
   ]
  },
  {
   "cell_type": "code",
   "execution_count": 80,
   "id": "premium-elevation",
   "metadata": {},
   "outputs": [
    {
     "data": {
      "text/html": [
       "12305"
      ],
      "text/latex": [
       "12305"
      ],
      "text/markdown": [
       "12305"
      ],
      "text/plain": [
       "[1] 12305"
      ]
     },
     "metadata": {},
     "output_type": "display_data"
    },
    {
     "data": {
      "text/html": [
       "369"
      ],
      "text/latex": [
       "369"
      ],
      "text/markdown": [
       "369"
      ],
      "text/plain": [
       "[1] 369"
      ]
     },
     "metadata": {},
     "output_type": "display_data"
    }
   ],
   "source": [
    "universe = d$ensembl_gene_id\n",
    "length (universe)\n",
    "\n",
    "cluster34_genes = kmeans_results[kmeans_results$cluster == 3 | kmeans_results$cluster ==4, \"gene\"]\n",
    "expressed = as.numeric(universe %in% cluster34_genes)\n",
    "names(expressed) = universe\n",
    "\n",
    "length (cluster34_genes)"
   ]
  },
  {
   "cell_type": "code",
   "execution_count": 81,
   "id": "organizational-congo",
   "metadata": {},
   "outputs": [
    {
     "data": {
      "text/html": [
       "369"
      ],
      "text/latex": [
       "369"
      ],
      "text/markdown": [
       "369"
      ],
      "text/plain": [
       "[1] 369"
      ]
     },
     "metadata": {},
     "output_type": "display_data"
    },
    {
     "data": {
      "text/html": [
       "12305"
      ],
      "text/latex": [
       "12305"
      ],
      "text/markdown": [
       "12305"
      ],
      "text/plain": [
       "[1] 12305"
      ]
     },
     "metadata": {},
     "output_type": "display_data"
    },
    {
     "name": "stderr",
     "output_type": "stream",
     "text": [
      "\n",
      "Building most specific GOs .....\n",
      "\n",
      "\t( 10686 GO terms found. )\n",
      "\n",
      "\n",
      "Build GO DAG topology ..........\n",
      "\n",
      "\t( 14567 GO terms and 33790 relations. )\n",
      "\n",
      "\n",
      "Annotating nodes ...............\n",
      "\n",
      "\t( 11241 genes annotated to the GO terms. )\n",
      "\n",
      "\n",
      "\t\t\t -- Weight01 Algorithm -- \n",
      "\n",
      "\t\t the algorithm is scoring 4203 nontrivial nodes\n",
      "\t\t parameters: \n",
      "\t\t\t test statistic: fisher\n",
      "\n",
      "\n",
      "\t Level 19:\t1 nodes to be scored\t(0 eliminated genes)\n",
      "\n",
      "\n",
      "\t Level 18:\t1 nodes to be scored\t(0 eliminated genes)\n",
      "\n",
      "\n",
      "\t Level 17:\t7 nodes to be scored\t(12 eliminated genes)\n",
      "\n",
      "\n",
      "\t Level 16:\t15 nodes to be scored\t(16 eliminated genes)\n",
      "\n",
      "\n",
      "\t Level 15:\t31 nodes to be scored\t(90 eliminated genes)\n",
      "\n",
      "\n",
      "\t Level 14:\t62 nodes to be scored\t(202 eliminated genes)\n",
      "\n",
      "\n",
      "\t Level 13:\t90 nodes to be scored\t(542 eliminated genes)\n",
      "\n",
      "\n",
      "\t Level 12:\t153 nodes to be scored\t(1438 eliminated genes)\n",
      "\n",
      "\n",
      "\t Level 11:\t248 nodes to be scored\t(3089 eliminated genes)\n",
      "\n",
      "\n",
      "\t Level 10:\t435 nodes to be scored\t(4605 eliminated genes)\n",
      "\n",
      "\n",
      "\t Level 9:\t579 nodes to be scored\t(5999 eliminated genes)\n",
      "\n",
      "\n",
      "\t Level 8:\t656 nodes to be scored\t(7631 eliminated genes)\n",
      "\n",
      "\n",
      "\t Level 7:\t668 nodes to be scored\t(8861 eliminated genes)\n",
      "\n",
      "\n",
      "\t Level 6:\t578 nodes to be scored\t(10119 eliminated genes)\n",
      "\n",
      "\n",
      "\t Level 5:\t373 nodes to be scored\t(10579 eliminated genes)\n",
      "\n",
      "\n",
      "\t Level 4:\t197 nodes to be scored\t(10883 eliminated genes)\n",
      "\n",
      "\n",
      "\t Level 3:\t89 nodes to be scored\t(11014 eliminated genes)\n",
      "\n",
      "\n",
      "\t Level 2:\t19 nodes to be scored\t(11069 eliminated genes)\n",
      "\n",
      "\n",
      "\t Level 1:\t1 nodes to be scored\t(11129 eliminated genes)\n",
      "\n"
     ]
    },
    {
     "data": {
      "text/html": [
       "<table class=\"dataframe\">\n",
       "<caption>A data.frame: 6 × 6</caption>\n",
       "<thead>\n",
       "\t<tr><th></th><th scope=col>GO.ID</th><th scope=col>Term</th><th scope=col>Annotated</th><th scope=col>Significant</th><th scope=col>Expected</th><th scope=col>weightFisher</th></tr>\n",
       "\t<tr><th></th><th scope=col>&lt;chr&gt;</th><th scope=col>&lt;chr&gt;</th><th scope=col>&lt;int&gt;</th><th scope=col>&lt;int&gt;</th><th scope=col>&lt;dbl&gt;</th><th scope=col>&lt;chr&gt;</th></tr>\n",
       "</thead>\n",
       "<tbody>\n",
       "\t<tr><th scope=row>1</th><td>GO:0043312</td><td>neutrophil degranulation                   </td><td> 425</td><td> 46</td><td>13.23</td><td>9.1e-14</td></tr>\n",
       "\t<tr><th scope=row>2</th><td>GO:0006954</td><td>inflammatory response                      </td><td> 506</td><td> 53</td><td>15.75</td><td>8.9e-10</td></tr>\n",
       "\t<tr><th scope=row>3</th><td>GO:0032755</td><td>positive regulation of interleukin-6 pro...</td><td>  68</td><td> 12</td><td> 2.12</td><td>1.0e-06</td></tr>\n",
       "\t<tr><th scope=row>4</th><td>GO:0008360</td><td>regulation of cell shape                   </td><td> 123</td><td> 16</td><td> 3.83</td><td>1.3e-06</td></tr>\n",
       "\t<tr><th scope=row>5</th><td>GO:0006955</td><td>immune response                            </td><td>1513</td><td>127</td><td>47.11</td><td>2.0e-06</td></tr>\n",
       "\t<tr><th scope=row>6</th><td>GO:0035987</td><td>endodermal cell differentiation            </td><td>  24</td><td>  7</td><td> 0.75</td><td>5.9e-06</td></tr>\n",
       "</tbody>\n",
       "</table>\n"
      ],
      "text/latex": [
       "A data.frame: 6 × 6\n",
       "\\begin{tabular}{r|llllll}\n",
       "  & GO.ID & Term & Annotated & Significant & Expected & weightFisher\\\\\n",
       "  & <chr> & <chr> & <int> & <int> & <dbl> & <chr>\\\\\n",
       "\\hline\n",
       "\t1 & GO:0043312 & neutrophil degranulation                    &  425 &  46 & 13.23 & 9.1e-14\\\\\n",
       "\t2 & GO:0006954 & inflammatory response                       &  506 &  53 & 15.75 & 8.9e-10\\\\\n",
       "\t3 & GO:0032755 & positive regulation of interleukin-6 pro... &   68 &  12 &  2.12 & 1.0e-06\\\\\n",
       "\t4 & GO:0008360 & regulation of cell shape                    &  123 &  16 &  3.83 & 1.3e-06\\\\\n",
       "\t5 & GO:0006955 & immune response                             & 1513 & 127 & 47.11 & 2.0e-06\\\\\n",
       "\t6 & GO:0035987 & endodermal cell differentiation             &   24 &   7 &  0.75 & 5.9e-06\\\\\n",
       "\\end{tabular}\n"
      ],
      "text/markdown": [
       "\n",
       "A data.frame: 6 × 6\n",
       "\n",
       "| <!--/--> | GO.ID &lt;chr&gt; | Term &lt;chr&gt; | Annotated &lt;int&gt; | Significant &lt;int&gt; | Expected &lt;dbl&gt; | weightFisher &lt;chr&gt; |\n",
       "|---|---|---|---|---|---|---|\n",
       "| 1 | GO:0043312 | neutrophil degranulation                    |  425 |  46 | 13.23 | 9.1e-14 |\n",
       "| 2 | GO:0006954 | inflammatory response                       |  506 |  53 | 15.75 | 8.9e-10 |\n",
       "| 3 | GO:0032755 | positive regulation of interleukin-6 pro... |   68 |  12 |  2.12 | 1.0e-06 |\n",
       "| 4 | GO:0008360 | regulation of cell shape                    |  123 |  16 |  3.83 | 1.3e-06 |\n",
       "| 5 | GO:0006955 | immune response                             | 1513 | 127 | 47.11 | 2.0e-06 |\n",
       "| 6 | GO:0035987 | endodermal cell differentiation             |   24 |   7 |  0.75 | 5.9e-06 |\n",
       "\n"
      ],
      "text/plain": [
       "  GO.ID      Term                                        Annotated Significant\n",
       "1 GO:0043312 neutrophil degranulation                     425       46        \n",
       "2 GO:0006954 inflammatory response                        506       53        \n",
       "3 GO:0032755 positive regulation of interleukin-6 pro...   68       12        \n",
       "4 GO:0008360 regulation of cell shape                     123       16        \n",
       "5 GO:0006955 immune response                             1513      127        \n",
       "6 GO:0035987 endodermal cell differentiation               24        7        \n",
       "  Expected weightFisher\n",
       "1 13.23    9.1e-14     \n",
       "2 15.75    8.9e-10     \n",
       "3  2.12    1.0e-06     \n",
       "4  3.83    1.3e-06     \n",
       "5 47.11    2.0e-06     \n",
       "6  0.75    5.9e-06     "
      ]
     },
     "metadata": {},
     "output_type": "display_data"
    }
   ],
   "source": [
    "length (cluster34_genes)\n",
    "length (expressed)\n",
    "\n",
    "go_data = new(\"topGOdata\", \n",
    "              ontology = \"BP\", \n",
    "              allGenes = expressed,\n",
    "              nodeSize = 10,\n",
    "              geneSel = function(x){\n",
    "                return(x == 1)},\n",
    "              annot = annFUN.org, \n",
    "              mapping = \"org.Hs.eg.db\", \n",
    "              ID = \"ensembl\")\n",
    "\n",
    "go_test<- runTest(go_data, algorithm = \"weight01\", statistic = \"fisher\")\n",
    "go_table <- GenTable(go_data, weightFisher = go_test,\n",
    "                     orderBy = \"weightFisher\", ranksOf = \"weightFisher\",\n",
    "                     topNodes = sum(score(go_test) < .01))\n",
    "head(go_table)"
   ]
  },
  {
   "cell_type": "code",
   "execution_count": 82,
   "id": "pediatric-intro",
   "metadata": {},
   "outputs": [],
   "source": [
    "go_tableSave <- as.data.frame (go_table)\n",
    "#head (go_tableSave)"
   ]
  },
  {
   "cell_type": "markdown",
   "id": "minus-parallel",
   "metadata": {},
   "source": [
    "### IN CLUSTER 34"
   ]
  },
  {
   "cell_type": "code",
   "execution_count": 83,
   "id": "several-mobile",
   "metadata": {},
   "outputs": [],
   "source": [
    "go_table$genes <- sapply(go_table$GO.ID, function(x)\n",
    "    {\n",
    "      genes<-genesInTerm(go_data, x) \n",
    "      genes[[1]][genes[[1]] %in% cluster34_genes] ### IN CLUSTER 34\n",
    "    })"
   ]
  },
  {
   "cell_type": "code",
   "execution_count": 84,
   "id": "careful-colors",
   "metadata": {},
   "outputs": [
    {
     "data": {
      "text/html": [
       "'GO:0043312'"
      ],
      "text/latex": [
       "'GO:0043312'"
      ],
      "text/markdown": [
       "'GO:0043312'"
      ],
      "text/plain": [
       "[1] \"GO:0043312\""
      ]
     },
     "metadata": {},
     "output_type": "display_data"
    },
    {
     "data": {
      "text/html": [
       "'GO:0006954'"
      ],
      "text/latex": [
       "'GO:0006954'"
      ],
      "text/markdown": [
       "'GO:0006954'"
      ],
      "text/plain": [
       "[1] \"GO:0006954\""
      ]
     },
     "metadata": {},
     "output_type": "display_data"
    },
    {
     "data": {
      "text/html": [
       "'GO:0032755'"
      ],
      "text/latex": [
       "'GO:0032755'"
      ],
      "text/markdown": [
       "'GO:0032755'"
      ],
      "text/plain": [
       "[1] \"GO:0032755\""
      ]
     },
     "metadata": {},
     "output_type": "display_data"
    },
    {
     "data": {
      "text/html": [
       "'GO:0008360'"
      ],
      "text/latex": [
       "'GO:0008360'"
      ],
      "text/markdown": [
       "'GO:0008360'"
      ],
      "text/plain": [
       "[1] \"GO:0008360\""
      ]
     },
     "metadata": {},
     "output_type": "display_data"
    },
    {
     "data": {
      "text/html": [
       "'GO:0006955'"
      ],
      "text/latex": [
       "'GO:0006955'"
      ],
      "text/markdown": [
       "'GO:0006955'"
      ],
      "text/plain": [
       "[1] \"GO:0006955\""
      ]
     },
     "metadata": {},
     "output_type": "display_data"
    }
   ],
   "source": [
    "go_table[1,1]\n",
    "go_table[2,1]\n",
    "go_table[3,1]\n",
    "go_table[4,1]\n",
    "go_table[5,1]"
   ]
  },
  {
   "cell_type": "code",
   "execution_count": 85,
   "id": "conceptual-apparel",
   "metadata": {},
   "outputs": [],
   "source": [
    "first = go_table$genes$\"GO:0043312\"\n",
    "#first"
   ]
  },
  {
   "cell_type": "code",
   "execution_count": 86,
   "id": "knowing-insert",
   "metadata": {},
   "outputs": [],
   "source": [
    "second = go_table$genes$'GO:0006954'\n",
    "#second"
   ]
  },
  {
   "cell_type": "code",
   "execution_count": 87,
   "id": "pediatric-caribbean",
   "metadata": {},
   "outputs": [],
   "source": [
    "third = go_table$genes$'GO:0032755'\n",
    "#third"
   ]
  },
  {
   "cell_type": "code",
   "execution_count": 88,
   "id": "cardiac-discrimination",
   "metadata": {},
   "outputs": [],
   "source": [
    "forth = go_table$genes$'GO:0008360'\n",
    "#forth"
   ]
  },
  {
   "cell_type": "code",
   "execution_count": 89,
   "id": "trying-mailing",
   "metadata": {},
   "outputs": [],
   "source": [
    "fifth = go_table$genes$'GO:0006955'\n",
    "#fifth"
   ]
  },
  {
   "cell_type": "code",
   "execution_count": 90,
   "id": "macro-fitting",
   "metadata": {},
   "outputs": [
    {
     "data": {
      "text/html": [
       "'FCN1 down, MMP9 down, OLR1 up, TRPM2 down, CXCL1 up, CLEC12A up, JUP down, GSN down, SIGLEC14 down, CHI3L1 mixed, ANPEP down, MNDA mixed, MGST1 mixed, LILRB2 down, CD36 down, ADGRG3 up, ATP8B4 down, CST3 down, PRKCD down, FGL2 down, PTAFR down, PPBP up, IMPDH1 down, TYROBP down, ACP3 down, CTSH down, CLEC5A mixed, HSPA1A down, ATG7 down, HSPA1B down, CYFIP1 down, RAB31 down, ANXA2 down, MAN2B1 down, PLAUR up, FCAR up, FTH1 down, ATP6V0A1 down, PRAM1 down, LILRB3 down, ALDH3B1 down, ITGB2 down, SIRPB1 down, GAA down, GRN down, NFAM1 down'"
      ],
      "text/latex": [
       "'FCN1 down, MMP9 down, OLR1 up, TRPM2 down, CXCL1 up, CLEC12A up, JUP down, GSN down, SIGLEC14 down, CHI3L1 mixed, ANPEP down, MNDA mixed, MGST1 mixed, LILRB2 down, CD36 down, ADGRG3 up, ATP8B4 down, CST3 down, PRKCD down, FGL2 down, PTAFR down, PPBP up, IMPDH1 down, TYROBP down, ACP3 down, CTSH down, CLEC5A mixed, HSPA1A down, ATG7 down, HSPA1B down, CYFIP1 down, RAB31 down, ANXA2 down, MAN2B1 down, PLAUR up, FCAR up, FTH1 down, ATP6V0A1 down, PRAM1 down, LILRB3 down, ALDH3B1 down, ITGB2 down, SIRPB1 down, GAA down, GRN down, NFAM1 down'"
      ],
      "text/markdown": [
       "'FCN1 down, MMP9 down, OLR1 up, TRPM2 down, CXCL1 up, CLEC12A up, JUP down, GSN down, SIGLEC14 down, CHI3L1 mixed, ANPEP down, MNDA mixed, MGST1 mixed, LILRB2 down, CD36 down, ADGRG3 up, ATP8B4 down, CST3 down, PRKCD down, FGL2 down, PTAFR down, PPBP up, IMPDH1 down, TYROBP down, ACP3 down, CTSH down, CLEC5A mixed, HSPA1A down, ATG7 down, HSPA1B down, CYFIP1 down, RAB31 down, ANXA2 down, MAN2B1 down, PLAUR up, FCAR up, FTH1 down, ATP6V0A1 down, PRAM1 down, LILRB3 down, ALDH3B1 down, ITGB2 down, SIRPB1 down, GAA down, GRN down, NFAM1 down'"
      ],
      "text/plain": [
       "[1] \"FCN1 down, MMP9 down, OLR1 up, TRPM2 down, CXCL1 up, CLEC12A up, JUP down, GSN down, SIGLEC14 down, CHI3L1 mixed, ANPEP down, MNDA mixed, MGST1 mixed, LILRB2 down, CD36 down, ADGRG3 up, ATP8B4 down, CST3 down, PRKCD down, FGL2 down, PTAFR down, PPBP up, IMPDH1 down, TYROBP down, ACP3 down, CTSH down, CLEC5A mixed, HSPA1A down, ATG7 down, HSPA1B down, CYFIP1 down, RAB31 down, ANXA2 down, MAN2B1 down, PLAUR up, FCAR up, FTH1 down, ATP6V0A1 down, PRAM1 down, LILRB3 down, ALDH3B1 down, ITGB2 down, SIRPB1 down, GAA down, GRN down, NFAM1 down\""
      ]
     },
     "metadata": {},
     "output_type": "display_data"
    },
    {
     "data": {
      "text/html": [
       "'CXCL1 up, FCN1 down, MMP9 down, OLR1 up, TRPM2 down'"
      ],
      "text/latex": [
       "'CXCL1 up, FCN1 down, MMP9 down, OLR1 up, TRPM2 down'"
      ],
      "text/markdown": [
       "'CXCL1 up, FCN1 down, MMP9 down, OLR1 up, TRPM2 down'"
      ],
      "text/plain": [
       "[1] \"CXCL1 up, FCN1 down, MMP9 down, OLR1 up, TRPM2 down\""
      ]
     },
     "metadata": {},
     "output_type": "display_data"
    },
    {
     "data": {
      "text/html": [
       "'CXCL9 down, CXCL10 down, TREM1 up, CXCL5 up, STAB1 down, MMP9 down, OLR1 up, LPL up, FFAR2 up, PLA2G4C down, ADORA3 down, SLAMF8 down, SIGLEC1 down, BMP6 up, IL1B up, CXCL1 up, FPR3 down, SPP1 mixed, TLR8 down, TGM2 up, PLA2G7 down, SERPINE1 mixed, CHI3L1 mixed, IL1RN up, CD36 down, LOXL3 down, PRKCD down, PTAFR down, PPBP up, CCR2 down, CXCL8 up, CXCR4 up, AIF1 down, LACC1 down, CEBPB up, TLR7 down, IFNGR1 down, TYROBP down, CD163 down, CEBPA down, CCRL2 mixed, CIITA down, LDLR down, PTGS1 down, HCK down, C5AR2 mixed, IL17RC down, SPHK1 up, CSF1R down, FCGR2B down, ITGB2 down, GRN down, NFAM1 down'"
      ],
      "text/latex": [
       "'CXCL9 down, CXCL10 down, TREM1 up, CXCL5 up, STAB1 down, MMP9 down, OLR1 up, LPL up, FFAR2 up, PLA2G4C down, ADORA3 down, SLAMF8 down, SIGLEC1 down, BMP6 up, IL1B up, CXCL1 up, FPR3 down, SPP1 mixed, TLR8 down, TGM2 up, PLA2G7 down, SERPINE1 mixed, CHI3L1 mixed, IL1RN up, CD36 down, LOXL3 down, PRKCD down, PTAFR down, PPBP up, CCR2 down, CXCL8 up, CXCR4 up, AIF1 down, LACC1 down, CEBPB up, TLR7 down, IFNGR1 down, TYROBP down, CD163 down, CEBPA down, CCRL2 mixed, CIITA down, LDLR down, PTGS1 down, HCK down, C5AR2 mixed, IL17RC down, SPHK1 up, CSF1R down, FCGR2B down, ITGB2 down, GRN down, NFAM1 down'"
      ],
      "text/markdown": [
       "'CXCL9 down, CXCL10 down, TREM1 up, CXCL5 up, STAB1 down, MMP9 down, OLR1 up, LPL up, FFAR2 up, PLA2G4C down, ADORA3 down, SLAMF8 down, SIGLEC1 down, BMP6 up, IL1B up, CXCL1 up, FPR3 down, SPP1 mixed, TLR8 down, TGM2 up, PLA2G7 down, SERPINE1 mixed, CHI3L1 mixed, IL1RN up, CD36 down, LOXL3 down, PRKCD down, PTAFR down, PPBP up, CCR2 down, CXCL8 up, CXCR4 up, AIF1 down, LACC1 down, CEBPB up, TLR7 down, IFNGR1 down, TYROBP down, CD163 down, CEBPA down, CCRL2 mixed, CIITA down, LDLR down, PTGS1 down, HCK down, C5AR2 mixed, IL17RC down, SPHK1 up, CSF1R down, FCGR2B down, ITGB2 down, GRN down, NFAM1 down'"
      ],
      "text/plain": [
       "[1] \"CXCL9 down, CXCL10 down, TREM1 up, CXCL5 up, STAB1 down, MMP9 down, OLR1 up, LPL up, FFAR2 up, PLA2G4C down, ADORA3 down, SLAMF8 down, SIGLEC1 down, BMP6 up, IL1B up, CXCL1 up, FPR3 down, SPP1 mixed, TLR8 down, TGM2 up, PLA2G7 down, SERPINE1 mixed, CHI3L1 mixed, IL1RN up, CD36 down, LOXL3 down, PRKCD down, PTAFR down, PPBP up, CCR2 down, CXCL8 up, CXCR4 up, AIF1 down, LACC1 down, CEBPB up, TLR7 down, IFNGR1 down, TYROBP down, CD163 down, CEBPA down, CCRL2 mixed, CIITA down, LDLR down, PTGS1 down, HCK down, C5AR2 mixed, IL17RC down, SPHK1 up, CSF1R down, FCGR2B down, ITGB2 down, GRN down, NFAM1 down\""
      ]
     },
     "metadata": {},
     "output_type": "display_data"
    },
    {
     "data": {
      "text/html": [
       "'CXCL10 down, CXCL5 up, CXCL9 down, STAB1 down, TREM1 up'"
      ],
      "text/latex": [
       "'CXCL10 down, CXCL5 up, CXCL9 down, STAB1 down, TREM1 up'"
      ],
      "text/markdown": [
       "'CXCL10 down, CXCL5 up, CXCL9 down, STAB1 down, TREM1 up'"
      ],
      "text/plain": [
       "[1] \"CXCL10 down, CXCL5 up, CXCL9 down, STAB1 down, TREM1 up\""
      ]
     },
     "metadata": {},
     "output_type": "display_data"
    },
    {
     "data": {
      "text/html": [
       "'LPL up, RAB7B down, IL1B up, TLR8 down, EREG mixed, LILRB2 down, CD36 down, CARD9 down, AIF1 down, TLR7 down, TYROBP down, LILRA2 mixed'"
      ],
      "text/latex": [
       "'LPL up, RAB7B down, IL1B up, TLR8 down, EREG mixed, LILRB2 down, CD36 down, CARD9 down, AIF1 down, TLR7 down, TYROBP down, LILRA2 mixed'"
      ],
      "text/markdown": [
       "'LPL up, RAB7B down, IL1B up, TLR8 down, EREG mixed, LILRB2 down, CD36 down, CARD9 down, AIF1 down, TLR7 down, TYROBP down, LILRA2 mixed'"
      ],
      "text/plain": [
       "[1] \"LPL up, RAB7B down, IL1B up, TLR8 down, EREG mixed, LILRB2 down, CD36 down, CARD9 down, AIF1 down, TLR7 down, TYROBP down, LILRA2 mixed\""
      ]
     },
     "metadata": {},
     "output_type": "display_data"
    },
    {
     "data": {
      "text/html": [
       "'EREG mixed, IL1B up, LPL up, RAB7B down, TLR8 down'"
      ],
      "text/latex": [
       "'EREG mixed, IL1B up, LPL up, RAB7B down, TLR8 down'"
      ],
      "text/markdown": [
       "'EREG mixed, IL1B up, LPL up, RAB7B down, TLR8 down'"
      ],
      "text/plain": [
       "[1] \"EREG mixed, IL1B up, LPL up, RAB7B down, TLR8 down\""
      ]
     },
     "metadata": {},
     "output_type": "display_data"
    },
    {
     "data": {
      "text/html": [
       "'LPAR1 up, BAIAP2 down, MYO10 down, PEAK3 down, SEMA4A down, LST1 down, FES down, PLXNC1 down, PLXND1 down, FGD2 down, CYFIP1 down, PLXNB2 down, HCK down, FGD4 down, CSF1R down, ITGB2 down'"
      ],
      "text/latex": [
       "'LPAR1 up, BAIAP2 down, MYO10 down, PEAK3 down, SEMA4A down, LST1 down, FES down, PLXNC1 down, PLXND1 down, FGD2 down, CYFIP1 down, PLXNB2 down, HCK down, FGD4 down, CSF1R down, ITGB2 down'"
      ],
      "text/markdown": [
       "'LPAR1 up, BAIAP2 down, MYO10 down, PEAK3 down, SEMA4A down, LST1 down, FES down, PLXNC1 down, PLXND1 down, FGD2 down, CYFIP1 down, PLXNB2 down, HCK down, FGD4 down, CSF1R down, ITGB2 down'"
      ],
      "text/plain": [
       "[1] \"LPAR1 up, BAIAP2 down, MYO10 down, PEAK3 down, SEMA4A down, LST1 down, FES down, PLXNC1 down, PLXND1 down, FGD2 down, CYFIP1 down, PLXNB2 down, HCK down, FGD4 down, CSF1R down, ITGB2 down\""
      ]
     },
     "metadata": {},
     "output_type": "display_data"
    },
    {
     "data": {
      "text/html": [
       "'BAIAP2 down, LPAR1 up, MYO10 down, PEAK3 down, SEMA4A down'"
      ],
      "text/latex": [
       "'BAIAP2 down, LPAR1 up, MYO10 down, PEAK3 down, SEMA4A down'"
      ],
      "text/markdown": [
       "'BAIAP2 down, LPAR1 up, MYO10 down, PEAK3 down, SEMA4A down'"
      ],
      "text/plain": [
       "[1] \"BAIAP2 down, LPAR1 up, MYO10 down, PEAK3 down, SEMA4A down\""
      ]
     },
     "metadata": {},
     "output_type": "display_data"
    },
    {
     "data": {
      "text/html": [
       "'CXCL9 down, CXCL10 down, TREM1 up, CXCL5 up, C1QC down, FCN1 down, MMP9 down, OLR1 up, FFAR2 up, MPEG1 down, C1QB down, SLAMF8 down, RAB7B down, C2 down, TRPM2 down, BMP6 up, IL1B up, CXCL1 up, IL18BP down, BAIAP2 down, CLEC12A up, FPR3 down, MYO10 down, CLEC10A down, IGSF6 down, SECTM1 down, TRPM4 down, JUP down, TLR8 down, SEMA4A down, LST1 down, CLEC4A down, GSN down, FZD5 down, NECTIN2 down, PAK1 down, TEC down, ENPP2 down, SIGLEC14 down, RNASE6 down, CHI3L1 mixed, EREG mixed, APOBEC3A up, IL1RN up, ANPEP down, DUSP3 down, MNDA mixed, MGST1 mixed, RGCC up, LILRB2 down, LILRB5 down, PRDX1 down, CD36 down, ADGRG3 up, CD4 down, LOXL3 down, PVR down, FES down, ATP8B4 down, CST3 down, PRKCD down, FGL2 down, PTAFR down, PPBP up, MILR1 down, STAT1 down, CCR2 down, IMPDH1 down, FCGR1A down, TMEM106A down, CXCL8 up, RGS1 up, CXCR4 up, CARD9 down, BCL2 up, NCF2 mixed, AIF1 down, LACC1 down, CEBPB up, TLR7 down, HLA-DMA down, IFNGR1 down, TYROBP down, LILRA2 mixed, ALCAM mixed, ACP3 down, DAPK1 down, CTSH down, CCRL2 mixed, CLEC5A mixed, HSPA1A down, ATG7 down, CIITA down, HSPA1B down, CYFIP1 down, HLA-DMB down, LTBR down, ACTB down, NCR3LG1 mixed, RAB31 down, ANXA2 down, TNFSF13 down, HCK down, C5AR2 mixed, MAN2B1 down, PLAUR up, FCAR up, CXCL16 up, FTH1 down, FCGRT down, ATP6V0A1 down, CSF1R down, PRAM1 down, FCGR2B down, HRH2 down, LILRB3 down, ALDH3B1 down, CNPY3 down, SIGLEC7 down, UNC93B1 down, CD300C down, VSIR down, ITGB2 down, SIRPB1 down, GAA down, GRN down, NFAM1 down'"
      ],
      "text/latex": [
       "'CXCL9 down, CXCL10 down, TREM1 up, CXCL5 up, C1QC down, FCN1 down, MMP9 down, OLR1 up, FFAR2 up, MPEG1 down, C1QB down, SLAMF8 down, RAB7B down, C2 down, TRPM2 down, BMP6 up, IL1B up, CXCL1 up, IL18BP down, BAIAP2 down, CLEC12A up, FPR3 down, MYO10 down, CLEC10A down, IGSF6 down, SECTM1 down, TRPM4 down, JUP down, TLR8 down, SEMA4A down, LST1 down, CLEC4A down, GSN down, FZD5 down, NECTIN2 down, PAK1 down, TEC down, ENPP2 down, SIGLEC14 down, RNASE6 down, CHI3L1 mixed, EREG mixed, APOBEC3A up, IL1RN up, ANPEP down, DUSP3 down, MNDA mixed, MGST1 mixed, RGCC up, LILRB2 down, LILRB5 down, PRDX1 down, CD36 down, ADGRG3 up, CD4 down, LOXL3 down, PVR down, FES down, ATP8B4 down, CST3 down, PRKCD down, FGL2 down, PTAFR down, PPBP up, MILR1 down, STAT1 down, CCR2 down, IMPDH1 down, FCGR1A down, TMEM106A down, CXCL8 up, RGS1 up, CXCR4 up, CARD9 down, BCL2 up, NCF2 mixed, AIF1 down, LACC1 down, CEBPB up, TLR7 down, HLA-DMA down, IFNGR1 down, TYROBP down, LILRA2 mixed, ALCAM mixed, ACP3 down, DAPK1 down, CTSH down, CCRL2 mixed, CLEC5A mixed, HSPA1A down, ATG7 down, CIITA down, HSPA1B down, CYFIP1 down, HLA-DMB down, LTBR down, ACTB down, NCR3LG1 mixed, RAB31 down, ANXA2 down, TNFSF13 down, HCK down, C5AR2 mixed, MAN2B1 down, PLAUR up, FCAR up, CXCL16 up, FTH1 down, FCGRT down, ATP6V0A1 down, CSF1R down, PRAM1 down, FCGR2B down, HRH2 down, LILRB3 down, ALDH3B1 down, CNPY3 down, SIGLEC7 down, UNC93B1 down, CD300C down, VSIR down, ITGB2 down, SIRPB1 down, GAA down, GRN down, NFAM1 down'"
      ],
      "text/markdown": [
       "'CXCL9 down, CXCL10 down, TREM1 up, CXCL5 up, C1QC down, FCN1 down, MMP9 down, OLR1 up, FFAR2 up, MPEG1 down, C1QB down, SLAMF8 down, RAB7B down, C2 down, TRPM2 down, BMP6 up, IL1B up, CXCL1 up, IL18BP down, BAIAP2 down, CLEC12A up, FPR3 down, MYO10 down, CLEC10A down, IGSF6 down, SECTM1 down, TRPM4 down, JUP down, TLR8 down, SEMA4A down, LST1 down, CLEC4A down, GSN down, FZD5 down, NECTIN2 down, PAK1 down, TEC down, ENPP2 down, SIGLEC14 down, RNASE6 down, CHI3L1 mixed, EREG mixed, APOBEC3A up, IL1RN up, ANPEP down, DUSP3 down, MNDA mixed, MGST1 mixed, RGCC up, LILRB2 down, LILRB5 down, PRDX1 down, CD36 down, ADGRG3 up, CD4 down, LOXL3 down, PVR down, FES down, ATP8B4 down, CST3 down, PRKCD down, FGL2 down, PTAFR down, PPBP up, MILR1 down, STAT1 down, CCR2 down, IMPDH1 down, FCGR1A down, TMEM106A down, CXCL8 up, RGS1 up, CXCR4 up, CARD9 down, BCL2 up, NCF2 mixed, AIF1 down, LACC1 down, CEBPB up, TLR7 down, HLA-DMA down, IFNGR1 down, TYROBP down, LILRA2 mixed, ALCAM mixed, ACP3 down, DAPK1 down, CTSH down, CCRL2 mixed, CLEC5A mixed, HSPA1A down, ATG7 down, CIITA down, HSPA1B down, CYFIP1 down, HLA-DMB down, LTBR down, ACTB down, NCR3LG1 mixed, RAB31 down, ANXA2 down, TNFSF13 down, HCK down, C5AR2 mixed, MAN2B1 down, PLAUR up, FCAR up, CXCL16 up, FTH1 down, FCGRT down, ATP6V0A1 down, CSF1R down, PRAM1 down, FCGR2B down, HRH2 down, LILRB3 down, ALDH3B1 down, CNPY3 down, SIGLEC7 down, UNC93B1 down, CD300C down, VSIR down, ITGB2 down, SIRPB1 down, GAA down, GRN down, NFAM1 down'"
      ],
      "text/plain": [
       "[1] \"CXCL9 down, CXCL10 down, TREM1 up, CXCL5 up, C1QC down, FCN1 down, MMP9 down, OLR1 up, FFAR2 up, MPEG1 down, C1QB down, SLAMF8 down, RAB7B down, C2 down, TRPM2 down, BMP6 up, IL1B up, CXCL1 up, IL18BP down, BAIAP2 down, CLEC12A up, FPR3 down, MYO10 down, CLEC10A down, IGSF6 down, SECTM1 down, TRPM4 down, JUP down, TLR8 down, SEMA4A down, LST1 down, CLEC4A down, GSN down, FZD5 down, NECTIN2 down, PAK1 down, TEC down, ENPP2 down, SIGLEC14 down, RNASE6 down, CHI3L1 mixed, EREG mixed, APOBEC3A up, IL1RN up, ANPEP down, DUSP3 down, MNDA mixed, MGST1 mixed, RGCC up, LILRB2 down, LILRB5 down, PRDX1 down, CD36 down, ADGRG3 up, CD4 down, LOXL3 down, PVR down, FES down, ATP8B4 down, CST3 down, PRKCD down, FGL2 down, PTAFR down, PPBP up, MILR1 down, STAT1 down, CCR2 down, IMPDH1 down, FCGR1A down, TMEM106A down, CXCL8 up, RGS1 up, CXCR4 up, CARD9 down, BCL2 up, NCF2 mixed, AIF1 down, LACC1 down, CEBPB up, TLR7 down, HLA-DMA down, IFNGR1 down, TYROBP down, LILRA2 mixed, ALCAM mixed, ACP3 down, DAPK1 down, CTSH down, CCRL2 mixed, CLEC5A mixed, HSPA1A down, ATG7 down, CIITA down, HSPA1B down, CYFIP1 down, HLA-DMB down, LTBR down, ACTB down, NCR3LG1 mixed, RAB31 down, ANXA2 down, TNFSF13 down, HCK down, C5AR2 mixed, MAN2B1 down, PLAUR up, FCAR up, CXCL16 up, FTH1 down, FCGRT down, ATP6V0A1 down, CSF1R down, PRAM1 down, FCGR2B down, HRH2 down, LILRB3 down, ALDH3B1 down, CNPY3 down, SIGLEC7 down, UNC93B1 down, CD300C down, VSIR down, ITGB2 down, SIRPB1 down, GAA down, GRN down, NFAM1 down\""
      ]
     },
     "metadata": {},
     "output_type": "display_data"
    },
    {
     "data": {
      "text/html": [
       "'C1QC down, CXCL10 down, CXCL5 up, CXCL9 down, TREM1 up'"
      ],
      "text/latex": [
       "'C1QC down, CXCL10 down, CXCL5 up, CXCL9 down, TREM1 up'"
      ],
      "text/markdown": [
       "'C1QC down, CXCL10 down, CXCL5 up, CXCL9 down, TREM1 up'"
      ],
      "text/plain": [
       "[1] \"C1QC down, CXCL10 down, CXCL5 up, CXCL9 down, TREM1 up\""
      ]
     },
     "metadata": {},
     "output_type": "display_data"
    }
   ],
   "source": [
    "#add yes-no col\n",
    "first1 <- as_tibble (first)\n",
    "\n",
    "first1 = first1 %>%\n",
    "rename (ensembl_gene_id = value) %>%\n",
    "add_column (is_first = \"Yes\")\n",
    "\n",
    "#column_to_rownames (\"hgnc_symbol\")\n",
    "\n",
    "mrg_prim1 <- merge (de2, first1, by = \"ensembl_gene_id\", all.x = T)\n",
    "#head (mrg_prim1)\n",
    "\n",
    "\n",
    "pr1 <- mrg_prim1 %>%\n",
    "filter (., is_first == \"Yes\") %>%\n",
    "arrange (., -max_val)\n",
    "\n",
    "#pr1_genes <- paste(pr1$hgnc_symbol[1:5], (pr1$Regulation_v2[1:5]))\n",
    "pr1_genes <- paste(pr1$hgnc_symbol, (pr1$Regulation_v2))\n",
    "pr1_genes <- toString (pr1_genes)\n",
    "pr1_genes\n",
    "\n",
    "pr1_genes_5L <- paste(pr1$hgnc_symbol[1:5],(pr1$Regulation_v2[1:5]))\n",
    "pr1_genes_5 = pr1_genes_5L %>%\n",
    "sort(.) %>%\n",
    "toString()\n",
    "\n",
    "pr1_genes_5\n",
    "\n",
    "#add yes-no col\n",
    "second1 <- as_tibble (second)\n",
    "\n",
    "second1 = second1 %>%\n",
    "rename (ensembl_gene_id = value) %>%\n",
    "add_column (is_second = \"Yes\")\n",
    "\n",
    "#column_to_rownames (\"hgnc_symbol\")\n",
    "\n",
    "mrg_prim2 <- merge (de2, second1, by = \"ensembl_gene_id\", all.x = T)\n",
    "#head (mrg_prim2)\n",
    "\n",
    "\n",
    "pr2 <- mrg_prim2 %>%\n",
    "filter (., is_second == \"Yes\") %>%\n",
    "arrange (., -max_val)\n",
    "\n",
    "#pr2_genes <- paste(pr2$hgnc_symbol[1:5], (pr2$Regulation_v2[1:5]))\n",
    "pr2_genes <- paste(pr2$hgnc_symbol, (pr2$Regulation_v2))\n",
    "pr2_genes <- toString (pr2_genes)\n",
    "pr2_genes\n",
    "\n",
    "pr2_genes_5L <- paste(pr2$hgnc_symbol[1:5],(pr2$Regulation_v2[1:5]))\n",
    "pr2_genes_5 = pr2_genes_5L %>%\n",
    "sort(.) %>%\n",
    "toString()\n",
    "\n",
    "pr2_genes_5\n",
    "\n",
    "######\n",
    "#add yes-no col\n",
    "third1 <- as_tibble (third)\n",
    "\n",
    "third1 = third1 %>%\n",
    "rename (ensembl_gene_id = value) %>%\n",
    "add_column (is_third = \"Yes\")\n",
    "\n",
    "#column_to_rownames (\"hgnc_symbol\")\n",
    "\n",
    "mrg_prim3 <- merge (de2, third1, by = \"ensembl_gene_id\", all.x = T)\n",
    "#head (mrg_prim3)\n",
    "\n",
    "\n",
    "pr3 <- mrg_prim3 %>%\n",
    "filter (., is_third == \"Yes\") %>%\n",
    "arrange (., -max_val)\n",
    "\n",
    "#pr3_genes <- paste(pr3$hgnc_symbol[1:5], (pr3$Regulation_v2[1:5]))\n",
    "pr3_genes <- paste(pr3$hgnc_symbol, (pr3$Regulation_v2))\n",
    "pr3_genes <- toString (pr3_genes)\n",
    "pr3_genes\n",
    "\n",
    "pr3_genes_5L <- paste(pr3$hgnc_symbol[1:5],(pr3$Regulation_v2[1:5]))\n",
    "pr3_genes_5 = pr3_genes_5L %>%\n",
    "sort(.) %>%\n",
    "toString()\n",
    "\n",
    "pr3_genes_5\n",
    "\n",
    "######\n",
    "\n",
    "#add yes-no col\n",
    "forth1 <- as_tibble (forth)\n",
    "\n",
    "forth1 = forth1 %>%\n",
    "rename (ensembl_gene_id = value) %>%\n",
    "add_column (is_forth = \"Yes\")\n",
    "\n",
    "#column_to_rownames (\"hgnc_symbol\")\n",
    "\n",
    "mrg_prim4 <- merge (de2, forth1, by = \"ensembl_gene_id\", all.x = T)\n",
    "#head (mrg_prim4)\n",
    "\n",
    "\n",
    "pr4 <- mrg_prim4 %>%\n",
    "filter (., is_forth == \"Yes\") %>%\n",
    "arrange (., -max_val)\n",
    "\n",
    "#pr4_genes <- paste(pr4$hgnc_symbol[1:5], (pr4$Regulation_v2[1:5]))\n",
    "pr4_genes <- paste(pr4$hgnc_symbol, (pr4$Regulation_v2))\n",
    "pr4_genes <- toString (pr4_genes)\n",
    "pr4_genes\n",
    "\n",
    "pr4_genes_5L <- paste(pr4$hgnc_symbol[1:5],(pr4$Regulation_v2[1:5]))\n",
    "pr4_genes_5 = pr4_genes_5L %>%\n",
    "sort(.) %>%\n",
    "toString()\n",
    "\n",
    "pr4_genes_5\n",
    "\n",
    "#####\n",
    "\n",
    "#add yes-no col\n",
    "fifth1 <- as_tibble (fifth)\n",
    "\n",
    "fifth1 = fifth1 %>%\n",
    "rename (ensembl_gene_id = value) %>%\n",
    "add_column (is_fifth = \"Yes\")\n",
    "\n",
    "#column_to_rownames (\"hgnc_symbol\")\n",
    "\n",
    "mrg_prim5 <- merge (de2, fifth1, by = \"ensembl_gene_id\", all.x = T)\n",
    "#head (mrg_prim5)\n",
    "\n",
    "\n",
    "pr5 <- mrg_prim5 %>%\n",
    "filter (., is_fifth == \"Yes\") %>%\n",
    "arrange (., -max_val)\n",
    "\n",
    "#pr5_genes <- paste(pr5$hgnc_symbol[1:5], (pr5$Regulation_v2[1:5]))\n",
    "pr5_genes <- paste(pr5$hgnc_symbol, (pr5$Regulation_v2))\n",
    "pr5_genes <- toString (pr5_genes)\n",
    "pr5_genes\n",
    "\n",
    "pr5_genes_5L <- paste(pr5$hgnc_symbol[1:5],(pr5$Regulation_v2[1:5]))\n",
    "pr5_genes_5 = pr5_genes_5L %>%\n",
    "sort(.) %>%\n",
    "toString()\n",
    "\n",
    "pr5_genes_5"
   ]
  },
  {
   "cell_type": "code",
   "execution_count": 91,
   "id": "banned-episode",
   "metadata": {},
   "outputs": [
    {
     "data": {
      "text/html": [
       "'GO:0043312'"
      ],
      "text/latex": [
       "'GO:0043312'"
      ],
      "text/markdown": [
       "'GO:0043312'"
      ],
      "text/plain": [
       "[1] \"GO:0043312\""
      ]
     },
     "metadata": {},
     "output_type": "display_data"
    },
    {
     "data": {
      "text/html": [
       "'GO:0006954'"
      ],
      "text/latex": [
       "'GO:0006954'"
      ],
      "text/markdown": [
       "'GO:0006954'"
      ],
      "text/plain": [
       "[1] \"GO:0006954\""
      ]
     },
     "metadata": {},
     "output_type": "display_data"
    },
    {
     "data": {
      "text/html": [
       "'GO:0032755'"
      ],
      "text/latex": [
       "'GO:0032755'"
      ],
      "text/markdown": [
       "'GO:0032755'"
      ],
      "text/plain": [
       "[1] \"GO:0032755\""
      ]
     },
     "metadata": {},
     "output_type": "display_data"
    },
    {
     "data": {
      "text/html": [
       "'GO:0008360'"
      ],
      "text/latex": [
       "'GO:0008360'"
      ],
      "text/markdown": [
       "'GO:0008360'"
      ],
      "text/plain": [
       "[1] \"GO:0008360\""
      ]
     },
     "metadata": {},
     "output_type": "display_data"
    },
    {
     "data": {
      "text/html": [
       "'GO:0006955'"
      ],
      "text/latex": [
       "'GO:0006955'"
      ],
      "text/markdown": [
       "'GO:0006955'"
      ],
      "text/plain": [
       "[1] \"GO:0006955\""
      ]
     },
     "metadata": {},
     "output_type": "display_data"
    }
   ],
   "source": [
    "go_table[1,1]\n",
    "go_table[2,1]\n",
    "go_table[3,1]\n",
    "go_table[4,1]\n",
    "go_table[5,1]"
   ]
  },
  {
   "cell_type": "code",
   "execution_count": 92,
   "id": "unlikely-comparative",
   "metadata": {},
   "outputs": [],
   "source": [
    "pr1_genes_up = str_count (pr1_genes, pattern = \"up\")\n",
    "pr2_genes_up = str_count (pr2_genes, pattern = \"up\")\n",
    "pr3_genes_up = str_count (pr3_genes, pattern = \"up\")\n",
    "pr4_genes_up = str_count (pr4_genes, pattern = \"up\")\n",
    "pr5_genes_up = str_count (pr5_genes, pattern = \"up\")\n",
    "\n",
    "pr1_genes_down = str_count (pr1_genes, pattern = \"down\")\n",
    "pr2_genes_down =str_count (pr2_genes, pattern = \"down\")\n",
    "pr3_genes_down =str_count (pr3_genes, pattern = \"down\")\n",
    "pr4_genes_down =str_count (pr4_genes, pattern = \"down\")\n",
    "pr5_genes_down =str_count (pr5_genes, pattern = \"down\")\n",
    "\n",
    "pr1_genes_mixed = str_count (pr1_genes, pattern = \"mixed\")\n",
    "pr2_genes_mixed  = str_count (pr2_genes, pattern = \"mixed\")\n",
    "pr3_genes_mixed  = str_count (pr3_genes, pattern = \"mixed\")\n",
    "pr4_genes_mixed  = str_count (pr4_genes, pattern = \"mixed\")\n",
    "pr5_genes_mixed  = str_count (pr5_genes, pattern = \"mixed\")"
   ]
  },
  {
   "cell_type": "code",
   "execution_count": 93,
   "id": "circular-render",
   "metadata": {},
   "outputs": [],
   "source": [
    "gofinal_C34 = go_tableSave %>%\n",
    "mutate(.,\n",
    "       genes_selection = case_when(\n",
    "         GO.ID == \"GO:0043312\" ~ paste0(pr1_genes_5),\n",
    "         GO.ID == \"GO:0006954\" ~ paste0(pr2_genes_5),\n",
    "         GO.ID == \"GO:0032755\" ~ paste0(pr3_genes_5),\n",
    "         GO.ID == \"GO:0008360\" ~ paste0(pr4_genes_5),\n",
    "         GO.ID == \"GO:0006955\" ~ paste0(pr5_genes_5)))\n",
    "     #  TRUE ~ NA))\n",
    "\n",
    "gofinal_C34 = gofinal_C34 %>%\n",
    "mutate(.,\n",
    "       genes_all = case_when(\n",
    "         GO.ID == \"GO:0043312\" ~ paste0(pr1_genes),\n",
    "         GO.ID == \"GO:0006954\" ~ paste0(pr2_genes),\n",
    "         GO.ID == \"GO:0032755\" ~ paste0(pr3_genes),\n",
    "         GO.ID == \"GO:0008360\" ~ paste0(pr4_genes),\n",
    "         GO.ID == \"GO:0006955\" ~ paste0(pr5_genes)))\n",
    "     #  TRUE ~ NA))\n",
    "\n",
    "\n",
    "######\n",
    "\n",
    "gofinal_C34 = gofinal_C34  %>%\n",
    "mutate(.,\n",
    "       genes_up = case_when(\n",
    "           GO.ID == \"GO:0043312\"  ~ paste0(pr1_genes_up),\n",
    "           GO.ID == \"GO:0006954\" ~ paste0(pr2_genes_up),\n",
    "           GO.ID == \"GO:0032755\" ~ paste0(pr3_genes_up),\n",
    "           GO.ID == \"GO:0008360\" ~ paste0(pr4_genes_up),\n",
    "           GO.ID == \"GO:0006955\"~ paste0(pr5_genes_up)))\n",
    "\n",
    "gofinal_C34 = gofinal_C34  %>%\n",
    "mutate(.,\n",
    "       genes_down = case_when(\n",
    "           GO.ID == \"GO:0043312\"  ~ paste0(pr1_genes_down),\n",
    "           GO.ID == \"GO:0006954\" ~ paste0(pr2_genes_down),\n",
    "           GO.ID == \"GO:0032755\" ~ paste0(pr3_genes_down),\n",
    "           GO.ID == \"GO:0008360\" ~ paste0(pr4_genes_down),\n",
    "           GO.ID == \"GO:0006955\" ~ paste0(pr5_genes_down)))\n",
    "\n",
    "gofinal_C34 = gofinal_C34  %>%\n",
    "mutate(.,\n",
    "       genes_mixed = case_when(\n",
    "           GO.ID == \"GO:0043312\"  ~ paste0(pr1_genes_mixed),\n",
    "           GO.ID == \"GO:0006954\" ~ paste0(pr2_genes_mixed),\n",
    "           GO.ID == \"GO:0032755\" ~ paste0(pr3_genes_mixed),\n",
    "           GO.ID == \"GO:0008360\" ~ paste0(pr4_genes_mixed),\n",
    "           GO.ID == \"GO:0006955\" ~ paste0(pr5_genes_mixed)))"
   ]
  },
  {
   "cell_type": "code",
   "execution_count": 94,
   "id": "middle-honduras",
   "metadata": {},
   "outputs": [
    {
     "data": {
      "text/html": [
       "<table class=\"dataframe\">\n",
       "<caption>A data.frame: 6 × 11</caption>\n",
       "<thead>\n",
       "\t<tr><th></th><th scope=col>GO.ID</th><th scope=col>Term</th><th scope=col>Annotated</th><th scope=col>Significant</th><th scope=col>Expected</th><th scope=col>weightFisher</th><th scope=col>genes_selection</th><th scope=col>genes_all</th><th scope=col>genes_up</th><th scope=col>genes_down</th><th scope=col>genes_mixed</th></tr>\n",
       "\t<tr><th></th><th scope=col>&lt;chr&gt;</th><th scope=col>&lt;chr&gt;</th><th scope=col>&lt;int&gt;</th><th scope=col>&lt;int&gt;</th><th scope=col>&lt;dbl&gt;</th><th scope=col>&lt;chr&gt;</th><th scope=col>&lt;chr&gt;</th><th scope=col>&lt;chr&gt;</th><th scope=col>&lt;chr&gt;</th><th scope=col>&lt;chr&gt;</th><th scope=col>&lt;chr&gt;</th></tr>\n",
       "</thead>\n",
       "<tbody>\n",
       "\t<tr><th scope=row>1</th><td>GO:0043312</td><td>neutrophil degranulation                   </td><td> 425</td><td> 46</td><td>13.23</td><td>9.1e-14</td><td>CXCL1 up, FCN1 down, MMP9 down, OLR1 up, TRPM2 down       </td><td>FCN1 down, MMP9 down, OLR1 up, TRPM2 down, CXCL1 up, CLEC12A up, JUP down, GSN down, SIGLEC14 down, CHI3L1 mixed, ANPEP down, MNDA mixed, MGST1 mixed, LILRB2 down, CD36 down, ADGRG3 up, ATP8B4 down, CST3 down, PRKCD down, FGL2 down, PTAFR down, PPBP up, IMPDH1 down, TYROBP down, ACP3 down, CTSH down, CLEC5A mixed, HSPA1A down, ATG7 down, HSPA1B down, CYFIP1 down, RAB31 down, ANXA2 down, MAN2B1 down, PLAUR up, FCAR up, FTH1 down, ATP6V0A1 down, PRAM1 down, LILRB3 down, ALDH3B1 down, ITGB2 down, SIRPB1 down, GAA down, GRN down, NFAM1 down                                                                                                                                                                                                                                                                                                                                                                                                                                                                                                                                                                                                                                                                                                                                                                                                                                                                                                                                                                                          </td><td>7 </td><td>35</td><td>4 </td></tr>\n",
       "\t<tr><th scope=row>2</th><td>GO:0006954</td><td>inflammatory response                      </td><td> 506</td><td> 53</td><td>15.75</td><td>8.9e-10</td><td>CXCL10 down, CXCL5 up, CXCL9 down, STAB1 down, TREM1 up   </td><td>CXCL9 down, CXCL10 down, TREM1 up, CXCL5 up, STAB1 down, MMP9 down, OLR1 up, LPL up, FFAR2 up, PLA2G4C down, ADORA3 down, SLAMF8 down, SIGLEC1 down, BMP6 up, IL1B up, CXCL1 up, FPR3 down, SPP1 mixed, TLR8 down, TGM2 up, PLA2G7 down, SERPINE1 mixed, CHI3L1 mixed, IL1RN up, CD36 down, LOXL3 down, PRKCD down, PTAFR down, PPBP up, CCR2 down, CXCL8 up, CXCR4 up, AIF1 down, LACC1 down, CEBPB up, TLR7 down, IFNGR1 down, TYROBP down, CD163 down, CEBPA down, CCRL2 mixed, CIITA down, LDLR down, PTGS1 down, HCK down, C5AR2 mixed, IL17RC down, SPHK1 up, CSF1R down, FCGR2B down, ITGB2 down, GRN down, NFAM1 down                                                                                                                                                                                                                                                                                                                                                                                                                                                                                                                                                                                                                                                                                                                                                                                                                                                                                                                           </td><td>15</td><td>33</td><td>5 </td></tr>\n",
       "\t<tr><th scope=row>3</th><td>GO:0032755</td><td>positive regulation of interleukin-6 pro...</td><td>  68</td><td> 12</td><td> 2.12</td><td>1.0e-06</td><td>EREG mixed, IL1B up, LPL up, RAB7B down, TLR8 down        </td><td>LPL up, RAB7B down, IL1B up, TLR8 down, EREG mixed, LILRB2 down, CD36 down, CARD9 down, AIF1 down, TLR7 down, TYROBP down, LILRA2 mixed                                                                                                                                                                                                                                                                                                                                                                                                                                                                                                                                                                                                                                                                                                                                                                                                                                                                                                                                                                                                                                                                                                                                                                                                                                                                                                                                                                                                                 </td><td>2 </td><td>8 </td><td>2 </td></tr>\n",
       "\t<tr><th scope=row>4</th><td>GO:0008360</td><td>regulation of cell shape                   </td><td> 123</td><td> 16</td><td> 3.83</td><td>1.3e-06</td><td>BAIAP2 down, LPAR1 up, MYO10 down, PEAK3 down, SEMA4A down</td><td>LPAR1 up, BAIAP2 down, MYO10 down, PEAK3 down, SEMA4A down, LST1 down, FES down, PLXNC1 down, PLXND1 down, FGD2 down, CYFIP1 down, PLXNB2 down, HCK down, FGD4 down, CSF1R down, ITGB2 down                                                                                                                                                                                                                                                                                                                                                                                                                                                                                                                                                                                                                                                                                                                                                                                                                                                                                                                                                                                                                                                                                                                                                                                                                                                                                                                                                             </td><td>1 </td><td>15</td><td>0 </td></tr>\n",
       "\t<tr><th scope=row>5</th><td>GO:0006955</td><td>immune response                            </td><td>1513</td><td>127</td><td>47.11</td><td>2.0e-06</td><td>C1QC down, CXCL10 down, CXCL5 up, CXCL9 down, TREM1 up    </td><td>CXCL9 down, CXCL10 down, TREM1 up, CXCL5 up, C1QC down, FCN1 down, MMP9 down, OLR1 up, FFAR2 up, MPEG1 down, C1QB down, SLAMF8 down, RAB7B down, C2 down, TRPM2 down, BMP6 up, IL1B up, CXCL1 up, IL18BP down, BAIAP2 down, CLEC12A up, FPR3 down, MYO10 down, CLEC10A down, IGSF6 down, SECTM1 down, TRPM4 down, JUP down, TLR8 down, SEMA4A down, LST1 down, CLEC4A down, GSN down, FZD5 down, NECTIN2 down, PAK1 down, TEC down, ENPP2 down, SIGLEC14 down, RNASE6 down, CHI3L1 mixed, EREG mixed, APOBEC3A up, IL1RN up, ANPEP down, DUSP3 down, MNDA mixed, MGST1 mixed, RGCC up, LILRB2 down, LILRB5 down, PRDX1 down, CD36 down, ADGRG3 up, CD4 down, LOXL3 down, PVR down, FES down, ATP8B4 down, CST3 down, PRKCD down, FGL2 down, PTAFR down, PPBP up, MILR1 down, STAT1 down, CCR2 down, IMPDH1 down, FCGR1A down, TMEM106A down, CXCL8 up, RGS1 up, CXCR4 up, CARD9 down, BCL2 up, NCF2 mixed, AIF1 down, LACC1 down, CEBPB up, TLR7 down, HLA-DMA down, IFNGR1 down, TYROBP down, LILRA2 mixed, ALCAM mixed, ACP3 down, DAPK1 down, CTSH down, CCRL2 mixed, CLEC5A mixed, HSPA1A down, ATG7 down, CIITA down, HSPA1B down, CYFIP1 down, HLA-DMB down, LTBR down, ACTB down, NCR3LG1 mixed, RAB31 down, ANXA2 down, TNFSF13 down, HCK down, C5AR2 mixed, MAN2B1 down, PLAUR up, FCAR up, CXCL16 up, FTH1 down, FCGRT down, ATP6V0A1 down, CSF1R down, PRAM1 down, FCGR2B down, HRH2 down, LILRB3 down, ALDH3B1 down, CNPY3 down, SIGLEC7 down, UNC93B1 down, CD300C down, VSIR down, ITGB2 down, SIRPB1 down, GAA down, GRN down, NFAM1 down</td><td>21</td><td>95</td><td>11</td></tr>\n",
       "\t<tr><th scope=row>6</th><td>GO:0035987</td><td>endodermal cell differentiation            </td><td>  24</td><td>  7</td><td> 0.75</td><td>5.9e-06</td><td>NA                                                        </td><td>NA                                                                                                                                                                                                                                                                                                                                                                                                                                                                                                                                                                                                                                                                                                                                                                                                                                                                                                                                                                                                                                                                                                                                                                                                                                                                                                                                                                                                                                                                                                                                                      </td><td>NA</td><td>NA</td><td>NA</td></tr>\n",
       "</tbody>\n",
       "</table>\n"
      ],
      "text/latex": [
       "A data.frame: 6 × 11\n",
       "\\begin{tabular}{r|lllllllllll}\n",
       "  & GO.ID & Term & Annotated & Significant & Expected & weightFisher & genes\\_selection & genes\\_all & genes\\_up & genes\\_down & genes\\_mixed\\\\\n",
       "  & <chr> & <chr> & <int> & <int> & <dbl> & <chr> & <chr> & <chr> & <chr> & <chr> & <chr>\\\\\n",
       "\\hline\n",
       "\t1 & GO:0043312 & neutrophil degranulation                    &  425 &  46 & 13.23 & 9.1e-14 & CXCL1 up, FCN1 down, MMP9 down, OLR1 up, TRPM2 down        & FCN1 down, MMP9 down, OLR1 up, TRPM2 down, CXCL1 up, CLEC12A up, JUP down, GSN down, SIGLEC14 down, CHI3L1 mixed, ANPEP down, MNDA mixed, MGST1 mixed, LILRB2 down, CD36 down, ADGRG3 up, ATP8B4 down, CST3 down, PRKCD down, FGL2 down, PTAFR down, PPBP up, IMPDH1 down, TYROBP down, ACP3 down, CTSH down, CLEC5A mixed, HSPA1A down, ATG7 down, HSPA1B down, CYFIP1 down, RAB31 down, ANXA2 down, MAN2B1 down, PLAUR up, FCAR up, FTH1 down, ATP6V0A1 down, PRAM1 down, LILRB3 down, ALDH3B1 down, ITGB2 down, SIRPB1 down, GAA down, GRN down, NFAM1 down                                                                                                                                                                                                                                                                                                                                                                                                                                                                                                                                                                                                                                                                                                                                                                                                                                                                                                                                                                                           & 7  & 35 & 4 \\\\\n",
       "\t2 & GO:0006954 & inflammatory response                       &  506 &  53 & 15.75 & 8.9e-10 & CXCL10 down, CXCL5 up, CXCL9 down, STAB1 down, TREM1 up    & CXCL9 down, CXCL10 down, TREM1 up, CXCL5 up, STAB1 down, MMP9 down, OLR1 up, LPL up, FFAR2 up, PLA2G4C down, ADORA3 down, SLAMF8 down, SIGLEC1 down, BMP6 up, IL1B up, CXCL1 up, FPR3 down, SPP1 mixed, TLR8 down, TGM2 up, PLA2G7 down, SERPINE1 mixed, CHI3L1 mixed, IL1RN up, CD36 down, LOXL3 down, PRKCD down, PTAFR down, PPBP up, CCR2 down, CXCL8 up, CXCR4 up, AIF1 down, LACC1 down, CEBPB up, TLR7 down, IFNGR1 down, TYROBP down, CD163 down, CEBPA down, CCRL2 mixed, CIITA down, LDLR down, PTGS1 down, HCK down, C5AR2 mixed, IL17RC down, SPHK1 up, CSF1R down, FCGR2B down, ITGB2 down, GRN down, NFAM1 down                                                                                                                                                                                                                                                                                                                                                                                                                                                                                                                                                                                                                                                                                                                                                                                                                                                                                                                            & 15 & 33 & 5 \\\\\n",
       "\t3 & GO:0032755 & positive regulation of interleukin-6 pro... &   68 &  12 &  2.12 & 1.0e-06 & EREG mixed, IL1B up, LPL up, RAB7B down, TLR8 down         & LPL up, RAB7B down, IL1B up, TLR8 down, EREG mixed, LILRB2 down, CD36 down, CARD9 down, AIF1 down, TLR7 down, TYROBP down, LILRA2 mixed                                                                                                                                                                                                                                                                                                                                                                                                                                                                                                                                                                                                                                                                                                                                                                                                                                                                                                                                                                                                                                                                                                                                                                                                                                                                                                                                                                                                                  & 2  & 8  & 2 \\\\\n",
       "\t4 & GO:0008360 & regulation of cell shape                    &  123 &  16 &  3.83 & 1.3e-06 & BAIAP2 down, LPAR1 up, MYO10 down, PEAK3 down, SEMA4A down & LPAR1 up, BAIAP2 down, MYO10 down, PEAK3 down, SEMA4A down, LST1 down, FES down, PLXNC1 down, PLXND1 down, FGD2 down, CYFIP1 down, PLXNB2 down, HCK down, FGD4 down, CSF1R down, ITGB2 down                                                                                                                                                                                                                                                                                                                                                                                                                                                                                                                                                                                                                                                                                                                                                                                                                                                                                                                                                                                                                                                                                                                                                                                                                                                                                                                                                              & 1  & 15 & 0 \\\\\n",
       "\t5 & GO:0006955 & immune response                             & 1513 & 127 & 47.11 & 2.0e-06 & C1QC down, CXCL10 down, CXCL5 up, CXCL9 down, TREM1 up     & CXCL9 down, CXCL10 down, TREM1 up, CXCL5 up, C1QC down, FCN1 down, MMP9 down, OLR1 up, FFAR2 up, MPEG1 down, C1QB down, SLAMF8 down, RAB7B down, C2 down, TRPM2 down, BMP6 up, IL1B up, CXCL1 up, IL18BP down, BAIAP2 down, CLEC12A up, FPR3 down, MYO10 down, CLEC10A down, IGSF6 down, SECTM1 down, TRPM4 down, JUP down, TLR8 down, SEMA4A down, LST1 down, CLEC4A down, GSN down, FZD5 down, NECTIN2 down, PAK1 down, TEC down, ENPP2 down, SIGLEC14 down, RNASE6 down, CHI3L1 mixed, EREG mixed, APOBEC3A up, IL1RN up, ANPEP down, DUSP3 down, MNDA mixed, MGST1 mixed, RGCC up, LILRB2 down, LILRB5 down, PRDX1 down, CD36 down, ADGRG3 up, CD4 down, LOXL3 down, PVR down, FES down, ATP8B4 down, CST3 down, PRKCD down, FGL2 down, PTAFR down, PPBP up, MILR1 down, STAT1 down, CCR2 down, IMPDH1 down, FCGR1A down, TMEM106A down, CXCL8 up, RGS1 up, CXCR4 up, CARD9 down, BCL2 up, NCF2 mixed, AIF1 down, LACC1 down, CEBPB up, TLR7 down, HLA-DMA down, IFNGR1 down, TYROBP down, LILRA2 mixed, ALCAM mixed, ACP3 down, DAPK1 down, CTSH down, CCRL2 mixed, CLEC5A mixed, HSPA1A down, ATG7 down, CIITA down, HSPA1B down, CYFIP1 down, HLA-DMB down, LTBR down, ACTB down, NCR3LG1 mixed, RAB31 down, ANXA2 down, TNFSF13 down, HCK down, C5AR2 mixed, MAN2B1 down, PLAUR up, FCAR up, CXCL16 up, FTH1 down, FCGRT down, ATP6V0A1 down, CSF1R down, PRAM1 down, FCGR2B down, HRH2 down, LILRB3 down, ALDH3B1 down, CNPY3 down, SIGLEC7 down, UNC93B1 down, CD300C down, VSIR down, ITGB2 down, SIRPB1 down, GAA down, GRN down, NFAM1 down & 21 & 95 & 11\\\\\n",
       "\t6 & GO:0035987 & endodermal cell differentiation             &   24 &   7 &  0.75 & 5.9e-06 & NA                                                         & NA                                                                                                                                                                                                                                                                                                                                                                                                                                                                                                                                                                                                                                                                                                                                                                                                                                                                                                                                                                                                                                                                                                                                                                                                                                                                                                                                                                                                                                                                                                                                                       & NA & NA & NA\\\\\n",
       "\\end{tabular}\n"
      ],
      "text/markdown": [
       "\n",
       "A data.frame: 6 × 11\n",
       "\n",
       "| <!--/--> | GO.ID &lt;chr&gt; | Term &lt;chr&gt; | Annotated &lt;int&gt; | Significant &lt;int&gt; | Expected &lt;dbl&gt; | weightFisher &lt;chr&gt; | genes_selection &lt;chr&gt; | genes_all &lt;chr&gt; | genes_up &lt;chr&gt; | genes_down &lt;chr&gt; | genes_mixed &lt;chr&gt; |\n",
       "|---|---|---|---|---|---|---|---|---|---|---|---|\n",
       "| 1 | GO:0043312 | neutrophil degranulation                    |  425 |  46 | 13.23 | 9.1e-14 | CXCL1 up, FCN1 down, MMP9 down, OLR1 up, TRPM2 down        | FCN1 down, MMP9 down, OLR1 up, TRPM2 down, CXCL1 up, CLEC12A up, JUP down, GSN down, SIGLEC14 down, CHI3L1 mixed, ANPEP down, MNDA mixed, MGST1 mixed, LILRB2 down, CD36 down, ADGRG3 up, ATP8B4 down, CST3 down, PRKCD down, FGL2 down, PTAFR down, PPBP up, IMPDH1 down, TYROBP down, ACP3 down, CTSH down, CLEC5A mixed, HSPA1A down, ATG7 down, HSPA1B down, CYFIP1 down, RAB31 down, ANXA2 down, MAN2B1 down, PLAUR up, FCAR up, FTH1 down, ATP6V0A1 down, PRAM1 down, LILRB3 down, ALDH3B1 down, ITGB2 down, SIRPB1 down, GAA down, GRN down, NFAM1 down                                                                                                                                                                                                                                                                                                                                                                                                                                                                                                                                                                                                                                                                                                                                                                                                                                                                                                                                                                                           | 7  | 35 | 4  |\n",
       "| 2 | GO:0006954 | inflammatory response                       |  506 |  53 | 15.75 | 8.9e-10 | CXCL10 down, CXCL5 up, CXCL9 down, STAB1 down, TREM1 up    | CXCL9 down, CXCL10 down, TREM1 up, CXCL5 up, STAB1 down, MMP9 down, OLR1 up, LPL up, FFAR2 up, PLA2G4C down, ADORA3 down, SLAMF8 down, SIGLEC1 down, BMP6 up, IL1B up, CXCL1 up, FPR3 down, SPP1 mixed, TLR8 down, TGM2 up, PLA2G7 down, SERPINE1 mixed, CHI3L1 mixed, IL1RN up, CD36 down, LOXL3 down, PRKCD down, PTAFR down, PPBP up, CCR2 down, CXCL8 up, CXCR4 up, AIF1 down, LACC1 down, CEBPB up, TLR7 down, IFNGR1 down, TYROBP down, CD163 down, CEBPA down, CCRL2 mixed, CIITA down, LDLR down, PTGS1 down, HCK down, C5AR2 mixed, IL17RC down, SPHK1 up, CSF1R down, FCGR2B down, ITGB2 down, GRN down, NFAM1 down                                                                                                                                                                                                                                                                                                                                                                                                                                                                                                                                                                                                                                                                                                                                                                                                                                                                                                                            | 15 | 33 | 5  |\n",
       "| 3 | GO:0032755 | positive regulation of interleukin-6 pro... |   68 |  12 |  2.12 | 1.0e-06 | EREG mixed, IL1B up, LPL up, RAB7B down, TLR8 down         | LPL up, RAB7B down, IL1B up, TLR8 down, EREG mixed, LILRB2 down, CD36 down, CARD9 down, AIF1 down, TLR7 down, TYROBP down, LILRA2 mixed                                                                                                                                                                                                                                                                                                                                                                                                                                                                                                                                                                                                                                                                                                                                                                                                                                                                                                                                                                                                                                                                                                                                                                                                                                                                                                                                                                                                                  | 2  | 8  | 2  |\n",
       "| 4 | GO:0008360 | regulation of cell shape                    |  123 |  16 |  3.83 | 1.3e-06 | BAIAP2 down, LPAR1 up, MYO10 down, PEAK3 down, SEMA4A down | LPAR1 up, BAIAP2 down, MYO10 down, PEAK3 down, SEMA4A down, LST1 down, FES down, PLXNC1 down, PLXND1 down, FGD2 down, CYFIP1 down, PLXNB2 down, HCK down, FGD4 down, CSF1R down, ITGB2 down                                                                                                                                                                                                                                                                                                                                                                                                                                                                                                                                                                                                                                                                                                                                                                                                                                                                                                                                                                                                                                                                                                                                                                                                                                                                                                                                                              | 1  | 15 | 0  |\n",
       "| 5 | GO:0006955 | immune response                             | 1513 | 127 | 47.11 | 2.0e-06 | C1QC down, CXCL10 down, CXCL5 up, CXCL9 down, TREM1 up     | CXCL9 down, CXCL10 down, TREM1 up, CXCL5 up, C1QC down, FCN1 down, MMP9 down, OLR1 up, FFAR2 up, MPEG1 down, C1QB down, SLAMF8 down, RAB7B down, C2 down, TRPM2 down, BMP6 up, IL1B up, CXCL1 up, IL18BP down, BAIAP2 down, CLEC12A up, FPR3 down, MYO10 down, CLEC10A down, IGSF6 down, SECTM1 down, TRPM4 down, JUP down, TLR8 down, SEMA4A down, LST1 down, CLEC4A down, GSN down, FZD5 down, NECTIN2 down, PAK1 down, TEC down, ENPP2 down, SIGLEC14 down, RNASE6 down, CHI3L1 mixed, EREG mixed, APOBEC3A up, IL1RN up, ANPEP down, DUSP3 down, MNDA mixed, MGST1 mixed, RGCC up, LILRB2 down, LILRB5 down, PRDX1 down, CD36 down, ADGRG3 up, CD4 down, LOXL3 down, PVR down, FES down, ATP8B4 down, CST3 down, PRKCD down, FGL2 down, PTAFR down, PPBP up, MILR1 down, STAT1 down, CCR2 down, IMPDH1 down, FCGR1A down, TMEM106A down, CXCL8 up, RGS1 up, CXCR4 up, CARD9 down, BCL2 up, NCF2 mixed, AIF1 down, LACC1 down, CEBPB up, TLR7 down, HLA-DMA down, IFNGR1 down, TYROBP down, LILRA2 mixed, ALCAM mixed, ACP3 down, DAPK1 down, CTSH down, CCRL2 mixed, CLEC5A mixed, HSPA1A down, ATG7 down, CIITA down, HSPA1B down, CYFIP1 down, HLA-DMB down, LTBR down, ACTB down, NCR3LG1 mixed, RAB31 down, ANXA2 down, TNFSF13 down, HCK down, C5AR2 mixed, MAN2B1 down, PLAUR up, FCAR up, CXCL16 up, FTH1 down, FCGRT down, ATP6V0A1 down, CSF1R down, PRAM1 down, FCGR2B down, HRH2 down, LILRB3 down, ALDH3B1 down, CNPY3 down, SIGLEC7 down, UNC93B1 down, CD300C down, VSIR down, ITGB2 down, SIRPB1 down, GAA down, GRN down, NFAM1 down | 21 | 95 | 11 |\n",
       "| 6 | GO:0035987 | endodermal cell differentiation             |   24 |   7 |  0.75 | 5.9e-06 | NA                                                         | NA                                                                                                                                                                                                                                                                                                                                                                                                                                                                                                                                                                                                                                                                                                                                                                                                                                                                                                                                                                                                                                                                                                                                                                                                                                                                                                                                                                                                                                                                                                                                                       | NA | NA | NA |\n",
       "\n"
      ],
      "text/plain": [
       "  GO.ID      Term                                        Annotated Significant\n",
       "1 GO:0043312 neutrophil degranulation                     425       46        \n",
       "2 GO:0006954 inflammatory response                        506       53        \n",
       "3 GO:0032755 positive regulation of interleukin-6 pro...   68       12        \n",
       "4 GO:0008360 regulation of cell shape                     123       16        \n",
       "5 GO:0006955 immune response                             1513      127        \n",
       "6 GO:0035987 endodermal cell differentiation               24        7        \n",
       "  Expected weightFisher\n",
       "1 13.23    9.1e-14     \n",
       "2 15.75    8.9e-10     \n",
       "3  2.12    1.0e-06     \n",
       "4  3.83    1.3e-06     \n",
       "5 47.11    2.0e-06     \n",
       "6  0.75    5.9e-06     \n",
       "  genes_selection                                           \n",
       "1 CXCL1 up, FCN1 down, MMP9 down, OLR1 up, TRPM2 down       \n",
       "2 CXCL10 down, CXCL5 up, CXCL9 down, STAB1 down, TREM1 up   \n",
       "3 EREG mixed, IL1B up, LPL up, RAB7B down, TLR8 down        \n",
       "4 BAIAP2 down, LPAR1 up, MYO10 down, PEAK3 down, SEMA4A down\n",
       "5 C1QC down, CXCL10 down, CXCL5 up, CXCL9 down, TREM1 up    \n",
       "6 NA                                                        \n",
       "  genes_all                                                                                                                                                                                                                                                                                                                                                                                                                                                                                                                                                                                                                                                                                                                                                                                                                                                                                                                                                                                                                                                                                                                                                                                                                                                                                                                                                                                                                                                                                                                                               \n",
       "1 FCN1 down, MMP9 down, OLR1 up, TRPM2 down, CXCL1 up, CLEC12A up, JUP down, GSN down, SIGLEC14 down, CHI3L1 mixed, ANPEP down, MNDA mixed, MGST1 mixed, LILRB2 down, CD36 down, ADGRG3 up, ATP8B4 down, CST3 down, PRKCD down, FGL2 down, PTAFR down, PPBP up, IMPDH1 down, TYROBP down, ACP3 down, CTSH down, CLEC5A mixed, HSPA1A down, ATG7 down, HSPA1B down, CYFIP1 down, RAB31 down, ANXA2 down, MAN2B1 down, PLAUR up, FCAR up, FTH1 down, ATP6V0A1 down, PRAM1 down, LILRB3 down, ALDH3B1 down, ITGB2 down, SIRPB1 down, GAA down, GRN down, NFAM1 down                                                                                                                                                                                                                                                                                                                                                                                                                                                                                                                                                                                                                                                                                                                                                                                                                                                                                                                                                                                          \n",
       "2 CXCL9 down, CXCL10 down, TREM1 up, CXCL5 up, STAB1 down, MMP9 down, OLR1 up, LPL up, FFAR2 up, PLA2G4C down, ADORA3 down, SLAMF8 down, SIGLEC1 down, BMP6 up, IL1B up, CXCL1 up, FPR3 down, SPP1 mixed, TLR8 down, TGM2 up, PLA2G7 down, SERPINE1 mixed, CHI3L1 mixed, IL1RN up, CD36 down, LOXL3 down, PRKCD down, PTAFR down, PPBP up, CCR2 down, CXCL8 up, CXCR4 up, AIF1 down, LACC1 down, CEBPB up, TLR7 down, IFNGR1 down, TYROBP down, CD163 down, CEBPA down, CCRL2 mixed, CIITA down, LDLR down, PTGS1 down, HCK down, C5AR2 mixed, IL17RC down, SPHK1 up, CSF1R down, FCGR2B down, ITGB2 down, GRN down, NFAM1 down                                                                                                                                                                                                                                                                                                                                                                                                                                                                                                                                                                                                                                                                                                                                                                                                                                                                                                                           \n",
       "3 LPL up, RAB7B down, IL1B up, TLR8 down, EREG mixed, LILRB2 down, CD36 down, CARD9 down, AIF1 down, TLR7 down, TYROBP down, LILRA2 mixed                                                                                                                                                                                                                                                                                                                                                                                                                                                                                                                                                                                                                                                                                                                                                                                                                                                                                                                                                                                                                                                                                                                                                                                                                                                                                                                                                                                                                 \n",
       "4 LPAR1 up, BAIAP2 down, MYO10 down, PEAK3 down, SEMA4A down, LST1 down, FES down, PLXNC1 down, PLXND1 down, FGD2 down, CYFIP1 down, PLXNB2 down, HCK down, FGD4 down, CSF1R down, ITGB2 down                                                                                                                                                                                                                                                                                                                                                                                                                                                                                                                                                                                                                                                                                                                                                                                                                                                                                                                                                                                                                                                                                                                                                                                                                                                                                                                                                             \n",
       "5 CXCL9 down, CXCL10 down, TREM1 up, CXCL5 up, C1QC down, FCN1 down, MMP9 down, OLR1 up, FFAR2 up, MPEG1 down, C1QB down, SLAMF8 down, RAB7B down, C2 down, TRPM2 down, BMP6 up, IL1B up, CXCL1 up, IL18BP down, BAIAP2 down, CLEC12A up, FPR3 down, MYO10 down, CLEC10A down, IGSF6 down, SECTM1 down, TRPM4 down, JUP down, TLR8 down, SEMA4A down, LST1 down, CLEC4A down, GSN down, FZD5 down, NECTIN2 down, PAK1 down, TEC down, ENPP2 down, SIGLEC14 down, RNASE6 down, CHI3L1 mixed, EREG mixed, APOBEC3A up, IL1RN up, ANPEP down, DUSP3 down, MNDA mixed, MGST1 mixed, RGCC up, LILRB2 down, LILRB5 down, PRDX1 down, CD36 down, ADGRG3 up, CD4 down, LOXL3 down, PVR down, FES down, ATP8B4 down, CST3 down, PRKCD down, FGL2 down, PTAFR down, PPBP up, MILR1 down, STAT1 down, CCR2 down, IMPDH1 down, FCGR1A down, TMEM106A down, CXCL8 up, RGS1 up, CXCR4 up, CARD9 down, BCL2 up, NCF2 mixed, AIF1 down, LACC1 down, CEBPB up, TLR7 down, HLA-DMA down, IFNGR1 down, TYROBP down, LILRA2 mixed, ALCAM mixed, ACP3 down, DAPK1 down, CTSH down, CCRL2 mixed, CLEC5A mixed, HSPA1A down, ATG7 down, CIITA down, HSPA1B down, CYFIP1 down, HLA-DMB down, LTBR down, ACTB down, NCR3LG1 mixed, RAB31 down, ANXA2 down, TNFSF13 down, HCK down, C5AR2 mixed, MAN2B1 down, PLAUR up, FCAR up, CXCL16 up, FTH1 down, FCGRT down, ATP6V0A1 down, CSF1R down, PRAM1 down, FCGR2B down, HRH2 down, LILRB3 down, ALDH3B1 down, CNPY3 down, SIGLEC7 down, UNC93B1 down, CD300C down, VSIR down, ITGB2 down, SIRPB1 down, GAA down, GRN down, NFAM1 down\n",
       "6 NA                                                                                                                                                                                                                                                                                                                                                                                                                                                                                                                                                                                                                                                                                                                                                                                                                                                                                                                                                                                                                                                                                                                                                                                                                                                                                                                                                                                                                                                                                                                                                      \n",
       "  genes_up genes_down genes_mixed\n",
       "1 7        35         4          \n",
       "2 15       33         5          \n",
       "3 2        8          2          \n",
       "4 1        15         0          \n",
       "5 21       95         11         \n",
       "6 NA       NA         NA         "
      ]
     },
     "metadata": {},
     "output_type": "display_data"
    }
   ],
   "source": [
    "head (gofinal_C34)"
   ]
  },
  {
   "cell_type": "code",
   "execution_count": 95,
   "id": "alternative-yorkshire",
   "metadata": {},
   "outputs": [],
   "source": [
    "write.xlsx (gofinal_C34, \"./data/gofinal_C34.xlsx\", row.names = F)"
   ]
  },
  {
   "cell_type": "code",
   "execution_count": 96,
   "id": "rolled-cinema",
   "metadata": {},
   "outputs": [
    {
     "data": {
      "text/html": [
       "<style>\n",
       ".list-inline {list-style: none; margin:0; padding: 0}\n",
       ".list-inline>li {display: inline-block}\n",
       ".list-inline>li:not(:last-child)::after {content: \"\\00b7\"; padding: 0 .5ex}\n",
       "</style>\n",
       "<ol class=list-inline><li>'11111'</li><li>'11110'</li><li>'11101'</li><li>'11011'</li><li>'10111'</li><li>'01111'</li><li>'11100'</li><li>'11010'</li><li>'11001'</li><li>'10110'</li><li>'10101'</li><li>'10011'</li><li>'01110'</li><li>'01101'</li><li>'01011'</li><li>'00111'</li><li>'11000'</li><li>'10100'</li><li>'10010'</li><li>'10001'</li><li>'01100'</li><li>'01010'</li><li>'01001'</li><li>'00110'</li><li>'00101'</li><li>'00011'</li><li>'10000'</li><li>'01000'</li><li>'00100'</li><li>'00010'</li><li>'00001'</li></ol>\n"
      ],
      "text/latex": [
       "\\begin{enumerate*}\n",
       "\\item '11111'\n",
       "\\item '11110'\n",
       "\\item '11101'\n",
       "\\item '11011'\n",
       "\\item '10111'\n",
       "\\item '01111'\n",
       "\\item '11100'\n",
       "\\item '11010'\n",
       "\\item '11001'\n",
       "\\item '10110'\n",
       "\\item '10101'\n",
       "\\item '10011'\n",
       "\\item '01110'\n",
       "\\item '01101'\n",
       "\\item '01011'\n",
       "\\item '00111'\n",
       "\\item '11000'\n",
       "\\item '10100'\n",
       "\\item '10010'\n",
       "\\item '10001'\n",
       "\\item '01100'\n",
       "\\item '01010'\n",
       "\\item '01001'\n",
       "\\item '00110'\n",
       "\\item '00101'\n",
       "\\item '00011'\n",
       "\\item '10000'\n",
       "\\item '01000'\n",
       "\\item '00100'\n",
       "\\item '00010'\n",
       "\\item '00001'\n",
       "\\end{enumerate*}\n"
      ],
      "text/markdown": [
       "1. '11111'\n",
       "2. '11110'\n",
       "3. '11101'\n",
       "4. '11011'\n",
       "5. '10111'\n",
       "6. '01111'\n",
       "7. '11100'\n",
       "8. '11010'\n",
       "9. '11001'\n",
       "10. '10110'\n",
       "11. '10101'\n",
       "12. '10011'\n",
       "13. '01110'\n",
       "14. '01101'\n",
       "15. '01011'\n",
       "16. '00111'\n",
       "17. '11000'\n",
       "18. '10100'\n",
       "19. '10010'\n",
       "20. '10001'\n",
       "21. '01100'\n",
       "22. '01010'\n",
       "23. '01001'\n",
       "24. '00110'\n",
       "25. '00101'\n",
       "26. '00011'\n",
       "27. '10000'\n",
       "28. '01000'\n",
       "29. '00100'\n",
       "30. '00010'\n",
       "31. '00001'\n",
       "\n",
       "\n"
      ],
      "text/plain": [
       " [1] \"11111\" \"11110\" \"11101\" \"11011\" \"10111\" \"01111\" \"11100\" \"11010\" \"11001\"\n",
       "[10] \"10110\" \"10101\" \"10011\" \"01110\" \"01101\" \"01011\" \"00111\" \"11000\" \"10100\"\n",
       "[19] \"10010\" \"10001\" \"01100\" \"01010\" \"01001\" \"00110\" \"00101\" \"00011\" \"10000\"\n",
       "[28] \"01000\" \"00100\" \"00010\" \"00001\""
      ]
     },
     "metadata": {},
     "output_type": "display_data"
    },
    {
     "data": {
      "text/html": [
       "21"
      ],
      "text/latex": [
       "21"
      ],
      "text/markdown": [
       "21"
      ],
      "text/plain": [
       "[1] 21"
      ]
     },
     "metadata": {},
     "output_type": "display_data"
    },
    {
     "data": {
      "text/html": [
       "<style>\n",
       ".list-inline {list-style: none; margin:0; padding: 0}\n",
       ".list-inline>li {display: inline-block}\n",
       ".list-inline>li:not(:last-child)::after {content: \"\\00b7\"; padding: 0 .5ex}\n",
       "</style>\n",
       "<ol class=list-inline><li>'BAIAP2 down'</li><li>'C1QC down'</li><li>'CXCL1 up'</li><li>'CXCL10 down'</li><li>'CXCL5 up'</li><li>'CXCL9 down'</li><li>'EREG mixed'</li><li>'FCN1 down'</li><li>'IL1B up'</li><li>'LPAR1 up'</li><li>'LPL up'</li><li>'MMP9 down'</li><li>'MYO10 down'</li><li>'OLR1 up'</li><li>'PEAK3 down'</li><li>'RAB7B down'</li><li>'SEMA4A down'</li><li>'STAB1 down'</li><li>'TLR8 down'</li><li>'TREM1 up'</li><li>'TRPM2 down'</li></ol>\n"
      ],
      "text/latex": [
       "\\begin{enumerate*}\n",
       "\\item 'BAIAP2 down'\n",
       "\\item 'C1QC down'\n",
       "\\item 'CXCL1 up'\n",
       "\\item 'CXCL10 down'\n",
       "\\item 'CXCL5 up'\n",
       "\\item 'CXCL9 down'\n",
       "\\item 'EREG mixed'\n",
       "\\item 'FCN1 down'\n",
       "\\item 'IL1B up'\n",
       "\\item 'LPAR1 up'\n",
       "\\item 'LPL up'\n",
       "\\item 'MMP9 down'\n",
       "\\item 'MYO10 down'\n",
       "\\item 'OLR1 up'\n",
       "\\item 'PEAK3 down'\n",
       "\\item 'RAB7B down'\n",
       "\\item 'SEMA4A down'\n",
       "\\item 'STAB1 down'\n",
       "\\item 'TLR8 down'\n",
       "\\item 'TREM1 up'\n",
       "\\item 'TRPM2 down'\n",
       "\\end{enumerate*}\n"
      ],
      "text/markdown": [
       "1. 'BAIAP2 down'\n",
       "2. 'C1QC down'\n",
       "3. 'CXCL1 up'\n",
       "4. 'CXCL10 down'\n",
       "5. 'CXCL5 up'\n",
       "6. 'CXCL9 down'\n",
       "7. 'EREG mixed'\n",
       "8. 'FCN1 down'\n",
       "9. 'IL1B up'\n",
       "10. 'LPAR1 up'\n",
       "11. 'LPL up'\n",
       "12. 'MMP9 down'\n",
       "13. 'MYO10 down'\n",
       "14. 'OLR1 up'\n",
       "15. 'PEAK3 down'\n",
       "16. 'RAB7B down'\n",
       "17. 'SEMA4A down'\n",
       "18. 'STAB1 down'\n",
       "19. 'TLR8 down'\n",
       "20. 'TREM1 up'\n",
       "21. 'TRPM2 down'\n",
       "\n",
       "\n"
      ],
      "text/plain": [
       " [1] \"BAIAP2 down\" \"C1QC down\"   \"CXCL1 up\"    \"CXCL10 down\" \"CXCL5 up\"   \n",
       " [6] \"CXCL9 down\"  \"EREG mixed\"  \"FCN1 down\"   \"IL1B up\"     \"LPAR1 up\"   \n",
       "[11] \"LPL up\"      \"MMP9 down\"   \"MYO10 down\"  \"OLR1 up\"     \"PEAK3 down\" \n",
       "[16] \"RAB7B down\"  \"SEMA4A down\" \"STAB1 down\"  \"TLR8 down\"   \"TREM1 up\"   \n",
       "[21] \"TRPM2 down\" "
      ]
     },
     "metadata": {},
     "output_type": "display_data"
    }
   ],
   "source": [
    "x34 = list (p1 = pr1_genes_5L,\n",
    "      p2 = pr2_genes_5L,\n",
    "      p3 = pr3_genes_5L,\n",
    "      p4 = pr4_genes_5L,\n",
    "      p5 = pr5_genes_5L)\n",
    "#x12\n",
    "\n",
    "m = make_comb_mat(x34, mode = \"union\")\n",
    "comb_name(m)\n",
    "x34 = extract_comb(m, \"11111\")\n",
    "length (x34)\n",
    "\n",
    "x34"
   ]
  },
  {
   "cell_type": "code",
   "execution_count": 97,
   "id": "resistant-embassy",
   "metadata": {},
   "outputs": [],
   "source": [
    "#write.table (x34, \"topgenes_x34.txt\",row.names=F)"
   ]
  },
  {
   "cell_type": "code",
   "execution_count": 98,
   "id": "conservative-playback",
   "metadata": {},
   "outputs": [],
   "source": [
    "pr1_genes_symbol = pr1$hgnc_symbol\n",
    "pr2_genes_symbol = pr2$hgnc_symbol\n",
    "pr3_genes_symbol = pr3$hgnc_symbol\n",
    "pr4_genes_symbol = pr4$hgnc_symbol\n",
    "pr5_genes_symbol = pr5$hgnc_symbol\n",
    "\n",
    "dirlist = list (\n",
    "pr1_genes_symbol,\n",
    "pr2_genes_symbol,\n",
    "pr3_genes_symbol,\n",
    "pr4_genes_symbol, \n",
    "pr5_genes_symbol\n",
    ")\n",
    "\n",
    "saveRDS(dirlist, file = \"gofinal_C34.Rds\")"
   ]
  },
  {
   "cell_type": "markdown",
   "id": "personalized-nevada",
   "metadata": {},
   "source": [
    "## Primary vs secondary"
   ]
  },
  {
   "cell_type": "code",
   "execution_count": 99,
   "id": "vocal-clock",
   "metadata": {},
   "outputs": [
    {
     "data": {
      "text/html": [
       "12305"
      ],
      "text/latex": [
       "12305"
      ],
      "text/markdown": [
       "12305"
      ],
      "text/plain": [
       "[1] 12305"
      ]
     },
     "metadata": {},
     "output_type": "display_data"
    }
   ],
   "source": [
    "universe = d$ensembl_gene_id\n",
    "length (universe)"
   ]
  },
  {
   "cell_type": "code",
   "execution_count": 100,
   "id": "human-newcastle",
   "metadata": {},
   "outputs": [
    {
     "data": {
      "text/html": [
       "<table class=\"dataframe\">\n",
       "<caption>A data.frame: 6 × 64</caption>\n",
       "<thead>\n",
       "\t<tr><th></th><th scope=col>hgnc_symbol</th><th scope=col>EtOH_04h_R1</th><th scope=col>EtOH_04h_R2</th><th scope=col>EtOH_04h_R3</th><th scope=col>EtOH_08h_R1</th><th scope=col>EtOH_08h_R2</th><th scope=col>EtOH_08h_R3</th><th scope=col>EtOH_24h_R1</th><th scope=col>EtOH_24h_R2</th><th scope=col>EtOH_24h_R3</th><th scope=col>⋯</th><th scope=col>ensembl_gene_id</th><th scope=col>entrezgene_id</th><th scope=col>external_gene_name</th><th scope=col>description</th><th scope=col>chromosome_name</th><th scope=col>start_position</th><th scope=col>end_position</th><th scope=col>percentage_gene_gc_content</th><th scope=col>gene_biotype</th><th scope=col>strand</th></tr>\n",
       "\t<tr><th></th><th scope=col>&lt;chr&gt;</th><th scope=col>&lt;dbl&gt;</th><th scope=col>&lt;dbl&gt;</th><th scope=col>&lt;dbl&gt;</th><th scope=col>&lt;dbl&gt;</th><th scope=col>&lt;dbl&gt;</th><th scope=col>&lt;dbl&gt;</th><th scope=col>&lt;dbl&gt;</th><th scope=col>&lt;dbl&gt;</th><th scope=col>&lt;dbl&gt;</th><th scope=col>⋯</th><th scope=col>&lt;chr&gt;</th><th scope=col>&lt;int&gt;</th><th scope=col>&lt;chr&gt;</th><th scope=col>&lt;chr&gt;</th><th scope=col>&lt;chr&gt;</th><th scope=col>&lt;int&gt;</th><th scope=col>&lt;int&gt;</th><th scope=col>&lt;dbl&gt;</th><th scope=col>&lt;chr&gt;</th><th scope=col>&lt;int&gt;</th></tr>\n",
       "</thead>\n",
       "<tbody>\n",
       "\t<tr><th scope=row>1</th><td>A1BG  </td><td> 0.6699661</td><td> 1.5716342</td><td> 1.3436590</td><td>1.96288982</td><td> 1.224317</td><td> 1.85505743</td><td>2.9635154</td><td>2.8044871</td><td> 2.2197667</td><td>⋯</td><td>ENSG00000121410</td><td>    1</td><td>A1BG  </td><td>alpha-1-B glycoprotein                         </td><td>19</td><td> 58345178</td><td> 58353492</td><td>55.80</td><td>protein coding</td><td>-1</td></tr>\n",
       "\t<tr><th scope=row>2</th><td>A2M   </td><td>-0.1493280</td><td>-0.5732038</td><td> 0.5753295</td><td>0.02594746</td><td>-1.177576</td><td>-0.04192958</td><td>0.3870933</td><td>0.8929844</td><td>-0.3338175</td><td>⋯</td><td>ENSG00000175899</td><td>    2</td><td>A2M   </td><td>alpha-2-macroglobulin                          </td><td>12</td><td>  9067664</td><td>  9116229</td><td>37.18</td><td>protein coding</td><td>-1</td></tr>\n",
       "\t<tr><th scope=row>3</th><td>A4GALT</td><td> 1.0360548</td><td> 0.1791040</td><td>-0.5061997</td><td>1.81327202</td><td> 1.441122</td><td> 1.49762235</td><td>0.7995740</td><td>1.2555664</td><td> 1.1367142</td><td>⋯</td><td>ENSG00000128274</td><td>53947</td><td>A4GALT</td><td>alpha 1,4-galactosyltransferase (P blood group)</td><td>22</td><td> 42692121</td><td> 42721298</td><td>52.39</td><td>protein coding</td><td>-1</td></tr>\n",
       "\t<tr><th scope=row>4</th><td>AAAS  </td><td> 4.6847524</td><td> 4.7243974</td><td> 5.0412317</td><td>5.25087279</td><td> 4.960263</td><td> 5.15534332</td><td>5.2016303</td><td>5.3925019</td><td> 5.2358878</td><td>⋯</td><td>ENSG00000094914</td><td> 8086</td><td>AAAS  </td><td>aladin WD repeat nucleoporin                   </td><td>12</td><td> 53307456</td><td> 53324864</td><td>49.39</td><td>protein coding</td><td>-1</td></tr>\n",
       "\t<tr><th scope=row>5</th><td>AACS  </td><td> 4.6052624</td><td> 4.5081055</td><td> 4.4018076</td><td>4.37823558</td><td> 4.189747</td><td> 4.20453034</td><td>4.6912469</td><td>4.9885575</td><td> 4.3303553</td><td>⋯</td><td>ENSG00000081760</td><td>65985</td><td>AACS  </td><td>acetoacetyl-CoA synthetase                     </td><td>12</td><td>125065434</td><td>125143333</td><td>51.20</td><td>protein coding</td><td> 1</td></tr>\n",
       "\t<tr><th scope=row>6</th><td>AAGAB </td><td> 5.3934778</td><td> 5.4642630</td><td> 5.2739382</td><td>5.42861575</td><td> 5.434778</td><td> 5.48011690</td><td>5.3105383</td><td>5.3367685</td><td> 5.1670164</td><td>⋯</td><td>ENSG00000103591</td><td>79719</td><td>AAGAB </td><td>alpha and gamma adaptin binding protein        </td><td>15</td><td> 67200667</td><td> 67255195</td><td>39.47</td><td>protein coding</td><td>-1</td></tr>\n",
       "</tbody>\n",
       "</table>\n"
      ],
      "text/latex": [
       "A data.frame: 6 × 64\n",
       "\\begin{tabular}{r|lllllllllllllllllllll}\n",
       "  & hgnc\\_symbol & EtOH\\_04h\\_R1 & EtOH\\_04h\\_R2 & EtOH\\_04h\\_R3 & EtOH\\_08h\\_R1 & EtOH\\_08h\\_R2 & EtOH\\_08h\\_R3 & EtOH\\_24h\\_R1 & EtOH\\_24h\\_R2 & EtOH\\_24h\\_R3 & ⋯ & ensembl\\_gene\\_id & entrezgene\\_id & external\\_gene\\_name & description & chromosome\\_name & start\\_position & end\\_position & percentage\\_gene\\_gc\\_content & gene\\_biotype & strand\\\\\n",
       "  & <chr> & <dbl> & <dbl> & <dbl> & <dbl> & <dbl> & <dbl> & <dbl> & <dbl> & <dbl> & ⋯ & <chr> & <int> & <chr> & <chr> & <chr> & <int> & <int> & <dbl> & <chr> & <int>\\\\\n",
       "\\hline\n",
       "\t1 & A1BG   &  0.6699661 &  1.5716342 &  1.3436590 & 1.96288982 &  1.224317 &  1.85505743 & 2.9635154 & 2.8044871 &  2.2197667 & ⋯ & ENSG00000121410 &     1 & A1BG   & alpha-1-B glycoprotein                          & 19 &  58345178 &  58353492 & 55.80 & protein coding & -1\\\\\n",
       "\t2 & A2M    & -0.1493280 & -0.5732038 &  0.5753295 & 0.02594746 & -1.177576 & -0.04192958 & 0.3870933 & 0.8929844 & -0.3338175 & ⋯ & ENSG00000175899 &     2 & A2M    & alpha-2-macroglobulin                           & 12 &   9067664 &   9116229 & 37.18 & protein coding & -1\\\\\n",
       "\t3 & A4GALT &  1.0360548 &  0.1791040 & -0.5061997 & 1.81327202 &  1.441122 &  1.49762235 & 0.7995740 & 1.2555664 &  1.1367142 & ⋯ & ENSG00000128274 & 53947 & A4GALT & alpha 1,4-galactosyltransferase (P blood group) & 22 &  42692121 &  42721298 & 52.39 & protein coding & -1\\\\\n",
       "\t4 & AAAS   &  4.6847524 &  4.7243974 &  5.0412317 & 5.25087279 &  4.960263 &  5.15534332 & 5.2016303 & 5.3925019 &  5.2358878 & ⋯ & ENSG00000094914 &  8086 & AAAS   & aladin WD repeat nucleoporin                    & 12 &  53307456 &  53324864 & 49.39 & protein coding & -1\\\\\n",
       "\t5 & AACS   &  4.6052624 &  4.5081055 &  4.4018076 & 4.37823558 &  4.189747 &  4.20453034 & 4.6912469 & 4.9885575 &  4.3303553 & ⋯ & ENSG00000081760 & 65985 & AACS   & acetoacetyl-CoA synthetase                      & 12 & 125065434 & 125143333 & 51.20 & protein coding &  1\\\\\n",
       "\t6 & AAGAB  &  5.3934778 &  5.4642630 &  5.2739382 & 5.42861575 &  5.434778 &  5.48011690 & 5.3105383 & 5.3367685 &  5.1670164 & ⋯ & ENSG00000103591 & 79719 & AAGAB  & alpha and gamma adaptin binding protein         & 15 &  67200667 &  67255195 & 39.47 & protein coding & -1\\\\\n",
       "\\end{tabular}\n"
      ],
      "text/markdown": [
       "\n",
       "A data.frame: 6 × 64\n",
       "\n",
       "| <!--/--> | hgnc_symbol &lt;chr&gt; | EtOH_04h_R1 &lt;dbl&gt; | EtOH_04h_R2 &lt;dbl&gt; | EtOH_04h_R3 &lt;dbl&gt; | EtOH_08h_R1 &lt;dbl&gt; | EtOH_08h_R2 &lt;dbl&gt; | EtOH_08h_R3 &lt;dbl&gt; | EtOH_24h_R1 &lt;dbl&gt; | EtOH_24h_R2 &lt;dbl&gt; | EtOH_24h_R3 &lt;dbl&gt; | ⋯ ⋯ | ensembl_gene_id &lt;chr&gt; | entrezgene_id &lt;int&gt; | external_gene_name &lt;chr&gt; | description &lt;chr&gt; | chromosome_name &lt;chr&gt; | start_position &lt;int&gt; | end_position &lt;int&gt; | percentage_gene_gc_content &lt;dbl&gt; | gene_biotype &lt;chr&gt; | strand &lt;int&gt; |\n",
       "|---|---|---|---|---|---|---|---|---|---|---|---|---|---|---|---|---|---|---|---|---|---|\n",
       "| 1 | A1BG   |  0.6699661 |  1.5716342 |  1.3436590 | 1.96288982 |  1.224317 |  1.85505743 | 2.9635154 | 2.8044871 |  2.2197667 | ⋯ | ENSG00000121410 |     1 | A1BG   | alpha-1-B glycoprotein                          | 19 |  58345178 |  58353492 | 55.80 | protein coding | -1 |\n",
       "| 2 | A2M    | -0.1493280 | -0.5732038 |  0.5753295 | 0.02594746 | -1.177576 | -0.04192958 | 0.3870933 | 0.8929844 | -0.3338175 | ⋯ | ENSG00000175899 |     2 | A2M    | alpha-2-macroglobulin                           | 12 |   9067664 |   9116229 | 37.18 | protein coding | -1 |\n",
       "| 3 | A4GALT |  1.0360548 |  0.1791040 | -0.5061997 | 1.81327202 |  1.441122 |  1.49762235 | 0.7995740 | 1.2555664 |  1.1367142 | ⋯ | ENSG00000128274 | 53947 | A4GALT | alpha 1,4-galactosyltransferase (P blood group) | 22 |  42692121 |  42721298 | 52.39 | protein coding | -1 |\n",
       "| 4 | AAAS   |  4.6847524 |  4.7243974 |  5.0412317 | 5.25087279 |  4.960263 |  5.15534332 | 5.2016303 | 5.3925019 |  5.2358878 | ⋯ | ENSG00000094914 |  8086 | AAAS   | aladin WD repeat nucleoporin                    | 12 |  53307456 |  53324864 | 49.39 | protein coding | -1 |\n",
       "| 5 | AACS   |  4.6052624 |  4.5081055 |  4.4018076 | 4.37823558 |  4.189747 |  4.20453034 | 4.6912469 | 4.9885575 |  4.3303553 | ⋯ | ENSG00000081760 | 65985 | AACS   | acetoacetyl-CoA synthetase                      | 12 | 125065434 | 125143333 | 51.20 | protein coding |  1 |\n",
       "| 6 | AAGAB  |  5.3934778 |  5.4642630 |  5.2739382 | 5.42861575 |  5.434778 |  5.48011690 | 5.3105383 | 5.3367685 |  5.1670164 | ⋯ | ENSG00000103591 | 79719 | AAGAB  | alpha and gamma adaptin binding protein         | 15 |  67200667 |  67255195 | 39.47 | protein coding | -1 |\n",
       "\n"
      ],
      "text/plain": [
       "  hgnc_symbol EtOH_04h_R1 EtOH_04h_R2 EtOH_04h_R3 EtOH_08h_R1 EtOH_08h_R2\n",
       "1 A1BG         0.6699661   1.5716342   1.3436590  1.96288982   1.224317  \n",
       "2 A2M         -0.1493280  -0.5732038   0.5753295  0.02594746  -1.177576  \n",
       "3 A4GALT       1.0360548   0.1791040  -0.5061997  1.81327202   1.441122  \n",
       "4 AAAS         4.6847524   4.7243974   5.0412317  5.25087279   4.960263  \n",
       "5 AACS         4.6052624   4.5081055   4.4018076  4.37823558   4.189747  \n",
       "6 AAGAB        5.3934778   5.4642630   5.2739382  5.42861575   5.434778  \n",
       "  EtOH_08h_R3 EtOH_24h_R1 EtOH_24h_R2 EtOH_24h_R3 <U+22EF>   ensembl_gene_id\n",
       "1  1.85505743 2.9635154   2.8044871    2.2197667  <U+22EF> ENSG00000121410\n",
       "2 -0.04192958 0.3870933   0.8929844   -0.3338175  <U+22EF> ENSG00000175899\n",
       "3  1.49762235 0.7995740   1.2555664    1.1367142  <U+22EF> ENSG00000128274\n",
       "4  5.15534332 5.2016303   5.3925019    5.2358878  <U+22EF> ENSG00000094914\n",
       "5  4.20453034 4.6912469   4.9885575    4.3303553  <U+22EF> ENSG00000081760\n",
       "6  5.48011690 5.3105383   5.3367685    5.1670164  <U+22EF> ENSG00000103591\n",
       "  entrezgene_id external_gene_name\n",
       "1     1         A1BG              \n",
       "2     2         A2M               \n",
       "3 53947         A4GALT            \n",
       "4  8086         AAAS              \n",
       "5 65985         AACS              \n",
       "6 79719         AAGAB             \n",
       "  description                                     chromosome_name\n",
       "1 alpha-1-B glycoprotein                          19             \n",
       "2 alpha-2-macroglobulin                           12             \n",
       "3 alpha 1,4-galactosyltransferase (P blood group) 22             \n",
       "4 aladin WD repeat nucleoporin                    12             \n",
       "5 acetoacetyl-CoA synthetase                      12             \n",
       "6 alpha and gamma adaptin binding protein         15             \n",
       "  start_position end_position percentage_gene_gc_content gene_biotype   strand\n",
       "1  58345178       58353492    55.80                      protein coding -1    \n",
       "2   9067664        9116229    37.18                      protein coding -1    \n",
       "3  42692121       42721298    52.39                      protein coding -1    \n",
       "4  53307456       53324864    49.39                      protein coding -1    \n",
       "5 125065434      125143333    51.20                      protein coding  1    \n",
       "6  67200667       67255195    39.47                      protein coding -1    "
      ]
     },
     "metadata": {},
     "output_type": "display_data"
    }
   ],
   "source": [
    "head (d)"
   ]
  },
  {
   "cell_type": "code",
   "execution_count": 101,
   "id": "brazilian-width",
   "metadata": {},
   "outputs": [
    {
     "data": {
      "text/html": [
       "179"
      ],
      "text/latex": [
       "179"
      ],
      "text/markdown": [
       "179"
      ],
      "text/plain": [
       "[1] 179"
      ]
     },
     "metadata": {},
     "output_type": "display_data"
    }
   ],
   "source": [
    "d_ens = d %>%\n",
    "column_to_rownames (\"ensembl_gene_id\") \n",
    "\n",
    "d_ens_prim = d_ens %>%\n",
    "filter (., Target_08h ==\"yes\")\n",
    "\n",
    "primary <- rownames (d_ens_prim)\n",
    "length(primary)"
   ]
  },
  {
   "cell_type": "markdown",
   "id": "scenic-contract",
   "metadata": {},
   "source": [
    "### IN PRIMARY"
   ]
  },
  {
   "cell_type": "code",
   "execution_count": 102,
   "id": "manufactured-version",
   "metadata": {},
   "outputs": [],
   "source": [
    "expressed = as.numeric(universe %in% primary)\n",
    "names(expressed) = universe"
   ]
  },
  {
   "cell_type": "code",
   "execution_count": 103,
   "id": "perceived-blair",
   "metadata": {},
   "outputs": [
    {
     "data": {
      "text/html": [
       "<style>\n",
       ".list-inline {list-style: none; margin:0; padding: 0}\n",
       ".list-inline>li {display: inline-block}\n",
       ".list-inline>li:not(:last-child)::after {content: \"\\00b7\"; padding: 0 .5ex}\n",
       "</style>\n",
       "<ol class=list-inline><li>'ENSG00000121410'</li><li>'ENSG00000175899'</li><li>'ENSG00000128274'</li><li>'ENSG00000094914'</li><li>'ENSG00000081760'</li><li>'ENSG00000103591'</li></ol>\n"
      ],
      "text/latex": [
       "\\begin{enumerate*}\n",
       "\\item 'ENSG00000121410'\n",
       "\\item 'ENSG00000175899'\n",
       "\\item 'ENSG00000128274'\n",
       "\\item 'ENSG00000094914'\n",
       "\\item 'ENSG00000081760'\n",
       "\\item 'ENSG00000103591'\n",
       "\\end{enumerate*}\n"
      ],
      "text/markdown": [
       "1. 'ENSG00000121410'\n",
       "2. 'ENSG00000175899'\n",
       "3. 'ENSG00000128274'\n",
       "4. 'ENSG00000094914'\n",
       "5. 'ENSG00000081760'\n",
       "6. 'ENSG00000103591'\n",
       "\n",
       "\n"
      ],
      "text/plain": [
       "[1] \"ENSG00000121410\" \"ENSG00000175899\" \"ENSG00000128274\" \"ENSG00000094914\"\n",
       "[5] \"ENSG00000081760\" \"ENSG00000103591\""
      ]
     },
     "metadata": {},
     "output_type": "display_data"
    }
   ],
   "source": [
    "head (universe)"
   ]
  },
  {
   "cell_type": "code",
   "execution_count": 104,
   "id": "generic-abuse",
   "metadata": {},
   "outputs": [
    {
     "data": {
      "text/html": [
       "<style>\n",
       ".dl-inline {width: auto; margin:0; padding: 0}\n",
       ".dl-inline>dt, .dl-inline>dd {float: none; width: auto; display: inline-block}\n",
       ".dl-inline>dt::after {content: \":\\0020\"; padding-right: .5ex}\n",
       ".dl-inline>dt:not(:first-of-type) {padding-left: .5ex}\n",
       "</style><dl class=dl-inline><dt>ENSG00000121410</dt><dd>0</dd><dt>ENSG00000175899</dt><dd>0</dd><dt>ENSG00000128274</dt><dd>0</dd><dt>ENSG00000094914</dt><dd>0</dd><dt>ENSG00000081760</dt><dd>0</dd><dt>ENSG00000103591</dt><dd>0</dd></dl>\n"
      ],
      "text/latex": [
       "\\begin{description*}\n",
       "\\item[ENSG00000121410] 0\n",
       "\\item[ENSG00000175899] 0\n",
       "\\item[ENSG00000128274] 0\n",
       "\\item[ENSG00000094914] 0\n",
       "\\item[ENSG00000081760] 0\n",
       "\\item[ENSG00000103591] 0\n",
       "\\end{description*}\n"
      ],
      "text/markdown": [
       "ENSG00000121410\n",
       ":   0ENSG00000175899\n",
       ":   0ENSG00000128274\n",
       ":   0ENSG00000094914\n",
       ":   0ENSG00000081760\n",
       ":   0ENSG00000103591\n",
       ":   0\n",
       "\n"
      ],
      "text/plain": [
       "ENSG00000121410 ENSG00000175899 ENSG00000128274 ENSG00000094914 ENSG00000081760 \n",
       "              0               0               0               0               0 \n",
       "ENSG00000103591 \n",
       "              0 "
      ]
     },
     "metadata": {},
     "output_type": "display_data"
    }
   ],
   "source": [
    "head (expressed)"
   ]
  },
  {
   "cell_type": "code",
   "execution_count": 105,
   "id": "remarkable-springer",
   "metadata": {},
   "outputs": [
    {
     "name": "stderr",
     "output_type": "stream",
     "text": [
      "\n",
      "Building most specific GOs .....\n",
      "\n",
      "\t( 10686 GO terms found. )\n",
      "\n",
      "\n",
      "Build GO DAG topology ..........\n",
      "\n",
      "\t( 14567 GO terms and 33790 relations. )\n",
      "\n",
      "\n",
      "Annotating nodes ...............\n",
      "\n",
      "\t( 11241 genes annotated to the GO terms. )\n",
      "\n",
      "\n",
      "\t\t\t -- Weight01 Algorithm -- \n",
      "\n",
      "\t\t the algorithm is scoring 3550 nontrivial nodes\n",
      "\t\t parameters: \n",
      "\t\t\t test statistic: fisher\n",
      "\n",
      "\n",
      "\t Level 17:\t2 nodes to be scored\t(0 eliminated genes)\n",
      "\n",
      "\n",
      "\t Level 16:\t8 nodes to be scored\t(0 eliminated genes)\n",
      "\n",
      "\n",
      "\t Level 15:\t19 nodes to be scored\t(39 eliminated genes)\n",
      "\n",
      "\n",
      "\t Level 14:\t35 nodes to be scored\t(153 eliminated genes)\n",
      "\n",
      "\n",
      "\t Level 13:\t74 nodes to be scored\t(421 eliminated genes)\n",
      "\n",
      "\n",
      "\t Level 12:\t121 nodes to be scored\t(977 eliminated genes)\n",
      "\n",
      "\n",
      "\t Level 11:\t204 nodes to be scored\t(2743 eliminated genes)\n",
      "\n",
      "\n",
      "\t Level 10:\t332 nodes to be scored\t(4253 eliminated genes)\n",
      "\n",
      "\n",
      "\t Level 9:\t465 nodes to be scored\t(5672 eliminated genes)\n",
      "\n",
      "\n",
      "\t Level 8:\t547 nodes to be scored\t(7152 eliminated genes)\n",
      "\n",
      "\n",
      "\t Level 7:\t578 nodes to be scored\t(8476 eliminated genes)\n",
      "\n",
      "\n",
      "\t Level 6:\t527 nodes to be scored\t(9705 eliminated genes)\n",
      "\n",
      "\n",
      "\t Level 5:\t342 nodes to be scored\t(10540 eliminated genes)\n",
      "\n",
      "\n",
      "\t Level 4:\t191 nodes to be scored\t(10881 eliminated genes)\n",
      "\n",
      "\n",
      "\t Level 3:\t85 nodes to be scored\t(11003 eliminated genes)\n",
      "\n",
      "\n",
      "\t Level 2:\t19 nodes to be scored\t(11068 eliminated genes)\n",
      "\n",
      "\n",
      "\t Level 1:\t1 nodes to be scored\t(11128 eliminated genes)\n",
      "\n"
     ]
    },
    {
     "data": {
      "text/html": [
       "<table class=\"dataframe\">\n",
       "<caption>A data.frame: 6 × 6</caption>\n",
       "<thead>\n",
       "\t<tr><th></th><th scope=col>GO.ID</th><th scope=col>Term</th><th scope=col>Annotated</th><th scope=col>Significant</th><th scope=col>Expected</th><th scope=col>weightFisher</th></tr>\n",
       "\t<tr><th></th><th scope=col>&lt;chr&gt;</th><th scope=col>&lt;chr&gt;</th><th scope=col>&lt;int&gt;</th><th scope=col>&lt;int&gt;</th><th scope=col>&lt;dbl&gt;</th><th scope=col>&lt;chr&gt;</th></tr>\n",
       "</thead>\n",
       "<tbody>\n",
       "\t<tr><th scope=row>1</th><td>GO:0006954</td><td>inflammatory response                      </td><td>506</td><td>34</td><td>7.70</td><td>9.9e-08</td></tr>\n",
       "\t<tr><th scope=row>2</th><td>GO:0030198</td><td>extracellular matrix organization          </td><td>206</td><td>18</td><td>3.13</td><td>3.9e-07</td></tr>\n",
       "\t<tr><th scope=row>3</th><td>GO:0019221</td><td>cytokine-mediated signaling pathway        </td><td>598</td><td>24</td><td>9.10</td><td>2.4e-06</td></tr>\n",
       "\t<tr><th scope=row>4</th><td>GO:0007204</td><td>positive regulation of cytosolic calcium...</td><td>177</td><td>13</td><td>2.69</td><td>7.1e-06</td></tr>\n",
       "\t<tr><th scope=row>5</th><td>GO:0007567</td><td>parturition                                </td><td> 10</td><td> 4</td><td>0.15</td><td>1.0e-05</td></tr>\n",
       "\t<tr><th scope=row>6</th><td>GO:0007200</td><td>phospholipase C-activating G protein-cou...</td><td> 43</td><td> 7</td><td>0.65</td><td>2.0e-05</td></tr>\n",
       "</tbody>\n",
       "</table>\n"
      ],
      "text/latex": [
       "A data.frame: 6 × 6\n",
       "\\begin{tabular}{r|llllll}\n",
       "  & GO.ID & Term & Annotated & Significant & Expected & weightFisher\\\\\n",
       "  & <chr> & <chr> & <int> & <int> & <dbl> & <chr>\\\\\n",
       "\\hline\n",
       "\t1 & GO:0006954 & inflammatory response                       & 506 & 34 & 7.70 & 9.9e-08\\\\\n",
       "\t2 & GO:0030198 & extracellular matrix organization           & 206 & 18 & 3.13 & 3.9e-07\\\\\n",
       "\t3 & GO:0019221 & cytokine-mediated signaling pathway         & 598 & 24 & 9.10 & 2.4e-06\\\\\n",
       "\t4 & GO:0007204 & positive regulation of cytosolic calcium... & 177 & 13 & 2.69 & 7.1e-06\\\\\n",
       "\t5 & GO:0007567 & parturition                                 &  10 &  4 & 0.15 & 1.0e-05\\\\\n",
       "\t6 & GO:0007200 & phospholipase C-activating G protein-cou... &  43 &  7 & 0.65 & 2.0e-05\\\\\n",
       "\\end{tabular}\n"
      ],
      "text/markdown": [
       "\n",
       "A data.frame: 6 × 6\n",
       "\n",
       "| <!--/--> | GO.ID &lt;chr&gt; | Term &lt;chr&gt; | Annotated &lt;int&gt; | Significant &lt;int&gt; | Expected &lt;dbl&gt; | weightFisher &lt;chr&gt; |\n",
       "|---|---|---|---|---|---|---|\n",
       "| 1 | GO:0006954 | inflammatory response                       | 506 | 34 | 7.70 | 9.9e-08 |\n",
       "| 2 | GO:0030198 | extracellular matrix organization           | 206 | 18 | 3.13 | 3.9e-07 |\n",
       "| 3 | GO:0019221 | cytokine-mediated signaling pathway         | 598 | 24 | 9.10 | 2.4e-06 |\n",
       "| 4 | GO:0007204 | positive regulation of cytosolic calcium... | 177 | 13 | 2.69 | 7.1e-06 |\n",
       "| 5 | GO:0007567 | parturition                                 |  10 |  4 | 0.15 | 1.0e-05 |\n",
       "| 6 | GO:0007200 | phospholipase C-activating G protein-cou... |  43 |  7 | 0.65 | 2.0e-05 |\n",
       "\n"
      ],
      "text/plain": [
       "  GO.ID      Term                                        Annotated Significant\n",
       "1 GO:0006954 inflammatory response                       506       34         \n",
       "2 GO:0030198 extracellular matrix organization           206       18         \n",
       "3 GO:0019221 cytokine-mediated signaling pathway         598       24         \n",
       "4 GO:0007204 positive regulation of cytosolic calcium... 177       13         \n",
       "5 GO:0007567 parturition                                  10        4         \n",
       "6 GO:0007200 phospholipase C-activating G protein-cou...  43        7         \n",
       "  Expected weightFisher\n",
       "1 7.70     9.9e-08     \n",
       "2 3.13     3.9e-07     \n",
       "3 9.10     2.4e-06     \n",
       "4 2.69     7.1e-06     \n",
       "5 0.15     1.0e-05     \n",
       "6 0.65     2.0e-05     "
      ]
     },
     "metadata": {},
     "output_type": "display_data"
    }
   ],
   "source": [
    "#length (cluster_genes)\n",
    "#length (expressed)\n",
    "\n",
    "go_data = new(\"topGOdata\", \n",
    "              ontology = \"BP\", \n",
    "              allGenes = expressed,\n",
    "              nodeSize = 10,\n",
    "              geneSel = function(x){\n",
    "                return(x == 1)},\n",
    "              annot = annFUN.org, \n",
    "              mapping = \"org.Hs.eg.db\", \n",
    "              ID = \"ensembl\")\n",
    "\n",
    "go_test<- runTest(go_data, algorithm = \"weight01\", statistic = \"fisher\")\n",
    "go_table <- GenTable(go_data, weightFisher = go_test,\n",
    "                     orderBy = \"weightFisher\", ranksOf = \"weightFisher\",\n",
    "                     topNodes = sum(score(go_test) < .01))\n",
    "#head(go_table)\n",
    "\n",
    "go_tableSave <- as.data.frame (go_table)\n",
    "head (go_tableSave)"
   ]
  },
  {
   "cell_type": "markdown",
   "id": "removed-genesis",
   "metadata": {},
   "source": [
    "### IN PRIMARY"
   ]
  },
  {
   "cell_type": "code",
   "execution_count": 106,
   "id": "innocent-edwards",
   "metadata": {},
   "outputs": [],
   "source": [
    "go_table$genes <- sapply(go_table$GO.ID, function(x)\n",
    "    {\n",
    "      genes<-genesInTerm(go_data, x) \n",
    "      genes[[1]][genes[[1]] %in% primary] ### in primary!!\n",
    "    })"
   ]
  },
  {
   "cell_type": "markdown",
   "id": "exciting-helping",
   "metadata": {},
   "source": [
    "Caution, I skipped one term"
   ]
  },
  {
   "cell_type": "code",
   "execution_count": 107,
   "id": "elect-aruba",
   "metadata": {},
   "outputs": [
    {
     "data": {
      "text/html": [
       "'GO:0006954'"
      ],
      "text/latex": [
       "'GO:0006954'"
      ],
      "text/markdown": [
       "'GO:0006954'"
      ],
      "text/plain": [
       "[1] \"GO:0006954\""
      ]
     },
     "metadata": {},
     "output_type": "display_data"
    },
    {
     "data": {
      "text/html": [
       "'GO:0030198'"
      ],
      "text/latex": [
       "'GO:0030198'"
      ],
      "text/markdown": [
       "'GO:0030198'"
      ],
      "text/plain": [
       "[1] \"GO:0030198\""
      ]
     },
     "metadata": {},
     "output_type": "display_data"
    },
    {
     "data": {
      "text/html": [
       "'GO:0019221'"
      ],
      "text/latex": [
       "'GO:0019221'"
      ],
      "text/markdown": [
       "'GO:0019221'"
      ],
      "text/plain": [
       "[1] \"GO:0019221\""
      ]
     },
     "metadata": {},
     "output_type": "display_data"
    },
    {
     "data": {
      "text/html": [
       "'GO:0007204'"
      ],
      "text/latex": [
       "'GO:0007204'"
      ],
      "text/markdown": [
       "'GO:0007204'"
      ],
      "text/plain": [
       "[1] \"GO:0007204\""
      ]
     },
     "metadata": {},
     "output_type": "display_data"
    },
    {
     "data": {
      "text/html": [
       "'GO:0007200'"
      ],
      "text/latex": [
       "'GO:0007200'"
      ],
      "text/markdown": [
       "'GO:0007200'"
      ],
      "text/plain": [
       "[1] \"GO:0007200\""
      ]
     },
     "metadata": {},
     "output_type": "display_data"
    }
   ],
   "source": [
    "go_table[1,1]\n",
    "go_table[2,1]\n",
    "go_table[3,1]\n",
    "go_table[4,1]\n",
    "#go_table[5,1] too low nr of sign genes in term 5 (below 5)\n",
    "go_table[6,1]"
   ]
  },
  {
   "cell_type": "code",
   "execution_count": 108,
   "id": "positive-librarian",
   "metadata": {},
   "outputs": [],
   "source": [
    "first = go_table$genes$\"GO:0006954\"\n",
    "second = go_table$genes$'GO:0030198'\n",
    "third = go_table$genes$'GO:0019221'\n",
    "forth = go_table$genes$'GO:0007204'\n",
    "fifth = go_table$genes$'GO:0007200'"
   ]
  },
  {
   "cell_type": "code",
   "execution_count": 109,
   "id": "naked-matter",
   "metadata": {},
   "outputs": [
    {
     "data": {
      "text/html": [
       "'FN1 up, OSM up, SLC11A1 up, CCL24 down, TREM1 up, CASP5 down, STAB1 down, FPR1 down, FFAR2 up, TNFRSF4 down, FPR2 down, ALOX5 up, PTGIR down, PLA2G4C down, CSF1 up, ADM down, BMP6 up, IL1B up, CD14 up, FPR3 down, PTX3 down, ADA down, NOD2 up, MAPK13 up, PLA2G7 down, SERPINE1 mixed, THEMIS2 up, CD36 down, ITGAM up, LRP1 up, PRKCD down, PTAFR down, DAGLA down, P2RX7 down'"
      ],
      "text/latex": [
       "'FN1 up, OSM up, SLC11A1 up, CCL24 down, TREM1 up, CASP5 down, STAB1 down, FPR1 down, FFAR2 up, TNFRSF4 down, FPR2 down, ALOX5 up, PTGIR down, PLA2G4C down, CSF1 up, ADM down, BMP6 up, IL1B up, CD14 up, FPR3 down, PTX3 down, ADA down, NOD2 up, MAPK13 up, PLA2G7 down, SERPINE1 mixed, THEMIS2 up, CD36 down, ITGAM up, LRP1 up, PRKCD down, PTAFR down, DAGLA down, P2RX7 down'"
      ],
      "text/markdown": [
       "'FN1 up, OSM up, SLC11A1 up, CCL24 down, TREM1 up, CASP5 down, STAB1 down, FPR1 down, FFAR2 up, TNFRSF4 down, FPR2 down, ALOX5 up, PTGIR down, PLA2G4C down, CSF1 up, ADM down, BMP6 up, IL1B up, CD14 up, FPR3 down, PTX3 down, ADA down, NOD2 up, MAPK13 up, PLA2G7 down, SERPINE1 mixed, THEMIS2 up, CD36 down, ITGAM up, LRP1 up, PRKCD down, PTAFR down, DAGLA down, P2RX7 down'"
      ],
      "text/plain": [
       "[1] \"FN1 up, OSM up, SLC11A1 up, CCL24 down, TREM1 up, CASP5 down, STAB1 down, FPR1 down, FFAR2 up, TNFRSF4 down, FPR2 down, ALOX5 up, PTGIR down, PLA2G4C down, CSF1 up, ADM down, BMP6 up, IL1B up, CD14 up, FPR3 down, PTX3 down, ADA down, NOD2 up, MAPK13 up, PLA2G7 down, SERPINE1 mixed, THEMIS2 up, CD36 down, ITGAM up, LRP1 up, PRKCD down, PTAFR down, DAGLA down, P2RX7 down\""
      ]
     },
     "metadata": {},
     "output_type": "display_data"
    },
    {
     "data": {
      "text/html": [
       "'CCL24 down, FN1 up, OSM up, SLC11A1 up, TREM1 up'"
      ],
      "text/latex": [
       "'CCL24 down, FN1 up, OSM up, SLC11A1 up, TREM1 up'"
      ],
      "text/markdown": [
       "'CCL24 down, FN1 up, OSM up, SLC11A1 up, TREM1 up'"
      ],
      "text/plain": [
       "[1] \"CCL24 down, FN1 up, OSM up, SLC11A1 up, TREM1 up\""
      ]
     },
     "metadata": {},
     "output_type": "display_data"
    },
    {
     "data": {
      "text/html": [
       "'FN1 up, ITGA11 down, ITGB8 up, CRISPLD2 up, PDPN up, NID1 down, LAMB3 up, FSCN1 down, COL7A1 up, TGFBI down, AGRN down, PTX3 down, SERPINE1 mixed, MYO1E down, SULF2 up, ITGAM up, LRP1 up, PHLDB1 down'"
      ],
      "text/latex": [
       "'FN1 up, ITGA11 down, ITGB8 up, CRISPLD2 up, PDPN up, NID1 down, LAMB3 up, FSCN1 down, COL7A1 up, TGFBI down, AGRN down, PTX3 down, SERPINE1 mixed, MYO1E down, SULF2 up, ITGAM up, LRP1 up, PHLDB1 down'"
      ],
      "text/markdown": [
       "'FN1 up, ITGA11 down, ITGB8 up, CRISPLD2 up, PDPN up, NID1 down, LAMB3 up, FSCN1 down, COL7A1 up, TGFBI down, AGRN down, PTX3 down, SERPINE1 mixed, MYO1E down, SULF2 up, ITGAM up, LRP1 up, PHLDB1 down'"
      ],
      "text/plain": [
       "[1] \"FN1 up, ITGA11 down, ITGB8 up, CRISPLD2 up, PDPN up, NID1 down, LAMB3 up, FSCN1 down, COL7A1 up, TGFBI down, AGRN down, PTX3 down, SERPINE1 mixed, MYO1E down, SULF2 up, ITGAM up, LRP1 up, PHLDB1 down\""
      ]
     },
     "metadata": {},
     "output_type": "display_data"
    },
    {
     "data": {
      "text/html": [
       "'CRISPLD2 up, FN1 up, ITGA11 down, ITGB8 up, PDPN up'"
      ],
      "text/latex": [
       "'CRISPLD2 up, FN1 up, ITGA11 down, ITGB8 up, PDPN up'"
      ],
      "text/markdown": [
       "'CRISPLD2 up, FN1 up, ITGA11 down, ITGB8 up, PDPN up'"
      ],
      "text/plain": [
       "[1] \"CRISPLD2 up, FN1 up, ITGA11 down, ITGB8 up, PDPN up\""
      ]
     },
     "metadata": {},
     "output_type": "display_data"
    },
    {
     "data": {
      "text/html": [
       "'FN1 up, OSM up, CCL24 down, FSCN1 down, FPR1 down, TNFRSF4 down, ALOX5 up, CSF1 up, RHOU down, IL1B up, CRLF2 down, CD300LF up, SERPINB2 up, NOD2 up, IL13RA1 down, TEC down, GPR35 down, CSF2RA down, CD36 down, ITGAM up, PRKCD down, PTAFR down, BCL2 up, IRF5 up'"
      ],
      "text/latex": [
       "'FN1 up, OSM up, CCL24 down, FSCN1 down, FPR1 down, TNFRSF4 down, ALOX5 up, CSF1 up, RHOU down, IL1B up, CRLF2 down, CD300LF up, SERPINB2 up, NOD2 up, IL13RA1 down, TEC down, GPR35 down, CSF2RA down, CD36 down, ITGAM up, PRKCD down, PTAFR down, BCL2 up, IRF5 up'"
      ],
      "text/markdown": [
       "'FN1 up, OSM up, CCL24 down, FSCN1 down, FPR1 down, TNFRSF4 down, ALOX5 up, CSF1 up, RHOU down, IL1B up, CRLF2 down, CD300LF up, SERPINB2 up, NOD2 up, IL13RA1 down, TEC down, GPR35 down, CSF2RA down, CD36 down, ITGAM up, PRKCD down, PTAFR down, BCL2 up, IRF5 up'"
      ],
      "text/plain": [
       "[1] \"FN1 up, OSM up, CCL24 down, FSCN1 down, FPR1 down, TNFRSF4 down, ALOX5 up, CSF1 up, RHOU down, IL1B up, CRLF2 down, CD300LF up, SERPINB2 up, NOD2 up, IL13RA1 down, TEC down, GPR35 down, CSF2RA down, CD36 down, ITGAM up, PRKCD down, PTAFR down, BCL2 up, IRF5 up\""
      ]
     },
     "metadata": {},
     "output_type": "display_data"
    },
    {
     "data": {
      "text/html": [
       "'CCL24 down, FN1 up, FPR1 down, FSCN1 down, OSM up'"
      ],
      "text/latex": [
       "'CCL24 down, FN1 up, FPR1 down, FSCN1 down, OSM up'"
      ],
      "text/markdown": [
       "'CCL24 down, FN1 up, FPR1 down, FSCN1 down, OSM up'"
      ],
      "text/plain": [
       "[1] \"CCL24 down, FN1 up, FPR1 down, FSCN1 down, OSM up\""
      ]
     },
     "metadata": {},
     "output_type": "display_data"
    },
    {
     "data": {
      "text/html": [
       "'CEMIP up, FPR1 down, FPR2 down, PTGIR down, P2RY1 up, ADM down, FPR3 down, GPR35 down, CD36 down, GPR157 down, LRP1 up, BCL2 up, P2RX7 down'"
      ],
      "text/latex": [
       "'CEMIP up, FPR1 down, FPR2 down, PTGIR down, P2RY1 up, ADM down, FPR3 down, GPR35 down, CD36 down, GPR157 down, LRP1 up, BCL2 up, P2RX7 down'"
      ],
      "text/markdown": [
       "'CEMIP up, FPR1 down, FPR2 down, PTGIR down, P2RY1 up, ADM down, FPR3 down, GPR35 down, CD36 down, GPR157 down, LRP1 up, BCL2 up, P2RX7 down'"
      ],
      "text/plain": [
       "[1] \"CEMIP up, FPR1 down, FPR2 down, PTGIR down, P2RY1 up, ADM down, FPR3 down, GPR35 down, CD36 down, GPR157 down, LRP1 up, BCL2 up, P2RX7 down\""
      ]
     },
     "metadata": {},
     "output_type": "display_data"
    },
    {
     "data": {
      "text/html": [
       "'CEMIP up, FPR1 down, FPR2 down, P2RY1 up, PTGIR down'"
      ],
      "text/latex": [
       "'CEMIP up, FPR1 down, FPR2 down, P2RY1 up, PTGIR down'"
      ],
      "text/markdown": [
       "'CEMIP up, FPR1 down, FPR2 down, P2RY1 up, PTGIR down'"
      ],
      "text/plain": [
       "[1] \"CEMIP up, FPR1 down, FPR2 down, P2RY1 up, PTGIR down\""
      ]
     },
     "metadata": {},
     "output_type": "display_data"
    },
    {
     "data": {
      "text/html": [
       "'FPR1 down, FPR2 down, P2RY1 up, FPR3 down, P2RY2 mixed, GPR35 down, GPR157 down'"
      ],
      "text/latex": [
       "'FPR1 down, FPR2 down, P2RY1 up, FPR3 down, P2RY2 mixed, GPR35 down, GPR157 down'"
      ],
      "text/markdown": [
       "'FPR1 down, FPR2 down, P2RY1 up, FPR3 down, P2RY2 mixed, GPR35 down, GPR157 down'"
      ],
      "text/plain": [
       "[1] \"FPR1 down, FPR2 down, P2RY1 up, FPR3 down, P2RY2 mixed, GPR35 down, GPR157 down\""
      ]
     },
     "metadata": {},
     "output_type": "display_data"
    },
    {
     "data": {
      "text/html": [
       "'FPR1 down, FPR2 down, FPR3 down, P2RY1 up, P2RY2 mixed'"
      ],
      "text/latex": [
       "'FPR1 down, FPR2 down, FPR3 down, P2RY1 up, P2RY2 mixed'"
      ],
      "text/markdown": [
       "'FPR1 down, FPR2 down, FPR3 down, P2RY1 up, P2RY2 mixed'"
      ],
      "text/plain": [
       "[1] \"FPR1 down, FPR2 down, FPR3 down, P2RY1 up, P2RY2 mixed\""
      ]
     },
     "metadata": {},
     "output_type": "display_data"
    }
   ],
   "source": [
    "#add yes-no col\n",
    "first1 <- as_tibble (first)\n",
    "\n",
    "first1 = first1 %>%\n",
    "rename (ensembl_gene_id = value) %>%\n",
    "add_column (is_first = \"Yes\")\n",
    "\n",
    "mrg_prim1 <- merge (de2, first1, by = \"ensembl_gene_id\", all.x = T)\n",
    "\n",
    "\n",
    "pr1 <- mrg_prim1 %>%\n",
    "filter (., is_first == \"Yes\") %>%\n",
    "arrange (., -max_val)\n",
    "\n",
    "pr1_genes <- paste(pr1$hgnc_symbol, (pr1$Regulation_v2))\n",
    "pr1_genes <- toString (pr1_genes)\n",
    "pr1_genes\n",
    "\n",
    "pr1_genes_5L <- paste(pr1$hgnc_symbol[1:5],(pr1$Regulation_v2[1:5]))\n",
    "pr1_genes_5 = pr1_genes_5L %>%\n",
    "sort(.) %>%\n",
    "toString()\n",
    "\n",
    "pr1_genes_5\n",
    "\n",
    "second1 <- as_tibble (second)\n",
    "\n",
    "second1 = second1 %>%\n",
    "rename (ensembl_gene_id = value) %>%\n",
    "add_column (is_second = \"Yes\")\n",
    "\n",
    "mrg_prim2 <- merge (de2, second1, by = \"ensembl_gene_id\", all.x = T)\n",
    "\n",
    "pr2 <- mrg_prim2 %>%\n",
    "filter (., is_second == \"Yes\") %>%\n",
    "arrange (., -max_val)\n",
    "\n",
    "pr2_genes <- paste(pr2$hgnc_symbol, (pr2$Regulation_v2))\n",
    "pr2_genes <- toString (pr2_genes)\n",
    "pr2_genes\n",
    "\n",
    "pr2_genes_5L <- paste(pr2$hgnc_symbol[1:5],(pr2$Regulation_v2[1:5]))\n",
    "pr2_genes_5 = pr2_genes_5L %>%\n",
    "sort(.) %>%\n",
    "toString()\n",
    "\n",
    "pr2_genes_5\n",
    "\n",
    "######\n",
    "third1 <- as_tibble (third)\n",
    "\n",
    "third1 = third1 %>%\n",
    "rename (ensembl_gene_id = value) %>%\n",
    "add_column (is_third = \"Yes\")\n",
    "\n",
    "mrg_prim3 <- merge (de2, third1, by = \"ensembl_gene_id\", all.x = T)\n",
    "\n",
    "pr3 <- mrg_prim3 %>%\n",
    "filter (., is_third == \"Yes\") %>%\n",
    "arrange (., -max_val)\n",
    "\n",
    "pr3_genes <- paste(pr3$hgnc_symbol, (pr3$Regulation_v2))\n",
    "pr3_genes <- toString (pr3_genes)\n",
    "pr3_genes\n",
    "\n",
    "pr3_genes_5L <- paste(pr3$hgnc_symbol[1:5],(pr3$Regulation_v2[1:5]))\n",
    "pr3_genes_5 = pr3_genes_5L %>%\n",
    "sort(.) %>%\n",
    "toString()\n",
    "\n",
    "pr3_genes_5\n",
    "\n",
    "######\n",
    "forth1 <- as_tibble (forth)\n",
    "\n",
    "forth1 = forth1 %>%\n",
    "rename (ensembl_gene_id = value) %>%\n",
    "add_column (is_forth = \"Yes\")\n",
    "\n",
    "mrg_prim4 <- merge (de2, forth1, by = \"ensembl_gene_id\", all.x = T)\n",
    "\n",
    "pr4 <- mrg_prim4 %>%\n",
    "filter (., is_forth == \"Yes\") %>%\n",
    "arrange (., -max_val)\n",
    "\n",
    "pr4_genes <- paste(pr4$hgnc_symbol, (pr4$Regulation_v2))\n",
    "pr4_genes <- toString (pr4_genes)\n",
    "pr4_genes\n",
    "\n",
    "pr4_genes_5L <- paste(pr4$hgnc_symbol[1:5],(pr4$Regulation_v2[1:5]))\n",
    "pr4_genes_5 = pr4_genes_5L %>%\n",
    "sort(.) %>%\n",
    "toString()\n",
    "\n",
    "pr4_genes_5\n",
    "#####\n",
    "\n",
    "fifth1 <- as_tibble (fifth)\n",
    "\n",
    "fifth1 = fifth1 %>%\n",
    "rename (ensembl_gene_id = value) %>%\n",
    "add_column (is_fifth = \"Yes\")\n",
    "\n",
    "\n",
    "mrg_prim5 <- merge (de2, fifth1, by = \"ensembl_gene_id\", all.x = T)\n",
    "\n",
    "pr5 <- mrg_prim5 %>%\n",
    "filter (., is_fifth == \"Yes\") %>%\n",
    "arrange (., -max_val)\n",
    "\n",
    "pr5_genes <- paste(pr5$hgnc_symbol, (pr5$Regulation_v2))\n",
    "pr5_genes <- toString (pr5_genes)\n",
    "pr5_genes\n",
    "\n",
    "pr5_genes_5L <- paste(pr5$hgnc_symbol[1:5],(pr5$Regulation_v2[1:5]))\n",
    "pr5_genes_5 = pr5_genes_5L %>%\n",
    "sort(.) %>%\n",
    "toString()\n",
    "\n",
    "pr5_genes_5"
   ]
  },
  {
   "cell_type": "code",
   "execution_count": 110,
   "id": "afraid-commonwealth",
   "metadata": {},
   "outputs": [
    {
     "data": {
      "text/html": [
       "'GO:0006954'"
      ],
      "text/latex": [
       "'GO:0006954'"
      ],
      "text/markdown": [
       "'GO:0006954'"
      ],
      "text/plain": [
       "[1] \"GO:0006954\""
      ]
     },
     "metadata": {},
     "output_type": "display_data"
    },
    {
     "data": {
      "text/html": [
       "'GO:0030198'"
      ],
      "text/latex": [
       "'GO:0030198'"
      ],
      "text/markdown": [
       "'GO:0030198'"
      ],
      "text/plain": [
       "[1] \"GO:0030198\""
      ]
     },
     "metadata": {},
     "output_type": "display_data"
    },
    {
     "data": {
      "text/html": [
       "'GO:0019221'"
      ],
      "text/latex": [
       "'GO:0019221'"
      ],
      "text/markdown": [
       "'GO:0019221'"
      ],
      "text/plain": [
       "[1] \"GO:0019221\""
      ]
     },
     "metadata": {},
     "output_type": "display_data"
    },
    {
     "data": {
      "text/html": [
       "'GO:0007204'"
      ],
      "text/latex": [
       "'GO:0007204'"
      ],
      "text/markdown": [
       "'GO:0007204'"
      ],
      "text/plain": [
       "[1] \"GO:0007204\""
      ]
     },
     "metadata": {},
     "output_type": "display_data"
    },
    {
     "data": {
      "text/html": [
       "'GO:0007200'"
      ],
      "text/latex": [
       "'GO:0007200'"
      ],
      "text/markdown": [
       "'GO:0007200'"
      ],
      "text/plain": [
       "[1] \"GO:0007200\""
      ]
     },
     "metadata": {},
     "output_type": "display_data"
    }
   ],
   "source": [
    "go_table[1,1]\n",
    "go_table[2,1]\n",
    "go_table[3,1]\n",
    "go_table[4,1]\n",
    "#go_table[5,1] too low nr of sign genes in term 5 (below 5)\n",
    "go_table[6,1]"
   ]
  },
  {
   "cell_type": "code",
   "execution_count": 111,
   "id": "formal-pathology",
   "metadata": {},
   "outputs": [],
   "source": [
    "pr1_genes_up = str_count (pr1_genes, pattern = \"up\")\n",
    "pr2_genes_up = str_count (pr2_genes, pattern = \"up\")\n",
    "pr3_genes_up = str_count (pr3_genes, pattern = \"up\")\n",
    "pr4_genes_up = str_count (pr4_genes, pattern = \"up\")\n",
    "pr5_genes_up = str_count (pr5_genes, pattern = \"up\")\n",
    "\n",
    "pr1_genes_down = str_count (pr1_genes, pattern = \"down\")\n",
    "pr2_genes_down =str_count (pr2_genes, pattern = \"down\")\n",
    "pr3_genes_down =str_count (pr3_genes, pattern = \"down\")\n",
    "pr4_genes_down =str_count (pr4_genes, pattern = \"down\")\n",
    "pr5_genes_down =str_count (pr5_genes, pattern = \"down\")\n",
    "\n",
    "pr1_genes_mixed = str_count (pr1_genes, pattern = \"mixed\")\n",
    "pr2_genes_mixed  = str_count (pr2_genes, pattern = \"mixed\")\n",
    "pr3_genes_mixed  = str_count (pr3_genes, pattern = \"mixed\")\n",
    "pr4_genes_mixed  = str_count (pr4_genes, pattern = \"mixed\")\n",
    "pr5_genes_mixed  = str_count (pr5_genes, pattern = \"mixed\")"
   ]
  },
  {
   "cell_type": "code",
   "execution_count": 112,
   "id": "impressed-classroom",
   "metadata": {},
   "outputs": [],
   "source": [
    "gofinal_primary = go_tableSave %>%\n",
    "mutate(.,\n",
    "       genes_selection = case_when(\n",
    "         GO.ID == \"GO:0006954\" ~ paste0(pr1_genes_5),\n",
    "         GO.ID == \"GO:0030198\" ~ paste0(pr2_genes_5),\n",
    "         GO.ID == \"GO:0019221\" ~ paste0(pr3_genes_5),\n",
    "         GO.ID == \"GO:0007204\" ~ paste0(pr4_genes_5),\n",
    "         GO.ID == \"GO:0007200\" ~ paste0(pr5_genes_5)))\n",
    "     #  TRUE ~ NA))\n",
    "\n",
    "gofinal_primary = gofinal_primary %>%\n",
    "mutate(.,\n",
    "       genes_all = case_when(\n",
    "         GO.ID == \"GO:0006954\" ~ paste0(pr1_genes),\n",
    "         GO.ID == \"GO:0030198\" ~ paste0(pr2_genes),\n",
    "         GO.ID == \"GO:0019221\" ~ paste0(pr3_genes),\n",
    "         GO.ID == \"GO:0007204\" ~ paste0(pr4_genes),\n",
    "         GO.ID == \"GO:0007200\" ~ paste0(pr5_genes)))\n",
    "\n",
    "######\n",
    "\n",
    "gofinal_primary = gofinal_primary %>%\n",
    "mutate(.,\n",
    "       genes_up = case_when(\n",
    "        GO.ID == \"GO:0006954\" ~ paste0(pr1_genes_up),\n",
    "        GO.ID == \"GO:0030198\" ~ paste0(pr2_genes_up),\n",
    "        GO.ID == \"GO:0019221\" ~ paste0(pr3_genes_up),\n",
    "        GO.ID == \"GO:0007204\" ~ paste0(pr4_genes_up),\n",
    "        GO.ID == \"GO:0007200\" ~ paste0(pr5_genes_up)))\n",
    "\n",
    "gofinal_primary = gofinal_primary %>%\n",
    "mutate(.,\n",
    "       genes_down = case_when(\n",
    "        GO.ID == \"GO:0006954\" ~ paste0(pr1_genes_down),\n",
    "        GO.ID == \"GO:0030198\" ~ paste0(pr2_genes_down),\n",
    "        GO.ID == \"GO:0019221\" ~ paste0(pr3_genes_down),\n",
    "        GO.ID == \"GO:0007204\" ~ paste0(pr4_genes_down),\n",
    "        GO.ID == \"GO:0007200\" ~ paste0(pr5_genes_down)))\n",
    "\n",
    "gofinal_primary = gofinal_primary %>%\n",
    "mutate(.,\n",
    "       genes_mixed = case_when(\n",
    "         GO.ID == \"GO:0006954\" ~ paste0(pr1_genes_mixed),\n",
    "         GO.ID == \"GO:0030198\" ~ paste0(pr2_genes_mixed),\n",
    "         GO.ID == \"GO:0019221\" ~ paste0(pr3_genes_mixed),\n",
    "         GO.ID == \"GO:0007204\" ~ paste0(pr4_genes_mixed),\n",
    "         GO.ID == \"GO:0007200\" ~ paste0(pr5_genes_mixed)))\n"
   ]
  },
  {
   "cell_type": "code",
   "execution_count": 113,
   "id": "impossible-butterfly",
   "metadata": {},
   "outputs": [
    {
     "data": {
      "text/html": [
       "<table class=\"dataframe\">\n",
       "<caption>A data.frame: 6 × 11</caption>\n",
       "<thead>\n",
       "\t<tr><th></th><th scope=col>GO.ID</th><th scope=col>Term</th><th scope=col>Annotated</th><th scope=col>Significant</th><th scope=col>Expected</th><th scope=col>weightFisher</th><th scope=col>genes_selection</th><th scope=col>genes_all</th><th scope=col>genes_up</th><th scope=col>genes_down</th><th scope=col>genes_mixed</th></tr>\n",
       "\t<tr><th></th><th scope=col>&lt;chr&gt;</th><th scope=col>&lt;chr&gt;</th><th scope=col>&lt;int&gt;</th><th scope=col>&lt;int&gt;</th><th scope=col>&lt;dbl&gt;</th><th scope=col>&lt;chr&gt;</th><th scope=col>&lt;chr&gt;</th><th scope=col>&lt;chr&gt;</th><th scope=col>&lt;chr&gt;</th><th scope=col>&lt;chr&gt;</th><th scope=col>&lt;chr&gt;</th></tr>\n",
       "</thead>\n",
       "<tbody>\n",
       "\t<tr><th scope=row>1</th><td>GO:0006954</td><td>inflammatory response                      </td><td>506</td><td>34</td><td>7.70</td><td>9.9e-08</td><td>CCL24 down, FN1 up, OSM up, SLC11A1 up, TREM1 up      </td><td>FN1 up, OSM up, SLC11A1 up, CCL24 down, TREM1 up, CASP5 down, STAB1 down, FPR1 down, FFAR2 up, TNFRSF4 down, FPR2 down, ALOX5 up, PTGIR down, PLA2G4C down, CSF1 up, ADM down, BMP6 up, IL1B up, CD14 up, FPR3 down, PTX3 down, ADA down, NOD2 up, MAPK13 up, PLA2G7 down, SERPINE1 mixed, THEMIS2 up, CD36 down, ITGAM up, LRP1 up, PRKCD down, PTAFR down, DAGLA down, P2RX7 down</td><td>15</td><td>18</td><td>1 </td></tr>\n",
       "\t<tr><th scope=row>2</th><td>GO:0030198</td><td>extracellular matrix organization          </td><td>206</td><td>18</td><td>3.13</td><td>3.9e-07</td><td>CRISPLD2 up, FN1 up, ITGA11 down, ITGB8 up, PDPN up   </td><td>FN1 up, ITGA11 down, ITGB8 up, CRISPLD2 up, PDPN up, NID1 down, LAMB3 up, FSCN1 down, COL7A1 up, TGFBI down, AGRN down, PTX3 down, SERPINE1 mixed, MYO1E down, SULF2 up, ITGAM up, LRP1 up, PHLDB1 down                                                                                                                                                                            </td><td>9 </td><td>8 </td><td>1 </td></tr>\n",
       "\t<tr><th scope=row>3</th><td>GO:0019221</td><td>cytokine-mediated signaling pathway        </td><td>598</td><td>24</td><td>9.10</td><td>2.4e-06</td><td>CCL24 down, FN1 up, FPR1 down, FSCN1 down, OSM up     </td><td>FN1 up, OSM up, CCL24 down, FSCN1 down, FPR1 down, TNFRSF4 down, ALOX5 up, CSF1 up, RHOU down, IL1B up, CRLF2 down, CD300LF up, SERPINB2 up, NOD2 up, IL13RA1 down, TEC down, GPR35 down, CSF2RA down, CD36 down, ITGAM up, PRKCD down, PTAFR down, BCL2 up, IRF5 up                                                                                                               </td><td>11</td><td>13</td><td>0 </td></tr>\n",
       "\t<tr><th scope=row>4</th><td>GO:0007204</td><td>positive regulation of cytosolic calcium...</td><td>177</td><td>13</td><td>2.69</td><td>7.1e-06</td><td>CEMIP up, FPR1 down, FPR2 down, P2RY1 up, PTGIR down  </td><td>CEMIP up, FPR1 down, FPR2 down, PTGIR down, P2RY1 up, ADM down, FPR3 down, GPR35 down, CD36 down, GPR157 down, LRP1 up, BCL2 up, P2RX7 down                                                                                                                                                                                                                                        </td><td>4 </td><td>9 </td><td>0 </td></tr>\n",
       "\t<tr><th scope=row>5</th><td>GO:0007567</td><td>parturition                                </td><td> 10</td><td> 4</td><td>0.15</td><td>1.0e-05</td><td>NA                                                    </td><td>NA                                                                                                                                                                                                                                                                                                                                                                                 </td><td>NA</td><td>NA</td><td>NA</td></tr>\n",
       "\t<tr><th scope=row>6</th><td>GO:0007200</td><td>phospholipase C-activating G protein-cou...</td><td> 43</td><td> 7</td><td>0.65</td><td>2.0e-05</td><td>FPR1 down, FPR2 down, FPR3 down, P2RY1 up, P2RY2 mixed</td><td>FPR1 down, FPR2 down, P2RY1 up, FPR3 down, P2RY2 mixed, GPR35 down, GPR157 down                                                                                                                                                                                                                                                                                                    </td><td>1 </td><td>5 </td><td>1 </td></tr>\n",
       "</tbody>\n",
       "</table>\n"
      ],
      "text/latex": [
       "A data.frame: 6 × 11\n",
       "\\begin{tabular}{r|lllllllllll}\n",
       "  & GO.ID & Term & Annotated & Significant & Expected & weightFisher & genes\\_selection & genes\\_all & genes\\_up & genes\\_down & genes\\_mixed\\\\\n",
       "  & <chr> & <chr> & <int> & <int> & <dbl> & <chr> & <chr> & <chr> & <chr> & <chr> & <chr>\\\\\n",
       "\\hline\n",
       "\t1 & GO:0006954 & inflammatory response                       & 506 & 34 & 7.70 & 9.9e-08 & CCL24 down, FN1 up, OSM up, SLC11A1 up, TREM1 up       & FN1 up, OSM up, SLC11A1 up, CCL24 down, TREM1 up, CASP5 down, STAB1 down, FPR1 down, FFAR2 up, TNFRSF4 down, FPR2 down, ALOX5 up, PTGIR down, PLA2G4C down, CSF1 up, ADM down, BMP6 up, IL1B up, CD14 up, FPR3 down, PTX3 down, ADA down, NOD2 up, MAPK13 up, PLA2G7 down, SERPINE1 mixed, THEMIS2 up, CD36 down, ITGAM up, LRP1 up, PRKCD down, PTAFR down, DAGLA down, P2RX7 down & 15 & 18 & 1 \\\\\n",
       "\t2 & GO:0030198 & extracellular matrix organization           & 206 & 18 & 3.13 & 3.9e-07 & CRISPLD2 up, FN1 up, ITGA11 down, ITGB8 up, PDPN up    & FN1 up, ITGA11 down, ITGB8 up, CRISPLD2 up, PDPN up, NID1 down, LAMB3 up, FSCN1 down, COL7A1 up, TGFBI down, AGRN down, PTX3 down, SERPINE1 mixed, MYO1E down, SULF2 up, ITGAM up, LRP1 up, PHLDB1 down                                                                                                                                                                             & 9  & 8  & 1 \\\\\n",
       "\t3 & GO:0019221 & cytokine-mediated signaling pathway         & 598 & 24 & 9.10 & 2.4e-06 & CCL24 down, FN1 up, FPR1 down, FSCN1 down, OSM up      & FN1 up, OSM up, CCL24 down, FSCN1 down, FPR1 down, TNFRSF4 down, ALOX5 up, CSF1 up, RHOU down, IL1B up, CRLF2 down, CD300LF up, SERPINB2 up, NOD2 up, IL13RA1 down, TEC down, GPR35 down, CSF2RA down, CD36 down, ITGAM up, PRKCD down, PTAFR down, BCL2 up, IRF5 up                                                                                                                & 11 & 13 & 0 \\\\\n",
       "\t4 & GO:0007204 & positive regulation of cytosolic calcium... & 177 & 13 & 2.69 & 7.1e-06 & CEMIP up, FPR1 down, FPR2 down, P2RY1 up, PTGIR down   & CEMIP up, FPR1 down, FPR2 down, PTGIR down, P2RY1 up, ADM down, FPR3 down, GPR35 down, CD36 down, GPR157 down, LRP1 up, BCL2 up, P2RX7 down                                                                                                                                                                                                                                         & 4  & 9  & 0 \\\\\n",
       "\t5 & GO:0007567 & parturition                                 &  10 &  4 & 0.15 & 1.0e-05 & NA                                                     & NA                                                                                                                                                                                                                                                                                                                                                                                  & NA & NA & NA\\\\\n",
       "\t6 & GO:0007200 & phospholipase C-activating G protein-cou... &  43 &  7 & 0.65 & 2.0e-05 & FPR1 down, FPR2 down, FPR3 down, P2RY1 up, P2RY2 mixed & FPR1 down, FPR2 down, P2RY1 up, FPR3 down, P2RY2 mixed, GPR35 down, GPR157 down                                                                                                                                                                                                                                                                                                     & 1  & 5  & 1 \\\\\n",
       "\\end{tabular}\n"
      ],
      "text/markdown": [
       "\n",
       "A data.frame: 6 × 11\n",
       "\n",
       "| <!--/--> | GO.ID &lt;chr&gt; | Term &lt;chr&gt; | Annotated &lt;int&gt; | Significant &lt;int&gt; | Expected &lt;dbl&gt; | weightFisher &lt;chr&gt; | genes_selection &lt;chr&gt; | genes_all &lt;chr&gt; | genes_up &lt;chr&gt; | genes_down &lt;chr&gt; | genes_mixed &lt;chr&gt; |\n",
       "|---|---|---|---|---|---|---|---|---|---|---|---|\n",
       "| 1 | GO:0006954 | inflammatory response                       | 506 | 34 | 7.70 | 9.9e-08 | CCL24 down, FN1 up, OSM up, SLC11A1 up, TREM1 up       | FN1 up, OSM up, SLC11A1 up, CCL24 down, TREM1 up, CASP5 down, STAB1 down, FPR1 down, FFAR2 up, TNFRSF4 down, FPR2 down, ALOX5 up, PTGIR down, PLA2G4C down, CSF1 up, ADM down, BMP6 up, IL1B up, CD14 up, FPR3 down, PTX3 down, ADA down, NOD2 up, MAPK13 up, PLA2G7 down, SERPINE1 mixed, THEMIS2 up, CD36 down, ITGAM up, LRP1 up, PRKCD down, PTAFR down, DAGLA down, P2RX7 down | 15 | 18 | 1  |\n",
       "| 2 | GO:0030198 | extracellular matrix organization           | 206 | 18 | 3.13 | 3.9e-07 | CRISPLD2 up, FN1 up, ITGA11 down, ITGB8 up, PDPN up    | FN1 up, ITGA11 down, ITGB8 up, CRISPLD2 up, PDPN up, NID1 down, LAMB3 up, FSCN1 down, COL7A1 up, TGFBI down, AGRN down, PTX3 down, SERPINE1 mixed, MYO1E down, SULF2 up, ITGAM up, LRP1 up, PHLDB1 down                                                                                                                                                                             | 9  | 8  | 1  |\n",
       "| 3 | GO:0019221 | cytokine-mediated signaling pathway         | 598 | 24 | 9.10 | 2.4e-06 | CCL24 down, FN1 up, FPR1 down, FSCN1 down, OSM up      | FN1 up, OSM up, CCL24 down, FSCN1 down, FPR1 down, TNFRSF4 down, ALOX5 up, CSF1 up, RHOU down, IL1B up, CRLF2 down, CD300LF up, SERPINB2 up, NOD2 up, IL13RA1 down, TEC down, GPR35 down, CSF2RA down, CD36 down, ITGAM up, PRKCD down, PTAFR down, BCL2 up, IRF5 up                                                                                                                | 11 | 13 | 0  |\n",
       "| 4 | GO:0007204 | positive regulation of cytosolic calcium... | 177 | 13 | 2.69 | 7.1e-06 | CEMIP up, FPR1 down, FPR2 down, P2RY1 up, PTGIR down   | CEMIP up, FPR1 down, FPR2 down, PTGIR down, P2RY1 up, ADM down, FPR3 down, GPR35 down, CD36 down, GPR157 down, LRP1 up, BCL2 up, P2RX7 down                                                                                                                                                                                                                                         | 4  | 9  | 0  |\n",
       "| 5 | GO:0007567 | parturition                                 |  10 |  4 | 0.15 | 1.0e-05 | NA                                                     | NA                                                                                                                                                                                                                                                                                                                                                                                  | NA | NA | NA |\n",
       "| 6 | GO:0007200 | phospholipase C-activating G protein-cou... |  43 |  7 | 0.65 | 2.0e-05 | FPR1 down, FPR2 down, FPR3 down, P2RY1 up, P2RY2 mixed | FPR1 down, FPR2 down, P2RY1 up, FPR3 down, P2RY2 mixed, GPR35 down, GPR157 down                                                                                                                                                                                                                                                                                                     | 1  | 5  | 1  |\n",
       "\n"
      ],
      "text/plain": [
       "  GO.ID      Term                                        Annotated Significant\n",
       "1 GO:0006954 inflammatory response                       506       34         \n",
       "2 GO:0030198 extracellular matrix organization           206       18         \n",
       "3 GO:0019221 cytokine-mediated signaling pathway         598       24         \n",
       "4 GO:0007204 positive regulation of cytosolic calcium... 177       13         \n",
       "5 GO:0007567 parturition                                  10        4         \n",
       "6 GO:0007200 phospholipase C-activating G protein-cou...  43        7         \n",
       "  Expected weightFisher genes_selection                                       \n",
       "1 7.70     9.9e-08      CCL24 down, FN1 up, OSM up, SLC11A1 up, TREM1 up      \n",
       "2 3.13     3.9e-07      CRISPLD2 up, FN1 up, ITGA11 down, ITGB8 up, PDPN up   \n",
       "3 9.10     2.4e-06      CCL24 down, FN1 up, FPR1 down, FSCN1 down, OSM up     \n",
       "4 2.69     7.1e-06      CEMIP up, FPR1 down, FPR2 down, P2RY1 up, PTGIR down  \n",
       "5 0.15     1.0e-05      NA                                                    \n",
       "6 0.65     2.0e-05      FPR1 down, FPR2 down, FPR3 down, P2RY1 up, P2RY2 mixed\n",
       "  genes_all                                                                                                                                                                                                                                                                                                                                                                          \n",
       "1 FN1 up, OSM up, SLC11A1 up, CCL24 down, TREM1 up, CASP5 down, STAB1 down, FPR1 down, FFAR2 up, TNFRSF4 down, FPR2 down, ALOX5 up, PTGIR down, PLA2G4C down, CSF1 up, ADM down, BMP6 up, IL1B up, CD14 up, FPR3 down, PTX3 down, ADA down, NOD2 up, MAPK13 up, PLA2G7 down, SERPINE1 mixed, THEMIS2 up, CD36 down, ITGAM up, LRP1 up, PRKCD down, PTAFR down, DAGLA down, P2RX7 down\n",
       "2 FN1 up, ITGA11 down, ITGB8 up, CRISPLD2 up, PDPN up, NID1 down, LAMB3 up, FSCN1 down, COL7A1 up, TGFBI down, AGRN down, PTX3 down, SERPINE1 mixed, MYO1E down, SULF2 up, ITGAM up, LRP1 up, PHLDB1 down                                                                                                                                                                            \n",
       "3 FN1 up, OSM up, CCL24 down, FSCN1 down, FPR1 down, TNFRSF4 down, ALOX5 up, CSF1 up, RHOU down, IL1B up, CRLF2 down, CD300LF up, SERPINB2 up, NOD2 up, IL13RA1 down, TEC down, GPR35 down, CSF2RA down, CD36 down, ITGAM up, PRKCD down, PTAFR down, BCL2 up, IRF5 up                                                                                                               \n",
       "4 CEMIP up, FPR1 down, FPR2 down, PTGIR down, P2RY1 up, ADM down, FPR3 down, GPR35 down, CD36 down, GPR157 down, LRP1 up, BCL2 up, P2RX7 down                                                                                                                                                                                                                                        \n",
       "5 NA                                                                                                                                                                                                                                                                                                                                                                                 \n",
       "6 FPR1 down, FPR2 down, P2RY1 up, FPR3 down, P2RY2 mixed, GPR35 down, GPR157 down                                                                                                                                                                                                                                                                                                    \n",
       "  genes_up genes_down genes_mixed\n",
       "1 15       18         1          \n",
       "2 9        8          1          \n",
       "3 11       13         0          \n",
       "4 4        9          0          \n",
       "5 NA       NA         NA         \n",
       "6 1        5          1          "
      ]
     },
     "metadata": {},
     "output_type": "display_data"
    }
   ],
   "source": [
    "head (gofinal_primary)"
   ]
  },
  {
   "cell_type": "code",
   "execution_count": 114,
   "id": "based-award",
   "metadata": {},
   "outputs": [],
   "source": [
    "write.xlsx (gofinal_primary, \"./data/gofinal_primary.xlsx\", row.names = F)"
   ]
  },
  {
   "cell_type": "code",
   "execution_count": 115,
   "id": "exclusive-captain",
   "metadata": {},
   "outputs": [
    {
     "data": {
      "text/html": [
       "<style>\n",
       ".list-inline {list-style: none; margin:0; padding: 0}\n",
       ".list-inline>li {display: inline-block}\n",
       ".list-inline>li:not(:last-child)::after {content: \"\\00b7\"; padding: 0 .5ex}\n",
       "</style>\n",
       "<ol class=list-inline><li>'11111'</li><li>'11110'</li><li>'11101'</li><li>'11011'</li><li>'10111'</li><li>'01111'</li><li>'11100'</li><li>'11010'</li><li>'11001'</li><li>'10110'</li><li>'10101'</li><li>'10011'</li><li>'01110'</li><li>'01101'</li><li>'01011'</li><li>'00111'</li><li>'11000'</li><li>'10100'</li><li>'10010'</li><li>'10001'</li><li>'01100'</li><li>'01010'</li><li>'01001'</li><li>'00110'</li><li>'00101'</li><li>'00011'</li><li>'10000'</li><li>'01000'</li><li>'00100'</li><li>'00010'</li><li>'00001'</li></ol>\n"
      ],
      "text/latex": [
       "\\begin{enumerate*}\n",
       "\\item '11111'\n",
       "\\item '11110'\n",
       "\\item '11101'\n",
       "\\item '11011'\n",
       "\\item '10111'\n",
       "\\item '01111'\n",
       "\\item '11100'\n",
       "\\item '11010'\n",
       "\\item '11001'\n",
       "\\item '10110'\n",
       "\\item '10101'\n",
       "\\item '10011'\n",
       "\\item '01110'\n",
       "\\item '01101'\n",
       "\\item '01011'\n",
       "\\item '00111'\n",
       "\\item '11000'\n",
       "\\item '10100'\n",
       "\\item '10010'\n",
       "\\item '10001'\n",
       "\\item '01100'\n",
       "\\item '01010'\n",
       "\\item '01001'\n",
       "\\item '00110'\n",
       "\\item '00101'\n",
       "\\item '00011'\n",
       "\\item '10000'\n",
       "\\item '01000'\n",
       "\\item '00100'\n",
       "\\item '00010'\n",
       "\\item '00001'\n",
       "\\end{enumerate*}\n"
      ],
      "text/markdown": [
       "1. '11111'\n",
       "2. '11110'\n",
       "3. '11101'\n",
       "4. '11011'\n",
       "5. '10111'\n",
       "6. '01111'\n",
       "7. '11100'\n",
       "8. '11010'\n",
       "9. '11001'\n",
       "10. '10110'\n",
       "11. '10101'\n",
       "12. '10011'\n",
       "13. '01110'\n",
       "14. '01101'\n",
       "15. '01011'\n",
       "16. '00111'\n",
       "17. '11000'\n",
       "18. '10100'\n",
       "19. '10010'\n",
       "20. '10001'\n",
       "21. '01100'\n",
       "22. '01010'\n",
       "23. '01001'\n",
       "24. '00110'\n",
       "25. '00101'\n",
       "26. '00011'\n",
       "27. '10000'\n",
       "28. '01000'\n",
       "29. '00100'\n",
       "30. '00010'\n",
       "31. '00001'\n",
       "\n",
       "\n"
      ],
      "text/plain": [
       " [1] \"11111\" \"11110\" \"11101\" \"11011\" \"10111\" \"01111\" \"11100\" \"11010\" \"11001\"\n",
       "[10] \"10110\" \"10101\" \"10011\" \"01110\" \"01101\" \"01011\" \"00111\" \"11000\" \"10100\"\n",
       "[19] \"10010\" \"10001\" \"01100\" \"01010\" \"01001\" \"00110\" \"00101\" \"00011\" \"10000\"\n",
       "[28] \"01000\" \"00100\" \"00010\" \"00001\""
      ]
     },
     "metadata": {},
     "output_type": "display_data"
    },
    {
     "data": {
      "text/html": [
       "17"
      ],
      "text/latex": [
       "17"
      ],
      "text/markdown": [
       "17"
      ],
      "text/plain": [
       "[1] 17"
      ]
     },
     "metadata": {},
     "output_type": "display_data"
    },
    {
     "data": {
      "text/html": [
       "<style>\n",
       ".list-inline {list-style: none; margin:0; padding: 0}\n",
       ".list-inline>li {display: inline-block}\n",
       ".list-inline>li:not(:last-child)::after {content: \"\\00b7\"; padding: 0 .5ex}\n",
       "</style>\n",
       "<ol class=list-inline><li>'CCL24 down'</li><li>'CEMIP up'</li><li>'CRISPLD2 up'</li><li>'FN1 up'</li><li>'FPR1 down'</li><li>'FPR2 down'</li><li>'FPR3 down'</li><li>'FSCN1 down'</li><li>'ITGA11 down'</li><li>'ITGB8 up'</li><li>'OSM up'</li><li>'P2RY1 up'</li><li>'P2RY2 mixed'</li><li>'PDPN up'</li><li>'PTGIR down'</li><li>'SLC11A1 up'</li><li>'TREM1 up'</li></ol>\n"
      ],
      "text/latex": [
       "\\begin{enumerate*}\n",
       "\\item 'CCL24 down'\n",
       "\\item 'CEMIP up'\n",
       "\\item 'CRISPLD2 up'\n",
       "\\item 'FN1 up'\n",
       "\\item 'FPR1 down'\n",
       "\\item 'FPR2 down'\n",
       "\\item 'FPR3 down'\n",
       "\\item 'FSCN1 down'\n",
       "\\item 'ITGA11 down'\n",
       "\\item 'ITGB8 up'\n",
       "\\item 'OSM up'\n",
       "\\item 'P2RY1 up'\n",
       "\\item 'P2RY2 mixed'\n",
       "\\item 'PDPN up'\n",
       "\\item 'PTGIR down'\n",
       "\\item 'SLC11A1 up'\n",
       "\\item 'TREM1 up'\n",
       "\\end{enumerate*}\n"
      ],
      "text/markdown": [
       "1. 'CCL24 down'\n",
       "2. 'CEMIP up'\n",
       "3. 'CRISPLD2 up'\n",
       "4. 'FN1 up'\n",
       "5. 'FPR1 down'\n",
       "6. 'FPR2 down'\n",
       "7. 'FPR3 down'\n",
       "8. 'FSCN1 down'\n",
       "9. 'ITGA11 down'\n",
       "10. 'ITGB8 up'\n",
       "11. 'OSM up'\n",
       "12. 'P2RY1 up'\n",
       "13. 'P2RY2 mixed'\n",
       "14. 'PDPN up'\n",
       "15. 'PTGIR down'\n",
       "16. 'SLC11A1 up'\n",
       "17. 'TREM1 up'\n",
       "\n",
       "\n"
      ],
      "text/plain": [
       " [1] \"CCL24 down\"  \"CEMIP up\"    \"CRISPLD2 up\" \"FN1 up\"      \"FPR1 down\"  \n",
       " [6] \"FPR2 down\"   \"FPR3 down\"   \"FSCN1 down\"  \"ITGA11 down\" \"ITGB8 up\"   \n",
       "[11] \"OSM up\"      \"P2RY1 up\"    \"P2RY2 mixed\" \"PDPN up\"     \"PTGIR down\" \n",
       "[16] \"SLC11A1 up\"  \"TREM1 up\"   "
      ]
     },
     "metadata": {},
     "output_type": "display_data"
    }
   ],
   "source": [
    "xprim = list (p1 = pr1_genes_5L,\n",
    "      p2 = pr2_genes_5L,\n",
    "      p3 = pr3_genes_5L,\n",
    "      p4 = pr4_genes_5L,\n",
    "      p5 = pr5_genes_5L)\n",
    "#x12\n",
    "\n",
    "m = make_comb_mat(xprim, mode = \"union\")\n",
    "comb_name(m)\n",
    "xprim = extract_comb(m, \"11111\")\n",
    "length (xprim)\n",
    "\n",
    "xprim"
   ]
  },
  {
   "cell_type": "code",
   "execution_count": 116,
   "id": "clean-journalism",
   "metadata": {},
   "outputs": [],
   "source": [
    "#write.table (xprim, \"./data/topgenes_xprim.txt\", row.names = F)"
   ]
  },
  {
   "cell_type": "code",
   "execution_count": 117,
   "id": "legislative-train",
   "metadata": {},
   "outputs": [],
   "source": [
    "pr1_genes_symbol = pr1$hgnc_symbol\n",
    "pr2_genes_symbol = pr2$hgnc_symbol\n",
    "pr3_genes_symbol = pr3$hgnc_symbol\n",
    "pr4_genes_symbol = pr4$hgnc_symbol\n",
    "pr5_genes_symbol = pr5$hgnc_symbol\n",
    "\n",
    "dirlist = list (\n",
    "pr1_genes_symbol,\n",
    "pr2_genes_symbol,\n",
    "pr3_genes_symbol,\n",
    "pr4_genes_symbol, \n",
    "pr5_genes_symbol\n",
    ")\n",
    "\n",
    "saveRDS(dirlist, file = \"gofinal_prim.Rds\")"
   ]
  },
  {
   "cell_type": "markdown",
   "id": "quick-broad",
   "metadata": {},
   "source": [
    "## Secondary"
   ]
  },
  {
   "cell_type": "code",
   "execution_count": 118,
   "id": "taken-average",
   "metadata": {},
   "outputs": [
    {
     "data": {
      "text/html": [
       "12305"
      ],
      "text/latex": [
       "12305"
      ],
      "text/markdown": [
       "12305"
      ],
      "text/plain": [
       "[1] 12305"
      ]
     },
     "metadata": {},
     "output_type": "display_data"
    },
    {
     "data": {
      "text/html": [
       "483"
      ],
      "text/latex": [
       "483"
      ],
      "text/markdown": [
       "483"
      ],
      "text/plain": [
       "[1] 483"
      ]
     },
     "metadata": {},
     "output_type": "display_data"
    }
   ],
   "source": [
    "universe = d$ensembl_gene_id\n",
    "length (universe)\n",
    "\n",
    "d_ens = d %>%\n",
    "column_to_rownames (\"ensembl_gene_id\") \n",
    "\n",
    "d_ens_sec = d_ens %>%\n",
    "filter  (., howmany > 0) %>%\n",
    "subset (., Target_08h !=\"yes\")\n",
    "\n",
    "secondary<- rownames (d_ens_sec)\n",
    "length(secondary)"
   ]
  },
  {
   "cell_type": "code",
   "execution_count": 119,
   "id": "intensive-performer",
   "metadata": {},
   "outputs": [
    {
     "name": "stderr",
     "output_type": "stream",
     "text": [
      "\n",
      "Building most specific GOs .....\n",
      "\n",
      "\t( 10686 GO terms found. )\n",
      "\n",
      "\n",
      "Build GO DAG topology ..........\n",
      "\n",
      "\t( 14567 GO terms and 33790 relations. )\n",
      "\n",
      "\n",
      "Annotating nodes ...............\n",
      "\n",
      "\t( 11241 genes annotated to the GO terms. )\n",
      "\n",
      "\n",
      "\t\t\t -- Weight01 Algorithm -- \n",
      "\n",
      "\t\t the algorithm is scoring 4382 nontrivial nodes\n",
      "\t\t parameters: \n",
      "\t\t\t test statistic: fisher\n",
      "\n",
      "\n",
      "\t Level 19:\t1 nodes to be scored\t(0 eliminated genes)\n",
      "\n",
      "\n",
      "\t Level 18:\t1 nodes to be scored\t(0 eliminated genes)\n",
      "\n",
      "\n",
      "\t Level 17:\t9 nodes to be scored\t(12 eliminated genes)\n",
      "\n",
      "\n",
      "\t Level 16:\t16 nodes to be scored\t(16 eliminated genes)\n",
      "\n",
      "\n",
      "\t Level 15:\t29 nodes to be scored\t(97 eliminated genes)\n",
      "\n",
      "\n",
      "\t Level 14:\t62 nodes to be scored\t(204 eliminated genes)\n",
      "\n",
      "\n",
      "\t Level 13:\t91 nodes to be scored\t(516 eliminated genes)\n",
      "\n",
      "\n",
      "\t Level 12:\t155 nodes to be scored\t(1457 eliminated genes)\n",
      "\n",
      "\n",
      "\t Level 11:\t266 nodes to be scored\t(3127 eliminated genes)\n",
      "\n",
      "\n",
      "\t Level 10:\t462 nodes to be scored\t(4682 eliminated genes)\n",
      "\n",
      "\n",
      "\t Level 9:\t617 nodes to be scored\t(6074 eliminated genes)\n",
      "\n",
      "\n",
      "\t Level 8:\t683 nodes to be scored\t(7720 eliminated genes)\n",
      "\n",
      "\n",
      "\t Level 7:\t703 nodes to be scored\t(8957 eliminated genes)\n",
      "\n",
      "\n",
      "\t Level 6:\t589 nodes to be scored\t(10147 eliminated genes)\n",
      "\n",
      "\n",
      "\t Level 5:\t383 nodes to be scored\t(10592 eliminated genes)\n",
      "\n",
      "\n",
      "\t Level 4:\t200 nodes to be scored\t(10886 eliminated genes)\n",
      "\n",
      "\n",
      "\t Level 3:\t94 nodes to be scored\t(11015 eliminated genes)\n",
      "\n",
      "\n",
      "\t Level 2:\t20 nodes to be scored\t(11069 eliminated genes)\n",
      "\n",
      "\n",
      "\t Level 1:\t1 nodes to be scored\t(11129 eliminated genes)\n",
      "\n"
     ]
    },
    {
     "data": {
      "text/html": [
       "<table class=\"dataframe\">\n",
       "<caption>A data.frame: 6 × 6</caption>\n",
       "<thead>\n",
       "\t<tr><th></th><th scope=col>GO.ID</th><th scope=col>Term</th><th scope=col>Annotated</th><th scope=col>Significant</th><th scope=col>Expected</th><th scope=col>weightFisher</th></tr>\n",
       "\t<tr><th></th><th scope=col>&lt;chr&gt;</th><th scope=col>&lt;chr&gt;</th><th scope=col>&lt;int&gt;</th><th scope=col>&lt;int&gt;</th><th scope=col>&lt;dbl&gt;</th><th scope=col>&lt;chr&gt;</th></tr>\n",
       "</thead>\n",
       "<tbody>\n",
       "\t<tr><th scope=row>1</th><td>GO:0043312</td><td>neutrophil degranulation                   </td><td>425</td><td>55</td><td>17.28</td><td>1.3e-14</td></tr>\n",
       "\t<tr><th scope=row>2</th><td>GO:0002250</td><td>adaptive immune response                   </td><td>337</td><td>42</td><td>13.70</td><td>1.2e-08</td></tr>\n",
       "\t<tr><th scope=row>3</th><td>GO:0030593</td><td>neutrophil chemotaxis                      </td><td> 72</td><td>16</td><td> 2.93</td><td>1.1e-07</td></tr>\n",
       "\t<tr><th scope=row>4</th><td>GO:0006954</td><td>inflammatory response                      </td><td>506</td><td>62</td><td>20.57</td><td>1.3e-07</td></tr>\n",
       "\t<tr><th scope=row>5</th><td>GO:0070098</td><td>chemokine-mediated signaling pathway       </td><td> 54</td><td>13</td><td> 2.20</td><td>1.7e-07</td></tr>\n",
       "\t<tr><th scope=row>6</th><td>GO:0050729</td><td>positive regulation of inflammatory resp...</td><td> 99</td><td>16</td><td> 4.02</td><td>2.0e-07</td></tr>\n",
       "</tbody>\n",
       "</table>\n"
      ],
      "text/latex": [
       "A data.frame: 6 × 6\n",
       "\\begin{tabular}{r|llllll}\n",
       "  & GO.ID & Term & Annotated & Significant & Expected & weightFisher\\\\\n",
       "  & <chr> & <chr> & <int> & <int> & <dbl> & <chr>\\\\\n",
       "\\hline\n",
       "\t1 & GO:0043312 & neutrophil degranulation                    & 425 & 55 & 17.28 & 1.3e-14\\\\\n",
       "\t2 & GO:0002250 & adaptive immune response                    & 337 & 42 & 13.70 & 1.2e-08\\\\\n",
       "\t3 & GO:0030593 & neutrophil chemotaxis                       &  72 & 16 &  2.93 & 1.1e-07\\\\\n",
       "\t4 & GO:0006954 & inflammatory response                       & 506 & 62 & 20.57 & 1.3e-07\\\\\n",
       "\t5 & GO:0070098 & chemokine-mediated signaling pathway        &  54 & 13 &  2.20 & 1.7e-07\\\\\n",
       "\t6 & GO:0050729 & positive regulation of inflammatory resp... &  99 & 16 &  4.02 & 2.0e-07\\\\\n",
       "\\end{tabular}\n"
      ],
      "text/markdown": [
       "\n",
       "A data.frame: 6 × 6\n",
       "\n",
       "| <!--/--> | GO.ID &lt;chr&gt; | Term &lt;chr&gt; | Annotated &lt;int&gt; | Significant &lt;int&gt; | Expected &lt;dbl&gt; | weightFisher &lt;chr&gt; |\n",
       "|---|---|---|---|---|---|---|\n",
       "| 1 | GO:0043312 | neutrophil degranulation                    | 425 | 55 | 17.28 | 1.3e-14 |\n",
       "| 2 | GO:0002250 | adaptive immune response                    | 337 | 42 | 13.70 | 1.2e-08 |\n",
       "| 3 | GO:0030593 | neutrophil chemotaxis                       |  72 | 16 |  2.93 | 1.1e-07 |\n",
       "| 4 | GO:0006954 | inflammatory response                       | 506 | 62 | 20.57 | 1.3e-07 |\n",
       "| 5 | GO:0070098 | chemokine-mediated signaling pathway        |  54 | 13 |  2.20 | 1.7e-07 |\n",
       "| 6 | GO:0050729 | positive regulation of inflammatory resp... |  99 | 16 |  4.02 | 2.0e-07 |\n",
       "\n"
      ],
      "text/plain": [
       "  GO.ID      Term                                        Annotated Significant\n",
       "1 GO:0043312 neutrophil degranulation                    425       55         \n",
       "2 GO:0002250 adaptive immune response                    337       42         \n",
       "3 GO:0030593 neutrophil chemotaxis                        72       16         \n",
       "4 GO:0006954 inflammatory response                       506       62         \n",
       "5 GO:0070098 chemokine-mediated signaling pathway         54       13         \n",
       "6 GO:0050729 positive regulation of inflammatory resp...  99       16         \n",
       "  Expected weightFisher\n",
       "1 17.28    1.3e-14     \n",
       "2 13.70    1.2e-08     \n",
       "3  2.93    1.1e-07     \n",
       "4 20.57    1.3e-07     \n",
       "5  2.20    1.7e-07     \n",
       "6  4.02    2.0e-07     "
      ]
     },
     "metadata": {},
     "output_type": "display_data"
    }
   ],
   "source": [
    "expressed = as.numeric(universe %in% secondary)  #### IN SECONDARY\n",
    "names(expressed) = universe\n",
    "\n",
    "#length (cluster_genes)\n",
    "#length (expressed)\n",
    "\n",
    "go_data = new(\"topGOdata\", \n",
    "              ontology = \"BP\", \n",
    "              allGenes = expressed,\n",
    "              nodeSize = 10,\n",
    "              geneSel = function(x){\n",
    "                return(x == 1)},\n",
    "              annot = annFUN.org, \n",
    "              mapping = \"org.Hs.eg.db\", \n",
    "              ID = \"ensembl\")\n",
    "\n",
    "go_test<- runTest(go_data, algorithm = \"weight01\", statistic = \"fisher\")\n",
    "go_table <- GenTable(go_data, weightFisher = go_test,\n",
    "                     orderBy = \"weightFisher\", ranksOf = \"weightFisher\",\n",
    "                     topNodes = sum(score(go_test) < .01))\n",
    "#head(go_table)\n",
    "\n",
    "go_tableSave <- as.data.frame (go_table)\n",
    "head (go_tableSave)"
   ]
  },
  {
   "cell_type": "markdown",
   "id": "monetary-unknown",
   "metadata": {},
   "source": [
    "### IN SECONDARY"
   ]
  },
  {
   "cell_type": "code",
   "execution_count": 120,
   "id": "biblical-mauritius",
   "metadata": {},
   "outputs": [],
   "source": [
    "go_table$genes <- sapply(go_table$GO.ID, function(x)\n",
    "    {\n",
    "      genes<-genesInTerm(go_data, x) \n",
    "      genes[[1]][genes[[1]] %in% secondary ] ### in secondary\n",
    "    })"
   ]
  },
  {
   "cell_type": "code",
   "execution_count": 121,
   "id": "cross-arlington",
   "metadata": {},
   "outputs": [
    {
     "data": {
      "text/html": [
       "'GO:0043312'"
      ],
      "text/latex": [
       "'GO:0043312'"
      ],
      "text/markdown": [
       "'GO:0043312'"
      ],
      "text/plain": [
       "[1] \"GO:0043312\""
      ]
     },
     "metadata": {},
     "output_type": "display_data"
    },
    {
     "data": {
      "text/html": [
       "'GO:0002250'"
      ],
      "text/latex": [
       "'GO:0002250'"
      ],
      "text/markdown": [
       "'GO:0002250'"
      ],
      "text/plain": [
       "[1] \"GO:0002250\""
      ]
     },
     "metadata": {},
     "output_type": "display_data"
    },
    {
     "data": {
      "text/html": [
       "'GO:0030593'"
      ],
      "text/latex": [
       "'GO:0030593'"
      ],
      "text/markdown": [
       "'GO:0030593'"
      ],
      "text/plain": [
       "[1] \"GO:0030593\""
      ]
     },
     "metadata": {},
     "output_type": "display_data"
    },
    {
     "data": {
      "text/html": [
       "'GO:0006954'"
      ],
      "text/latex": [
       "'GO:0006954'"
      ],
      "text/markdown": [
       "'GO:0006954'"
      ],
      "text/plain": [
       "[1] \"GO:0006954\""
      ]
     },
     "metadata": {},
     "output_type": "display_data"
    },
    {
     "data": {
      "text/html": [
       "'GO:0070098'"
      ],
      "text/latex": [
       "'GO:0070098'"
      ],
      "text/markdown": [
       "'GO:0070098'"
      ],
      "text/plain": [
       "[1] \"GO:0070098\""
      ]
     },
     "metadata": {},
     "output_type": "display_data"
    }
   ],
   "source": [
    "go_table[1,1]\n",
    "go_table[2,1]\n",
    "go_table[3,1]\n",
    "go_table[4,1]\n",
    "go_table[5,1]# too low nr of sign genes in term 5 (below 5)\n",
    "#go_table[6,1]"
   ]
  },
  {
   "cell_type": "code",
   "execution_count": 122,
   "id": "guided-edmonton",
   "metadata": {},
   "outputs": [],
   "source": [
    "first = go_table$genes$'GO:0043312'\n",
    "second = go_table$genes$'GO:0002250'\n",
    "third = go_table$genes$'GO:0030593'\n",
    "forth = go_table$genes$'GO:0006954'\n",
    "fifth = go_table$genes$'GO:0070098'"
   ]
  },
  {
   "cell_type": "code",
   "execution_count": 123,
   "id": "fancy-andrews",
   "metadata": {},
   "outputs": [
    {
     "data": {
      "text/html": [
       "'CAMP mixed, MMP9 down, OLR1 up, TRPM2 down, S100A9 down, CXCL1 up, CFP down, CLEC12A up, S100A12 down, JUP down, GSN down, SIGLEC14 down, CHI3L1 mixed, MNDA mixed, MGST1 mixed, LILRB2 down, ADGRE3 down, ADGRG3 up, ATP8B4 down, CST3 down, QPCT up, FGL2 down, PPBP up, PADI2 down, MMP25 down, IMPDH1 down, HPSE up, TYROBP down, CD300A down, ACP3 down, CTSH down, CLEC5A mixed, HSPA1A down, ATG7 down, HSPA1B down, CYFIP1 down, ITGAX down, RAB31 down, ANXA2 down, S100A8 down, PLD1 up, MAN2B1 down, PLAUR up, FCAR up, FTH1 down, CXCR1 down, ATP6V0A1 down, PRAM1 down, LILRB3 down, ALDH3B1 down, ITGB2 down, SIRPB1 down, GAA down, GRN down, NFAM1 down'"
      ],
      "text/latex": [
       "'CAMP mixed, MMP9 down, OLR1 up, TRPM2 down, S100A9 down, CXCL1 up, CFP down, CLEC12A up, S100A12 down, JUP down, GSN down, SIGLEC14 down, CHI3L1 mixed, MNDA mixed, MGST1 mixed, LILRB2 down, ADGRE3 down, ADGRG3 up, ATP8B4 down, CST3 down, QPCT up, FGL2 down, PPBP up, PADI2 down, MMP25 down, IMPDH1 down, HPSE up, TYROBP down, CD300A down, ACP3 down, CTSH down, CLEC5A mixed, HSPA1A down, ATG7 down, HSPA1B down, CYFIP1 down, ITGAX down, RAB31 down, ANXA2 down, S100A8 down, PLD1 up, MAN2B1 down, PLAUR up, FCAR up, FTH1 down, CXCR1 down, ATP6V0A1 down, PRAM1 down, LILRB3 down, ALDH3B1 down, ITGB2 down, SIRPB1 down, GAA down, GRN down, NFAM1 down'"
      ],
      "text/markdown": [
       "'CAMP mixed, MMP9 down, OLR1 up, TRPM2 down, S100A9 down, CXCL1 up, CFP down, CLEC12A up, S100A12 down, JUP down, GSN down, SIGLEC14 down, CHI3L1 mixed, MNDA mixed, MGST1 mixed, LILRB2 down, ADGRE3 down, ADGRG3 up, ATP8B4 down, CST3 down, QPCT up, FGL2 down, PPBP up, PADI2 down, MMP25 down, IMPDH1 down, HPSE up, TYROBP down, CD300A down, ACP3 down, CTSH down, CLEC5A mixed, HSPA1A down, ATG7 down, HSPA1B down, CYFIP1 down, ITGAX down, RAB31 down, ANXA2 down, S100A8 down, PLD1 up, MAN2B1 down, PLAUR up, FCAR up, FTH1 down, CXCR1 down, ATP6V0A1 down, PRAM1 down, LILRB3 down, ALDH3B1 down, ITGB2 down, SIRPB1 down, GAA down, GRN down, NFAM1 down'"
      ],
      "text/plain": [
       "[1] \"CAMP mixed, MMP9 down, OLR1 up, TRPM2 down, S100A9 down, CXCL1 up, CFP down, CLEC12A up, S100A12 down, JUP down, GSN down, SIGLEC14 down, CHI3L1 mixed, MNDA mixed, MGST1 mixed, LILRB2 down, ADGRE3 down, ADGRG3 up, ATP8B4 down, CST3 down, QPCT up, FGL2 down, PPBP up, PADI2 down, MMP25 down, IMPDH1 down, HPSE up, TYROBP down, CD300A down, ACP3 down, CTSH down, CLEC5A mixed, HSPA1A down, ATG7 down, HSPA1B down, CYFIP1 down, ITGAX down, RAB31 down, ANXA2 down, S100A8 down, PLD1 up, MAN2B1 down, PLAUR up, FCAR up, FTH1 down, CXCR1 down, ATP6V0A1 down, PRAM1 down, LILRB3 down, ALDH3B1 down, ITGB2 down, SIRPB1 down, GAA down, GRN down, NFAM1 down\""
      ]
     },
     "metadata": {},
     "output_type": "display_data"
    },
    {
     "data": {
      "text/html": [
       "'CAMP mixed, MMP9 down, OLR1 up, S100A9 down, TRPM2 down'"
      ],
      "text/latex": [
       "'CAMP mixed, MMP9 down, OLR1 up, S100A9 down, TRPM2 down'"
      ],
      "text/markdown": [
       "'CAMP mixed, MMP9 down, OLR1 up, S100A9 down, TRPM2 down'"
      ],
      "text/plain": [
       "[1] \"CAMP mixed, MMP9 down, OLR1 up, S100A9 down, TRPM2 down\""
      ]
     },
     "metadata": {},
     "output_type": "display_data"
    },
    {
     "data": {
      "text/html": [
       "'C1QC down, TNFRSF21 up, C1QB down, ADGRE1 down, C2 down, IL18 down, IL18BP down, CTSL up, CLEC10A down, TRPM4 down, TLR8 down, HLA-DRB1 down, HLA-DRB5 down, HLA-DRA down, CLEC4A down, FZD5 down, LILRB2 down, LILRB5 down, CD4 down, LOXL3 down, POU2F2 down, HLX down, FGL2 down, HLA-DQB2 down, CCR2 down, RNF19B down, NLRP3 mixed, HLA-DMA down, EOMES up, HLA-DPA1 down, CTSH down, CD74 down, HLA-DQA1 down, HLA-DMB down, HLA-DPB1 down, LILRA1 up, TNFSF13 down, ICAM1 down, HLA-DQB1 down, FCGR2B down, LILRB3 down, UNC93B1 down'"
      ],
      "text/latex": [
       "'C1QC down, TNFRSF21 up, C1QB down, ADGRE1 down, C2 down, IL18 down, IL18BP down, CTSL up, CLEC10A down, TRPM4 down, TLR8 down, HLA-DRB1 down, HLA-DRB5 down, HLA-DRA down, CLEC4A down, FZD5 down, LILRB2 down, LILRB5 down, CD4 down, LOXL3 down, POU2F2 down, HLX down, FGL2 down, HLA-DQB2 down, CCR2 down, RNF19B down, NLRP3 mixed, HLA-DMA down, EOMES up, HLA-DPA1 down, CTSH down, CD74 down, HLA-DQA1 down, HLA-DMB down, HLA-DPB1 down, LILRA1 up, TNFSF13 down, ICAM1 down, HLA-DQB1 down, FCGR2B down, LILRB3 down, UNC93B1 down'"
      ],
      "text/markdown": [
       "'C1QC down, TNFRSF21 up, C1QB down, ADGRE1 down, C2 down, IL18 down, IL18BP down, CTSL up, CLEC10A down, TRPM4 down, TLR8 down, HLA-DRB1 down, HLA-DRB5 down, HLA-DRA down, CLEC4A down, FZD5 down, LILRB2 down, LILRB5 down, CD4 down, LOXL3 down, POU2F2 down, HLX down, FGL2 down, HLA-DQB2 down, CCR2 down, RNF19B down, NLRP3 mixed, HLA-DMA down, EOMES up, HLA-DPA1 down, CTSH down, CD74 down, HLA-DQA1 down, HLA-DMB down, HLA-DPB1 down, LILRA1 up, TNFSF13 down, ICAM1 down, HLA-DQB1 down, FCGR2B down, LILRB3 down, UNC93B1 down'"
      ],
      "text/plain": [
       "[1] \"C1QC down, TNFRSF21 up, C1QB down, ADGRE1 down, C2 down, IL18 down, IL18BP down, CTSL up, CLEC10A down, TRPM4 down, TLR8 down, HLA-DRB1 down, HLA-DRB5 down, HLA-DRA down, CLEC4A down, FZD5 down, LILRB2 down, LILRB5 down, CD4 down, LOXL3 down, POU2F2 down, HLX down, FGL2 down, HLA-DQB2 down, CCR2 down, RNF19B down, NLRP3 mixed, HLA-DMA down, EOMES up, HLA-DPA1 down, CTSH down, CD74 down, HLA-DQA1 down, HLA-DMB down, HLA-DPB1 down, LILRA1 up, TNFSF13 down, ICAM1 down, HLA-DQB1 down, FCGR2B down, LILRB3 down, UNC93B1 down\""
      ]
     },
     "metadata": {},
     "output_type": "display_data"
    },
    {
     "data": {
      "text/html": [
       "'ADGRE1 down, C1QB down, C1QC down, C2 down, TNFRSF21 up'"
      ],
      "text/latex": [
       "'ADGRE1 down, C1QB down, C1QC down, C2 down, TNFRSF21 up'"
      ],
      "text/markdown": [
       "'ADGRE1 down, C1QB down, C1QC down, C2 down, TNFRSF21 up'"
      ],
      "text/plain": [
       "[1] \"ADGRE1 down, C1QB down, C1QC down, C2 down, TNFRSF21 up\""
      ]
     },
     "metadata": {},
     "output_type": "display_data"
    },
    {
     "data": {
      "text/html": [
       "'CXCL9 down, CXCL10 down, CXCL5 up, S100A9 down, CXCL1 up, S100A12 down, CCL22 up, DPP4 up, PPBP up, CXCL8 up, CD74 down, S100A8 down, C5AR2 mixed, CSF3R up, CXCR1 down, ITGB2 down'"
      ],
      "text/latex": [
       "'CXCL9 down, CXCL10 down, CXCL5 up, S100A9 down, CXCL1 up, S100A12 down, CCL22 up, DPP4 up, PPBP up, CXCL8 up, CD74 down, S100A8 down, C5AR2 mixed, CSF3R up, CXCR1 down, ITGB2 down'"
      ],
      "text/markdown": [
       "'CXCL9 down, CXCL10 down, CXCL5 up, S100A9 down, CXCL1 up, S100A12 down, CCL22 up, DPP4 up, PPBP up, CXCL8 up, CD74 down, S100A8 down, C5AR2 mixed, CSF3R up, CXCR1 down, ITGB2 down'"
      ],
      "text/plain": [
       "[1] \"CXCL9 down, CXCL10 down, CXCL5 up, S100A9 down, CXCL1 up, S100A12 down, CCL22 up, DPP4 up, PPBP up, CXCL8 up, CD74 down, S100A8 down, C5AR2 mixed, CSF3R up, CXCR1 down, ITGB2 down\""
      ]
     },
     "metadata": {},
     "output_type": "display_data"
    },
    {
     "data": {
      "text/html": [
       "'CXCL1 up, CXCL10 down, CXCL5 up, CXCL9 down, S100A9 down'"
      ],
      "text/latex": [
       "'CXCL1 up, CXCL10 down, CXCL5 up, CXCL9 down, S100A9 down'"
      ],
      "text/markdown": [
       "'CXCL1 up, CXCL10 down, CXCL5 up, CXCL9 down, S100A9 down'"
      ],
      "text/plain": [
       "[1] \"CXCL1 up, CXCL10 down, CXCL5 up, CXCL9 down, S100A9 down\""
      ]
     },
     "metadata": {},
     "output_type": "display_data"
    },
    {
     "data": {
      "text/html": [
       "'CXCL9 down, CXCL10 down, CXCL5 up, THBS1 down, MMP9 down, OLR1 up, LPL up, ADORA3 down, SLAMF8 down, SIGLEC1 down, MEFV down, TPST1 up, S100A9 down, CXCL1 up, IL18 down, SPP1 mixed, S100A12 down, LILRA5 down, TLR8 down, HLA-DRB1 down, TGM2 up, CHI3L1 mixed, IL1RN up, NCR3 mixed, CCL22 up, IL1R2 mixed, CNR1 up, LOXL3 down, TIMP1 down, KLF4 down, SERPINF1 down, NLRP12 mixed, PPBP up, CCR2 down, MMP25 down, CXCL8 up, CXCR4 up, AIF1 down, NLRP3 mixed, LACC1 down, CEBPB up, TLR7 down, IFNGR1 down, TYROBP down, CD163 down, CEBPA down, CCRL2 mixed, CIITA down, LDLR down, PTGS1 down, S100A8 down, ADGRE2 down, HCK down, C5AR2 mixed, ICAM1 down, IL17RC down, SPHK1 up, CSF1R down, FCGR2B down, ITGB2 down, GRN down, NFAM1 down'"
      ],
      "text/latex": [
       "'CXCL9 down, CXCL10 down, CXCL5 up, THBS1 down, MMP9 down, OLR1 up, LPL up, ADORA3 down, SLAMF8 down, SIGLEC1 down, MEFV down, TPST1 up, S100A9 down, CXCL1 up, IL18 down, SPP1 mixed, S100A12 down, LILRA5 down, TLR8 down, HLA-DRB1 down, TGM2 up, CHI3L1 mixed, IL1RN up, NCR3 mixed, CCL22 up, IL1R2 mixed, CNR1 up, LOXL3 down, TIMP1 down, KLF4 down, SERPINF1 down, NLRP12 mixed, PPBP up, CCR2 down, MMP25 down, CXCL8 up, CXCR4 up, AIF1 down, NLRP3 mixed, LACC1 down, CEBPB up, TLR7 down, IFNGR1 down, TYROBP down, CD163 down, CEBPA down, CCRL2 mixed, CIITA down, LDLR down, PTGS1 down, S100A8 down, ADGRE2 down, HCK down, C5AR2 mixed, ICAM1 down, IL17RC down, SPHK1 up, CSF1R down, FCGR2B down, ITGB2 down, GRN down, NFAM1 down'"
      ],
      "text/markdown": [
       "'CXCL9 down, CXCL10 down, CXCL5 up, THBS1 down, MMP9 down, OLR1 up, LPL up, ADORA3 down, SLAMF8 down, SIGLEC1 down, MEFV down, TPST1 up, S100A9 down, CXCL1 up, IL18 down, SPP1 mixed, S100A12 down, LILRA5 down, TLR8 down, HLA-DRB1 down, TGM2 up, CHI3L1 mixed, IL1RN up, NCR3 mixed, CCL22 up, IL1R2 mixed, CNR1 up, LOXL3 down, TIMP1 down, KLF4 down, SERPINF1 down, NLRP12 mixed, PPBP up, CCR2 down, MMP25 down, CXCL8 up, CXCR4 up, AIF1 down, NLRP3 mixed, LACC1 down, CEBPB up, TLR7 down, IFNGR1 down, TYROBP down, CD163 down, CEBPA down, CCRL2 mixed, CIITA down, LDLR down, PTGS1 down, S100A8 down, ADGRE2 down, HCK down, C5AR2 mixed, ICAM1 down, IL17RC down, SPHK1 up, CSF1R down, FCGR2B down, ITGB2 down, GRN down, NFAM1 down'"
      ],
      "text/plain": [
       "[1] \"CXCL9 down, CXCL10 down, CXCL5 up, THBS1 down, MMP9 down, OLR1 up, LPL up, ADORA3 down, SLAMF8 down, SIGLEC1 down, MEFV down, TPST1 up, S100A9 down, CXCL1 up, IL18 down, SPP1 mixed, S100A12 down, LILRA5 down, TLR8 down, HLA-DRB1 down, TGM2 up, CHI3L1 mixed, IL1RN up, NCR3 mixed, CCL22 up, IL1R2 mixed, CNR1 up, LOXL3 down, TIMP1 down, KLF4 down, SERPINF1 down, NLRP12 mixed, PPBP up, CCR2 down, MMP25 down, CXCL8 up, CXCR4 up, AIF1 down, NLRP3 mixed, LACC1 down, CEBPB up, TLR7 down, IFNGR1 down, TYROBP down, CD163 down, CEBPA down, CCRL2 mixed, CIITA down, LDLR down, PTGS1 down, S100A8 down, ADGRE2 down, HCK down, C5AR2 mixed, ICAM1 down, IL17RC down, SPHK1 up, CSF1R down, FCGR2B down, ITGB2 down, GRN down, NFAM1 down\""
      ]
     },
     "metadata": {},
     "output_type": "display_data"
    },
    {
     "data": {
      "text/html": [
       "'CXCL10 down, CXCL5 up, CXCL9 down, MMP9 down, THBS1 down'"
      ],
      "text/latex": [
       "'CXCL10 down, CXCL5 up, CXCL9 down, MMP9 down, THBS1 down'"
      ],
      "text/markdown": [
       "'CXCL10 down, CXCL5 up, CXCL9 down, MMP9 down, THBS1 down'"
      ],
      "text/plain": [
       "[1] \"CXCL10 down, CXCL5 up, CXCL9 down, MMP9 down, THBS1 down\""
      ]
     },
     "metadata": {},
     "output_type": "display_data"
    },
    {
     "data": {
      "text/html": [
       "'CXCL9 down, CXCL10 down, CXCL5 up, CXCL1 up, CCL22 up, PPBP up, PADI2 down, CCR2 down, CXCL8 up, CXCR4 up, CCRL2 mixed, CXCR1 down, CX3CR1 down'"
      ],
      "text/latex": [
       "'CXCL9 down, CXCL10 down, CXCL5 up, CXCL1 up, CCL22 up, PPBP up, PADI2 down, CCR2 down, CXCL8 up, CXCR4 up, CCRL2 mixed, CXCR1 down, CX3CR1 down'"
      ],
      "text/markdown": [
       "'CXCL9 down, CXCL10 down, CXCL5 up, CXCL1 up, CCL22 up, PPBP up, PADI2 down, CCR2 down, CXCL8 up, CXCR4 up, CCRL2 mixed, CXCR1 down, CX3CR1 down'"
      ],
      "text/plain": [
       "[1] \"CXCL9 down, CXCL10 down, CXCL5 up, CXCL1 up, CCL22 up, PPBP up, PADI2 down, CCR2 down, CXCL8 up, CXCR4 up, CCRL2 mixed, CXCR1 down, CX3CR1 down\""
      ]
     },
     "metadata": {},
     "output_type": "display_data"
    },
    {
     "data": {
      "text/html": [
       "'CCL22 up, CXCL1 up, CXCL10 down, CXCL5 up, CXCL9 down'"
      ],
      "text/latex": [
       "'CCL22 up, CXCL1 up, CXCL10 down, CXCL5 up, CXCL9 down'"
      ],
      "text/markdown": [
       "'CCL22 up, CXCL1 up, CXCL10 down, CXCL5 up, CXCL9 down'"
      ],
      "text/plain": [
       "[1] \"CCL22 up, CXCL1 up, CXCL10 down, CXCL5 up, CXCL9 down\""
      ]
     },
     "metadata": {},
     "output_type": "display_data"
    }
   ],
   "source": [
    "first1 <- as_tibble (first)\n",
    "\n",
    "first1 = first1 %>%\n",
    "rename (ensembl_gene_id = value) %>%\n",
    "add_column (is_first = \"Yes\")\n",
    "\n",
    "mrg_prim1 <- merge (de2, first1, by = \"ensembl_gene_id\", all.x = T)\n",
    "\n",
    "pr1 <- mrg_prim1 %>%\n",
    "filter (., is_first == \"Yes\") %>%\n",
    "arrange (., -max_val)\n",
    "\n",
    "pr1_genes <- paste(pr1$hgnc_symbol, (pr1$Regulation_v2))\n",
    "pr1_genes <- toString (pr1_genes)\n",
    "pr1_genes\n",
    "\n",
    "pr1_genes_5L <- paste(pr1$hgnc_symbol[1:5],(pr1$Regulation_v2[1:5]))\n",
    "pr1_genes_5 = pr1_genes_5L %>%\n",
    "sort(.) %>%\n",
    "toString()\n",
    "\n",
    "pr1_genes_5\n",
    "\n",
    "second1 <- as_tibble (second)\n",
    "\n",
    "second1 = second1 %>%\n",
    "rename (ensembl_gene_id = value) %>%\n",
    "add_column (is_second = \"Yes\")\n",
    "\n",
    "\n",
    "mrg_prim2 <- merge (de2, second1, by = \"ensembl_gene_id\", all.x = T)\n",
    "\n",
    "pr2 <- mrg_prim2 %>%\n",
    "filter (., is_second == \"Yes\") %>%\n",
    "arrange (., -max_val)\n",
    "\n",
    "pr2_genes <- paste(pr2$hgnc_symbol, (pr2$Regulation_v2))\n",
    "pr2_genes <- toString (pr2_genes)\n",
    "pr2_genes\n",
    "\n",
    "pr2_genes_5L <- paste(pr2$hgnc_symbol[1:5],(pr2$Regulation_v2[1:5]))\n",
    "pr2_genes_5 = pr2_genes_5L %>%\n",
    "sort(.) %>%\n",
    "toString()\n",
    "\n",
    "pr2_genes_5\n",
    "\n",
    "######\n",
    "third1 <- as_tibble (third)\n",
    "\n",
    "third1 = third1 %>%\n",
    "rename (ensembl_gene_id = value) %>%\n",
    "add_column (is_third = \"Yes\")\n",
    "\n",
    "\n",
    "mrg_prim3 <- merge (de2, third1, by = \"ensembl_gene_id\", all.x = T)\n",
    "\n",
    "\n",
    "pr3 <- mrg_prim3 %>%\n",
    "filter (., is_third == \"Yes\") %>%\n",
    "arrange (., -max_val)\n",
    "\n",
    "pr3_genes <- paste(pr3$hgnc_symbol, (pr3$Regulation_v2))\n",
    "pr3_genes <- toString (pr3_genes)\n",
    "pr3_genes\n",
    "\n",
    "pr3_genes_5L <- paste(pr3$hgnc_symbol[1:5],(pr3$Regulation_v2[1:5]))\n",
    "pr3_genes_5 = pr3_genes_5L %>%\n",
    "sort(.) %>%\n",
    "toString()\n",
    "\n",
    "pr3_genes_5\n",
    "\n",
    "######\n",
    "forth1 <- as_tibble (forth)\n",
    "\n",
    "forth1 = forth1 %>%\n",
    "rename (ensembl_gene_id = value) %>%\n",
    "add_column (is_forth = \"Yes\")\n",
    "\n",
    "\n",
    "mrg_prim4 <- merge (de2, forth1, by = \"ensembl_gene_id\", all.x = T)\n",
    "\n",
    "\n",
    "pr4 <- mrg_prim4 %>%\n",
    "filter (., is_forth == \"Yes\") %>%\n",
    "arrange (., -max_val)\n",
    "\n",
    "\n",
    "pr4_genes <- paste(pr4$hgnc_symbol, (pr4$Regulation_v2))\n",
    "pr4_genes <- toString (pr4_genes)\n",
    "pr4_genes\n",
    "\n",
    "pr4_genes_5L <- paste(pr4$hgnc_symbol[1:5],(pr4$Regulation_v2[1:5]))\n",
    "pr4_genes_5 = pr4_genes_5L %>%\n",
    "sort(.) %>%\n",
    "toString()\n",
    "\n",
    "pr4_genes_5\n",
    "\n",
    "fifth1 <- as_tibble (fifth)\n",
    "\n",
    "fifth1 = fifth1 %>%\n",
    "rename (ensembl_gene_id = value) %>%\n",
    "add_column (is_fifth = \"Yes\")\n",
    "\n",
    "\n",
    "mrg_prim5 <- merge (de2, fifth1, by = \"ensembl_gene_id\", all.x = T)\n",
    "\n",
    "pr5 <- mrg_prim5 %>%\n",
    "filter (., is_fifth == \"Yes\") %>%\n",
    "arrange (., -max_val)\n",
    "\n",
    "pr5_genes <- paste(pr5$hgnc_symbol, (pr5$Regulation_v2))\n",
    "pr5_genes <- toString (pr5_genes)\n",
    "pr5_genes\n",
    "\n",
    "pr5_genes_5L <- paste(pr5$hgnc_symbol[1:5],(pr5$Regulation_v2[1:5]))\n",
    "pr5_genes_5 = pr5_genes_5L %>%\n",
    "sort(.) %>%\n",
    "toString()\n",
    "\n",
    "pr5_genes_5"
   ]
  },
  {
   "cell_type": "code",
   "execution_count": 124,
   "id": "tender-celebration",
   "metadata": {},
   "outputs": [
    {
     "data": {
      "text/html": [
       "'GO:0043312'"
      ],
      "text/latex": [
       "'GO:0043312'"
      ],
      "text/markdown": [
       "'GO:0043312'"
      ],
      "text/plain": [
       "[1] \"GO:0043312\""
      ]
     },
     "metadata": {},
     "output_type": "display_data"
    },
    {
     "data": {
      "text/html": [
       "'GO:0002250'"
      ],
      "text/latex": [
       "'GO:0002250'"
      ],
      "text/markdown": [
       "'GO:0002250'"
      ],
      "text/plain": [
       "[1] \"GO:0002250\""
      ]
     },
     "metadata": {},
     "output_type": "display_data"
    },
    {
     "data": {
      "text/html": [
       "'GO:0030593'"
      ],
      "text/latex": [
       "'GO:0030593'"
      ],
      "text/markdown": [
       "'GO:0030593'"
      ],
      "text/plain": [
       "[1] \"GO:0030593\""
      ]
     },
     "metadata": {},
     "output_type": "display_data"
    },
    {
     "data": {
      "text/html": [
       "'GO:0006954'"
      ],
      "text/latex": [
       "'GO:0006954'"
      ],
      "text/markdown": [
       "'GO:0006954'"
      ],
      "text/plain": [
       "[1] \"GO:0006954\""
      ]
     },
     "metadata": {},
     "output_type": "display_data"
    },
    {
     "data": {
      "text/html": [
       "'GO:0070098'"
      ],
      "text/latex": [
       "'GO:0070098'"
      ],
      "text/markdown": [
       "'GO:0070098'"
      ],
      "text/plain": [
       "[1] \"GO:0070098\""
      ]
     },
     "metadata": {},
     "output_type": "display_data"
    }
   ],
   "source": [
    "go_table[1,1]\n",
    "go_table[2,1]\n",
    "go_table[3,1]\n",
    "go_table[4,1]\n",
    "go_table[5,1] \n",
    "#go_table[6,1]"
   ]
  },
  {
   "cell_type": "code",
   "execution_count": 125,
   "id": "numerical-tribute",
   "metadata": {},
   "outputs": [],
   "source": [
    "pr1_genes_up = str_count (pr1_genes, pattern = \"up\")\n",
    "pr2_genes_up = str_count (pr2_genes, pattern = \"up\")\n",
    "pr3_genes_up = str_count (pr3_genes, pattern = \"up\")\n",
    "pr4_genes_up = str_count (pr4_genes, pattern = \"up\")\n",
    "pr5_genes_up = str_count (pr5_genes, pattern = \"up\")\n",
    "\n",
    "pr1_genes_down = str_count (pr1_genes, pattern = \"down\")\n",
    "pr2_genes_down =str_count (pr2_genes, pattern = \"down\")\n",
    "pr3_genes_down =str_count (pr3_genes, pattern = \"down\")\n",
    "pr4_genes_down =str_count (pr4_genes, pattern = \"down\")\n",
    "pr5_genes_down =str_count (pr5_genes, pattern = \"down\")\n",
    "\n",
    "pr1_genes_mixed = str_count (pr1_genes, pattern = \"mixed\")\n",
    "pr2_genes_mixed  = str_count (pr2_genes, pattern = \"mixed\")\n",
    "pr3_genes_mixed  = str_count (pr3_genes, pattern = \"mixed\")\n",
    "pr4_genes_mixed  = str_count (pr4_genes, pattern = \"mixed\")\n",
    "pr5_genes_mixed  = str_count (pr5_genes, pattern = \"mixed\")"
   ]
  },
  {
   "cell_type": "code",
   "execution_count": 126,
   "id": "fantastic-occasions",
   "metadata": {},
   "outputs": [],
   "source": [
    "gofinal_secondary = go_tableSave %>%\n",
    "mutate(.,\n",
    "       genes_selection = case_when(\n",
    "         GO.ID == 'GO:0043312' ~ paste0(pr1_genes_5),\n",
    "         GO.ID == 'GO:0002250' ~ paste0(pr2_genes_5),\n",
    "         GO.ID == 'GO:0030593' ~ paste0(pr3_genes_5),\n",
    "         GO.ID == 'GO:0006954' ~ paste0(pr4_genes_5),\n",
    "         GO.ID == 'GO:0070098' ~ paste0(pr5_genes_5)))\n",
    "     #  TRUE ~ NA))\n",
    "\n",
    "gofinal_secondary = gofinal_secondary %>%\n",
    "mutate(.,\n",
    "       genes_all = case_when(\n",
    "         GO.ID == 'GO:0043312' ~ paste0(pr1_genes),\n",
    "         GO.ID == 'GO:0002250' ~ paste0(pr2_genes),\n",
    "         GO.ID == 'GO:0030593' ~ paste0(pr3_genes),\n",
    "         GO.ID == 'GO:0006954' ~ paste0(pr4_genes),\n",
    "         GO.ID == 'GO:0070098' ~ paste0(pr5_genes)))\n",
    "\n",
    "\n",
    "######\n",
    "\n",
    "gofinal_secondary = gofinal_secondary %>%\n",
    "mutate(.,\n",
    "       genes_up = case_when(\n",
    "          GO.ID == 'GO:0043312' ~ paste0(pr1_genes_up),\n",
    "          GO.ID == 'GO:0002250' ~ paste0(pr2_genes_up),\n",
    "          GO.ID == 'GO:0030593' ~ paste0(pr3_genes_up),\n",
    "          GO.ID == 'GO:0006954' ~ paste0(pr4_genes_up),\n",
    "          GO.ID == 'GO:0070098' ~ paste0(pr5_genes_up)))\n",
    "\n",
    "gofinal_secondary = gofinal_secondary %>%\n",
    "mutate(.,\n",
    "       genes_down = case_when(\n",
    "          GO.ID == 'GO:0043312' ~ paste0(pr1_genes_down),\n",
    "          GO.ID == 'GO:0002250' ~ paste0(pr2_genes_down),\n",
    "          GO.ID == 'GO:0030593' ~ paste0(pr3_genes_down),\n",
    "          GO.ID == 'GO:0006954' ~ paste0(pr4_genes_down),\n",
    "          GO.ID == 'GO:0070098' ~ paste0(pr5_genes_down)))\n",
    "\n",
    "gofinal_secondary = gofinal_secondary %>%\n",
    "mutate(.,\n",
    "       genes_mixed = case_when(\n",
    "          GO.ID == 'GO:0043312' ~ paste0(pr1_genes_mixed),\n",
    "          GO.ID == 'GO:0002250' ~ paste0(pr2_genes_mixed),\n",
    "          GO.ID == 'GO:0030593' ~ paste0(pr3_genes_mixed),\n",
    "          GO.ID == 'GO:0006954' ~ paste0(pr4_genes_mixed),\n",
    "          GO.ID == 'GO:0070098' ~ paste0(pr5_genes_mixed)))"
   ]
  },
  {
   "cell_type": "code",
   "execution_count": 127,
   "id": "super-czech",
   "metadata": {},
   "outputs": [
    {
     "data": {
      "text/html": [
       "<style>\n",
       ".list-inline {list-style: none; margin:0; padding: 0}\n",
       ".list-inline>li {display: inline-block}\n",
       ".list-inline>li:not(:last-child)::after {content: \"\\00b7\"; padding: 0 .5ex}\n",
       "</style>\n",
       "<ol class=list-inline><li>'11111'</li><li>'11110'</li><li>'11101'</li><li>'11011'</li><li>'10111'</li><li>'01111'</li><li>'11100'</li><li>'11010'</li><li>'11001'</li><li>'10110'</li><li>'10101'</li><li>'10011'</li><li>'01110'</li><li>'01101'</li><li>'01011'</li><li>'00111'</li><li>'11000'</li><li>'10100'</li><li>'10010'</li><li>'10001'</li><li>'01100'</li><li>'01010'</li><li>'01001'</li><li>'00110'</li><li>'00101'</li><li>'00011'</li><li>'10000'</li><li>'01000'</li><li>'00100'</li><li>'00010'</li><li>'00001'</li></ol>\n"
      ],
      "text/latex": [
       "\\begin{enumerate*}\n",
       "\\item '11111'\n",
       "\\item '11110'\n",
       "\\item '11101'\n",
       "\\item '11011'\n",
       "\\item '10111'\n",
       "\\item '01111'\n",
       "\\item '11100'\n",
       "\\item '11010'\n",
       "\\item '11001'\n",
       "\\item '10110'\n",
       "\\item '10101'\n",
       "\\item '10011'\n",
       "\\item '01110'\n",
       "\\item '01101'\n",
       "\\item '01011'\n",
       "\\item '00111'\n",
       "\\item '11000'\n",
       "\\item '10100'\n",
       "\\item '10010'\n",
       "\\item '10001'\n",
       "\\item '01100'\n",
       "\\item '01010'\n",
       "\\item '01001'\n",
       "\\item '00110'\n",
       "\\item '00101'\n",
       "\\item '00011'\n",
       "\\item '10000'\n",
       "\\item '01000'\n",
       "\\item '00100'\n",
       "\\item '00010'\n",
       "\\item '00001'\n",
       "\\end{enumerate*}\n"
      ],
      "text/markdown": [
       "1. '11111'\n",
       "2. '11110'\n",
       "3. '11101'\n",
       "4. '11011'\n",
       "5. '10111'\n",
       "6. '01111'\n",
       "7. '11100'\n",
       "8. '11010'\n",
       "9. '11001'\n",
       "10. '10110'\n",
       "11. '10101'\n",
       "12. '10011'\n",
       "13. '01110'\n",
       "14. '01101'\n",
       "15. '01011'\n",
       "16. '00111'\n",
       "17. '11000'\n",
       "18. '10100'\n",
       "19. '10010'\n",
       "20. '10001'\n",
       "21. '01100'\n",
       "22. '01010'\n",
       "23. '01001'\n",
       "24. '00110'\n",
       "25. '00101'\n",
       "26. '00011'\n",
       "27. '10000'\n",
       "28. '01000'\n",
       "29. '00100'\n",
       "30. '00010'\n",
       "31. '00001'\n",
       "\n",
       "\n"
      ],
      "text/plain": [
       " [1] \"11111\" \"11110\" \"11101\" \"11011\" \"10111\" \"01111\" \"11100\" \"11010\" \"11001\"\n",
       "[10] \"10110\" \"10101\" \"10011\" \"01110\" \"01101\" \"01011\" \"00111\" \"11000\" \"10100\"\n",
       "[19] \"10010\" \"10001\" \"01100\" \"01010\" \"01001\" \"00110\" \"00101\" \"00011\" \"10000\"\n",
       "[28] \"01000\" \"00100\" \"00010\" \"00001\""
      ]
     },
     "metadata": {},
     "output_type": "display_data"
    },
    {
     "data": {
      "text/html": [
       "16"
      ],
      "text/latex": [
       "16"
      ],
      "text/markdown": [
       "16"
      ],
      "text/plain": [
       "[1] 16"
      ]
     },
     "metadata": {},
     "output_type": "display_data"
    },
    {
     "data": {
      "text/html": [
       "<style>\n",
       ".list-inline {list-style: none; margin:0; padding: 0}\n",
       ".list-inline>li {display: inline-block}\n",
       ".list-inline>li:not(:last-child)::after {content: \"\\00b7\"; padding: 0 .5ex}\n",
       "</style>\n",
       "<ol class=list-inline><li>'ADGRE1 down'</li><li>'C1QB down'</li><li>'C1QC down'</li><li>'C2 down'</li><li>'CAMP mixed'</li><li>'CCL22 up'</li><li>'CXCL1 up'</li><li>'CXCL10 down'</li><li>'CXCL5 up'</li><li>'CXCL9 down'</li><li>'MMP9 down'</li><li>'OLR1 up'</li><li>'S100A9 down'</li><li>'THBS1 down'</li><li>'TNFRSF21 up'</li><li>'TRPM2 down'</li></ol>\n"
      ],
      "text/latex": [
       "\\begin{enumerate*}\n",
       "\\item 'ADGRE1 down'\n",
       "\\item 'C1QB down'\n",
       "\\item 'C1QC down'\n",
       "\\item 'C2 down'\n",
       "\\item 'CAMP mixed'\n",
       "\\item 'CCL22 up'\n",
       "\\item 'CXCL1 up'\n",
       "\\item 'CXCL10 down'\n",
       "\\item 'CXCL5 up'\n",
       "\\item 'CXCL9 down'\n",
       "\\item 'MMP9 down'\n",
       "\\item 'OLR1 up'\n",
       "\\item 'S100A9 down'\n",
       "\\item 'THBS1 down'\n",
       "\\item 'TNFRSF21 up'\n",
       "\\item 'TRPM2 down'\n",
       "\\end{enumerate*}\n"
      ],
      "text/markdown": [
       "1. 'ADGRE1 down'\n",
       "2. 'C1QB down'\n",
       "3. 'C1QC down'\n",
       "4. 'C2 down'\n",
       "5. 'CAMP mixed'\n",
       "6. 'CCL22 up'\n",
       "7. 'CXCL1 up'\n",
       "8. 'CXCL10 down'\n",
       "9. 'CXCL5 up'\n",
       "10. 'CXCL9 down'\n",
       "11. 'MMP9 down'\n",
       "12. 'OLR1 up'\n",
       "13. 'S100A9 down'\n",
       "14. 'THBS1 down'\n",
       "15. 'TNFRSF21 up'\n",
       "16. 'TRPM2 down'\n",
       "\n",
       "\n"
      ],
      "text/plain": [
       " [1] \"ADGRE1 down\" \"C1QB down\"   \"C1QC down\"   \"C2 down\"     \"CAMP mixed\" \n",
       " [6] \"CCL22 up\"    \"CXCL1 up\"    \"CXCL10 down\" \"CXCL5 up\"    \"CXCL9 down\" \n",
       "[11] \"MMP9 down\"   \"OLR1 up\"     \"S100A9 down\" \"THBS1 down\"  \"TNFRSF21 up\"\n",
       "[16] \"TRPM2 down\" "
      ]
     },
     "metadata": {},
     "output_type": "display_data"
    }
   ],
   "source": [
    "xsec = list (p1 = pr1_genes_5L,\n",
    "      p2 = pr2_genes_5L,\n",
    "      p3 = pr3_genes_5L,\n",
    "      p4 = pr4_genes_5L,\n",
    "      p5 = pr5_genes_5L)\n",
    "#x12\n",
    "\n",
    "m = make_comb_mat(xsec, mode = \"union\")\n",
    "comb_name(m)\n",
    "xsec = extract_comb(m, \"11111\")\n",
    "length (xsec)\n",
    "\n",
    "xsec"
   ]
  },
  {
   "cell_type": "code",
   "execution_count": 128,
   "id": "editorial-reception",
   "metadata": {},
   "outputs": [],
   "source": [
    "#write.table (xsec, \"./data/topgenes_xsec.txt\", row.names =F)"
   ]
  },
  {
   "cell_type": "code",
   "execution_count": 129,
   "id": "aerial-annual",
   "metadata": {},
   "outputs": [],
   "source": [
    "pr1_genes_symbol = pr1$hgnc_symbol\n",
    "pr2_genes_symbol = pr2$hgnc_symbol\n",
    "pr3_genes_symbol = pr3$hgnc_symbol\n",
    "pr4_genes_symbol = pr4$hgnc_symbol\n",
    "pr5_genes_symbol = pr5$hgnc_symbol\n",
    "\n",
    "dirlist = list (\n",
    "pr1_genes_symbol,\n",
    "pr2_genes_symbol,\n",
    "pr3_genes_symbol,\n",
    "pr4_genes_symbol, \n",
    "pr5_genes_symbol\n",
    ")\n",
    "\n",
    "saveRDS(dirlist, file = \"gofinal_sec.Rds\")"
   ]
  },
  {
   "cell_type": "code",
   "execution_count": 130,
   "id": "adjusted-advice",
   "metadata": {},
   "outputs": [
    {
     "data": {
      "text/plain": [
       "R version 4.0.5 (2021-03-31)\n",
       "Platform: x86_64-conda-linux-gnu (64-bit)\n",
       "Running under: CentOS Linux 7 (Core)\n",
       "\n",
       "Matrix products: default\n",
       "BLAS/LAPACK: /home/users/andreha/miniconda3/envs/Mamba-21/lib/libopenblasp-r0.3.12.so\n",
       "\n",
       "locale:\n",
       " [1] LC_CTYPE=C                 LC_NUMERIC=C              \n",
       " [3] LC_TIME=en_US.UTF-8        LC_COLLATE=en_US.UTF-8    \n",
       " [5] LC_MONETARY=en_US.UTF-8    LC_MESSAGES=en_US.UTF-8   \n",
       " [7] LC_PAPER=en_US.UTF-8       LC_NAME=C                 \n",
       " [9] LC_ADDRESS=C               LC_TELEPHONE=C            \n",
       "[11] LC_MEASUREMENT=en_US.UTF-8 LC_IDENTIFICATION=C       \n",
       "\n",
       "attached base packages:\n",
       " [1] grid      stats4    parallel  stats     graphics  grDevices utils    \n",
       " [8] datasets  methods   base     \n",
       "\n",
       "other attached packages:\n",
       " [1] ComplexHeatmap_2.6.2 org.Hs.eg.db_3.12.0  openxlsx_4.2.3      \n",
       " [4] forcats_0.5.1        stringr_1.4.0        dplyr_1.0.5         \n",
       " [7] purrr_0.3.4          readr_1.4.0          tidyr_1.1.3         \n",
       "[10] tibble_3.1.0         ggplot2_3.3.3        tidyverse_1.3.1     \n",
       "[13] RColorBrewer_1.1-2   topGO_2.42.0         SparseM_1.81        \n",
       "[16] GO.db_3.12.1         AnnotationDbi_1.52.0 IRanges_2.24.1      \n",
       "[19] S4Vectors_0.28.1     Biobase_2.50.0       graph_1.68.0        \n",
       "[22] BiocGenerics_0.36.0  pheatmap_1.0.12     \n",
       "\n",
       "loaded via a namespace (and not attached):\n",
       " [1] matrixStats_0.58.0  fs_1.5.0            lubridate_1.7.10   \n",
       " [4] bit64_4.0.5         httr_1.4.2          repr_1.1.3         \n",
       " [7] tools_4.0.5         backports_1.2.1     utf8_1.1.4         \n",
       "[10] R6_2.5.0            DBI_1.1.1           colorspace_2.0-0   \n",
       "[13] GetoptLong_1.0.5    withr_2.4.1         tidyselect_1.1.0   \n",
       "[16] bit_4.0.4           compiler_4.0.5      cli_2.4.0          \n",
       "[19] rvest_1.0.0         Cairo_1.5-12.2      xml2_1.3.2         \n",
       "[22] labeling_0.4.2      scales_1.1.1        pbdZMQ_0.3-5       \n",
       "[25] digest_0.6.27       base64enc_0.1-3     pkgconfig_2.0.3    \n",
       "[28] htmltools_0.5.1.1   dbplyr_2.1.1        fastmap_1.1.0      \n",
       "[31] GlobalOptions_0.1.2 rlang_0.4.10        readxl_1.3.1       \n",
       "[34] rstudioapi_0.13     RSQLite_2.2.5       shape_1.4.5        \n",
       "[37] generics_0.1.0      farver_2.0.3        jsonlite_1.7.2     \n",
       "[40] zip_2.1.1           magrittr_2.0.1      Rcpp_1.0.6         \n",
       "[43] IRkernel_1.1.1      munsell_0.5.0       fansi_0.4.2        \n",
       "[46] lifecycle_1.0.0     stringi_1.5.3       blob_1.2.1         \n",
       "[49] crayon_1.4.1        lattice_0.20-41     IRdisplay_1.0      \n",
       "[52] haven_2.3.1         circlize_0.4.12     hms_1.0.0          \n",
       "[55] ps_1.5.0            pillar_1.6.0        uuid_0.1-4         \n",
       "[58] rjson_0.2.20        reprex_2.0.0        glue_1.4.2         \n",
       "[61] evaluate_0.14       modelr_0.1.8        png_0.1-7          \n",
       "[64] vctrs_0.3.6         cellranger_1.1.0    gtable_0.3.0       \n",
       "[67] clue_0.3-58         assertthat_0.2.1    cachem_1.0.4       \n",
       "[70] broom_0.7.6         memoise_2.0.0       cluster_2.1.1      \n",
       "[73] ellipsis_0.3.1     "
      ]
     },
     "metadata": {},
     "output_type": "display_data"
    }
   ],
   "source": [
    "sessionInfo()"
   ]
  }
 ],
 "metadata": {
  "kernelspec": {
   "display_name": "R",
   "language": "R",
   "name": "ir"
  },
  "language_info": {
   "codemirror_mode": "r",
   "file_extension": ".r",
   "mimetype": "text/x-r-source",
   "name": "R",
   "pygments_lexer": "r",
   "version": "4.0.5"
  }
 },
 "nbformat": 4,
 "nbformat_minor": 5
}
