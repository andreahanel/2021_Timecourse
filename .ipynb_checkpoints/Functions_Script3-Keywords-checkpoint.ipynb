{
 "cells": [
  {
   "cell_type": "code",
   "execution_count": 1,
   "id": "radical-canal",
   "metadata": {},
   "outputs": [
    {
     "name": "stderr",
     "output_type": "stream",
     "text": [
      "-- \u001b[1mAttaching packages\u001b[22m ------------------------------------------------------------------------ tidyverse 1.3.1 --\n",
      "\n",
      "\u001b[32mv\u001b[39m \u001b[34mggplot2\u001b[39m 3.3.3     \u001b[32mv\u001b[39m \u001b[34mpurrr  \u001b[39m 0.3.4\n",
      "\u001b[32mv\u001b[39m \u001b[34mtibble \u001b[39m 3.1.0     \u001b[32mv\u001b[39m \u001b[34mdplyr  \u001b[39m 1.0.5\n",
      "\u001b[32mv\u001b[39m \u001b[34mtidyr  \u001b[39m 1.1.3     \u001b[32mv\u001b[39m \u001b[34mstringr\u001b[39m 1.4.0\n",
      "\u001b[32mv\u001b[39m \u001b[34mreadr  \u001b[39m 1.4.0     \u001b[32mv\u001b[39m \u001b[34mforcats\u001b[39m 0.5.1\n",
      "\n",
      "-- \u001b[1mConflicts\u001b[22m --------------------------------------------------------------------------- tidyverse_conflicts() --\n",
      "\u001b[31mx\u001b[39m \u001b[34mdplyr\u001b[39m::\u001b[32mfilter()\u001b[39m masks \u001b[34mstats\u001b[39m::filter()\n",
      "\u001b[31mx\u001b[39m \u001b[34mdplyr\u001b[39m::\u001b[32mlag()\u001b[39m    masks \u001b[34mstats\u001b[39m::lag()\n",
      "\n",
      "\n",
      "Attaching package: 'reshape2'\n",
      "\n",
      "\n",
      "The following object is masked from 'package:tidyr':\n",
      "\n",
      "    smiths\n",
      "\n",
      "\n"
     ]
    }
   ],
   "source": [
    "library (tidyverse)\n",
    "library (openxlsx)\n",
    "library (statmod)\n",
    "library (reshape2)\n",
    "library (readr)"
   ]
  },
  {
   "cell_type": "code",
   "execution_count": 2,
   "id": "mechanical-discovery",
   "metadata": {},
   "outputs": [],
   "source": [
    "d <- read.delim(file = \"./data/Uniprot_raw_final.tsv\", sep = '\\t', header = TRUE)"
   ]
  },
  {
   "cell_type": "code",
   "execution_count": 3,
   "id": "academic-savage",
   "metadata": {},
   "outputs": [],
   "source": [
    "GO_bp <- gsub(\"\\\\s*\\\\{[^\\\\}]+\\\\}\",\"\",as.character(d$Gene.ontology..biological.process))\n",
    "GO_cc <- gsub(\"\\\\s*\\\\{[^\\\\}]+\\\\}\",\"\",as.character(d$Gene.ontology..cellular.component))\n",
    "GO_mf <- gsub(\"\\\\s*\\\\{[^\\\\}]+\\\\}\",\"\",as.character(d$Gene.ontology..molecular.function))\n",
    "GO <- gsub(\"\\\\s*\\\\{[^\\\\}]+\\\\}\",\"\",as.character(d$Gene.ontology..GO))"
   ]
  },
  {
   "cell_type": "code",
   "execution_count": 4,
   "id": "prescription-pledge",
   "metadata": {},
   "outputs": [],
   "source": [
    "d$GO_bp <- gsub(\"\\\\[.*?\\\\]\",\"\",as.character(GO_bp))\n",
    "d$GO_cc <- gsub(\"\\\\[.*?\\\\]\",\"\",as.character(GO_cc))\n",
    "d$GO_mf <- gsub (\"\\\\[.*?\\\\]\",\"\",as.character(GO_mf))\n",
    "d$GO <- gsub (\"\\\\[.*?\\\\]\",\"\",as.character(GO))"
   ]
  },
  {
   "cell_type": "code",
   "execution_count": 5,
   "id": "complex-application",
   "metadata": {},
   "outputs": [],
   "source": [
    "protname <- gsub(\"\\\\s*\\\\([^\\\\)]+\\\\)\",\"\",as.character(d$Protein.names))\n",
    "protname <- gsub(\"\\\\[.*?\\\\]\",\"\",as.character(protname))"
   ]
  },
  {
   "cell_type": "code",
   "execution_count": 6,
   "id": "absolute-observation",
   "metadata": {},
   "outputs": [
    {
     "data": {
      "text/html": [
       "<style>\n",
       ".list-inline {list-style: none; margin:0; padding: 0}\n",
       ".list-inline>li {display: inline-block}\n",
       ".list-inline>li:not(:last-child)::after {content: \"\\00b7\"; padding: 0 .5ex}\n",
       "</style>\n",
       "<ol class=list-inline><li>'Pyrin'</li><li>'Retinoic acid receptor RXR-alpha'</li><li>'Allergin-1'</li><li>'Protein-glutamine gamma-glutamyltransferase 2)))))'</li><li>'Melanotransferrin'</li><li>'PML-RARA-regulated adapter molecule 1'</li></ol>\n"
      ],
      "text/latex": [
       "\\begin{enumerate*}\n",
       "\\item 'Pyrin'\n",
       "\\item 'Retinoic acid receptor RXR-alpha'\n",
       "\\item 'Allergin-1'\n",
       "\\item 'Protein-glutamine gamma-glutamyltransferase 2)))))'\n",
       "\\item 'Melanotransferrin'\n",
       "\\item 'PML-RARA-regulated adapter molecule 1'\n",
       "\\end{enumerate*}\n"
      ],
      "text/markdown": [
       "1. 'Pyrin'\n",
       "2. 'Retinoic acid receptor RXR-alpha'\n",
       "3. 'Allergin-1'\n",
       "4. 'Protein-glutamine gamma-glutamyltransferase 2)))))'\n",
       "5. 'Melanotransferrin'\n",
       "6. 'PML-RARA-regulated adapter molecule 1'\n",
       "\n",
       "\n"
      ],
      "text/plain": [
       "[1] \"Pyrin\"                                             \n",
       "[2] \"Retinoic acid receptor RXR-alpha\"                  \n",
       "[3] \"Allergin-1\"                                        \n",
       "[4] \"Protein-glutamine gamma-glutamyltransferase 2)))))\"\n",
       "[5] \"Melanotransferrin\"                                 \n",
       "[6] \"PML-RARA-regulated adapter molecule 1\"             "
      ]
     },
     "metadata": {},
     "output_type": "display_data"
    }
   ],
   "source": [
    "head (protname)"
   ]
  },
  {
   "cell_type": "code",
   "execution_count": 7,
   "id": "average-mobility",
   "metadata": {},
   "outputs": [],
   "source": [
    "#head (d$GO)\n",
    "\n",
    "d$GO <- gsub(\"; \",\";\",as.character(d$GO))\n",
    "d$GO <- gsub(\" ;\",\";\",as.character(d$GO))\n",
    "\n",
    "d$GO_mf <- gsub(\"; \",\";\",as.character(d$GO_mf))\n",
    "d$GO_mf <- gsub(\" ;\",\";\",as.character(d$GO_mf))\n",
    "\n",
    "d$GO_bp <- gsub(\"; \",\";\",as.character(d$GO_bp))\n",
    "d$GO_bp  <- gsub(\" ;\",\";\",as.character(d$GO_bp))\n",
    "\n",
    "d$GO_mf = str_trim(d$GO_mf, side = c(\"both\"))\n",
    "d$GO_bp = str_trim(d$GO_bp, side = c(\"both\"))\n",
    "d$GO = str_trim(d$GO, side = c(\"both\"))\n",
    "\n",
    "#head (d$GO_mf)\n",
    "#head (d$GO_bp)"
   ]
  },
  {
   "cell_type": "code",
   "execution_count": 8,
   "id": "expensive-manhattan",
   "metadata": {},
   "outputs": [
    {
     "data": {
      "text/html": [
       "<style>\n",
       ".list-inline {list-style: none; margin:0; padding: 0}\n",
       ".list-inline>li {display: inline-block}\n",
       ".list-inline>li:not(:last-child)::after {content: \"\\00b7\"; padding: 0 .5ex}\n",
       "</style>\n",
       "<ol class=list-inline><li>'MEFV'</li><li>'RXRA'</li><li>'MILR1'</li><li>'TGM2'</li><li>'MELTF'</li><li>'PRAM1'</li></ol>\n"
      ],
      "text/latex": [
       "\\begin{enumerate*}\n",
       "\\item 'MEFV'\n",
       "\\item 'RXRA'\n",
       "\\item 'MILR1'\n",
       "\\item 'TGM2'\n",
       "\\item 'MELTF'\n",
       "\\item 'PRAM1'\n",
       "\\end{enumerate*}\n"
      ],
      "text/markdown": [
       "1. 'MEFV'\n",
       "2. 'RXRA'\n",
       "3. 'MILR1'\n",
       "4. 'TGM2'\n",
       "5. 'MELTF'\n",
       "6. 'PRAM1'\n",
       "\n",
       "\n"
      ],
      "text/plain": [
       "[1] \"MEFV\"  \"RXRA\"  \"MILR1\" \"TGM2\"  \"MELTF\" \"PRAM1\""
      ]
     },
     "metadata": {},
     "output_type": "display_data"
    }
   ],
   "source": [
    "genes <- (d [ ,1])\n",
    "head (genes)"
   ]
  },
  {
   "cell_type": "code",
   "execution_count": 9,
   "id": "extensive-alexander",
   "metadata": {},
   "outputs": [
    {
     "data": {
      "text/html": [
       "<style>\n",
       ".list-inline {list-style: none; margin:0; padding: 0}\n",
       ".list-inline>li {display: inline-block}\n",
       ".list-inline>li:not(:last-child)::after {content: \"\\00b7\"; padding: 0 .5ex}\n",
       "</style>\n",
       "<ol class=list-inline><li>'3D-structure;Actin-binding;Alternative splicing;Amyloidosis;Cell projection;Coiled coil;Cytoplasm;Cytoplasmic vesicle;Cytoskeleton;Disease variant;Immunity;Inflammatory response;Innate immunity;Metal-binding;Microtubule;Nucleus;Phosphoprotein;Reference proteome;Zinc;Zinc-finger'</li><li>'3D-structure;Acetylation;Alternative splicing;Cytoplasm;DNA-binding;Host-virus interaction;Isopeptide bond;Metal-binding;Mitochondrion;Nucleus;Phosphoprotein;Receptor;Reference proteome;Transcription;Transcription regulation;Ubl conjugation;Zinc;Zinc-finger'</li><li>'Alternative splicing;Cell membrane;Disulfide bond;Glycoprotein;Immunoglobulin domain;Membrane;Phosphoprotein;Reference proteome;Repeat;Signal;Transmembrane;Transmembrane helix'</li><li>'3D-structure;Acetylation;Acyltransferase;Alternative splicing;Calcium;Cell membrane;Chromosome;Cytoplasm;Direct protein sequencing;Disulfide bond;Extracellular matrix;GTP-binding;Hydrolase;Isopeptide bond;Membrane;Metal-binding;Mitochondrion;Nucleotide-binding;Nucleus;Phosphoprotein;Protease;Reference proteome;S-nitrosylation;Secreted;Transferase'</li><li>'3D-structure;Alternative splicing;Cell membrane;Direct protein sequencing;Disulfide bond;GPI-anchor;Glycoprotein;Ion transport;Iron;Iron transport;Lipoprotein;Membrane;Metal-binding;Phosphoprotein;Reference proteome;Repeat;Signal;Transport;Zinc'</li><li>'Lipid-binding;Phosphoprotein;Reference proteome;Repeat;SH3 domain'</li></ol>\n"
      ],
      "text/latex": [
       "\\begin{enumerate*}\n",
       "\\item '3D-structure;Actin-binding;Alternative splicing;Amyloidosis;Cell projection;Coiled coil;Cytoplasm;Cytoplasmic vesicle;Cytoskeleton;Disease variant;Immunity;Inflammatory response;Innate immunity;Metal-binding;Microtubule;Nucleus;Phosphoprotein;Reference proteome;Zinc;Zinc-finger'\n",
       "\\item '3D-structure;Acetylation;Alternative splicing;Cytoplasm;DNA-binding;Host-virus interaction;Isopeptide bond;Metal-binding;Mitochondrion;Nucleus;Phosphoprotein;Receptor;Reference proteome;Transcription;Transcription regulation;Ubl conjugation;Zinc;Zinc-finger'\n",
       "\\item 'Alternative splicing;Cell membrane;Disulfide bond;Glycoprotein;Immunoglobulin domain;Membrane;Phosphoprotein;Reference proteome;Repeat;Signal;Transmembrane;Transmembrane helix'\n",
       "\\item '3D-structure;Acetylation;Acyltransferase;Alternative splicing;Calcium;Cell membrane;Chromosome;Cytoplasm;Direct protein sequencing;Disulfide bond;Extracellular matrix;GTP-binding;Hydrolase;Isopeptide bond;Membrane;Metal-binding;Mitochondrion;Nucleotide-binding;Nucleus;Phosphoprotein;Protease;Reference proteome;S-nitrosylation;Secreted;Transferase'\n",
       "\\item '3D-structure;Alternative splicing;Cell membrane;Direct protein sequencing;Disulfide bond;GPI-anchor;Glycoprotein;Ion transport;Iron;Iron transport;Lipoprotein;Membrane;Metal-binding;Phosphoprotein;Reference proteome;Repeat;Signal;Transport;Zinc'\n",
       "\\item 'Lipid-binding;Phosphoprotein;Reference proteome;Repeat;SH3 domain'\n",
       "\\end{enumerate*}\n"
      ],
      "text/markdown": [
       "1. '3D-structure;Actin-binding;Alternative splicing;Amyloidosis;Cell projection;Coiled coil;Cytoplasm;Cytoplasmic vesicle;Cytoskeleton;Disease variant;Immunity;Inflammatory response;Innate immunity;Metal-binding;Microtubule;Nucleus;Phosphoprotein;Reference proteome;Zinc;Zinc-finger'\n",
       "2. '3D-structure;Acetylation;Alternative splicing;Cytoplasm;DNA-binding;Host-virus interaction;Isopeptide bond;Metal-binding;Mitochondrion;Nucleus;Phosphoprotein;Receptor;Reference proteome;Transcription;Transcription regulation;Ubl conjugation;Zinc;Zinc-finger'\n",
       "3. 'Alternative splicing;Cell membrane;Disulfide bond;Glycoprotein;Immunoglobulin domain;Membrane;Phosphoprotein;Reference proteome;Repeat;Signal;Transmembrane;Transmembrane helix'\n",
       "4. '3D-structure;Acetylation;Acyltransferase;Alternative splicing;Calcium;Cell membrane;Chromosome;Cytoplasm;Direct protein sequencing;Disulfide bond;Extracellular matrix;GTP-binding;Hydrolase;Isopeptide bond;Membrane;Metal-binding;Mitochondrion;Nucleotide-binding;Nucleus;Phosphoprotein;Protease;Reference proteome;S-nitrosylation;Secreted;Transferase'\n",
       "5. '3D-structure;Alternative splicing;Cell membrane;Direct protein sequencing;Disulfide bond;GPI-anchor;Glycoprotein;Ion transport;Iron;Iron transport;Lipoprotein;Membrane;Metal-binding;Phosphoprotein;Reference proteome;Repeat;Signal;Transport;Zinc'\n",
       "6. 'Lipid-binding;Phosphoprotein;Reference proteome;Repeat;SH3 domain'\n",
       "\n",
       "\n"
      ],
      "text/plain": [
       "[1] \"3D-structure;Actin-binding;Alternative splicing;Amyloidosis;Cell projection;Coiled coil;Cytoplasm;Cytoplasmic vesicle;Cytoskeleton;Disease variant;Immunity;Inflammatory response;Innate immunity;Metal-binding;Microtubule;Nucleus;Phosphoprotein;Reference proteome;Zinc;Zinc-finger\"                                                                      \n",
       "[2] \"3D-structure;Acetylation;Alternative splicing;Cytoplasm;DNA-binding;Host-virus interaction;Isopeptide bond;Metal-binding;Mitochondrion;Nucleus;Phosphoprotein;Receptor;Reference proteome;Transcription;Transcription regulation;Ubl conjugation;Zinc;Zinc-finger\"                                                                                           \n",
       "[3] \"Alternative splicing;Cell membrane;Disulfide bond;Glycoprotein;Immunoglobulin domain;Membrane;Phosphoprotein;Reference proteome;Repeat;Signal;Transmembrane;Transmembrane helix\"                                                                                                                                                                             \n",
       "[4] \"3D-structure;Acetylation;Acyltransferase;Alternative splicing;Calcium;Cell membrane;Chromosome;Cytoplasm;Direct protein sequencing;Disulfide bond;Extracellular matrix;GTP-binding;Hydrolase;Isopeptide bond;Membrane;Metal-binding;Mitochondrion;Nucleotide-binding;Nucleus;Phosphoprotein;Protease;Reference proteome;S-nitrosylation;Secreted;Transferase\"\n",
       "[5] \"3D-structure;Alternative splicing;Cell membrane;Direct protein sequencing;Disulfide bond;GPI-anchor;Glycoprotein;Ion transport;Iron;Iron transport;Lipoprotein;Membrane;Metal-binding;Phosphoprotein;Reference proteome;Repeat;Signal;Transport;Zinc\"                                                                                                        \n",
       "[6] \"Lipid-binding;Phosphoprotein;Reference proteome;Repeat;SH3 domain\"                                                                                                                                                                                                                                                                                           "
      ]
     },
     "metadata": {},
     "output_type": "display_data"
    }
   ],
   "source": [
    "head (d$Keywords)"
   ]
  },
  {
   "cell_type": "markdown",
   "id": "interstate-decrease",
   "metadata": {},
   "source": [
    "### Prepare list of all terms for manual inspection"
   ]
  },
  {
   "cell_type": "code",
   "execution_count": 10,
   "id": "upset-announcement",
   "metadata": {},
   "outputs": [],
   "source": [
    "d_v1 = d %>%\n",
    "summarize(text = str_c(unique (Keywords), collapse = \";\"))"
   ]
  },
  {
   "cell_type": "code",
   "execution_count": 11,
   "id": "incident-alberta",
   "metadata": {},
   "outputs": [],
   "source": [
    "x=  (unlist(d_v1))\n",
    "x2 = (unique (x))\n",
    "x3 = data.frame(new_row = unlist(strsplit(as.character(x2), \";\")))\n",
    "x4 = x3 %>%\n",
    "distinct ()"
   ]
  },
  {
   "cell_type": "code",
   "execution_count": 12,
   "id": "limited-pavilion",
   "metadata": {},
   "outputs": [
    {
     "data": {
      "text/html": [
       "<style>\n",
       ".list-inline {list-style: none; margin:0; padding: 0}\n",
       ".list-inline>li {display: inline-block}\n",
       ".list-inline>li:not(:last-child)::after {content: \"\\00b7\"; padding: 0 .5ex}\n",
       "</style>\n",
       "<ol class=list-inline><li>7994</li><li>1</li></ol>\n"
      ],
      "text/latex": [
       "\\begin{enumerate*}\n",
       "\\item 7994\n",
       "\\item 1\n",
       "\\end{enumerate*}\n"
      ],
      "text/markdown": [
       "1. 7994\n",
       "2. 1\n",
       "\n",
       "\n"
      ],
      "text/plain": [
       "[1] 7994    1"
      ]
     },
     "metadata": {},
     "output_type": "display_data"
    },
    {
     "data": {
      "text/html": [
       "<style>\n",
       ".list-inline {list-style: none; margin:0; padding: 0}\n",
       ".list-inline>li {display: inline-block}\n",
       ".list-inline>li:not(:last-child)::after {content: \"\\00b7\"; padding: 0 .5ex}\n",
       "</style>\n",
       "<ol class=list-inline><li>413</li><li>1</li></ol>\n"
      ],
      "text/latex": [
       "\\begin{enumerate*}\n",
       "\\item 413\n",
       "\\item 1\n",
       "\\end{enumerate*}\n"
      ],
      "text/markdown": [
       "1. 413\n",
       "2. 1\n",
       "\n",
       "\n"
      ],
      "text/plain": [
       "[1] 413   1"
      ]
     },
     "metadata": {},
     "output_type": "display_data"
    },
    {
     "data": {
      "text/html": [
       "<table class=\"dataframe\">\n",
       "<caption>A data.frame: 6 × 1</caption>\n",
       "<thead>\n",
       "\t<tr><th></th><th scope=col>new_row</th></tr>\n",
       "\t<tr><th></th><th scope=col>&lt;chr&gt;</th></tr>\n",
       "</thead>\n",
       "<tbody>\n",
       "\t<tr><th scope=row>1</th><td>3D-structure        </td></tr>\n",
       "\t<tr><th scope=row>2</th><td>Actin-binding       </td></tr>\n",
       "\t<tr><th scope=row>3</th><td>Alternative splicing</td></tr>\n",
       "\t<tr><th scope=row>4</th><td>Amyloidosis         </td></tr>\n",
       "\t<tr><th scope=row>5</th><td>Cell projection     </td></tr>\n",
       "\t<tr><th scope=row>6</th><td>Coiled coil         </td></tr>\n",
       "</tbody>\n",
       "</table>\n"
      ],
      "text/latex": [
       "A data.frame: 6 × 1\n",
       "\\begin{tabular}{r|l}\n",
       "  & new\\_row\\\\\n",
       "  & <chr>\\\\\n",
       "\\hline\n",
       "\t1 & 3D-structure        \\\\\n",
       "\t2 & Actin-binding       \\\\\n",
       "\t3 & Alternative splicing\\\\\n",
       "\t4 & Amyloidosis         \\\\\n",
       "\t5 & Cell projection     \\\\\n",
       "\t6 & Coiled coil         \\\\\n",
       "\\end{tabular}\n"
      ],
      "text/markdown": [
       "\n",
       "A data.frame: 6 × 1\n",
       "\n",
       "| <!--/--> | new_row &lt;chr&gt; |\n",
       "|---|---|\n",
       "| 1 | 3D-structure         |\n",
       "| 2 | Actin-binding        |\n",
       "| 3 | Alternative splicing |\n",
       "| 4 | Amyloidosis          |\n",
       "| 5 | Cell projection      |\n",
       "| 6 | Coiled coil          |\n",
       "\n"
      ],
      "text/plain": [
       "  new_row             \n",
       "1 3D-structure        \n",
       "2 Actin-binding       \n",
       "3 Alternative splicing\n",
       "4 Amyloidosis         \n",
       "5 Cell projection     \n",
       "6 Coiled coil         "
      ]
     },
     "metadata": {},
     "output_type": "display_data"
    }
   ],
   "source": [
    "dim(x3)\n",
    "dim (x4)\n",
    "head (x4)\n"
   ]
  },
  {
   "cell_type": "markdown",
   "id": "oriented-bradley",
   "metadata": {},
   "source": [
    "### Matching of the prepared terms (Juho style)"
   ]
  },
  {
   "cell_type": "code",
   "execution_count": 13,
   "id": "horizontal-family",
   "metadata": {},
   "outputs": [],
   "source": [
    "dc <- d %>%\n",
    "select (., c(\"Gene.names...primary..\",\"Keywords\"))\n",
    "\n",
    "#head (dc)"
   ]
  },
  {
   "cell_type": "code",
   "execution_count": 14,
   "id": "greatest-range",
   "metadata": {},
   "outputs": [
    {
     "data": {
      "text/html": [
       "<table class=\"dataframe\">\n",
       "<caption>A tibble: 6 × 3</caption>\n",
       "<thead>\n",
       "\t<tr><th scope=col>Gene.names...primary..</th><th scope=col>Keywords</th><th scope=col>term</th></tr>\n",
       "\t<tr><th scope=col>&lt;chr&gt;</th><th scope=col>&lt;chr&gt;</th><th scope=col>&lt;chr&gt;</th></tr>\n",
       "</thead>\n",
       "<tbody>\n",
       "\t<tr><td>MEFV</td><td>3D-structure;Actin-binding;Alternative splicing;Amyloidosis;Cell projection;Coiled coil;Cytoplasm;Cytoplasmic vesicle;Cytoskeleton;Disease variant;Immunity;Inflammatory response;Innate immunity;Metal-binding;Microtubule;Nucleus;Phosphoprotein;Reference proteome;Zinc;Zinc-finger</td><td>3D-structure        </td></tr>\n",
       "\t<tr><td>MEFV</td><td>3D-structure;Actin-binding;Alternative splicing;Amyloidosis;Cell projection;Coiled coil;Cytoplasm;Cytoplasmic vesicle;Cytoskeleton;Disease variant;Immunity;Inflammatory response;Innate immunity;Metal-binding;Microtubule;Nucleus;Phosphoprotein;Reference proteome;Zinc;Zinc-finger</td><td>Actin-binding       </td></tr>\n",
       "\t<tr><td>MEFV</td><td>3D-structure;Actin-binding;Alternative splicing;Amyloidosis;Cell projection;Coiled coil;Cytoplasm;Cytoplasmic vesicle;Cytoskeleton;Disease variant;Immunity;Inflammatory response;Innate immunity;Metal-binding;Microtubule;Nucleus;Phosphoprotein;Reference proteome;Zinc;Zinc-finger</td><td>Alternative splicing</td></tr>\n",
       "\t<tr><td>MEFV</td><td>3D-structure;Actin-binding;Alternative splicing;Amyloidosis;Cell projection;Coiled coil;Cytoplasm;Cytoplasmic vesicle;Cytoskeleton;Disease variant;Immunity;Inflammatory response;Innate immunity;Metal-binding;Microtubule;Nucleus;Phosphoprotein;Reference proteome;Zinc;Zinc-finger</td><td>Amyloidosis         </td></tr>\n",
       "\t<tr><td>MEFV</td><td>3D-structure;Actin-binding;Alternative splicing;Amyloidosis;Cell projection;Coiled coil;Cytoplasm;Cytoplasmic vesicle;Cytoskeleton;Disease variant;Immunity;Inflammatory response;Innate immunity;Metal-binding;Microtubule;Nucleus;Phosphoprotein;Reference proteome;Zinc;Zinc-finger</td><td>Cell projection     </td></tr>\n",
       "\t<tr><td>MEFV</td><td>3D-structure;Actin-binding;Alternative splicing;Amyloidosis;Cell projection;Coiled coil;Cytoplasm;Cytoplasmic vesicle;Cytoskeleton;Disease variant;Immunity;Inflammatory response;Innate immunity;Metal-binding;Microtubule;Nucleus;Phosphoprotein;Reference proteome;Zinc;Zinc-finger</td><td>Coiled coil         </td></tr>\n",
       "</tbody>\n",
       "</table>\n"
      ],
      "text/latex": [
       "A tibble: 6 × 3\n",
       "\\begin{tabular}{lll}\n",
       " Gene.names...primary.. & Keywords & term\\\\\n",
       " <chr> & <chr> & <chr>\\\\\n",
       "\\hline\n",
       "\t MEFV & 3D-structure;Actin-binding;Alternative splicing;Amyloidosis;Cell projection;Coiled coil;Cytoplasm;Cytoplasmic vesicle;Cytoskeleton;Disease variant;Immunity;Inflammatory response;Innate immunity;Metal-binding;Microtubule;Nucleus;Phosphoprotein;Reference proteome;Zinc;Zinc-finger & 3D-structure        \\\\\n",
       "\t MEFV & 3D-structure;Actin-binding;Alternative splicing;Amyloidosis;Cell projection;Coiled coil;Cytoplasm;Cytoplasmic vesicle;Cytoskeleton;Disease variant;Immunity;Inflammatory response;Innate immunity;Metal-binding;Microtubule;Nucleus;Phosphoprotein;Reference proteome;Zinc;Zinc-finger & Actin-binding       \\\\\n",
       "\t MEFV & 3D-structure;Actin-binding;Alternative splicing;Amyloidosis;Cell projection;Coiled coil;Cytoplasm;Cytoplasmic vesicle;Cytoskeleton;Disease variant;Immunity;Inflammatory response;Innate immunity;Metal-binding;Microtubule;Nucleus;Phosphoprotein;Reference proteome;Zinc;Zinc-finger & Alternative splicing\\\\\n",
       "\t MEFV & 3D-structure;Actin-binding;Alternative splicing;Amyloidosis;Cell projection;Coiled coil;Cytoplasm;Cytoplasmic vesicle;Cytoskeleton;Disease variant;Immunity;Inflammatory response;Innate immunity;Metal-binding;Microtubule;Nucleus;Phosphoprotein;Reference proteome;Zinc;Zinc-finger & Amyloidosis         \\\\\n",
       "\t MEFV & 3D-structure;Actin-binding;Alternative splicing;Amyloidosis;Cell projection;Coiled coil;Cytoplasm;Cytoplasmic vesicle;Cytoskeleton;Disease variant;Immunity;Inflammatory response;Innate immunity;Metal-binding;Microtubule;Nucleus;Phosphoprotein;Reference proteome;Zinc;Zinc-finger & Cell projection     \\\\\n",
       "\t MEFV & 3D-structure;Actin-binding;Alternative splicing;Amyloidosis;Cell projection;Coiled coil;Cytoplasm;Cytoplasmic vesicle;Cytoskeleton;Disease variant;Immunity;Inflammatory response;Innate immunity;Metal-binding;Microtubule;Nucleus;Phosphoprotein;Reference proteome;Zinc;Zinc-finger & Coiled coil         \\\\\n",
       "\\end{tabular}\n"
      ],
      "text/markdown": [
       "\n",
       "A tibble: 6 × 3\n",
       "\n",
       "| Gene.names...primary.. &lt;chr&gt; | Keywords &lt;chr&gt; | term &lt;chr&gt; |\n",
       "|---|---|---|\n",
       "| MEFV | 3D-structure;Actin-binding;Alternative splicing;Amyloidosis;Cell projection;Coiled coil;Cytoplasm;Cytoplasmic vesicle;Cytoskeleton;Disease variant;Immunity;Inflammatory response;Innate immunity;Metal-binding;Microtubule;Nucleus;Phosphoprotein;Reference proteome;Zinc;Zinc-finger | 3D-structure         |\n",
       "| MEFV | 3D-structure;Actin-binding;Alternative splicing;Amyloidosis;Cell projection;Coiled coil;Cytoplasm;Cytoplasmic vesicle;Cytoskeleton;Disease variant;Immunity;Inflammatory response;Innate immunity;Metal-binding;Microtubule;Nucleus;Phosphoprotein;Reference proteome;Zinc;Zinc-finger | Actin-binding        |\n",
       "| MEFV | 3D-structure;Actin-binding;Alternative splicing;Amyloidosis;Cell projection;Coiled coil;Cytoplasm;Cytoplasmic vesicle;Cytoskeleton;Disease variant;Immunity;Inflammatory response;Innate immunity;Metal-binding;Microtubule;Nucleus;Phosphoprotein;Reference proteome;Zinc;Zinc-finger | Alternative splicing |\n",
       "| MEFV | 3D-structure;Actin-binding;Alternative splicing;Amyloidosis;Cell projection;Coiled coil;Cytoplasm;Cytoplasmic vesicle;Cytoskeleton;Disease variant;Immunity;Inflammatory response;Innate immunity;Metal-binding;Microtubule;Nucleus;Phosphoprotein;Reference proteome;Zinc;Zinc-finger | Amyloidosis          |\n",
       "| MEFV | 3D-structure;Actin-binding;Alternative splicing;Amyloidosis;Cell projection;Coiled coil;Cytoplasm;Cytoplasmic vesicle;Cytoskeleton;Disease variant;Immunity;Inflammatory response;Innate immunity;Metal-binding;Microtubule;Nucleus;Phosphoprotein;Reference proteome;Zinc;Zinc-finger | Cell projection      |\n",
       "| MEFV | 3D-structure;Actin-binding;Alternative splicing;Amyloidosis;Cell projection;Coiled coil;Cytoplasm;Cytoplasmic vesicle;Cytoskeleton;Disease variant;Immunity;Inflammatory response;Innate immunity;Metal-binding;Microtubule;Nucleus;Phosphoprotein;Reference proteome;Zinc;Zinc-finger | Coiled coil          |\n",
       "\n"
      ],
      "text/plain": [
       "  Gene.names...primary..\n",
       "1 MEFV                  \n",
       "2 MEFV                  \n",
       "3 MEFV                  \n",
       "4 MEFV                  \n",
       "5 MEFV                  \n",
       "6 MEFV                  \n",
       "  Keywords                                                                                                                                                                                                                                                                              \n",
       "1 3D-structure;Actin-binding;Alternative splicing;Amyloidosis;Cell projection;Coiled coil;Cytoplasm;Cytoplasmic vesicle;Cytoskeleton;Disease variant;Immunity;Inflammatory response;Innate immunity;Metal-binding;Microtubule;Nucleus;Phosphoprotein;Reference proteome;Zinc;Zinc-finger\n",
       "2 3D-structure;Actin-binding;Alternative splicing;Amyloidosis;Cell projection;Coiled coil;Cytoplasm;Cytoplasmic vesicle;Cytoskeleton;Disease variant;Immunity;Inflammatory response;Innate immunity;Metal-binding;Microtubule;Nucleus;Phosphoprotein;Reference proteome;Zinc;Zinc-finger\n",
       "3 3D-structure;Actin-binding;Alternative splicing;Amyloidosis;Cell projection;Coiled coil;Cytoplasm;Cytoplasmic vesicle;Cytoskeleton;Disease variant;Immunity;Inflammatory response;Innate immunity;Metal-binding;Microtubule;Nucleus;Phosphoprotein;Reference proteome;Zinc;Zinc-finger\n",
       "4 3D-structure;Actin-binding;Alternative splicing;Amyloidosis;Cell projection;Coiled coil;Cytoplasm;Cytoplasmic vesicle;Cytoskeleton;Disease variant;Immunity;Inflammatory response;Innate immunity;Metal-binding;Microtubule;Nucleus;Phosphoprotein;Reference proteome;Zinc;Zinc-finger\n",
       "5 3D-structure;Actin-binding;Alternative splicing;Amyloidosis;Cell projection;Coiled coil;Cytoplasm;Cytoplasmic vesicle;Cytoskeleton;Disease variant;Immunity;Inflammatory response;Innate immunity;Metal-binding;Microtubule;Nucleus;Phosphoprotein;Reference proteome;Zinc;Zinc-finger\n",
       "6 3D-structure;Actin-binding;Alternative splicing;Amyloidosis;Cell projection;Coiled coil;Cytoplasm;Cytoplasmic vesicle;Cytoskeleton;Disease variant;Immunity;Inflammatory response;Innate immunity;Metal-binding;Microtubule;Nucleus;Phosphoprotein;Reference proteome;Zinc;Zinc-finger\n",
       "  term                \n",
       "1 3D-structure        \n",
       "2 Actin-binding       \n",
       "3 Alternative splicing\n",
       "4 Amyloidosis         \n",
       "5 Cell projection     \n",
       "6 Coiled coil         "
      ]
     },
     "metadata": {},
     "output_type": "display_data"
    }
   ],
   "source": [
    "dc_v1 = dc %>% \n",
    "    mutate(term = strsplit(as.character(Keywords), \";\")) %>% \n",
    "    unnest(term)\n",
    "\n",
    "head (dc_v1)"
   ]
  },
  {
   "cell_type": "markdown",
   "id": "cross-processing",
   "metadata": {},
   "source": [
    "### This is my manually prepared list of terms"
   ]
  },
  {
   "cell_type": "code",
   "execution_count": 15,
   "id": "nervous-convenience",
   "metadata": {},
   "outputs": [],
   "source": [
    "terms_KW <-read.delim (\"./data/Uniprot-KWs_solution.txt\")\n",
    "terms_KW$term <- terms_KW$new_row"
   ]
  },
  {
   "cell_type": "code",
   "execution_count": 16,
   "id": "ordinary-ukraine",
   "metadata": {},
   "outputs": [
    {
     "data": {
      "text/html": [
       "<table class=\"dataframe\">\n",
       "<caption>A data.frame: 6 × 6</caption>\n",
       "<thead>\n",
       "\t<tr><th></th><th scope=col>X</th><th scope=col>new_row</th><th scope=col>search.term</th><th scope=col>biochemistry</th><th scope=col>function.</th><th scope=col>term</th></tr>\n",
       "\t<tr><th></th><th scope=col>&lt;int&gt;</th><th scope=col>&lt;chr&gt;</th><th scope=col>&lt;chr&gt;</th><th scope=col>&lt;chr&gt;</th><th scope=col>&lt;chr&gt;</th><th scope=col>&lt;chr&gt;</th></tr>\n",
       "</thead>\n",
       "<tbody>\n",
       "\t<tr><th scope=row>1</th><td>100</td><td>Antibiotic       </td><td>Antibiotic   </td><td>antimicrobial protein</td><td></td><td>Antibiotic       </td></tr>\n",
       "\t<tr><th scope=row>2</th><td>101</td><td>Antimicrobial    </td><td>Antimicrobial</td><td>antimicrobial protein</td><td></td><td>Antimicrobial    </td></tr>\n",
       "\t<tr><th scope=row>3</th><td>188</td><td>Fungicide        </td><td>             </td><td>antimicrobial protein</td><td></td><td>Fungicide        </td></tr>\n",
       "\t<tr><th scope=row>4</th><td>237</td><td>Antiviral defense</td><td>             </td><td>antimicrobial protein</td><td></td><td>Antiviral defense</td></tr>\n",
       "\t<tr><th scope=row>5</th><td>177</td><td>Antioxidant      </td><td>             </td><td>antioxidant          </td><td></td><td>Antioxidant      </td></tr>\n",
       "\t<tr><th scope=row>6</th><td> 59</td><td>Cell adhesion    </td><td>Cell adhesion</td><td>cell adhesion protein</td><td></td><td>Cell adhesion    </td></tr>\n",
       "</tbody>\n",
       "</table>\n"
      ],
      "text/latex": [
       "A data.frame: 6 × 6\n",
       "\\begin{tabular}{r|llllll}\n",
       "  & X & new\\_row & search.term & biochemistry & function. & term\\\\\n",
       "  & <int> & <chr> & <chr> & <chr> & <chr> & <chr>\\\\\n",
       "\\hline\n",
       "\t1 & 100 & Antibiotic        & Antibiotic    & antimicrobial protein &  & Antibiotic       \\\\\n",
       "\t2 & 101 & Antimicrobial     & Antimicrobial & antimicrobial protein &  & Antimicrobial    \\\\\n",
       "\t3 & 188 & Fungicide         &               & antimicrobial protein &  & Fungicide        \\\\\n",
       "\t4 & 237 & Antiviral defense &               & antimicrobial protein &  & Antiviral defense\\\\\n",
       "\t5 & 177 & Antioxidant       &               & antioxidant           &  & Antioxidant      \\\\\n",
       "\t6 &  59 & Cell adhesion     & Cell adhesion & cell adhesion protein &  & Cell adhesion    \\\\\n",
       "\\end{tabular}\n"
      ],
      "text/markdown": [
       "\n",
       "A data.frame: 6 × 6\n",
       "\n",
       "| <!--/--> | X &lt;int&gt; | new_row &lt;chr&gt; | search.term &lt;chr&gt; | biochemistry &lt;chr&gt; | function. &lt;chr&gt; | term &lt;chr&gt; |\n",
       "|---|---|---|---|---|---|---|\n",
       "| 1 | 100 | Antibiotic        | Antibiotic    | antimicrobial protein | <!----> | Antibiotic        |\n",
       "| 2 | 101 | Antimicrobial     | Antimicrobial | antimicrobial protein | <!----> | Antimicrobial     |\n",
       "| 3 | 188 | Fungicide         | <!----> | antimicrobial protein | <!----> | Fungicide         |\n",
       "| 4 | 237 | Antiviral defense | <!----> | antimicrobial protein | <!----> | Antiviral defense |\n",
       "| 5 | 177 | Antioxidant       | <!----> | antioxidant           | <!----> | Antioxidant       |\n",
       "| 6 |  59 | Cell adhesion     | Cell adhesion | cell adhesion protein | <!----> | Cell adhesion     |\n",
       "\n"
      ],
      "text/plain": [
       "  X   new_row           search.term   biochemistry          function.\n",
       "1 100 Antibiotic        Antibiotic    antimicrobial protein          \n",
       "2 101 Antimicrobial     Antimicrobial antimicrobial protein          \n",
       "3 188 Fungicide                       antimicrobial protein          \n",
       "4 237 Antiviral defense               antimicrobial protein          \n",
       "5 177 Antioxidant                     antioxidant                    \n",
       "6  59 Cell adhesion     Cell adhesion cell adhesion protein          \n",
       "  term             \n",
       "1 Antibiotic       \n",
       "2 Antimicrobial    \n",
       "3 Fungicide        \n",
       "4 Antiviral defense\n",
       "5 Antioxidant      \n",
       "6 Cell adhesion    "
      ]
     },
     "metadata": {},
     "output_type": "display_data"
    }
   ],
   "source": [
    "head (terms_KW)"
   ]
  },
  {
   "cell_type": "code",
   "execution_count": 17,
   "id": "communist-garbage",
   "metadata": {},
   "outputs": [
    {
     "data": {
      "text/html": [
       "<table class=\"dataframe\">\n",
       "<caption>A tibble: 3 × 5</caption>\n",
       "<thead>\n",
       "\t<tr><th scope=col>Gene.names...primary..</th><th scope=col>Keywords</th><th scope=col>term</th><th scope=col>category</th><th scope=col>funct</th></tr>\n",
       "\t<tr><th scope=col>&lt;chr&gt;</th><th scope=col>&lt;chr&gt;</th><th scope=col>&lt;chr&gt;</th><th scope=col>&lt;chr&gt;</th><th scope=col>&lt;chr&gt;</th></tr>\n",
       "</thead>\n",
       "<tbody>\n",
       "\t<tr><td>MEFV</td><td>3D-structure;Actin-binding;Alternative splicing;Amyloidosis;Cell projection;Coiled coil;Cytoplasm;Cytoplasmic vesicle;Cytoskeleton;Disease variant;Immunity;Inflammatory response;Innate immunity;Metal-binding;Microtubule;Nucleus;Phosphoprotein;Reference proteome;Zinc;Zinc-finger</td><td>3D-structure        </td><td></td><td></td></tr>\n",
       "\t<tr><td>MEFV</td><td>3D-structure;Actin-binding;Alternative splicing;Amyloidosis;Cell projection;Coiled coil;Cytoplasm;Cytoplasmic vesicle;Cytoskeleton;Disease variant;Immunity;Inflammatory response;Innate immunity;Metal-binding;Microtubule;Nucleus;Phosphoprotein;Reference proteome;Zinc;Zinc-finger</td><td>Actin-binding       </td><td></td><td></td></tr>\n",
       "\t<tr><td>MEFV</td><td>3D-structure;Actin-binding;Alternative splicing;Amyloidosis;Cell projection;Coiled coil;Cytoplasm;Cytoplasmic vesicle;Cytoskeleton;Disease variant;Immunity;Inflammatory response;Innate immunity;Metal-binding;Microtubule;Nucleus;Phosphoprotein;Reference proteome;Zinc;Zinc-finger</td><td>Alternative splicing</td><td></td><td></td></tr>\n",
       "</tbody>\n",
       "</table>\n"
      ],
      "text/latex": [
       "A tibble: 3 × 5\n",
       "\\begin{tabular}{lllll}\n",
       " Gene.names...primary.. & Keywords & term & category & funct\\\\\n",
       " <chr> & <chr> & <chr> & <chr> & <chr>\\\\\n",
       "\\hline\n",
       "\t MEFV & 3D-structure;Actin-binding;Alternative splicing;Amyloidosis;Cell projection;Coiled coil;Cytoplasm;Cytoplasmic vesicle;Cytoskeleton;Disease variant;Immunity;Inflammatory response;Innate immunity;Metal-binding;Microtubule;Nucleus;Phosphoprotein;Reference proteome;Zinc;Zinc-finger & 3D-structure         &  & \\\\\n",
       "\t MEFV & 3D-structure;Actin-binding;Alternative splicing;Amyloidosis;Cell projection;Coiled coil;Cytoplasm;Cytoplasmic vesicle;Cytoskeleton;Disease variant;Immunity;Inflammatory response;Innate immunity;Metal-binding;Microtubule;Nucleus;Phosphoprotein;Reference proteome;Zinc;Zinc-finger & Actin-binding        &  & \\\\\n",
       "\t MEFV & 3D-structure;Actin-binding;Alternative splicing;Amyloidosis;Cell projection;Coiled coil;Cytoplasm;Cytoplasmic vesicle;Cytoskeleton;Disease variant;Immunity;Inflammatory response;Innate immunity;Metal-binding;Microtubule;Nucleus;Phosphoprotein;Reference proteome;Zinc;Zinc-finger & Alternative splicing &  & \\\\\n",
       "\\end{tabular}\n"
      ],
      "text/markdown": [
       "\n",
       "A tibble: 3 × 5\n",
       "\n",
       "| Gene.names...primary.. &lt;chr&gt; | Keywords &lt;chr&gt; | term &lt;chr&gt; | category &lt;chr&gt; | funct &lt;chr&gt; |\n",
       "|---|---|---|---|---|\n",
       "| MEFV | 3D-structure;Actin-binding;Alternative splicing;Amyloidosis;Cell projection;Coiled coil;Cytoplasm;Cytoplasmic vesicle;Cytoskeleton;Disease variant;Immunity;Inflammatory response;Innate immunity;Metal-binding;Microtubule;Nucleus;Phosphoprotein;Reference proteome;Zinc;Zinc-finger | 3D-structure         | <!----> | <!----> |\n",
       "| MEFV | 3D-structure;Actin-binding;Alternative splicing;Amyloidosis;Cell projection;Coiled coil;Cytoplasm;Cytoplasmic vesicle;Cytoskeleton;Disease variant;Immunity;Inflammatory response;Innate immunity;Metal-binding;Microtubule;Nucleus;Phosphoprotein;Reference proteome;Zinc;Zinc-finger | Actin-binding        | <!----> | <!----> |\n",
       "| MEFV | 3D-structure;Actin-binding;Alternative splicing;Amyloidosis;Cell projection;Coiled coil;Cytoplasm;Cytoplasmic vesicle;Cytoskeleton;Disease variant;Immunity;Inflammatory response;Innate immunity;Metal-binding;Microtubule;Nucleus;Phosphoprotein;Reference proteome;Zinc;Zinc-finger | Alternative splicing | <!----> | <!----> |\n",
       "\n"
      ],
      "text/plain": [
       "  Gene.names...primary..\n",
       "1 MEFV                  \n",
       "2 MEFV                  \n",
       "3 MEFV                  \n",
       "  Keywords                                                                                                                                                                                                                                                                              \n",
       "1 3D-structure;Actin-binding;Alternative splicing;Amyloidosis;Cell projection;Coiled coil;Cytoplasm;Cytoplasmic vesicle;Cytoskeleton;Disease variant;Immunity;Inflammatory response;Innate immunity;Metal-binding;Microtubule;Nucleus;Phosphoprotein;Reference proteome;Zinc;Zinc-finger\n",
       "2 3D-structure;Actin-binding;Alternative splicing;Amyloidosis;Cell projection;Coiled coil;Cytoplasm;Cytoplasmic vesicle;Cytoskeleton;Disease variant;Immunity;Inflammatory response;Innate immunity;Metal-binding;Microtubule;Nucleus;Phosphoprotein;Reference proteome;Zinc;Zinc-finger\n",
       "3 3D-structure;Actin-binding;Alternative splicing;Amyloidosis;Cell projection;Coiled coil;Cytoplasm;Cytoplasmic vesicle;Cytoskeleton;Disease variant;Immunity;Inflammatory response;Innate immunity;Metal-binding;Microtubule;Nucleus;Phosphoprotein;Reference proteome;Zinc;Zinc-finger\n",
       "  term                 category funct\n",
       "1 3D-structure                       \n",
       "2 Actin-binding                      \n",
       "3 Alternative splicing               "
      ]
     },
     "metadata": {},
     "output_type": "display_data"
    }
   ],
   "source": [
    "dc_v1$category <- terms_KW$biochemistry[match(dc_v1$term, terms_KW$term)]\n",
    "\n",
    "dc_v1$funct <- terms_KW$function.[match(dc_v1$term, terms_KW$term)]\n",
    "\n",
    "head (dc_v1, n =3)"
   ]
  },
  {
   "cell_type": "code",
   "execution_count": 18,
   "id": "solved-nature",
   "metadata": {},
   "outputs": [
    {
     "data": {
      "text/html": [
       "<style>\n",
       ".list-inline {list-style: none; margin:0; padding: 0}\n",
       ".list-inline>li {display: inline-block}\n",
       ".list-inline>li:not(:last-child)::after {content: \"\\00b7\"; padding: 0 .5ex}\n",
       "</style>\n",
       "<ol class=list-inline><li>8171</li><li>5</li></ol>\n"
      ],
      "text/latex": [
       "\\begin{enumerate*}\n",
       "\\item 8171\n",
       "\\item 5\n",
       "\\end{enumerate*}\n"
      ],
      "text/markdown": [
       "1. 8171\n",
       "2. 5\n",
       "\n",
       "\n"
      ],
      "text/plain": [
       "[1] 8171    5"
      ]
     },
     "metadata": {},
     "output_type": "display_data"
    }
   ],
   "source": [
    "dim (dc_v1)"
   ]
  },
  {
   "cell_type": "code",
   "execution_count": 19,
   "id": "damaged-midnight",
   "metadata": {},
   "outputs": [
    {
     "data": {
      "text/html": [
       "<style>\n",
       ".list-inline {list-style: none; margin:0; padding: 0}\n",
       ".list-inline>li {display: inline-block}\n",
       ".list-inline>li:not(:last-child)::after {content: \"\\00b7\"; padding: 0 .5ex}\n",
       "</style>\n",
       "<ol class=list-inline><li>662</li><li>2</li></ol>\n"
      ],
      "text/latex": [
       "\\begin{enumerate*}\n",
       "\\item 662\n",
       "\\item 2\n",
       "\\end{enumerate*}\n"
      ],
      "text/markdown": [
       "1. 662\n",
       "2. 2\n",
       "\n",
       "\n"
      ],
      "text/plain": [
       "[1] 662   2"
      ]
     },
     "metadata": {},
     "output_type": "display_data"
    }
   ],
   "source": [
    "dc_test = dc_v1 %>%\n",
    "group_by (Gene.names...primary..) %>% \n",
    " summarize(summary = paste(unique (na.omit(category)), collapse = \", \"))\n",
    "\n",
    "dim (dc_test)"
   ]
  },
  {
   "cell_type": "code",
   "execution_count": 20,
   "id": "loved-helen",
   "metadata": {},
   "outputs": [],
   "source": [
    "dc_test$summary = str_trim(dc_test$summary, side = c(\"both\"))"
   ]
  },
  {
   "cell_type": "code",
   "execution_count": 21,
   "id": "confidential-stability",
   "metadata": {},
   "outputs": [
    {
     "data": {
      "text/html": [
       "<table class=\"dataframe\">\n",
       "<caption>A tibble: 6 × 2</caption>\n",
       "<thead>\n",
       "\t<tr><th scope=col>Gene.names...primary..</th><th scope=col>summary</th></tr>\n",
       "\t<tr><th scope=col>&lt;chr&gt;</th><th scope=col>&lt;chr&gt;</th></tr>\n",
       "</thead>\n",
       "<tbody>\n",
       "\t<tr><td>AATK </td><td>, enzyme             </td></tr>\n",
       "\t<tr><td>ABCB4</td><td>, transporter, enzyme</td></tr>\n",
       "\t<tr><td>ABCC3</td><td>, enzyme, transporter</td></tr>\n",
       "\t<tr><td>ACP3 </td><td>, enzyme             </td></tr>\n",
       "\t<tr><td>ACSL1</td><td>, enzyme             </td></tr>\n",
       "\t<tr><td>ACSM3</td><td>, enzyme             </td></tr>\n",
       "</tbody>\n",
       "</table>\n"
      ],
      "text/latex": [
       "A tibble: 6 × 2\n",
       "\\begin{tabular}{ll}\n",
       " Gene.names...primary.. & summary\\\\\n",
       " <chr> & <chr>\\\\\n",
       "\\hline\n",
       "\t AATK  & , enzyme             \\\\\n",
       "\t ABCB4 & , transporter, enzyme\\\\\n",
       "\t ABCC3 & , enzyme, transporter\\\\\n",
       "\t ACP3  & , enzyme             \\\\\n",
       "\t ACSL1 & , enzyme             \\\\\n",
       "\t ACSM3 & , enzyme             \\\\\n",
       "\\end{tabular}\n"
      ],
      "text/markdown": [
       "\n",
       "A tibble: 6 × 2\n",
       "\n",
       "| Gene.names...primary.. &lt;chr&gt; | summary &lt;chr&gt; |\n",
       "|---|---|\n",
       "| AATK  | , enzyme              |\n",
       "| ABCB4 | , transporter, enzyme |\n",
       "| ABCC3 | , enzyme, transporter |\n",
       "| ACP3  | , enzyme              |\n",
       "| ACSL1 | , enzyme              |\n",
       "| ACSM3 | , enzyme              |\n",
       "\n"
      ],
      "text/plain": [
       "  Gene.names...primary.. summary              \n",
       "1 AATK                   , enzyme             \n",
       "2 ABCB4                  , transporter, enzyme\n",
       "3 ABCC3                  , enzyme, transporter\n",
       "4 ACP3                   , enzyme             \n",
       "5 ACSL1                  , enzyme             \n",
       "6 ACSM3                  , enzyme             "
      ]
     },
     "metadata": {},
     "output_type": "display_data"
    }
   ],
   "source": [
    "head (dc_test)"
   ]
  },
  {
   "cell_type": "code",
   "execution_count": 22,
   "id": "existing-depth",
   "metadata": {},
   "outputs": [
    {
     "data": {
      "text/html": [
       "<table class=\"dataframe\">\n",
       "<caption>A tibble: 6 × 2</caption>\n",
       "<thead>\n",
       "\t<tr><th scope=col>Gene.names...primary..</th><th scope=col>summary</th></tr>\n",
       "\t<tr><th scope=col>&lt;chr&gt;</th><th scope=col>&lt;chr&gt;</th></tr>\n",
       "</thead>\n",
       "<tbody>\n",
       "\t<tr><td>AATK </td><td>enzyme             </td></tr>\n",
       "\t<tr><td>ABCB4</td><td>transporter, enzyme</td></tr>\n",
       "\t<tr><td>ABCC3</td><td>enzyme, transporter</td></tr>\n",
       "\t<tr><td>ACP3 </td><td>enzyme             </td></tr>\n",
       "\t<tr><td>ACSL1</td><td>enzyme             </td></tr>\n",
       "\t<tr><td>ACSM3</td><td>enzyme             </td></tr>\n",
       "</tbody>\n",
       "</table>\n"
      ],
      "text/latex": [
       "A tibble: 6 × 2\n",
       "\\begin{tabular}{ll}\n",
       " Gene.names...primary.. & summary\\\\\n",
       " <chr> & <chr>\\\\\n",
       "\\hline\n",
       "\t AATK  & enzyme             \\\\\n",
       "\t ABCB4 & transporter, enzyme\\\\\n",
       "\t ABCC3 & enzyme, transporter\\\\\n",
       "\t ACP3  & enzyme             \\\\\n",
       "\t ACSL1 & enzyme             \\\\\n",
       "\t ACSM3 & enzyme             \\\\\n",
       "\\end{tabular}\n"
      ],
      "text/markdown": [
       "\n",
       "A tibble: 6 × 2\n",
       "\n",
       "| Gene.names...primary.. &lt;chr&gt; | summary &lt;chr&gt; |\n",
       "|---|---|\n",
       "| AATK  | enzyme              |\n",
       "| ABCB4 | transporter, enzyme |\n",
       "| ABCC3 | enzyme, transporter |\n",
       "| ACP3  | enzyme              |\n",
       "| ACSL1 | enzyme              |\n",
       "| ACSM3 | enzyme              |\n",
       "\n"
      ],
      "text/plain": [
       "  Gene.names...primary.. summary            \n",
       "1 AATK                   enzyme             \n",
       "2 ABCB4                  transporter, enzyme\n",
       "3 ABCC3                  enzyme, transporter\n",
       "4 ACP3                   enzyme             \n",
       "5 ACSL1                  enzyme             \n",
       "6 ACSM3                  enzyme             "
      ]
     },
     "metadata": {},
     "output_type": "display_data"
    }
   ],
   "source": [
    "dc_test$summary <- str_replace_all(dc_test$summary, \"^, \", \"\")\n",
    "dc_test$summary <- str_replace_all(dc_test$summary, \",$\", \"\")\n",
    "dc_test$summary <- str_replace_all(dc_test$summary, \", ,\", \", \") \n",
    "head (dc_test)"
   ]
  },
  {
   "cell_type": "code",
   "execution_count": 23,
   "id": "accessory-arrow",
   "metadata": {},
   "outputs": [],
   "source": [
    "x <- read.table (\"./data/f_time2020_inlog_FC15_FC2_evidence-threshold.tsv\", sep = '\\t', header = T, row.names =1)"
   ]
  },
  {
   "cell_type": "code",
   "execution_count": 24,
   "id": "pressing-establishment",
   "metadata": {},
   "outputs": [
    {
     "data": {
      "text/html": [
       "<table class=\"dataframe\">\n",
       "<caption>A data.frame: 6 × 64</caption>\n",
       "<thead>\n",
       "\t<tr><th></th><th scope=col>Genesymbol</th><th scope=col>EtOH_04h_R1</th><th scope=col>EtOH_04h_R2</th><th scope=col>EtOH_04h_R3</th><th scope=col>EtOH_08h_R1</th><th scope=col>EtOH_08h_R2</th><th scope=col>EtOH_08h_R3</th><th scope=col>EtOH_24h_R1</th><th scope=col>EtOH_24h_R2</th><th scope=col>EtOH_24h_R3</th><th scope=col>⋯</th><th scope=col>ensembl_gene_id</th><th scope=col>entrezgene_id</th><th scope=col>external_gene_name</th><th scope=col>description</th><th scope=col>chromosome_name</th><th scope=col>start_position</th><th scope=col>end_position</th><th scope=col>percentage_gene_gc_content</th><th scope=col>gene_biotype</th><th scope=col>strand</th></tr>\n",
       "\t<tr><th></th><th scope=col>&lt;chr&gt;</th><th scope=col>&lt;dbl&gt;</th><th scope=col>&lt;dbl&gt;</th><th scope=col>&lt;dbl&gt;</th><th scope=col>&lt;dbl&gt;</th><th scope=col>&lt;dbl&gt;</th><th scope=col>&lt;dbl&gt;</th><th scope=col>&lt;dbl&gt;</th><th scope=col>&lt;dbl&gt;</th><th scope=col>&lt;dbl&gt;</th><th scope=col>⋯</th><th scope=col>&lt;chr&gt;</th><th scope=col>&lt;int&gt;</th><th scope=col>&lt;chr&gt;</th><th scope=col>&lt;chr&gt;</th><th scope=col>&lt;chr&gt;</th><th scope=col>&lt;int&gt;</th><th scope=col>&lt;int&gt;</th><th scope=col>&lt;dbl&gt;</th><th scope=col>&lt;chr&gt;</th><th scope=col>&lt;int&gt;</th></tr>\n",
       "</thead>\n",
       "<tbody>\n",
       "\t<tr><th scope=row>1</th><td>A1BG  </td><td> 0.6699661</td><td> 1.5716342</td><td> 1.3436590</td><td>1.96288982</td><td> 1.224317</td><td> 1.85505743</td><td>2.9635154</td><td>2.8044871</td><td> 2.2197667</td><td>⋯</td><td>ENSG00000121410</td><td>    1</td><td>A1BG  </td><td>alpha-1-B glycoprotein                         </td><td>19</td><td> 58345178</td><td> 58353492</td><td>55.80</td><td>protein coding</td><td>-1</td></tr>\n",
       "\t<tr><th scope=row>2</th><td>A2M   </td><td>-0.1493280</td><td>-0.5732038</td><td> 0.5753295</td><td>0.02594746</td><td>-1.177576</td><td>-0.04192958</td><td>0.3870933</td><td>0.8929844</td><td>-0.3338175</td><td>⋯</td><td>ENSG00000175899</td><td>    2</td><td>A2M   </td><td>alpha-2-macroglobulin                          </td><td>12</td><td>  9067664</td><td>  9116229</td><td>37.18</td><td>protein coding</td><td>-1</td></tr>\n",
       "\t<tr><th scope=row>3</th><td>A4GALT</td><td> 1.0360548</td><td> 0.1791040</td><td>-0.5061997</td><td>1.81327202</td><td> 1.441122</td><td> 1.49762235</td><td>0.7995740</td><td>1.2555664</td><td> 1.1367142</td><td>⋯</td><td>ENSG00000128274</td><td>53947</td><td>A4GALT</td><td>alpha 1,4-galactosyltransferase (P blood group)</td><td>22</td><td> 42692121</td><td> 42721298</td><td>52.39</td><td>protein coding</td><td>-1</td></tr>\n",
       "\t<tr><th scope=row>4</th><td>AAAS  </td><td> 4.6847524</td><td> 4.7243974</td><td> 5.0412317</td><td>5.25087279</td><td> 4.960263</td><td> 5.15534332</td><td>5.2016303</td><td>5.3925019</td><td> 5.2358878</td><td>⋯</td><td>ENSG00000094914</td><td> 8086</td><td>AAAS  </td><td>aladin WD repeat nucleoporin                   </td><td>12</td><td> 53307456</td><td> 53324864</td><td>49.39</td><td>protein coding</td><td>-1</td></tr>\n",
       "\t<tr><th scope=row>5</th><td>AACS  </td><td> 4.6052624</td><td> 4.5081055</td><td> 4.4018076</td><td>4.37823558</td><td> 4.189747</td><td> 4.20453034</td><td>4.6912469</td><td>4.9885575</td><td> 4.3303553</td><td>⋯</td><td>ENSG00000081760</td><td>65985</td><td>AACS  </td><td>acetoacetyl-CoA synthetase                     </td><td>12</td><td>125065434</td><td>125143333</td><td>51.20</td><td>protein coding</td><td> 1</td></tr>\n",
       "\t<tr><th scope=row>6</th><td>AAGAB </td><td> 5.3934778</td><td> 5.4642630</td><td> 5.2739382</td><td>5.42861575</td><td> 5.434778</td><td> 5.48011690</td><td>5.3105383</td><td>5.3367685</td><td> 5.1670164</td><td>⋯</td><td>ENSG00000103591</td><td>79719</td><td>AAGAB </td><td>alpha and gamma adaptin binding protein        </td><td>15</td><td> 67200667</td><td> 67255195</td><td>39.47</td><td>protein coding</td><td>-1</td></tr>\n",
       "</tbody>\n",
       "</table>\n"
      ],
      "text/latex": [
       "A data.frame: 6 × 64\n",
       "\\begin{tabular}{r|lllllllllllllllllllll}\n",
       "  & Genesymbol & EtOH\\_04h\\_R1 & EtOH\\_04h\\_R2 & EtOH\\_04h\\_R3 & EtOH\\_08h\\_R1 & EtOH\\_08h\\_R2 & EtOH\\_08h\\_R3 & EtOH\\_24h\\_R1 & EtOH\\_24h\\_R2 & EtOH\\_24h\\_R3 & ⋯ & ensembl\\_gene\\_id & entrezgene\\_id & external\\_gene\\_name & description & chromosome\\_name & start\\_position & end\\_position & percentage\\_gene\\_gc\\_content & gene\\_biotype & strand\\\\\n",
       "  & <chr> & <dbl> & <dbl> & <dbl> & <dbl> & <dbl> & <dbl> & <dbl> & <dbl> & <dbl> & ⋯ & <chr> & <int> & <chr> & <chr> & <chr> & <int> & <int> & <dbl> & <chr> & <int>\\\\\n",
       "\\hline\n",
       "\t1 & A1BG   &  0.6699661 &  1.5716342 &  1.3436590 & 1.96288982 &  1.224317 &  1.85505743 & 2.9635154 & 2.8044871 &  2.2197667 & ⋯ & ENSG00000121410 &     1 & A1BG   & alpha-1-B glycoprotein                          & 19 &  58345178 &  58353492 & 55.80 & protein coding & -1\\\\\n",
       "\t2 & A2M    & -0.1493280 & -0.5732038 &  0.5753295 & 0.02594746 & -1.177576 & -0.04192958 & 0.3870933 & 0.8929844 & -0.3338175 & ⋯ & ENSG00000175899 &     2 & A2M    & alpha-2-macroglobulin                           & 12 &   9067664 &   9116229 & 37.18 & protein coding & -1\\\\\n",
       "\t3 & A4GALT &  1.0360548 &  0.1791040 & -0.5061997 & 1.81327202 &  1.441122 &  1.49762235 & 0.7995740 & 1.2555664 &  1.1367142 & ⋯ & ENSG00000128274 & 53947 & A4GALT & alpha 1,4-galactosyltransferase (P blood group) & 22 &  42692121 &  42721298 & 52.39 & protein coding & -1\\\\\n",
       "\t4 & AAAS   &  4.6847524 &  4.7243974 &  5.0412317 & 5.25087279 &  4.960263 &  5.15534332 & 5.2016303 & 5.3925019 &  5.2358878 & ⋯ & ENSG00000094914 &  8086 & AAAS   & aladin WD repeat nucleoporin                    & 12 &  53307456 &  53324864 & 49.39 & protein coding & -1\\\\\n",
       "\t5 & AACS   &  4.6052624 &  4.5081055 &  4.4018076 & 4.37823558 &  4.189747 &  4.20453034 & 4.6912469 & 4.9885575 &  4.3303553 & ⋯ & ENSG00000081760 & 65985 & AACS   & acetoacetyl-CoA synthetase                      & 12 & 125065434 & 125143333 & 51.20 & protein coding &  1\\\\\n",
       "\t6 & AAGAB  &  5.3934778 &  5.4642630 &  5.2739382 & 5.42861575 &  5.434778 &  5.48011690 & 5.3105383 & 5.3367685 &  5.1670164 & ⋯ & ENSG00000103591 & 79719 & AAGAB  & alpha and gamma adaptin binding protein         & 15 &  67200667 &  67255195 & 39.47 & protein coding & -1\\\\\n",
       "\\end{tabular}\n"
      ],
      "text/markdown": [
       "\n",
       "A data.frame: 6 × 64\n",
       "\n",
       "| <!--/--> | Genesymbol &lt;chr&gt; | EtOH_04h_R1 &lt;dbl&gt; | EtOH_04h_R2 &lt;dbl&gt; | EtOH_04h_R3 &lt;dbl&gt; | EtOH_08h_R1 &lt;dbl&gt; | EtOH_08h_R2 &lt;dbl&gt; | EtOH_08h_R3 &lt;dbl&gt; | EtOH_24h_R1 &lt;dbl&gt; | EtOH_24h_R2 &lt;dbl&gt; | EtOH_24h_R3 &lt;dbl&gt; | ⋯ ⋯ | ensembl_gene_id &lt;chr&gt; | entrezgene_id &lt;int&gt; | external_gene_name &lt;chr&gt; | description &lt;chr&gt; | chromosome_name &lt;chr&gt; | start_position &lt;int&gt; | end_position &lt;int&gt; | percentage_gene_gc_content &lt;dbl&gt; | gene_biotype &lt;chr&gt; | strand &lt;int&gt; |\n",
       "|---|---|---|---|---|---|---|---|---|---|---|---|---|---|---|---|---|---|---|---|---|---|\n",
       "| 1 | A1BG   |  0.6699661 |  1.5716342 |  1.3436590 | 1.96288982 |  1.224317 |  1.85505743 | 2.9635154 | 2.8044871 |  2.2197667 | ⋯ | ENSG00000121410 |     1 | A1BG   | alpha-1-B glycoprotein                          | 19 |  58345178 |  58353492 | 55.80 | protein coding | -1 |\n",
       "| 2 | A2M    | -0.1493280 | -0.5732038 |  0.5753295 | 0.02594746 | -1.177576 | -0.04192958 | 0.3870933 | 0.8929844 | -0.3338175 | ⋯ | ENSG00000175899 |     2 | A2M    | alpha-2-macroglobulin                           | 12 |   9067664 |   9116229 | 37.18 | protein coding | -1 |\n",
       "| 3 | A4GALT |  1.0360548 |  0.1791040 | -0.5061997 | 1.81327202 |  1.441122 |  1.49762235 | 0.7995740 | 1.2555664 |  1.1367142 | ⋯ | ENSG00000128274 | 53947 | A4GALT | alpha 1,4-galactosyltransferase (P blood group) | 22 |  42692121 |  42721298 | 52.39 | protein coding | -1 |\n",
       "| 4 | AAAS   |  4.6847524 |  4.7243974 |  5.0412317 | 5.25087279 |  4.960263 |  5.15534332 | 5.2016303 | 5.3925019 |  5.2358878 | ⋯ | ENSG00000094914 |  8086 | AAAS   | aladin WD repeat nucleoporin                    | 12 |  53307456 |  53324864 | 49.39 | protein coding | -1 |\n",
       "| 5 | AACS   |  4.6052624 |  4.5081055 |  4.4018076 | 4.37823558 |  4.189747 |  4.20453034 | 4.6912469 | 4.9885575 |  4.3303553 | ⋯ | ENSG00000081760 | 65985 | AACS   | acetoacetyl-CoA synthetase                      | 12 | 125065434 | 125143333 | 51.20 | protein coding |  1 |\n",
       "| 6 | AAGAB  |  5.3934778 |  5.4642630 |  5.2739382 | 5.42861575 |  5.434778 |  5.48011690 | 5.3105383 | 5.3367685 |  5.1670164 | ⋯ | ENSG00000103591 | 79719 | AAGAB  | alpha and gamma adaptin binding protein         | 15 |  67200667 |  67255195 | 39.47 | protein coding | -1 |\n",
       "\n"
      ],
      "text/plain": [
       "  Genesymbol EtOH_04h_R1 EtOH_04h_R2 EtOH_04h_R3 EtOH_08h_R1 EtOH_08h_R2\n",
       "1 A1BG        0.6699661   1.5716342   1.3436590  1.96288982   1.224317  \n",
       "2 A2M        -0.1493280  -0.5732038   0.5753295  0.02594746  -1.177576  \n",
       "3 A4GALT      1.0360548   0.1791040  -0.5061997  1.81327202   1.441122  \n",
       "4 AAAS        4.6847524   4.7243974   5.0412317  5.25087279   4.960263  \n",
       "5 AACS        4.6052624   4.5081055   4.4018076  4.37823558   4.189747  \n",
       "6 AAGAB       5.3934778   5.4642630   5.2739382  5.42861575   5.434778  \n",
       "  EtOH_08h_R3 EtOH_24h_R1 EtOH_24h_R2 EtOH_24h_R3 <U+22EF>   ensembl_gene_id\n",
       "1  1.85505743 2.9635154   2.8044871    2.2197667  <U+22EF> ENSG00000121410\n",
       "2 -0.04192958 0.3870933   0.8929844   -0.3338175  <U+22EF> ENSG00000175899\n",
       "3  1.49762235 0.7995740   1.2555664    1.1367142  <U+22EF> ENSG00000128274\n",
       "4  5.15534332 5.2016303   5.3925019    5.2358878  <U+22EF> ENSG00000094914\n",
       "5  4.20453034 4.6912469   4.9885575    4.3303553  <U+22EF> ENSG00000081760\n",
       "6  5.48011690 5.3105383   5.3367685    5.1670164  <U+22EF> ENSG00000103591\n",
       "  entrezgene_id external_gene_name\n",
       "1     1         A1BG              \n",
       "2     2         A2M               \n",
       "3 53947         A4GALT            \n",
       "4  8086         AAAS              \n",
       "5 65985         AACS              \n",
       "6 79719         AAGAB             \n",
       "  description                                     chromosome_name\n",
       "1 alpha-1-B glycoprotein                          19             \n",
       "2 alpha-2-macroglobulin                           12             \n",
       "3 alpha 1,4-galactosyltransferase (P blood group) 22             \n",
       "4 aladin WD repeat nucleoporin                    12             \n",
       "5 acetoacetyl-CoA synthetase                      12             \n",
       "6 alpha and gamma adaptin binding protein         15             \n",
       "  start_position end_position percentage_gene_gc_content gene_biotype   strand\n",
       "1  58345178       58353492    55.80                      protein coding -1    \n",
       "2   9067664        9116229    37.18                      protein coding -1    \n",
       "3  42692121       42721298    52.39                      protein coding -1    \n",
       "4  53307456       53324864    49.39                      protein coding -1    \n",
       "5 125065434      125143333    51.20                      protein coding  1    \n",
       "6  67200667       67255195    39.47                      protein coding -1    "
      ]
     },
     "metadata": {},
     "output_type": "display_data"
    }
   ],
   "source": [
    "#head (x)\n",
    "x = x %>%\n",
    "rownames_to_column (\"Genesymbol\")\n",
    "\n",
    "head (x)"
   ]
  },
  {
   "cell_type": "code",
   "execution_count": 25,
   "id": "nominated-viewer",
   "metadata": {},
   "outputs": [],
   "source": [
    "x2 = x %>%\n",
    "select (c(Genesymbol, description, howmany))"
   ]
  },
  {
   "cell_type": "code",
   "execution_count": 26,
   "id": "nominated-signature",
   "metadata": {},
   "outputs": [
    {
     "data": {
      "text/html": [
       "<table class=\"dataframe\">\n",
       "<caption>A data.frame: 6 × 3</caption>\n",
       "<thead>\n",
       "\t<tr><th></th><th scope=col>Genesymbol</th><th scope=col>description</th><th scope=col>howmany</th></tr>\n",
       "\t<tr><th></th><th scope=col>&lt;chr&gt;</th><th scope=col>&lt;chr&gt;</th><th scope=col>&lt;int&gt;</th></tr>\n",
       "</thead>\n",
       "<tbody>\n",
       "\t<tr><th scope=row>1</th><td>A1BG  </td><td>alpha-1-B glycoprotein                         </td><td>0</td></tr>\n",
       "\t<tr><th scope=row>2</th><td>A2M   </td><td>alpha-2-macroglobulin                          </td><td>0</td></tr>\n",
       "\t<tr><th scope=row>3</th><td>A4GALT</td><td>alpha 1,4-galactosyltransferase (P blood group)</td><td>0</td></tr>\n",
       "\t<tr><th scope=row>4</th><td>AAAS  </td><td>aladin WD repeat nucleoporin                   </td><td>0</td></tr>\n",
       "\t<tr><th scope=row>5</th><td>AACS  </td><td>acetoacetyl-CoA synthetase                     </td><td>0</td></tr>\n",
       "\t<tr><th scope=row>6</th><td>AAGAB </td><td>alpha and gamma adaptin binding protein        </td><td>0</td></tr>\n",
       "</tbody>\n",
       "</table>\n"
      ],
      "text/latex": [
       "A data.frame: 6 × 3\n",
       "\\begin{tabular}{r|lll}\n",
       "  & Genesymbol & description & howmany\\\\\n",
       "  & <chr> & <chr> & <int>\\\\\n",
       "\\hline\n",
       "\t1 & A1BG   & alpha-1-B glycoprotein                          & 0\\\\\n",
       "\t2 & A2M    & alpha-2-macroglobulin                           & 0\\\\\n",
       "\t3 & A4GALT & alpha 1,4-galactosyltransferase (P blood group) & 0\\\\\n",
       "\t4 & AAAS   & aladin WD repeat nucleoporin                    & 0\\\\\n",
       "\t5 & AACS   & acetoacetyl-CoA synthetase                      & 0\\\\\n",
       "\t6 & AAGAB  & alpha and gamma adaptin binding protein         & 0\\\\\n",
       "\\end{tabular}\n"
      ],
      "text/markdown": [
       "\n",
       "A data.frame: 6 × 3\n",
       "\n",
       "| <!--/--> | Genesymbol &lt;chr&gt; | description &lt;chr&gt; | howmany &lt;int&gt; |\n",
       "|---|---|---|---|\n",
       "| 1 | A1BG   | alpha-1-B glycoprotein                          | 0 |\n",
       "| 2 | A2M    | alpha-2-macroglobulin                           | 0 |\n",
       "| 3 | A4GALT | alpha 1,4-galactosyltransferase (P blood group) | 0 |\n",
       "| 4 | AAAS   | aladin WD repeat nucleoporin                    | 0 |\n",
       "| 5 | AACS   | acetoacetyl-CoA synthetase                      | 0 |\n",
       "| 6 | AAGAB  | alpha and gamma adaptin binding protein         | 0 |\n",
       "\n"
      ],
      "text/plain": [
       "  Genesymbol description                                     howmany\n",
       "1 A1BG       alpha-1-B glycoprotein                          0      \n",
       "2 A2M        alpha-2-macroglobulin                           0      \n",
       "3 A4GALT     alpha 1,4-galactosyltransferase (P blood group) 0      \n",
       "4 AAAS       aladin WD repeat nucleoporin                    0      \n",
       "5 AACS       acetoacetyl-CoA synthetase                      0      \n",
       "6 AAGAB      alpha and gamma adaptin binding protein         0      "
      ]
     },
     "metadata": {},
     "output_type": "display_data"
    }
   ],
   "source": [
    "head (x2)"
   ]
  },
  {
   "cell_type": "code",
   "execution_count": 27,
   "id": "insured-router",
   "metadata": {},
   "outputs": [],
   "source": [
    "dc_test = dc_test %>%\n",
    "rename (Genesymbol = Gene.names...primary..)"
   ]
  },
  {
   "cell_type": "code",
   "execution_count": 28,
   "id": "strange-intranet",
   "metadata": {},
   "outputs": [
    {
     "data": {
      "text/html": [
       "<table class=\"dataframe\">\n",
       "<caption>A tibble: 6 × 2</caption>\n",
       "<thead>\n",
       "\t<tr><th scope=col>Genesymbol</th><th scope=col>summary</th></tr>\n",
       "\t<tr><th scope=col>&lt;chr&gt;</th><th scope=col>&lt;chr&gt;</th></tr>\n",
       "</thead>\n",
       "<tbody>\n",
       "\t<tr><td>AATK </td><td>enzyme             </td></tr>\n",
       "\t<tr><td>ABCB4</td><td>transporter, enzyme</td></tr>\n",
       "\t<tr><td>ABCC3</td><td>enzyme, transporter</td></tr>\n",
       "\t<tr><td>ACP3 </td><td>enzyme             </td></tr>\n",
       "\t<tr><td>ACSL1</td><td>enzyme             </td></tr>\n",
       "\t<tr><td>ACSM3</td><td>enzyme             </td></tr>\n",
       "</tbody>\n",
       "</table>\n"
      ],
      "text/latex": [
       "A tibble: 6 × 2\n",
       "\\begin{tabular}{ll}\n",
       " Genesymbol & summary\\\\\n",
       " <chr> & <chr>\\\\\n",
       "\\hline\n",
       "\t AATK  & enzyme             \\\\\n",
       "\t ABCB4 & transporter, enzyme\\\\\n",
       "\t ABCC3 & enzyme, transporter\\\\\n",
       "\t ACP3  & enzyme             \\\\\n",
       "\t ACSL1 & enzyme             \\\\\n",
       "\t ACSM3 & enzyme             \\\\\n",
       "\\end{tabular}\n"
      ],
      "text/markdown": [
       "\n",
       "A tibble: 6 × 2\n",
       "\n",
       "| Genesymbol &lt;chr&gt; | summary &lt;chr&gt; |\n",
       "|---|---|\n",
       "| AATK  | enzyme              |\n",
       "| ABCB4 | transporter, enzyme |\n",
       "| ABCC3 | enzyme, transporter |\n",
       "| ACP3  | enzyme              |\n",
       "| ACSL1 | enzyme              |\n",
       "| ACSM3 | enzyme              |\n",
       "\n"
      ],
      "text/plain": [
       "  Genesymbol summary            \n",
       "1 AATK       enzyme             \n",
       "2 ABCB4      transporter, enzyme\n",
       "3 ABCC3      enzyme, transporter\n",
       "4 ACP3       enzyme             \n",
       "5 ACSL1      enzyme             \n",
       "6 ACSM3      enzyme             "
      ]
     },
     "metadata": {},
     "output_type": "display_data"
    }
   ],
   "source": [
    "head (dc_test)"
   ]
  },
  {
   "cell_type": "code",
   "execution_count": 29,
   "id": "complicated-expansion",
   "metadata": {},
   "outputs": [],
   "source": [
    "mrg <- merge (x2, dc_test, by = \"Genesymbol\", all.x = T)"
   ]
  },
  {
   "cell_type": "code",
   "execution_count": 30,
   "id": "quality-guard",
   "metadata": {},
   "outputs": [],
   "source": [
    "#write.xlsx (dc_test, \"GOmatching_mf_dev_v3.xlsx\")\n",
    "#write.xlsx (mrg, \"GOmatching_mf_final_dev5.xlsx\")\n",
    "#write.xlsx (mrg, \"KWmatching_mf_dev3.xlsx\")\n",
    "#write.xlsx (mrg, \"KWmatching_mf_dev4.xlsx\")"
   ]
  },
  {
   "cell_type": "markdown",
   "id": "charming-liability",
   "metadata": {},
   "source": [
    "### now get GO mf (2nd script) and finalize"
   ]
  },
  {
   "cell_type": "code",
   "execution_count": 31,
   "id": "enabling-helmet",
   "metadata": {},
   "outputs": [],
   "source": [
    "x = read.table (\"./data/GO_mf_final.tsv\", sep = \"\\t\")"
   ]
  },
  {
   "cell_type": "code",
   "execution_count": 32,
   "id": "personalized-alias",
   "metadata": {},
   "outputs": [
    {
     "data": {
      "text/html": [
       "<table class=\"dataframe\">\n",
       "<caption>A data.frame: 6 × 5</caption>\n",
       "<thead>\n",
       "\t<tr><th></th><th scope=col>Genesymbol</th><th scope=col>description</th><th scope=col>howmany</th><th scope=col>summary</th><th scope=col>sum2</th></tr>\n",
       "\t<tr><th></th><th scope=col>&lt;chr&gt;</th><th scope=col>&lt;chr&gt;</th><th scope=col>&lt;int&gt;</th><th scope=col>&lt;chr&gt;</th><th scope=col>&lt;chr&gt;</th></tr>\n",
       "</thead>\n",
       "<tbody>\n",
       "\t<tr><th scope=row>1</th><td>A1BG  </td><td>alpha-1-B glycoprotein                         </td><td>0</td><td>NA</td><td>NA</td></tr>\n",
       "\t<tr><th scope=row>2</th><td>A2M   </td><td>alpha-2-macroglobulin                          </td><td>0</td><td>NA</td><td>NA</td></tr>\n",
       "\t<tr><th scope=row>3</th><td>A4GALT</td><td>alpha 1,4-galactosyltransferase (P blood group)</td><td>0</td><td>NA</td><td>NA</td></tr>\n",
       "\t<tr><th scope=row>4</th><td>AAAS  </td><td>aladin WD repeat nucleoporin                   </td><td>0</td><td>NA</td><td>NA</td></tr>\n",
       "\t<tr><th scope=row>5</th><td>AACS  </td><td>acetoacetyl-CoA synthetase                     </td><td>0</td><td>NA</td><td>NA</td></tr>\n",
       "\t<tr><th scope=row>6</th><td>AAGAB </td><td>alpha and gamma adaptin binding protein        </td><td>0</td><td>NA</td><td>NA</td></tr>\n",
       "</tbody>\n",
       "</table>\n"
      ],
      "text/latex": [
       "A data.frame: 6 × 5\n",
       "\\begin{tabular}{r|lllll}\n",
       "  & Genesymbol & description & howmany & summary & sum2\\\\\n",
       "  & <chr> & <chr> & <int> & <chr> & <chr>\\\\\n",
       "\\hline\n",
       "\t1 & A1BG   & alpha-1-B glycoprotein                          & 0 & NA & NA\\\\\n",
       "\t2 & A2M    & alpha-2-macroglobulin                           & 0 & NA & NA\\\\\n",
       "\t3 & A4GALT & alpha 1,4-galactosyltransferase (P blood group) & 0 & NA & NA\\\\\n",
       "\t4 & AAAS   & aladin WD repeat nucleoporin                    & 0 & NA & NA\\\\\n",
       "\t5 & AACS   & acetoacetyl-CoA synthetase                      & 0 & NA & NA\\\\\n",
       "\t6 & AAGAB  & alpha and gamma adaptin binding protein         & 0 & NA & NA\\\\\n",
       "\\end{tabular}\n"
      ],
      "text/markdown": [
       "\n",
       "A data.frame: 6 × 5\n",
       "\n",
       "| <!--/--> | Genesymbol &lt;chr&gt; | description &lt;chr&gt; | howmany &lt;int&gt; | summary &lt;chr&gt; | sum2 &lt;chr&gt; |\n",
       "|---|---|---|---|---|---|\n",
       "| 1 | A1BG   | alpha-1-B glycoprotein                          | 0 | NA | NA |\n",
       "| 2 | A2M    | alpha-2-macroglobulin                           | 0 | NA | NA |\n",
       "| 3 | A4GALT | alpha 1,4-galactosyltransferase (P blood group) | 0 | NA | NA |\n",
       "| 4 | AAAS   | aladin WD repeat nucleoporin                    | 0 | NA | NA |\n",
       "| 5 | AACS   | acetoacetyl-CoA synthetase                      | 0 | NA | NA |\n",
       "| 6 | AAGAB  | alpha and gamma adaptin binding protein         | 0 | NA | NA |\n",
       "\n"
      ],
      "text/plain": [
       "  Genesymbol description                                     howmany summary\n",
       "1 A1BG       alpha-1-B glycoprotein                          0       NA     \n",
       "2 A2M        alpha-2-macroglobulin                           0       NA     \n",
       "3 A4GALT     alpha 1,4-galactosyltransferase (P blood group) 0       NA     \n",
       "4 AAAS       aladin WD repeat nucleoporin                    0       NA     \n",
       "5 AACS       acetoacetyl-CoA synthetase                      0       NA     \n",
       "6 AAGAB      alpha and gamma adaptin binding protein         0       NA     \n",
       "  sum2\n",
       "1 NA  \n",
       "2 NA  \n",
       "3 NA  \n",
       "4 NA  \n",
       "5 NA  \n",
       "6 NA  "
      ]
     },
     "metadata": {},
     "output_type": "display_data"
    }
   ],
   "source": [
    "head (x)"
   ]
  },
  {
   "cell_type": "code",
   "execution_count": 33,
   "id": "scientific-mineral",
   "metadata": {},
   "outputs": [
    {
     "data": {
      "text/html": [
       "<table class=\"dataframe\">\n",
       "<caption>A data.frame: 6 × 5</caption>\n",
       "<thead>\n",
       "\t<tr><th></th><th scope=col>Genesymbol</th><th scope=col>description</th><th scope=col>howmany</th><th scope=col>GO_mf</th><th scope=col>sum2</th></tr>\n",
       "\t<tr><th></th><th scope=col>&lt;chr&gt;</th><th scope=col>&lt;chr&gt;</th><th scope=col>&lt;int&gt;</th><th scope=col>&lt;chr&gt;</th><th scope=col>&lt;chr&gt;</th></tr>\n",
       "</thead>\n",
       "<tbody>\n",
       "\t<tr><th scope=row>1</th><td>A1BG  </td><td>alpha-1-B glycoprotein                         </td><td>0</td><td>NA</td><td>NA</td></tr>\n",
       "\t<tr><th scope=row>2</th><td>A2M   </td><td>alpha-2-macroglobulin                          </td><td>0</td><td>NA</td><td>NA</td></tr>\n",
       "\t<tr><th scope=row>3</th><td>A4GALT</td><td>alpha 1,4-galactosyltransferase (P blood group)</td><td>0</td><td>NA</td><td>NA</td></tr>\n",
       "\t<tr><th scope=row>4</th><td>AAAS  </td><td>aladin WD repeat nucleoporin                   </td><td>0</td><td>NA</td><td>NA</td></tr>\n",
       "\t<tr><th scope=row>5</th><td>AACS  </td><td>acetoacetyl-CoA synthetase                     </td><td>0</td><td>NA</td><td>NA</td></tr>\n",
       "\t<tr><th scope=row>6</th><td>AAGAB </td><td>alpha and gamma adaptin binding protein        </td><td>0</td><td>NA</td><td>NA</td></tr>\n",
       "</tbody>\n",
       "</table>\n"
      ],
      "text/latex": [
       "A data.frame: 6 × 5\n",
       "\\begin{tabular}{r|lllll}\n",
       "  & Genesymbol & description & howmany & GO\\_mf & sum2\\\\\n",
       "  & <chr> & <chr> & <int> & <chr> & <chr>\\\\\n",
       "\\hline\n",
       "\t1 & A1BG   & alpha-1-B glycoprotein                          & 0 & NA & NA\\\\\n",
       "\t2 & A2M    & alpha-2-macroglobulin                           & 0 & NA & NA\\\\\n",
       "\t3 & A4GALT & alpha 1,4-galactosyltransferase (P blood group) & 0 & NA & NA\\\\\n",
       "\t4 & AAAS   & aladin WD repeat nucleoporin                    & 0 & NA & NA\\\\\n",
       "\t5 & AACS   & acetoacetyl-CoA synthetase                      & 0 & NA & NA\\\\\n",
       "\t6 & AAGAB  & alpha and gamma adaptin binding protein         & 0 & NA & NA\\\\\n",
       "\\end{tabular}\n"
      ],
      "text/markdown": [
       "\n",
       "A data.frame: 6 × 5\n",
       "\n",
       "| <!--/--> | Genesymbol &lt;chr&gt; | description &lt;chr&gt; | howmany &lt;int&gt; | GO_mf &lt;chr&gt; | sum2 &lt;chr&gt; |\n",
       "|---|---|---|---|---|---|\n",
       "| 1 | A1BG   | alpha-1-B glycoprotein                          | 0 | NA | NA |\n",
       "| 2 | A2M    | alpha-2-macroglobulin                           | 0 | NA | NA |\n",
       "| 3 | A4GALT | alpha 1,4-galactosyltransferase (P blood group) | 0 | NA | NA |\n",
       "| 4 | AAAS   | aladin WD repeat nucleoporin                    | 0 | NA | NA |\n",
       "| 5 | AACS   | acetoacetyl-CoA synthetase                      | 0 | NA | NA |\n",
       "| 6 | AAGAB  | alpha and gamma adaptin binding protein         | 0 | NA | NA |\n",
       "\n"
      ],
      "text/plain": [
       "  Genesymbol description                                     howmany GO_mf sum2\n",
       "1 A1BG       alpha-1-B glycoprotein                          0       NA    NA  \n",
       "2 A2M        alpha-2-macroglobulin                           0       NA    NA  \n",
       "3 A4GALT     alpha 1,4-galactosyltransferase (P blood group) 0       NA    NA  \n",
       "4 AAAS       aladin WD repeat nucleoporin                    0       NA    NA  \n",
       "5 AACS       acetoacetyl-CoA synthetase                      0       NA    NA  \n",
       "6 AAGAB      alpha and gamma adaptin binding protein         0       NA    NA  "
      ]
     },
     "metadata": {},
     "output_type": "display_data"
    }
   ],
   "source": [
    "x = x %>%\n",
    "rename (., GO_mf = summary)\n",
    "\n",
    "head (x)"
   ]
  },
  {
   "cell_type": "code",
   "execution_count": 34,
   "id": "changing-engineering",
   "metadata": {},
   "outputs": [
    {
     "data": {
      "text/html": [
       "<table class=\"dataframe\">\n",
       "<caption>A data.frame: 6 × 4</caption>\n",
       "<thead>\n",
       "\t<tr><th></th><th scope=col>Genesymbol</th><th scope=col>description</th><th scope=col>howmany</th><th scope=col>summary</th></tr>\n",
       "\t<tr><th></th><th scope=col>&lt;chr&gt;</th><th scope=col>&lt;chr&gt;</th><th scope=col>&lt;int&gt;</th><th scope=col>&lt;chr&gt;</th></tr>\n",
       "</thead>\n",
       "<tbody>\n",
       "\t<tr><th scope=row>1</th><td>A1BG  </td><td>alpha-1-B glycoprotein                         </td><td>0</td><td>NA</td></tr>\n",
       "\t<tr><th scope=row>2</th><td>A2M   </td><td>alpha-2-macroglobulin                          </td><td>0</td><td>NA</td></tr>\n",
       "\t<tr><th scope=row>3</th><td>A4GALT</td><td>alpha 1,4-galactosyltransferase (P blood group)</td><td>0</td><td>NA</td></tr>\n",
       "\t<tr><th scope=row>4</th><td>AAAS  </td><td>aladin WD repeat nucleoporin                   </td><td>0</td><td>NA</td></tr>\n",
       "\t<tr><th scope=row>5</th><td>AACS  </td><td>acetoacetyl-CoA synthetase                     </td><td>0</td><td>NA</td></tr>\n",
       "\t<tr><th scope=row>6</th><td>AAGAB </td><td>alpha and gamma adaptin binding protein        </td><td>0</td><td>NA</td></tr>\n",
       "</tbody>\n",
       "</table>\n"
      ],
      "text/latex": [
       "A data.frame: 6 × 4\n",
       "\\begin{tabular}{r|llll}\n",
       "  & Genesymbol & description & howmany & summary\\\\\n",
       "  & <chr> & <chr> & <int> & <chr>\\\\\n",
       "\\hline\n",
       "\t1 & A1BG   & alpha-1-B glycoprotein                          & 0 & NA\\\\\n",
       "\t2 & A2M    & alpha-2-macroglobulin                           & 0 & NA\\\\\n",
       "\t3 & A4GALT & alpha 1,4-galactosyltransferase (P blood group) & 0 & NA\\\\\n",
       "\t4 & AAAS   & aladin WD repeat nucleoporin                    & 0 & NA\\\\\n",
       "\t5 & AACS   & acetoacetyl-CoA synthetase                      & 0 & NA\\\\\n",
       "\t6 & AAGAB  & alpha and gamma adaptin binding protein         & 0 & NA\\\\\n",
       "\\end{tabular}\n"
      ],
      "text/markdown": [
       "\n",
       "A data.frame: 6 × 4\n",
       "\n",
       "| <!--/--> | Genesymbol &lt;chr&gt; | description &lt;chr&gt; | howmany &lt;int&gt; | summary &lt;chr&gt; |\n",
       "|---|---|---|---|---|\n",
       "| 1 | A1BG   | alpha-1-B glycoprotein                          | 0 | NA |\n",
       "| 2 | A2M    | alpha-2-macroglobulin                           | 0 | NA |\n",
       "| 3 | A4GALT | alpha 1,4-galactosyltransferase (P blood group) | 0 | NA |\n",
       "| 4 | AAAS   | aladin WD repeat nucleoporin                    | 0 | NA |\n",
       "| 5 | AACS   | acetoacetyl-CoA synthetase                      | 0 | NA |\n",
       "| 6 | AAGAB  | alpha and gamma adaptin binding protein         | 0 | NA |\n",
       "\n"
      ],
      "text/plain": [
       "  Genesymbol description                                     howmany summary\n",
       "1 A1BG       alpha-1-B glycoprotein                          0       NA     \n",
       "2 A2M        alpha-2-macroglobulin                           0       NA     \n",
       "3 A4GALT     alpha 1,4-galactosyltransferase (P blood group) 0       NA     \n",
       "4 AAAS       aladin WD repeat nucleoporin                    0       NA     \n",
       "5 AACS       acetoacetyl-CoA synthetase                      0       NA     \n",
       "6 AAGAB      alpha and gamma adaptin binding protein         0       NA     "
      ]
     },
     "metadata": {},
     "output_type": "display_data"
    }
   ],
   "source": [
    "head (mrg)"
   ]
  },
  {
   "cell_type": "code",
   "execution_count": 35,
   "id": "working-racing",
   "metadata": {},
   "outputs": [],
   "source": [
    "mrg2 = merge (mrg, x, by = \"Genesymbol\", all.x = T)"
   ]
  },
  {
   "cell_type": "code",
   "execution_count": 36,
   "id": "covered-helena",
   "metadata": {},
   "outputs": [],
   "source": [
    "mrg_sisa = mrg2 %>%\n",
    "mutate(.,\n",
    "       final_fct = case_when(\n",
    "         summary == \"\" ~ GO_mf,\n",
    "       TRUE ~ summary))"
   ]
  },
  {
   "cell_type": "code",
   "execution_count": 37,
   "id": "crazy-toner",
   "metadata": {},
   "outputs": [
    {
     "data": {
      "text/html": [
       "<table class=\"dataframe\">\n",
       "<caption>A data.frame: 6 × 9</caption>\n",
       "<thead>\n",
       "\t<tr><th></th><th scope=col>Genesymbol</th><th scope=col>description.x</th><th scope=col>howmany.x</th><th scope=col>summary</th><th scope=col>description.y</th><th scope=col>howmany.y</th><th scope=col>GO_mf</th><th scope=col>sum2</th><th scope=col>final_fct</th></tr>\n",
       "\t<tr><th></th><th scope=col>&lt;chr&gt;</th><th scope=col>&lt;chr&gt;</th><th scope=col>&lt;int&gt;</th><th scope=col>&lt;chr&gt;</th><th scope=col>&lt;chr&gt;</th><th scope=col>&lt;int&gt;</th><th scope=col>&lt;chr&gt;</th><th scope=col>&lt;chr&gt;</th><th scope=col>&lt;chr&gt;</th></tr>\n",
       "</thead>\n",
       "<tbody>\n",
       "\t<tr><th scope=row>1</th><td>A1BG  </td><td>alpha-1-B glycoprotein                         </td><td>0</td><td>NA</td><td>alpha-1-B glycoprotein                         </td><td>0</td><td>NA</td><td>NA</td><td>NA</td></tr>\n",
       "\t<tr><th scope=row>2</th><td>A2M   </td><td>alpha-2-macroglobulin                          </td><td>0</td><td>NA</td><td>alpha-2-macroglobulin                          </td><td>0</td><td>NA</td><td>NA</td><td>NA</td></tr>\n",
       "\t<tr><th scope=row>3</th><td>A4GALT</td><td>alpha 1,4-galactosyltransferase (P blood group)</td><td>0</td><td>NA</td><td>alpha 1,4-galactosyltransferase (P blood group)</td><td>0</td><td>NA</td><td>NA</td><td>NA</td></tr>\n",
       "\t<tr><th scope=row>4</th><td>AAAS  </td><td>aladin WD repeat nucleoporin                   </td><td>0</td><td>NA</td><td>aladin WD repeat nucleoporin                   </td><td>0</td><td>NA</td><td>NA</td><td>NA</td></tr>\n",
       "\t<tr><th scope=row>5</th><td>AACS  </td><td>acetoacetyl-CoA synthetase                     </td><td>0</td><td>NA</td><td>acetoacetyl-CoA synthetase                     </td><td>0</td><td>NA</td><td>NA</td><td>NA</td></tr>\n",
       "\t<tr><th scope=row>6</th><td>AAGAB </td><td>alpha and gamma adaptin binding protein        </td><td>0</td><td>NA</td><td>alpha and gamma adaptin binding protein        </td><td>0</td><td>NA</td><td>NA</td><td>NA</td></tr>\n",
       "</tbody>\n",
       "</table>\n"
      ],
      "text/latex": [
       "A data.frame: 6 × 9\n",
       "\\begin{tabular}{r|lllllllll}\n",
       "  & Genesymbol & description.x & howmany.x & summary & description.y & howmany.y & GO\\_mf & sum2 & final\\_fct\\\\\n",
       "  & <chr> & <chr> & <int> & <chr> & <chr> & <int> & <chr> & <chr> & <chr>\\\\\n",
       "\\hline\n",
       "\t1 & A1BG   & alpha-1-B glycoprotein                          & 0 & NA & alpha-1-B glycoprotein                          & 0 & NA & NA & NA\\\\\n",
       "\t2 & A2M    & alpha-2-macroglobulin                           & 0 & NA & alpha-2-macroglobulin                           & 0 & NA & NA & NA\\\\\n",
       "\t3 & A4GALT & alpha 1,4-galactosyltransferase (P blood group) & 0 & NA & alpha 1,4-galactosyltransferase (P blood group) & 0 & NA & NA & NA\\\\\n",
       "\t4 & AAAS   & aladin WD repeat nucleoporin                    & 0 & NA & aladin WD repeat nucleoporin                    & 0 & NA & NA & NA\\\\\n",
       "\t5 & AACS   & acetoacetyl-CoA synthetase                      & 0 & NA & acetoacetyl-CoA synthetase                      & 0 & NA & NA & NA\\\\\n",
       "\t6 & AAGAB  & alpha and gamma adaptin binding protein         & 0 & NA & alpha and gamma adaptin binding protein         & 0 & NA & NA & NA\\\\\n",
       "\\end{tabular}\n"
      ],
      "text/markdown": [
       "\n",
       "A data.frame: 6 × 9\n",
       "\n",
       "| <!--/--> | Genesymbol &lt;chr&gt; | description.x &lt;chr&gt; | howmany.x &lt;int&gt; | summary &lt;chr&gt; | description.y &lt;chr&gt; | howmany.y &lt;int&gt; | GO_mf &lt;chr&gt; | sum2 &lt;chr&gt; | final_fct &lt;chr&gt; |\n",
       "|---|---|---|---|---|---|---|---|---|---|\n",
       "| 1 | A1BG   | alpha-1-B glycoprotein                          | 0 | NA | alpha-1-B glycoprotein                          | 0 | NA | NA | NA |\n",
       "| 2 | A2M    | alpha-2-macroglobulin                           | 0 | NA | alpha-2-macroglobulin                           | 0 | NA | NA | NA |\n",
       "| 3 | A4GALT | alpha 1,4-galactosyltransferase (P blood group) | 0 | NA | alpha 1,4-galactosyltransferase (P blood group) | 0 | NA | NA | NA |\n",
       "| 4 | AAAS   | aladin WD repeat nucleoporin                    | 0 | NA | aladin WD repeat nucleoporin                    | 0 | NA | NA | NA |\n",
       "| 5 | AACS   | acetoacetyl-CoA synthetase                      | 0 | NA | acetoacetyl-CoA synthetase                      | 0 | NA | NA | NA |\n",
       "| 6 | AAGAB  | alpha and gamma adaptin binding protein         | 0 | NA | alpha and gamma adaptin binding protein         | 0 | NA | NA | NA |\n",
       "\n"
      ],
      "text/plain": [
       "  Genesymbol description.x                                   howmany.x summary\n",
       "1 A1BG       alpha-1-B glycoprotein                          0         NA     \n",
       "2 A2M        alpha-2-macroglobulin                           0         NA     \n",
       "3 A4GALT     alpha 1,4-galactosyltransferase (P blood group) 0         NA     \n",
       "4 AAAS       aladin WD repeat nucleoporin                    0         NA     \n",
       "5 AACS       acetoacetyl-CoA synthetase                      0         NA     \n",
       "6 AAGAB      alpha and gamma adaptin binding protein         0         NA     \n",
       "  description.y                                   howmany.y GO_mf sum2\n",
       "1 alpha-1-B glycoprotein                          0         NA    NA  \n",
       "2 alpha-2-macroglobulin                           0         NA    NA  \n",
       "3 alpha 1,4-galactosyltransferase (P blood group) 0         NA    NA  \n",
       "4 aladin WD repeat nucleoporin                    0         NA    NA  \n",
       "5 acetoacetyl-CoA synthetase                      0         NA    NA  \n",
       "6 alpha and gamma adaptin binding protein         0         NA    NA  \n",
       "  final_fct\n",
       "1 NA       \n",
       "2 NA       \n",
       "3 NA       \n",
       "4 NA       \n",
       "5 NA       \n",
       "6 NA       "
      ]
     },
     "metadata": {},
     "output_type": "display_data"
    }
   ],
   "source": [
    "head (mrg_sisa)"
   ]
  },
  {
   "cell_type": "code",
   "execution_count": 38,
   "id": "surprising-omega",
   "metadata": {},
   "outputs": [
    {
     "data": {
      "text/html": [
       "<table class=\"dataframe\">\n",
       "<caption>A tibble: 3 × 5</caption>\n",
       "<thead>\n",
       "\t<tr><th scope=col>Gene.names...primary..</th><th scope=col>Keywords</th><th scope=col>term</th><th scope=col>category</th><th scope=col>funct</th></tr>\n",
       "\t<tr><th scope=col>&lt;chr&gt;</th><th scope=col>&lt;chr&gt;</th><th scope=col>&lt;chr&gt;</th><th scope=col>&lt;chr&gt;</th><th scope=col>&lt;chr&gt;</th></tr>\n",
       "</thead>\n",
       "<tbody>\n",
       "\t<tr><td>MEFV</td><td>3D-structure;Actin-binding;Alternative splicing;Amyloidosis;Cell projection;Coiled coil;Cytoplasm;Cytoplasmic vesicle;Cytoskeleton;Disease variant;Immunity;Inflammatory response;Innate immunity;Metal-binding;Microtubule;Nucleus;Phosphoprotein;Reference proteome;Zinc;Zinc-finger</td><td>3D-structure        </td><td></td><td></td></tr>\n",
       "\t<tr><td>MEFV</td><td>3D-structure;Actin-binding;Alternative splicing;Amyloidosis;Cell projection;Coiled coil;Cytoplasm;Cytoplasmic vesicle;Cytoskeleton;Disease variant;Immunity;Inflammatory response;Innate immunity;Metal-binding;Microtubule;Nucleus;Phosphoprotein;Reference proteome;Zinc;Zinc-finger</td><td>Actin-binding       </td><td></td><td></td></tr>\n",
       "\t<tr><td>MEFV</td><td>3D-structure;Actin-binding;Alternative splicing;Amyloidosis;Cell projection;Coiled coil;Cytoplasm;Cytoplasmic vesicle;Cytoskeleton;Disease variant;Immunity;Inflammatory response;Innate immunity;Metal-binding;Microtubule;Nucleus;Phosphoprotein;Reference proteome;Zinc;Zinc-finger</td><td>Alternative splicing</td><td></td><td></td></tr>\n",
       "</tbody>\n",
       "</table>\n"
      ],
      "text/latex": [
       "A tibble: 3 × 5\n",
       "\\begin{tabular}{lllll}\n",
       " Gene.names...primary.. & Keywords & term & category & funct\\\\\n",
       " <chr> & <chr> & <chr> & <chr> & <chr>\\\\\n",
       "\\hline\n",
       "\t MEFV & 3D-structure;Actin-binding;Alternative splicing;Amyloidosis;Cell projection;Coiled coil;Cytoplasm;Cytoplasmic vesicle;Cytoskeleton;Disease variant;Immunity;Inflammatory response;Innate immunity;Metal-binding;Microtubule;Nucleus;Phosphoprotein;Reference proteome;Zinc;Zinc-finger & 3D-structure         &  & \\\\\n",
       "\t MEFV & 3D-structure;Actin-binding;Alternative splicing;Amyloidosis;Cell projection;Coiled coil;Cytoplasm;Cytoplasmic vesicle;Cytoskeleton;Disease variant;Immunity;Inflammatory response;Innate immunity;Metal-binding;Microtubule;Nucleus;Phosphoprotein;Reference proteome;Zinc;Zinc-finger & Actin-binding        &  & \\\\\n",
       "\t MEFV & 3D-structure;Actin-binding;Alternative splicing;Amyloidosis;Cell projection;Coiled coil;Cytoplasm;Cytoplasmic vesicle;Cytoskeleton;Disease variant;Immunity;Inflammatory response;Innate immunity;Metal-binding;Microtubule;Nucleus;Phosphoprotein;Reference proteome;Zinc;Zinc-finger & Alternative splicing &  & \\\\\n",
       "\\end{tabular}\n"
      ],
      "text/markdown": [
       "\n",
       "A tibble: 3 × 5\n",
       "\n",
       "| Gene.names...primary.. &lt;chr&gt; | Keywords &lt;chr&gt; | term &lt;chr&gt; | category &lt;chr&gt; | funct &lt;chr&gt; |\n",
       "|---|---|---|---|---|\n",
       "| MEFV | 3D-structure;Actin-binding;Alternative splicing;Amyloidosis;Cell projection;Coiled coil;Cytoplasm;Cytoplasmic vesicle;Cytoskeleton;Disease variant;Immunity;Inflammatory response;Innate immunity;Metal-binding;Microtubule;Nucleus;Phosphoprotein;Reference proteome;Zinc;Zinc-finger | 3D-structure         | <!----> | <!----> |\n",
       "| MEFV | 3D-structure;Actin-binding;Alternative splicing;Amyloidosis;Cell projection;Coiled coil;Cytoplasm;Cytoplasmic vesicle;Cytoskeleton;Disease variant;Immunity;Inflammatory response;Innate immunity;Metal-binding;Microtubule;Nucleus;Phosphoprotein;Reference proteome;Zinc;Zinc-finger | Actin-binding        | <!----> | <!----> |\n",
       "| MEFV | 3D-structure;Actin-binding;Alternative splicing;Amyloidosis;Cell projection;Coiled coil;Cytoplasm;Cytoplasmic vesicle;Cytoskeleton;Disease variant;Immunity;Inflammatory response;Innate immunity;Metal-binding;Microtubule;Nucleus;Phosphoprotein;Reference proteome;Zinc;Zinc-finger | Alternative splicing | <!----> | <!----> |\n",
       "\n"
      ],
      "text/plain": [
       "  Gene.names...primary..\n",
       "1 MEFV                  \n",
       "2 MEFV                  \n",
       "3 MEFV                  \n",
       "  Keywords                                                                                                                                                                                                                                                                              \n",
       "1 3D-structure;Actin-binding;Alternative splicing;Amyloidosis;Cell projection;Coiled coil;Cytoplasm;Cytoplasmic vesicle;Cytoskeleton;Disease variant;Immunity;Inflammatory response;Innate immunity;Metal-binding;Microtubule;Nucleus;Phosphoprotein;Reference proteome;Zinc;Zinc-finger\n",
       "2 3D-structure;Actin-binding;Alternative splicing;Amyloidosis;Cell projection;Coiled coil;Cytoplasm;Cytoplasmic vesicle;Cytoskeleton;Disease variant;Immunity;Inflammatory response;Innate immunity;Metal-binding;Microtubule;Nucleus;Phosphoprotein;Reference proteome;Zinc;Zinc-finger\n",
       "3 3D-structure;Actin-binding;Alternative splicing;Amyloidosis;Cell projection;Coiled coil;Cytoplasm;Cytoplasmic vesicle;Cytoskeleton;Disease variant;Immunity;Inflammatory response;Innate immunity;Metal-binding;Microtubule;Nucleus;Phosphoprotein;Reference proteome;Zinc;Zinc-finger\n",
       "  term                 category funct\n",
       "1 3D-structure                       \n",
       "2 Actin-binding                      \n",
       "3 Alternative splicing               "
      ]
     },
     "metadata": {},
     "output_type": "display_data"
    }
   ],
   "source": [
    "dc_v1$funct <- terms_KW$function.[match(dc_v1$term, terms_KW$term)]\n",
    "\n",
    "head (dc_v1, n =3)"
   ]
  },
  {
   "cell_type": "code",
   "execution_count": 39,
   "id": "apparent-prevention",
   "metadata": {},
   "outputs": [
    {
     "data": {
      "text/html": [
       "<style>\n",
       ".list-inline {list-style: none; margin:0; padding: 0}\n",
       ".list-inline>li {display: inline-block}\n",
       ".list-inline>li:not(:last-child)::after {content: \"\\00b7\"; padding: 0 .5ex}\n",
       "</style>\n",
       "<ol class=list-inline><li>662</li><li>2</li></ol>\n"
      ],
      "text/latex": [
       "\\begin{enumerate*}\n",
       "\\item 662\n",
       "\\item 2\n",
       "\\end{enumerate*}\n"
      ],
      "text/markdown": [
       "1. 662\n",
       "2. 2\n",
       "\n",
       "\n"
      ],
      "text/plain": [
       "[1] 662   2"
      ]
     },
     "metadata": {},
     "output_type": "display_data"
    },
    {
     "data": {
      "text/html": [
       "<table class=\"dataframe\">\n",
       "<caption>A tibble: 6 × 2</caption>\n",
       "<thead>\n",
       "\t<tr><th scope=col>Gene.names...primary..</th><th scope=col>summary_fct</th></tr>\n",
       "\t<tr><th scope=col>&lt;chr&gt;</th><th scope=col>&lt;chr&gt;</th></tr>\n",
       "</thead>\n",
       "<tbody>\n",
       "\t<tr><td>AATK </td><td>            </td></tr>\n",
       "\t<tr><td>ABCB4</td><td>            </td></tr>\n",
       "\t<tr><td>ABCC3</td><td>            </td></tr>\n",
       "\t<tr><td>ACP3 </td><td>            </td></tr>\n",
       "\t<tr><td>ACSL1</td><td>(metabolism)</td></tr>\n",
       "\t<tr><td>ACSM3</td><td>(metabolism)</td></tr>\n",
       "</tbody>\n",
       "</table>\n"
      ],
      "text/latex": [
       "A tibble: 6 × 2\n",
       "\\begin{tabular}{ll}\n",
       " Gene.names...primary.. & summary\\_fct\\\\\n",
       " <chr> & <chr>\\\\\n",
       "\\hline\n",
       "\t AATK  &             \\\\\n",
       "\t ABCB4 &             \\\\\n",
       "\t ABCC3 &             \\\\\n",
       "\t ACP3  &             \\\\\n",
       "\t ACSL1 & (metabolism)\\\\\n",
       "\t ACSM3 & (metabolism)\\\\\n",
       "\\end{tabular}\n"
      ],
      "text/markdown": [
       "\n",
       "A tibble: 6 × 2\n",
       "\n",
       "| Gene.names...primary.. &lt;chr&gt; | summary_fct &lt;chr&gt; |\n",
       "|---|---|\n",
       "| AATK  | <!----> |\n",
       "| ABCB4 | <!----> |\n",
       "| ABCC3 | <!----> |\n",
       "| ACP3  | <!----> |\n",
       "| ACSL1 | (metabolism) |\n",
       "| ACSM3 | (metabolism) |\n",
       "\n"
      ],
      "text/plain": [
       "  Gene.names...primary.. summary_fct \n",
       "1 AATK                               \n",
       "2 ABCB4                              \n",
       "3 ABCC3                              \n",
       "4 ACP3                               \n",
       "5 ACSL1                  (metabolism)\n",
       "6 ACSM3                  (metabolism)"
      ]
     },
     "metadata": {},
     "output_type": "display_data"
    }
   ],
   "source": [
    "dc_test = dc_v1 %>%\n",
    "group_by (Gene.names...primary..) %>% \n",
    " summarize(summary_fct = paste(unique (na.omit(funct)), collapse = \", \"))\n",
    "#summarise (GO_names = paste (category, collapse = \", \"))\n",
    "#head (dc_test)\n",
    "dim (dc_test)\n",
    "\n",
    "dc_test$summary_fct = str_trim(dc_test$summary_fct, side = c(\"both\"))\n",
    "\n",
    "dc_test$summary_fct <- str_replace_all(dc_test$summary_fct, \"^, \", \"\")\n",
    "dc_test$summary_fct <- str_replace_all(dc_test$summary_fct, \",$\", \"\")\n",
    "dc_test$summary_fct <- str_replace_all(dc_test$summary_fct, \", ,\", \", \") \n",
    "head (dc_test)"
   ]
  },
  {
   "cell_type": "code",
   "execution_count": 40,
   "id": "utility-explanation",
   "metadata": {},
   "outputs": [],
   "source": [
    "fct_only = dc_test %>%\n",
    "rename (., Genesymbol = Gene.names...primary..) "
   ]
  },
  {
   "cell_type": "code",
   "execution_count": 41,
   "id": "joint-fighter",
   "metadata": {},
   "outputs": [],
   "source": [
    "mrg_sisa_fct <- merge (mrg_sisa, fct_only, by= \"Genesymbol\")"
   ]
  },
  {
   "cell_type": "code",
   "execution_count": 42,
   "id": "thrown-cologne",
   "metadata": {},
   "outputs": [
    {
     "data": {
      "text/html": [
       "<table class=\"dataframe\">\n",
       "<caption>A data.frame: 6 × 10</caption>\n",
       "<thead>\n",
       "\t<tr><th></th><th scope=col>Genesymbol</th><th scope=col>description.x</th><th scope=col>howmany.x</th><th scope=col>summary</th><th scope=col>description.y</th><th scope=col>howmany.y</th><th scope=col>GO_mf</th><th scope=col>sum2</th><th scope=col>final_fct</th><th scope=col>summary_fct</th></tr>\n",
       "\t<tr><th></th><th scope=col>&lt;chr&gt;</th><th scope=col>&lt;chr&gt;</th><th scope=col>&lt;int&gt;</th><th scope=col>&lt;chr&gt;</th><th scope=col>&lt;chr&gt;</th><th scope=col>&lt;int&gt;</th><th scope=col>&lt;chr&gt;</th><th scope=col>&lt;chr&gt;</th><th scope=col>&lt;chr&gt;</th><th scope=col>&lt;chr&gt;</th></tr>\n",
       "</thead>\n",
       "<tbody>\n",
       "\t<tr><th scope=row>1</th><td>AATK </td><td>apoptosis associated tyrosine kinase            </td><td>1</td><td>enzyme             </td><td>apoptosis associated tyrosine kinase            </td><td>1</td><td>enzyme              </td><td>enzyme              </td><td>enzyme             </td><td>            </td></tr>\n",
       "\t<tr><th scope=row>2</th><td>ABCB4</td><td>ATP binding cassette subfamily B member 4       </td><td>1</td><td>transporter, enzyme</td><td>ATP binding cassette subfamily B member 4       </td><td>1</td><td>transporter         </td><td>transporter         </td><td>transporter, enzyme</td><td>            </td></tr>\n",
       "\t<tr><th scope=row>3</th><td>ABCC3</td><td>ATP binding cassette subfamily C member 3       </td><td>2</td><td>enzyme, transporter</td><td>ATP binding cassette subfamily C member 3       </td><td>2</td><td>transporter,  enzyme</td><td>transporter,  enzyme</td><td>enzyme, transporter</td><td>            </td></tr>\n",
       "\t<tr><th scope=row>4</th><td>ACP3 </td><td>acid phosphatase 3                              </td><td>1</td><td>enzyme             </td><td>acid phosphatase 3                              </td><td>1</td><td>enzyme              </td><td>enzyme,             </td><td>enzyme             </td><td>            </td></tr>\n",
       "\t<tr><th scope=row>5</th><td>ACSL1</td><td>acyl-CoA synthetase long chain family member 1  </td><td>1</td><td>enzyme             </td><td>acyl-CoA synthetase long chain family member 1  </td><td>1</td><td>enzyme              </td><td>enzyme,             </td><td>enzyme             </td><td>(metabolism)</td></tr>\n",
       "\t<tr><th scope=row>6</th><td>ACSM3</td><td>acyl-CoA synthetase medium chain family member 3</td><td>1</td><td>enzyme             </td><td>acyl-CoA synthetase medium chain family member 3</td><td>1</td><td>enzyme              </td><td>enzyme              </td><td>enzyme             </td><td>(metabolism)</td></tr>\n",
       "</tbody>\n",
       "</table>\n"
      ],
      "text/latex": [
       "A data.frame: 6 × 10\n",
       "\\begin{tabular}{r|llllllllll}\n",
       "  & Genesymbol & description.x & howmany.x & summary & description.y & howmany.y & GO\\_mf & sum2 & final\\_fct & summary\\_fct\\\\\n",
       "  & <chr> & <chr> & <int> & <chr> & <chr> & <int> & <chr> & <chr> & <chr> & <chr>\\\\\n",
       "\\hline\n",
       "\t1 & AATK  & apoptosis associated tyrosine kinase             & 1 & enzyme              & apoptosis associated tyrosine kinase             & 1 & enzyme               & enzyme               & enzyme              &             \\\\\n",
       "\t2 & ABCB4 & ATP binding cassette subfamily B member 4        & 1 & transporter, enzyme & ATP binding cassette subfamily B member 4        & 1 & transporter          & transporter          & transporter, enzyme &             \\\\\n",
       "\t3 & ABCC3 & ATP binding cassette subfamily C member 3        & 2 & enzyme, transporter & ATP binding cassette subfamily C member 3        & 2 & transporter,  enzyme & transporter,  enzyme & enzyme, transporter &             \\\\\n",
       "\t4 & ACP3  & acid phosphatase 3                               & 1 & enzyme              & acid phosphatase 3                               & 1 & enzyme               & enzyme,              & enzyme              &             \\\\\n",
       "\t5 & ACSL1 & acyl-CoA synthetase long chain family member 1   & 1 & enzyme              & acyl-CoA synthetase long chain family member 1   & 1 & enzyme               & enzyme,              & enzyme              & (metabolism)\\\\\n",
       "\t6 & ACSM3 & acyl-CoA synthetase medium chain family member 3 & 1 & enzyme              & acyl-CoA synthetase medium chain family member 3 & 1 & enzyme               & enzyme               & enzyme              & (metabolism)\\\\\n",
       "\\end{tabular}\n"
      ],
      "text/markdown": [
       "\n",
       "A data.frame: 6 × 10\n",
       "\n",
       "| <!--/--> | Genesymbol &lt;chr&gt; | description.x &lt;chr&gt; | howmany.x &lt;int&gt; | summary &lt;chr&gt; | description.y &lt;chr&gt; | howmany.y &lt;int&gt; | GO_mf &lt;chr&gt; | sum2 &lt;chr&gt; | final_fct &lt;chr&gt; | summary_fct &lt;chr&gt; |\n",
       "|---|---|---|---|---|---|---|---|---|---|---|\n",
       "| 1 | AATK  | apoptosis associated tyrosine kinase             | 1 | enzyme              | apoptosis associated tyrosine kinase             | 1 | enzyme               | enzyme               | enzyme              | <!----> |\n",
       "| 2 | ABCB4 | ATP binding cassette subfamily B member 4        | 1 | transporter, enzyme | ATP binding cassette subfamily B member 4        | 1 | transporter          | transporter          | transporter, enzyme | <!----> |\n",
       "| 3 | ABCC3 | ATP binding cassette subfamily C member 3        | 2 | enzyme, transporter | ATP binding cassette subfamily C member 3        | 2 | transporter,  enzyme | transporter,  enzyme | enzyme, transporter | <!----> |\n",
       "| 4 | ACP3  | acid phosphatase 3                               | 1 | enzyme              | acid phosphatase 3                               | 1 | enzyme               | enzyme,              | enzyme              | <!----> |\n",
       "| 5 | ACSL1 | acyl-CoA synthetase long chain family member 1   | 1 | enzyme              | acyl-CoA synthetase long chain family member 1   | 1 | enzyme               | enzyme,              | enzyme              | (metabolism) |\n",
       "| 6 | ACSM3 | acyl-CoA synthetase medium chain family member 3 | 1 | enzyme              | acyl-CoA synthetase medium chain family member 3 | 1 | enzyme               | enzyme               | enzyme              | (metabolism) |\n",
       "\n"
      ],
      "text/plain": [
       "  Genesymbol description.x                                    howmany.x\n",
       "1 AATK       apoptosis associated tyrosine kinase             1        \n",
       "2 ABCB4      ATP binding cassette subfamily B member 4        1        \n",
       "3 ABCC3      ATP binding cassette subfamily C member 3        2        \n",
       "4 ACP3       acid phosphatase 3                               1        \n",
       "5 ACSL1      acyl-CoA synthetase long chain family member 1   1        \n",
       "6 ACSM3      acyl-CoA synthetase medium chain family member 3 1        \n",
       "  summary             description.y                                   \n",
       "1 enzyme              apoptosis associated tyrosine kinase            \n",
       "2 transporter, enzyme ATP binding cassette subfamily B member 4       \n",
       "3 enzyme, transporter ATP binding cassette subfamily C member 3       \n",
       "4 enzyme              acid phosphatase 3                              \n",
       "5 enzyme              acyl-CoA synthetase long chain family member 1  \n",
       "6 enzyme              acyl-CoA synthetase medium chain family member 3\n",
       "  howmany.y GO_mf                sum2                 final_fct          \n",
       "1 1         enzyme               enzyme               enzyme             \n",
       "2 1         transporter          transporter          transporter, enzyme\n",
       "3 2         transporter,  enzyme transporter,  enzyme enzyme, transporter\n",
       "4 1         enzyme               enzyme,              enzyme             \n",
       "5 1         enzyme               enzyme,              enzyme             \n",
       "6 1         enzyme               enzyme               enzyme             \n",
       "  summary_fct \n",
       "1             \n",
       "2             \n",
       "3             \n",
       "4             \n",
       "5 (metabolism)\n",
       "6 (metabolism)"
      ]
     },
     "metadata": {},
     "output_type": "display_data"
    }
   ],
   "source": [
    "head (mrg_sisa_fct)\n",
    "\n",
    "#paste0 together but keep only non repeating terms.."
   ]
  },
  {
   "cell_type": "code",
   "execution_count": 43,
   "id": "welcome-edinburgh",
   "metadata": {},
   "outputs": [],
   "source": [
    "x <- read.table (\"./data/f_time2020_inlog_FC15_FC2_evidence-threshold.tsv\", sep = '\\t', header = T, row.names =1)"
   ]
  },
  {
   "cell_type": "code",
   "execution_count": 44,
   "id": "accepting-mobile",
   "metadata": {},
   "outputs": [],
   "source": [
    "x = x %>%\n",
    "rownames_to_column (\"Genesymbol\")\n",
    "\n",
    "#head (x)\n",
    "\n",
    "x2 = x %>%\n",
    "select (c(Genesymbol, description, howmany))"
   ]
  },
  {
   "cell_type": "code",
   "execution_count": 45,
   "id": "unique-battery",
   "metadata": {},
   "outputs": [],
   "source": [
    "mrg3 = merge (x2, mrg_sisa_fct, by = \"Genesymbol\", all.x = T)"
   ]
  },
  {
   "cell_type": "code",
   "execution_count": 46,
   "id": "coordinate-milan",
   "metadata": {},
   "outputs": [
    {
     "data": {
      "text/html": [
       "<style>\n",
       ".list-inline {list-style: none; margin:0; padding: 0}\n",
       ".list-inline>li {display: inline-block}\n",
       ".list-inline>li:not(:last-child)::after {content: \"\\00b7\"; padding: 0 .5ex}\n",
       "</style>\n",
       "<ol class=list-inline><li>12305</li><li>12</li></ol>\n"
      ],
      "text/latex": [
       "\\begin{enumerate*}\n",
       "\\item 12305\n",
       "\\item 12\n",
       "\\end{enumerate*}\n"
      ],
      "text/markdown": [
       "1. 12305\n",
       "2. 12\n",
       "\n",
       "\n"
      ],
      "text/plain": [
       "[1] 12305    12"
      ]
     },
     "metadata": {},
     "output_type": "display_data"
    }
   ],
   "source": [
    "dim (mrg3)"
   ]
  },
  {
   "cell_type": "code",
   "execution_count": 47,
   "id": "steady-apache",
   "metadata": {},
   "outputs": [
    {
     "data": {
      "text/html": [
       "<table class=\"dataframe\">\n",
       "<caption>A data.frame: 6 × 12</caption>\n",
       "<thead>\n",
       "\t<tr><th></th><th scope=col>Genesymbol</th><th scope=col>description</th><th scope=col>howmany</th><th scope=col>description.x</th><th scope=col>howmany.x</th><th scope=col>summary</th><th scope=col>description.y</th><th scope=col>howmany.y</th><th scope=col>GO_mf</th><th scope=col>sum2</th><th scope=col>final_fct</th><th scope=col>summary_fct</th></tr>\n",
       "\t<tr><th></th><th scope=col>&lt;chr&gt;</th><th scope=col>&lt;chr&gt;</th><th scope=col>&lt;int&gt;</th><th scope=col>&lt;chr&gt;</th><th scope=col>&lt;int&gt;</th><th scope=col>&lt;chr&gt;</th><th scope=col>&lt;chr&gt;</th><th scope=col>&lt;int&gt;</th><th scope=col>&lt;chr&gt;</th><th scope=col>&lt;chr&gt;</th><th scope=col>&lt;chr&gt;</th><th scope=col>&lt;chr&gt;</th></tr>\n",
       "</thead>\n",
       "<tbody>\n",
       "\t<tr><th scope=row>1</th><td>ACVR1B </td><td>activin A receptor type 1B                      </td><td>4</td><td>activin A receptor type 1B                      </td><td>4</td><td>enzyme, receptor       </td><td>activin A receptor type 1B                      </td><td>4</td><td>receptor, enzyme</td><td>receptor, enzyme</td><td>enzyme, receptor       </td><td>           </td></tr>\n",
       "\t<tr><th scope=row>2</th><td>CLMN   </td><td>calmin                                          </td><td>4</td><td>calmin                                          </td><td>4</td><td>                       </td><td>calmin                                          </td><td>4</td><td>                </td><td>                </td><td>                       </td><td>           </td></tr>\n",
       "\t<tr><th scope=row>3</th><td>CYP24A1</td><td>cytochrome P450 family 24 subfamily A member 1  </td><td>4</td><td>cytochrome P450 family 24 subfamily A member 1  </td><td>4</td><td>enzyme                 </td><td>cytochrome P450 family 24 subfamily A member 1  </td><td>4</td><td>enzyme          </td><td>enzyme,         </td><td>enzyme                 </td><td>           </td></tr>\n",
       "\t<tr><th scope=row>4</th><td>ENTPD7 </td><td>ectonucleoside triphosphate diphosphohydrolase 7</td><td>4</td><td>ectonucleoside triphosphate diphosphohydrolase 7</td><td>4</td><td>enzyme                 </td><td>ectonucleoside triphosphate diphosphohydrolase 7</td><td>4</td><td>enzyme          </td><td>enzyme,         </td><td>enzyme                 </td><td>           </td></tr>\n",
       "\t<tr><th scope=row>5</th><td>G0S2   </td><td>G0/G1 switch 2                                  </td><td>4</td><td>G0/G1 switch 2                                  </td><td>4</td><td>                       </td><td>G0/G1 switch 2                                  </td><td>4</td><td>                </td><td>                </td><td>                       </td><td>(apoptosis)</td></tr>\n",
       "\t<tr><th scope=row>6</th><td>HBEGF  </td><td>heparin binding EGF like growth factor          </td><td>4</td><td>heparin binding EGF like growth factor          </td><td>4</td><td>growth factor, receptor</td><td>heparin binding EGF like growth factor          </td><td>4</td><td>growth factor   </td><td>growth factor   </td><td>growth factor, receptor</td><td>           </td></tr>\n",
       "</tbody>\n",
       "</table>\n"
      ],
      "text/latex": [
       "A data.frame: 6 × 12\n",
       "\\begin{tabular}{r|llllllllllll}\n",
       "  & Genesymbol & description & howmany & description.x & howmany.x & summary & description.y & howmany.y & GO\\_mf & sum2 & final\\_fct & summary\\_fct\\\\\n",
       "  & <chr> & <chr> & <int> & <chr> & <int> & <chr> & <chr> & <int> & <chr> & <chr> & <chr> & <chr>\\\\\n",
       "\\hline\n",
       "\t1 & ACVR1B  & activin A receptor type 1B                       & 4 & activin A receptor type 1B                       & 4 & enzyme, receptor        & activin A receptor type 1B                       & 4 & receptor, enzyme & receptor, enzyme & enzyme, receptor        &            \\\\\n",
       "\t2 & CLMN    & calmin                                           & 4 & calmin                                           & 4 &                         & calmin                                           & 4 &                  &                  &                         &            \\\\\n",
       "\t3 & CYP24A1 & cytochrome P450 family 24 subfamily A member 1   & 4 & cytochrome P450 family 24 subfamily A member 1   & 4 & enzyme                  & cytochrome P450 family 24 subfamily A member 1   & 4 & enzyme           & enzyme,          & enzyme                  &            \\\\\n",
       "\t4 & ENTPD7  & ectonucleoside triphosphate diphosphohydrolase 7 & 4 & ectonucleoside triphosphate diphosphohydrolase 7 & 4 & enzyme                  & ectonucleoside triphosphate diphosphohydrolase 7 & 4 & enzyme           & enzyme,          & enzyme                  &            \\\\\n",
       "\t5 & G0S2    & G0/G1 switch 2                                   & 4 & G0/G1 switch 2                                   & 4 &                         & G0/G1 switch 2                                   & 4 &                  &                  &                         & (apoptosis)\\\\\n",
       "\t6 & HBEGF   & heparin binding EGF like growth factor           & 4 & heparin binding EGF like growth factor           & 4 & growth factor, receptor & heparin binding EGF like growth factor           & 4 & growth factor    & growth factor    & growth factor, receptor &            \\\\\n",
       "\\end{tabular}\n"
      ],
      "text/markdown": [
       "\n",
       "A data.frame: 6 × 12\n",
       "\n",
       "| <!--/--> | Genesymbol &lt;chr&gt; | description &lt;chr&gt; | howmany &lt;int&gt; | description.x &lt;chr&gt; | howmany.x &lt;int&gt; | summary &lt;chr&gt; | description.y &lt;chr&gt; | howmany.y &lt;int&gt; | GO_mf &lt;chr&gt; | sum2 &lt;chr&gt; | final_fct &lt;chr&gt; | summary_fct &lt;chr&gt; |\n",
       "|---|---|---|---|---|---|---|---|---|---|---|---|---|\n",
       "| 1 | ACVR1B  | activin A receptor type 1B                       | 4 | activin A receptor type 1B                       | 4 | enzyme, receptor        | activin A receptor type 1B                       | 4 | receptor, enzyme | receptor, enzyme | enzyme, receptor        | <!----> |\n",
       "| 2 | CLMN    | calmin                                           | 4 | calmin                                           | 4 | <!----> | calmin                                           | 4 | <!----> | <!----> | <!----> | <!----> |\n",
       "| 3 | CYP24A1 | cytochrome P450 family 24 subfamily A member 1   | 4 | cytochrome P450 family 24 subfamily A member 1   | 4 | enzyme                  | cytochrome P450 family 24 subfamily A member 1   | 4 | enzyme           | enzyme,          | enzyme                  | <!----> |\n",
       "| 4 | ENTPD7  | ectonucleoside triphosphate diphosphohydrolase 7 | 4 | ectonucleoside triphosphate diphosphohydrolase 7 | 4 | enzyme                  | ectonucleoside triphosphate diphosphohydrolase 7 | 4 | enzyme           | enzyme,          | enzyme                  | <!----> |\n",
       "| 5 | G0S2    | G0/G1 switch 2                                   | 4 | G0/G1 switch 2                                   | 4 | <!----> | G0/G1 switch 2                                   | 4 | <!----> | <!----> | <!----> | (apoptosis) |\n",
       "| 6 | HBEGF   | heparin binding EGF like growth factor           | 4 | heparin binding EGF like growth factor           | 4 | growth factor, receptor | heparin binding EGF like growth factor           | 4 | growth factor    | growth factor    | growth factor, receptor | <!----> |\n",
       "\n"
      ],
      "text/plain": [
       "  Genesymbol description                                      howmany\n",
       "1 ACVR1B     activin A receptor type 1B                       4      \n",
       "2 CLMN       calmin                                           4      \n",
       "3 CYP24A1    cytochrome P450 family 24 subfamily A member 1   4      \n",
       "4 ENTPD7     ectonucleoside triphosphate diphosphohydrolase 7 4      \n",
       "5 G0S2       G0/G1 switch 2                                   4      \n",
       "6 HBEGF      heparin binding EGF like growth factor           4      \n",
       "  description.x                                    howmany.x\n",
       "1 activin A receptor type 1B                       4        \n",
       "2 calmin                                           4        \n",
       "3 cytochrome P450 family 24 subfamily A member 1   4        \n",
       "4 ectonucleoside triphosphate diphosphohydrolase 7 4        \n",
       "5 G0/G1 switch 2                                   4        \n",
       "6 heparin binding EGF like growth factor           4        \n",
       "  summary                 description.y                                   \n",
       "1 enzyme, receptor        activin A receptor type 1B                      \n",
       "2                         calmin                                          \n",
       "3 enzyme                  cytochrome P450 family 24 subfamily A member 1  \n",
       "4 enzyme                  ectonucleoside triphosphate diphosphohydrolase 7\n",
       "5                         G0/G1 switch 2                                  \n",
       "6 growth factor, receptor heparin binding EGF like growth factor          \n",
       "  howmany.y GO_mf            sum2             final_fct              \n",
       "1 4         receptor, enzyme receptor, enzyme enzyme, receptor       \n",
       "2 4                                                                  \n",
       "3 4         enzyme           enzyme,          enzyme                 \n",
       "4 4         enzyme           enzyme,          enzyme                 \n",
       "5 4                                                                  \n",
       "6 4         growth factor    growth factor    growth factor, receptor\n",
       "  summary_fct\n",
       "1            \n",
       "2            \n",
       "3            \n",
       "4            \n",
       "5 (apoptosis)\n",
       "6            "
      ]
     },
     "metadata": {},
     "output_type": "display_data"
    }
   ],
   "source": [
    "mrg3 %>%\n",
    "arrange(desc(howmany))%>%\n",
    "head()"
   ]
  },
  {
   "cell_type": "code",
   "execution_count": 48,
   "id": "convenient-upset",
   "metadata": {},
   "outputs": [],
   "source": [
    "#write.xlsx (mrg3, \"fct-final_v3.xlsx\")"
   ]
  }
 ],
 "metadata": {
  "kernelspec": {
   "display_name": "R",
   "language": "R",
   "name": "ir"
  },
  "language_info": {
   "codemirror_mode": "r",
   "file_extension": ".r",
   "mimetype": "text/x-r-source",
   "name": "R",
   "pygments_lexer": "r",
   "version": "4.0.5"
  }
 },
 "nbformat": 4,
 "nbformat_minor": 5
}
